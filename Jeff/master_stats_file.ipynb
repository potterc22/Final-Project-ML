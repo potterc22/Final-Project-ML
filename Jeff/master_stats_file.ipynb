{
 "metadata": {
  "language_info": {
   "codemirror_mode": {
    "name": "ipython",
    "version": 3
   },
   "file_extension": ".py",
   "mimetype": "text/x-python",
   "name": "python",
   "nbconvert_exporter": "python",
   "pygments_lexer": "ipython3",
   "version": "3.6.10-final"
  },
  "orig_nbformat": 2,
  "kernelspec": {
   "name": "python361064bitbcsconda9956bb7450484f49881ea0c9e482447b",
   "display_name": "Python 3.6.10 64-bit ('bcs': conda)",
   "language": "python"
  }
 },
 "nbformat": 4,
 "nbformat_minor": 2,
 "cells": [
  {
   "source": [
    "Create Master Statistics File by Joining the Stats, Awards, and Hof files"
   ],
   "cell_type": "markdown",
   "metadata": {}
  },
  {
   "cell_type": "code",
   "execution_count": 17,
   "metadata": {},
   "outputs": [],
   "source": [
    "# Import pandas\n",
    "import pandas as pd\n",
    "import numpy as np"
   ]
  },
  {
   "cell_type": "code",
   "execution_count": 18,
   "metadata": {},
   "outputs": [],
   "source": [
    "# Assign file paths to variable and read csv into pandas\n",
    "file_one = \"Output/career_stats_adj.csv\"\n",
    "file_two = \"Output/awards_adj.csv\"\n",
    "file_three = \"Output/hof_adj.csv\"\n",
    "master_stats_df = pd.read_csv(file_one, encoding=\"ISO-8859-1\")\n",
    "master_awards_df = pd.read_csv(file_two, encoding=\"ISO-8859-1\")\n",
    "master_hof_df = pd.read_csv(file_three)"
   ]
  },
  {
   "cell_type": "code",
   "execution_count": 19,
   "metadata": {},
   "outputs": [
    {
     "output_type": "execute_result",
     "data": {
      "text/plain": [
       "       ï»¿Player    GP    G     A    TP    PPG   PIM  Years POS  firstYear  \\\n",
       "0  Wayne Gretzky  1487  894  1963  2857  1.921   577     20   C       1979   \n",
       "1   Jaromir Jagr  1733  766  1155  1921  1.108  1167     24  RW       1990   \n",
       "2   Mark Messier  1756  694  1193  1887  1.075  1910     25   C       1979   \n",
       "3    Gordie Howe  1767  801  1049  1850  1.047  1685     26  RW       1946   \n",
       "4    Ron Francis  1731  549  1249  1798  1.039   979     23   C       1981   \n",
       "\n",
       "   lastYear  \n",
       "0      1999  \n",
       "1      2018  \n",
       "2      2004  \n",
       "3      1980  \n",
       "4      2004  "
      ],
      "text/html": "<div>\n<style scoped>\n    .dataframe tbody tr th:only-of-type {\n        vertical-align: middle;\n    }\n\n    .dataframe tbody tr th {\n        vertical-align: top;\n    }\n\n    .dataframe thead th {\n        text-align: right;\n    }\n</style>\n<table border=\"1\" class=\"dataframe\">\n  <thead>\n    <tr style=\"text-align: right;\">\n      <th></th>\n      <th>ï»¿Player</th>\n      <th>GP</th>\n      <th>G</th>\n      <th>A</th>\n      <th>TP</th>\n      <th>PPG</th>\n      <th>PIM</th>\n      <th>Years</th>\n      <th>POS</th>\n      <th>firstYear</th>\n      <th>lastYear</th>\n    </tr>\n  </thead>\n  <tbody>\n    <tr>\n      <th>0</th>\n      <td>Wayne Gretzky</td>\n      <td>1487</td>\n      <td>894</td>\n      <td>1963</td>\n      <td>2857</td>\n      <td>1.921</td>\n      <td>577</td>\n      <td>20</td>\n      <td>C</td>\n      <td>1979</td>\n      <td>1999</td>\n    </tr>\n    <tr>\n      <th>1</th>\n      <td>Jaromir Jagr</td>\n      <td>1733</td>\n      <td>766</td>\n      <td>1155</td>\n      <td>1921</td>\n      <td>1.108</td>\n      <td>1167</td>\n      <td>24</td>\n      <td>RW</td>\n      <td>1990</td>\n      <td>2018</td>\n    </tr>\n    <tr>\n      <th>2</th>\n      <td>Mark Messier</td>\n      <td>1756</td>\n      <td>694</td>\n      <td>1193</td>\n      <td>1887</td>\n      <td>1.075</td>\n      <td>1910</td>\n      <td>25</td>\n      <td>C</td>\n      <td>1979</td>\n      <td>2004</td>\n    </tr>\n    <tr>\n      <th>3</th>\n      <td>Gordie Howe</td>\n      <td>1767</td>\n      <td>801</td>\n      <td>1049</td>\n      <td>1850</td>\n      <td>1.047</td>\n      <td>1685</td>\n      <td>26</td>\n      <td>RW</td>\n      <td>1946</td>\n      <td>1980</td>\n    </tr>\n    <tr>\n      <th>4</th>\n      <td>Ron Francis</td>\n      <td>1731</td>\n      <td>549</td>\n      <td>1249</td>\n      <td>1798</td>\n      <td>1.039</td>\n      <td>979</td>\n      <td>23</td>\n      <td>C</td>\n      <td>1981</td>\n      <td>2004</td>\n    </tr>\n  </tbody>\n</table>\n</div>"
     },
     "metadata": {},
     "execution_count": 19
    }
   ],
   "source": [
    "master_stats_df.head()"
   ]
  },
  {
   "cell_type": "code",
   "execution_count": 20,
   "metadata": {},
   "outputs": [
    {
     "output_type": "execute_result",
     "data": {
      "text/plain": [
       "               Player  Art Ross Awards  Conn Smythe Awards  Hart Awards  \\\n",
       "0          Ace Bailey                1                   0            0   \n",
       "1  Alexander Ovechkin                1                   1            3   \n",
       "2            Babe Dye                2                   0            0   \n",
       "3   Bernard Geoffrion                2                   0            1   \n",
       "4           Bill Cook                2                   0            0   \n",
       "\n",
       "   Calder Awards  James Norris Awards  Ted Lindsay Awards  \\\n",
       "0              0                    0                   0   \n",
       "1              1                    0                   3   \n",
       "2              0                    0                   0   \n",
       "3              1                    0                   0   \n",
       "4              0                    0                   0   \n",
       "\n",
       "   Maurice Richard Awards  Cups  All-Star Games  \n",
       "0                       0     1               0  \n",
       "1                       9     1               7  \n",
       "2                       0     1               0  \n",
       "3                       0     0              11  \n",
       "4                       0     2               0  "
      ],
      "text/html": "<div>\n<style scoped>\n    .dataframe tbody tr th:only-of-type {\n        vertical-align: middle;\n    }\n\n    .dataframe tbody tr th {\n        vertical-align: top;\n    }\n\n    .dataframe thead th {\n        text-align: right;\n    }\n</style>\n<table border=\"1\" class=\"dataframe\">\n  <thead>\n    <tr style=\"text-align: right;\">\n      <th></th>\n      <th>Player</th>\n      <th>Art Ross Awards</th>\n      <th>Conn Smythe Awards</th>\n      <th>Hart Awards</th>\n      <th>Calder Awards</th>\n      <th>James Norris Awards</th>\n      <th>Ted Lindsay Awards</th>\n      <th>Maurice Richard Awards</th>\n      <th>Cups</th>\n      <th>All-Star Games</th>\n    </tr>\n  </thead>\n  <tbody>\n    <tr>\n      <th>0</th>\n      <td>Ace Bailey</td>\n      <td>1</td>\n      <td>0</td>\n      <td>0</td>\n      <td>0</td>\n      <td>0</td>\n      <td>0</td>\n      <td>0</td>\n      <td>1</td>\n      <td>0</td>\n    </tr>\n    <tr>\n      <th>1</th>\n      <td>Alexander Ovechkin</td>\n      <td>1</td>\n      <td>1</td>\n      <td>3</td>\n      <td>1</td>\n      <td>0</td>\n      <td>3</td>\n      <td>9</td>\n      <td>1</td>\n      <td>7</td>\n    </tr>\n    <tr>\n      <th>2</th>\n      <td>Babe Dye</td>\n      <td>2</td>\n      <td>0</td>\n      <td>0</td>\n      <td>0</td>\n      <td>0</td>\n      <td>0</td>\n      <td>0</td>\n      <td>1</td>\n      <td>0</td>\n    </tr>\n    <tr>\n      <th>3</th>\n      <td>Bernard Geoffrion</td>\n      <td>2</td>\n      <td>0</td>\n      <td>1</td>\n      <td>1</td>\n      <td>0</td>\n      <td>0</td>\n      <td>0</td>\n      <td>0</td>\n      <td>11</td>\n    </tr>\n    <tr>\n      <th>4</th>\n      <td>Bill Cook</td>\n      <td>2</td>\n      <td>0</td>\n      <td>0</td>\n      <td>0</td>\n      <td>0</td>\n      <td>0</td>\n      <td>0</td>\n      <td>2</td>\n      <td>0</td>\n    </tr>\n  </tbody>\n</table>\n</div>"
     },
     "metadata": {},
     "execution_count": 20
    }
   ],
   "source": [
    "master_awards_df.head()"
   ]
  },
  {
   "cell_type": "code",
   "execution_count": 21,
   "metadata": {},
   "outputs": [
    {
     "output_type": "execute_result",
     "data": {
      "text/plain": [
       "             Player  HoF\n",
       "0       Hobey Baker    1\n",
       "1  Charlie Gardiner    1\n",
       "2      Eddie Gerard    1\n",
       "3       Frank McGee    1\n",
       "4      Howie Morenz    1"
      ],
      "text/html": "<div>\n<style scoped>\n    .dataframe tbody tr th:only-of-type {\n        vertical-align: middle;\n    }\n\n    .dataframe tbody tr th {\n        vertical-align: top;\n    }\n\n    .dataframe thead th {\n        text-align: right;\n    }\n</style>\n<table border=\"1\" class=\"dataframe\">\n  <thead>\n    <tr style=\"text-align: right;\">\n      <th></th>\n      <th>Player</th>\n      <th>HoF</th>\n    </tr>\n  </thead>\n  <tbody>\n    <tr>\n      <th>0</th>\n      <td>Hobey Baker</td>\n      <td>1</td>\n    </tr>\n    <tr>\n      <th>1</th>\n      <td>Charlie Gardiner</td>\n      <td>1</td>\n    </tr>\n    <tr>\n      <th>2</th>\n      <td>Eddie Gerard</td>\n      <td>1</td>\n    </tr>\n    <tr>\n      <th>3</th>\n      <td>Frank McGee</td>\n      <td>1</td>\n    </tr>\n    <tr>\n      <th>4</th>\n      <td>Howie Morenz</td>\n      <td>1</td>\n    </tr>\n  </tbody>\n</table>\n</div>"
     },
     "metadata": {},
     "execution_count": 21
    }
   ],
   "source": [
    "master_hof_df.head()"
   ]
  },
  {
   "source": [
    "Merge the awards and hof files to the stats file by left join."
   ],
   "cell_type": "markdown",
   "metadata": {}
  },
  {
   "cell_type": "code",
   "execution_count": 22,
   "metadata": {},
   "outputs": [
    {
     "output_type": "error",
     "ename": "KeyError",
     "evalue": "'Player'",
     "traceback": [
      "\u001b[1;31m---------------------------------------------------------------------------\u001b[0m",
      "\u001b[1;31mKeyError\u001b[0m                                  Traceback (most recent call last)",
      "\u001b[1;32m<ipython-input-22-49892406f5f3>\u001b[0m in \u001b[0;36m<module>\u001b[1;34m\u001b[0m\n\u001b[0;32m      3\u001b[0m                                 'James Norris Awards', 'Ted Lindsay Awards', 'Maurice Richard Awards', 'Cups', 'All-Star Games']],\n\u001b[0;32m      4\u001b[0m                  \u001b[0mon\u001b[0m\u001b[1;33m=\u001b[0m\u001b[1;34m'Player'\u001b[0m\u001b[1;33m,\u001b[0m\u001b[1;33m\u001b[0m\u001b[1;33m\u001b[0m\u001b[0m\n\u001b[1;32m----> 5\u001b[1;33m                  how='left')\n\u001b[0m\u001b[0;32m      6\u001b[0m \u001b[0mmaster_stats_file_df\u001b[0m\u001b[1;33m.\u001b[0m\u001b[0mhead\u001b[0m\u001b[1;33m(\u001b[0m\u001b[1;33m)\u001b[0m\u001b[1;33m\u001b[0m\u001b[1;33m\u001b[0m\u001b[0m\n",
      "\u001b[1;32mC:\\Users\\jeff lyng\\.conda\\envs\\bcs\\lib\\site-packages\\pandas\\core\\reshape\\merge.py\u001b[0m in \u001b[0;36mmerge\u001b[1;34m(left, right, how, on, left_on, right_on, left_index, right_index, sort, suffixes, copy, indicator, validate)\u001b[0m\n\u001b[0;32m     84\u001b[0m         \u001b[0mcopy\u001b[0m\u001b[1;33m=\u001b[0m\u001b[0mcopy\u001b[0m\u001b[1;33m,\u001b[0m\u001b[1;33m\u001b[0m\u001b[1;33m\u001b[0m\u001b[0m\n\u001b[0;32m     85\u001b[0m         \u001b[0mindicator\u001b[0m\u001b[1;33m=\u001b[0m\u001b[0mindicator\u001b[0m\u001b[1;33m,\u001b[0m\u001b[1;33m\u001b[0m\u001b[1;33m\u001b[0m\u001b[0m\n\u001b[1;32m---> 86\u001b[1;33m         \u001b[0mvalidate\u001b[0m\u001b[1;33m=\u001b[0m\u001b[0mvalidate\u001b[0m\u001b[1;33m,\u001b[0m\u001b[1;33m\u001b[0m\u001b[1;33m\u001b[0m\u001b[0m\n\u001b[0m\u001b[0;32m     87\u001b[0m     )\n\u001b[0;32m     88\u001b[0m     \u001b[1;32mreturn\u001b[0m \u001b[0mop\u001b[0m\u001b[1;33m.\u001b[0m\u001b[0mget_result\u001b[0m\u001b[1;33m(\u001b[0m\u001b[1;33m)\u001b[0m\u001b[1;33m\u001b[0m\u001b[1;33m\u001b[0m\u001b[0m\n",
      "\u001b[1;32mC:\\Users\\jeff lyng\\.conda\\envs\\bcs\\lib\\site-packages\\pandas\\core\\reshape\\merge.py\u001b[0m in \u001b[0;36m__init__\u001b[1;34m(self, left, right, how, on, left_on, right_on, axis, left_index, right_index, sort, suffixes, copy, indicator, validate)\u001b[0m\n\u001b[0;32m    625\u001b[0m             \u001b[0mself\u001b[0m\u001b[1;33m.\u001b[0m\u001b[0mright_join_keys\u001b[0m\u001b[1;33m,\u001b[0m\u001b[1;33m\u001b[0m\u001b[1;33m\u001b[0m\u001b[0m\n\u001b[0;32m    626\u001b[0m             \u001b[0mself\u001b[0m\u001b[1;33m.\u001b[0m\u001b[0mjoin_names\u001b[0m\u001b[1;33m,\u001b[0m\u001b[1;33m\u001b[0m\u001b[1;33m\u001b[0m\u001b[0m\n\u001b[1;32m--> 627\u001b[1;33m         ) = self._get_merge_keys()\n\u001b[0m\u001b[0;32m    628\u001b[0m \u001b[1;33m\u001b[0m\u001b[0m\n\u001b[0;32m    629\u001b[0m         \u001b[1;31m# validate the merge keys dtypes. We may need to coerce\u001b[0m\u001b[1;33m\u001b[0m\u001b[1;33m\u001b[0m\u001b[1;33m\u001b[0m\u001b[0m\n",
      "\u001b[1;32mC:\\Users\\jeff lyng\\.conda\\envs\\bcs\\lib\\site-packages\\pandas\\core\\reshape\\merge.py\u001b[0m in \u001b[0;36m_get_merge_keys\u001b[1;34m(self)\u001b[0m\n\u001b[0;32m    994\u001b[0m                         \u001b[0mright_keys\u001b[0m\u001b[1;33m.\u001b[0m\u001b[0mappend\u001b[0m\u001b[1;33m(\u001b[0m\u001b[0mrk\u001b[0m\u001b[1;33m)\u001b[0m\u001b[1;33m\u001b[0m\u001b[1;33m\u001b[0m\u001b[0m\n\u001b[0;32m    995\u001b[0m                     \u001b[1;32mif\u001b[0m \u001b[0mlk\u001b[0m \u001b[1;32mis\u001b[0m \u001b[1;32mnot\u001b[0m \u001b[1;32mNone\u001b[0m\u001b[1;33m:\u001b[0m\u001b[1;33m\u001b[0m\u001b[1;33m\u001b[0m\u001b[0m\n\u001b[1;32m--> 996\u001b[1;33m                         \u001b[0mleft_keys\u001b[0m\u001b[1;33m.\u001b[0m\u001b[0mappend\u001b[0m\u001b[1;33m(\u001b[0m\u001b[0mleft\u001b[0m\u001b[1;33m.\u001b[0m\u001b[0m_get_label_or_level_values\u001b[0m\u001b[1;33m(\u001b[0m\u001b[0mlk\u001b[0m\u001b[1;33m)\u001b[0m\u001b[1;33m)\u001b[0m\u001b[1;33m\u001b[0m\u001b[1;33m\u001b[0m\u001b[0m\n\u001b[0m\u001b[0;32m    997\u001b[0m                         \u001b[0mjoin_names\u001b[0m\u001b[1;33m.\u001b[0m\u001b[0mappend\u001b[0m\u001b[1;33m(\u001b[0m\u001b[0mlk\u001b[0m\u001b[1;33m)\u001b[0m\u001b[1;33m\u001b[0m\u001b[1;33m\u001b[0m\u001b[0m\n\u001b[0;32m    998\u001b[0m                     \u001b[1;32melse\u001b[0m\u001b[1;33m:\u001b[0m\u001b[1;33m\u001b[0m\u001b[1;33m\u001b[0m\u001b[0m\n",
      "\u001b[1;32mC:\\Users\\jeff lyng\\.conda\\envs\\bcs\\lib\\site-packages\\pandas\\core\\generic.py\u001b[0m in \u001b[0;36m_get_label_or_level_values\u001b[1;34m(self, key, axis)\u001b[0m\n\u001b[0;32m   1690\u001b[0m             \u001b[0mvalues\u001b[0m \u001b[1;33m=\u001b[0m \u001b[0mself\u001b[0m\u001b[1;33m.\u001b[0m\u001b[0maxes\u001b[0m\u001b[1;33m[\u001b[0m\u001b[0maxis\u001b[0m\u001b[1;33m]\u001b[0m\u001b[1;33m.\u001b[0m\u001b[0mget_level_values\u001b[0m\u001b[1;33m(\u001b[0m\u001b[0mkey\u001b[0m\u001b[1;33m)\u001b[0m\u001b[1;33m.\u001b[0m\u001b[0m_values\u001b[0m\u001b[1;33m\u001b[0m\u001b[1;33m\u001b[0m\u001b[0m\n\u001b[0;32m   1691\u001b[0m         \u001b[1;32melse\u001b[0m\u001b[1;33m:\u001b[0m\u001b[1;33m\u001b[0m\u001b[1;33m\u001b[0m\u001b[0m\n\u001b[1;32m-> 1692\u001b[1;33m             \u001b[1;32mraise\u001b[0m \u001b[0mKeyError\u001b[0m\u001b[1;33m(\u001b[0m\u001b[0mkey\u001b[0m\u001b[1;33m)\u001b[0m\u001b[1;33m\u001b[0m\u001b[1;33m\u001b[0m\u001b[0m\n\u001b[0m\u001b[0;32m   1693\u001b[0m \u001b[1;33m\u001b[0m\u001b[0m\n\u001b[0;32m   1694\u001b[0m         \u001b[1;31m# Check for duplicates\u001b[0m\u001b[1;33m\u001b[0m\u001b[1;33m\u001b[0m\u001b[1;33m\u001b[0m\u001b[0m\n",
      "\u001b[1;31mKeyError\u001b[0m: 'Player'"
     ]
    }
   ],
   "source": [
    "master_stats_file_df = pd.merge(master_stats_df,\n",
    "                 master_awards_df[['Player', 'Art Ross Awards',\t'Conn Smythe Awards', 'Hart Awards', 'Calder Awards',\n",
    "                                'James Norris Awards', 'Ted Lindsay Awards', 'Maurice Richard Awards', 'Cups', 'All-Star Games']],\n",
    "                 on='Player', \n",
    "                 how='left')\n",
    "master_stats_file_df.head()"
   ]
  },
  {
   "cell_type": "code",
   "execution_count": null,
   "metadata": {},
   "outputs": [],
   "source": []
  },
  {
   "cell_type": "code",
   "execution_count": null,
   "metadata": {},
   "outputs": [],
   "source": []
  }
 ]
}