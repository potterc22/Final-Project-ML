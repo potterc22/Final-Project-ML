{
 "metadata": {
  "language_info": {
   "codemirror_mode": {
    "name": "ipython",
    "version": 3
   },
   "file_extension": ".py",
   "mimetype": "text/x-python",
   "name": "python",
   "nbconvert_exporter": "python",
   "pygments_lexer": "ipython3",
   "version": "3.6.10-final"
  },
  "orig_nbformat": 2,
  "kernelspec": {
   "name": "python361064bitbcsconda9956bb7450484f49881ea0c9e482447b",
   "display_name": "Python 3.6.10 64-bit ('bcs': conda)",
   "language": "python"
  }
 },
 "nbformat": 4,
 "nbformat_minor": 2,
 "cells": [
  {
   "source": [
    "Create Master Statistics File by Joining the Stats, Awards, and Hof files"
   ],
   "cell_type": "markdown",
   "metadata": {}
  },
  {
   "cell_type": "code",
   "execution_count": 82,
   "metadata": {},
   "outputs": [],
   "source": [
    "# Import pandas\n",
    "import pandas as pd\n",
    "import numpy as np"
   ]
  },
  {
   "cell_type": "code",
   "execution_count": 83,
   "metadata": {},
   "outputs": [],
   "source": [
    "# Assign file paths to variable and read csv into pandas\n",
    "file_one = \"Output/career_stats_adj.csv\"\n",
    "file_two = \"Output/awards_adj.csv\"\n",
    "file_three = \"Output/hof_adj.csv\"\n",
    "master_stats_df = pd.read_csv(file_one)\n",
    "master_awards_df = pd.read_csv(file_two, encoding=\"ISO-8859-1\")\n",
    "master_hof_df = pd.read_csv(file_three)"
   ]
  },
  {
   "cell_type": "code",
   "execution_count": 84,
   "metadata": {},
   "outputs": [
    {
     "output_type": "execute_result",
     "data": {
      "text/plain": [
       "          Player    GP    G     A    TP    PPG   PIM  Years POS  firstYear  \\\n",
       "0  Wayne Gretzky  1487  894  1963  2857  1.921   577     20   C       1979   \n",
       "1   Jaromir Jagr  1733  766  1155  1921  1.108  1167     24  RW       1990   \n",
       "2   Mark Messier  1756  694  1193  1887  1.075  1910     25   C       1979   \n",
       "3    Gordie Howe  1767  801  1049  1850  1.047  1685     26  RW       1946   \n",
       "4    Ron Francis  1731  549  1249  1798  1.039   979     23   C       1981   \n",
       "\n",
       "   lastYear  \n",
       "0      1999  \n",
       "1      2018  \n",
       "2      2004  \n",
       "3      1980  \n",
       "4      2004  "
      ],
      "text/html": "<div>\n<style scoped>\n    .dataframe tbody tr th:only-of-type {\n        vertical-align: middle;\n    }\n\n    .dataframe tbody tr th {\n        vertical-align: top;\n    }\n\n    .dataframe thead th {\n        text-align: right;\n    }\n</style>\n<table border=\"1\" class=\"dataframe\">\n  <thead>\n    <tr style=\"text-align: right;\">\n      <th></th>\n      <th>Player</th>\n      <th>GP</th>\n      <th>G</th>\n      <th>A</th>\n      <th>TP</th>\n      <th>PPG</th>\n      <th>PIM</th>\n      <th>Years</th>\n      <th>POS</th>\n      <th>firstYear</th>\n      <th>lastYear</th>\n    </tr>\n  </thead>\n  <tbody>\n    <tr>\n      <th>0</th>\n      <td>Wayne Gretzky</td>\n      <td>1487</td>\n      <td>894</td>\n      <td>1963</td>\n      <td>2857</td>\n      <td>1.921</td>\n      <td>577</td>\n      <td>20</td>\n      <td>C</td>\n      <td>1979</td>\n      <td>1999</td>\n    </tr>\n    <tr>\n      <th>1</th>\n      <td>Jaromir Jagr</td>\n      <td>1733</td>\n      <td>766</td>\n      <td>1155</td>\n      <td>1921</td>\n      <td>1.108</td>\n      <td>1167</td>\n      <td>24</td>\n      <td>RW</td>\n      <td>1990</td>\n      <td>2018</td>\n    </tr>\n    <tr>\n      <th>2</th>\n      <td>Mark Messier</td>\n      <td>1756</td>\n      <td>694</td>\n      <td>1193</td>\n      <td>1887</td>\n      <td>1.075</td>\n      <td>1910</td>\n      <td>25</td>\n      <td>C</td>\n      <td>1979</td>\n      <td>2004</td>\n    </tr>\n    <tr>\n      <th>3</th>\n      <td>Gordie Howe</td>\n      <td>1767</td>\n      <td>801</td>\n      <td>1049</td>\n      <td>1850</td>\n      <td>1.047</td>\n      <td>1685</td>\n      <td>26</td>\n      <td>RW</td>\n      <td>1946</td>\n      <td>1980</td>\n    </tr>\n    <tr>\n      <th>4</th>\n      <td>Ron Francis</td>\n      <td>1731</td>\n      <td>549</td>\n      <td>1249</td>\n      <td>1798</td>\n      <td>1.039</td>\n      <td>979</td>\n      <td>23</td>\n      <td>C</td>\n      <td>1981</td>\n      <td>2004</td>\n    </tr>\n  </tbody>\n</table>\n</div>"
     },
     "metadata": {},
     "execution_count": 84
    }
   ],
   "source": [
    "master_stats_df.head()"
   ]
  },
  {
   "cell_type": "code",
   "execution_count": 85,
   "metadata": {},
   "outputs": [
    {
     "output_type": "execute_result",
     "data": {
      "text/plain": [
       "               Player  Art Ross Awards  Conn Smythe Awards  Hart Awards  \\\n",
       "0          Ace Bailey                1                   0            0   \n",
       "1  Alexander Ovechkin                1                   1            3   \n",
       "2            Babe Dye                2                   0            0   \n",
       "3   Bernard Geoffrion                2                   0            1   \n",
       "4           Bill Cook                2                   0            0   \n",
       "\n",
       "   Calder Awards  James Norris Awards  Ted Lindsay Awards  \\\n",
       "0              0                    0                   0   \n",
       "1              1                    0                   3   \n",
       "2              0                    0                   0   \n",
       "3              1                    0                   0   \n",
       "4              0                    0                   0   \n",
       "\n",
       "   Maurice Richard Awards  Cups  All-Star Games  \n",
       "0                       0     1               0  \n",
       "1                       9     1               7  \n",
       "2                       0     1               0  \n",
       "3                       0     0              11  \n",
       "4                       0     2               0  "
      ],
      "text/html": "<div>\n<style scoped>\n    .dataframe tbody tr th:only-of-type {\n        vertical-align: middle;\n    }\n\n    .dataframe tbody tr th {\n        vertical-align: top;\n    }\n\n    .dataframe thead th {\n        text-align: right;\n    }\n</style>\n<table border=\"1\" class=\"dataframe\">\n  <thead>\n    <tr style=\"text-align: right;\">\n      <th></th>\n      <th>Player</th>\n      <th>Art Ross Awards</th>\n      <th>Conn Smythe Awards</th>\n      <th>Hart Awards</th>\n      <th>Calder Awards</th>\n      <th>James Norris Awards</th>\n      <th>Ted Lindsay Awards</th>\n      <th>Maurice Richard Awards</th>\n      <th>Cups</th>\n      <th>All-Star Games</th>\n    </tr>\n  </thead>\n  <tbody>\n    <tr>\n      <th>0</th>\n      <td>Ace Bailey</td>\n      <td>1</td>\n      <td>0</td>\n      <td>0</td>\n      <td>0</td>\n      <td>0</td>\n      <td>0</td>\n      <td>0</td>\n      <td>1</td>\n      <td>0</td>\n    </tr>\n    <tr>\n      <th>1</th>\n      <td>Alexander Ovechkin</td>\n      <td>1</td>\n      <td>1</td>\n      <td>3</td>\n      <td>1</td>\n      <td>0</td>\n      <td>3</td>\n      <td>9</td>\n      <td>1</td>\n      <td>7</td>\n    </tr>\n    <tr>\n      <th>2</th>\n      <td>Babe Dye</td>\n      <td>2</td>\n      <td>0</td>\n      <td>0</td>\n      <td>0</td>\n      <td>0</td>\n      <td>0</td>\n      <td>0</td>\n      <td>1</td>\n      <td>0</td>\n    </tr>\n    <tr>\n      <th>3</th>\n      <td>Bernard Geoffrion</td>\n      <td>2</td>\n      <td>0</td>\n      <td>1</td>\n      <td>1</td>\n      <td>0</td>\n      <td>0</td>\n      <td>0</td>\n      <td>0</td>\n      <td>11</td>\n    </tr>\n    <tr>\n      <th>4</th>\n      <td>Bill Cook</td>\n      <td>2</td>\n      <td>0</td>\n      <td>0</td>\n      <td>0</td>\n      <td>0</td>\n      <td>0</td>\n      <td>0</td>\n      <td>2</td>\n      <td>0</td>\n    </tr>\n  </tbody>\n</table>\n</div>"
     },
     "metadata": {},
     "execution_count": 85
    }
   ],
   "source": [
    "master_awards_df.head()"
   ]
  },
  {
   "cell_type": "code",
   "execution_count": 86,
   "metadata": {},
   "outputs": [
    {
     "output_type": "execute_result",
     "data": {
      "text/plain": [
       "             Player  HoF\n",
       "0       Hobey Baker    1\n",
       "1  Charlie Gardiner    1\n",
       "2      Eddie Gerard    1\n",
       "3       Frank McGee    1\n",
       "4      Howie Morenz    1"
      ],
      "text/html": "<div>\n<style scoped>\n    .dataframe tbody tr th:only-of-type {\n        vertical-align: middle;\n    }\n\n    .dataframe tbody tr th {\n        vertical-align: top;\n    }\n\n    .dataframe thead th {\n        text-align: right;\n    }\n</style>\n<table border=\"1\" class=\"dataframe\">\n  <thead>\n    <tr style=\"text-align: right;\">\n      <th></th>\n      <th>Player</th>\n      <th>HoF</th>\n    </tr>\n  </thead>\n  <tbody>\n    <tr>\n      <th>0</th>\n      <td>Hobey Baker</td>\n      <td>1</td>\n    </tr>\n    <tr>\n      <th>1</th>\n      <td>Charlie Gardiner</td>\n      <td>1</td>\n    </tr>\n    <tr>\n      <th>2</th>\n      <td>Eddie Gerard</td>\n      <td>1</td>\n    </tr>\n    <tr>\n      <th>3</th>\n      <td>Frank McGee</td>\n      <td>1</td>\n    </tr>\n    <tr>\n      <th>4</th>\n      <td>Howie Morenz</td>\n      <td>1</td>\n    </tr>\n  </tbody>\n</table>\n</div>"
     },
     "metadata": {},
     "execution_count": 86
    }
   ],
   "source": [
    "master_hof_df.head()"
   ]
  },
  {
   "source": [
    "Merge the awards and hof files to the stats file by left join."
   ],
   "cell_type": "markdown",
   "metadata": {}
  },
  {
   "cell_type": "code",
   "execution_count": 87,
   "metadata": {},
   "outputs": [
    {
     "output_type": "execute_result",
     "data": {
      "text/plain": [
       "          Player    GP    G     A    TP    PPG   PIM  Years POS  firstYear  \\\n",
       "0  Wayne Gretzky  1487  894  1963  2857  1.921   577     20   C       1979   \n",
       "1   Jaromir Jagr  1733  766  1155  1921  1.108  1167     24  RW       1990   \n",
       "2   Mark Messier  1756  694  1193  1887  1.075  1910     25   C       1979   \n",
       "3    Gordie Howe  1767  801  1049  1850  1.047  1685     26  RW       1946   \n",
       "4    Ron Francis  1731  549  1249  1798  1.039   979     23   C       1981   \n",
       "\n",
       "   lastYear  Art Ross Awards  Conn Smythe Awards  Hart Awards  Calder Awards  \\\n",
       "0      1999             10.0                 2.0          9.0            0.0   \n",
       "1      2018              5.0                 0.0          1.0            0.0   \n",
       "2      2004              0.0                 1.0          2.0            0.0   \n",
       "3      1980              6.0                 0.0          6.0            0.0   \n",
       "4      2004              0.0                 0.0          0.0            0.0   \n",
       "\n",
       "   James Norris Awards  Ted Lindsay Awards  Maurice Richard Awards  Cups  \\\n",
       "0                  0.0                 5.0                     0.0   4.0   \n",
       "1                  0.0                 3.0                     0.0   2.0   \n",
       "2                  0.0                 2.0                     0.0   0.0   \n",
       "3                  0.0                 0.0                     0.0   4.0   \n",
       "4                  0.0                 0.0                     0.0   2.0   \n",
       "\n",
       "   All-Star Games  \n",
       "0            18.0  \n",
       "1            10.0  \n",
       "2            15.0  \n",
       "3            23.0  \n",
       "4             4.0  "
      ],
      "text/html": "<div>\n<style scoped>\n    .dataframe tbody tr th:only-of-type {\n        vertical-align: middle;\n    }\n\n    .dataframe tbody tr th {\n        vertical-align: top;\n    }\n\n    .dataframe thead th {\n        text-align: right;\n    }\n</style>\n<table border=\"1\" class=\"dataframe\">\n  <thead>\n    <tr style=\"text-align: right;\">\n      <th></th>\n      <th>Player</th>\n      <th>GP</th>\n      <th>G</th>\n      <th>A</th>\n      <th>TP</th>\n      <th>PPG</th>\n      <th>PIM</th>\n      <th>Years</th>\n      <th>POS</th>\n      <th>firstYear</th>\n      <th>lastYear</th>\n      <th>Art Ross Awards</th>\n      <th>Conn Smythe Awards</th>\n      <th>Hart Awards</th>\n      <th>Calder Awards</th>\n      <th>James Norris Awards</th>\n      <th>Ted Lindsay Awards</th>\n      <th>Maurice Richard Awards</th>\n      <th>Cups</th>\n      <th>All-Star Games</th>\n    </tr>\n  </thead>\n  <tbody>\n    <tr>\n      <th>0</th>\n      <td>Wayne Gretzky</td>\n      <td>1487</td>\n      <td>894</td>\n      <td>1963</td>\n      <td>2857</td>\n      <td>1.921</td>\n      <td>577</td>\n      <td>20</td>\n      <td>C</td>\n      <td>1979</td>\n      <td>1999</td>\n      <td>10.0</td>\n      <td>2.0</td>\n      <td>9.0</td>\n      <td>0.0</td>\n      <td>0.0</td>\n      <td>5.0</td>\n      <td>0.0</td>\n      <td>4.0</td>\n      <td>18.0</td>\n    </tr>\n    <tr>\n      <th>1</th>\n      <td>Jaromir Jagr</td>\n      <td>1733</td>\n      <td>766</td>\n      <td>1155</td>\n      <td>1921</td>\n      <td>1.108</td>\n      <td>1167</td>\n      <td>24</td>\n      <td>RW</td>\n      <td>1990</td>\n      <td>2018</td>\n      <td>5.0</td>\n      <td>0.0</td>\n      <td>1.0</td>\n      <td>0.0</td>\n      <td>0.0</td>\n      <td>3.0</td>\n      <td>0.0</td>\n      <td>2.0</td>\n      <td>10.0</td>\n    </tr>\n    <tr>\n      <th>2</th>\n      <td>Mark Messier</td>\n      <td>1756</td>\n      <td>694</td>\n      <td>1193</td>\n      <td>1887</td>\n      <td>1.075</td>\n      <td>1910</td>\n      <td>25</td>\n      <td>C</td>\n      <td>1979</td>\n      <td>2004</td>\n      <td>0.0</td>\n      <td>1.0</td>\n      <td>2.0</td>\n      <td>0.0</td>\n      <td>0.0</td>\n      <td>2.0</td>\n      <td>0.0</td>\n      <td>0.0</td>\n      <td>15.0</td>\n    </tr>\n    <tr>\n      <th>3</th>\n      <td>Gordie Howe</td>\n      <td>1767</td>\n      <td>801</td>\n      <td>1049</td>\n      <td>1850</td>\n      <td>1.047</td>\n      <td>1685</td>\n      <td>26</td>\n      <td>RW</td>\n      <td>1946</td>\n      <td>1980</td>\n      <td>6.0</td>\n      <td>0.0</td>\n      <td>6.0</td>\n      <td>0.0</td>\n      <td>0.0</td>\n      <td>0.0</td>\n      <td>0.0</td>\n      <td>4.0</td>\n      <td>23.0</td>\n    </tr>\n    <tr>\n      <th>4</th>\n      <td>Ron Francis</td>\n      <td>1731</td>\n      <td>549</td>\n      <td>1249</td>\n      <td>1798</td>\n      <td>1.039</td>\n      <td>979</td>\n      <td>23</td>\n      <td>C</td>\n      <td>1981</td>\n      <td>2004</td>\n      <td>0.0</td>\n      <td>0.0</td>\n      <td>0.0</td>\n      <td>0.0</td>\n      <td>0.0</td>\n      <td>0.0</td>\n      <td>0.0</td>\n      <td>2.0</td>\n      <td>4.0</td>\n    </tr>\n  </tbody>\n</table>\n</div>"
     },
     "metadata": {},
     "execution_count": 87
    }
   ],
   "source": [
    "# Merge Awards data to the stats data by left join\n",
    "master_stats_file_df = pd.merge(left=master_stats_df, right=master_awards_df, how='left', left_on='Player', right_on='Player')\n",
    "master_stats_file_df.head()"
   ]
  },
  {
   "cell_type": "code",
   "execution_count": 88,
   "metadata": {},
   "outputs": [
    {
     "output_type": "execute_result",
     "data": {
      "text/plain": [
       "          Player    GP    G     A    TP    PPG   PIM  Years POS  firstYear  \\\n",
       "0  Wayne Gretzky  1487  894  1963  2857  1.921   577     20   C       1979   \n",
       "1   Jaromir Jagr  1733  766  1155  1921  1.108  1167     24  RW       1990   \n",
       "2   Mark Messier  1756  694  1193  1887  1.075  1910     25   C       1979   \n",
       "3    Gordie Howe  1767  801  1049  1850  1.047  1685     26  RW       1946   \n",
       "4    Ron Francis  1731  549  1249  1798  1.039   979     23   C       1981   \n",
       "\n",
       "   ...  Art Ross Awards  Conn Smythe Awards  Hart Awards  Calder Awards  \\\n",
       "0  ...             10.0                 2.0          9.0            0.0   \n",
       "1  ...              5.0                 0.0          1.0            0.0   \n",
       "2  ...              0.0                 1.0          2.0            0.0   \n",
       "3  ...              6.0                 0.0          6.0            0.0   \n",
       "4  ...              0.0                 0.0          0.0            0.0   \n",
       "\n",
       "   James Norris Awards  Ted Lindsay Awards  Maurice Richard Awards  Cups  \\\n",
       "0                  0.0                 5.0                     0.0   4.0   \n",
       "1                  0.0                 3.0                     0.0   2.0   \n",
       "2                  0.0                 2.0                     0.0   0.0   \n",
       "3                  0.0                 0.0                     0.0   4.0   \n",
       "4                  0.0                 0.0                     0.0   2.0   \n",
       "\n",
       "   All-Star Games  HoF  \n",
       "0            18.0  1.0  \n",
       "1            10.0  NaN  \n",
       "2            15.0  1.0  \n",
       "3            23.0  1.0  \n",
       "4             4.0  1.0  \n",
       "\n",
       "[5 rows x 21 columns]"
      ],
      "text/html": "<div>\n<style scoped>\n    .dataframe tbody tr th:only-of-type {\n        vertical-align: middle;\n    }\n\n    .dataframe tbody tr th {\n        vertical-align: top;\n    }\n\n    .dataframe thead th {\n        text-align: right;\n    }\n</style>\n<table border=\"1\" class=\"dataframe\">\n  <thead>\n    <tr style=\"text-align: right;\">\n      <th></th>\n      <th>Player</th>\n      <th>GP</th>\n      <th>G</th>\n      <th>A</th>\n      <th>TP</th>\n      <th>PPG</th>\n      <th>PIM</th>\n      <th>Years</th>\n      <th>POS</th>\n      <th>firstYear</th>\n      <th>...</th>\n      <th>Art Ross Awards</th>\n      <th>Conn Smythe Awards</th>\n      <th>Hart Awards</th>\n      <th>Calder Awards</th>\n      <th>James Norris Awards</th>\n      <th>Ted Lindsay Awards</th>\n      <th>Maurice Richard Awards</th>\n      <th>Cups</th>\n      <th>All-Star Games</th>\n      <th>HoF</th>\n    </tr>\n  </thead>\n  <tbody>\n    <tr>\n      <th>0</th>\n      <td>Wayne Gretzky</td>\n      <td>1487</td>\n      <td>894</td>\n      <td>1963</td>\n      <td>2857</td>\n      <td>1.921</td>\n      <td>577</td>\n      <td>20</td>\n      <td>C</td>\n      <td>1979</td>\n      <td>...</td>\n      <td>10.0</td>\n      <td>2.0</td>\n      <td>9.0</td>\n      <td>0.0</td>\n      <td>0.0</td>\n      <td>5.0</td>\n      <td>0.0</td>\n      <td>4.0</td>\n      <td>18.0</td>\n      <td>1.0</td>\n    </tr>\n    <tr>\n      <th>1</th>\n      <td>Jaromir Jagr</td>\n      <td>1733</td>\n      <td>766</td>\n      <td>1155</td>\n      <td>1921</td>\n      <td>1.108</td>\n      <td>1167</td>\n      <td>24</td>\n      <td>RW</td>\n      <td>1990</td>\n      <td>...</td>\n      <td>5.0</td>\n      <td>0.0</td>\n      <td>1.0</td>\n      <td>0.0</td>\n      <td>0.0</td>\n      <td>3.0</td>\n      <td>0.0</td>\n      <td>2.0</td>\n      <td>10.0</td>\n      <td>NaN</td>\n    </tr>\n    <tr>\n      <th>2</th>\n      <td>Mark Messier</td>\n      <td>1756</td>\n      <td>694</td>\n      <td>1193</td>\n      <td>1887</td>\n      <td>1.075</td>\n      <td>1910</td>\n      <td>25</td>\n      <td>C</td>\n      <td>1979</td>\n      <td>...</td>\n      <td>0.0</td>\n      <td>1.0</td>\n      <td>2.0</td>\n      <td>0.0</td>\n      <td>0.0</td>\n      <td>2.0</td>\n      <td>0.0</td>\n      <td>0.0</td>\n      <td>15.0</td>\n      <td>1.0</td>\n    </tr>\n    <tr>\n      <th>3</th>\n      <td>Gordie Howe</td>\n      <td>1767</td>\n      <td>801</td>\n      <td>1049</td>\n      <td>1850</td>\n      <td>1.047</td>\n      <td>1685</td>\n      <td>26</td>\n      <td>RW</td>\n      <td>1946</td>\n      <td>...</td>\n      <td>6.0</td>\n      <td>0.0</td>\n      <td>6.0</td>\n      <td>0.0</td>\n      <td>0.0</td>\n      <td>0.0</td>\n      <td>0.0</td>\n      <td>4.0</td>\n      <td>23.0</td>\n      <td>1.0</td>\n    </tr>\n    <tr>\n      <th>4</th>\n      <td>Ron Francis</td>\n      <td>1731</td>\n      <td>549</td>\n      <td>1249</td>\n      <td>1798</td>\n      <td>1.039</td>\n      <td>979</td>\n      <td>23</td>\n      <td>C</td>\n      <td>1981</td>\n      <td>...</td>\n      <td>0.0</td>\n      <td>0.0</td>\n      <td>0.0</td>\n      <td>0.0</td>\n      <td>0.0</td>\n      <td>0.0</td>\n      <td>0.0</td>\n      <td>2.0</td>\n      <td>4.0</td>\n      <td>1.0</td>\n    </tr>\n  </tbody>\n</table>\n<p>5 rows × 21 columns</p>\n</div>"
     },
     "metadata": {},
     "execution_count": 88
    }
   ],
   "source": [
    "# Merge Hall Of Fame data to the stats data by left join\n",
    "master_stats_file_df = pd.merge(left=master_stats_file_df, right=master_hof_df, how='left', left_on='Player', right_on='Player')\n",
    "master_stats_file_df.head()"
   ]
  },
  {
   "cell_type": "code",
   "execution_count": 89,
   "metadata": {},
   "outputs": [
    {
     "output_type": "execute_result",
     "data": {
      "text/plain": [
       "          Player    GP    G     A    TP    PPG   PIM  Years POS  firstYear  \\\n",
       "0  Wayne Gretzky  1487  894  1963  2857  1.921   577     20   C       1979   \n",
       "1   Jaromir Jagr  1733  766  1155  1921  1.108  1167     24  RW       1990   \n",
       "2   Mark Messier  1756  694  1193  1887  1.075  1910     25   C       1979   \n",
       "3    Gordie Howe  1767  801  1049  1850  1.047  1685     26  RW       1946   \n",
       "4    Ron Francis  1731  549  1249  1798  1.039   979     23   C       1981   \n",
       "\n",
       "   ...  Art Ross Awards  Conn Smythe Awards  Hart Awards  Calder Awards  \\\n",
       "0  ...               10                   2            9              0   \n",
       "1  ...                5                   0            1              0   \n",
       "2  ...                0                   1            2              0   \n",
       "3  ...                6                   0            6              0   \n",
       "4  ...                0                   0            0              0   \n",
       "\n",
       "   James Norris Awards  Ted Lindsay Awards  Maurice Richard Awards  Cups  \\\n",
       "0                    0                   5                       0     4   \n",
       "1                    0                   3                       0     2   \n",
       "2                    0                   2                       0     0   \n",
       "3                    0                   0                       0     4   \n",
       "4                    0                   0                       0     2   \n",
       "\n",
       "   All-Star Games  HoF  \n",
       "0              18    1  \n",
       "1              10    0  \n",
       "2              15    1  \n",
       "3              23    1  \n",
       "4               4    1  \n",
       "\n",
       "[5 rows x 21 columns]"
      ],
      "text/html": "<div>\n<style scoped>\n    .dataframe tbody tr th:only-of-type {\n        vertical-align: middle;\n    }\n\n    .dataframe tbody tr th {\n        vertical-align: top;\n    }\n\n    .dataframe thead th {\n        text-align: right;\n    }\n</style>\n<table border=\"1\" class=\"dataframe\">\n  <thead>\n    <tr style=\"text-align: right;\">\n      <th></th>\n      <th>Player</th>\n      <th>GP</th>\n      <th>G</th>\n      <th>A</th>\n      <th>TP</th>\n      <th>PPG</th>\n      <th>PIM</th>\n      <th>Years</th>\n      <th>POS</th>\n      <th>firstYear</th>\n      <th>...</th>\n      <th>Art Ross Awards</th>\n      <th>Conn Smythe Awards</th>\n      <th>Hart Awards</th>\n      <th>Calder Awards</th>\n      <th>James Norris Awards</th>\n      <th>Ted Lindsay Awards</th>\n      <th>Maurice Richard Awards</th>\n      <th>Cups</th>\n      <th>All-Star Games</th>\n      <th>HoF</th>\n    </tr>\n  </thead>\n  <tbody>\n    <tr>\n      <th>0</th>\n      <td>Wayne Gretzky</td>\n      <td>1487</td>\n      <td>894</td>\n      <td>1963</td>\n      <td>2857</td>\n      <td>1.921</td>\n      <td>577</td>\n      <td>20</td>\n      <td>C</td>\n      <td>1979</td>\n      <td>...</td>\n      <td>10</td>\n      <td>2</td>\n      <td>9</td>\n      <td>0</td>\n      <td>0</td>\n      <td>5</td>\n      <td>0</td>\n      <td>4</td>\n      <td>18</td>\n      <td>1</td>\n    </tr>\n    <tr>\n      <th>1</th>\n      <td>Jaromir Jagr</td>\n      <td>1733</td>\n      <td>766</td>\n      <td>1155</td>\n      <td>1921</td>\n      <td>1.108</td>\n      <td>1167</td>\n      <td>24</td>\n      <td>RW</td>\n      <td>1990</td>\n      <td>...</td>\n      <td>5</td>\n      <td>0</td>\n      <td>1</td>\n      <td>0</td>\n      <td>0</td>\n      <td>3</td>\n      <td>0</td>\n      <td>2</td>\n      <td>10</td>\n      <td>0</td>\n    </tr>\n    <tr>\n      <th>2</th>\n      <td>Mark Messier</td>\n      <td>1756</td>\n      <td>694</td>\n      <td>1193</td>\n      <td>1887</td>\n      <td>1.075</td>\n      <td>1910</td>\n      <td>25</td>\n      <td>C</td>\n      <td>1979</td>\n      <td>...</td>\n      <td>0</td>\n      <td>1</td>\n      <td>2</td>\n      <td>0</td>\n      <td>0</td>\n      <td>2</td>\n      <td>0</td>\n      <td>0</td>\n      <td>15</td>\n      <td>1</td>\n    </tr>\n    <tr>\n      <th>3</th>\n      <td>Gordie Howe</td>\n      <td>1767</td>\n      <td>801</td>\n      <td>1049</td>\n      <td>1850</td>\n      <td>1.047</td>\n      <td>1685</td>\n      <td>26</td>\n      <td>RW</td>\n      <td>1946</td>\n      <td>...</td>\n      <td>6</td>\n      <td>0</td>\n      <td>6</td>\n      <td>0</td>\n      <td>0</td>\n      <td>0</td>\n      <td>0</td>\n      <td>4</td>\n      <td>23</td>\n      <td>1</td>\n    </tr>\n    <tr>\n      <th>4</th>\n      <td>Ron Francis</td>\n      <td>1731</td>\n      <td>549</td>\n      <td>1249</td>\n      <td>1798</td>\n      <td>1.039</td>\n      <td>979</td>\n      <td>23</td>\n      <td>C</td>\n      <td>1981</td>\n      <td>...</td>\n      <td>0</td>\n      <td>0</td>\n      <td>0</td>\n      <td>0</td>\n      <td>0</td>\n      <td>0</td>\n      <td>0</td>\n      <td>2</td>\n      <td>4</td>\n      <td>1</td>\n    </tr>\n  </tbody>\n</table>\n<p>5 rows × 21 columns</p>\n</div>"
     },
     "metadata": {},
     "execution_count": 89
    }
   ],
   "source": [
    "# Change all the NaN values to 0 and change numeric columns to integers\n",
    "master_stats_file_df = master_stats_file_df.fillna(0)\n",
    "master_stats_file_df = master_stats_file_df.astype({'GP':'int', 'G':'int', 'A':'int', 'TP':'int', 'PPG':'float', 'PIM':'int', 'Years':'int',                                                       'firstYear':'int', 'lastYear':'int', 'Art Ross Awards':'int',\n",
    "                                                    'Conn Smythe Awards':'int', 'Hart Awards':'int', 'Calder Awards':'int',\n",
    "                                                    'James Norris Awards':'int', 'Ted Lindsay Awards':'int', 'Maurice Richard Awards':'int',                                                        'Cups':'int', 'All-Star Games':'int', 'HoF':'int'}) \n",
    "master_stats_file_df.head()"
   ]
  },
  {
   "cell_type": "code",
   "execution_count": 90,
   "metadata": {},
   "outputs": [
    {
     "output_type": "execute_result",
     "data": {
      "text/plain": [
       "Player                     object\n",
       "GP                          int32\n",
       "G                           int32\n",
       "A                           int32\n",
       "TP                          int32\n",
       "PPG                       float64\n",
       "PIM                         int32\n",
       "Years                       int32\n",
       "POS                        object\n",
       "firstYear                   int32\n",
       "lastYear                    int32\n",
       "Art Ross Awards             int32\n",
       "Conn Smythe Awards          int32\n",
       "Hart Awards                 int32\n",
       "Calder Awards               int32\n",
       "James Norris Awards         int32\n",
       "Ted Lindsay Awards          int32\n",
       "Maurice Richard Awards      int32\n",
       "Cups                        int32\n",
       "All-Star Games              int32\n",
       "HoF                         int32\n",
       "dtype: object"
      ]
     },
     "metadata": {},
     "execution_count": 90
    }
   ],
   "source": [
    "master_stats_file_df.dtypes"
   ]
  },
  {
   "cell_type": "code",
   "execution_count": 91,
   "metadata": {},
   "outputs": [],
   "source": [
    "# Save the file to csv\n",
    "master_stats_file_df.to_csv(\"Output/master_stats_file.csv\", index=False, header=True, encoding='utf-8-sig')"
   ]
  },
  {
   "cell_type": "code",
   "execution_count": 92,
   "metadata": {},
   "outputs": [
    {
     "output_type": "execute_result",
     "data": {
      "text/plain": [
       "          Player    GP    G     A    TP    PPG   PIM  Years POS  firstYear  \\\n",
       "0  Wayne Gretzky  1487  894  1963  2857  1.921   577     20   C       1979   \n",
       "2   Mark Messier  1756  694  1193  1887  1.075  1910     25   C       1979   \n",
       "3    Gordie Howe  1767  801  1049  1850  1.047  1685     26  RW       1946   \n",
       "4    Ron Francis  1731  549  1249  1798  1.039   979     23   C       1981   \n",
       "5  Marcel Dionne  1348  731  1040  1771  1.314   600     18   C       1971   \n",
       "\n",
       "   ...  Art Ross Awards  Conn Smythe Awards  Hart Awards  Calder Awards  \\\n",
       "0  ...               10                   2            9              0   \n",
       "2  ...                0                   1            2              0   \n",
       "3  ...                6                   0            6              0   \n",
       "4  ...                0                   0            0              0   \n",
       "5  ...                1                   0            0              0   \n",
       "\n",
       "   James Norris Awards  Ted Lindsay Awards  Maurice Richard Awards  Cups  \\\n",
       "0                    0                   5                       0     4   \n",
       "2                    0                   2                       0     0   \n",
       "3                    0                   0                       0     4   \n",
       "4                    0                   0                       0     2   \n",
       "5                    0                   2                       0     0   \n",
       "\n",
       "   All-Star Games  HoF  \n",
       "0              18    1  \n",
       "2              15    1  \n",
       "3              23    1  \n",
       "4               4    1  \n",
       "5               8    1  \n",
       "\n",
       "[5 rows x 21 columns]"
      ],
      "text/html": "<div>\n<style scoped>\n    .dataframe tbody tr th:only-of-type {\n        vertical-align: middle;\n    }\n\n    .dataframe tbody tr th {\n        vertical-align: top;\n    }\n\n    .dataframe thead th {\n        text-align: right;\n    }\n</style>\n<table border=\"1\" class=\"dataframe\">\n  <thead>\n    <tr style=\"text-align: right;\">\n      <th></th>\n      <th>Player</th>\n      <th>GP</th>\n      <th>G</th>\n      <th>A</th>\n      <th>TP</th>\n      <th>PPG</th>\n      <th>PIM</th>\n      <th>Years</th>\n      <th>POS</th>\n      <th>firstYear</th>\n      <th>...</th>\n      <th>Art Ross Awards</th>\n      <th>Conn Smythe Awards</th>\n      <th>Hart Awards</th>\n      <th>Calder Awards</th>\n      <th>James Norris Awards</th>\n      <th>Ted Lindsay Awards</th>\n      <th>Maurice Richard Awards</th>\n      <th>Cups</th>\n      <th>All-Star Games</th>\n      <th>HoF</th>\n    </tr>\n  </thead>\n  <tbody>\n    <tr>\n      <th>0</th>\n      <td>Wayne Gretzky</td>\n      <td>1487</td>\n      <td>894</td>\n      <td>1963</td>\n      <td>2857</td>\n      <td>1.921</td>\n      <td>577</td>\n      <td>20</td>\n      <td>C</td>\n      <td>1979</td>\n      <td>...</td>\n      <td>10</td>\n      <td>2</td>\n      <td>9</td>\n      <td>0</td>\n      <td>0</td>\n      <td>5</td>\n      <td>0</td>\n      <td>4</td>\n      <td>18</td>\n      <td>1</td>\n    </tr>\n    <tr>\n      <th>2</th>\n      <td>Mark Messier</td>\n      <td>1756</td>\n      <td>694</td>\n      <td>1193</td>\n      <td>1887</td>\n      <td>1.075</td>\n      <td>1910</td>\n      <td>25</td>\n      <td>C</td>\n      <td>1979</td>\n      <td>...</td>\n      <td>0</td>\n      <td>1</td>\n      <td>2</td>\n      <td>0</td>\n      <td>0</td>\n      <td>2</td>\n      <td>0</td>\n      <td>0</td>\n      <td>15</td>\n      <td>1</td>\n    </tr>\n    <tr>\n      <th>3</th>\n      <td>Gordie Howe</td>\n      <td>1767</td>\n      <td>801</td>\n      <td>1049</td>\n      <td>1850</td>\n      <td>1.047</td>\n      <td>1685</td>\n      <td>26</td>\n      <td>RW</td>\n      <td>1946</td>\n      <td>...</td>\n      <td>6</td>\n      <td>0</td>\n      <td>6</td>\n      <td>0</td>\n      <td>0</td>\n      <td>0</td>\n      <td>0</td>\n      <td>4</td>\n      <td>23</td>\n      <td>1</td>\n    </tr>\n    <tr>\n      <th>4</th>\n      <td>Ron Francis</td>\n      <td>1731</td>\n      <td>549</td>\n      <td>1249</td>\n      <td>1798</td>\n      <td>1.039</td>\n      <td>979</td>\n      <td>23</td>\n      <td>C</td>\n      <td>1981</td>\n      <td>...</td>\n      <td>0</td>\n      <td>0</td>\n      <td>0</td>\n      <td>0</td>\n      <td>0</td>\n      <td>0</td>\n      <td>0</td>\n      <td>2</td>\n      <td>4</td>\n      <td>1</td>\n    </tr>\n    <tr>\n      <th>5</th>\n      <td>Marcel Dionne</td>\n      <td>1348</td>\n      <td>731</td>\n      <td>1040</td>\n      <td>1771</td>\n      <td>1.314</td>\n      <td>600</td>\n      <td>18</td>\n      <td>C</td>\n      <td>1971</td>\n      <td>...</td>\n      <td>1</td>\n      <td>0</td>\n      <td>0</td>\n      <td>0</td>\n      <td>0</td>\n      <td>2</td>\n      <td>0</td>\n      <td>0</td>\n      <td>8</td>\n      <td>1</td>\n    </tr>\n  </tbody>\n</table>\n<p>5 rows × 21 columns</p>\n</div>"
     },
     "metadata": {},
     "execution_count": 92
    }
   ],
   "source": [
    "# Create test_train data for players that have not played as of 2017, essentially retired players\n",
    "test_train_df = master_stats_file_df[master_stats_file_df['lastYear'] < 2017]\n",
    "test_train_df = test_train_df.fillna(0)\n",
    "test_train_df.head()"
   ]
  },
  {
   "cell_type": "code",
   "execution_count": 93,
   "metadata": {},
   "outputs": [],
   "source": [
    "# Save the file to csv\n",
    "test_train_df.to_csv(\"Output/test_train_file.csv\", index=False, header=True, encoding='utf-8-sig')"
   ]
  },
  {
   "cell_type": "code",
   "execution_count": 94,
   "metadata": {},
   "outputs": [
    {
     "output_type": "execute_result",
     "data": {
      "text/plain": [
       "                Player    GP    G     A    TP    PPG   PIM  Years POS  \\\n",
       "1         Jaromir Jagr  1733  766  1155  1921  1.108  1167     24  RW   \n",
       "13        Joe Thornton  1640  421  1090  1511  0.921  1250     23   C   \n",
       "33       Jarome Iginla  1554  625   675  1300  0.837  1040     21  RW   \n",
       "34  Alexander Ovechkin  1156  707   576  1283  1.110   719     16  LW   \n",
       "37       Sidney Crosby   988  465   803  1268  1.283   675     16   C   \n",
       "\n",
       "    firstYear  ...  Art Ross Awards  Conn Smythe Awards  Hart Awards  \\\n",
       "1        1990  ...                5                   0            1   \n",
       "13       1997  ...                1                   0            1   \n",
       "33       1995  ...                1                   0            0   \n",
       "34       2005  ...                1                   1            3   \n",
       "37       2005  ...                2                   2            2   \n",
       "\n",
       "    Calder Awards  James Norris Awards  Ted Lindsay Awards  \\\n",
       "1               0                    0                   3   \n",
       "13              0                    0                   0   \n",
       "33              0                    0                   1   \n",
       "34              1                    0                   3   \n",
       "37              0                    0                   3   \n",
       "\n",
       "    Maurice Richard Awards  Cups  All-Star Games  HoF  \n",
       "1                        0     2              10    0  \n",
       "13                       0     0               6    0  \n",
       "33                       2     0               6    1  \n",
       "34                       9     1               7    0  \n",
       "37                       2     3               4    0  \n",
       "\n",
       "[5 rows x 21 columns]"
      ],
      "text/html": "<div>\n<style scoped>\n    .dataframe tbody tr th:only-of-type {\n        vertical-align: middle;\n    }\n\n    .dataframe tbody tr th {\n        vertical-align: top;\n    }\n\n    .dataframe thead th {\n        text-align: right;\n    }\n</style>\n<table border=\"1\" class=\"dataframe\">\n  <thead>\n    <tr style=\"text-align: right;\">\n      <th></th>\n      <th>Player</th>\n      <th>GP</th>\n      <th>G</th>\n      <th>A</th>\n      <th>TP</th>\n      <th>PPG</th>\n      <th>PIM</th>\n      <th>Years</th>\n      <th>POS</th>\n      <th>firstYear</th>\n      <th>...</th>\n      <th>Art Ross Awards</th>\n      <th>Conn Smythe Awards</th>\n      <th>Hart Awards</th>\n      <th>Calder Awards</th>\n      <th>James Norris Awards</th>\n      <th>Ted Lindsay Awards</th>\n      <th>Maurice Richard Awards</th>\n      <th>Cups</th>\n      <th>All-Star Games</th>\n      <th>HoF</th>\n    </tr>\n  </thead>\n  <tbody>\n    <tr>\n      <th>1</th>\n      <td>Jaromir Jagr</td>\n      <td>1733</td>\n      <td>766</td>\n      <td>1155</td>\n      <td>1921</td>\n      <td>1.108</td>\n      <td>1167</td>\n      <td>24</td>\n      <td>RW</td>\n      <td>1990</td>\n      <td>...</td>\n      <td>5</td>\n      <td>0</td>\n      <td>1</td>\n      <td>0</td>\n      <td>0</td>\n      <td>3</td>\n      <td>0</td>\n      <td>2</td>\n      <td>10</td>\n      <td>0</td>\n    </tr>\n    <tr>\n      <th>13</th>\n      <td>Joe Thornton</td>\n      <td>1640</td>\n      <td>421</td>\n      <td>1090</td>\n      <td>1511</td>\n      <td>0.921</td>\n      <td>1250</td>\n      <td>23</td>\n      <td>C</td>\n      <td>1997</td>\n      <td>...</td>\n      <td>1</td>\n      <td>0</td>\n      <td>1</td>\n      <td>0</td>\n      <td>0</td>\n      <td>0</td>\n      <td>0</td>\n      <td>0</td>\n      <td>6</td>\n      <td>0</td>\n    </tr>\n    <tr>\n      <th>33</th>\n      <td>Jarome Iginla</td>\n      <td>1554</td>\n      <td>625</td>\n      <td>675</td>\n      <td>1300</td>\n      <td>0.837</td>\n      <td>1040</td>\n      <td>21</td>\n      <td>RW</td>\n      <td>1995</td>\n      <td>...</td>\n      <td>1</td>\n      <td>0</td>\n      <td>0</td>\n      <td>0</td>\n      <td>0</td>\n      <td>1</td>\n      <td>2</td>\n      <td>0</td>\n      <td>6</td>\n      <td>1</td>\n    </tr>\n    <tr>\n      <th>34</th>\n      <td>Alexander Ovechkin</td>\n      <td>1156</td>\n      <td>707</td>\n      <td>576</td>\n      <td>1283</td>\n      <td>1.110</td>\n      <td>719</td>\n      <td>16</td>\n      <td>LW</td>\n      <td>2005</td>\n      <td>...</td>\n      <td>1</td>\n      <td>1</td>\n      <td>3</td>\n      <td>1</td>\n      <td>0</td>\n      <td>3</td>\n      <td>9</td>\n      <td>1</td>\n      <td>7</td>\n      <td>0</td>\n    </tr>\n    <tr>\n      <th>37</th>\n      <td>Sidney Crosby</td>\n      <td>988</td>\n      <td>465</td>\n      <td>803</td>\n      <td>1268</td>\n      <td>1.283</td>\n      <td>675</td>\n      <td>16</td>\n      <td>C</td>\n      <td>2005</td>\n      <td>...</td>\n      <td>2</td>\n      <td>2</td>\n      <td>2</td>\n      <td>0</td>\n      <td>0</td>\n      <td>3</td>\n      <td>2</td>\n      <td>3</td>\n      <td>4</td>\n      <td>0</td>\n    </tr>\n  </tbody>\n</table>\n<p>5 rows × 21 columns</p>\n</div>"
     },
     "metadata": {},
     "execution_count": 94
    }
   ],
   "source": [
    "# Create predict data for palyers who played their last game as of 2017, includes active players as well\n",
    "predict_df = master_stats_file_df[master_stats_file_df['lastYear'] >= 2017]\n",
    "predict_df = predict_df.fillna(0)\n",
    "predict_df.head()"
   ]
  },
  {
   "cell_type": "code",
   "execution_count": 95,
   "metadata": {},
   "outputs": [],
   "source": [
    "# Save the file to csv\n",
    "predict_df.to_csv(\"Output/predict_file.csv\", index=False, header=True, encoding='utf-8-sig')"
   ]
  },
  {
   "cell_type": "code",
   "execution_count": 96,
   "metadata": {},
   "outputs": [
    {
     "output_type": "execute_result",
     "data": {
      "text/plain": [
       "          Player    GP    G     A    TP    PPG   PIM  Years POS  firstYear  \\\n",
       "0  Wayne Gretzky  1487  894  1963  2857  1.921   577     20   C       1979   \n",
       "2   Mark Messier  1756  694  1193  1887  1.075  1910     25   C       1979   \n",
       "3    Gordie Howe  1767  801  1049  1850  1.047  1685     26  RW       1946   \n",
       "4    Ron Francis  1731  549  1249  1798  1.039   979     23   C       1981   \n",
       "5  Marcel Dionne  1348  731  1040  1771  1.314   600     18   C       1971   \n",
       "\n",
       "   ...  Art Ross Awards  Conn Smythe Awards  Hart Awards  Calder Awards  \\\n",
       "0  ...               10                   2            9              0   \n",
       "2  ...                0                   1            2              0   \n",
       "3  ...                6                   0            6              0   \n",
       "4  ...                0                   0            0              0   \n",
       "5  ...                1                   0            0              0   \n",
       "\n",
       "   James Norris Awards  Ted Lindsay Awards  Maurice Richard Awards  Cups  \\\n",
       "0                    0                   5                       0     4   \n",
       "2                    0                   2                       0     0   \n",
       "3                    0                   0                       0     4   \n",
       "4                    0                   0                       0     2   \n",
       "5                    0                   2                       0     0   \n",
       "\n",
       "   All-Star Games  HoF  \n",
       "0              18    1  \n",
       "2              15    1  \n",
       "3              23    1  \n",
       "4               4    1  \n",
       "5               8    1  \n",
       "\n",
       "[5 rows x 21 columns]"
      ],
      "text/html": "<div>\n<style scoped>\n    .dataframe tbody tr th:only-of-type {\n        vertical-align: middle;\n    }\n\n    .dataframe tbody tr th {\n        vertical-align: top;\n    }\n\n    .dataframe thead th {\n        text-align: right;\n    }\n</style>\n<table border=\"1\" class=\"dataframe\">\n  <thead>\n    <tr style=\"text-align: right;\">\n      <th></th>\n      <th>Player</th>\n      <th>GP</th>\n      <th>G</th>\n      <th>A</th>\n      <th>TP</th>\n      <th>PPG</th>\n      <th>PIM</th>\n      <th>Years</th>\n      <th>POS</th>\n      <th>firstYear</th>\n      <th>...</th>\n      <th>Art Ross Awards</th>\n      <th>Conn Smythe Awards</th>\n      <th>Hart Awards</th>\n      <th>Calder Awards</th>\n      <th>James Norris Awards</th>\n      <th>Ted Lindsay Awards</th>\n      <th>Maurice Richard Awards</th>\n      <th>Cups</th>\n      <th>All-Star Games</th>\n      <th>HoF</th>\n    </tr>\n  </thead>\n  <tbody>\n    <tr>\n      <th>0</th>\n      <td>Wayne Gretzky</td>\n      <td>1487</td>\n      <td>894</td>\n      <td>1963</td>\n      <td>2857</td>\n      <td>1.921</td>\n      <td>577</td>\n      <td>20</td>\n      <td>C</td>\n      <td>1979</td>\n      <td>...</td>\n      <td>10</td>\n      <td>2</td>\n      <td>9</td>\n      <td>0</td>\n      <td>0</td>\n      <td>5</td>\n      <td>0</td>\n      <td>4</td>\n      <td>18</td>\n      <td>1</td>\n    </tr>\n    <tr>\n      <th>2</th>\n      <td>Mark Messier</td>\n      <td>1756</td>\n      <td>694</td>\n      <td>1193</td>\n      <td>1887</td>\n      <td>1.075</td>\n      <td>1910</td>\n      <td>25</td>\n      <td>C</td>\n      <td>1979</td>\n      <td>...</td>\n      <td>0</td>\n      <td>1</td>\n      <td>2</td>\n      <td>0</td>\n      <td>0</td>\n      <td>2</td>\n      <td>0</td>\n      <td>0</td>\n      <td>15</td>\n      <td>1</td>\n    </tr>\n    <tr>\n      <th>3</th>\n      <td>Gordie Howe</td>\n      <td>1767</td>\n      <td>801</td>\n      <td>1049</td>\n      <td>1850</td>\n      <td>1.047</td>\n      <td>1685</td>\n      <td>26</td>\n      <td>RW</td>\n      <td>1946</td>\n      <td>...</td>\n      <td>6</td>\n      <td>0</td>\n      <td>6</td>\n      <td>0</td>\n      <td>0</td>\n      <td>0</td>\n      <td>0</td>\n      <td>4</td>\n      <td>23</td>\n      <td>1</td>\n    </tr>\n    <tr>\n      <th>4</th>\n      <td>Ron Francis</td>\n      <td>1731</td>\n      <td>549</td>\n      <td>1249</td>\n      <td>1798</td>\n      <td>1.039</td>\n      <td>979</td>\n      <td>23</td>\n      <td>C</td>\n      <td>1981</td>\n      <td>...</td>\n      <td>0</td>\n      <td>0</td>\n      <td>0</td>\n      <td>0</td>\n      <td>0</td>\n      <td>0</td>\n      <td>0</td>\n      <td>2</td>\n      <td>4</td>\n      <td>1</td>\n    </tr>\n    <tr>\n      <th>5</th>\n      <td>Marcel Dionne</td>\n      <td>1348</td>\n      <td>731</td>\n      <td>1040</td>\n      <td>1771</td>\n      <td>1.314</td>\n      <td>600</td>\n      <td>18</td>\n      <td>C</td>\n      <td>1971</td>\n      <td>...</td>\n      <td>1</td>\n      <td>0</td>\n      <td>0</td>\n      <td>0</td>\n      <td>0</td>\n      <td>2</td>\n      <td>0</td>\n      <td>0</td>\n      <td>8</td>\n      <td>1</td>\n    </tr>\n  </tbody>\n</table>\n<p>5 rows × 21 columns</p>\n</div>"
     },
     "metadata": {},
     "execution_count": 96
    }
   ],
   "source": [
    "# Filtered the test data to only include players that played as of 1967.  Possibly improve ML predictions\n",
    "test_train_filt67_df = master_stats_file_df[(master_stats_file_df['lastYear'] >= 1967) & (master_stats_file_df['lastYear'] < 2017)]\n",
    "test_train_filt67_df = test_train_filt67_df.fillna(0)\n",
    "test_train_filt67_df.head()"
   ]
  },
  {
   "cell_type": "code",
   "execution_count": 98,
   "metadata": {},
   "outputs": [],
   "source": [
    "# Save the file to csv\n",
    "test_train_filt67_df.to_csv(\"Output/test_train_filt67_file.csv\", index=False, header=True, encoding='utf-8-sig')"
   ]
  },
  {
   "cell_type": "code",
   "execution_count": 99,
   "metadata": {},
   "outputs": [
    {
     "output_type": "execute_result",
     "data": {
      "text/plain": [
       "array(['C', 'RW', 'D', 'LW', 'C/RW', 'LW/RW', 'C/W', 'D/C', 'RW/LW',\n",
       "       'LW/C', 'RW/C', 'LW/D', 'W/C', 'C/LW', 'F', 'D/F', 'D/LW', 'D/RW',\n",
       "       'C/D', 'RW/D', 'D/W', 'F/D', 'LW/C/D'], dtype=object)"
      ]
     },
     "metadata": {},
     "execution_count": 99
    }
   ],
   "source": [
    "# Review the different position designations.\n",
    "master_stats_file_df['POS'].unique()"
   ]
  },
  {
   "cell_type": "code",
   "execution_count": 100,
   "metadata": {},
   "outputs": [
    {
     "output_type": "execute_result",
     "data": {
      "text/plain": [
       "<bound method DataFrame.count of                  Player    GP    G     A    TP    PPG   PIM  Years   POS  \\\n",
       "0         Wayne Gretzky  1487  894  1963  2857  1.921   577     20     C   \n",
       "1          Jaromir Jagr  1733  766  1155  1921  1.108  1167     24    RW   \n",
       "2          Mark Messier  1756  694  1193  1887  1.075  1910     25     C   \n",
       "3           Gordie Howe  1767  801  1049  1850  1.047  1685     26    RW   \n",
       "4           Ron Francis  1731  549  1249  1798  1.039   979     23     C   \n",
       "...                 ...   ...  ...   ...   ...    ...   ...    ...   ...   \n",
       "7229  Victor Soderstrom     0    0     0     0  0.000     0      1     D   \n",
       "7230   Jonathan Aspirot     0    0     0     0  0.000     0      1  D/LW   \n",
       "7231      Drew O'Connor     0    0     0     0  0.000     0      1    LW   \n",
       "7232    Jake Neighbours     0    0     0     0  0.000     0      1    LW   \n",
       "7233      Ty Dellandrea     0    0     0     0  0.000     0      1     C   \n",
       "\n",
       "      firstYear  ...  Art Ross Awards  Conn Smythe Awards  Hart Awards  \\\n",
       "0          1979  ...               10                   2            9   \n",
       "1          1990  ...                5                   0            1   \n",
       "2          1979  ...                0                   1            2   \n",
       "3          1946  ...                6                   0            6   \n",
       "4          1981  ...                0                   0            0   \n",
       "...         ...  ...              ...                 ...          ...   \n",
       "7229       2020  ...                0                   0            0   \n",
       "7230       2020  ...                0                   0            0   \n",
       "7231       2020  ...                0                   0            0   \n",
       "7232       2020  ...                0                   0            0   \n",
       "7233       2020  ...                0                   0            0   \n",
       "\n",
       "      Calder Awards  James Norris Awards  Ted Lindsay Awards  \\\n",
       "0                 0                    0                   5   \n",
       "1                 0                    0                   3   \n",
       "2                 0                    0                   2   \n",
       "3                 0                    0                   0   \n",
       "4                 0                    0                   0   \n",
       "...             ...                  ...                 ...   \n",
       "7229              0                    0                   0   \n",
       "7230              0                    0                   0   \n",
       "7231              0                    0                   0   \n",
       "7232              0                    0                   0   \n",
       "7233              0                    0                   0   \n",
       "\n",
       "      Maurice Richard Awards  Cups  All-Star Games  HoF  \n",
       "0                          0     4              18    1  \n",
       "1                          0     2              10    0  \n",
       "2                          0     0              15    1  \n",
       "3                          0     4              23    1  \n",
       "4                          0     2               4    1  \n",
       "...                      ...   ...             ...  ...  \n",
       "7229                       0     0               0    0  \n",
       "7230                       0     0               0    0  \n",
       "7231                       0     0               0    0  \n",
       "7232                       0     0               0    0  \n",
       "7233                       0     0               0    0  \n",
       "\n",
       "[7234 rows x 21 columns]>"
      ]
     },
     "metadata": {},
     "execution_count": 100
    }
   ],
   "source": [
    "master_stats_file_df.count"
   ]
  },
  {
   "cell_type": "code",
   "execution_count": 101,
   "metadata": {},
   "outputs": [
    {
     "output_type": "execute_result",
     "data": {
      "text/plain": [
       "<bound method DataFrame.count of              Player    GP    G     A    TP    PPG   PIM  Years POS  firstYear  \\\n",
       "0     Wayne Gretzky  1487  894  1963  2857  1.921   577     20   C       1979   \n",
       "2      Mark Messier  1756  694  1193  1887  1.075  1910     25   C       1979   \n",
       "3       Gordie Howe  1767  801  1049  1850  1.047  1685     26  RW       1946   \n",
       "4       Ron Francis  1731  549  1249  1798  1.039   979     23   C       1981   \n",
       "5     Marcel Dionne  1348  731  1040  1771  1.314   600     18   C       1971   \n",
       "...             ...   ...  ...   ...   ...    ...   ...    ...  ..        ...   \n",
       "7199  Billy Cameron    39    0     0     0  0.000     2      2  RW       1923   \n",
       "7200   Frank Peters    43    0     0     0  0.000    59      1   D       1930   \n",
       "7201    Gord Strate    61    0     0     0  0.000    34      3   D       1956   \n",
       "7218   Merv Kuryluk     0    0     0     0  0.000     0      1  LW       1961   \n",
       "7219  George McAvoy     0    0     0     0  0.000     0      1   D       1954   \n",
       "\n",
       "      ...  Art Ross Awards  Conn Smythe Awards  Hart Awards  Calder Awards  \\\n",
       "0     ...               10                   2            9              0   \n",
       "2     ...                0                   1            2              0   \n",
       "3     ...                6                   0            6              0   \n",
       "4     ...                0                   0            0              0   \n",
       "5     ...                1                   0            0              0   \n",
       "...   ...              ...                 ...          ...            ...   \n",
       "7199  ...                0                   0            0              0   \n",
       "7200  ...                0                   0            0              0   \n",
       "7201  ...                0                   0            0              0   \n",
       "7218  ...                0                   0            0              0   \n",
       "7219  ...                0                   0            0              0   \n",
       "\n",
       "      James Norris Awards  Ted Lindsay Awards  Maurice Richard Awards  Cups  \\\n",
       "0                       0                   5                       0     4   \n",
       "2                       0                   2                       0     0   \n",
       "3                       0                   0                       0     4   \n",
       "4                       0                   0                       0     2   \n",
       "5                       0                   2                       0     0   \n",
       "...                   ...                 ...                     ...   ...   \n",
       "7199                    0                   0                       0     1   \n",
       "7200                    0                   0                       0     0   \n",
       "7201                    0                   0                       0     0   \n",
       "7218                    0                   0                       0     0   \n",
       "7219                    0                   0                       0     0   \n",
       "\n",
       "      All-Star Games  HoF  \n",
       "0                 18    1  \n",
       "2                 15    1  \n",
       "3                 23    1  \n",
       "4                  4    1  \n",
       "5                  8    1  \n",
       "...              ...  ...  \n",
       "7199               0    0  \n",
       "7200               0    0  \n",
       "7201               0    0  \n",
       "7218               0    0  \n",
       "7219               0    0  \n",
       "\n",
       "[5862 rows x 21 columns]>"
      ]
     },
     "metadata": {},
     "execution_count": 101
    }
   ],
   "source": [
    "test_train_df.count"
   ]
  },
  {
   "cell_type": "code",
   "execution_count": 102,
   "metadata": {},
   "outputs": [
    {
     "output_type": "execute_result",
     "data": {
      "text/plain": [
       "<bound method DataFrame.count of                   Player    GP    G     A    TP    PPG   PIM  Years   POS  \\\n",
       "1           Jaromir Jagr  1733  766  1155  1921  1.108  1167     24    RW   \n",
       "13          Joe Thornton  1640  421  1090  1511  0.921  1250     23     C   \n",
       "33         Jarome Iginla  1554  625   675  1300  0.837  1040     21    RW   \n",
       "34    Alexander Ovechkin  1156  707   576  1283  1.110   719     16    LW   \n",
       "37         Sidney Crosby   988  465   803  1268  1.283   675     16     C   \n",
       "...                  ...   ...  ...   ...   ...    ...   ...    ...   ...   \n",
       "7229   Victor Soderstrom     0    0     0     0  0.000     0      1     D   \n",
       "7230    Jonathan Aspirot     0    0     0     0  0.000     0      1  D/LW   \n",
       "7231       Drew O'Connor     0    0     0     0  0.000     0      1    LW   \n",
       "7232     Jake Neighbours     0    0     0     0  0.000     0      1    LW   \n",
       "7233       Ty Dellandrea     0    0     0     0  0.000     0      1     C   \n",
       "\n",
       "      firstYear  ...  Art Ross Awards  Conn Smythe Awards  Hart Awards  \\\n",
       "1          1990  ...                5                   0            1   \n",
       "13         1997  ...                1                   0            1   \n",
       "33         1995  ...                1                   0            0   \n",
       "34         2005  ...                1                   1            3   \n",
       "37         2005  ...                2                   2            2   \n",
       "...         ...  ...              ...                 ...          ...   \n",
       "7229       2020  ...                0                   0            0   \n",
       "7230       2020  ...                0                   0            0   \n",
       "7231       2020  ...                0                   0            0   \n",
       "7232       2020  ...                0                   0            0   \n",
       "7233       2020  ...                0                   0            0   \n",
       "\n",
       "      Calder Awards  James Norris Awards  Ted Lindsay Awards  \\\n",
       "1                 0                    0                   3   \n",
       "13                0                    0                   0   \n",
       "33                0                    0                   1   \n",
       "34                1                    0                   3   \n",
       "37                0                    0                   3   \n",
       "...             ...                  ...                 ...   \n",
       "7229              0                    0                   0   \n",
       "7230              0                    0                   0   \n",
       "7231              0                    0                   0   \n",
       "7232              0                    0                   0   \n",
       "7233              0                    0                   0   \n",
       "\n",
       "      Maurice Richard Awards  Cups  All-Star Games  HoF  \n",
       "1                          0     2              10    0  \n",
       "13                         0     0               6    0  \n",
       "33                         2     0               6    1  \n",
       "34                         9     1               7    0  \n",
       "37                         2     3               4    0  \n",
       "...                      ...   ...             ...  ...  \n",
       "7229                       0     0               0    0  \n",
       "7230                       0     0               0    0  \n",
       "7231                       0     0               0    0  \n",
       "7232                       0     0               0    0  \n",
       "7233                       0     0               0    0  \n",
       "\n",
       "[1372 rows x 21 columns]>"
      ]
     },
     "metadata": {},
     "execution_count": 102
    }
   ],
   "source": [
    "predict_df.count"
   ]
  },
  {
   "cell_type": "code",
   "execution_count": 103,
   "metadata": {},
   "outputs": [
    {
     "output_type": "execute_result",
     "data": {
      "text/plain": [
       "<bound method DataFrame.count of                 Player    GP    G     A    TP    PPG   PIM  Years   POS  \\\n",
       "0        Wayne Gretzky  1487  894  1963  2857  1.921   577     20     C   \n",
       "2         Mark Messier  1756  694  1193  1887  1.075  1910     25     C   \n",
       "3          Gordie Howe  1767  801  1049  1850  1.047  1685     26    RW   \n",
       "4          Ron Francis  1731  549  1249  1798  1.039   979     23     C   \n",
       "5        Marcel Dionne  1348  731  1040  1771  1.314   600     18     C   \n",
       "...                ...   ...  ...   ...   ...    ...   ...    ...   ...   \n",
       "7188    Rocky Thompson    25    0     0     0  0.000   117      4  D/RW   \n",
       "7189      Paul Higgins    25    0     0     0  0.000   152      2    RW   \n",
       "7191      Nathan Smith    26    0     0     0  0.000    14      5     C   \n",
       "7194         Marc Moro    30    0     0     0  0.000    77      4     D   \n",
       "7197  Stephane Guerard    34    0     0     0  0.000    40      2     D   \n",
       "\n",
       "      firstYear  ...  Art Ross Awards  Conn Smythe Awards  Hart Awards  \\\n",
       "0          1979  ...               10                   2            9   \n",
       "2          1979  ...                0                   1            2   \n",
       "3          1946  ...                6                   0            6   \n",
       "4          1981  ...                0                   0            0   \n",
       "5          1971  ...                1                   0            0   \n",
       "...         ...  ...              ...                 ...          ...   \n",
       "7188       1997  ...                0                   0            0   \n",
       "7189       1981  ...                0                   0            0   \n",
       "7191       2003  ...                0                   0            0   \n",
       "7194       1997  ...                0                   0            0   \n",
       "7197       1987  ...                0                   0            0   \n",
       "\n",
       "      Calder Awards  James Norris Awards  Ted Lindsay Awards  \\\n",
       "0                 0                    0                   5   \n",
       "2                 0                    0                   2   \n",
       "3                 0                    0                   0   \n",
       "4                 0                    0                   0   \n",
       "5                 0                    0                   2   \n",
       "...             ...                  ...                 ...   \n",
       "7188              0                    0                   0   \n",
       "7189              0                    0                   0   \n",
       "7191              0                    0                   0   \n",
       "7194              0                    0                   0   \n",
       "7197              0                    0                   0   \n",
       "\n",
       "      Maurice Richard Awards  Cups  All-Star Games  HoF  \n",
       "0                          0     4              18    1  \n",
       "2                          0     0              15    1  \n",
       "3                          0     4              23    1  \n",
       "4                          0     2               4    1  \n",
       "5                          0     0               8    1  \n",
       "...                      ...   ...             ...  ...  \n",
       "7188                       0     0               0    0  \n",
       "7189                       0     0               0    0  \n",
       "7191                       0     0               0    0  \n",
       "7194                       0     0               0    0  \n",
       "7197                       0     0               0    0  \n",
       "\n",
       "[4690 rows x 21 columns]>"
      ]
     },
     "metadata": {},
     "execution_count": 103
    }
   ],
   "source": [
    "test_train_filt67_df.count"
   ]
  },
  {
   "cell_type": "code",
   "execution_count": 104,
   "metadata": {},
   "outputs": [
    {
     "output_type": "execute_result",
     "data": {
      "text/plain": [
       "                GP            G            A           TP          PPG  \\\n",
       "count  4690.000000  4690.000000  4690.000000  4690.000000  4690.000000   \n",
       "mean    294.881237    52.041365    86.795522   138.837100     0.297325   \n",
       "std     352.812980    97.888867   150.289116   242.769563     0.241818   \n",
       "min       0.000000     0.000000     0.000000     0.000000     0.000000   \n",
       "25%      19.000000     1.000000     2.000000     3.000000     0.125000   \n",
       "50%     126.000000     9.000000    19.000000    30.000000     0.250000   \n",
       "75%     502.750000    55.000000   107.000000   164.000000     0.429000   \n",
       "max    1767.000000   894.000000  1963.000000  2857.000000     1.921000   \n",
       "\n",
       "               PIM       Years    firstYear     lastYear  Art Ross Awards  \\\n",
       "count  4690.000000  4690.00000  4690.000000  4690.000000      4690.000000   \n",
       "mean    277.149467     6.21194  1988.714499  1995.552878         0.010448   \n",
       "std     444.570760     5.07553    13.957730    13.506611         0.231128   \n",
       "min       0.000000     1.00000  1946.000000  1967.000000         0.000000   \n",
       "25%       9.000000     2.00000  1979.000000  1984.000000         0.000000   \n",
       "50%      72.000000     5.00000  1989.000000  1997.000000         0.000000   \n",
       "75%     361.000000    10.00000  2000.000000  2007.000000         0.000000   \n",
       "max    3966.000000    26.00000  2015.000000  2016.000000        10.000000   \n",
       "\n",
       "       Conn Smythe Awards  Hart Awards  Calder Awards  James Norris Awards  \\\n",
       "count         4690.000000  4690.000000    4690.000000          4690.000000   \n",
       "mean             0.005757     0.009808       0.008742             0.011514   \n",
       "std              0.083693     0.194589       0.093099             0.227825   \n",
       "min              0.000000     0.000000       0.000000             0.000000   \n",
       "25%              0.000000     0.000000       0.000000             0.000000   \n",
       "50%              0.000000     0.000000       0.000000             0.000000   \n",
       "75%              0.000000     0.000000       0.000000             0.000000   \n",
       "max              2.000000     9.000000       1.000000             8.000000   \n",
       "\n",
       "       Ted Lindsay Awards  Maurice Richard Awards         Cups  \\\n",
       "count         4690.000000             4690.000000  4690.000000   \n",
       "mean             0.005970                0.001279     0.183582   \n",
       "std              0.123772                0.041285     0.608978   \n",
       "min              0.000000                0.000000     0.000000   \n",
       "25%              0.000000                0.000000     0.000000   \n",
       "50%              0.000000                0.000000     0.000000   \n",
       "75%              0.000000                0.000000     0.000000   \n",
       "max              5.000000                2.000000     4.000000   \n",
       "\n",
       "       All-Star Games          HoF  \n",
       "count     4690.000000  4690.000000  \n",
       "mean         0.343070     0.022601  \n",
       "std          1.413082     0.148644  \n",
       "min          0.000000     0.000000  \n",
       "25%          0.000000     0.000000  \n",
       "50%          0.000000     0.000000  \n",
       "75%          0.000000     0.000000  \n",
       "max         23.000000     1.000000  "
      ],
      "text/html": "<div>\n<style scoped>\n    .dataframe tbody tr th:only-of-type {\n        vertical-align: middle;\n    }\n\n    .dataframe tbody tr th {\n        vertical-align: top;\n    }\n\n    .dataframe thead th {\n        text-align: right;\n    }\n</style>\n<table border=\"1\" class=\"dataframe\">\n  <thead>\n    <tr style=\"text-align: right;\">\n      <th></th>\n      <th>GP</th>\n      <th>G</th>\n      <th>A</th>\n      <th>TP</th>\n      <th>PPG</th>\n      <th>PIM</th>\n      <th>Years</th>\n      <th>firstYear</th>\n      <th>lastYear</th>\n      <th>Art Ross Awards</th>\n      <th>Conn Smythe Awards</th>\n      <th>Hart Awards</th>\n      <th>Calder Awards</th>\n      <th>James Norris Awards</th>\n      <th>Ted Lindsay Awards</th>\n      <th>Maurice Richard Awards</th>\n      <th>Cups</th>\n      <th>All-Star Games</th>\n      <th>HoF</th>\n    </tr>\n  </thead>\n  <tbody>\n    <tr>\n      <th>count</th>\n      <td>4690.000000</td>\n      <td>4690.000000</td>\n      <td>4690.000000</td>\n      <td>4690.000000</td>\n      <td>4690.000000</td>\n      <td>4690.000000</td>\n      <td>4690.00000</td>\n      <td>4690.000000</td>\n      <td>4690.000000</td>\n      <td>4690.000000</td>\n      <td>4690.000000</td>\n      <td>4690.000000</td>\n      <td>4690.000000</td>\n      <td>4690.000000</td>\n      <td>4690.000000</td>\n      <td>4690.000000</td>\n      <td>4690.000000</td>\n      <td>4690.000000</td>\n      <td>4690.000000</td>\n    </tr>\n    <tr>\n      <th>mean</th>\n      <td>294.881237</td>\n      <td>52.041365</td>\n      <td>86.795522</td>\n      <td>138.837100</td>\n      <td>0.297325</td>\n      <td>277.149467</td>\n      <td>6.21194</td>\n      <td>1988.714499</td>\n      <td>1995.552878</td>\n      <td>0.010448</td>\n      <td>0.005757</td>\n      <td>0.009808</td>\n      <td>0.008742</td>\n      <td>0.011514</td>\n      <td>0.005970</td>\n      <td>0.001279</td>\n      <td>0.183582</td>\n      <td>0.343070</td>\n      <td>0.022601</td>\n    </tr>\n    <tr>\n      <th>std</th>\n      <td>352.812980</td>\n      <td>97.888867</td>\n      <td>150.289116</td>\n      <td>242.769563</td>\n      <td>0.241818</td>\n      <td>444.570760</td>\n      <td>5.07553</td>\n      <td>13.957730</td>\n      <td>13.506611</td>\n      <td>0.231128</td>\n      <td>0.083693</td>\n      <td>0.194589</td>\n      <td>0.093099</td>\n      <td>0.227825</td>\n      <td>0.123772</td>\n      <td>0.041285</td>\n      <td>0.608978</td>\n      <td>1.413082</td>\n      <td>0.148644</td>\n    </tr>\n    <tr>\n      <th>min</th>\n      <td>0.000000</td>\n      <td>0.000000</td>\n      <td>0.000000</td>\n      <td>0.000000</td>\n      <td>0.000000</td>\n      <td>0.000000</td>\n      <td>1.00000</td>\n      <td>1946.000000</td>\n      <td>1967.000000</td>\n      <td>0.000000</td>\n      <td>0.000000</td>\n      <td>0.000000</td>\n      <td>0.000000</td>\n      <td>0.000000</td>\n      <td>0.000000</td>\n      <td>0.000000</td>\n      <td>0.000000</td>\n      <td>0.000000</td>\n      <td>0.000000</td>\n    </tr>\n    <tr>\n      <th>25%</th>\n      <td>19.000000</td>\n      <td>1.000000</td>\n      <td>2.000000</td>\n      <td>3.000000</td>\n      <td>0.125000</td>\n      <td>9.000000</td>\n      <td>2.00000</td>\n      <td>1979.000000</td>\n      <td>1984.000000</td>\n      <td>0.000000</td>\n      <td>0.000000</td>\n      <td>0.000000</td>\n      <td>0.000000</td>\n      <td>0.000000</td>\n      <td>0.000000</td>\n      <td>0.000000</td>\n      <td>0.000000</td>\n      <td>0.000000</td>\n      <td>0.000000</td>\n    </tr>\n    <tr>\n      <th>50%</th>\n      <td>126.000000</td>\n      <td>9.000000</td>\n      <td>19.000000</td>\n      <td>30.000000</td>\n      <td>0.250000</td>\n      <td>72.000000</td>\n      <td>5.00000</td>\n      <td>1989.000000</td>\n      <td>1997.000000</td>\n      <td>0.000000</td>\n      <td>0.000000</td>\n      <td>0.000000</td>\n      <td>0.000000</td>\n      <td>0.000000</td>\n      <td>0.000000</td>\n      <td>0.000000</td>\n      <td>0.000000</td>\n      <td>0.000000</td>\n      <td>0.000000</td>\n    </tr>\n    <tr>\n      <th>75%</th>\n      <td>502.750000</td>\n      <td>55.000000</td>\n      <td>107.000000</td>\n      <td>164.000000</td>\n      <td>0.429000</td>\n      <td>361.000000</td>\n      <td>10.00000</td>\n      <td>2000.000000</td>\n      <td>2007.000000</td>\n      <td>0.000000</td>\n      <td>0.000000</td>\n      <td>0.000000</td>\n      <td>0.000000</td>\n      <td>0.000000</td>\n      <td>0.000000</td>\n      <td>0.000000</td>\n      <td>0.000000</td>\n      <td>0.000000</td>\n      <td>0.000000</td>\n    </tr>\n    <tr>\n      <th>max</th>\n      <td>1767.000000</td>\n      <td>894.000000</td>\n      <td>1963.000000</td>\n      <td>2857.000000</td>\n      <td>1.921000</td>\n      <td>3966.000000</td>\n      <td>26.00000</td>\n      <td>2015.000000</td>\n      <td>2016.000000</td>\n      <td>10.000000</td>\n      <td>2.000000</td>\n      <td>9.000000</td>\n      <td>1.000000</td>\n      <td>8.000000</td>\n      <td>5.000000</td>\n      <td>2.000000</td>\n      <td>4.000000</td>\n      <td>23.000000</td>\n      <td>1.000000</td>\n    </tr>\n  </tbody>\n</table>\n</div>"
     },
     "metadata": {},
     "execution_count": 104
    }
   ],
   "source": [
    "test_train_filt67_df.describe()"
   ]
  },
  {
   "cell_type": "code",
   "execution_count": 105,
   "metadata": {},
   "outputs": [
    {
     "output_type": "execute_result",
     "data": {
      "text/plain": [
       "<bound method DataFrame.count of                 Player    GP    G     A    TP    PPG   PIM  Years    POS  \\\n",
       "0        Wayne Gretzky  1487  894  1963  2857  1.921   577     20      C   \n",
       "2         Mark Messier  1756  694  1193  1887  1.075  1910     25      C   \n",
       "3          Gordie Howe  1767  801  1049  1850  1.047  1685     26     RW   \n",
       "4          Ron Francis  1731  549  1249  1798  1.039   979     23      C   \n",
       "5        Marcel Dionne  1348  731  1040  1771  1.314   600     18      C   \n",
       "...                ...   ...  ...   ...   ...    ...   ...    ...    ...   \n",
       "2297        Ryan Jones   334   54    46   100  0.299   181      6  LW/RW   \n",
       "2300  Rosaire Paiement   190   48    52   100  0.526   343      5      C   \n",
       "2301   Daniel Carcillo   429   48    52   100  0.233  1233      9     LW   \n",
       "2302      Jim McKenzie   880   48    52   100  0.114  1739     15     LW   \n",
       "2307   Michael Thelven   207   20    80   100  0.483   217      5      D   \n",
       "\n",
       "      firstYear  ...  Art Ross Awards  Conn Smythe Awards  Hart Awards  \\\n",
       "0          1979  ...               10                   2            9   \n",
       "2          1979  ...                0                   1            2   \n",
       "3          1946  ...                6                   0            6   \n",
       "4          1981  ...                0                   0            0   \n",
       "5          1971  ...                1                   0            0   \n",
       "...         ...  ...              ...                 ...          ...   \n",
       "2297       2008  ...                0                   0            0   \n",
       "2300       1967  ...                0                   0            0   \n",
       "2301       2006  ...                0                   0            0   \n",
       "2302       1989  ...                0                   0            0   \n",
       "2307       1985  ...                0                   0            0   \n",
       "\n",
       "      Calder Awards  James Norris Awards  Ted Lindsay Awards  \\\n",
       "0                 0                    0                   5   \n",
       "2                 0                    0                   2   \n",
       "3                 0                    0                   0   \n",
       "4                 0                    0                   0   \n",
       "5                 0                    0                   2   \n",
       "...             ...                  ...                 ...   \n",
       "2297              0                    0                   0   \n",
       "2300              0                    0                   0   \n",
       "2301              0                    0                   0   \n",
       "2302              0                    0                   0   \n",
       "2307              0                    0                   0   \n",
       "\n",
       "      Maurice Richard Awards  Cups  All-Star Games  HoF  \n",
       "0                          0     4              18    1  \n",
       "2                          0     0              15    1  \n",
       "3                          0     4              23    1  \n",
       "4                          0     2               4    1  \n",
       "5                          0     0               8    1  \n",
       "...                      ...   ...             ...  ...  \n",
       "2297                       0     0               0    0  \n",
       "2300                       0     0               0    0  \n",
       "2301                       0     2               0    0  \n",
       "2302                       0     1               0    0  \n",
       "2307                       0     0               0    0  \n",
       "\n",
       "[1539 rows x 21 columns]>"
      ]
     },
     "metadata": {},
     "execution_count": 105
    }
   ],
   "source": [
    "test_train_filt67_mingame_df = master_stats_file_df[(master_stats_file_df['lastYear'] >= 1967) & (master_stats_file_df['lastYear'] < 2017) &                                                        (master_stats_file_df['TP'] > 99)]\n",
    "test_train_filt67_mingame_df = test_train_filt67_mingame_df.fillna(0)\n",
    "test_train_filt67_mingame_df.count"
   ]
  },
  {
   "cell_type": "code",
   "execution_count": 106,
   "metadata": {},
   "outputs": [
    {
     "output_type": "execute_result",
     "data": {
      "text/plain": [
       "                GP            G            A           TP          PPG  \\\n",
       "count  1539.000000  1539.000000  1539.000000  1539.000000  1539.000000   \n",
       "mean    712.050032   144.919428   238.077323   382.996101     0.512543   \n",
       "std     299.842884   127.194234   184.799015   299.265438     0.228532   \n",
       "min     137.000000     8.000000    41.000000   100.000000     0.114000   \n",
       "25%     482.000000    56.000000   110.000000   168.000000     0.344000   \n",
       "50%     684.000000   100.000000   182.000000   285.000000     0.481000   \n",
       "75%     906.500000   194.000000   308.500000   498.000000     0.641500   \n",
       "max    1767.000000   894.000000  1963.000000  2857.000000     1.921000   \n",
       "\n",
       "               PIM        Years    firstYear     lastYear  Art Ross Awards  \\\n",
       "count  1539.000000  1539.000000  1539.000000  1539.000000      1539.000000   \n",
       "mean    629.163743    11.923977  1982.879792  1995.489279         0.031839   \n",
       "std     543.974463     4.047355    12.859973    13.206536         0.402721   \n",
       "min      24.000000     2.000000  1946.000000  1967.000000         0.000000   \n",
       "25%     241.500000     9.000000  1974.000000  1984.000000         0.000000   \n",
       "50%     469.000000    12.000000  1983.000000  1997.000000         0.000000   \n",
       "75%     830.000000    15.000000  1993.000000  2007.000000         0.000000   \n",
       "max    3966.000000    26.000000  2010.000000  2016.000000        10.000000   \n",
       "\n",
       "       Conn Smythe Awards  Hart Awards  Calder Awards  James Norris Awards  \\\n",
       "count         1539.000000  1539.000000    1539.000000          1539.000000   \n",
       "mean             0.017544     0.029890       0.026641             0.035088   \n",
       "std              0.145425     0.338882       0.161083             0.396756   \n",
       "min              0.000000     0.000000       0.000000             0.000000   \n",
       "25%              0.000000     0.000000       0.000000             0.000000   \n",
       "50%              0.000000     0.000000       0.000000             0.000000   \n",
       "75%              0.000000     0.000000       0.000000             0.000000   \n",
       "max              2.000000     9.000000       1.000000             8.000000   \n",
       "\n",
       "       Ted Lindsay Awards  Maurice Richard Awards         Cups  \\\n",
       "count         1539.000000             1539.000000  1539.000000   \n",
       "mean             0.018194                0.003899     0.474334   \n",
       "std              0.215599                0.072016     0.936104   \n",
       "min              0.000000                0.000000     0.000000   \n",
       "25%              0.000000                0.000000     0.000000   \n",
       "50%              0.000000                0.000000     0.000000   \n",
       "75%              0.000000                0.000000     1.000000   \n",
       "max              5.000000                2.000000     4.000000   \n",
       "\n",
       "       All-Star Games          HoF  \n",
       "count     1539.000000  1539.000000  \n",
       "mean         1.033788     0.068876  \n",
       "std          2.312718     0.253325  \n",
       "min          0.000000     0.000000  \n",
       "25%          0.000000     0.000000  \n",
       "50%          0.000000     0.000000  \n",
       "75%          1.000000     0.000000  \n",
       "max         23.000000     1.000000  "
      ],
      "text/html": "<div>\n<style scoped>\n    .dataframe tbody tr th:only-of-type {\n        vertical-align: middle;\n    }\n\n    .dataframe tbody tr th {\n        vertical-align: top;\n    }\n\n    .dataframe thead th {\n        text-align: right;\n    }\n</style>\n<table border=\"1\" class=\"dataframe\">\n  <thead>\n    <tr style=\"text-align: right;\">\n      <th></th>\n      <th>GP</th>\n      <th>G</th>\n      <th>A</th>\n      <th>TP</th>\n      <th>PPG</th>\n      <th>PIM</th>\n      <th>Years</th>\n      <th>firstYear</th>\n      <th>lastYear</th>\n      <th>Art Ross Awards</th>\n      <th>Conn Smythe Awards</th>\n      <th>Hart Awards</th>\n      <th>Calder Awards</th>\n      <th>James Norris Awards</th>\n      <th>Ted Lindsay Awards</th>\n      <th>Maurice Richard Awards</th>\n      <th>Cups</th>\n      <th>All-Star Games</th>\n      <th>HoF</th>\n    </tr>\n  </thead>\n  <tbody>\n    <tr>\n      <th>count</th>\n      <td>1539.000000</td>\n      <td>1539.000000</td>\n      <td>1539.000000</td>\n      <td>1539.000000</td>\n      <td>1539.000000</td>\n      <td>1539.000000</td>\n      <td>1539.000000</td>\n      <td>1539.000000</td>\n      <td>1539.000000</td>\n      <td>1539.000000</td>\n      <td>1539.000000</td>\n      <td>1539.000000</td>\n      <td>1539.000000</td>\n      <td>1539.000000</td>\n      <td>1539.000000</td>\n      <td>1539.000000</td>\n      <td>1539.000000</td>\n      <td>1539.000000</td>\n      <td>1539.000000</td>\n    </tr>\n    <tr>\n      <th>mean</th>\n      <td>712.050032</td>\n      <td>144.919428</td>\n      <td>238.077323</td>\n      <td>382.996101</td>\n      <td>0.512543</td>\n      <td>629.163743</td>\n      <td>11.923977</td>\n      <td>1982.879792</td>\n      <td>1995.489279</td>\n      <td>0.031839</td>\n      <td>0.017544</td>\n      <td>0.029890</td>\n      <td>0.026641</td>\n      <td>0.035088</td>\n      <td>0.018194</td>\n      <td>0.003899</td>\n      <td>0.474334</td>\n      <td>1.033788</td>\n      <td>0.068876</td>\n    </tr>\n    <tr>\n      <th>std</th>\n      <td>299.842884</td>\n      <td>127.194234</td>\n      <td>184.799015</td>\n      <td>299.265438</td>\n      <td>0.228532</td>\n      <td>543.974463</td>\n      <td>4.047355</td>\n      <td>12.859973</td>\n      <td>13.206536</td>\n      <td>0.402721</td>\n      <td>0.145425</td>\n      <td>0.338882</td>\n      <td>0.161083</td>\n      <td>0.396756</td>\n      <td>0.215599</td>\n      <td>0.072016</td>\n      <td>0.936104</td>\n      <td>2.312718</td>\n      <td>0.253325</td>\n    </tr>\n    <tr>\n      <th>min</th>\n      <td>137.000000</td>\n      <td>8.000000</td>\n      <td>41.000000</td>\n      <td>100.000000</td>\n      <td>0.114000</td>\n      <td>24.000000</td>\n      <td>2.000000</td>\n      <td>1946.000000</td>\n      <td>1967.000000</td>\n      <td>0.000000</td>\n      <td>0.000000</td>\n      <td>0.000000</td>\n      <td>0.000000</td>\n      <td>0.000000</td>\n      <td>0.000000</td>\n      <td>0.000000</td>\n      <td>0.000000</td>\n      <td>0.000000</td>\n      <td>0.000000</td>\n    </tr>\n    <tr>\n      <th>25%</th>\n      <td>482.000000</td>\n      <td>56.000000</td>\n      <td>110.000000</td>\n      <td>168.000000</td>\n      <td>0.344000</td>\n      <td>241.500000</td>\n      <td>9.000000</td>\n      <td>1974.000000</td>\n      <td>1984.000000</td>\n      <td>0.000000</td>\n      <td>0.000000</td>\n      <td>0.000000</td>\n      <td>0.000000</td>\n      <td>0.000000</td>\n      <td>0.000000</td>\n      <td>0.000000</td>\n      <td>0.000000</td>\n      <td>0.000000</td>\n      <td>0.000000</td>\n    </tr>\n    <tr>\n      <th>50%</th>\n      <td>684.000000</td>\n      <td>100.000000</td>\n      <td>182.000000</td>\n      <td>285.000000</td>\n      <td>0.481000</td>\n      <td>469.000000</td>\n      <td>12.000000</td>\n      <td>1983.000000</td>\n      <td>1997.000000</td>\n      <td>0.000000</td>\n      <td>0.000000</td>\n      <td>0.000000</td>\n      <td>0.000000</td>\n      <td>0.000000</td>\n      <td>0.000000</td>\n      <td>0.000000</td>\n      <td>0.000000</td>\n      <td>0.000000</td>\n      <td>0.000000</td>\n    </tr>\n    <tr>\n      <th>75%</th>\n      <td>906.500000</td>\n      <td>194.000000</td>\n      <td>308.500000</td>\n      <td>498.000000</td>\n      <td>0.641500</td>\n      <td>830.000000</td>\n      <td>15.000000</td>\n      <td>1993.000000</td>\n      <td>2007.000000</td>\n      <td>0.000000</td>\n      <td>0.000000</td>\n      <td>0.000000</td>\n      <td>0.000000</td>\n      <td>0.000000</td>\n      <td>0.000000</td>\n      <td>0.000000</td>\n      <td>1.000000</td>\n      <td>1.000000</td>\n      <td>0.000000</td>\n    </tr>\n    <tr>\n      <th>max</th>\n      <td>1767.000000</td>\n      <td>894.000000</td>\n      <td>1963.000000</td>\n      <td>2857.000000</td>\n      <td>1.921000</td>\n      <td>3966.000000</td>\n      <td>26.000000</td>\n      <td>2010.000000</td>\n      <td>2016.000000</td>\n      <td>10.000000</td>\n      <td>2.000000</td>\n      <td>9.000000</td>\n      <td>1.000000</td>\n      <td>8.000000</td>\n      <td>5.000000</td>\n      <td>2.000000</td>\n      <td>4.000000</td>\n      <td>23.000000</td>\n      <td>1.000000</td>\n    </tr>\n  </tbody>\n</table>\n</div>"
     },
     "metadata": {},
     "execution_count": 106
    }
   ],
   "source": [
    "test_train_filt67_mingame_df.describe()"
   ]
  },
  {
   "cell_type": "code",
   "execution_count": null,
   "metadata": {},
   "outputs": [],
   "source": []
  }
 ]
}