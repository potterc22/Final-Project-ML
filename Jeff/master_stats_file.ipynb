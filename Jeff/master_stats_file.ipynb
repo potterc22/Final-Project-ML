{
 "metadata": {
  "language_info": {
   "codemirror_mode": {
    "name": "ipython",
    "version": 3
   },
   "file_extension": ".py",
   "mimetype": "text/x-python",
   "name": "python",
   "nbconvert_exporter": "python",
   "pygments_lexer": "ipython3",
   "version": "3.6.10-final"
  },
  "orig_nbformat": 2,
  "kernelspec": {
   "name": "python361064bitbcsconda9956bb7450484f49881ea0c9e482447b",
   "display_name": "Python 3.6.10 64-bit ('bcs': conda)",
   "language": "python"
  }
 },
 "nbformat": 4,
 "nbformat_minor": 2,
 "cells": [
  {
   "source": [
    "Create Master Statistics File by Joining the Stats, Awards, and Hof files"
   ],
   "cell_type": "markdown",
   "metadata": {}
  },
  {
   "cell_type": "code",
   "execution_count": 1,
   "metadata": {},
   "outputs": [],
   "source": [
    "# Import pandas\n",
    "import pandas as pd\n",
    "import numpy as np"
   ]
  },
  {
   "cell_type": "code",
   "execution_count": 2,
   "metadata": {},
   "outputs": [],
   "source": [
    "# Assign file paths to variable and read csv into pandas\n",
    "file_one = \"Output/career_stats_adj.csv\"\n",
    "file_two = \"Output/awards_adj.csv\"\n",
    "file_three = \"Output/hof_adj.csv\"\n",
    "master_stats_df = pd.read_csv(file_one)\n",
    "master_awards_df = pd.read_csv(file_two, encoding=\"ISO-8859-1\")\n",
    "master_hof_df = pd.read_csv(file_three)"
   ]
  },
  {
   "cell_type": "code",
   "execution_count": 3,
   "metadata": {},
   "outputs": [
    {
     "output_type": "execute_result",
     "data": {
      "text/plain": [
       "          Player    GP    G     A    TP    PPG   PIM  Years POS  firstYear  \\\n",
       "0  Wayne Gretzky  1487  894  1963  2857  1.921   577     20   C       1979   \n",
       "1   Jaromir Jagr  1733  766  1155  1921  1.108  1167     24  RW       1990   \n",
       "2   Mark Messier  1756  694  1193  1887  1.075  1910     25   C       1979   \n",
       "3    Gordie Howe  1767  801  1049  1850  1.047  1685     26  RW       1946   \n",
       "4    Ron Francis  1731  549  1249  1798  1.039   979     23   C       1981   \n",
       "\n",
       "   lastYear  \n",
       "0      1999  \n",
       "1      2018  \n",
       "2      2004  \n",
       "3      1980  \n",
       "4      2004  "
      ],
      "text/html": "<div>\n<style scoped>\n    .dataframe tbody tr th:only-of-type {\n        vertical-align: middle;\n    }\n\n    .dataframe tbody tr th {\n        vertical-align: top;\n    }\n\n    .dataframe thead th {\n        text-align: right;\n    }\n</style>\n<table border=\"1\" class=\"dataframe\">\n  <thead>\n    <tr style=\"text-align: right;\">\n      <th></th>\n      <th>Player</th>\n      <th>GP</th>\n      <th>G</th>\n      <th>A</th>\n      <th>TP</th>\n      <th>PPG</th>\n      <th>PIM</th>\n      <th>Years</th>\n      <th>POS</th>\n      <th>firstYear</th>\n      <th>lastYear</th>\n    </tr>\n  </thead>\n  <tbody>\n    <tr>\n      <th>0</th>\n      <td>Wayne Gretzky</td>\n      <td>1487</td>\n      <td>894</td>\n      <td>1963</td>\n      <td>2857</td>\n      <td>1.921</td>\n      <td>577</td>\n      <td>20</td>\n      <td>C</td>\n      <td>1979</td>\n      <td>1999</td>\n    </tr>\n    <tr>\n      <th>1</th>\n      <td>Jaromir Jagr</td>\n      <td>1733</td>\n      <td>766</td>\n      <td>1155</td>\n      <td>1921</td>\n      <td>1.108</td>\n      <td>1167</td>\n      <td>24</td>\n      <td>RW</td>\n      <td>1990</td>\n      <td>2018</td>\n    </tr>\n    <tr>\n      <th>2</th>\n      <td>Mark Messier</td>\n      <td>1756</td>\n      <td>694</td>\n      <td>1193</td>\n      <td>1887</td>\n      <td>1.075</td>\n      <td>1910</td>\n      <td>25</td>\n      <td>C</td>\n      <td>1979</td>\n      <td>2004</td>\n    </tr>\n    <tr>\n      <th>3</th>\n      <td>Gordie Howe</td>\n      <td>1767</td>\n      <td>801</td>\n      <td>1049</td>\n      <td>1850</td>\n      <td>1.047</td>\n      <td>1685</td>\n      <td>26</td>\n      <td>RW</td>\n      <td>1946</td>\n      <td>1980</td>\n    </tr>\n    <tr>\n      <th>4</th>\n      <td>Ron Francis</td>\n      <td>1731</td>\n      <td>549</td>\n      <td>1249</td>\n      <td>1798</td>\n      <td>1.039</td>\n      <td>979</td>\n      <td>23</td>\n      <td>C</td>\n      <td>1981</td>\n      <td>2004</td>\n    </tr>\n  </tbody>\n</table>\n</div>"
     },
     "metadata": {},
     "execution_count": 3
    }
   ],
   "source": [
    "master_stats_df.head()"
   ]
  },
  {
   "cell_type": "code",
   "execution_count": 4,
   "metadata": {},
   "outputs": [
    {
     "output_type": "execute_result",
     "data": {
      "text/plain": [
       "               Player  Art Ross Awards  Conn Smythe Awards  Hart Awards  \\\n",
       "0          Ace Bailey                1                   0            0   \n",
       "1  Alexander Ovechkin                1                   1            3   \n",
       "2            Babe Dye                2                   0            0   \n",
       "3   Bernard Geoffrion                2                   0            1   \n",
       "4           Bill Cook                2                   0            0   \n",
       "\n",
       "   Calder Awards  James Norris Awards  Ted Lindsay Awards  \\\n",
       "0              0                    0                   0   \n",
       "1              1                    0                   3   \n",
       "2              0                    0                   0   \n",
       "3              1                    0                   0   \n",
       "4              0                    0                   0   \n",
       "\n",
       "   Maurice Richard Awards  Cups  All-Star Games  \n",
       "0                       0     1               0  \n",
       "1                       9     1               7  \n",
       "2                       0     1               0  \n",
       "3                       0     0              11  \n",
       "4                       0     2               0  "
      ],
      "text/html": "<div>\n<style scoped>\n    .dataframe tbody tr th:only-of-type {\n        vertical-align: middle;\n    }\n\n    .dataframe tbody tr th {\n        vertical-align: top;\n    }\n\n    .dataframe thead th {\n        text-align: right;\n    }\n</style>\n<table border=\"1\" class=\"dataframe\">\n  <thead>\n    <tr style=\"text-align: right;\">\n      <th></th>\n      <th>Player</th>\n      <th>Art Ross Awards</th>\n      <th>Conn Smythe Awards</th>\n      <th>Hart Awards</th>\n      <th>Calder Awards</th>\n      <th>James Norris Awards</th>\n      <th>Ted Lindsay Awards</th>\n      <th>Maurice Richard Awards</th>\n      <th>Cups</th>\n      <th>All-Star Games</th>\n    </tr>\n  </thead>\n  <tbody>\n    <tr>\n      <th>0</th>\n      <td>Ace Bailey</td>\n      <td>1</td>\n      <td>0</td>\n      <td>0</td>\n      <td>0</td>\n      <td>0</td>\n      <td>0</td>\n      <td>0</td>\n      <td>1</td>\n      <td>0</td>\n    </tr>\n    <tr>\n      <th>1</th>\n      <td>Alexander Ovechkin</td>\n      <td>1</td>\n      <td>1</td>\n      <td>3</td>\n      <td>1</td>\n      <td>0</td>\n      <td>3</td>\n      <td>9</td>\n      <td>1</td>\n      <td>7</td>\n    </tr>\n    <tr>\n      <th>2</th>\n      <td>Babe Dye</td>\n      <td>2</td>\n      <td>0</td>\n      <td>0</td>\n      <td>0</td>\n      <td>0</td>\n      <td>0</td>\n      <td>0</td>\n      <td>1</td>\n      <td>0</td>\n    </tr>\n    <tr>\n      <th>3</th>\n      <td>Bernard Geoffrion</td>\n      <td>2</td>\n      <td>0</td>\n      <td>1</td>\n      <td>1</td>\n      <td>0</td>\n      <td>0</td>\n      <td>0</td>\n      <td>0</td>\n      <td>11</td>\n    </tr>\n    <tr>\n      <th>4</th>\n      <td>Bill Cook</td>\n      <td>2</td>\n      <td>0</td>\n      <td>0</td>\n      <td>0</td>\n      <td>0</td>\n      <td>0</td>\n      <td>0</td>\n      <td>2</td>\n      <td>0</td>\n    </tr>\n  </tbody>\n</table>\n</div>"
     },
     "metadata": {},
     "execution_count": 4
    }
   ],
   "source": [
    "master_awards_df.head()"
   ]
  },
  {
   "cell_type": "code",
   "execution_count": 5,
   "metadata": {},
   "outputs": [
    {
     "output_type": "execute_result",
     "data": {
      "text/plain": [
       "             Player  HoF\n",
       "0       Hobey Baker    1\n",
       "1  Charlie Gardiner    1\n",
       "2      Eddie Gerard    1\n",
       "3       Frank McGee    1\n",
       "4      Howie Morenz    1"
      ],
      "text/html": "<div>\n<style scoped>\n    .dataframe tbody tr th:only-of-type {\n        vertical-align: middle;\n    }\n\n    .dataframe tbody tr th {\n        vertical-align: top;\n    }\n\n    .dataframe thead th {\n        text-align: right;\n    }\n</style>\n<table border=\"1\" class=\"dataframe\">\n  <thead>\n    <tr style=\"text-align: right;\">\n      <th></th>\n      <th>Player</th>\n      <th>HoF</th>\n    </tr>\n  </thead>\n  <tbody>\n    <tr>\n      <th>0</th>\n      <td>Hobey Baker</td>\n      <td>1</td>\n    </tr>\n    <tr>\n      <th>1</th>\n      <td>Charlie Gardiner</td>\n      <td>1</td>\n    </tr>\n    <tr>\n      <th>2</th>\n      <td>Eddie Gerard</td>\n      <td>1</td>\n    </tr>\n    <tr>\n      <th>3</th>\n      <td>Frank McGee</td>\n      <td>1</td>\n    </tr>\n    <tr>\n      <th>4</th>\n      <td>Howie Morenz</td>\n      <td>1</td>\n    </tr>\n  </tbody>\n</table>\n</div>"
     },
     "metadata": {},
     "execution_count": 5
    }
   ],
   "source": [
    "master_hof_df.head()"
   ]
  },
  {
   "source": [
    "Merge the awards and hof files to the stats file by left join."
   ],
   "cell_type": "markdown",
   "metadata": {}
  },
  {
   "cell_type": "code",
   "execution_count": 6,
   "metadata": {},
   "outputs": [
    {
     "output_type": "execute_result",
     "data": {
      "text/plain": [
       "          Player    GP    G     A    TP    PPG   PIM  Years POS  firstYear  \\\n",
       "0  Wayne Gretzky  1487  894  1963  2857  1.921   577     20   C       1979   \n",
       "1   Jaromir Jagr  1733  766  1155  1921  1.108  1167     24  RW       1990   \n",
       "2   Mark Messier  1756  694  1193  1887  1.075  1910     25   C       1979   \n",
       "3    Gordie Howe  1767  801  1049  1850  1.047  1685     26  RW       1946   \n",
       "4    Ron Francis  1731  549  1249  1798  1.039   979     23   C       1981   \n",
       "\n",
       "   lastYear  Art Ross Awards  Conn Smythe Awards  Hart Awards  Calder Awards  \\\n",
       "0      1999             10.0                 2.0          9.0            0.0   \n",
       "1      2018              5.0                 0.0          1.0            0.0   \n",
       "2      2004              0.0                 1.0          2.0            0.0   \n",
       "3      1980              6.0                 0.0          6.0            0.0   \n",
       "4      2004              0.0                 0.0          0.0            0.0   \n",
       "\n",
       "   James Norris Awards  Ted Lindsay Awards  Maurice Richard Awards  Cups  \\\n",
       "0                  0.0                 5.0                     0.0   4.0   \n",
       "1                  0.0                 3.0                     0.0   2.0   \n",
       "2                  0.0                 2.0                     0.0   0.0   \n",
       "3                  0.0                 0.0                     0.0   4.0   \n",
       "4                  0.0                 0.0                     0.0   2.0   \n",
       "\n",
       "   All-Star Games  \n",
       "0            18.0  \n",
       "1            10.0  \n",
       "2            15.0  \n",
       "3            23.0  \n",
       "4             4.0  "
      ],
      "text/html": "<div>\n<style scoped>\n    .dataframe tbody tr th:only-of-type {\n        vertical-align: middle;\n    }\n\n    .dataframe tbody tr th {\n        vertical-align: top;\n    }\n\n    .dataframe thead th {\n        text-align: right;\n    }\n</style>\n<table border=\"1\" class=\"dataframe\">\n  <thead>\n    <tr style=\"text-align: right;\">\n      <th></th>\n      <th>Player</th>\n      <th>GP</th>\n      <th>G</th>\n      <th>A</th>\n      <th>TP</th>\n      <th>PPG</th>\n      <th>PIM</th>\n      <th>Years</th>\n      <th>POS</th>\n      <th>firstYear</th>\n      <th>lastYear</th>\n      <th>Art Ross Awards</th>\n      <th>Conn Smythe Awards</th>\n      <th>Hart Awards</th>\n      <th>Calder Awards</th>\n      <th>James Norris Awards</th>\n      <th>Ted Lindsay Awards</th>\n      <th>Maurice Richard Awards</th>\n      <th>Cups</th>\n      <th>All-Star Games</th>\n    </tr>\n  </thead>\n  <tbody>\n    <tr>\n      <th>0</th>\n      <td>Wayne Gretzky</td>\n      <td>1487</td>\n      <td>894</td>\n      <td>1963</td>\n      <td>2857</td>\n      <td>1.921</td>\n      <td>577</td>\n      <td>20</td>\n      <td>C</td>\n      <td>1979</td>\n      <td>1999</td>\n      <td>10.0</td>\n      <td>2.0</td>\n      <td>9.0</td>\n      <td>0.0</td>\n      <td>0.0</td>\n      <td>5.0</td>\n      <td>0.0</td>\n      <td>4.0</td>\n      <td>18.0</td>\n    </tr>\n    <tr>\n      <th>1</th>\n      <td>Jaromir Jagr</td>\n      <td>1733</td>\n      <td>766</td>\n      <td>1155</td>\n      <td>1921</td>\n      <td>1.108</td>\n      <td>1167</td>\n      <td>24</td>\n      <td>RW</td>\n      <td>1990</td>\n      <td>2018</td>\n      <td>5.0</td>\n      <td>0.0</td>\n      <td>1.0</td>\n      <td>0.0</td>\n      <td>0.0</td>\n      <td>3.0</td>\n      <td>0.0</td>\n      <td>2.0</td>\n      <td>10.0</td>\n    </tr>\n    <tr>\n      <th>2</th>\n      <td>Mark Messier</td>\n      <td>1756</td>\n      <td>694</td>\n      <td>1193</td>\n      <td>1887</td>\n      <td>1.075</td>\n      <td>1910</td>\n      <td>25</td>\n      <td>C</td>\n      <td>1979</td>\n      <td>2004</td>\n      <td>0.0</td>\n      <td>1.0</td>\n      <td>2.0</td>\n      <td>0.0</td>\n      <td>0.0</td>\n      <td>2.0</td>\n      <td>0.0</td>\n      <td>0.0</td>\n      <td>15.0</td>\n    </tr>\n    <tr>\n      <th>3</th>\n      <td>Gordie Howe</td>\n      <td>1767</td>\n      <td>801</td>\n      <td>1049</td>\n      <td>1850</td>\n      <td>1.047</td>\n      <td>1685</td>\n      <td>26</td>\n      <td>RW</td>\n      <td>1946</td>\n      <td>1980</td>\n      <td>6.0</td>\n      <td>0.0</td>\n      <td>6.0</td>\n      <td>0.0</td>\n      <td>0.0</td>\n      <td>0.0</td>\n      <td>0.0</td>\n      <td>4.0</td>\n      <td>23.0</td>\n    </tr>\n    <tr>\n      <th>4</th>\n      <td>Ron Francis</td>\n      <td>1731</td>\n      <td>549</td>\n      <td>1249</td>\n      <td>1798</td>\n      <td>1.039</td>\n      <td>979</td>\n      <td>23</td>\n      <td>C</td>\n      <td>1981</td>\n      <td>2004</td>\n      <td>0.0</td>\n      <td>0.0</td>\n      <td>0.0</td>\n      <td>0.0</td>\n      <td>0.0</td>\n      <td>0.0</td>\n      <td>0.0</td>\n      <td>2.0</td>\n      <td>4.0</td>\n    </tr>\n  </tbody>\n</table>\n</div>"
     },
     "metadata": {},
     "execution_count": 6
    }
   ],
   "source": [
    "# Merge Awards data to the stats data by left join\n",
    "master_stats_file_df = pd.merge(left=master_stats_df, right=master_awards_df, how='left', left_on='Player', right_on='Player')\n",
    "master_stats_file_df.head()"
   ]
  },
  {
   "cell_type": "code",
   "execution_count": 7,
   "metadata": {},
   "outputs": [
    {
     "output_type": "execute_result",
     "data": {
      "text/plain": [
       "          Player    GP    G     A    TP    PPG   PIM  Years POS  firstYear  \\\n",
       "0  Wayne Gretzky  1487  894  1963  2857  1.921   577     20   C       1979   \n",
       "1   Jaromir Jagr  1733  766  1155  1921  1.108  1167     24  RW       1990   \n",
       "2   Mark Messier  1756  694  1193  1887  1.075  1910     25   C       1979   \n",
       "3    Gordie Howe  1767  801  1049  1850  1.047  1685     26  RW       1946   \n",
       "4    Ron Francis  1731  549  1249  1798  1.039   979     23   C       1981   \n",
       "\n",
       "   ...  Art Ross Awards  Conn Smythe Awards  Hart Awards  Calder Awards  \\\n",
       "0  ...             10.0                 2.0          9.0            0.0   \n",
       "1  ...              5.0                 0.0          1.0            0.0   \n",
       "2  ...              0.0                 1.0          2.0            0.0   \n",
       "3  ...              6.0                 0.0          6.0            0.0   \n",
       "4  ...              0.0                 0.0          0.0            0.0   \n",
       "\n",
       "   James Norris Awards  Ted Lindsay Awards  Maurice Richard Awards  Cups  \\\n",
       "0                  0.0                 5.0                     0.0   4.0   \n",
       "1                  0.0                 3.0                     0.0   2.0   \n",
       "2                  0.0                 2.0                     0.0   0.0   \n",
       "3                  0.0                 0.0                     0.0   4.0   \n",
       "4                  0.0                 0.0                     0.0   2.0   \n",
       "\n",
       "   All-Star Games  HoF  \n",
       "0            18.0  1.0  \n",
       "1            10.0  NaN  \n",
       "2            15.0  1.0  \n",
       "3            23.0  1.0  \n",
       "4             4.0  1.0  \n",
       "\n",
       "[5 rows x 21 columns]"
      ],
      "text/html": "<div>\n<style scoped>\n    .dataframe tbody tr th:only-of-type {\n        vertical-align: middle;\n    }\n\n    .dataframe tbody tr th {\n        vertical-align: top;\n    }\n\n    .dataframe thead th {\n        text-align: right;\n    }\n</style>\n<table border=\"1\" class=\"dataframe\">\n  <thead>\n    <tr style=\"text-align: right;\">\n      <th></th>\n      <th>Player</th>\n      <th>GP</th>\n      <th>G</th>\n      <th>A</th>\n      <th>TP</th>\n      <th>PPG</th>\n      <th>PIM</th>\n      <th>Years</th>\n      <th>POS</th>\n      <th>firstYear</th>\n      <th>...</th>\n      <th>Art Ross Awards</th>\n      <th>Conn Smythe Awards</th>\n      <th>Hart Awards</th>\n      <th>Calder Awards</th>\n      <th>James Norris Awards</th>\n      <th>Ted Lindsay Awards</th>\n      <th>Maurice Richard Awards</th>\n      <th>Cups</th>\n      <th>All-Star Games</th>\n      <th>HoF</th>\n    </tr>\n  </thead>\n  <tbody>\n    <tr>\n      <th>0</th>\n      <td>Wayne Gretzky</td>\n      <td>1487</td>\n      <td>894</td>\n      <td>1963</td>\n      <td>2857</td>\n      <td>1.921</td>\n      <td>577</td>\n      <td>20</td>\n      <td>C</td>\n      <td>1979</td>\n      <td>...</td>\n      <td>10.0</td>\n      <td>2.0</td>\n      <td>9.0</td>\n      <td>0.0</td>\n      <td>0.0</td>\n      <td>5.0</td>\n      <td>0.0</td>\n      <td>4.0</td>\n      <td>18.0</td>\n      <td>1.0</td>\n    </tr>\n    <tr>\n      <th>1</th>\n      <td>Jaromir Jagr</td>\n      <td>1733</td>\n      <td>766</td>\n      <td>1155</td>\n      <td>1921</td>\n      <td>1.108</td>\n      <td>1167</td>\n      <td>24</td>\n      <td>RW</td>\n      <td>1990</td>\n      <td>...</td>\n      <td>5.0</td>\n      <td>0.0</td>\n      <td>1.0</td>\n      <td>0.0</td>\n      <td>0.0</td>\n      <td>3.0</td>\n      <td>0.0</td>\n      <td>2.0</td>\n      <td>10.0</td>\n      <td>NaN</td>\n    </tr>\n    <tr>\n      <th>2</th>\n      <td>Mark Messier</td>\n      <td>1756</td>\n      <td>694</td>\n      <td>1193</td>\n      <td>1887</td>\n      <td>1.075</td>\n      <td>1910</td>\n      <td>25</td>\n      <td>C</td>\n      <td>1979</td>\n      <td>...</td>\n      <td>0.0</td>\n      <td>1.0</td>\n      <td>2.0</td>\n      <td>0.0</td>\n      <td>0.0</td>\n      <td>2.0</td>\n      <td>0.0</td>\n      <td>0.0</td>\n      <td>15.0</td>\n      <td>1.0</td>\n    </tr>\n    <tr>\n      <th>3</th>\n      <td>Gordie Howe</td>\n      <td>1767</td>\n      <td>801</td>\n      <td>1049</td>\n      <td>1850</td>\n      <td>1.047</td>\n      <td>1685</td>\n      <td>26</td>\n      <td>RW</td>\n      <td>1946</td>\n      <td>...</td>\n      <td>6.0</td>\n      <td>0.0</td>\n      <td>6.0</td>\n      <td>0.0</td>\n      <td>0.0</td>\n      <td>0.0</td>\n      <td>0.0</td>\n      <td>4.0</td>\n      <td>23.0</td>\n      <td>1.0</td>\n    </tr>\n    <tr>\n      <th>4</th>\n      <td>Ron Francis</td>\n      <td>1731</td>\n      <td>549</td>\n      <td>1249</td>\n      <td>1798</td>\n      <td>1.039</td>\n      <td>979</td>\n      <td>23</td>\n      <td>C</td>\n      <td>1981</td>\n      <td>...</td>\n      <td>0.0</td>\n      <td>0.0</td>\n      <td>0.0</td>\n      <td>0.0</td>\n      <td>0.0</td>\n      <td>0.0</td>\n      <td>0.0</td>\n      <td>2.0</td>\n      <td>4.0</td>\n      <td>1.0</td>\n    </tr>\n  </tbody>\n</table>\n<p>5 rows × 21 columns</p>\n</div>"
     },
     "metadata": {},
     "execution_count": 7
    }
   ],
   "source": [
    "# Merge Hall Of Fame data to the stats data by left join\n",
    "master_stats_file_df = pd.merge(left=master_stats_file_df, right=master_hof_df, how='left', left_on='Player', right_on='Player')\n",
    "master_stats_file_df.head()"
   ]
  },
  {
   "cell_type": "code",
   "execution_count": 8,
   "metadata": {},
   "outputs": [
    {
     "output_type": "execute_result",
     "data": {
      "text/plain": [
       "          Player    GP    G     A    TP    PPG   PIM  Years POS  firstYear  \\\n",
       "0  Wayne Gretzky  1487  894  1963  2857  1.921   577     20   C       1979   \n",
       "1   Jaromir Jagr  1733  766  1155  1921  1.108  1167     24  RW       1990   \n",
       "2   Mark Messier  1756  694  1193  1887  1.075  1910     25   C       1979   \n",
       "3    Gordie Howe  1767  801  1049  1850  1.047  1685     26  RW       1946   \n",
       "4    Ron Francis  1731  549  1249  1798  1.039   979     23   C       1981   \n",
       "\n",
       "   ...  Art Ross Awards  Conn Smythe Awards  Hart Awards  Calder Awards  \\\n",
       "0  ...               10                   2            9              0   \n",
       "1  ...                5                   0            1              0   \n",
       "2  ...                0                   1            2              0   \n",
       "3  ...                6                   0            6              0   \n",
       "4  ...                0                   0            0              0   \n",
       "\n",
       "   James Norris Awards  Ted Lindsay Awards  Maurice Richard Awards  Cups  \\\n",
       "0                    0                   5                       0     4   \n",
       "1                    0                   3                       0     2   \n",
       "2                    0                   2                       0     0   \n",
       "3                    0                   0                       0     4   \n",
       "4                    0                   0                       0     2   \n",
       "\n",
       "   All-Star Games  HoF  \n",
       "0              18    1  \n",
       "1              10    0  \n",
       "2              15    1  \n",
       "3              23    1  \n",
       "4               4    1  \n",
       "\n",
       "[5 rows x 21 columns]"
      ],
      "text/html": "<div>\n<style scoped>\n    .dataframe tbody tr th:only-of-type {\n        vertical-align: middle;\n    }\n\n    .dataframe tbody tr th {\n        vertical-align: top;\n    }\n\n    .dataframe thead th {\n        text-align: right;\n    }\n</style>\n<table border=\"1\" class=\"dataframe\">\n  <thead>\n    <tr style=\"text-align: right;\">\n      <th></th>\n      <th>Player</th>\n      <th>GP</th>\n      <th>G</th>\n      <th>A</th>\n      <th>TP</th>\n      <th>PPG</th>\n      <th>PIM</th>\n      <th>Years</th>\n      <th>POS</th>\n      <th>firstYear</th>\n      <th>...</th>\n      <th>Art Ross Awards</th>\n      <th>Conn Smythe Awards</th>\n      <th>Hart Awards</th>\n      <th>Calder Awards</th>\n      <th>James Norris Awards</th>\n      <th>Ted Lindsay Awards</th>\n      <th>Maurice Richard Awards</th>\n      <th>Cups</th>\n      <th>All-Star Games</th>\n      <th>HoF</th>\n    </tr>\n  </thead>\n  <tbody>\n    <tr>\n      <th>0</th>\n      <td>Wayne Gretzky</td>\n      <td>1487</td>\n      <td>894</td>\n      <td>1963</td>\n      <td>2857</td>\n      <td>1.921</td>\n      <td>577</td>\n      <td>20</td>\n      <td>C</td>\n      <td>1979</td>\n      <td>...</td>\n      <td>10</td>\n      <td>2</td>\n      <td>9</td>\n      <td>0</td>\n      <td>0</td>\n      <td>5</td>\n      <td>0</td>\n      <td>4</td>\n      <td>18</td>\n      <td>1</td>\n    </tr>\n    <tr>\n      <th>1</th>\n      <td>Jaromir Jagr</td>\n      <td>1733</td>\n      <td>766</td>\n      <td>1155</td>\n      <td>1921</td>\n      <td>1.108</td>\n      <td>1167</td>\n      <td>24</td>\n      <td>RW</td>\n      <td>1990</td>\n      <td>...</td>\n      <td>5</td>\n      <td>0</td>\n      <td>1</td>\n      <td>0</td>\n      <td>0</td>\n      <td>3</td>\n      <td>0</td>\n      <td>2</td>\n      <td>10</td>\n      <td>0</td>\n    </tr>\n    <tr>\n      <th>2</th>\n      <td>Mark Messier</td>\n      <td>1756</td>\n      <td>694</td>\n      <td>1193</td>\n      <td>1887</td>\n      <td>1.075</td>\n      <td>1910</td>\n      <td>25</td>\n      <td>C</td>\n      <td>1979</td>\n      <td>...</td>\n      <td>0</td>\n      <td>1</td>\n      <td>2</td>\n      <td>0</td>\n      <td>0</td>\n      <td>2</td>\n      <td>0</td>\n      <td>0</td>\n      <td>15</td>\n      <td>1</td>\n    </tr>\n    <tr>\n      <th>3</th>\n      <td>Gordie Howe</td>\n      <td>1767</td>\n      <td>801</td>\n      <td>1049</td>\n      <td>1850</td>\n      <td>1.047</td>\n      <td>1685</td>\n      <td>26</td>\n      <td>RW</td>\n      <td>1946</td>\n      <td>...</td>\n      <td>6</td>\n      <td>0</td>\n      <td>6</td>\n      <td>0</td>\n      <td>0</td>\n      <td>0</td>\n      <td>0</td>\n      <td>4</td>\n      <td>23</td>\n      <td>1</td>\n    </tr>\n    <tr>\n      <th>4</th>\n      <td>Ron Francis</td>\n      <td>1731</td>\n      <td>549</td>\n      <td>1249</td>\n      <td>1798</td>\n      <td>1.039</td>\n      <td>979</td>\n      <td>23</td>\n      <td>C</td>\n      <td>1981</td>\n      <td>...</td>\n      <td>0</td>\n      <td>0</td>\n      <td>0</td>\n      <td>0</td>\n      <td>0</td>\n      <td>0</td>\n      <td>0</td>\n      <td>2</td>\n      <td>4</td>\n      <td>1</td>\n    </tr>\n  </tbody>\n</table>\n<p>5 rows × 21 columns</p>\n</div>"
     },
     "metadata": {},
     "execution_count": 8
    }
   ],
   "source": [
    "# Change all the NaN values to 0 and change numeric columns to integers\n",
    "master_stats_file_df = master_stats_file_df.fillna(0)\n",
    "master_stats_file_df = master_stats_file_df.astype({'GP':'int', 'G':'int', 'A':'int', 'TP':'int', 'PPG':'float', 'PIM':'int', 'Years':'int',                                                       'firstYear':'int', 'lastYear':'int', 'Art Ross Awards':'int',\n",
    "                                                    'Conn Smythe Awards':'int', 'Hart Awards':'int', 'Calder Awards':'int',\n",
    "                                                    'James Norris Awards':'int', 'Ted Lindsay Awards':'int', 'Maurice Richard Awards':'int',                                                        'Cups':'int', 'All-Star Games':'int', 'HoF':'int'}) \n",
    "master_stats_file_df.head()"
   ]
  },
  {
   "cell_type": "code",
   "execution_count": 9,
   "metadata": {},
   "outputs": [
    {
     "output_type": "execute_result",
     "data": {
      "text/plain": [
       "Player                     object\n",
       "GP                          int32\n",
       "G                           int32\n",
       "A                           int32\n",
       "TP                          int32\n",
       "PPG                       float64\n",
       "PIM                         int32\n",
       "Years                       int32\n",
       "POS                        object\n",
       "firstYear                   int32\n",
       "lastYear                    int32\n",
       "Art Ross Awards             int32\n",
       "Conn Smythe Awards          int32\n",
       "Hart Awards                 int32\n",
       "Calder Awards               int32\n",
       "James Norris Awards         int32\n",
       "Ted Lindsay Awards          int32\n",
       "Maurice Richard Awards      int32\n",
       "Cups                        int32\n",
       "All-Star Games              int32\n",
       "HoF                         int32\n",
       "dtype: object"
      ]
     },
     "metadata": {},
     "execution_count": 9
    }
   ],
   "source": [
    "master_stats_file_df.dtypes"
   ]
  },
  {
   "cell_type": "code",
   "execution_count": 11,
   "metadata": {},
   "outputs": [],
   "source": [
    "# Save the file to csv\n",
    "master_stats_file_df.to_csv(\"Output/master_stats_file.csv\", index=False, header=True, encoding='utf-8-sig')"
   ]
  },
  {
   "cell_type": "code",
   "execution_count": 12,
   "metadata": {},
   "outputs": [
    {
     "output_type": "execute_result",
     "data": {
      "text/plain": [
       "          Player    GP    G     A    TP    PPG   PIM  Years POS  firstYear  \\\n",
       "0  Wayne Gretzky  1487  894  1963  2857  1.921   577     20   C       1979   \n",
       "2   Mark Messier  1756  694  1193  1887  1.075  1910     25   C       1979   \n",
       "3    Gordie Howe  1767  801  1049  1850  1.047  1685     26  RW       1946   \n",
       "4    Ron Francis  1731  549  1249  1798  1.039   979     23   C       1981   \n",
       "5  Marcel Dionne  1348  731  1040  1771  1.314   600     18   C       1971   \n",
       "\n",
       "   ...  Art Ross Awards  Conn Smythe Awards  Hart Awards  Calder Awards  \\\n",
       "0  ...               10                   2            9              0   \n",
       "2  ...                0                   1            2              0   \n",
       "3  ...                6                   0            6              0   \n",
       "4  ...                0                   0            0              0   \n",
       "5  ...                1                   0            0              0   \n",
       "\n",
       "   James Norris Awards  Ted Lindsay Awards  Maurice Richard Awards  Cups  \\\n",
       "0                    0                   5                       0     4   \n",
       "2                    0                   2                       0     0   \n",
       "3                    0                   0                       0     4   \n",
       "4                    0                   0                       0     2   \n",
       "5                    0                   2                       0     0   \n",
       "\n",
       "   All-Star Games  HoF  \n",
       "0              18    1  \n",
       "2              15    1  \n",
       "3              23    1  \n",
       "4               4    1  \n",
       "5               8    1  \n",
       "\n",
       "[5 rows x 21 columns]"
      ],
      "text/html": "<div>\n<style scoped>\n    .dataframe tbody tr th:only-of-type {\n        vertical-align: middle;\n    }\n\n    .dataframe tbody tr th {\n        vertical-align: top;\n    }\n\n    .dataframe thead th {\n        text-align: right;\n    }\n</style>\n<table border=\"1\" class=\"dataframe\">\n  <thead>\n    <tr style=\"text-align: right;\">\n      <th></th>\n      <th>Player</th>\n      <th>GP</th>\n      <th>G</th>\n      <th>A</th>\n      <th>TP</th>\n      <th>PPG</th>\n      <th>PIM</th>\n      <th>Years</th>\n      <th>POS</th>\n      <th>firstYear</th>\n      <th>...</th>\n      <th>Art Ross Awards</th>\n      <th>Conn Smythe Awards</th>\n      <th>Hart Awards</th>\n      <th>Calder Awards</th>\n      <th>James Norris Awards</th>\n      <th>Ted Lindsay Awards</th>\n      <th>Maurice Richard Awards</th>\n      <th>Cups</th>\n      <th>All-Star Games</th>\n      <th>HoF</th>\n    </tr>\n  </thead>\n  <tbody>\n    <tr>\n      <th>0</th>\n      <td>Wayne Gretzky</td>\n      <td>1487</td>\n      <td>894</td>\n      <td>1963</td>\n      <td>2857</td>\n      <td>1.921</td>\n      <td>577</td>\n      <td>20</td>\n      <td>C</td>\n      <td>1979</td>\n      <td>...</td>\n      <td>10</td>\n      <td>2</td>\n      <td>9</td>\n      <td>0</td>\n      <td>0</td>\n      <td>5</td>\n      <td>0</td>\n      <td>4</td>\n      <td>18</td>\n      <td>1</td>\n    </tr>\n    <tr>\n      <th>2</th>\n      <td>Mark Messier</td>\n      <td>1756</td>\n      <td>694</td>\n      <td>1193</td>\n      <td>1887</td>\n      <td>1.075</td>\n      <td>1910</td>\n      <td>25</td>\n      <td>C</td>\n      <td>1979</td>\n      <td>...</td>\n      <td>0</td>\n      <td>1</td>\n      <td>2</td>\n      <td>0</td>\n      <td>0</td>\n      <td>2</td>\n      <td>0</td>\n      <td>0</td>\n      <td>15</td>\n      <td>1</td>\n    </tr>\n    <tr>\n      <th>3</th>\n      <td>Gordie Howe</td>\n      <td>1767</td>\n      <td>801</td>\n      <td>1049</td>\n      <td>1850</td>\n      <td>1.047</td>\n      <td>1685</td>\n      <td>26</td>\n      <td>RW</td>\n      <td>1946</td>\n      <td>...</td>\n      <td>6</td>\n      <td>0</td>\n      <td>6</td>\n      <td>0</td>\n      <td>0</td>\n      <td>0</td>\n      <td>0</td>\n      <td>4</td>\n      <td>23</td>\n      <td>1</td>\n    </tr>\n    <tr>\n      <th>4</th>\n      <td>Ron Francis</td>\n      <td>1731</td>\n      <td>549</td>\n      <td>1249</td>\n      <td>1798</td>\n      <td>1.039</td>\n      <td>979</td>\n      <td>23</td>\n      <td>C</td>\n      <td>1981</td>\n      <td>...</td>\n      <td>0</td>\n      <td>0</td>\n      <td>0</td>\n      <td>0</td>\n      <td>0</td>\n      <td>0</td>\n      <td>0</td>\n      <td>2</td>\n      <td>4</td>\n      <td>1</td>\n    </tr>\n    <tr>\n      <th>5</th>\n      <td>Marcel Dionne</td>\n      <td>1348</td>\n      <td>731</td>\n      <td>1040</td>\n      <td>1771</td>\n      <td>1.314</td>\n      <td>600</td>\n      <td>18</td>\n      <td>C</td>\n      <td>1971</td>\n      <td>...</td>\n      <td>1</td>\n      <td>0</td>\n      <td>0</td>\n      <td>0</td>\n      <td>0</td>\n      <td>2</td>\n      <td>0</td>\n      <td>0</td>\n      <td>8</td>\n      <td>1</td>\n    </tr>\n  </tbody>\n</table>\n<p>5 rows × 21 columns</p>\n</div>"
     },
     "metadata": {},
     "execution_count": 12
    }
   ],
   "source": [
    "# Create test_train data for players that have not played as of 2017, essentially retired players\n",
    "test_train_df = master_stats_file_df[master_stats_file_df['lastYear'] < 2017]\n",
    "test_train_df = test_train_df.fillna(0)\n",
    "test_train_df.head()"
   ]
  },
  {
   "cell_type": "code",
   "execution_count": 13,
   "metadata": {},
   "outputs": [],
   "source": [
    "# Save the file to csv\n",
    "test_train_df.to_csv(\"Output/test_train_file.csv\", index=False, header=True, encoding='utf-8-sig')"
   ]
  },
  {
   "cell_type": "code",
   "execution_count": 14,
   "metadata": {},
   "outputs": [
    {
     "output_type": "execute_result",
     "data": {
      "text/plain": [
       "                Player    GP    G     A    TP    PPG   PIM  Years  POS  \\\n",
       "1         Jaromir Jagr  1733  766  1155  1921  1.108  1167     24    1   \n",
       "13        Joe Thornton  1640  421  1090  1511  0.921  1250     23    1   \n",
       "34  Alexander Ovechkin  1156  707   576  1283  1.110   719     16    1   \n",
       "37       Sidney Crosby   988  465   803  1268  1.283   675     16    1   \n",
       "49     Patrick Marleau  1726  562   626  1188  0.688   517     23    1   \n",
       "\n",
       "    firstYear  ...  Art Ross Awards  Conn Smythe Awards  Hart Awards  \\\n",
       "1        1990  ...                5                   0            1   \n",
       "13       1997  ...                1                   0            1   \n",
       "34       2005  ...                1                   1            3   \n",
       "37       2005  ...                2                   2            2   \n",
       "49       1997  ...                0                   0            0   \n",
       "\n",
       "    Calder Awards  James Norris Awards  Ted Lindsay Awards  \\\n",
       "1               0                    0                   3   \n",
       "13              0                    0                   0   \n",
       "34              1                    0                   3   \n",
       "37              0                    0                   3   \n",
       "49              0                    0                   0   \n",
       "\n",
       "    Maurice Richard Awards  Cups  All-Star Games  HoF  \n",
       "1                        0     2              10    0  \n",
       "13                       0     0               6    0  \n",
       "34                       9     1               7    0  \n",
       "37                       2     3               4    0  \n",
       "49                       0     0               3    0  \n",
       "\n",
       "[5 rows x 21 columns]"
      ],
      "text/html": "<div>\n<style scoped>\n    .dataframe tbody tr th:only-of-type {\n        vertical-align: middle;\n    }\n\n    .dataframe tbody tr th {\n        vertical-align: top;\n    }\n\n    .dataframe thead th {\n        text-align: right;\n    }\n</style>\n<table border=\"1\" class=\"dataframe\">\n  <thead>\n    <tr style=\"text-align: right;\">\n      <th></th>\n      <th>Player</th>\n      <th>GP</th>\n      <th>G</th>\n      <th>A</th>\n      <th>TP</th>\n      <th>PPG</th>\n      <th>PIM</th>\n      <th>Years</th>\n      <th>POS</th>\n      <th>firstYear</th>\n      <th>...</th>\n      <th>Art Ross Awards</th>\n      <th>Conn Smythe Awards</th>\n      <th>Hart Awards</th>\n      <th>Calder Awards</th>\n      <th>James Norris Awards</th>\n      <th>Ted Lindsay Awards</th>\n      <th>Maurice Richard Awards</th>\n      <th>Cups</th>\n      <th>All-Star Games</th>\n      <th>HoF</th>\n    </tr>\n  </thead>\n  <tbody>\n    <tr>\n      <th>1</th>\n      <td>Jaromir Jagr</td>\n      <td>1733</td>\n      <td>766</td>\n      <td>1155</td>\n      <td>1921</td>\n      <td>1.108</td>\n      <td>1167</td>\n      <td>24</td>\n      <td>1</td>\n      <td>1990</td>\n      <td>...</td>\n      <td>5</td>\n      <td>0</td>\n      <td>1</td>\n      <td>0</td>\n      <td>0</td>\n      <td>3</td>\n      <td>0</td>\n      <td>2</td>\n      <td>10</td>\n      <td>0</td>\n    </tr>\n    <tr>\n      <th>13</th>\n      <td>Joe Thornton</td>\n      <td>1640</td>\n      <td>421</td>\n      <td>1090</td>\n      <td>1511</td>\n      <td>0.921</td>\n      <td>1250</td>\n      <td>23</td>\n      <td>1</td>\n      <td>1997</td>\n      <td>...</td>\n      <td>1</td>\n      <td>0</td>\n      <td>1</td>\n      <td>0</td>\n      <td>0</td>\n      <td>0</td>\n      <td>0</td>\n      <td>0</td>\n      <td>6</td>\n      <td>0</td>\n    </tr>\n    <tr>\n      <th>34</th>\n      <td>Alexander Ovechkin</td>\n      <td>1156</td>\n      <td>707</td>\n      <td>576</td>\n      <td>1283</td>\n      <td>1.110</td>\n      <td>719</td>\n      <td>16</td>\n      <td>1</td>\n      <td>2005</td>\n      <td>...</td>\n      <td>1</td>\n      <td>1</td>\n      <td>3</td>\n      <td>1</td>\n      <td>0</td>\n      <td>3</td>\n      <td>9</td>\n      <td>1</td>\n      <td>7</td>\n      <td>0</td>\n    </tr>\n    <tr>\n      <th>37</th>\n      <td>Sidney Crosby</td>\n      <td>988</td>\n      <td>465</td>\n      <td>803</td>\n      <td>1268</td>\n      <td>1.283</td>\n      <td>675</td>\n      <td>16</td>\n      <td>1</td>\n      <td>2005</td>\n      <td>...</td>\n      <td>2</td>\n      <td>2</td>\n      <td>2</td>\n      <td>0</td>\n      <td>0</td>\n      <td>3</td>\n      <td>2</td>\n      <td>3</td>\n      <td>4</td>\n      <td>0</td>\n    </tr>\n    <tr>\n      <th>49</th>\n      <td>Patrick Marleau</td>\n      <td>1726</td>\n      <td>562</td>\n      <td>626</td>\n      <td>1188</td>\n      <td>0.688</td>\n      <td>517</td>\n      <td>23</td>\n      <td>1</td>\n      <td>1997</td>\n      <td>...</td>\n      <td>0</td>\n      <td>0</td>\n      <td>0</td>\n      <td>0</td>\n      <td>0</td>\n      <td>0</td>\n      <td>0</td>\n      <td>0</td>\n      <td>3</td>\n      <td>0</td>\n    </tr>\n  </tbody>\n</table>\n<p>5 rows × 21 columns</p>\n</div>"
     },
     "metadata": {},
     "execution_count": 14
    }
   ],
   "source": [
    "# Create predict data for palyers who played their last game as of 2017, includes active players as well\n",
    "predict_df = master_stats_file_df[(master_stats_file_df['lastYear'] >= 2017) & (master_stats_file_df['HoF'] != 1)]\n",
    "predict_df = predict_df.fillna(0)\n",
    "predict_df['POS'] = predict_df['POS'].replace(['C', 'C/D','C/LW', 'C/RW', 'C/W', 'F', 'F/D', 'LW', 'LW/C', 'LW/C/D', 'LW/D',\n",
    "                                                                 'LW/RW', 'RW','RW/C', 'RW/D', 'RW/LW', 'W/C'], 1)\n",
    "predict_df['POS'] = predict_df['POS'].replace(['D', 'D/C','D/F', 'D/LW', 'D/RW', 'D/W'], 2)\n",
    "predict_df.head()"
   ]
  },
  {
   "cell_type": "code",
   "execution_count": 15,
   "metadata": {},
   "outputs": [],
   "source": [
    "# Save the file to csv\n",
    "predict_df.to_csv(\"Output/predict_file.csv\", index=False, header=True, encoding='utf-8-sig')"
   ]
  },
  {
   "cell_type": "code",
   "execution_count": 16,
   "metadata": {},
   "outputs": [
    {
     "output_type": "execute_result",
     "data": {
      "text/plain": [
       "          Player    GP    G     A    TP    PPG   PIM  Years POS  firstYear  \\\n",
       "0  Wayne Gretzky  1487  894  1963  2857  1.921   577     20   C       1979   \n",
       "2   Mark Messier  1756  694  1193  1887  1.075  1910     25   C       1979   \n",
       "3    Gordie Howe  1767  801  1049  1850  1.047  1685     26  RW       1946   \n",
       "4    Ron Francis  1731  549  1249  1798  1.039   979     23   C       1981   \n",
       "5  Marcel Dionne  1348  731  1040  1771  1.314   600     18   C       1971   \n",
       "\n",
       "   ...  Art Ross Awards  Conn Smythe Awards  Hart Awards  Calder Awards  \\\n",
       "0  ...               10                   2            9              0   \n",
       "2  ...                0                   1            2              0   \n",
       "3  ...                6                   0            6              0   \n",
       "4  ...                0                   0            0              0   \n",
       "5  ...                1                   0            0              0   \n",
       "\n",
       "   James Norris Awards  Ted Lindsay Awards  Maurice Richard Awards  Cups  \\\n",
       "0                    0                   5                       0     4   \n",
       "2                    0                   2                       0     0   \n",
       "3                    0                   0                       0     4   \n",
       "4                    0                   0                       0     2   \n",
       "5                    0                   2                       0     0   \n",
       "\n",
       "   All-Star Games  HoF  \n",
       "0              18    1  \n",
       "2              15    1  \n",
       "3              23    1  \n",
       "4               4    1  \n",
       "5               8    1  \n",
       "\n",
       "[5 rows x 21 columns]"
      ],
      "text/html": "<div>\n<style scoped>\n    .dataframe tbody tr th:only-of-type {\n        vertical-align: middle;\n    }\n\n    .dataframe tbody tr th {\n        vertical-align: top;\n    }\n\n    .dataframe thead th {\n        text-align: right;\n    }\n</style>\n<table border=\"1\" class=\"dataframe\">\n  <thead>\n    <tr style=\"text-align: right;\">\n      <th></th>\n      <th>Player</th>\n      <th>GP</th>\n      <th>G</th>\n      <th>A</th>\n      <th>TP</th>\n      <th>PPG</th>\n      <th>PIM</th>\n      <th>Years</th>\n      <th>POS</th>\n      <th>firstYear</th>\n      <th>...</th>\n      <th>Art Ross Awards</th>\n      <th>Conn Smythe Awards</th>\n      <th>Hart Awards</th>\n      <th>Calder Awards</th>\n      <th>James Norris Awards</th>\n      <th>Ted Lindsay Awards</th>\n      <th>Maurice Richard Awards</th>\n      <th>Cups</th>\n      <th>All-Star Games</th>\n      <th>HoF</th>\n    </tr>\n  </thead>\n  <tbody>\n    <tr>\n      <th>0</th>\n      <td>Wayne Gretzky</td>\n      <td>1487</td>\n      <td>894</td>\n      <td>1963</td>\n      <td>2857</td>\n      <td>1.921</td>\n      <td>577</td>\n      <td>20</td>\n      <td>C</td>\n      <td>1979</td>\n      <td>...</td>\n      <td>10</td>\n      <td>2</td>\n      <td>9</td>\n      <td>0</td>\n      <td>0</td>\n      <td>5</td>\n      <td>0</td>\n      <td>4</td>\n      <td>18</td>\n      <td>1</td>\n    </tr>\n    <tr>\n      <th>2</th>\n      <td>Mark Messier</td>\n      <td>1756</td>\n      <td>694</td>\n      <td>1193</td>\n      <td>1887</td>\n      <td>1.075</td>\n      <td>1910</td>\n      <td>25</td>\n      <td>C</td>\n      <td>1979</td>\n      <td>...</td>\n      <td>0</td>\n      <td>1</td>\n      <td>2</td>\n      <td>0</td>\n      <td>0</td>\n      <td>2</td>\n      <td>0</td>\n      <td>0</td>\n      <td>15</td>\n      <td>1</td>\n    </tr>\n    <tr>\n      <th>3</th>\n      <td>Gordie Howe</td>\n      <td>1767</td>\n      <td>801</td>\n      <td>1049</td>\n      <td>1850</td>\n      <td>1.047</td>\n      <td>1685</td>\n      <td>26</td>\n      <td>RW</td>\n      <td>1946</td>\n      <td>...</td>\n      <td>6</td>\n      <td>0</td>\n      <td>6</td>\n      <td>0</td>\n      <td>0</td>\n      <td>0</td>\n      <td>0</td>\n      <td>4</td>\n      <td>23</td>\n      <td>1</td>\n    </tr>\n    <tr>\n      <th>4</th>\n      <td>Ron Francis</td>\n      <td>1731</td>\n      <td>549</td>\n      <td>1249</td>\n      <td>1798</td>\n      <td>1.039</td>\n      <td>979</td>\n      <td>23</td>\n      <td>C</td>\n      <td>1981</td>\n      <td>...</td>\n      <td>0</td>\n      <td>0</td>\n      <td>0</td>\n      <td>0</td>\n      <td>0</td>\n      <td>0</td>\n      <td>0</td>\n      <td>2</td>\n      <td>4</td>\n      <td>1</td>\n    </tr>\n    <tr>\n      <th>5</th>\n      <td>Marcel Dionne</td>\n      <td>1348</td>\n      <td>731</td>\n      <td>1040</td>\n      <td>1771</td>\n      <td>1.314</td>\n      <td>600</td>\n      <td>18</td>\n      <td>C</td>\n      <td>1971</td>\n      <td>...</td>\n      <td>1</td>\n      <td>0</td>\n      <td>0</td>\n      <td>0</td>\n      <td>0</td>\n      <td>2</td>\n      <td>0</td>\n      <td>0</td>\n      <td>8</td>\n      <td>1</td>\n    </tr>\n  </tbody>\n</table>\n<p>5 rows × 21 columns</p>\n</div>"
     },
     "metadata": {},
     "execution_count": 16
    }
   ],
   "source": [
    "# Filtered the test data to only include players that played as of 1967.  Possibly improve ML predictions\n",
    "test_train_filt67_df = master_stats_file_df[(master_stats_file_df['lastYear'] >= 1967) & (master_stats_file_df['lastYear'] < 2017)]\n",
    "test_train_filt67_df = test_train_filt67_df.fillna(0)\n",
    "test_train_filt67_df.head()"
   ]
  },
  {
   "cell_type": "code",
   "execution_count": 17,
   "metadata": {},
   "outputs": [],
   "source": [
    "# Save the file to csv\n",
    "test_train_filt67_df.to_csv(\"Output/test_train_filt67_file.csv\", index=False, header=True, encoding='utf-8-sig')"
   ]
  },
  {
   "cell_type": "code",
   "execution_count": null,
   "metadata": {},
   "outputs": [],
   "source": [
    "# Review the different position designations.\n",
    "master_stats_file_df['POS'].unique()"
   ]
  },
  {
   "cell_type": "code",
   "execution_count": null,
   "metadata": {},
   "outputs": [],
   "source": [
    "master_stats_file_df.count"
   ]
  },
  {
   "cell_type": "code",
   "execution_count": null,
   "metadata": {},
   "outputs": [],
   "source": [
    "test_train_df.count"
   ]
  },
  {
   "cell_type": "code",
   "execution_count": null,
   "metadata": {},
   "outputs": [],
   "source": [
    "predict_df.count"
   ]
  },
  {
   "cell_type": "code",
   "execution_count": null,
   "metadata": {},
   "outputs": [],
   "source": [
    "test_train_filt67_df.count"
   ]
  },
  {
   "cell_type": "code",
   "execution_count": null,
   "metadata": {},
   "outputs": [],
   "source": [
    "test_train_filt67_df.describe()"
   ]
  },
  {
   "cell_type": "code",
   "execution_count": null,
   "metadata": {},
   "outputs": [],
   "source": [
    "test_train_filt67_mingame_df = master_stats_file_df[(master_stats_file_df['lastYear'] >= 1967) & (master_stats_file_df['lastYear'] < 2017) &                                                        (master_stats_file_df['TP'] > 99)]\n",
    "test_train_filt67_mingame_df = test_train_filt67_mingame_df.fillna(0)\n",
    "test_train_filt67_mingame_df.head()"
   ]
  },
  {
   "cell_type": "code",
   "execution_count": null,
   "metadata": {},
   "outputs": [],
   "source": [
    "test_train_filt67_mingame_df.describe()"
   ]
  },
  {
   "cell_type": "code",
   "execution_count": 18,
   "metadata": {},
   "outputs": [
    {
     "output_type": "execute_result",
     "data": {
      "text/plain": [
       "          Player    GP    G     A    TP    PPG   PIM  Years  POS  firstYear  \\\n",
       "0  Wayne Gretzky  1487  894  1963  2857  1.921   577     20    1       1979   \n",
       "2   Mark Messier  1756  694  1193  1887  1.075  1910     25    1       1979   \n",
       "3    Gordie Howe  1767  801  1049  1850  1.047  1685     26    1       1946   \n",
       "4    Ron Francis  1731  549  1249  1798  1.039   979     23    1       1981   \n",
       "5  Marcel Dionne  1348  731  1040  1771  1.314   600     18    1       1971   \n",
       "\n",
       "   ...  Art Ross Awards  Conn Smythe Awards  Hart Awards  Calder Awards  \\\n",
       "0  ...               10                   2            9              0   \n",
       "2  ...                0                   1            2              0   \n",
       "3  ...                6                   0            6              0   \n",
       "4  ...                0                   0            0              0   \n",
       "5  ...                1                   0            0              0   \n",
       "\n",
       "   James Norris Awards  Ted Lindsay Awards  Maurice Richard Awards  Cups  \\\n",
       "0                    0                   5                       0     4   \n",
       "2                    0                   2                       0     0   \n",
       "3                    0                   0                       0     4   \n",
       "4                    0                   0                       0     2   \n",
       "5                    0                   2                       0     0   \n",
       "\n",
       "   All-Star Games  HoF  \n",
       "0              18    1  \n",
       "2              15    1  \n",
       "3              23    1  \n",
       "4               4    1  \n",
       "5               8    1  \n",
       "\n",
       "[5 rows x 21 columns]"
      ],
      "text/html": "<div>\n<style scoped>\n    .dataframe tbody tr th:only-of-type {\n        vertical-align: middle;\n    }\n\n    .dataframe tbody tr th {\n        vertical-align: top;\n    }\n\n    .dataframe thead th {\n        text-align: right;\n    }\n</style>\n<table border=\"1\" class=\"dataframe\">\n  <thead>\n    <tr style=\"text-align: right;\">\n      <th></th>\n      <th>Player</th>\n      <th>GP</th>\n      <th>G</th>\n      <th>A</th>\n      <th>TP</th>\n      <th>PPG</th>\n      <th>PIM</th>\n      <th>Years</th>\n      <th>POS</th>\n      <th>firstYear</th>\n      <th>...</th>\n      <th>Art Ross Awards</th>\n      <th>Conn Smythe Awards</th>\n      <th>Hart Awards</th>\n      <th>Calder Awards</th>\n      <th>James Norris Awards</th>\n      <th>Ted Lindsay Awards</th>\n      <th>Maurice Richard Awards</th>\n      <th>Cups</th>\n      <th>All-Star Games</th>\n      <th>HoF</th>\n    </tr>\n  </thead>\n  <tbody>\n    <tr>\n      <th>0</th>\n      <td>Wayne Gretzky</td>\n      <td>1487</td>\n      <td>894</td>\n      <td>1963</td>\n      <td>2857</td>\n      <td>1.921</td>\n      <td>577</td>\n      <td>20</td>\n      <td>1</td>\n      <td>1979</td>\n      <td>...</td>\n      <td>10</td>\n      <td>2</td>\n      <td>9</td>\n      <td>0</td>\n      <td>0</td>\n      <td>5</td>\n      <td>0</td>\n      <td>4</td>\n      <td>18</td>\n      <td>1</td>\n    </tr>\n    <tr>\n      <th>2</th>\n      <td>Mark Messier</td>\n      <td>1756</td>\n      <td>694</td>\n      <td>1193</td>\n      <td>1887</td>\n      <td>1.075</td>\n      <td>1910</td>\n      <td>25</td>\n      <td>1</td>\n      <td>1979</td>\n      <td>...</td>\n      <td>0</td>\n      <td>1</td>\n      <td>2</td>\n      <td>0</td>\n      <td>0</td>\n      <td>2</td>\n      <td>0</td>\n      <td>0</td>\n      <td>15</td>\n      <td>1</td>\n    </tr>\n    <tr>\n      <th>3</th>\n      <td>Gordie Howe</td>\n      <td>1767</td>\n      <td>801</td>\n      <td>1049</td>\n      <td>1850</td>\n      <td>1.047</td>\n      <td>1685</td>\n      <td>26</td>\n      <td>1</td>\n      <td>1946</td>\n      <td>...</td>\n      <td>6</td>\n      <td>0</td>\n      <td>6</td>\n      <td>0</td>\n      <td>0</td>\n      <td>0</td>\n      <td>0</td>\n      <td>4</td>\n      <td>23</td>\n      <td>1</td>\n    </tr>\n    <tr>\n      <th>4</th>\n      <td>Ron Francis</td>\n      <td>1731</td>\n      <td>549</td>\n      <td>1249</td>\n      <td>1798</td>\n      <td>1.039</td>\n      <td>979</td>\n      <td>23</td>\n      <td>1</td>\n      <td>1981</td>\n      <td>...</td>\n      <td>0</td>\n      <td>0</td>\n      <td>0</td>\n      <td>0</td>\n      <td>0</td>\n      <td>0</td>\n      <td>0</td>\n      <td>2</td>\n      <td>4</td>\n      <td>1</td>\n    </tr>\n    <tr>\n      <th>5</th>\n      <td>Marcel Dionne</td>\n      <td>1348</td>\n      <td>731</td>\n      <td>1040</td>\n      <td>1771</td>\n      <td>1.314</td>\n      <td>600</td>\n      <td>18</td>\n      <td>1</td>\n      <td>1971</td>\n      <td>...</td>\n      <td>1</td>\n      <td>0</td>\n      <td>0</td>\n      <td>0</td>\n      <td>0</td>\n      <td>2</td>\n      <td>0</td>\n      <td>0</td>\n      <td>8</td>\n      <td>1</td>\n    </tr>\n  </tbody>\n</table>\n<p>5 rows × 21 columns</p>\n</div>"
     },
     "metadata": {},
     "execution_count": 18
    }
   ],
   "source": [
    "t_t_filt67_100gp_df = master_stats_file_df[(master_stats_file_df['lastYear'] >= 1967) & (master_stats_file_df['lastYear'] < 2017) & \n",
    "                        (master_stats_file_df['GP'] > 100) | (master_stats_file_df['lastYear'] >= 2017) & (master_stats_file_df['HoF'] == 1)]\n",
    "t_t_filt67_100gp_df['POS'] = t_t_filt67_100gp_df['POS'].replace(['C', 'C/D','C/LW', 'C/RW', 'C/W', 'F', 'F/D', 'LW', 'LW/C', 'LW/C/D', 'LW/D',\n",
    "                                                                 'LW/RW', 'RW','RW/C', 'RW/D', 'RW/LW', 'W/C'], 1)\n",
    "t_t_filt67_100gp_df['POS'] = t_t_filt67_100gp_df['POS'].replace(['D', 'D/C','D/F', 'D/LW', 'D/RW', 'D/W'], 2)\n",
    "t_t_filt67_100gp_df.head()"
   ]
  },
  {
   "cell_type": "code",
   "execution_count": 19,
   "metadata": {},
   "outputs": [],
   "source": [
    "t_t_filt67_100gp_df.to_csv(\"Output/tt_filt67_100GP_file.csv\", index=False, header=True, encoding='utf-8-sig')"
   ]
  },
  {
   "cell_type": "code",
   "execution_count": 20,
   "metadata": {},
   "outputs": [
    {
     "output_type": "execute_result",
     "data": {
      "text/plain": [
       "          Player    GP    G     A    TP    PPG   PIM  Years  POS  firstYear  \\\n",
       "0  Wayne Gretzky  1487  894  1963  2857  1.921   577     20    1       1979   \n",
       "2   Mark Messier  1756  694  1193  1887  1.075  1910     25    1       1979   \n",
       "3    Gordie Howe  1767  801  1049  1850  1.047  1685     26    1       1946   \n",
       "4    Ron Francis  1731  549  1249  1798  1.039   979     23    1       1981   \n",
       "5  Marcel Dionne  1348  731  1040  1771  1.314   600     18    1       1971   \n",
       "\n",
       "   ...  Art Ross Awards  Conn Smythe Awards  Hart Awards  Calder Awards  \\\n",
       "0  ...               10                   2            9              0   \n",
       "2  ...                0                   1            2              0   \n",
       "3  ...                6                   0            6              0   \n",
       "4  ...                0                   0            0              0   \n",
       "5  ...                1                   0            0              0   \n",
       "\n",
       "   James Norris Awards  Ted Lindsay Awards  Maurice Richard Awards  Cups  \\\n",
       "0                    0                   5                       0     4   \n",
       "2                    0                   2                       0     0   \n",
       "3                    0                   0                       0     4   \n",
       "4                    0                   0                       0     2   \n",
       "5                    0                   2                       0     0   \n",
       "\n",
       "   All-Star Games  HoF  \n",
       "0              18    1  \n",
       "2              15    1  \n",
       "3              23    1  \n",
       "4               4    1  \n",
       "5               8    1  \n",
       "\n",
       "[5 rows x 21 columns]"
      ],
      "text/html": "<div>\n<style scoped>\n    .dataframe tbody tr th:only-of-type {\n        vertical-align: middle;\n    }\n\n    .dataframe tbody tr th {\n        vertical-align: top;\n    }\n\n    .dataframe thead th {\n        text-align: right;\n    }\n</style>\n<table border=\"1\" class=\"dataframe\">\n  <thead>\n    <tr style=\"text-align: right;\">\n      <th></th>\n      <th>Player</th>\n      <th>GP</th>\n      <th>G</th>\n      <th>A</th>\n      <th>TP</th>\n      <th>PPG</th>\n      <th>PIM</th>\n      <th>Years</th>\n      <th>POS</th>\n      <th>firstYear</th>\n      <th>...</th>\n      <th>Art Ross Awards</th>\n      <th>Conn Smythe Awards</th>\n      <th>Hart Awards</th>\n      <th>Calder Awards</th>\n      <th>James Norris Awards</th>\n      <th>Ted Lindsay Awards</th>\n      <th>Maurice Richard Awards</th>\n      <th>Cups</th>\n      <th>All-Star Games</th>\n      <th>HoF</th>\n    </tr>\n  </thead>\n  <tbody>\n    <tr>\n      <th>0</th>\n      <td>Wayne Gretzky</td>\n      <td>1487</td>\n      <td>894</td>\n      <td>1963</td>\n      <td>2857</td>\n      <td>1.921</td>\n      <td>577</td>\n      <td>20</td>\n      <td>1</td>\n      <td>1979</td>\n      <td>...</td>\n      <td>10</td>\n      <td>2</td>\n      <td>9</td>\n      <td>0</td>\n      <td>0</td>\n      <td>5</td>\n      <td>0</td>\n      <td>4</td>\n      <td>18</td>\n      <td>1</td>\n    </tr>\n    <tr>\n      <th>2</th>\n      <td>Mark Messier</td>\n      <td>1756</td>\n      <td>694</td>\n      <td>1193</td>\n      <td>1887</td>\n      <td>1.075</td>\n      <td>1910</td>\n      <td>25</td>\n      <td>1</td>\n      <td>1979</td>\n      <td>...</td>\n      <td>0</td>\n      <td>1</td>\n      <td>2</td>\n      <td>0</td>\n      <td>0</td>\n      <td>2</td>\n      <td>0</td>\n      <td>0</td>\n      <td>15</td>\n      <td>1</td>\n    </tr>\n    <tr>\n      <th>3</th>\n      <td>Gordie Howe</td>\n      <td>1767</td>\n      <td>801</td>\n      <td>1049</td>\n      <td>1850</td>\n      <td>1.047</td>\n      <td>1685</td>\n      <td>26</td>\n      <td>1</td>\n      <td>1946</td>\n      <td>...</td>\n      <td>6</td>\n      <td>0</td>\n      <td>6</td>\n      <td>0</td>\n      <td>0</td>\n      <td>0</td>\n      <td>0</td>\n      <td>4</td>\n      <td>23</td>\n      <td>1</td>\n    </tr>\n    <tr>\n      <th>4</th>\n      <td>Ron Francis</td>\n      <td>1731</td>\n      <td>549</td>\n      <td>1249</td>\n      <td>1798</td>\n      <td>1.039</td>\n      <td>979</td>\n      <td>23</td>\n      <td>1</td>\n      <td>1981</td>\n      <td>...</td>\n      <td>0</td>\n      <td>0</td>\n      <td>0</td>\n      <td>0</td>\n      <td>0</td>\n      <td>0</td>\n      <td>0</td>\n      <td>2</td>\n      <td>4</td>\n      <td>1</td>\n    </tr>\n    <tr>\n      <th>5</th>\n      <td>Marcel Dionne</td>\n      <td>1348</td>\n      <td>731</td>\n      <td>1040</td>\n      <td>1771</td>\n      <td>1.314</td>\n      <td>600</td>\n      <td>18</td>\n      <td>1</td>\n      <td>1971</td>\n      <td>...</td>\n      <td>1</td>\n      <td>0</td>\n      <td>0</td>\n      <td>0</td>\n      <td>0</td>\n      <td>2</td>\n      <td>0</td>\n      <td>0</td>\n      <td>8</td>\n      <td>1</td>\n    </tr>\n  </tbody>\n</table>\n<p>5 rows × 21 columns</p>\n</div>"
     },
     "metadata": {},
     "execution_count": 20
    }
   ],
   "source": [
    "t_t_filt67_100tp_df = master_stats_file_df[(master_stats_file_df['lastYear'] >= 1967) & (master_stats_file_df['lastYear'] < 2017) & \n",
    "(master_stats_file_df['TP'] > 100) | (master_stats_file_df['lastYear'] >= 2017) & (master_stats_file_df['HoF'] == 1)]\n",
    "t_t_filt67_100tp_df['POS'] = t_t_filt67_100tp_df['POS'].replace(['C', 'C/D','C/LW', 'C/RW', 'C/W', 'F', 'F/D', 'LW', 'LW/C', 'LW/C/D', 'LW/D',\n",
    "                                                                 'LW/RW', 'RW','RW/C', 'RW/D', 'RW/LW', 'W/C'], 1)\n",
    "t_t_filt67_100tp_df['POS'] = t_t_filt67_100tp_df['POS'].replace(['D', 'D/C','D/F', 'D/LW', 'D/RW', 'D/W'], 2)\n",
    "t_t_filt67_100tp_df.head()"
   ]
  },
  {
   "cell_type": "code",
   "execution_count": 21,
   "metadata": {},
   "outputs": [],
   "source": [
    "t_t_filt67_100tp_df.to_csv(\"Output/tt_filt67_100TP_file.csv\", index=False, header=True, encoding='utf-8-sig')"
   ]
  },
  {
   "cell_type": "code",
   "execution_count": null,
   "metadata": {},
   "outputs": [],
   "source": []
  }
 ]
}