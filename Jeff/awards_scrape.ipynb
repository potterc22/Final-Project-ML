{
 "metadata": {
  "language_info": {
   "codemirror_mode": {
    "name": "ipython",
    "version": 3
   },
   "file_extension": ".py",
   "mimetype": "text/x-python",
   "name": "python",
   "nbconvert_exporter": "python",
   "pygments_lexer": "ipython3",
   "version": "3.6.10-final"
  },
  "orig_nbformat": 2,
  "kernelspec": {
   "name": "python361064bitbcsconda9956bb7450484f49881ea0c9e482447b",
   "display_name": "Python 3.6.10 64-bit ('bcs': conda)",
   "language": "python"
  }
 },
 "nbformat": 4,
 "nbformat_minor": 2,
 "cells": [
  {
   "cell_type": "code",
   "execution_count": 1,
   "metadata": {},
   "outputs": [],
   "source": [
    "import pandas as pd\n",
    "from splinter import Browser\n",
    "from bs4 import BeautifulSoup\n",
    "import time\n",
    "import requests"
   ]
  },
  {
   "cell_type": "code",
   "execution_count": 2,
   "metadata": {},
   "outputs": [
    {
     "output_type": "execute_result",
     "data": {
      "text/plain": [
       "   Year           Player                 Team     Award\n",
       "0  2020   Leon Draisaitl      Edmonton Oilers  Art Ross\n",
       "1  2019  Nikita Kucherov  Tampa Bay Lightning  Art Ross\n",
       "2  2018   Connor McDavid      Edmonton Oilers  Art Ross\n",
       "3  2017   Connor McDavid      Edmonton Oilers  Art Ross\n",
       "4  2016     Patrick Kane   Chicago Blackhawks  Art Ross"
      ],
      "text/html": "<div>\n<style scoped>\n    .dataframe tbody tr th:only-of-type {\n        vertical-align: middle;\n    }\n\n    .dataframe tbody tr th {\n        vertical-align: top;\n    }\n\n    .dataframe thead th {\n        text-align: right;\n    }\n</style>\n<table border=\"1\" class=\"dataframe\">\n  <thead>\n    <tr style=\"text-align: right;\">\n      <th></th>\n      <th>Year</th>\n      <th>Player</th>\n      <th>Team</th>\n      <th>Award</th>\n    </tr>\n  </thead>\n  <tbody>\n    <tr>\n      <th>0</th>\n      <td>2020</td>\n      <td>Leon Draisaitl</td>\n      <td>Edmonton Oilers</td>\n      <td>Art Ross</td>\n    </tr>\n    <tr>\n      <th>1</th>\n      <td>2019</td>\n      <td>Nikita Kucherov</td>\n      <td>Tampa Bay Lightning</td>\n      <td>Art Ross</td>\n    </tr>\n    <tr>\n      <th>2</th>\n      <td>2018</td>\n      <td>Connor McDavid</td>\n      <td>Edmonton Oilers</td>\n      <td>Art Ross</td>\n    </tr>\n    <tr>\n      <th>3</th>\n      <td>2017</td>\n      <td>Connor McDavid</td>\n      <td>Edmonton Oilers</td>\n      <td>Art Ross</td>\n    </tr>\n    <tr>\n      <th>4</th>\n      <td>2016</td>\n      <td>Patrick Kane</td>\n      <td>Chicago Blackhawks</td>\n      <td>Art Ross</td>\n    </tr>\n  </tbody>\n</table>\n</div>"
     },
     "metadata": {},
     "execution_count": 2
    }
   ],
   "source": [
    "# Scrape the data for the Art Ross Award, Scoring Champion\n",
    "url = f'https://www.nhl.com/news/nhl-art-ross-trophy-winners-complete-list/c-287899824?tid=287709666'\n",
    "\n",
    "# Retrieve page with the requests module\n",
    "html = requests.get(url).text\n",
    "\n",
    "# Create BeautifulSoup object; parse with 'html.parser'\n",
    "soup = BeautifulSoup(html, 'html.parser')\n",
    "\n",
    "# results are returned as a list\n",
    "body = soup.find('div', class_='article-item__body')\n",
    "\n",
    "results = body.find_all('li')\n",
    "\n",
    "winners = []\n",
    "for result in results:\n",
    "    # Error handling\n",
    "    try:\n",
    "        #print(result)\n",
    "        row = result.text\n",
    "        #print(f'row: {row}')\n",
    "        words = row.split(':')\n",
    "        more_words = words[1].split(',')\n",
    "\n",
    "        winner = [words[0], more_words[0].strip(), more_words[1].strip(), 'Art Ross']\n",
    "        #print(winner)\n",
    "        winners.append(winner)\n",
    "\n",
    "    except AttributeError as error:\n",
    "        print(error)\n",
    "\n",
    "# convert list of lists into DataFrame\n",
    "art_ross_df = pd.DataFrame(winners, columns = ['Year', 'Player', 'Team', 'Award'])\n",
    "# convert year column to int for filtering purposes\n",
    "art_ross_df['Year'] = art_ross_df['Year'].astype(int)\n",
    "# filter dataframe \n",
    "art_ross_df = art_ross_df.loc[art_ross_df['Year'] >= 1967,:]\n",
    "art_ross_df.head()"
   ]
  },
  {
   "cell_type": "code",
   "execution_count": 3,
   "metadata": {},
   "outputs": [
    {
     "output_type": "execute_result",
     "data": {
      "text/plain": [
       "           Player  Year  Team  Award\n",
       "0   Alex Ovechkin     1     1      1\n",
       "1       Bobby Orr     2     2      2\n",
       "2  Bryan Trottier     1     1      1\n",
       "3  Connor McDavid     2     2      2\n",
       "4    Daniel Sedin     1     1      1"
      ],
      "text/html": "<div>\n<style scoped>\n    .dataframe tbody tr th:only-of-type {\n        vertical-align: middle;\n    }\n\n    .dataframe tbody tr th {\n        vertical-align: top;\n    }\n\n    .dataframe thead th {\n        text-align: right;\n    }\n</style>\n<table border=\"1\" class=\"dataframe\">\n  <thead>\n    <tr style=\"text-align: right;\">\n      <th></th>\n      <th>Player</th>\n      <th>Year</th>\n      <th>Team</th>\n      <th>Award</th>\n    </tr>\n  </thead>\n  <tbody>\n    <tr>\n      <th>0</th>\n      <td>Alex Ovechkin</td>\n      <td>1</td>\n      <td>1</td>\n      <td>1</td>\n    </tr>\n    <tr>\n      <th>1</th>\n      <td>Bobby Orr</td>\n      <td>2</td>\n      <td>2</td>\n      <td>2</td>\n    </tr>\n    <tr>\n      <th>2</th>\n      <td>Bryan Trottier</td>\n      <td>1</td>\n      <td>1</td>\n      <td>1</td>\n    </tr>\n    <tr>\n      <th>3</th>\n      <td>Connor McDavid</td>\n      <td>2</td>\n      <td>2</td>\n      <td>2</td>\n    </tr>\n    <tr>\n      <th>4</th>\n      <td>Daniel Sedin</td>\n      <td>1</td>\n      <td>1</td>\n      <td>1</td>\n    </tr>\n  </tbody>\n</table>\n</div>"
     },
     "metadata": {},
     "execution_count": 3
    }
   ],
   "source": [
    "# Group the data by the player's name column\n",
    "art_ross_grp_df = art_ross_df.groupby(by=\"Player\", as_index=False).count()\n",
    "art_ross_grp_df.head()"
   ]
  },
  {
   "cell_type": "code",
   "execution_count": 4,
   "metadata": {},
   "outputs": [
    {
     "output_type": "execute_result",
     "data": {
      "text/plain": [
       "           Player  Year\n",
       "0   Alex Ovechkin     1\n",
       "1       Bobby Orr     2\n",
       "2  Bryan Trottier     1\n",
       "3  Connor McDavid     2\n",
       "4    Daniel Sedin     1"
      ],
      "text/html": "<div>\n<style scoped>\n    .dataframe tbody tr th:only-of-type {\n        vertical-align: middle;\n    }\n\n    .dataframe tbody tr th {\n        vertical-align: top;\n    }\n\n    .dataframe thead th {\n        text-align: right;\n    }\n</style>\n<table border=\"1\" class=\"dataframe\">\n  <thead>\n    <tr style=\"text-align: right;\">\n      <th></th>\n      <th>Player</th>\n      <th>Year</th>\n    </tr>\n  </thead>\n  <tbody>\n    <tr>\n      <th>0</th>\n      <td>Alex Ovechkin</td>\n      <td>1</td>\n    </tr>\n    <tr>\n      <th>1</th>\n      <td>Bobby Orr</td>\n      <td>2</td>\n    </tr>\n    <tr>\n      <th>2</th>\n      <td>Bryan Trottier</td>\n      <td>1</td>\n    </tr>\n    <tr>\n      <th>3</th>\n      <td>Connor McDavid</td>\n      <td>2</td>\n    </tr>\n    <tr>\n      <th>4</th>\n      <td>Daniel Sedin</td>\n      <td>1</td>\n    </tr>\n  </tbody>\n</table>\n</div>"
     },
     "metadata": {},
     "execution_count": 4
    }
   ],
   "source": [
    "# Drop columns that are not needed\n",
    "art_ross_grp_df = art_ross_grp_df.drop(['Team', 'Award'], axis=1)\n",
    "art_ross_grp_df.head()"
   ]
  },
  {
   "cell_type": "code",
   "execution_count": 5,
   "metadata": {},
   "outputs": [
    {
     "output_type": "execute_result",
     "data": {
      "text/plain": [
       "           Player  Art Ross Awards\n",
       "0   Alex Ovechkin                1\n",
       "1       Bobby Orr                2\n",
       "2  Bryan Trottier                1\n",
       "3  Connor McDavid                2\n",
       "4    Daniel Sedin                1"
      ],
      "text/html": "<div>\n<style scoped>\n    .dataframe tbody tr th:only-of-type {\n        vertical-align: middle;\n    }\n\n    .dataframe tbody tr th {\n        vertical-align: top;\n    }\n\n    .dataframe thead th {\n        text-align: right;\n    }\n</style>\n<table border=\"1\" class=\"dataframe\">\n  <thead>\n    <tr style=\"text-align: right;\">\n      <th></th>\n      <th>Player</th>\n      <th>Art Ross Awards</th>\n    </tr>\n  </thead>\n  <tbody>\n    <tr>\n      <th>0</th>\n      <td>Alex Ovechkin</td>\n      <td>1</td>\n    </tr>\n    <tr>\n      <th>1</th>\n      <td>Bobby Orr</td>\n      <td>2</td>\n    </tr>\n    <tr>\n      <th>2</th>\n      <td>Bryan Trottier</td>\n      <td>1</td>\n    </tr>\n    <tr>\n      <th>3</th>\n      <td>Connor McDavid</td>\n      <td>2</td>\n    </tr>\n    <tr>\n      <th>4</th>\n      <td>Daniel Sedin</td>\n      <td>1</td>\n    </tr>\n  </tbody>\n</table>\n</div>"
     },
     "metadata": {},
     "execution_count": 5
    }
   ],
   "source": [
    "# Rename the year column to theaward name for the count\n",
    "art_ross_grp_df = art_ross_grp_df.rename(columns={\"Year\": \"Art Ross Awards\"})\n",
    "art_ross_grp_df.head()"
   ]
  },
  {
   "cell_type": "code",
   "execution_count": 6,
   "metadata": {},
   "outputs": [
    {
     "output_type": "execute_result",
     "data": {
      "text/plain": [
       "   Year           Player                 Team          Award\n",
       "0  2020   Leon Draisaitl      Edmonton Oilers  Hart Memorial\n",
       "1  2019  Nikita Kucherov  Tampa Bay Lightning  Hart Memorial\n",
       "2  2018      Taylor Hall    New Jersey Devils  Hart Memorial\n",
       "3  2017   Connor McDavid      Edmonton Oilers  Hart Memorial\n",
       "4  2016     Patrick Kane   Chicago Blackhawks  Hart Memorial"
      ],
      "text/html": "<div>\n<style scoped>\n    .dataframe tbody tr th:only-of-type {\n        vertical-align: middle;\n    }\n\n    .dataframe tbody tr th {\n        vertical-align: top;\n    }\n\n    .dataframe thead th {\n        text-align: right;\n    }\n</style>\n<table border=\"1\" class=\"dataframe\">\n  <thead>\n    <tr style=\"text-align: right;\">\n      <th></th>\n      <th>Year</th>\n      <th>Player</th>\n      <th>Team</th>\n      <th>Award</th>\n    </tr>\n  </thead>\n  <tbody>\n    <tr>\n      <th>0</th>\n      <td>2020</td>\n      <td>Leon Draisaitl</td>\n      <td>Edmonton Oilers</td>\n      <td>Hart Memorial</td>\n    </tr>\n    <tr>\n      <th>1</th>\n      <td>2019</td>\n      <td>Nikita Kucherov</td>\n      <td>Tampa Bay Lightning</td>\n      <td>Hart Memorial</td>\n    </tr>\n    <tr>\n      <th>2</th>\n      <td>2018</td>\n      <td>Taylor Hall</td>\n      <td>New Jersey Devils</td>\n      <td>Hart Memorial</td>\n    </tr>\n    <tr>\n      <th>3</th>\n      <td>2017</td>\n      <td>Connor McDavid</td>\n      <td>Edmonton Oilers</td>\n      <td>Hart Memorial</td>\n    </tr>\n    <tr>\n      <th>4</th>\n      <td>2016</td>\n      <td>Patrick Kane</td>\n      <td>Chicago Blackhawks</td>\n      <td>Hart Memorial</td>\n    </tr>\n  </tbody>\n</table>\n</div>"
     },
     "metadata": {},
     "execution_count": 6
    }
   ],
   "source": [
    "# Scrape the data for the Hart Memorial Award, League MVP\n",
    "url = f'https://www.nhl.com/news/nhl-hart-memorial-trophy-winners-complete-list/c-287743272?tid=287709666'\n",
    "\n",
    "# Retrieve page with the requests module\n",
    "html = requests.get(url).text\n",
    "\n",
    "# Create BeautifulSoup object; parse with 'html.parser'\n",
    "soup = BeautifulSoup(html, 'html.parser')\n",
    "\n",
    "# results are returned as a list\n",
    "body = soup.find('div', class_='article-item__body')\n",
    "\n",
    "results = body.find_all('li')\n",
    "\n",
    "winners = []\n",
    "for result in results:\n",
    "    # Error handling\n",
    "    try:\n",
    "        #print(result)\n",
    "        row = result.text\n",
    "        #print(f'row: {row}')\n",
    "        words = row.split(':')\n",
    "        more_words = words[1].split(',')\n",
    "\n",
    "        winner = [words[0], more_words[0].strip(), more_words[1].strip(), 'Hart Memorial']\n",
    "        #print(winner)\n",
    "        winners.append(winner)\n",
    "\n",
    "    except AttributeError as error:\n",
    "        print(error)\n",
    "\n",
    "# convert list of lists into DataFrame\n",
    "hart_memorial_df = pd.DataFrame(winners, columns = ['Year', 'Player', 'Team', 'Award'])\n",
    "# convert year column to int for filtering purposes\n",
    "hart_memorial_df['Year'] = hart_memorial_df['Year'].astype(int)\n",
    "# filter dataframe \n",
    "hart_memorial_df = hart_memorial_df.loc[hart_memorial_df['Year'] >= 1967,:]\n",
    "hart_memorial_df.head()"
   ]
  },
  {
   "cell_type": "code",
   "execution_count": 7,
   "metadata": {},
   "outputs": [
    {
     "output_type": "execute_result",
     "data": {
      "text/plain": [
       "           Player  Year  Team  Award\n",
       "0   Alex Ovechkin     3     3      3\n",
       "1    Bobby Clarke     3     3      3\n",
       "2       Bobby Orr     3     3      3\n",
       "3      Brett Hull     1     1      1\n",
       "4  Bryan Trottier     1     1      1"
      ],
      "text/html": "<div>\n<style scoped>\n    .dataframe tbody tr th:only-of-type {\n        vertical-align: middle;\n    }\n\n    .dataframe tbody tr th {\n        vertical-align: top;\n    }\n\n    .dataframe thead th {\n        text-align: right;\n    }\n</style>\n<table border=\"1\" class=\"dataframe\">\n  <thead>\n    <tr style=\"text-align: right;\">\n      <th></th>\n      <th>Player</th>\n      <th>Year</th>\n      <th>Team</th>\n      <th>Award</th>\n    </tr>\n  </thead>\n  <tbody>\n    <tr>\n      <th>0</th>\n      <td>Alex Ovechkin</td>\n      <td>3</td>\n      <td>3</td>\n      <td>3</td>\n    </tr>\n    <tr>\n      <th>1</th>\n      <td>Bobby Clarke</td>\n      <td>3</td>\n      <td>3</td>\n      <td>3</td>\n    </tr>\n    <tr>\n      <th>2</th>\n      <td>Bobby Orr</td>\n      <td>3</td>\n      <td>3</td>\n      <td>3</td>\n    </tr>\n    <tr>\n      <th>3</th>\n      <td>Brett Hull</td>\n      <td>1</td>\n      <td>1</td>\n      <td>1</td>\n    </tr>\n    <tr>\n      <th>4</th>\n      <td>Bryan Trottier</td>\n      <td>1</td>\n      <td>1</td>\n      <td>1</td>\n    </tr>\n  </tbody>\n</table>\n</div>"
     },
     "metadata": {},
     "execution_count": 7
    }
   ],
   "source": [
    "# Group the data by the player's name column\n",
    "hart_grp_df = hart_memorial_df.groupby(by=\"Player\", as_index=False).count()\n",
    "hart_grp_df.head()"
   ]
  },
  {
   "cell_type": "code",
   "execution_count": 8,
   "metadata": {},
   "outputs": [
    {
     "output_type": "execute_result",
     "data": {
      "text/plain": [
       "           Player  Year\n",
       "0   Alex Ovechkin     3\n",
       "1    Bobby Clarke     3\n",
       "2       Bobby Orr     3\n",
       "3      Brett Hull     1\n",
       "4  Bryan Trottier     1"
      ],
      "text/html": "<div>\n<style scoped>\n    .dataframe tbody tr th:only-of-type {\n        vertical-align: middle;\n    }\n\n    .dataframe tbody tr th {\n        vertical-align: top;\n    }\n\n    .dataframe thead th {\n        text-align: right;\n    }\n</style>\n<table border=\"1\" class=\"dataframe\">\n  <thead>\n    <tr style=\"text-align: right;\">\n      <th></th>\n      <th>Player</th>\n      <th>Year</th>\n    </tr>\n  </thead>\n  <tbody>\n    <tr>\n      <th>0</th>\n      <td>Alex Ovechkin</td>\n      <td>3</td>\n    </tr>\n    <tr>\n      <th>1</th>\n      <td>Bobby Clarke</td>\n      <td>3</td>\n    </tr>\n    <tr>\n      <th>2</th>\n      <td>Bobby Orr</td>\n      <td>3</td>\n    </tr>\n    <tr>\n      <th>3</th>\n      <td>Brett Hull</td>\n      <td>1</td>\n    </tr>\n    <tr>\n      <th>4</th>\n      <td>Bryan Trottier</td>\n      <td>1</td>\n    </tr>\n  </tbody>\n</table>\n</div>"
     },
     "metadata": {},
     "execution_count": 8
    }
   ],
   "source": [
    "# Drop columns that are not needed\n",
    "hart_grp_df = hart_grp_df.drop(['Team', 'Award'], axis=1)\n",
    "hart_grp_df.head()"
   ]
  },
  {
   "cell_type": "code",
   "execution_count": 9,
   "metadata": {},
   "outputs": [
    {
     "output_type": "execute_result",
     "data": {
      "text/plain": [
       "           Player  Hart Awards\n",
       "0   Alex Ovechkin            3\n",
       "1    Bobby Clarke            3\n",
       "2       Bobby Orr            3\n",
       "3      Brett Hull            1\n",
       "4  Bryan Trottier            1"
      ],
      "text/html": "<div>\n<style scoped>\n    .dataframe tbody tr th:only-of-type {\n        vertical-align: middle;\n    }\n\n    .dataframe tbody tr th {\n        vertical-align: top;\n    }\n\n    .dataframe thead th {\n        text-align: right;\n    }\n</style>\n<table border=\"1\" class=\"dataframe\">\n  <thead>\n    <tr style=\"text-align: right;\">\n      <th></th>\n      <th>Player</th>\n      <th>Hart Awards</th>\n    </tr>\n  </thead>\n  <tbody>\n    <tr>\n      <th>0</th>\n      <td>Alex Ovechkin</td>\n      <td>3</td>\n    </tr>\n    <tr>\n      <th>1</th>\n      <td>Bobby Clarke</td>\n      <td>3</td>\n    </tr>\n    <tr>\n      <th>2</th>\n      <td>Bobby Orr</td>\n      <td>3</td>\n    </tr>\n    <tr>\n      <th>3</th>\n      <td>Brett Hull</td>\n      <td>1</td>\n    </tr>\n    <tr>\n      <th>4</th>\n      <td>Bryan Trottier</td>\n      <td>1</td>\n    </tr>\n  </tbody>\n</table>\n</div>"
     },
     "metadata": {},
     "execution_count": 9
    }
   ],
   "source": [
    "# Rename the year column to theaward name for the count\n",
    "hart_grp_df = hart_grp_df.rename(columns={\"Year\": \"Hart Awards\"})\n",
    "hart_grp_df.head()"
   ]
  },
  {
   "cell_type": "code",
   "execution_count": 10,
   "metadata": {},
   "outputs": [
    {
     "output_type": "execute_result",
     "data": {
      "text/plain": [
       "   Year         Player                 Team        Award\n",
       "0  2020  Victor Hedman  Tampa Bay Lightning  Conn Smythe\n",
       "1  2019  Ryan O'Reilly      St. Louis Blues  Conn Smythe\n",
       "2  2018  Alex Ovechkin  Washington Capitals  Conn Smythe\n",
       "3  2017  Sidney Crosby  Pittsburgh Penguins  Conn Smythe\n",
       "4  2016  Sidney Crosby  Pittsburgh Penguins  Conn Smythe"
      ],
      "text/html": "<div>\n<style scoped>\n    .dataframe tbody tr th:only-of-type {\n        vertical-align: middle;\n    }\n\n    .dataframe tbody tr th {\n        vertical-align: top;\n    }\n\n    .dataframe thead th {\n        text-align: right;\n    }\n</style>\n<table border=\"1\" class=\"dataframe\">\n  <thead>\n    <tr style=\"text-align: right;\">\n      <th></th>\n      <th>Year</th>\n      <th>Player</th>\n      <th>Team</th>\n      <th>Award</th>\n    </tr>\n  </thead>\n  <tbody>\n    <tr>\n      <th>0</th>\n      <td>2020</td>\n      <td>Victor Hedman</td>\n      <td>Tampa Bay Lightning</td>\n      <td>Conn Smythe</td>\n    </tr>\n    <tr>\n      <th>1</th>\n      <td>2019</td>\n      <td>Ryan O'Reilly</td>\n      <td>St. Louis Blues</td>\n      <td>Conn Smythe</td>\n    </tr>\n    <tr>\n      <th>2</th>\n      <td>2018</td>\n      <td>Alex Ovechkin</td>\n      <td>Washington Capitals</td>\n      <td>Conn Smythe</td>\n    </tr>\n    <tr>\n      <th>3</th>\n      <td>2017</td>\n      <td>Sidney Crosby</td>\n      <td>Pittsburgh Penguins</td>\n      <td>Conn Smythe</td>\n    </tr>\n    <tr>\n      <th>4</th>\n      <td>2016</td>\n      <td>Sidney Crosby</td>\n      <td>Pittsburgh Penguins</td>\n      <td>Conn Smythe</td>\n    </tr>\n  </tbody>\n</table>\n</div>"
     },
     "metadata": {},
     "execution_count": 10
    }
   ],
   "source": [
    "# Scrape the data for the Conn Smythe Trophy Award, Playoff MVP\n",
    "url = 'https://www.nhl.com/news/nhl-conn-smythe-trophy-winners-complete-list/c-287709808?tid=287709666'\n",
    "\n",
    "# Retrieve page with the requests module\n",
    "html = requests.get(url).text\n",
    "\n",
    "# Create BeautifulSoup object; parse with 'html.parser'\n",
    "soup = BeautifulSoup(html, 'html.parser')\n",
    "\n",
    "# results are returned as a list\n",
    "body = soup.find('div', class_='article-item__body')\n",
    "\n",
    "results = body.find_all('li')\n",
    "\n",
    "winners = []\n",
    "for result in results:\n",
    "    # Error handling\n",
    "    try:\n",
    "        #print(result)\n",
    "        row = result.text\n",
    "        #print(f'row: {row}')\n",
    "        words = row.split(':')\n",
    "        more_words = words[1].split(',')\n",
    "\n",
    "        winner = [words[0], more_words[0].strip(), more_words[1].strip(), \"Conn Smythe\"]\n",
    "        #print(winner)\n",
    "        winners.append(winner)\n",
    "\n",
    "    except AttributeError as error:\n",
    "        print(error)\n",
    "\n",
    "# convert list of lists into DataFrame\n",
    "conn_smythe_df = pd.DataFrame(winners, columns = ['Year', 'Player', 'Team', 'Award'])\n",
    "# convert year column to int for filtering purposes\n",
    "conn_smythe_df['Year'] = conn_smythe_df['Year'].astype(int)\n",
    "# filter dataframe \n",
    "conn_smythe_df = conn_smythe_df.loc[conn_smythe_df['Year'] >= 1967,:]\n",
    "conn_smythe_df.head()"
   ]
  },
  {
   "cell_type": "code",
   "execution_count": 11,
   "metadata": {},
   "outputs": [
    {
     "output_type": "execute_result",
     "data": {
      "text/plain": [
       "          Player  Year  Team  Award\n",
       "0    Al MacInnis     1     1      1\n",
       "1  Alex Ovechkin     1     1      1\n",
       "2  Bernie Parent     2     2      2\n",
       "3   Bill Ranford     1     1      1\n",
       "4    Billy Smith     1     1      1"
      ],
      "text/html": "<div>\n<style scoped>\n    .dataframe tbody tr th:only-of-type {\n        vertical-align: middle;\n    }\n\n    .dataframe tbody tr th {\n        vertical-align: top;\n    }\n\n    .dataframe thead th {\n        text-align: right;\n    }\n</style>\n<table border=\"1\" class=\"dataframe\">\n  <thead>\n    <tr style=\"text-align: right;\">\n      <th></th>\n      <th>Player</th>\n      <th>Year</th>\n      <th>Team</th>\n      <th>Award</th>\n    </tr>\n  </thead>\n  <tbody>\n    <tr>\n      <th>0</th>\n      <td>Al MacInnis</td>\n      <td>1</td>\n      <td>1</td>\n      <td>1</td>\n    </tr>\n    <tr>\n      <th>1</th>\n      <td>Alex Ovechkin</td>\n      <td>1</td>\n      <td>1</td>\n      <td>1</td>\n    </tr>\n    <tr>\n      <th>2</th>\n      <td>Bernie Parent</td>\n      <td>2</td>\n      <td>2</td>\n      <td>2</td>\n    </tr>\n    <tr>\n      <th>3</th>\n      <td>Bill Ranford</td>\n      <td>1</td>\n      <td>1</td>\n      <td>1</td>\n    </tr>\n    <tr>\n      <th>4</th>\n      <td>Billy Smith</td>\n      <td>1</td>\n      <td>1</td>\n      <td>1</td>\n    </tr>\n  </tbody>\n</table>\n</div>"
     },
     "metadata": {},
     "execution_count": 11
    }
   ],
   "source": [
    "# Group the data by the player's name column\n",
    "conn_smythe_grp_df = conn_smythe_df.groupby(by=\"Player\", as_index=False).count()\n",
    "conn_smythe_grp_df.head()"
   ]
  },
  {
   "cell_type": "code",
   "execution_count": 12,
   "metadata": {},
   "outputs": [
    {
     "output_type": "execute_result",
     "data": {
      "text/plain": [
       "          Player  Year\n",
       "0    Al MacInnis     1\n",
       "1  Alex Ovechkin     1\n",
       "2  Bernie Parent     2\n",
       "3   Bill Ranford     1\n",
       "4    Billy Smith     1"
      ],
      "text/html": "<div>\n<style scoped>\n    .dataframe tbody tr th:only-of-type {\n        vertical-align: middle;\n    }\n\n    .dataframe tbody tr th {\n        vertical-align: top;\n    }\n\n    .dataframe thead th {\n        text-align: right;\n    }\n</style>\n<table border=\"1\" class=\"dataframe\">\n  <thead>\n    <tr style=\"text-align: right;\">\n      <th></th>\n      <th>Player</th>\n      <th>Year</th>\n    </tr>\n  </thead>\n  <tbody>\n    <tr>\n      <th>0</th>\n      <td>Al MacInnis</td>\n      <td>1</td>\n    </tr>\n    <tr>\n      <th>1</th>\n      <td>Alex Ovechkin</td>\n      <td>1</td>\n    </tr>\n    <tr>\n      <th>2</th>\n      <td>Bernie Parent</td>\n      <td>2</td>\n    </tr>\n    <tr>\n      <th>3</th>\n      <td>Bill Ranford</td>\n      <td>1</td>\n    </tr>\n    <tr>\n      <th>4</th>\n      <td>Billy Smith</td>\n      <td>1</td>\n    </tr>\n  </tbody>\n</table>\n</div>"
     },
     "metadata": {},
     "execution_count": 12
    }
   ],
   "source": [
    "# Drop columns that are not needed\n",
    "conn_smythe_grp_df = conn_smythe_grp_df.drop(['Team', 'Award'], axis=1)\n",
    "conn_smythe_grp_df.head()"
   ]
  },
  {
   "cell_type": "code",
   "execution_count": 13,
   "metadata": {},
   "outputs": [
    {
     "output_type": "execute_result",
     "data": {
      "text/plain": [
       "          Player  Conn Smythe Awards\n",
       "0    Al MacInnis                   1\n",
       "1  Alex Ovechkin                   1\n",
       "2  Bernie Parent                   2\n",
       "3   Bill Ranford                   1\n",
       "4    Billy Smith                   1"
      ],
      "text/html": "<div>\n<style scoped>\n    .dataframe tbody tr th:only-of-type {\n        vertical-align: middle;\n    }\n\n    .dataframe tbody tr th {\n        vertical-align: top;\n    }\n\n    .dataframe thead th {\n        text-align: right;\n    }\n</style>\n<table border=\"1\" class=\"dataframe\">\n  <thead>\n    <tr style=\"text-align: right;\">\n      <th></th>\n      <th>Player</th>\n      <th>Conn Smythe Awards</th>\n    </tr>\n  </thead>\n  <tbody>\n    <tr>\n      <th>0</th>\n      <td>Al MacInnis</td>\n      <td>1</td>\n    </tr>\n    <tr>\n      <th>1</th>\n      <td>Alex Ovechkin</td>\n      <td>1</td>\n    </tr>\n    <tr>\n      <th>2</th>\n      <td>Bernie Parent</td>\n      <td>2</td>\n    </tr>\n    <tr>\n      <th>3</th>\n      <td>Bill Ranford</td>\n      <td>1</td>\n    </tr>\n    <tr>\n      <th>4</th>\n      <td>Billy Smith</td>\n      <td>1</td>\n    </tr>\n  </tbody>\n</table>\n</div>"
     },
     "metadata": {},
     "execution_count": 13
    }
   ],
   "source": [
    "# Rename the year column to theaward name for the count\n",
    "conn_smythe_grp_df = conn_smythe_grp_df.rename(columns={\"Year\": \"Conn Smythe Awards\"})\n",
    "conn_smythe_grp_df.head()"
   ]
  },
  {
   "cell_type": "code",
   "execution_count": 14,
   "metadata": {},
   "outputs": [
    {
     "output_type": "execute_result",
     "data": {
      "text/plain": [
       "   Year            Player                 Team            Award\n",
       "0  2020        Cale Makar   Colorado Avalanche  Calder Memorial\n",
       "1  2019  Elias Pettersson    Vancouver Canucks  Calder Memorial\n",
       "2  2018     Mathew Barzal   New York Islanders  Calder Memorial\n",
       "3  2017   Auston Matthews  Toronto Maple Leafs  Calder Memorial\n",
       "4  2016    Artemi Panarin   Chicago Blackhawks  Calder Memorial"
      ],
      "text/html": "<div>\n<style scoped>\n    .dataframe tbody tr th:only-of-type {\n        vertical-align: middle;\n    }\n\n    .dataframe tbody tr th {\n        vertical-align: top;\n    }\n\n    .dataframe thead th {\n        text-align: right;\n    }\n</style>\n<table border=\"1\" class=\"dataframe\">\n  <thead>\n    <tr style=\"text-align: right;\">\n      <th></th>\n      <th>Year</th>\n      <th>Player</th>\n      <th>Team</th>\n      <th>Award</th>\n    </tr>\n  </thead>\n  <tbody>\n    <tr>\n      <th>0</th>\n      <td>2020</td>\n      <td>Cale Makar</td>\n      <td>Colorado Avalanche</td>\n      <td>Calder Memorial</td>\n    </tr>\n    <tr>\n      <th>1</th>\n      <td>2019</td>\n      <td>Elias Pettersson</td>\n      <td>Vancouver Canucks</td>\n      <td>Calder Memorial</td>\n    </tr>\n    <tr>\n      <th>2</th>\n      <td>2018</td>\n      <td>Mathew Barzal</td>\n      <td>New York Islanders</td>\n      <td>Calder Memorial</td>\n    </tr>\n    <tr>\n      <th>3</th>\n      <td>2017</td>\n      <td>Auston Matthews</td>\n      <td>Toronto Maple Leafs</td>\n      <td>Calder Memorial</td>\n    </tr>\n    <tr>\n      <th>4</th>\n      <td>2016</td>\n      <td>Artemi Panarin</td>\n      <td>Chicago Blackhawks</td>\n      <td>Calder Memorial</td>\n    </tr>\n  </tbody>\n</table>\n</div>"
     },
     "metadata": {},
     "execution_count": 14
    }
   ],
   "source": [
    "# Scrape the data for the Calder Memorial Trophy Awards, Rookie of the Year\n",
    "url = 'https://www.nhl.com/news/nhl-calder-memorial-trophy-winners-complete-list/c-287749198?tid=287709666'\n",
    "\n",
    "# Retrieve page with the requests module\n",
    "html = requests.get(url).text\n",
    "\n",
    "# Create BeautifulSoup object; parse with 'html.parser'\n",
    "soup = BeautifulSoup(html, 'html.parser')\n",
    "\n",
    "# results are returned as a list\n",
    "body = soup.find('div', class_='article-item__body')\n",
    "\n",
    "results = body.find_all('li')\n",
    "\n",
    "winners = []\n",
    "for result in results:\n",
    "    # Error handling\n",
    "    try:\n",
    "        #print(result)\n",
    "        row = result.text\n",
    "        #print(f'row: {row}')\n",
    "        words = row.split(':')\n",
    "        more_words = words[1].split(',')\n",
    "\n",
    "        winner = [words[0], more_words[0].strip(), more_words[1].strip(), 'Calder Memorial']\n",
    "        #print(winner)\n",
    "        winners.append(winner)\n",
    "\n",
    "    except AttributeError as error:\n",
    "        print(error)\n",
    "\n",
    "# convert list of lists into DataFrame\n",
    "calder_memorial_df = pd.DataFrame(winners, columns = ['Year', 'Player', 'Team', 'Award'])\n",
    "# convert year column to int for filtering purposes\n",
    "calder_memorial_df['Year'] = calder_memorial_df['Year'].astype(int)\n",
    "# filter dataframe \n",
    "calder_memorial_df = calder_memorial_df.loc[calder_memorial_df['Year'] >= 1967,:]\n",
    "calder_memorial_df.head()"
   ]
  },
  {
   "cell_type": "code",
   "execution_count": 15,
   "metadata": {},
   "outputs": [
    {
     "output_type": "execute_result",
     "data": {
      "text/plain": [
       "            Player  Year  Team  Award\n",
       "0     Aaron Ekblad     1     1      1\n",
       "1    Alex Ovechkin     1     1      1\n",
       "2  Andrew Raycroft     1     1      1\n",
       "3   Artemi Panarin     1     1      1\n",
       "4  Auston Matthews     1     1      1"
      ],
      "text/html": "<div>\n<style scoped>\n    .dataframe tbody tr th:only-of-type {\n        vertical-align: middle;\n    }\n\n    .dataframe tbody tr th {\n        vertical-align: top;\n    }\n\n    .dataframe thead th {\n        text-align: right;\n    }\n</style>\n<table border=\"1\" class=\"dataframe\">\n  <thead>\n    <tr style=\"text-align: right;\">\n      <th></th>\n      <th>Player</th>\n      <th>Year</th>\n      <th>Team</th>\n      <th>Award</th>\n    </tr>\n  </thead>\n  <tbody>\n    <tr>\n      <th>0</th>\n      <td>Aaron Ekblad</td>\n      <td>1</td>\n      <td>1</td>\n      <td>1</td>\n    </tr>\n    <tr>\n      <th>1</th>\n      <td>Alex Ovechkin</td>\n      <td>1</td>\n      <td>1</td>\n      <td>1</td>\n    </tr>\n    <tr>\n      <th>2</th>\n      <td>Andrew Raycroft</td>\n      <td>1</td>\n      <td>1</td>\n      <td>1</td>\n    </tr>\n    <tr>\n      <th>3</th>\n      <td>Artemi Panarin</td>\n      <td>1</td>\n      <td>1</td>\n      <td>1</td>\n    </tr>\n    <tr>\n      <th>4</th>\n      <td>Auston Matthews</td>\n      <td>1</td>\n      <td>1</td>\n      <td>1</td>\n    </tr>\n  </tbody>\n</table>\n</div>"
     },
     "metadata": {},
     "execution_count": 15
    }
   ],
   "source": [
    "# Group the data by the player's name column\n",
    "calder_memorial_grp_df = calder_memorial_df.groupby(by=\"Player\", as_index=False).count()\n",
    "calder_memorial_grp_df.head()"
   ]
  },
  {
   "cell_type": "code",
   "execution_count": 16,
   "metadata": {},
   "outputs": [
    {
     "output_type": "execute_result",
     "data": {
      "text/plain": [
       "            Player  Year\n",
       "0     Aaron Ekblad     1\n",
       "1    Alex Ovechkin     1\n",
       "2  Andrew Raycroft     1\n",
       "3   Artemi Panarin     1\n",
       "4  Auston Matthews     1"
      ],
      "text/html": "<div>\n<style scoped>\n    .dataframe tbody tr th:only-of-type {\n        vertical-align: middle;\n    }\n\n    .dataframe tbody tr th {\n        vertical-align: top;\n    }\n\n    .dataframe thead th {\n        text-align: right;\n    }\n</style>\n<table border=\"1\" class=\"dataframe\">\n  <thead>\n    <tr style=\"text-align: right;\">\n      <th></th>\n      <th>Player</th>\n      <th>Year</th>\n    </tr>\n  </thead>\n  <tbody>\n    <tr>\n      <th>0</th>\n      <td>Aaron Ekblad</td>\n      <td>1</td>\n    </tr>\n    <tr>\n      <th>1</th>\n      <td>Alex Ovechkin</td>\n      <td>1</td>\n    </tr>\n    <tr>\n      <th>2</th>\n      <td>Andrew Raycroft</td>\n      <td>1</td>\n    </tr>\n    <tr>\n      <th>3</th>\n      <td>Artemi Panarin</td>\n      <td>1</td>\n    </tr>\n    <tr>\n      <th>4</th>\n      <td>Auston Matthews</td>\n      <td>1</td>\n    </tr>\n  </tbody>\n</table>\n</div>"
     },
     "metadata": {},
     "execution_count": 16
    }
   ],
   "source": [
    "# Drop columns that are not needed\n",
    "calder_memorial_grp_df = calder_memorial_grp_df.drop(['Team', 'Award'], axis=1)\n",
    "calder_memorial_grp_df.head()"
   ]
  },
  {
   "cell_type": "code",
   "execution_count": 17,
   "metadata": {},
   "outputs": [
    {
     "output_type": "execute_result",
     "data": {
      "text/plain": [
       "            Player  Calder Awards\n",
       "0     Aaron Ekblad              1\n",
       "1    Alex Ovechkin              1\n",
       "2  Andrew Raycroft              1\n",
       "3   Artemi Panarin              1\n",
       "4  Auston Matthews              1"
      ],
      "text/html": "<div>\n<style scoped>\n    .dataframe tbody tr th:only-of-type {\n        vertical-align: middle;\n    }\n\n    .dataframe tbody tr th {\n        vertical-align: top;\n    }\n\n    .dataframe thead th {\n        text-align: right;\n    }\n</style>\n<table border=\"1\" class=\"dataframe\">\n  <thead>\n    <tr style=\"text-align: right;\">\n      <th></th>\n      <th>Player</th>\n      <th>Calder Awards</th>\n    </tr>\n  </thead>\n  <tbody>\n    <tr>\n      <th>0</th>\n      <td>Aaron Ekblad</td>\n      <td>1</td>\n    </tr>\n    <tr>\n      <th>1</th>\n      <td>Alex Ovechkin</td>\n      <td>1</td>\n    </tr>\n    <tr>\n      <th>2</th>\n      <td>Andrew Raycroft</td>\n      <td>1</td>\n    </tr>\n    <tr>\n      <th>3</th>\n      <td>Artemi Panarin</td>\n      <td>1</td>\n    </tr>\n    <tr>\n      <th>4</th>\n      <td>Auston Matthews</td>\n      <td>1</td>\n    </tr>\n  </tbody>\n</table>\n</div>"
     },
     "metadata": {},
     "execution_count": 17
    }
   ],
   "source": [
    "# Rename the year column to theaward name for the count\n",
    "calder_memorial_grp_df = calder_memorial_grp_df.rename(columns={\"Year\": \"Calder Awards\"})\n",
    "calder_memorial_grp_df.head()"
   ]
  },
  {
   "cell_type": "code",
   "execution_count": 18,
   "metadata": {},
   "outputs": [
    {
     "output_type": "execute_result",
     "data": {
      "text/plain": [
       "   Year         Player                 Team                  Award\n",
       "0  2020     Roman Josi       Calgary Flames  James Norris Memorial\n",
       "1  2019  Mark Giordano       Calgary Flames  James Norris Memorial\n",
       "2  2018  Victor Hedman  Tampa Bay Lightning  James Norris Memorial\n",
       "3  2017    Brent Burns      San Jose Sharks  James Norris Memorial\n",
       "4  2016   Drew Doughty    Los Angeles Kings  James Norris Memorial"
      ],
      "text/html": "<div>\n<style scoped>\n    .dataframe tbody tr th:only-of-type {\n        vertical-align: middle;\n    }\n\n    .dataframe tbody tr th {\n        vertical-align: top;\n    }\n\n    .dataframe thead th {\n        text-align: right;\n    }\n</style>\n<table border=\"1\" class=\"dataframe\">\n  <thead>\n    <tr style=\"text-align: right;\">\n      <th></th>\n      <th>Year</th>\n      <th>Player</th>\n      <th>Team</th>\n      <th>Award</th>\n    </tr>\n  </thead>\n  <tbody>\n    <tr>\n      <th>0</th>\n      <td>2020</td>\n      <td>Roman Josi</td>\n      <td>Calgary Flames</td>\n      <td>James Norris Memorial</td>\n    </tr>\n    <tr>\n      <th>1</th>\n      <td>2019</td>\n      <td>Mark Giordano</td>\n      <td>Calgary Flames</td>\n      <td>James Norris Memorial</td>\n    </tr>\n    <tr>\n      <th>2</th>\n      <td>2018</td>\n      <td>Victor Hedman</td>\n      <td>Tampa Bay Lightning</td>\n      <td>James Norris Memorial</td>\n    </tr>\n    <tr>\n      <th>3</th>\n      <td>2017</td>\n      <td>Brent Burns</td>\n      <td>San Jose Sharks</td>\n      <td>James Norris Memorial</td>\n    </tr>\n    <tr>\n      <th>4</th>\n      <td>2016</td>\n      <td>Drew Doughty</td>\n      <td>Los Angeles Kings</td>\n      <td>James Norris Memorial</td>\n    </tr>\n  </tbody>\n</table>\n</div>"
     },
     "metadata": {},
     "execution_count": 18
    }
   ],
   "source": [
    "# Scrape the data for the James Norris Memorial Trophy, Top Defenseman \n",
    "import re\n",
    "url = 'https://www.nhl.com/news/nhl-james-norris-memorial-trophy-winners-complete-list/c-287778852?tid=287709666'\n",
    "\n",
    "# Retrieve page with the requests module\n",
    "html = requests.get(url).text\n",
    "\n",
    "# Create BeautifulSoup object; parse with 'html.parser'\n",
    "soup = BeautifulSoup(html, 'html.parser')\n",
    "\n",
    "# results are returned as a list\n",
    "body = soup.find('div', class_='article-item__body')\n",
    "\n",
    "results = body.find_all('li')\n",
    "\n",
    "winners = []\n",
    "for result in results:\n",
    "    # Error handling\n",
    "    try:\n",
    "        #print(result)\n",
    "        row = result.text\n",
    "        #print(f'row: {row}')\n",
    "        words = re.split(':|;', row)\n",
    "        #print(words)\n",
    "        more_words = words[1].split(',')\n",
    "        #print(more_words)\n",
    "\n",
    "        winner = [words[0], more_words[0].strip(), more_words[1].strip(), 'James Norris Memorial']\n",
    "        #print(winner)\n",
    "        winners.append(winner)\n",
    "\n",
    "    except AttributeError as error:\n",
    "        print(error)\n",
    "\n",
    "# convert list of lists into DataFrame\n",
    "james_norris_df = pd.DataFrame(winners, columns = ['Year', 'Player', 'Team', 'Award'])\n",
    "# convert year column to int for filtering purposes\n",
    "james_norris_df['Year'] = james_norris_df['Year'].astype(int)\n",
    "# filter dataframe \n",
    "james_norris_df = james_norris_df.loc[james_norris_df['Year'] >= 1967,:]\n",
    "james_norris_df.head()"
   ]
  },
  {
   "cell_type": "code",
   "execution_count": 19,
   "metadata": {},
   "outputs": [
    {
     "output_type": "execute_result",
     "data": {
      "text/plain": [
       "          Player  Year  Team  Award\n",
       "0    Al MacInnis     1     1      1\n",
       "1      Bobby Orr     8     8      8\n",
       "2    Brent Burns     1     1      1\n",
       "3   Brian Leetch     2     2      2\n",
       "4  Chris Chelios     3     3      3"
      ],
      "text/html": "<div>\n<style scoped>\n    .dataframe tbody tr th:only-of-type {\n        vertical-align: middle;\n    }\n\n    .dataframe tbody tr th {\n        vertical-align: top;\n    }\n\n    .dataframe thead th {\n        text-align: right;\n    }\n</style>\n<table border=\"1\" class=\"dataframe\">\n  <thead>\n    <tr style=\"text-align: right;\">\n      <th></th>\n      <th>Player</th>\n      <th>Year</th>\n      <th>Team</th>\n      <th>Award</th>\n    </tr>\n  </thead>\n  <tbody>\n    <tr>\n      <th>0</th>\n      <td>Al MacInnis</td>\n      <td>1</td>\n      <td>1</td>\n      <td>1</td>\n    </tr>\n    <tr>\n      <th>1</th>\n      <td>Bobby Orr</td>\n      <td>8</td>\n      <td>8</td>\n      <td>8</td>\n    </tr>\n    <tr>\n      <th>2</th>\n      <td>Brent Burns</td>\n      <td>1</td>\n      <td>1</td>\n      <td>1</td>\n    </tr>\n    <tr>\n      <th>3</th>\n      <td>Brian Leetch</td>\n      <td>2</td>\n      <td>2</td>\n      <td>2</td>\n    </tr>\n    <tr>\n      <th>4</th>\n      <td>Chris Chelios</td>\n      <td>3</td>\n      <td>3</td>\n      <td>3</td>\n    </tr>\n  </tbody>\n</table>\n</div>"
     },
     "metadata": {},
     "execution_count": 19
    }
   ],
   "source": [
    "# Group the data by the player's name column\n",
    "james_norris_grp_df = james_norris_df.groupby(by=\"Player\", as_index=False).count()\n",
    "james_norris_grp_df.head()"
   ]
  },
  {
   "cell_type": "code",
   "execution_count": 20,
   "metadata": {},
   "outputs": [
    {
     "output_type": "execute_result",
     "data": {
      "text/plain": [
       "          Player  Year\n",
       "0    Al MacInnis     1\n",
       "1      Bobby Orr     8\n",
       "2    Brent Burns     1\n",
       "3   Brian Leetch     2\n",
       "4  Chris Chelios     3"
      ],
      "text/html": "<div>\n<style scoped>\n    .dataframe tbody tr th:only-of-type {\n        vertical-align: middle;\n    }\n\n    .dataframe tbody tr th {\n        vertical-align: top;\n    }\n\n    .dataframe thead th {\n        text-align: right;\n    }\n</style>\n<table border=\"1\" class=\"dataframe\">\n  <thead>\n    <tr style=\"text-align: right;\">\n      <th></th>\n      <th>Player</th>\n      <th>Year</th>\n    </tr>\n  </thead>\n  <tbody>\n    <tr>\n      <th>0</th>\n      <td>Al MacInnis</td>\n      <td>1</td>\n    </tr>\n    <tr>\n      <th>1</th>\n      <td>Bobby Orr</td>\n      <td>8</td>\n    </tr>\n    <tr>\n      <th>2</th>\n      <td>Brent Burns</td>\n      <td>1</td>\n    </tr>\n    <tr>\n      <th>3</th>\n      <td>Brian Leetch</td>\n      <td>2</td>\n    </tr>\n    <tr>\n      <th>4</th>\n      <td>Chris Chelios</td>\n      <td>3</td>\n    </tr>\n  </tbody>\n</table>\n</div>"
     },
     "metadata": {},
     "execution_count": 20
    }
   ],
   "source": [
    "# Drop columns that are not needed\n",
    "james_norris_grp_df = james_norris_grp_df.drop(['Team', 'Award'], axis=1)\n",
    "james_norris_grp_df.head()"
   ]
  },
  {
   "cell_type": "code",
   "execution_count": 21,
   "metadata": {},
   "outputs": [
    {
     "output_type": "execute_result",
     "data": {
      "text/plain": [
       "          Player  James Norris Awards\n",
       "0    Al MacInnis                    1\n",
       "1      Bobby Orr                    8\n",
       "2    Brent Burns                    1\n",
       "3   Brian Leetch                    2\n",
       "4  Chris Chelios                    3"
      ],
      "text/html": "<div>\n<style scoped>\n    .dataframe tbody tr th:only-of-type {\n        vertical-align: middle;\n    }\n\n    .dataframe tbody tr th {\n        vertical-align: top;\n    }\n\n    .dataframe thead th {\n        text-align: right;\n    }\n</style>\n<table border=\"1\" class=\"dataframe\">\n  <thead>\n    <tr style=\"text-align: right;\">\n      <th></th>\n      <th>Player</th>\n      <th>James Norris Awards</th>\n    </tr>\n  </thead>\n  <tbody>\n    <tr>\n      <th>0</th>\n      <td>Al MacInnis</td>\n      <td>1</td>\n    </tr>\n    <tr>\n      <th>1</th>\n      <td>Bobby Orr</td>\n      <td>8</td>\n    </tr>\n    <tr>\n      <th>2</th>\n      <td>Brent Burns</td>\n      <td>1</td>\n    </tr>\n    <tr>\n      <th>3</th>\n      <td>Brian Leetch</td>\n      <td>2</td>\n    </tr>\n    <tr>\n      <th>4</th>\n      <td>Chris Chelios</td>\n      <td>3</td>\n    </tr>\n  </tbody>\n</table>\n</div>"
     },
     "metadata": {},
     "execution_count": 21
    }
   ],
   "source": [
    "# Rename the year column to theaward name for the count\n",
    "james_norris_grp_df = james_norris_grp_df.rename(columns={\"Year\": \"James Norris Awards\"})\n",
    "james_norris_grp_df.head()"
   ]
  },
  {
   "cell_type": "code",
   "execution_count": 22,
   "metadata": {},
   "outputs": [
    {
     "output_type": "execute_result",
     "data": {
      "text/plain": [
       "   Year           Player                 Team        Award\n",
       "0  2020   Leon Draisaitl      Edmonton Oilers  Ted Lindsay\n",
       "1  2019  Nikita Kucherov  Tampa Bay Lightning  Ted Lindsay\n",
       "2  2018   Connor McDavid      Edmonton Oilers  Ted Lindsay\n",
       "3  2017   Connor McDavid      Edmonton Oilers  Ted Lindsay\n",
       "4  2016     Patrick Kane   Chicago Blackhawks  Ted Lindsay"
      ],
      "text/html": "<div>\n<style scoped>\n    .dataframe tbody tr th:only-of-type {\n        vertical-align: middle;\n    }\n\n    .dataframe tbody tr th {\n        vertical-align: top;\n    }\n\n    .dataframe thead th {\n        text-align: right;\n    }\n</style>\n<table border=\"1\" class=\"dataframe\">\n  <thead>\n    <tr style=\"text-align: right;\">\n      <th></th>\n      <th>Year</th>\n      <th>Player</th>\n      <th>Team</th>\n      <th>Award</th>\n    </tr>\n  </thead>\n  <tbody>\n    <tr>\n      <th>0</th>\n      <td>2020</td>\n      <td>Leon Draisaitl</td>\n      <td>Edmonton Oilers</td>\n      <td>Ted Lindsay</td>\n    </tr>\n    <tr>\n      <th>1</th>\n      <td>2019</td>\n      <td>Nikita Kucherov</td>\n      <td>Tampa Bay Lightning</td>\n      <td>Ted Lindsay</td>\n    </tr>\n    <tr>\n      <th>2</th>\n      <td>2018</td>\n      <td>Connor McDavid</td>\n      <td>Edmonton Oilers</td>\n      <td>Ted Lindsay</td>\n    </tr>\n    <tr>\n      <th>3</th>\n      <td>2017</td>\n      <td>Connor McDavid</td>\n      <td>Edmonton Oilers</td>\n      <td>Ted Lindsay</td>\n    </tr>\n    <tr>\n      <th>4</th>\n      <td>2016</td>\n      <td>Patrick Kane</td>\n      <td>Chicago Blackhawks</td>\n      <td>Ted Lindsay</td>\n    </tr>\n  </tbody>\n</table>\n</div>"
     },
     "metadata": {},
     "execution_count": 22
    }
   ],
   "source": [
    "# Scrape the data for the Ted Lindsay Award, Outstanding Player voted by NHLPA players\n",
    "url = 'https://www.nhl.com/news/nhl-ted-lindsay-award-winners-complete-list/c-287978282?tid=287709666'\n",
    "\n",
    "# Retrieve page with the requests module\n",
    "html = requests.get(url).text\n",
    "\n",
    "# Create BeautifulSoup object; parse with 'html.parser'\n",
    "soup = BeautifulSoup(html, 'html.parser')\n",
    "\n",
    "# results are returned as a list\n",
    "body = soup.find('div', class_='article-item__body')\n",
    "\n",
    "results = body.find_all('li')\n",
    "\n",
    "winners = []\n",
    "for result in results:\n",
    "    # Error handling\n",
    "    try:\n",
    "        #print(result)\n",
    "        row = result.text\n",
    "        #print(f'row: {row}')\n",
    "        words = row.split(':')\n",
    "        more_words = words[1].split(',')\n",
    "\n",
    "        winner = [words[0], more_words[0].strip(), more_words[1].strip(), \"Ted Lindsay\"]\n",
    "        #print(winner)\n",
    "        winners.append(winner)\n",
    "\n",
    "    except AttributeError as error:\n",
    "        print(error)\n",
    "\n",
    "# convert list of lists into DataFrame\n",
    "ted_lindsay_df = pd.DataFrame(winners, columns = ['Year', 'Player', 'Team', 'Award'])\n",
    "# convert year column to int for filtering purposes\n",
    "ted_lindsay_df['Year'] = ted_lindsay_df['Year'].astype(int)\n",
    "# filter dataframe \n",
    "ted_lindsay_df = ted_lindsay_df.loc[ted_lindsay_df['Year'] >= 1967,:]\n",
    "ted_lindsay_df.head()"
   ]
  },
  {
   "cell_type": "code",
   "execution_count": 23,
   "metadata": {},
   "outputs": [
    {
     "output_type": "execute_result",
     "data": {
      "text/plain": [
       "          Player  Year  Team  Award\n",
       "0  Alex Ovechkin     3     3      3\n",
       "1   Bobby Clarke     1     1      1\n",
       "2      Bobby Orr     1     1      1\n",
       "3     Brett Hull     1     1      1\n",
       "4    Carey Price     1     1      1"
      ],
      "text/html": "<div>\n<style scoped>\n    .dataframe tbody tr th:only-of-type {\n        vertical-align: middle;\n    }\n\n    .dataframe tbody tr th {\n        vertical-align: top;\n    }\n\n    .dataframe thead th {\n        text-align: right;\n    }\n</style>\n<table border=\"1\" class=\"dataframe\">\n  <thead>\n    <tr style=\"text-align: right;\">\n      <th></th>\n      <th>Player</th>\n      <th>Year</th>\n      <th>Team</th>\n      <th>Award</th>\n    </tr>\n  </thead>\n  <tbody>\n    <tr>\n      <th>0</th>\n      <td>Alex Ovechkin</td>\n      <td>3</td>\n      <td>3</td>\n      <td>3</td>\n    </tr>\n    <tr>\n      <th>1</th>\n      <td>Bobby Clarke</td>\n      <td>1</td>\n      <td>1</td>\n      <td>1</td>\n    </tr>\n    <tr>\n      <th>2</th>\n      <td>Bobby Orr</td>\n      <td>1</td>\n      <td>1</td>\n      <td>1</td>\n    </tr>\n    <tr>\n      <th>3</th>\n      <td>Brett Hull</td>\n      <td>1</td>\n      <td>1</td>\n      <td>1</td>\n    </tr>\n    <tr>\n      <th>4</th>\n      <td>Carey Price</td>\n      <td>1</td>\n      <td>1</td>\n      <td>1</td>\n    </tr>\n  </tbody>\n</table>\n</div>"
     },
     "metadata": {},
     "execution_count": 23
    }
   ],
   "source": [
    "# Group the data by the player's name column\n",
    "ted_lindsay_grp_df = ted_lindsay_df.groupby(by=\"Player\", as_index=False).count()\n",
    "ted_lindsay_grp_df.head()"
   ]
  },
  {
   "cell_type": "code",
   "execution_count": 24,
   "metadata": {},
   "outputs": [
    {
     "output_type": "execute_result",
     "data": {
      "text/plain": [
       "          Player  Year\n",
       "0  Alex Ovechkin     3\n",
       "1   Bobby Clarke     1\n",
       "2      Bobby Orr     1\n",
       "3     Brett Hull     1\n",
       "4    Carey Price     1"
      ],
      "text/html": "<div>\n<style scoped>\n    .dataframe tbody tr th:only-of-type {\n        vertical-align: middle;\n    }\n\n    .dataframe tbody tr th {\n        vertical-align: top;\n    }\n\n    .dataframe thead th {\n        text-align: right;\n    }\n</style>\n<table border=\"1\" class=\"dataframe\">\n  <thead>\n    <tr style=\"text-align: right;\">\n      <th></th>\n      <th>Player</th>\n      <th>Year</th>\n    </tr>\n  </thead>\n  <tbody>\n    <tr>\n      <th>0</th>\n      <td>Alex Ovechkin</td>\n      <td>3</td>\n    </tr>\n    <tr>\n      <th>1</th>\n      <td>Bobby Clarke</td>\n      <td>1</td>\n    </tr>\n    <tr>\n      <th>2</th>\n      <td>Bobby Orr</td>\n      <td>1</td>\n    </tr>\n    <tr>\n      <th>3</th>\n      <td>Brett Hull</td>\n      <td>1</td>\n    </tr>\n    <tr>\n      <th>4</th>\n      <td>Carey Price</td>\n      <td>1</td>\n    </tr>\n  </tbody>\n</table>\n</div>"
     },
     "metadata": {},
     "execution_count": 24
    }
   ],
   "source": [
    "# Drop columns that are not needed\n",
    "ted_lindsay_grp_df = ted_lindsay_grp_df.drop(['Team', 'Award'], axis=1)\n",
    "ted_lindsay_grp_df.head()"
   ]
  },
  {
   "cell_type": "code",
   "execution_count": 25,
   "metadata": {},
   "outputs": [
    {
     "output_type": "execute_result",
     "data": {
      "text/plain": [
       "          Player  Ted Lindsay Awards\n",
       "0  Alex Ovechkin                   3\n",
       "1   Bobby Clarke                   1\n",
       "2      Bobby Orr                   1\n",
       "3     Brett Hull                   1\n",
       "4    Carey Price                   1"
      ],
      "text/html": "<div>\n<style scoped>\n    .dataframe tbody tr th:only-of-type {\n        vertical-align: middle;\n    }\n\n    .dataframe tbody tr th {\n        vertical-align: top;\n    }\n\n    .dataframe thead th {\n        text-align: right;\n    }\n</style>\n<table border=\"1\" class=\"dataframe\">\n  <thead>\n    <tr style=\"text-align: right;\">\n      <th></th>\n      <th>Player</th>\n      <th>Ted Lindsay Awards</th>\n    </tr>\n  </thead>\n  <tbody>\n    <tr>\n      <th>0</th>\n      <td>Alex Ovechkin</td>\n      <td>3</td>\n    </tr>\n    <tr>\n      <th>1</th>\n      <td>Bobby Clarke</td>\n      <td>1</td>\n    </tr>\n    <tr>\n      <th>2</th>\n      <td>Bobby Orr</td>\n      <td>1</td>\n    </tr>\n    <tr>\n      <th>3</th>\n      <td>Brett Hull</td>\n      <td>1</td>\n    </tr>\n    <tr>\n      <th>4</th>\n      <td>Carey Price</td>\n      <td>1</td>\n    </tr>\n  </tbody>\n</table>\n</div>"
     },
     "metadata": {},
     "execution_count": 25
    }
   ],
   "source": [
    "# Rename the year column to theaward name for the count\n",
    "ted_lindsay_grp_df = ted_lindsay_grp_df.rename(columns={\"Year\": \"Ted Lindsay Awards\"})\n",
    "ted_lindsay_grp_df.head()"
   ]
  },
  {
   "cell_type": "code",
   "execution_count": 26,
   "metadata": {},
   "outputs": [
    {
     "output_type": "execute_result",
     "data": {
      "text/plain": [
       "   Year          Player                 Team            Award\n",
       "0  2020   Alex Ovechkin  Washington Capitals  Maurice Richard\n",
       "1  2020  David Pastrnak        Boston Bruins  Maurice Richard\n",
       "2  2019   Alex Ovechkin  Washington Capitals  Maurice Richard\n",
       "3  2018   Alex Ovechkin  Washington Capitals  Maurice Richard\n",
       "4  2017   Sidney Crosby  Pittsburgh Penguins  Maurice Richard"
      ],
      "text/html": "<div>\n<style scoped>\n    .dataframe tbody tr th:only-of-type {\n        vertical-align: middle;\n    }\n\n    .dataframe tbody tr th {\n        vertical-align: top;\n    }\n\n    .dataframe thead th {\n        text-align: right;\n    }\n</style>\n<table border=\"1\" class=\"dataframe\">\n  <thead>\n    <tr style=\"text-align: right;\">\n      <th></th>\n      <th>Year</th>\n      <th>Player</th>\n      <th>Team</th>\n      <th>Award</th>\n    </tr>\n  </thead>\n  <tbody>\n    <tr>\n      <th>0</th>\n      <td>2020</td>\n      <td>Alex Ovechkin</td>\n      <td>Washington Capitals</td>\n      <td>Maurice Richard</td>\n    </tr>\n    <tr>\n      <th>1</th>\n      <td>2020</td>\n      <td>David Pastrnak</td>\n      <td>Boston Bruins</td>\n      <td>Maurice Richard</td>\n    </tr>\n    <tr>\n      <th>2</th>\n      <td>2019</td>\n      <td>Alex Ovechkin</td>\n      <td>Washington Capitals</td>\n      <td>Maurice Richard</td>\n    </tr>\n    <tr>\n      <th>3</th>\n      <td>2018</td>\n      <td>Alex Ovechkin</td>\n      <td>Washington Capitals</td>\n      <td>Maurice Richard</td>\n    </tr>\n    <tr>\n      <th>4</th>\n      <td>2017</td>\n      <td>Sidney Crosby</td>\n      <td>Pittsburgh Penguins</td>\n      <td>Maurice Richard</td>\n    </tr>\n  </tbody>\n</table>\n</div>"
     },
     "metadata": {},
     "execution_count": 26
    }
   ],
   "source": [
    "# Scrape the data for the Maurice Richard Award, Top Goal Scorer\n",
    "url = 'https://www.nhl.com/news/nhl-maurice-richard-trophy-winners-complete-list/c-287972892?tid=287709666'\n",
    "\n",
    "# Retrieve page with the requests module\n",
    "html = requests.get(url).text\n",
    "\n",
    "# Create BeautifulSoup object; parse with 'html.parser'\n",
    "soup = BeautifulSoup(html, 'html.parser')\n",
    "\n",
    "# results are returned as a list\n",
    "body = soup.find('div', class_='article-item__body')\n",
    "\n",
    "results = body.find_all('li')\n",
    "\n",
    "winners = []\n",
    "for result in results:\n",
    "    # Error handling\n",
    "    try:\n",
    "        #print(result)\n",
    "        row = result.text\n",
    "        #print(f'row: {row}')\n",
    "        words = row.split(':')\n",
    "        more_words = words[1].split(',')\n",
    "\n",
    "        winner = [words[0], more_words[0].strip(), more_words[1].strip(), \"Maurice Richard\"]\n",
    "        #print(winner)\n",
    "        winners.append(winner)\n",
    "\n",
    "    except AttributeError as error:\n",
    "        print(error)\n",
    "\n",
    "# convert list of lists into DataFrame\n",
    "maurice_richard_df = pd.DataFrame(winners, columns = ['Year', 'Player', 'Team', 'Award'])\n",
    "# convert year column to int for filtering purposes\n",
    "maurice_richard_df['Year'] = maurice_richard_df['Year'].astype(int)\n",
    "# filter dataframe \n",
    "maurice_richard_df = maurice_richard_df.loc[ted_lindsay_df['Year'] >= 1967,:]\n",
    "maurice_richard_df.head()"
   ]
  },
  {
   "cell_type": "code",
   "execution_count": 27,
   "metadata": {},
   "outputs": [
    {
     "output_type": "execute_result",
     "data": {
      "text/plain": [
       "           Player  Year  Team  Award\n",
       "0   Alex Ovechkin     9     9      9\n",
       "1     Corey Perry     1     1      1\n",
       "2  David Pastrnak     1     1      1\n",
       "3  Ilya Kovalchuk     1     1      1\n",
       "4   Jarome Iginla     2     2      2"
      ],
      "text/html": "<div>\n<style scoped>\n    .dataframe tbody tr th:only-of-type {\n        vertical-align: middle;\n    }\n\n    .dataframe tbody tr th {\n        vertical-align: top;\n    }\n\n    .dataframe thead th {\n        text-align: right;\n    }\n</style>\n<table border=\"1\" class=\"dataframe\">\n  <thead>\n    <tr style=\"text-align: right;\">\n      <th></th>\n      <th>Player</th>\n      <th>Year</th>\n      <th>Team</th>\n      <th>Award</th>\n    </tr>\n  </thead>\n  <tbody>\n    <tr>\n      <th>0</th>\n      <td>Alex Ovechkin</td>\n      <td>9</td>\n      <td>9</td>\n      <td>9</td>\n    </tr>\n    <tr>\n      <th>1</th>\n      <td>Corey Perry</td>\n      <td>1</td>\n      <td>1</td>\n      <td>1</td>\n    </tr>\n    <tr>\n      <th>2</th>\n      <td>David Pastrnak</td>\n      <td>1</td>\n      <td>1</td>\n      <td>1</td>\n    </tr>\n    <tr>\n      <th>3</th>\n      <td>Ilya Kovalchuk</td>\n      <td>1</td>\n      <td>1</td>\n      <td>1</td>\n    </tr>\n    <tr>\n      <th>4</th>\n      <td>Jarome Iginla</td>\n      <td>2</td>\n      <td>2</td>\n      <td>2</td>\n    </tr>\n  </tbody>\n</table>\n</div>"
     },
     "metadata": {},
     "execution_count": 27
    }
   ],
   "source": [
    "# Group the data by the player's name column\n",
    "maurice_richard_grp_df = maurice_richard_df.groupby(by=\"Player\", as_index=False).count()\n",
    "maurice_richard_grp_df.head()"
   ]
  },
  {
   "cell_type": "code",
   "execution_count": 28,
   "metadata": {},
   "outputs": [
    {
     "output_type": "execute_result",
     "data": {
      "text/plain": [
       "           Player  Year\n",
       "0   Alex Ovechkin     9\n",
       "1     Corey Perry     1\n",
       "2  David Pastrnak     1\n",
       "3  Ilya Kovalchuk     1\n",
       "4   Jarome Iginla     2"
      ],
      "text/html": "<div>\n<style scoped>\n    .dataframe tbody tr th:only-of-type {\n        vertical-align: middle;\n    }\n\n    .dataframe tbody tr th {\n        vertical-align: top;\n    }\n\n    .dataframe thead th {\n        text-align: right;\n    }\n</style>\n<table border=\"1\" class=\"dataframe\">\n  <thead>\n    <tr style=\"text-align: right;\">\n      <th></th>\n      <th>Player</th>\n      <th>Year</th>\n    </tr>\n  </thead>\n  <tbody>\n    <tr>\n      <th>0</th>\n      <td>Alex Ovechkin</td>\n      <td>9</td>\n    </tr>\n    <tr>\n      <th>1</th>\n      <td>Corey Perry</td>\n      <td>1</td>\n    </tr>\n    <tr>\n      <th>2</th>\n      <td>David Pastrnak</td>\n      <td>1</td>\n    </tr>\n    <tr>\n      <th>3</th>\n      <td>Ilya Kovalchuk</td>\n      <td>1</td>\n    </tr>\n    <tr>\n      <th>4</th>\n      <td>Jarome Iginla</td>\n      <td>2</td>\n    </tr>\n  </tbody>\n</table>\n</div>"
     },
     "metadata": {},
     "execution_count": 28
    }
   ],
   "source": [
    "# Drop columns that are not needed\n",
    "maurice_richard_grp_df = maurice_richard_grp_df.drop(['Team', 'Award'], axis=1)\n",
    "maurice_richard_grp_df.head()"
   ]
  },
  {
   "cell_type": "code",
   "execution_count": 29,
   "metadata": {},
   "outputs": [
    {
     "output_type": "execute_result",
     "data": {
      "text/plain": [
       "           Player  Maurice Richard Awards\n",
       "0   Alex Ovechkin                       9\n",
       "1     Corey Perry                       1\n",
       "2  David Pastrnak                       1\n",
       "3  Ilya Kovalchuk                       1\n",
       "4   Jarome Iginla                       2"
      ],
      "text/html": "<div>\n<style scoped>\n    .dataframe tbody tr th:only-of-type {\n        vertical-align: middle;\n    }\n\n    .dataframe tbody tr th {\n        vertical-align: top;\n    }\n\n    .dataframe thead th {\n        text-align: right;\n    }\n</style>\n<table border=\"1\" class=\"dataframe\">\n  <thead>\n    <tr style=\"text-align: right;\">\n      <th></th>\n      <th>Player</th>\n      <th>Maurice Richard Awards</th>\n    </tr>\n  </thead>\n  <tbody>\n    <tr>\n      <th>0</th>\n      <td>Alex Ovechkin</td>\n      <td>9</td>\n    </tr>\n    <tr>\n      <th>1</th>\n      <td>Corey Perry</td>\n      <td>1</td>\n    </tr>\n    <tr>\n      <th>2</th>\n      <td>David Pastrnak</td>\n      <td>1</td>\n    </tr>\n    <tr>\n      <th>3</th>\n      <td>Ilya Kovalchuk</td>\n      <td>1</td>\n    </tr>\n    <tr>\n      <th>4</th>\n      <td>Jarome Iginla</td>\n      <td>2</td>\n    </tr>\n  </tbody>\n</table>\n</div>"
     },
     "metadata": {},
     "execution_count": 29
    }
   ],
   "source": [
    "# Rename the year column to theaward name for the count\n",
    "maurice_richard_grp_df = maurice_richard_grp_df.rename(columns={\"Year\": \"Maurice Richard Awards\"})\n",
    "maurice_richard_grp_df.head()"
   ]
  },
  {
   "cell_type": "code",
   "execution_count": 30,
   "metadata": {},
   "outputs": [
    {
     "output_type": "execute_result",
     "data": {
      "text/plain": [
       "           Player  Art Ross Awards  Conn Smythe Awards\n",
       "0   Alex Ovechkin              1.0                 1.0\n",
       "1       Bobby Orr              2.0                 2.0\n",
       "2  Bryan Trottier              1.0                 1.0\n",
       "3  Connor McDavid              2.0                 NaN\n",
       "4    Daniel Sedin              1.0                 NaN"
      ],
      "text/html": "<div>\n<style scoped>\n    .dataframe tbody tr th:only-of-type {\n        vertical-align: middle;\n    }\n\n    .dataframe tbody tr th {\n        vertical-align: top;\n    }\n\n    .dataframe thead th {\n        text-align: right;\n    }\n</style>\n<table border=\"1\" class=\"dataframe\">\n  <thead>\n    <tr style=\"text-align: right;\">\n      <th></th>\n      <th>Player</th>\n      <th>Art Ross Awards</th>\n      <th>Conn Smythe Awards</th>\n    </tr>\n  </thead>\n  <tbody>\n    <tr>\n      <th>0</th>\n      <td>Alex Ovechkin</td>\n      <td>1.0</td>\n      <td>1.0</td>\n    </tr>\n    <tr>\n      <th>1</th>\n      <td>Bobby Orr</td>\n      <td>2.0</td>\n      <td>2.0</td>\n    </tr>\n    <tr>\n      <th>2</th>\n      <td>Bryan Trottier</td>\n      <td>1.0</td>\n      <td>1.0</td>\n    </tr>\n    <tr>\n      <th>3</th>\n      <td>Connor McDavid</td>\n      <td>2.0</td>\n      <td>NaN</td>\n    </tr>\n    <tr>\n      <th>4</th>\n      <td>Daniel Sedin</td>\n      <td>1.0</td>\n      <td>NaN</td>\n    </tr>\n  </tbody>\n</table>\n</div>"
     },
     "metadata": {},
     "execution_count": 30
    }
   ],
   "source": [
    "# Merge the individual award files into one complete file\n",
    "awards_merge_df = pd.merge(art_ross_grp_df,\n",
    "                 conn_smythe_grp_df[['Player', 'Conn Smythe Awards']],\n",
    "                 on='Player', how='outer')\n",
    "awards_merge_df.head()"
   ]
  },
  {
   "cell_type": "code",
   "execution_count": 31,
   "metadata": {},
   "outputs": [
    {
     "output_type": "execute_result",
     "data": {
      "text/plain": [
       "           Player  Art Ross Awards  Conn Smythe Awards  Hart Awards\n",
       "0   Alex Ovechkin              1.0                 1.0          3.0\n",
       "1       Bobby Orr              2.0                 2.0          3.0\n",
       "2  Bryan Trottier              1.0                 1.0          1.0\n",
       "3  Connor McDavid              2.0                 NaN          1.0\n",
       "4    Daniel Sedin              1.0                 NaN          NaN"
      ],
      "text/html": "<div>\n<style scoped>\n    .dataframe tbody tr th:only-of-type {\n        vertical-align: middle;\n    }\n\n    .dataframe tbody tr th {\n        vertical-align: top;\n    }\n\n    .dataframe thead th {\n        text-align: right;\n    }\n</style>\n<table border=\"1\" class=\"dataframe\">\n  <thead>\n    <tr style=\"text-align: right;\">\n      <th></th>\n      <th>Player</th>\n      <th>Art Ross Awards</th>\n      <th>Conn Smythe Awards</th>\n      <th>Hart Awards</th>\n    </tr>\n  </thead>\n  <tbody>\n    <tr>\n      <th>0</th>\n      <td>Alex Ovechkin</td>\n      <td>1.0</td>\n      <td>1.0</td>\n      <td>3.0</td>\n    </tr>\n    <tr>\n      <th>1</th>\n      <td>Bobby Orr</td>\n      <td>2.0</td>\n      <td>2.0</td>\n      <td>3.0</td>\n    </tr>\n    <tr>\n      <th>2</th>\n      <td>Bryan Trottier</td>\n      <td>1.0</td>\n      <td>1.0</td>\n      <td>1.0</td>\n    </tr>\n    <tr>\n      <th>3</th>\n      <td>Connor McDavid</td>\n      <td>2.0</td>\n      <td>NaN</td>\n      <td>1.0</td>\n    </tr>\n    <tr>\n      <th>4</th>\n      <td>Daniel Sedin</td>\n      <td>1.0</td>\n      <td>NaN</td>\n      <td>NaN</td>\n    </tr>\n  </tbody>\n</table>\n</div>"
     },
     "metadata": {},
     "execution_count": 31
    }
   ],
   "source": [
    "# Merge the individual award files into one complete file\n",
    "awards_merge_df = pd.merge(awards_merge_df,\n",
    "                 hart_grp_df[['Player', 'Hart Awards']],\n",
    "                 on='Player', how='outer')\n",
    "awards_merge_df.head()"
   ]
  },
  {
   "cell_type": "code",
   "execution_count": 32,
   "metadata": {},
   "outputs": [
    {
     "output_type": "execute_result",
     "data": {
      "text/plain": [
       "           Player  Art Ross Awards  Conn Smythe Awards  Hart Awards  \\\n",
       "0   Alex Ovechkin              1.0                 1.0          3.0   \n",
       "1       Bobby Orr              2.0                 2.0          3.0   \n",
       "2  Bryan Trottier              1.0                 1.0          1.0   \n",
       "3  Connor McDavid              2.0                 NaN          1.0   \n",
       "4    Daniel Sedin              1.0                 NaN          NaN   \n",
       "\n",
       "   Calder Awards  \n",
       "0            1.0  \n",
       "1            1.0  \n",
       "2            1.0  \n",
       "3            NaN  \n",
       "4            NaN  "
      ],
      "text/html": "<div>\n<style scoped>\n    .dataframe tbody tr th:only-of-type {\n        vertical-align: middle;\n    }\n\n    .dataframe tbody tr th {\n        vertical-align: top;\n    }\n\n    .dataframe thead th {\n        text-align: right;\n    }\n</style>\n<table border=\"1\" class=\"dataframe\">\n  <thead>\n    <tr style=\"text-align: right;\">\n      <th></th>\n      <th>Player</th>\n      <th>Art Ross Awards</th>\n      <th>Conn Smythe Awards</th>\n      <th>Hart Awards</th>\n      <th>Calder Awards</th>\n    </tr>\n  </thead>\n  <tbody>\n    <tr>\n      <th>0</th>\n      <td>Alex Ovechkin</td>\n      <td>1.0</td>\n      <td>1.0</td>\n      <td>3.0</td>\n      <td>1.0</td>\n    </tr>\n    <tr>\n      <th>1</th>\n      <td>Bobby Orr</td>\n      <td>2.0</td>\n      <td>2.0</td>\n      <td>3.0</td>\n      <td>1.0</td>\n    </tr>\n    <tr>\n      <th>2</th>\n      <td>Bryan Trottier</td>\n      <td>1.0</td>\n      <td>1.0</td>\n      <td>1.0</td>\n      <td>1.0</td>\n    </tr>\n    <tr>\n      <th>3</th>\n      <td>Connor McDavid</td>\n      <td>2.0</td>\n      <td>NaN</td>\n      <td>1.0</td>\n      <td>NaN</td>\n    </tr>\n    <tr>\n      <th>4</th>\n      <td>Daniel Sedin</td>\n      <td>1.0</td>\n      <td>NaN</td>\n      <td>NaN</td>\n      <td>NaN</td>\n    </tr>\n  </tbody>\n</table>\n</div>"
     },
     "metadata": {},
     "execution_count": 32
    }
   ],
   "source": [
    "# Merge the individual award files into one complete file\n",
    "awards_merge_df = pd.merge(awards_merge_df,\n",
    "                 calder_memorial_grp_df[['Player', 'Calder Awards']],\n",
    "                 on='Player', how='outer')\n",
    "awards_merge_df.head()"
   ]
  },
  {
   "cell_type": "code",
   "execution_count": 33,
   "metadata": {},
   "outputs": [
    {
     "output_type": "execute_result",
     "data": {
      "text/plain": [
       "           Player  Art Ross Awards  Conn Smythe Awards  Hart Awards  \\\n",
       "0   Alex Ovechkin              1.0                 1.0          3.0   \n",
       "1       Bobby Orr              2.0                 2.0          3.0   \n",
       "2  Bryan Trottier              1.0                 1.0          1.0   \n",
       "3  Connor McDavid              2.0                 NaN          1.0   \n",
       "4    Daniel Sedin              1.0                 NaN          NaN   \n",
       "\n",
       "   Calder Awards  James Norris Awards  \n",
       "0            1.0                  NaN  \n",
       "1            1.0                  8.0  \n",
       "2            1.0                  NaN  \n",
       "3            NaN                  NaN  \n",
       "4            NaN                  NaN  "
      ],
      "text/html": "<div>\n<style scoped>\n    .dataframe tbody tr th:only-of-type {\n        vertical-align: middle;\n    }\n\n    .dataframe tbody tr th {\n        vertical-align: top;\n    }\n\n    .dataframe thead th {\n        text-align: right;\n    }\n</style>\n<table border=\"1\" class=\"dataframe\">\n  <thead>\n    <tr style=\"text-align: right;\">\n      <th></th>\n      <th>Player</th>\n      <th>Art Ross Awards</th>\n      <th>Conn Smythe Awards</th>\n      <th>Hart Awards</th>\n      <th>Calder Awards</th>\n      <th>James Norris Awards</th>\n    </tr>\n  </thead>\n  <tbody>\n    <tr>\n      <th>0</th>\n      <td>Alex Ovechkin</td>\n      <td>1.0</td>\n      <td>1.0</td>\n      <td>3.0</td>\n      <td>1.0</td>\n      <td>NaN</td>\n    </tr>\n    <tr>\n      <th>1</th>\n      <td>Bobby Orr</td>\n      <td>2.0</td>\n      <td>2.0</td>\n      <td>3.0</td>\n      <td>1.0</td>\n      <td>8.0</td>\n    </tr>\n    <tr>\n      <th>2</th>\n      <td>Bryan Trottier</td>\n      <td>1.0</td>\n      <td>1.0</td>\n      <td>1.0</td>\n      <td>1.0</td>\n      <td>NaN</td>\n    </tr>\n    <tr>\n      <th>3</th>\n      <td>Connor McDavid</td>\n      <td>2.0</td>\n      <td>NaN</td>\n      <td>1.0</td>\n      <td>NaN</td>\n      <td>NaN</td>\n    </tr>\n    <tr>\n      <th>4</th>\n      <td>Daniel Sedin</td>\n      <td>1.0</td>\n      <td>NaN</td>\n      <td>NaN</td>\n      <td>NaN</td>\n      <td>NaN</td>\n    </tr>\n  </tbody>\n</table>\n</div>"
     },
     "metadata": {},
     "execution_count": 33
    }
   ],
   "source": [
    "# Merge the individual award files into one complete file\n",
    "awards_merge_df = pd.merge(awards_merge_df,\n",
    "                 james_norris_grp_df[['Player', 'James Norris Awards']],\n",
    "                 on='Player', how='outer')\n",
    "awards_merge_df.head()"
   ]
  },
  {
   "cell_type": "code",
   "execution_count": 34,
   "metadata": {},
   "outputs": [
    {
     "output_type": "execute_result",
     "data": {
      "text/plain": [
       "           Player  Art Ross Awards  Conn Smythe Awards  Hart Awards  \\\n",
       "0   Alex Ovechkin              1.0                 1.0          3.0   \n",
       "1       Bobby Orr              2.0                 2.0          3.0   \n",
       "2  Bryan Trottier              1.0                 1.0          1.0   \n",
       "3  Connor McDavid              2.0                 NaN          1.0   \n",
       "4    Daniel Sedin              1.0                 NaN          NaN   \n",
       "\n",
       "   Calder Awards  James Norris Awards  Ted Lindsay Awards  \n",
       "0            1.0                  NaN                 3.0  \n",
       "1            1.0                  8.0                 1.0  \n",
       "2            1.0                  NaN                 NaN  \n",
       "3            NaN                  NaN                 2.0  \n",
       "4            NaN                  NaN                 1.0  "
      ],
      "text/html": "<div>\n<style scoped>\n    .dataframe tbody tr th:only-of-type {\n        vertical-align: middle;\n    }\n\n    .dataframe tbody tr th {\n        vertical-align: top;\n    }\n\n    .dataframe thead th {\n        text-align: right;\n    }\n</style>\n<table border=\"1\" class=\"dataframe\">\n  <thead>\n    <tr style=\"text-align: right;\">\n      <th></th>\n      <th>Player</th>\n      <th>Art Ross Awards</th>\n      <th>Conn Smythe Awards</th>\n      <th>Hart Awards</th>\n      <th>Calder Awards</th>\n      <th>James Norris Awards</th>\n      <th>Ted Lindsay Awards</th>\n    </tr>\n  </thead>\n  <tbody>\n    <tr>\n      <th>0</th>\n      <td>Alex Ovechkin</td>\n      <td>1.0</td>\n      <td>1.0</td>\n      <td>3.0</td>\n      <td>1.0</td>\n      <td>NaN</td>\n      <td>3.0</td>\n    </tr>\n    <tr>\n      <th>1</th>\n      <td>Bobby Orr</td>\n      <td>2.0</td>\n      <td>2.0</td>\n      <td>3.0</td>\n      <td>1.0</td>\n      <td>8.0</td>\n      <td>1.0</td>\n    </tr>\n    <tr>\n      <th>2</th>\n      <td>Bryan Trottier</td>\n      <td>1.0</td>\n      <td>1.0</td>\n      <td>1.0</td>\n      <td>1.0</td>\n      <td>NaN</td>\n      <td>NaN</td>\n    </tr>\n    <tr>\n      <th>3</th>\n      <td>Connor McDavid</td>\n      <td>2.0</td>\n      <td>NaN</td>\n      <td>1.0</td>\n      <td>NaN</td>\n      <td>NaN</td>\n      <td>2.0</td>\n    </tr>\n    <tr>\n      <th>4</th>\n      <td>Daniel Sedin</td>\n      <td>1.0</td>\n      <td>NaN</td>\n      <td>NaN</td>\n      <td>NaN</td>\n      <td>NaN</td>\n      <td>1.0</td>\n    </tr>\n  </tbody>\n</table>\n</div>"
     },
     "metadata": {},
     "execution_count": 34
    }
   ],
   "source": [
    "# Merge the individual award files into one complete file\n",
    "awards_merge_df = pd.merge(awards_merge_df,\n",
    "                 ted_lindsay_grp_df[['Player', 'Ted Lindsay Awards']],\n",
    "                 on='Player', how='outer')\n",
    "awards_merge_df.head()"
   ]
  },
  {
   "cell_type": "code",
   "execution_count": 35,
   "metadata": {},
   "outputs": [
    {
     "output_type": "execute_result",
     "data": {
      "text/plain": [
       "           Player  Art Ross Awards  Conn Smythe Awards  Hart Awards  \\\n",
       "0   Alex Ovechkin              1.0                 1.0          3.0   \n",
       "1       Bobby Orr              2.0                 2.0          3.0   \n",
       "2  Bryan Trottier              1.0                 1.0          1.0   \n",
       "3  Connor McDavid              2.0                 NaN          1.0   \n",
       "4    Daniel Sedin              1.0                 NaN          NaN   \n",
       "\n",
       "   Calder Awards  James Norris Awards  Ted Lindsay Awards  \\\n",
       "0            1.0                  NaN                 3.0   \n",
       "1            1.0                  8.0                 1.0   \n",
       "2            1.0                  NaN                 NaN   \n",
       "3            NaN                  NaN                 2.0   \n",
       "4            NaN                  NaN                 1.0   \n",
       "\n",
       "   Maurice Richard Awards  \n",
       "0                     9.0  \n",
       "1                     NaN  \n",
       "2                     NaN  \n",
       "3                     NaN  \n",
       "4                     NaN  "
      ],
      "text/html": "<div>\n<style scoped>\n    .dataframe tbody tr th:only-of-type {\n        vertical-align: middle;\n    }\n\n    .dataframe tbody tr th {\n        vertical-align: top;\n    }\n\n    .dataframe thead th {\n        text-align: right;\n    }\n</style>\n<table border=\"1\" class=\"dataframe\">\n  <thead>\n    <tr style=\"text-align: right;\">\n      <th></th>\n      <th>Player</th>\n      <th>Art Ross Awards</th>\n      <th>Conn Smythe Awards</th>\n      <th>Hart Awards</th>\n      <th>Calder Awards</th>\n      <th>James Norris Awards</th>\n      <th>Ted Lindsay Awards</th>\n      <th>Maurice Richard Awards</th>\n    </tr>\n  </thead>\n  <tbody>\n    <tr>\n      <th>0</th>\n      <td>Alex Ovechkin</td>\n      <td>1.0</td>\n      <td>1.0</td>\n      <td>3.0</td>\n      <td>1.0</td>\n      <td>NaN</td>\n      <td>3.0</td>\n      <td>9.0</td>\n    </tr>\n    <tr>\n      <th>1</th>\n      <td>Bobby Orr</td>\n      <td>2.0</td>\n      <td>2.0</td>\n      <td>3.0</td>\n      <td>1.0</td>\n      <td>8.0</td>\n      <td>1.0</td>\n      <td>NaN</td>\n    </tr>\n    <tr>\n      <th>2</th>\n      <td>Bryan Trottier</td>\n      <td>1.0</td>\n      <td>1.0</td>\n      <td>1.0</td>\n      <td>1.0</td>\n      <td>NaN</td>\n      <td>NaN</td>\n      <td>NaN</td>\n    </tr>\n    <tr>\n      <th>3</th>\n      <td>Connor McDavid</td>\n      <td>2.0</td>\n      <td>NaN</td>\n      <td>1.0</td>\n      <td>NaN</td>\n      <td>NaN</td>\n      <td>2.0</td>\n      <td>NaN</td>\n    </tr>\n    <tr>\n      <th>4</th>\n      <td>Daniel Sedin</td>\n      <td>1.0</td>\n      <td>NaN</td>\n      <td>NaN</td>\n      <td>NaN</td>\n      <td>NaN</td>\n      <td>1.0</td>\n      <td>NaN</td>\n    </tr>\n  </tbody>\n</table>\n</div>"
     },
     "metadata": {},
     "execution_count": 35
    }
   ],
   "source": [
    "# Merge the individual award files into one complete file\n",
    "awards_merge_df = pd.merge(awards_merge_df,\n",
    "                 maurice_richard_grp_df[['Player', 'Maurice Richard Awards']],\n",
    "                 on='Player', how='outer')\n",
    "awards_merge_df.head()"
   ]
  },
  {
   "cell_type": "code",
   "execution_count": 36,
   "metadata": {},
   "outputs": [
    {
     "output_type": "execute_result",
     "data": {
      "text/plain": [
       "           Player  Art Ross Awards  Conn Smythe Awards  Hart Awards  \\\n",
       "0   Alex Ovechkin                1                   1            3   \n",
       "1       Bobby Orr                2                   2            3   \n",
       "2  Bryan Trottier                1                   1            1   \n",
       "3  Connor McDavid                2                   0            1   \n",
       "4    Daniel Sedin                1                   0            0   \n",
       "\n",
       "   Calder Awards  James Norris Awards  Ted Lindsay Awards  \\\n",
       "0              1                    0                   3   \n",
       "1              1                    8                   1   \n",
       "2              1                    0                   0   \n",
       "3              0                    0                   2   \n",
       "4              0                    0                   1   \n",
       "\n",
       "   Maurice Richard Awards  \n",
       "0                       9  \n",
       "1                       0  \n",
       "2                       0  \n",
       "3                       0  \n",
       "4                       0  "
      ],
      "text/html": "<div>\n<style scoped>\n    .dataframe tbody tr th:only-of-type {\n        vertical-align: middle;\n    }\n\n    .dataframe tbody tr th {\n        vertical-align: top;\n    }\n\n    .dataframe thead th {\n        text-align: right;\n    }\n</style>\n<table border=\"1\" class=\"dataframe\">\n  <thead>\n    <tr style=\"text-align: right;\">\n      <th></th>\n      <th>Player</th>\n      <th>Art Ross Awards</th>\n      <th>Conn Smythe Awards</th>\n      <th>Hart Awards</th>\n      <th>Calder Awards</th>\n      <th>James Norris Awards</th>\n      <th>Ted Lindsay Awards</th>\n      <th>Maurice Richard Awards</th>\n    </tr>\n  </thead>\n  <tbody>\n    <tr>\n      <th>0</th>\n      <td>Alex Ovechkin</td>\n      <td>1</td>\n      <td>1</td>\n      <td>3</td>\n      <td>1</td>\n      <td>0</td>\n      <td>3</td>\n      <td>9</td>\n    </tr>\n    <tr>\n      <th>1</th>\n      <td>Bobby Orr</td>\n      <td>2</td>\n      <td>2</td>\n      <td>3</td>\n      <td>1</td>\n      <td>8</td>\n      <td>1</td>\n      <td>0</td>\n    </tr>\n    <tr>\n      <th>2</th>\n      <td>Bryan Trottier</td>\n      <td>1</td>\n      <td>1</td>\n      <td>1</td>\n      <td>1</td>\n      <td>0</td>\n      <td>0</td>\n      <td>0</td>\n    </tr>\n    <tr>\n      <th>3</th>\n      <td>Connor McDavid</td>\n      <td>2</td>\n      <td>0</td>\n      <td>1</td>\n      <td>0</td>\n      <td>0</td>\n      <td>2</td>\n      <td>0</td>\n    </tr>\n    <tr>\n      <th>4</th>\n      <td>Daniel Sedin</td>\n      <td>1</td>\n      <td>0</td>\n      <td>0</td>\n      <td>0</td>\n      <td>0</td>\n      <td>1</td>\n      <td>0</td>\n    </tr>\n  </tbody>\n</table>\n</div>"
     },
     "metadata": {},
     "execution_count": 36
    }
   ],
   "source": [
    "# Chnage all the NaN values to 0 and change numeric columns to integers\n",
    "awards_merge_df = awards_merge_df.fillna(0)\n",
    "awards_merge_df = awards_merge_df.astype({\"Art Ross Awards\":'int', \"Conn Smythe Awards\":'int', \"James Norris Awards\":'int',\n",
    "                    \"Maurice Richard Awards\":'int', \"Calder Awards\":'int', \"Hart Awards\":'int', \"Ted Lindsay Awards\":\"int\"}) \n",
    "awards_merge_df.head()  "
   ]
  },
  {
   "cell_type": "code",
   "execution_count": 37,
   "metadata": {},
   "outputs": [
    {
     "output_type": "execute_result",
     "data": {
      "text/plain": [
       "               Player  Art Ross Awards  Conn Smythe Awards  Hart Awards  \\\n",
       "0  Alexander Ovechkin                1                   1            3   \n",
       "1           Bobby Orr                2                   2            3   \n",
       "2      Bryan Trottier                1                   1            1   \n",
       "3      Connor McDavid                2                   0            1   \n",
       "4        Daniel Sedin                1                   0            0   \n",
       "\n",
       "   Calder Awards  James Norris Awards  Ted Lindsay Awards  \\\n",
       "0              1                    0                   3   \n",
       "1              1                    8                   1   \n",
       "2              1                    0                   0   \n",
       "3              0                    0                   2   \n",
       "4              0                    0                   1   \n",
       "\n",
       "   Maurice Richard Awards  \n",
       "0                       9  \n",
       "1                       0  \n",
       "2                       0  \n",
       "3                       0  \n",
       "4                       0  "
      ],
      "text/html": "<div>\n<style scoped>\n    .dataframe tbody tr th:only-of-type {\n        vertical-align: middle;\n    }\n\n    .dataframe tbody tr th {\n        vertical-align: top;\n    }\n\n    .dataframe thead th {\n        text-align: right;\n    }\n</style>\n<table border=\"1\" class=\"dataframe\">\n  <thead>\n    <tr style=\"text-align: right;\">\n      <th></th>\n      <th>Player</th>\n      <th>Art Ross Awards</th>\n      <th>Conn Smythe Awards</th>\n      <th>Hart Awards</th>\n      <th>Calder Awards</th>\n      <th>James Norris Awards</th>\n      <th>Ted Lindsay Awards</th>\n      <th>Maurice Richard Awards</th>\n    </tr>\n  </thead>\n  <tbody>\n    <tr>\n      <th>0</th>\n      <td>Alexander Ovechkin</td>\n      <td>1</td>\n      <td>1</td>\n      <td>3</td>\n      <td>1</td>\n      <td>0</td>\n      <td>3</td>\n      <td>9</td>\n    </tr>\n    <tr>\n      <th>1</th>\n      <td>Bobby Orr</td>\n      <td>2</td>\n      <td>2</td>\n      <td>3</td>\n      <td>1</td>\n      <td>8</td>\n      <td>1</td>\n      <td>0</td>\n    </tr>\n    <tr>\n      <th>2</th>\n      <td>Bryan Trottier</td>\n      <td>1</td>\n      <td>1</td>\n      <td>1</td>\n      <td>1</td>\n      <td>0</td>\n      <td>0</td>\n      <td>0</td>\n    </tr>\n    <tr>\n      <th>3</th>\n      <td>Connor McDavid</td>\n      <td>2</td>\n      <td>0</td>\n      <td>1</td>\n      <td>0</td>\n      <td>0</td>\n      <td>2</td>\n      <td>0</td>\n    </tr>\n    <tr>\n      <th>4</th>\n      <td>Daniel Sedin</td>\n      <td>1</td>\n      <td>0</td>\n      <td>0</td>\n      <td>0</td>\n      <td>0</td>\n      <td>1</td>\n      <td>0</td>\n    </tr>\n  </tbody>\n</table>\n</div>"
     },
     "metadata": {},
     "execution_count": 37
    }
   ],
   "source": [
    "awards_merge_df = awards_merge_df.replace(\"Alex Ovechkin\", \"Alexander Ovechkin\")\n",
    "awards_merge_df = awards_merge_df.replace(\"Bernie Geoffrion\", \"Bernard Geoffrion\")\n",
    "awards_merge_df = awards_merge_df.replace(\"Evgeni Malkin\", \"Yevgeni Malkin\")\n",
    "awards_merge_df = awards_merge_df.replace(\"Johnny Quilty\", \"John Quilty\")\n",
    "awards_merge_df = awards_merge_df.replace(\"Ray Bourque\", \"Raymond Bourque\")\n",
    "awards_merge_df = awards_merge_df.replace(\"Sweeney Schriner\", \"David Schriner\")\n",
    "awards_merge_df = awards_merge_df.replace(\"Tommy Anderson\", \"Tom Anderson\")\n",
    "awards_merge_df.head()"
   ]
  },
  {
   "cell_type": "code",
   "execution_count": 42,
   "metadata": {},
   "outputs": [],
   "source": [
    "# Scrape the data for Stanley Cup wins by player\n",
    "#from splinter import Browser\n",
    "#from bs4 import BeautifulSoup\n",
    "from selenium.webdriver import Chrome\n",
    "from selenium.webdriver.chrome.options import Options\n",
    "from splinter.driver.webdriver import BaseWebDriver, WebDriverElement"
   ]
  },
  {
   "cell_type": "code",
   "execution_count": 43,
   "metadata": {},
   "outputs": [],
   "source": [
    "options = Options()\n",
    "options.add_argument('--no-sandbox')\n",
    "executable_path = {'executable_path': 'chromedriver.exe'}\n",
    "browser = Browser('chrome', **executable_path, headless=False, chrome_options=options)"
   ]
  },
  {
   "cell_type": "code",
   "execution_count": 44,
   "metadata": {},
   "outputs": [],
   "source": [
    "# Set URL to the stanley Cup records page\n",
    "url = 'https://records.nhl.com/records/playoff-skater-records/stanley-cups/skater-most-stanley-cups-won-career'\n",
    "browser.visit(url)"
   ]
  },
  {
   "cell_type": "code",
   "execution_count": 45,
   "metadata": {},
   "outputs": [
    {
     "output_type": "execute_result",
     "data": {
      "text/plain": [
       " Leswick', 'Cups': '1'},\n",
       " {'Player': 'Don McFadyen', 'Cups': '1'},\n",
       " {'Player': 'Johnny Sheppard', 'Cups': '1'},\n",
       " {'Player': 'Russ Blinco', 'Cups': '1'},\n",
       " {'Player': 'Stewart Evans', 'Cups': '1'},\n",
       " {'Player': 'Gus Marker', 'Cups': '1'},\n",
       " {'Player': 'Sammy McManus', 'Cups': '1'},\n",
       " {'Player': 'Bill Miller', 'Cups': '1'},\n",
       " {'Player': 'Baldy Northcott', 'Cups': '1'},\n",
       " {'Player': 'Earl Robinson', 'Cups': '1'},\n",
       " {'Player': 'Al Shields', 'Cups': '1'},\n",
       " {'Player': 'Dave Trottier', 'Cups': '1'},\n",
       " {'Player': 'Jimmy Ward', 'Cups': '1'},\n",
       " {'Player': 'Cy Wentworth', 'Cups': '1'},\n",
       " {'Player': 'John Gallagher', 'Cups': '1'},\n",
       " {'Player': 'Howie Mackie', 'Cups': '1'},\n",
       " {'Player': 'Rolly Roulston', 'Cups': '1'},\n",
       " {'Player': 'John Sherf', 'Cups': '1'},\n",
       " {'Player': 'Bert Connelly', 'Cups': '1'},\n",
       " {'Player': 'Cully Dahlstrom', 'Cups': '1'},\n",
       " {'Player': 'Virgil Johnson', 'Cups': '1'},\n",
       " {'Player': 'Bill MacKenzie', 'Cups': '1'},\n",
       " {'Player': 'Pete Palangio', 'Cups': '1'},\n",
       " {'Player': 'Jack Shill', 'Cups': '1'},\n",
       " {'Player': 'Carl Voss', 'Cups': '1'},\n",
       " {'Player': 'Art Wiebe', 'Cups': '1'},\n",
       " {'Player': 'Harry Frost', 'Cups': '1'},\n",
       " {'Player': 'Red Hamill', 'Cups': '1'},\n",
       " {'Player': 'Jack Portland', 'Cups': '1'},\n",
       " {'Player': 'Charlie Sands', 'Cups': '1'},\n",
       " {'Player': 'Mac Colville', 'Cups': '1'},\n",
       " {'Player': 'Neil Colville', 'Cups': '1'},\n",
       " {'Player': 'Bryan Hextall Sr.', 'Cups': '1'},\n",
       " {'Player': 'Kilby MacDonald', 'Cups': '1'},\n",
       " {'Player': 'Lynn Patrick', 'Cups': '1'},\n",
       " {'Player': 'Muzz Patrick', 'Cups': '1'},\n",
       " {'Player': 'Alf Pike', 'Cups': '1'},\n",
       " {'Player': 'Alex Shibicky', 'Cups': '1'},\n",
       " {'Player': 'Clint Smith', 'Cups': '1'},\n",
       " {'Player': 'Stan Smith', 'Cups': '1'},\n",
       " {'Player': 'Pat McReavy', 'Cups': '1'},\n",
       " {'Player': 'Terry Reardon', 'Cups': '1'},\n",
       " {'Player': 'Jack Shewchuk', 'Cups': '1'},\n",
       " {'Player': 'Des Smith', 'Cups': '1'},\n",
       " {'Player': 'Eddie Wiseman', 'Cups': '1'},\n",
       " {'Player': 'Ernie Dickens', 'Cups': '1'},\n",
       " {'Player': 'Gordie Drillon', 'Cups': '1'},\n",
       " {'Player': 'Hank Goldup', 'Cups': '1'},\n",
       " {'Player': 'Bingo Kampman', 'Cups': '1'},\n",
       " {'Player': 'Pete Langelle', 'Cups': '1'},\n",
       " {'Player': 'Billy Taylor Sr.', 'Cups': '1'},\n",
       " {'Player': 'Adam Brown', 'Cups': '1'},\n",
       " {'Player': 'Connie Brown', 'Cups': '1'},\n",
       " {'Player': 'Les Douglas', 'Cups': '1'},\n",
       " {'Player': 'Joe Fisher', 'Cups': '1'},\n",
       " {'Player': 'Don Grosso', 'Cups': '1'},\n",
       " {'Player': 'Carl Liscombe', 'Cups': '1'},\n",
       " {'Player': 'Alex Motter', 'Cups': '1'},\n",
       " {'Player': 'Jimmy Orlando', 'Cups': '1'},\n",
       " {'Player': 'Cully Simon', 'Cups': '1'},\n",
       " {'Player': 'Eddie Wares', 'Cups': '1'},\n",
       " {'Player': 'Gerry Heffernan', 'Cups': '1'},\n",
       " {'Player': 'Fern Majeau', 'Cups': '1'},\n",
       " {'Player': 'Mike McMahon', 'Cups': '1'},\n",
       " {'Player': 'Pete Backor', 'Cups': '1'},\n",
       " {'Player': 'Ross Johnstone', 'Cups': '1'},\n",
       " {'Player': 'Jack McLean', 'Cups': '1'},\n",
       " {'Player': 'Moe Morris', 'Cups': '1'},\n",
       " {'Player': \"Tom O'Neill\", 'Cups': '1'},\n",
       " {'Player': 'Joe Benoit', 'Cups': '1'},\n",
       " {'Player': 'Frank Eddolls', 'Cups': '1'},\n",
       " {'Player': 'Gerry Plamondon', 'Cups': '1'},\n",
       " {'Player': 'Ken Reardon', 'Cups': '1'},\n",
       " {'Player': 'Bud Poile', 'Cups': '1'},\n",
       " {'Player': 'Les Costello', 'Cups': '1'},\n",
       " {'Player': 'Phil Samis', 'Cups': '1'},\n",
       " {'Player': 'Bob Dawes', 'Cups': '1'},\n",
       " {'Player': 'Harry Taylor', 'Cups': '1'},\n",
       " {'Player': 'Pete Babando', 'Cups': '1'},\n",
       " {'Player': 'Steve Black', 'Cups': '1'},\n",
       " {'Player': 'Gerry Couture', 'Cups': '1'},\n",
       " {'Player': 'Al Dewsbury', 'Cups': '1'},\n",
       " {'Player': 'Lee Fogolin', 'Cups': '1'},\n",
       " {'Player': 'George Gee', 'Cups': '1'},\n",
       " {'Player': 'Clare Martin', 'Cups': '1'},\n",
       " {'Player': 'Jim McFadden', 'Cups': '1'},\n",
       " {'Player': 'Doug McKay', 'Cups': '1'},\n",
       " {'Player': 'Max McNab', 'Cups': '1'},\n",
       " {'Player': 'Larry Wilson', 'Cups': '1'},\n",
       " {'Player': 'Hugh Bolton', 'Cups': '1'},\n",
       " {'Player': 'Fern Flaman', 'Cups': '1'},\n",
       " {'Player': 'Bob Hassard', 'Cups': '1'},\n",
       " {'Player': 'Danny Lewicki', 'Cups': '1'},\n",
       " {'Player': 'Fred Glover', 'Cups': '1'},\n",
       " {'Player': 'Enio Sclisizzi', 'Cups': '1'},\n",
       " {'Player': 'Larry Zeidel', 'Cups': '1'},\n",
       " {'Player': 'Lorne Davis', 'Cups': '1'},\n",
       " {'Player': 'Dick Gamble', 'Cups': '1'},\n",
       " {'Player': 'Calum MacKay', 'Cups': '1'},\n",
       " {'Player': 'Bud MacPherson', 'Cups': '1'},\n",
       " {'Player': 'Paul Masnick', 'Cups': '1'},\n",
       " {'Player': 'Eddie Mazur', 'Cups': '1'},\n",
       " {'Player': 'Paul Meger', 'Cups': '1'},\n",
       " {'Player': 'Keith Allen', 'Cups': '1'},\n",
       " {'Player': 'Gilles Dube', 'Cups': '1'},\n",
       " {'Player': 'Earl Johnson', 'Cups': '1'},\n",
       " {'Player': 'Jim Hay', 'Cups': '1'},\n",
       " {'Player': 'Ian Cushenan', 'Cups': '1'},\n",
       " {'Player': 'Earl Balfour', 'Cups': '1'},\n",
       " {'Player': 'Murray Balfour', 'Cups': '1'},\n",
       " {'Player': 'Jack Evans', 'Cups': '1'},\n",
       " {'Player': 'Reg Fleming', 'Cups': '1'},\n",
       " {'Player': 'Bill Hay', 'Cups': '1'},\n",
       " {'Player': 'Wayne Hicks', 'Cups': '1'},\n",
       " {'Player': 'Wayne Hillman', 'Cups': '1'},\n",
       " {'Player': 'Bobby Hull', 'Cups': '1'},\n",
       " {'Player': 'Chico Maki', 'Cups': '1'},\n",
       " {'Player': 'Stan Mikita', 'Cups': '1'},\n",
       " {'Player': 'Eric Nesterenko', 'Cups': '1'},\n",
       " {'Player': 'Pierre Pilote', 'Cups': '1'},\n",
       " {'Player': 'Moose Vasko', 'Cups': '1'},\n",
       " {'Player': 'Kenny Wharram', 'Cups': '1'},\n",
       " {'Player': 'Andy Bathgate', 'Cups': '1'},\n",
       " {'Player': 'Gerry Ehman', 'Cups': '1'},\n",
       " {'Player': 'Don McKenney', 'Cups': '1'},\n",
       " {'Player': 'Red Berenson', 'Cups': '1'},\n",
       " {'Player': 'Jean Gauthier', 'Cups': '1'},\n",
       " {'Player': 'Garry Peters', 'Cups': '1'},\n",
       " {'Player': 'Noel Picard', 'Cups': '1'},\n",
       " {'Player': 'Bryan Watson', 'Cups': '1'},\n",
       " {'Player': 'Noel Price', 'Cups': '1'},\n",
       " {'Player': 'John Brenneman', 'Cups': '1'},\n",
       " {'Player': 'Brian Conacher', 'Cups': '1'},\n",
       " {'Player': 'Ron Ellis', 'Cups': '1'},\n",
       " {'Player': 'Aut Erickson', 'Cups': '1'},\n",
       " {'Player': 'Larry Jeffrey', 'Cups': '1'},\n",
       " {'Player': 'Milan Marcetta', 'Cups': '1'},\n",
       " {'Player': 'Pete Stemkowski', 'Cups': '1'},\n",
       " {'Player': 'Danny Grant', 'Cups': '1'},\n",
       " {'Player': 'Christian Bordeleau', 'Cups': '1'},\n",
       " {'Player': 'Ivan Boldirev', 'Cups': '1'},\n",
       " {'Player': 'Wayne Carleton', 'Cups': '1'},\n",
       " {'Player': 'Gary Doak', 'Cups': '1'},\n",
       " {'Player': 'Bill Lesuk', 'Cups': '1'},\n",
       " {'Player': 'Jim Lorentz', 'Cups': '1'},\n",
       " {'Player': 'Danny Schock', 'Cups': '1'},\n",
       " {'Player': 'Rick Smith', 'Cups': '1'},\n",
       " {'Player': 'Bill Speer', 'Cups': '1'},\n",
       " {'Player': 'Phil Roberto', 'Cups': '1'},\n",
       " {'Player': 'Bobby Sheehan', 'Cups': '1'},\n",
       " {'Player': 'Barry Ashbee', 'Cups': '1'},\n",
       " {'Player': 'Bruce Cowick', 'Cups': '1'},\n",
       " {'Player': 'Bill Flett', 'Cups': '1'},\n",
       " {'Player': 'Simon Nolet', 'Cups': '1'},\n",
       " {'Player': 'Larry Goodenough', 'Cups': '1'},\n",
       " {'Player': 'Reggie Leach', 'Cups': '1'},\n",
       " {'Player': 'John Van Boxmeer', 'Cups': '1'},\n",
       " {'Player': 'Mike Polich', 'Cups': '1'},\n",
       " {'Player': 'Cam Connor', 'Cups': '1'},\n",
       " {'Player': 'Rod Langway', 'Cups': '1'},\n",
       " {'Player': 'Lorne Henning', 'Cups': '1'},\n",
       " {'Player': 'Alex McKendry', 'Cups': '1'},\n",
       " {'Player': 'Steve Tambellini', 'Cups': '1'},\n",
       " {'Player': 'Paul Boutilier', 'Cups': '1'},\n",
       " {'Player': 'Mats Hallin', 'Cups': '1'},\n",
       " {'Player': 'Pat Conacher', 'Cups': '1'},\n",
       " {'Player': 'Ken Linseman', 'Cups': '1'},\n",
       " {'Player': 'Larry Melnyk', 'Cups': '1'},\n",
       " {'Player': 'Serge Boisvert', 'Cups': '1'},\n",
       " {'Player': 'Kjell Dahlin', 'Cups': '1'},\n",
       " {'Player': 'Lucien DeBlois', 'Cups': '1'},\n",
       " {'Player': 'Gaston Gingras', 'Cups': '1'},\n",
       " {'Player': 'Rick Green', 'Cups': '1'},\n",
       " {'Player': 'John Kordic', 'Cups': '1'},\n",
       " {'Player': 'Tom Kurvers', 'Cups': '1'},\n",
       " {'Player': 'Mike Lalor', 'Cups': '1'},\n",
       " {'Player': 'David Maley', 'Cups': '1'},\n",
       " {'Player': 'Mike McPhee', 'Cups': '1'},\n",
       " {'Player': 'Mats Naslund', 'Cups': '1'},\n",
       " {'Player': 'Chris Nilan', 'Cups': '1'},\n",
       " {'Player': 'Steve Rooney', 'Cups': '1'},\n",
       " {'Player': 'Bobby Smith', 'Cups': '1'},\n",
       " {'Player': 'Petr Svoboda', 'Cups': '1'},\n",
       " {'Player': 'Ryan Walter', 'Cups': '1'},\n",
       " {'Player': 'Moe Lemay', 'Cups': '1'},\n",
       " {'Player': 'Kent Nilsson', 'Cups': '1'},\n",
       " {'Player': 'Keith Acton', 'Cups': '1'},\n",
       " {'Player': 'Geoff Courtnall', 'Cups': '1'},\n",
       " {'Player': 'Normand Lacombe', 'Cups': '1'},\n",
       " {'Player': 'Theo Fleury', 'Cups': '1'},\n",
       " {'Player': 'Doug Gilmour', 'Cups': '1'},\n",
       " {'Player': 'Mark Hunter', 'Cups': '1'},\n",
       " {'Player': 'Tim Hunter', 'Cups': '1'},\n",
       " {'Player': 'Hakan Loob', 'Cups': '1'},\n",
       " {'Player': 'Al MacInnis', 'Cups': '1'},\n",
       " {'Player': 'Brian MacLellan', 'Cups': '1'},\n",
       " {'Player': 'Brad McCrimmon', 'Cups': '1'},\n",
       " {'Player': 'Lanny McDonald', 'Cups': '1'},\n",
       " {'Player': 'Dana Murzyn', 'Cups': '1'},\n",
       " {'Player': 'Ric Nattress', 'Cups': '1'},\n",
       " {'Player': 'Joel Otto', 'Cups': '1'},\n",
       " {'Player': 'Colin Patterson', 'Cups': '1'},\n",
       " {'Player': 'Jim Peplinski', 'Cups': '1'},\n",
       " {'Player': 'Gary Roberts', 'Cups': '1'},\n",
       " {'Player': 'Gary Suter', 'Cups': '1'},\n",
       " {'Player': 'Dave Brown', 'Cups': '1'},\n",
       " {'Player': 'Martin Gelinas', 'Cups': '1'},\n",
       " {'Player': 'Petr Klima', 'Cups': '1'},\n",
       " {'Player': 'Mark Lamb', 'Cups': '1'},\n",
       " {'Player': 'Joe Murphy', 'Cups': '1'},\n",
       " {'Player': 'Geoff Smith', 'Cups': '1'},\n",
       " {'Player': 'Randy Gilhen', 'Cups': '1'},\n",
       " {'Player': 'Randy Hillier', 'Cups': '1'},\n",
       " {'Player': 'Barry Pederson', 'Cups': '1'},\n",
       " {'Player': 'Jock Callander', 'Cups': '1'},\n",
       " {'Player': 'Jeff Chychrun', 'Cups': '1'},\n",
       " {'Player': 'Jeff Daniels', 'Cups': '1'},\n",
       " {'Player': 'Jamie Leach', 'Cups': '1'},\n",
       " {'Player': 'Shawn McEachern', 'Cups': '1'},\n",
       " {'Player': 'David Michayluk', 'Cups': '1'},\n",
       " {'Player': 'Michael Needham', 'Cups': '1'},\n",
       " {'Player': 'Ken Priestlay', 'Cups': '1'},\n",
       " {'Player': 'Kjell Samuelsson', 'Cups': '1'},\n",
       " {'Player': 'Rick Tocchet', 'Cups': '1'},\n",
       " {'Player': 'Jesse Belanger', 'Cups': '1'},\n",
       " {'Player': 'Brian Bellows', 'Cups': '1'},\n",
       " {'Player': 'Patrice Brisebois', 'Cups': '1'},\n",
       " {'Player': 'Benoit Brunet', 'Cups': '1'},\n",
       " {'Player': 'J.J. Daigneault', 'Cups': '1'},\n",
       " {'Player': 'Vincent Damphousse', 'Cups': '1'},\n",
       " {'Player': 'Eric Desjardins', 'Cups': '1'},\n",
       " {'Player': 'Paul Di Pietro', 'Cups': '1'},\n",
       " {'Player': 'Gilbert Dionne', 'Cups': '1'},\n",
       " {'Player': 'Donald Dufresne', 'Cups': '1'},\n",
       " {'Player': 'Todd Ewen', 'Cups': '1'},\n",
       " {'Player': 'Kevin Haller', 'Cups': '1'},\n",
       " {'Player': 'Sean Hill', 'Cups': '1'},\n",
       " {'Player': 'Stephan Lebeau', 'Cups': '1'},\n",
       " {'Player': 'John LeClair', 'Cups': '1'},\n",
       " {'Player': 'Gary Leeman', 'Cups': '1'},\n",
       " {'Player': 'Kirk Muller', 'Cups': '1'},\n",
       " {'Player': 'Lyle Odelein', 'Cups': '1'},\n",
       " {'Player': 'Mario Roberge', 'Cups': '1'},\n",
       " {'Player': 'Ed Ronan', 'Cups': '1'},\n",
       " {'Player': 'Denis Savard', 'Cups': '1'},\n",
       " {'Player': 'Mathieu Schneider', 'Cups': '1'},\n",
       " {'Player': 'Mike Hartman', 'Cups': '1'},\n",
       " {'Player': 'Mike Hudson', 'Cups': '1'},\n",
       " {'Player': 'Alexander Karpovtsev', 'Cups': '1'},\n",
       " {'Player': 'Alex Kovalev', 'Cups': '1'},\n",
       " {'Player': 'Nick Kypreos', 'Cups': '1'},\n",
       " {'Player': 'Steve Larmer', 'Cups': '1'},\n",
       " {'Player': 'Brian Leetch', 'Cups': '1'},\n",
       " {'Player': 'Doug Lidster', 'Cups': '1'},\n",
       " {'Player': 'Stephane Matteau', 'Cups': '1'},\n",
       " {'Player': 'Brian Noonan', 'Cups': '1'},\n",
       " {'Player': 'Eddie Olczyk', 'Cups': '1'},\n",
       " {'Player': 'Jay Wells', 'Cups': '1'},\n",
       " {'Player': 'Neal Broten', 'Cups': '1'},\n",
       " {'Player': 'Bobby Carpenter', 'Cups': '1'},\n",
       " {'Player': 'Tom Chorske', 'Cups': '1'},\n",
       " {'Player': 'Danton Cole', 'Cups': '1'},\n",
       " {'Player': 'Kevin Dean', 'Cups': '1'},\n",
       " {'Player': 'Jim Dowd', 'Cups': '1'},\n",
       " {'Player': 'Bruce Driver', 'Cups': '1'},\n",
       " {'Player': 'John MacLean', 'Cups': '1'},\n",
       " {'Player': 'Chris McAlpine', 'Cups': '1'},\n",
       " {'Player': 'Mike Peluso', 'Cups': '1'},\n",
       " {'Player': 'Brian Rolston', 'Cups': '1'},\n",
       " {'Player': 'Valeri Zelepukin', 'Cups': '1'},\n",
       " {'Player': 'Rene Corbet', 'Cups': '1'},\n",
       " {'Player': 'Adam Deadmarsh', 'Cups': '1'},\n",
       " {'Player': 'Alexei Gusarov', 'Cups': '1'},\n",
       " {'Player': 'Valeri Kamensky', 'Cups': '1'},\n",
       " {'Player': 'Uwe Krupp', 'Cups': '1'},\n",
       " {'Player': 'Sylvain Lefebvre', 'Cups': '1'},\n",
       " {'Player': 'Curtis Leschyshyn', 'Cups': '1'},\n",
       " {'Player': 'Troy Murray', 'Cups': '1'},\n",
       " {'Player': 'Sandis Ozolinsh', 'Cups': '1'},\n",
       " {'Player': 'Mike Ricci', 'Cups': '1'},\n",
       " {'Player': 'Warren Rychel', 'Cups': '1'},\n",
       " {'Player': 'Chris Simon', 'Cups': '1'},\n",
       " {'Player': 'Craig Wolanin', 'Cups': '1'},\n",
       " {'Player': 'Jamie Pushor', 'Cups': '1'},\n",
       " {'Player': 'Tomas Sandstrom', 'Cups': '1'},\n",
       " {'Player': 'Anders Eriksson', 'Cups': '1'},\n",
       " {'Player': 'Brent Gilchrist', 'Cups': '1'},\n",
       " {'Player': 'Mike Knuble', 'Cups': '1'},\n",
       " {'Player': 'Dmitri Mironov', 'Cups': '1'},\n",
       " {'Player': 'Derian Hatcher', 'Cups': '1'},\n",
       " {'Player': 'Benoit Hogue', 'Cups': '1'},\n",
       " {'Player': 'Tony Hrkac', 'Cups': '1'},\n",
       " {'Player': 'Jere Lehtinen', 'Cups': '1'},\n",
       " {'Player': 'Richard Matvichuk', 'Cups': '1'},\n",
       " {'Player': 'Mike Modano', 'Cups': '1'},\n",
       " {'Player': 'Derek Plante', 'Cups': '1'},\n",
       " {'Player': 'Brent Severyn', 'Cups': '1'},\n",
       " {'Player': 'Jon Sim', 'Cups': '1'},\n",
       " {'Player': 'Blake Sloan', 'Cups': '1'},\n",
       " {'Player': 'Pat Verbeek', 'Cups': '1'},\n",
       " {'Player': 'Jason Arnott', 'Cups': '1'},\n",
       " {'Player': 'Brad Bombardir', 'Cups': '1'},\n",
       " {'Player': 'Steve Brule', 'Cups': '1'},\n",
       " {'Player': 'Steve Kelly', 'Cups': '1'},\n",
       " {'Player': 'Vladimir Malakhov', 'Cups': '1'},\n",
       " {'Player': 'Alexander Mogilny', 'Cups': '1'},\n",
       " {'Player': 'Krzysztof Oliwa', 'Cups': '1'},\n",
       " {'Player': 'Ken Sutton', 'Cups': '1'},\n",
       " {'Player': 'Rob Blake', 'Cups': '1'},\n",
       " {'Player': 'Ray Bourque', 'Cups': '1'},\n",
       " {'Player': 'Greg De Vries', 'Cups': '1'},\n",
       " {'Player': 'Chris Drury', 'Cups': '1'},\n",
       " {'Player': 'Milan Hejduk', 'Cups': '1'},\n",
       " {'Player': 'Dan Hinote', 'Cups': '1'},\n",
       " {'Player': 'Eric Messier', 'Cups': '1'},\n",
       " {'Player': 'Bryan Muir', 'Cups': '1'},\n",
       " {'Player': 'Ville Nieminen', 'Cups': '1'},\n",
       " {'Player': 'Scott Parker', 'Cups': '1'},\n",
       " {'Player': 'Shjon Podein', 'Cups': '1'},\n",
       " {'Player': 'Steve Reinprecht', 'Cups': '1'},\n",
       " {'Player': 'Martin Skoula', 'Cups': '1'},\n",
       " {'Player': 'Alex Tanguay', 'Cups': '1'},\n",
       " {'Player': 'Boyd Devereaux', 'Cups': '1'},\n",
       " {'Player': 'Steve Duchesne', 'Cups': '1'},\n",
       " {'Player': 'Jiri Fischer', 'Cups': '1'},\n",
       " {'Player': 'Fredrik Olausson', 'Cups': '1'},\n",
       " {'Player': 'Luc Robitaille', 'Cups': '1'},\n",
       " {'Player': 'Jiri Slegr', 'Cups': '1'},\n",
       " {'Player': 'Jason Williams', 'Cups': '1'},\n",
       " {'Player': 'Jiri Bicek', 'Cups': '1'},\n",
       " {'Player': 'Jeff Friesen', 'Cups': '1'},\n",
       " {'Player': 'Brian Gionta', 'Cups': '1'},\n",
       " {'Player': 'Jim McKenzie', 'Cups': '1'},\n",
       " {'Player': 'Pascal Rheaume', 'Cups': '1'},\n",
       " {'Player': 'Mike Rupp', 'Cups': '1'},\n",
       " {'Player': 'Richard Smehlik', 'Cups': '1'},\n",
       " {'Player': 'Turner Stevenson', 'Cups': '1'},\n",
       " {'Player': 'Dimitri Afanasenkov', 'Cups': '1'},\n",
       " {'Player': 'Dave Andreychuk', 'Cups': '1'},\n",
       " {'Player': 'Dan Boyle', 'Cups': '1'},\n",
       " {'Player': 'Martin Cibak', 'Cups': '1'},\n",
       " {'Player': 'Ben Clymer', 'Cups': '1'},\n",
       " {'Player': 'Jassen Cullimore', 'Cups': '1'},\n",
       " {'Player': 'Pavel Kubina', 'Cups': '1'},\n",
       " {'Player': 'Vincent Lecavalier', 'Cups': '1'},\n",
       " {'Player': 'Brad Lukowich', 'Cups': '1'},\n",
       " {'Player': 'Freddy Modin', 'Cups': '1'},\n",
       " {'Player': 'Stan Neckar', 'Cups': '1'},\n",
       " {'Player': 'Eric Perrin', 'Cups': '1'},\n",
       " {'Player': 'Andre Roy', 'Cups': '1'},\n",
       " {'Player': 'Darren Rumble', 'Cups': '1'},\n",
       " {'Player': 'Cory Sarich', 'Cups': '1'},\n",
       " {'Player': 'Martin St. Louis', 'Cups': '1'},\n",
       " {'Player': 'Kevyn Adams', 'Cups': '1'},\n",
       " {'Player': 'Anton Babchuk', 'Cups': '1'},\n",
       " {'Player': \"Rod Brind'Amour\", 'Cups': '1'},\n",
       " {'Player': 'Erik Cole', 'Cups': '1'},\n",
       " {'Player': 'Mike Commodore', 'Cups': '1'},\n",
       " {'Player': 'Bret Hedican', 'Cups': '1'},\n",
       " {'Player': 'Andrew Hutchinson', 'Cups': '1'},\n",
       " {'Player': 'Frantisek Kaberle', 'Cups': '1'},\n",
       " {'Player': 'Chad LaRose', 'Cups': '1'},\n",
       " {'Player': 'Eric Staal', 'Cups': '1'},\n",
       " {'Player': 'Josef Vasicek', 'Cups': '1'},\n",
       " {'Player': 'Niclas Wallin', 'Cups': '1'},\n",
       " {'Player': 'Doug Weight', 'Cups': '1'},\n",
       " {'Player': 'Glen Wesley', 'Cups': '1'},\n",
       " {'Player': 'Ray Whitney', 'Cups': '1'},\n",
       " {'Player': 'Francois Beauchemin', 'Cups': '1'},\n",
       " {'Player': 'Ryan Carter', 'Cups': '1'},\n",
       " {'Player': 'Joe DiPenta', 'Cups': '1'},\n",
       " {'Player': 'Ryan Getzlaf', 'Cups': '1'},\n",
       " {'Player': 'Kent Huskins', 'Cups': '1'},\n",
       " {'Player': 'Ric Jackman', 'Cups': '1'},\n",
       " {'Player': 'Todd Marchant', 'Cups': '1'},\n",
       " {'Player': 'Brad May', 'Cups': '1'},\n",
       " {'Player': 'Andy McDonald', 'Cups': '1'},\n",
       " {'Player': 'Drew Miller', 'Cups': '1'},\n",
       " {'Player': 'Travis Moen', 'Cups': '1'},\n",
       " {'Player': 'Joe Motzko', 'Cups': '1'},\n",
       " {'Player': 'Rob Niedermayer', 'Cups': '1'},\n",
       " {'Player': \"Sean O'Donnell\", 'Cups': '1'},\n",
       " {'Player': 'Samuel Pahlsson', 'Cups': '1'},\n",
       " {'Player': 'George Parros', 'Cups': '1'},\n",
       " {'Player': 'Corey Perry', 'Cups': '1'},\n",
       " {'Player': 'Chris Pronger', 'Cups': '1'},\n",
       " {'Player': 'Teemu Selanne', 'Cups': '1'},\n",
       " {'Player': 'Ryan Shannon', 'Cups': '1'},\n",
       " {'Player': 'Daniel Cleary', 'Cups': '1'},\n",
       " {'Player': 'Aaron Downey', 'Cups': '1'},\n",
       " {'Player': 'Dallas Drake', 'Cups': '1'},\n",
       " {'Player': 'Valtteri Filppula', 'Cups': '1'},\n",
       " {'Player': 'Johan Franzen', 'Cups': '1'},\n",
       " {'Player': 'Darren Helm', 'Cups': '1'},\n",
       " {'Player': 'Jiri Hudler', 'Cups': '1'},\n",
       " {'Player': 'Niklas Kronwall', 'Cups': '1'},\n",
       " {'Player': 'Brett Lebda', 'Cups': '1'},\n",
       " {'Player': 'Andreas Lilja', 'Cups': '1'},\n",
       " {'Player': 'Derek Meech', 'Cups': '1'},\n",
       " {'Player': 'Mikael Samuelsson', 'Cups': '1'},\n",
       " {'Player': 'Brad Stuart', 'Cups': '1'},\n",
       " {'Player': 'Henrik Zetterberg', 'Cups': '1'},\n",
       " {'Player': 'Philippe Boucher', 'Cups': '1'},\n",
       " {'Player': 'Matt Cooke', 'Cups': '1'},\n",
       " {'Player': 'Mark Eaton', 'Cups': '1'},\n",
       " {'Player': 'Hal Gill', 'Cups': '1'},\n",
       " {'Player': 'Eric Godard', 'Cups': '1'},\n",
       " {'Player': 'Alex Goligoski', 'Cups': '1'},\n",
       " {'Player': 'Sergei Gonchar', 'Cups': '1'},\n",
       " {'Player': 'Tyler Kennedy', 'Cups': '1'},\n",
       " {'Player': 'Miroslav Satan', 'Cups': '1'},\n",
       " {'Player': 'Jordan Staal', 'Cups': '1'},\n",
       " {'Player': 'Max Talbot', 'Cups': '1'},\n",
       " {'Player': 'Michael Zigomanis', 'Cups': '1'},\n",
       " {'Player': 'Nick Boynton', 'Cups': '1'},\n",
       " {'Player': 'Troy Brouwer', 'Cups': '1'},\n",
       " {'Player': 'Adam Burish', 'Cups': '1'},\n",
       " {'Player': 'Dustin Byfuglien', 'Cups': '1'},\n",
       " {'Player': 'Brian Campbell', 'Cups': '1'},\n",
       " {'Player': 'Ben Eager', 'Cups': '1'},\n",
       " {'Player': 'Jordan Hendry', 'Cups': '1'},\n",
       " {'Player': 'Brent Sopel', 'Cups': '1'},\n",
       " {'Player': 'Patrice Bergeron', 'Cups': '1'},\n",
       " {'Player': 'Johnny Boychuk', 'Cups': '1'},\n",
       " {'Player': 'Gregory Campbell', 'Cups': '1'},\n",
       " {'Player': 'Zdeno Chara', 'Cups': '1'},\n",
       " {'Player': 'Andrew Ference', 'Cups': '1'},\n",
       " {'Player': 'Nathan Horton', 'Cups': '1'},\n",
       " {'Player': 'Tomas Kaberle', 'Cups': '1'},\n",
       " {'Player': 'Chris Kelly', 'Cups': '1'},\n",
       " {'Player': 'David Krejci', 'Cups': '1'},\n",
       " {'Player': 'Milan Lucic', 'Cups': '1'},\n",
       " {'Player': 'Brad Marchand', 'Cups': '1'},\n",
       " {'Player': 'Adam McQuaid', 'Cups': '1'},\n",
       " {'Player': 'Daniel Paille', 'Cups': '1'},\n",
       " {'Player': 'Rich Peverley', 'Cups': '1'},\n",
       " {'Player': 'Michael Ryder', 'Cups': '1'},\n",
       " {'Player': 'Marc Savard', 'Cups': '1'},\n",
       " {'Player': 'Tyler Seguin', 'Cups': '1'},\n",
       " {'Player': 'Dennis Seidenberg', 'Cups': '1'},\n",
       " {'Player': 'Davis Drewiske', 'Cups': '1'},\n",
       " {'Player': 'Simon Gagne', 'Cups': '1'},\n",
       " {'Player': 'Brad Richardson', 'Cups': '1'},\n",
       " {'Player': 'Kevin Westgarth', 'Cups': '1'},\n",
       " {'Player': 'Brandon Bollig', 'Cups': '1'},\n",
       " {'Player': 'Sheldon Brookbank', 'Cups': '1'},\n",
       " {'Player': 'Michael Frolik', 'Cups': '1'},\n",
       " {'Player': 'Michal Handzus', 'Cups': '1'},\n",
       " {'Player': 'Nick Leddy', 'Cups': '1'},\n",
       " {'Player': 'Jamal Mayers', 'Cups': '1'},\n",
       " {'Player': 'Ben Smith', 'Cups': '1'},\n",
       " {'Player': 'Viktor Stalberg', 'Cups': '1'},\n",
       " {'Player': 'Marian Gaborik', 'Cups': '1'},\n",
       " {'Player': 'Jake Muzzin', 'Cups': '1'},\n",
       " {'Player': 'Tanner Pearson', 'Cups': '1'},\n",
       " {'Player': 'Robyn Regehr', 'Cups': '1'},\n",
       " {'Player': 'Jeff Schultz', 'Cups': '1'},\n",
       " {'Player': 'Tyler Toffoli', 'Cups': '1'},\n",
       " {'Player': 'Kyle Cumiskey', 'Cups': '1'},\n",
       " {'Player': 'Andrew Desjardins', 'Cups': '1'},\n",
       " {'Player': 'Joakim Nordstrom', 'Cups': '1'},\n",
       " {'Player': 'David Rundblad', 'Cups': '1'},\n",
       " {'Player': 'Teuvo Teravainen', 'Cups': '1'},\n",
       " {'Player': 'Kimmo Timonen', 'Cups': '1'},\n",
       " {'Player': 'Trevor van Riemsdyk', 'Cups': '1'},\n",
       " {'Player': 'Antoine Vermette', 'Cups': '1'},\n",
       " {'Player': 'Eric Fehr', 'Cups': '1'},\n",
       " {'Player': 'Ben Lovejoy', 'Cups': '1'},\n",
       " {'Player': 'Kevin Porter', 'Cups': '1'},\n",
       " {'Player': 'Josh Archibald', 'Cups': '1'},\n",
       " {'Player': 'Jake Guentzel', 'Cups': '1'},\n",
       " {'Player': 'Ron Hainsey', 'Cups': '1'},\n",
       " ...]"
      ]
     },
     "metadata": {},
     "execution_count": 45
    }
   ],
   "source": [
    "# Scrape the data for Stanley Cup wins from the url\n",
    "my_list = []\n",
    "\n",
    "for i in range(1, 23):\n",
    "#     print(i)\n",
    "\n",
    "    html = browser.html\n",
    "    soup = BeautifulSoup(html, 'html.parser')\n",
    "\n",
    "    rows = soup.find_all('div', class_='rt-tr-group')\n",
    "    for row in rows:\n",
    "        cells = row.find_all('div', class_='rt-td')\n",
    "\n",
    "        data = {\n",
    "            'Player':cells[1].text,\n",
    "            'Cups':cells[3].text\n",
    "        }\n",
    "\n",
    "        my_list.append(data)\n",
    "    if i < 22:\n",
    "        browser.find_by_text('Next').click()\n",
    "\n",
    "my_list"
   ]
  },
  {
   "cell_type": "code",
   "execution_count": 46,
   "metadata": {},
   "outputs": [
    {
     "output_type": "execute_result",
     "data": {
      "text/plain": [
       "            Player Cups\n",
       "0    Henri Richard   11\n",
       "1    Jean Beliveau   10\n",
       "2   Yvan Cournoyer   10\n",
       "3   Claude Provost    9\n",
       "4  Maurice Richard    8"
      ],
      "text/html": "<div>\n<style scoped>\n    .dataframe tbody tr th:only-of-type {\n        vertical-align: middle;\n    }\n\n    .dataframe tbody tr th {\n        vertical-align: top;\n    }\n\n    .dataframe thead th {\n        text-align: right;\n    }\n</style>\n<table border=\"1\" class=\"dataframe\">\n  <thead>\n    <tr style=\"text-align: right;\">\n      <th></th>\n      <th>Player</th>\n      <th>Cups</th>\n    </tr>\n  </thead>\n  <tbody>\n    <tr>\n      <th>0</th>\n      <td>Henri Richard</td>\n      <td>11</td>\n    </tr>\n    <tr>\n      <th>1</th>\n      <td>Jean Beliveau</td>\n      <td>10</td>\n    </tr>\n    <tr>\n      <th>2</th>\n      <td>Yvan Cournoyer</td>\n      <td>10</td>\n    </tr>\n    <tr>\n      <th>3</th>\n      <td>Claude Provost</td>\n      <td>9</td>\n    </tr>\n    <tr>\n      <th>4</th>\n      <td>Maurice Richard</td>\n      <td>8</td>\n    </tr>\n  </tbody>\n</table>\n</div>"
     },
     "metadata": {},
     "execution_count": 46
    }
   ],
   "source": [
    "# Convert the list to a dataframe\n",
    "stanley_cup_df = pd.DataFrame(my_list)\n",
    "stanley_cup_df.head()"
   ]
  },
  {
   "cell_type": "code",
   "execution_count": 47,
   "metadata": {},
   "outputs": [
    {
     "output_type": "execute_result",
     "data": {
      "text/plain": [
       "            Player Cups\n",
       "0    Henri Richard   11\n",
       "1    Jean Beliveau   10\n",
       "2   Yvan Cournoyer   10\n",
       "3   Claude Provost    9\n",
       "4  Maurice Richard    8"
      ],
      "text/html": "<div>\n<style scoped>\n    .dataframe tbody tr th:only-of-type {\n        vertical-align: middle;\n    }\n\n    .dataframe tbody tr th {\n        vertical-align: top;\n    }\n\n    .dataframe thead th {\n        text-align: right;\n    }\n</style>\n<table border=\"1\" class=\"dataframe\">\n  <thead>\n    <tr style=\"text-align: right;\">\n      <th></th>\n      <th>Player</th>\n      <th>Cups</th>\n    </tr>\n  </thead>\n  <tbody>\n    <tr>\n      <th>0</th>\n      <td>Henri Richard</td>\n      <td>11</td>\n    </tr>\n    <tr>\n      <th>1</th>\n      <td>Jean Beliveau</td>\n      <td>10</td>\n    </tr>\n    <tr>\n      <th>2</th>\n      <td>Yvan Cournoyer</td>\n      <td>10</td>\n    </tr>\n    <tr>\n      <th>3</th>\n      <td>Claude Provost</td>\n      <td>9</td>\n    </tr>\n    <tr>\n      <th>4</th>\n      <td>Maurice Richard</td>\n      <td>8</td>\n    </tr>\n  </tbody>\n</table>\n</div>"
     },
     "metadata": {},
     "execution_count": 47
    }
   ],
   "source": [
    "# Change names to match the master stats\n",
    "stanley_cup_df = stanley_cup_df.replace(\"Alex Ovechkin\", \"Alexander Ovechkin\")\n",
    "stanley_cup_df = stanley_cup_df.replace(\"Bernie Geoffrion\", \"Bernard Geoffrion\")\n",
    "stanley_cup_df = stanley_cup_df.replace(\"Evgeni Malkin\", \"Yevgeni Malkin\")\n",
    "stanley_cup_df = stanley_cup_df.replace(\"Johnny Quilty\", \"John Quilty\")\n",
    "stanley_cup_df = stanley_cup_df.replace(\"Ray Bourque\", \"Raymond Bourque\")\n",
    "stanley_cup_df = stanley_cup_df.replace(\"Sweeney Schriner\", \"David Schriner\")\n",
    "stanley_cup_df = stanley_cup_df.replace(\"Tommy Anderson\", \"Tom Anderson\")\n",
    "stanley_cup_df = stanley_cup_df.replace(\"Bob Sirois\", \"Robert Sirois\")\n",
    "stanley_cup_df = stanley_cup_df.replace(\"Bobby Nystrom\", \"Bob Nystrom\")\n",
    "stanley_cup_df = stanley_cup_df.replace(\"Bucky Hollingworth\", \"Gord Hollingworth\")\n",
    "stanley_cup_df = stanley_cup_df.replace(\"Daniel Girardi\", \"Dan Girardi\")\n",
    "stanley_cup_df = stanley_cup_df.replace(\"Dollard St. Laurent\", \"Dollard St-Laurent\")\n",
    "stanley_cup_df = stanley_cup_df.replace(\"Evgeny Kuznetsov\", \"Yevgeni Kuznetsov\")\n",
    "stanley_cup_df = stanley_cup_df.replace(\"Fern Flaman\", \"Fernie Flaman\")\n",
    "stanley_cup_df = stanley_cup_df.replace(\"George 'Hully' Gee\", \"George Gee\")\n",
    "stanley_cup_df = stanley_cup_df.replace(\"Hubert 'Pit' Martin\", \"Pit Martin\")\n",
    "stanley_cup_df = stanley_cup_df.replace(\"J.C. Tremblay\", \"Jean-Claude Tremblay\")\n",
    "stanley_cup_df = stanley_cup_df.replace(\"Jack Leclair\", \"Jackie LeClair\")\n",
    "stanley_cup_df = stanley_cup_df.replace(\"Joshua Bailey\", \"Josh Bailey\")\n",
    "stanley_cup_df = stanley_cup_df.replace(\"Kenny Mosdell\", \"Ken Mosdell\")\n",
    "stanley_cup_df = stanley_cup_df.replace(\"Kristopher Letang\", \"Kris Letang\")\n",
    "stanley_cup_df = stanley_cup_df.replace(\"Leonard 'Red' Kelly\", \"Red Kelly\")\n",
    "stanley_cup_df = stanley_cup_df.replace(\"Nicholas Boynton\", \"Nick Boynton\")\n",
    "stanley_cup_df = stanley_cup_df.replace(\"Nick Libett\", \"Lynn Libett\")\n",
    "stanley_cup_df = stanley_cup_df.replace(\"Oliver Ekman-Larsson\", \"Oliver Ekman Larsson\")\n",
    "stanley_cup_df = stanley_cup_df.replace(\"Quinton Hughes\", \"Quinn Hughes\")\n",
    "stanley_cup_df = stanley_cup_df.replace(\"Red Sullivan\", \"George Sullivan\")\n",
    "stanley_cup_df = stanley_cup_df.replace(\"Reg Fleming\", \"Reggie Fleming\")\n",
    "stanley_cup_df = stanley_cup_df.replace(\"Reg Sinclair\", \"Reggie Sinclair\")\n",
    "stanley_cup_df = stanley_cup_df.replace(\"Ron 'Chico' Maki\", \"Chico Maki\")\n",
    "stanley_cup_df = stanley_cup_df.replace(\"Sandis Ozolinsh\", \"Sandis Ozolins\")\n",
    "stanley_cup_df = stanley_cup_df.replace(\"Theoren Fleury\", \"Theo Fleury\")\n",
    "stanley_cup_df = stanley_cup_df.replace(\"Willie Huber\", \"William Huber\")\n",
    "stanley_cup_df = stanley_cup_df.replace(\"Zachary Werenski\", \"Zach Werenski\")\n",
    "stanley_cup_df = stanley_cup_df.replace(\"Al Langlois\", \"Albert Langlois\")\n",
    "stanley_cup_df = stanley_cup_df.replace(\"Al Shields\", \"Allan Shields\")\n",
    "stanley_cup_df = stanley_cup_df.replace(\"Alex Kovalev\", \"Alexei Kovalev\")\n",
    "stanley_cup_df = stanley_cup_df.replace(\"Aurel Joliat\", \"Aurele Joliat\")\n",
    "stanley_cup_df = stanley_cup_df.replace(\"Baldy Cotton\", \"Harold Cotton\")\n",
    "stanley_cup_df = stanley_cup_df.replace(\"Billy Boyd\", \"Bill Boyd\")\n",
    "stanley_cup_df = stanley_cup_df.replace(\"Billy Taylor Sr.\", \"Billy Taylor\")\n",
    "stanley_cup_df = stanley_cup_df.replace(\"Bingo Kampman\", \"Rudolph Kampman\")\n",
    "stanley_cup_df = stanley_cup_df.replace(\"Bob Fillion\", \"Robert Fillion\")\n",
    "stanley_cup_df = stanley_cup_df.replace(\"Bryan Hextall Sr.\", \"Bryan Hextall, Sr.\")\n",
    "stanley_cup_df = stanley_cup_df.replace(\"Butch Bouchard\", \"Emile Bouchard\")\n",
    "stanley_cup_df = stanley_cup_df.replace(\"Connie Broden\", \"Connell Broden\")\n",
    "stanley_cup_df = stanley_cup_df.replace(\"David Michayluk\", \"Dave Michayluk\")\n",
    "stanley_cup_df = stanley_cup_df.replace(\"Dimitri Afanasenkov\", \"Dmitri Afanasenkov\")\n",
    "stanley_cup_df = stanley_cup_df.replace(\"Dmitry Orlov\", \"Dmitri Orlov\")\n",
    "stanley_cup_df = stanley_cup_df.replace(\"Donnie Marshall\", \"Don Marshall\")\n",
    "stanley_cup_df = stanley_cup_df.replace(\"Dutch Gainor\", \"Norman Gainor\")\n",
    "stanley_cup_df = stanley_cup_df.replace(\"Dutch Hiller\", \"Wilbert Hiller\")\n",
    "stanley_cup_df = stanley_cup_df.replace(\"Dutch Reibel\", \"Earl Reibel\")\n",
    "stanley_cup_df = stanley_cup_df.replace(\"Ed Gorman\", \"Edwin Gorman\")\n",
    "stanley_cup_df = stanley_cup_df.replace(\"Eddie Olczyk\", \"Ed Olczyk\")\n",
    "stanley_cup_df = stanley_cup_df.replace(\"Fern Majeau\", \"Fernand Majeau\")\n",
    "stanley_cup_df = stanley_cup_df.replace(\"Frank Callighen\", \"Francis Callighen\")\n",
    "stanley_cup_df = stanley_cup_df.replace(\"Fred Cook\", \"Bun Cook\")\n",
    "stanley_cup_df = stanley_cup_df.replace(\"Freddy Modin\", \"Fredrik Modin\")\n",
    "stanley_cup_df = stanley_cup_df.replace(\"George Boucher\", \"Buck Boucher\")\n",
    "stanley_cup_df = stanley_cup_df.replace(\"Gord Pettinger\", \"Gordon Pettinger\")\n",
    "stanley_cup_df = stanley_cup_df.replace(\"Hobie Kitchen\", \"Chapman Kitchen\")\n",
    "stanley_cup_df = stanley_cup_df.replace(\"Ivan Barbashev\", \"Ivan Barbashyov\")\n",
    "stanley_cup_df = stanley_cup_df.replace(\"J.C. Tremblay\", \"Jean-Claude Tremblay\")\n",
    "stanley_cup_df = stanley_cup_df.replace(\"J.J. Daigneault\", \"Jean-Jacques Daigneault\")\n",
    "stanley_cup_df = stanley_cup_df.replace(\"Jimmy Peters\", \"Jim Peters\")\n",
    "stanley_cup_df = stanley_cup_df.replace(\"Johnny Sheppard\", \"John Sheppard\")\n",
    "stanley_cup_df = stanley_cup_df.replace(\"Lou Trudel\", \"Louis Trudel\")\n",
    "stanley_cup_df = stanley_cup_df.replace(\"Max Talbot\", \"Maxime Talbot\")\n",
    "stanley_cup_df = stanley_cup_df.replace(\"Michael Needham\", \"Mike Needham\")\n",
    "stanley_cup_df = stanley_cup_df.replace(\"Michael Zigomanis\", \"Mike Zigomanis\")\n",
    "stanley_cup_df = stanley_cup_df.replace(\"Mikhail Sergachev\", \"Mikhail Sergachyov\")\n",
    "stanley_cup_df = stanley_cup_df.replace(\"Moe Lemay\", \"Maurice Lemay\")\n",
    "stanley_cup_df = stanley_cup_df.replace(\"Moe Morris\", \"Elwyn Morris\")\n",
    "stanley_cup_df = stanley_cup_df.replace(\"Moose Vasko\", \"Elmer Vasko\")\n",
    "stanley_cup_df = stanley_cup_df.replace(\"Murph Chamberlain\", \"Erwin Chamberlain\")\n",
    "stanley_cup_df = stanley_cup_df.replace(\"Muzz Patrick\", \"Murray Patrick\")\n",
    "stanley_cup_df = stanley_cup_df.replace(\"Ott Heller\", \"Ehrhardt Heller\")\n",
    "stanley_cup_df = stanley_cup_df.replace(\"Paul Di Pietro\", \"Paul DiPietro\")\n",
    "stanley_cup_df = stanley_cup_df.replace(\"Peter Mahovlich\", \"Pete Mahovlich\")\n",
    "stanley_cup_df = stanley_cup_df.replace(\"Pit Lepine\", \"Alfred Lepine\")\n",
    "stanley_cup_df = stanley_cup_df.replace(\"Punch Broadbent\", \"Harry Broadbent\")\n",
    "stanley_cup_df = stanley_cup_df.replace(\"Sam Rothschild\", \"Samuel Rothschild\")\n",
    "stanley_cup_df = stanley_cup_df.replace(\"Sammy Blais\", \"Samuel Blais\")\n",
    "stanley_cup_df = stanley_cup_df.replace(\"Slava Voynov\", \"Vyacheslav Voynov\")\n",
    "stanley_cup_df = stanley_cup_df.replace(\"Stan Neckar\", \"Stanislav Neckar\")\n",
    "stanley_cup_df = stanley_cup_df.replace(\"Steve Reinprecht\", \"Steven Reinprecht\")\n",
    "stanley_cup_df = stanley_cup_df.replace(\"Viacheslav Fetisov\", \"Vyacheslav Fetisov\")\n",
    "stanley_cup_df.head()"
   ]
  },
  {
   "cell_type": "code",
   "execution_count": 48,
   "metadata": {},
   "outputs": [
    {
     "output_type": "execute_result",
     "data": {
      "text/plain": [
       "               Player  Art Ross Awards  Conn Smythe Awards  Hart Awards  \\\n",
       "0  Alexander Ovechkin              1.0                 1.0          3.0   \n",
       "1           Bobby Orr              2.0                 2.0          3.0   \n",
       "2      Bryan Trottier              1.0                 1.0          1.0   \n",
       "3      Connor McDavid              2.0                 0.0          1.0   \n",
       "4        Daniel Sedin              1.0                 0.0          0.0   \n",
       "\n",
       "   Calder Awards  James Norris Awards  Ted Lindsay Awards  \\\n",
       "0            1.0                  0.0                 3.0   \n",
       "1            1.0                  8.0                 1.0   \n",
       "2            1.0                  0.0                 0.0   \n",
       "3            0.0                  0.0                 2.0   \n",
       "4            0.0                  0.0                 1.0   \n",
       "\n",
       "   Maurice Richard Awards Cups  \n",
       "0                     9.0    1  \n",
       "1                     0.0    2  \n",
       "2                     0.0    6  \n",
       "3                     0.0  NaN  \n",
       "4                     0.0  NaN  "
      ],
      "text/html": "<div>\n<style scoped>\n    .dataframe tbody tr th:only-of-type {\n        vertical-align: middle;\n    }\n\n    .dataframe tbody tr th {\n        vertical-align: top;\n    }\n\n    .dataframe thead th {\n        text-align: right;\n    }\n</style>\n<table border=\"1\" class=\"dataframe\">\n  <thead>\n    <tr style=\"text-align: right;\">\n      <th></th>\n      <th>Player</th>\n      <th>Art Ross Awards</th>\n      <th>Conn Smythe Awards</th>\n      <th>Hart Awards</th>\n      <th>Calder Awards</th>\n      <th>James Norris Awards</th>\n      <th>Ted Lindsay Awards</th>\n      <th>Maurice Richard Awards</th>\n      <th>Cups</th>\n    </tr>\n  </thead>\n  <tbody>\n    <tr>\n      <th>0</th>\n      <td>Alexander Ovechkin</td>\n      <td>1.0</td>\n      <td>1.0</td>\n      <td>3.0</td>\n      <td>1.0</td>\n      <td>0.0</td>\n      <td>3.0</td>\n      <td>9.0</td>\n      <td>1</td>\n    </tr>\n    <tr>\n      <th>1</th>\n      <td>Bobby Orr</td>\n      <td>2.0</td>\n      <td>2.0</td>\n      <td>3.0</td>\n      <td>1.0</td>\n      <td>8.0</td>\n      <td>1.0</td>\n      <td>0.0</td>\n      <td>2</td>\n    </tr>\n    <tr>\n      <th>2</th>\n      <td>Bryan Trottier</td>\n      <td>1.0</td>\n      <td>1.0</td>\n      <td>1.0</td>\n      <td>1.0</td>\n      <td>0.0</td>\n      <td>0.0</td>\n      <td>0.0</td>\n      <td>6</td>\n    </tr>\n    <tr>\n      <th>3</th>\n      <td>Connor McDavid</td>\n      <td>2.0</td>\n      <td>0.0</td>\n      <td>1.0</td>\n      <td>0.0</td>\n      <td>0.0</td>\n      <td>2.0</td>\n      <td>0.0</td>\n      <td>NaN</td>\n    </tr>\n    <tr>\n      <th>4</th>\n      <td>Daniel Sedin</td>\n      <td>1.0</td>\n      <td>0.0</td>\n      <td>0.0</td>\n      <td>0.0</td>\n      <td>0.0</td>\n      <td>1.0</td>\n      <td>0.0</td>\n      <td>NaN</td>\n    </tr>\n  </tbody>\n</table>\n</div>"
     },
     "metadata": {},
     "execution_count": 48
    }
   ],
   "source": [
    "# Merge the individual award files into one complete file\n",
    "awards_merge_df = pd.merge(awards_merge_df,\n",
    "                 stanley_cup_df[['Player', 'Cups']],\n",
    "                 on='Player', how='outer')\n",
    "awards_merge_df.head()"
   ]
  },
  {
   "cell_type": "code",
   "execution_count": 49,
   "metadata": {},
   "outputs": [
    {
     "output_type": "execute_result",
     "data": {
      "text/plain": [
       "Player                     object\n",
       "Art Ross Awards           float64\n",
       "Conn Smythe Awards        float64\n",
       "Hart Awards               float64\n",
       "Calder Awards             float64\n",
       "James Norris Awards       float64\n",
       "Ted Lindsay Awards        float64\n",
       "Maurice Richard Awards    float64\n",
       "Cups                       object\n",
       "dtype: object"
      ]
     },
     "metadata": {},
     "execution_count": 49
    }
   ],
   "source": [
    "awards_merge_df.dtypes"
   ]
  },
  {
   "cell_type": "code",
   "execution_count": 50,
   "metadata": {},
   "outputs": [
    {
     "output_type": "execute_result",
     "data": {
      "text/plain": [
       "               Player  Art Ross Awards  Conn Smythe Awards  Hart Awards  \\\n",
       "0  Alexander Ovechkin                1                   1            3   \n",
       "1           Bobby Orr                2                   2            3   \n",
       "2      Bryan Trottier                1                   1            1   \n",
       "3      Connor McDavid                2                   0            1   \n",
       "4        Daniel Sedin                1                   0            0   \n",
       "\n",
       "   Calder Awards  James Norris Awards  Ted Lindsay Awards  \\\n",
       "0              1                    0                   3   \n",
       "1              1                    8                   1   \n",
       "2              1                    0                   0   \n",
       "3              0                    0                   2   \n",
       "4              0                    0                   1   \n",
       "\n",
       "   Maurice Richard Awards  Cups  \n",
       "0                       9     1  \n",
       "1                       0     2  \n",
       "2                       0     6  \n",
       "3                       0     0  \n",
       "4                       0     0  "
      ],
      "text/html": "<div>\n<style scoped>\n    .dataframe tbody tr th:only-of-type {\n        vertical-align: middle;\n    }\n\n    .dataframe tbody tr th {\n        vertical-align: top;\n    }\n\n    .dataframe thead th {\n        text-align: right;\n    }\n</style>\n<table border=\"1\" class=\"dataframe\">\n  <thead>\n    <tr style=\"text-align: right;\">\n      <th></th>\n      <th>Player</th>\n      <th>Art Ross Awards</th>\n      <th>Conn Smythe Awards</th>\n      <th>Hart Awards</th>\n      <th>Calder Awards</th>\n      <th>James Norris Awards</th>\n      <th>Ted Lindsay Awards</th>\n      <th>Maurice Richard Awards</th>\n      <th>Cups</th>\n    </tr>\n  </thead>\n  <tbody>\n    <tr>\n      <th>0</th>\n      <td>Alexander Ovechkin</td>\n      <td>1</td>\n      <td>1</td>\n      <td>3</td>\n      <td>1</td>\n      <td>0</td>\n      <td>3</td>\n      <td>9</td>\n      <td>1</td>\n    </tr>\n    <tr>\n      <th>1</th>\n      <td>Bobby Orr</td>\n      <td>2</td>\n      <td>2</td>\n      <td>3</td>\n      <td>1</td>\n      <td>8</td>\n      <td>1</td>\n      <td>0</td>\n      <td>2</td>\n    </tr>\n    <tr>\n      <th>2</th>\n      <td>Bryan Trottier</td>\n      <td>1</td>\n      <td>1</td>\n      <td>1</td>\n      <td>1</td>\n      <td>0</td>\n      <td>0</td>\n      <td>0</td>\n      <td>6</td>\n    </tr>\n    <tr>\n      <th>3</th>\n      <td>Connor McDavid</td>\n      <td>2</td>\n      <td>0</td>\n      <td>1</td>\n      <td>0</td>\n      <td>0</td>\n      <td>2</td>\n      <td>0</td>\n      <td>0</td>\n    </tr>\n    <tr>\n      <th>4</th>\n      <td>Daniel Sedin</td>\n      <td>1</td>\n      <td>0</td>\n      <td>0</td>\n      <td>0</td>\n      <td>0</td>\n      <td>1</td>\n      <td>0</td>\n      <td>0</td>\n    </tr>\n  </tbody>\n</table>\n</div>"
     },
     "metadata": {},
     "execution_count": 50
    }
   ],
   "source": [
    "awards_merge_df = awards_merge_df.fillna(0)\n",
    "awards_merge_df = awards_merge_df.astype({\"Art Ross Awards\":'int', \"Conn Smythe Awards\":'int', \"James Norris Awards\":'int',\n",
    "                    \"Maurice Richard Awards\":'int', \"Calder Awards\":'int', \"Hart Awards\":'int', \"Ted Lindsay Awards\":\"int\",\n",
    "                    'Cups':'int'}) \n",
    "awards_merge_df.head() "
   ]
  },
  {
   "cell_type": "code",
   "execution_count": 51,
   "metadata": {},
   "outputs": [
    {
     "output_type": "execute_result",
     "data": {
      "text/plain": [
       "Player                    object\n",
       "Art Ross Awards            int32\n",
       "Conn Smythe Awards         int32\n",
       "Hart Awards                int32\n",
       "Calder Awards              int32\n",
       "James Norris Awards        int32\n",
       "Ted Lindsay Awards         int32\n",
       "Maurice Richard Awards     int32\n",
       "Cups                       int32\n",
       "dtype: object"
      ]
     },
     "metadata": {},
     "execution_count": 51
    }
   ],
   "source": [
    "awards_merge_df.dtypes"
   ]
  },
  {
   "cell_type": "code",
   "execution_count": null,
   "metadata": {},
   "outputs": [],
   "source": []
  },
  {
   "cell_type": "code",
   "execution_count": null,
   "metadata": {},
   "outputs": [],
   "source": [
    "awards_merge_df.to_csv(\"Output/merged_awards.csv\", index=False, header=True)"
   ]
  }
 ]
}