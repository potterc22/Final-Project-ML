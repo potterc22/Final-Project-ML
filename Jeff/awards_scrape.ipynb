{
 "metadata": {
  "language_info": {
   "codemirror_mode": {
    "name": "ipython",
    "version": 3
   },
   "file_extension": ".py",
   "mimetype": "text/x-python",
   "name": "python",
   "nbconvert_exporter": "python",
   "pygments_lexer": "ipython3",
   "version": "3.6.10-final"
  },
  "orig_nbformat": 2,
  "kernelspec": {
   "name": "python361064bitbcsconda9956bb7450484f49881ea0c9e482447b",
   "display_name": "Python 3.6.10 64-bit ('bcs': conda)",
   "language": "python"
  }
 },
 "nbformat": 4,
 "nbformat_minor": 2,
 "cells": [
  {
   "source": [
    "Create the file that will show player award, stanley cup wins, and all-star game appearances."
   ],
   "cell_type": "markdown",
   "metadata": {}
  },
  {
   "cell_type": "code",
   "execution_count": 8,
   "metadata": {},
   "outputs": [],
   "source": [
    "import pandas as pd\n",
    "from splinter import Browser\n",
    "from bs4 import BeautifulSoup\n",
    "import time\n",
    "import requests"
   ]
  },
  {
   "source": [
    "NHL Art Ross Trophy Winners,\n",
    "Award presented to League's scoring champion\n"
   ],
   "cell_type": "markdown",
   "metadata": {}
  },
  {
   "cell_type": "code",
   "execution_count": 9,
   "metadata": {},
   "outputs": [
    {
     "output_type": "execute_result",
     "data": {
      "text/plain": [
       "   Year           Player                 Team     Award\n",
       "0  2020   Leon Draisaitl      Edmonton Oilers  Art Ross\n",
       "1  2019  Nikita Kucherov  Tampa Bay Lightning  Art Ross\n",
       "2  2018   Connor McDavid      Edmonton Oilers  Art Ross\n",
       "3  2017   Connor McDavid      Edmonton Oilers  Art Ross\n",
       "4  2016     Patrick Kane   Chicago Blackhawks  Art Ross"
      ],
      "text/html": "<div>\n<style scoped>\n    .dataframe tbody tr th:only-of-type {\n        vertical-align: middle;\n    }\n\n    .dataframe tbody tr th {\n        vertical-align: top;\n    }\n\n    .dataframe thead th {\n        text-align: right;\n    }\n</style>\n<table border=\"1\" class=\"dataframe\">\n  <thead>\n    <tr style=\"text-align: right;\">\n      <th></th>\n      <th>Year</th>\n      <th>Player</th>\n      <th>Team</th>\n      <th>Award</th>\n    </tr>\n  </thead>\n  <tbody>\n    <tr>\n      <th>0</th>\n      <td>2020</td>\n      <td>Leon Draisaitl</td>\n      <td>Edmonton Oilers</td>\n      <td>Art Ross</td>\n    </tr>\n    <tr>\n      <th>1</th>\n      <td>2019</td>\n      <td>Nikita Kucherov</td>\n      <td>Tampa Bay Lightning</td>\n      <td>Art Ross</td>\n    </tr>\n    <tr>\n      <th>2</th>\n      <td>2018</td>\n      <td>Connor McDavid</td>\n      <td>Edmonton Oilers</td>\n      <td>Art Ross</td>\n    </tr>\n    <tr>\n      <th>3</th>\n      <td>2017</td>\n      <td>Connor McDavid</td>\n      <td>Edmonton Oilers</td>\n      <td>Art Ross</td>\n    </tr>\n    <tr>\n      <th>4</th>\n      <td>2016</td>\n      <td>Patrick Kane</td>\n      <td>Chicago Blackhawks</td>\n      <td>Art Ross</td>\n    </tr>\n  </tbody>\n</table>\n</div>"
     },
     "metadata": {},
     "execution_count": 9
    }
   ],
   "source": [
    "# Scrape the data for the Art Ross Award, Scoring Champion\n",
    "url = f'https://www.nhl.com/news/nhl-art-ross-trophy-winners-complete-list/c-287899824?tid=287709666'\n",
    "\n",
    "# Retrieve page with the requests module\n",
    "html = requests.get(url).text\n",
    "\n",
    "# Create BeautifulSoup object; parse with 'html.parser'\n",
    "soup = BeautifulSoup(html, 'html.parser')\n",
    "\n",
    "# results are returned as a list\n",
    "body = soup.find('div', class_='article-item__body')\n",
    "\n",
    "results = body.find_all('li')\n",
    "\n",
    "winners = []\n",
    "for result in results:\n",
    "    # Error handling\n",
    "    try:\n",
    "        #print(result)\n",
    "        row = result.text\n",
    "        #print(f'row: {row}')\n",
    "        words = row.split(':')\n",
    "        more_words = words[1].split(',')\n",
    "\n",
    "        winner = [words[0], more_words[0].strip(), more_words[1].strip(), 'Art Ross']\n",
    "        #print(winner)\n",
    "        winners.append(winner)\n",
    "\n",
    "    except AttributeError as error:\n",
    "        print(error)\n",
    "\n",
    "# convert list of lists into DataFrame\n",
    "art_ross_df = pd.DataFrame(winners, columns = ['Year', 'Player', 'Team', 'Award'])\n",
    "# convert year column to int for filtering purposes\n",
    "art_ross_df['Year'] = art_ross_df['Year'].astype(int)\n",
    "# filter dataframe \n",
    "# art_ross_df = art_ross_df.loc[art_ross_df['Year'] >= 1967,:]\n",
    "art_ross_df.head()"
   ]
  },
  {
   "cell_type": "code",
   "execution_count": 10,
   "metadata": {},
   "outputs": [
    {
     "output_type": "execute_result",
     "data": {
      "text/plain": [
       "             Player  Year  Team  Award\n",
       "0        Ace Bailey     1     1      1\n",
       "1     Alex Ovechkin     1     1      1\n",
       "2          Babe Dye     2     2      2\n",
       "3  Bernie Geoffrion     2     2      2\n",
       "4         Bill Cook     2     2      2"
      ],
      "text/html": "<div>\n<style scoped>\n    .dataframe tbody tr th:only-of-type {\n        vertical-align: middle;\n    }\n\n    .dataframe tbody tr th {\n        vertical-align: top;\n    }\n\n    .dataframe thead th {\n        text-align: right;\n    }\n</style>\n<table border=\"1\" class=\"dataframe\">\n  <thead>\n    <tr style=\"text-align: right;\">\n      <th></th>\n      <th>Player</th>\n      <th>Year</th>\n      <th>Team</th>\n      <th>Award</th>\n    </tr>\n  </thead>\n  <tbody>\n    <tr>\n      <th>0</th>\n      <td>Ace Bailey</td>\n      <td>1</td>\n      <td>1</td>\n      <td>1</td>\n    </tr>\n    <tr>\n      <th>1</th>\n      <td>Alex Ovechkin</td>\n      <td>1</td>\n      <td>1</td>\n      <td>1</td>\n    </tr>\n    <tr>\n      <th>2</th>\n      <td>Babe Dye</td>\n      <td>2</td>\n      <td>2</td>\n      <td>2</td>\n    </tr>\n    <tr>\n      <th>3</th>\n      <td>Bernie Geoffrion</td>\n      <td>2</td>\n      <td>2</td>\n      <td>2</td>\n    </tr>\n    <tr>\n      <th>4</th>\n      <td>Bill Cook</td>\n      <td>2</td>\n      <td>2</td>\n      <td>2</td>\n    </tr>\n  </tbody>\n</table>\n</div>"
     },
     "metadata": {},
     "execution_count": 10
    }
   ],
   "source": [
    "# Group the data by the player's name column and count\n",
    "art_ross_grp_df = art_ross_df.groupby(by=\"Player\", as_index=False).count()\n",
    "art_ross_grp_df.head()"
   ]
  },
  {
   "cell_type": "code",
   "execution_count": 11,
   "metadata": {},
   "outputs": [
    {
     "output_type": "execute_result",
     "data": {
      "text/plain": [
       "             Player  Year\n",
       "0        Ace Bailey     1\n",
       "1     Alex Ovechkin     1\n",
       "2          Babe Dye     2\n",
       "3  Bernie Geoffrion     2\n",
       "4         Bill Cook     2"
      ],
      "text/html": "<div>\n<style scoped>\n    .dataframe tbody tr th:only-of-type {\n        vertical-align: middle;\n    }\n\n    .dataframe tbody tr th {\n        vertical-align: top;\n    }\n\n    .dataframe thead th {\n        text-align: right;\n    }\n</style>\n<table border=\"1\" class=\"dataframe\">\n  <thead>\n    <tr style=\"text-align: right;\">\n      <th></th>\n      <th>Player</th>\n      <th>Year</th>\n    </tr>\n  </thead>\n  <tbody>\n    <tr>\n      <th>0</th>\n      <td>Ace Bailey</td>\n      <td>1</td>\n    </tr>\n    <tr>\n      <th>1</th>\n      <td>Alex Ovechkin</td>\n      <td>1</td>\n    </tr>\n    <tr>\n      <th>2</th>\n      <td>Babe Dye</td>\n      <td>2</td>\n    </tr>\n    <tr>\n      <th>3</th>\n      <td>Bernie Geoffrion</td>\n      <td>2</td>\n    </tr>\n    <tr>\n      <th>4</th>\n      <td>Bill Cook</td>\n      <td>2</td>\n    </tr>\n  </tbody>\n</table>\n</div>"
     },
     "metadata": {},
     "execution_count": 11
    }
   ],
   "source": [
    "# Drop columns that are not needed\n",
    "art_ross_grp_df = art_ross_grp_df.drop(['Team', 'Award'], axis=1)\n",
    "art_ross_grp_df.head()"
   ]
  },
  {
   "cell_type": "code",
   "execution_count": 12,
   "metadata": {},
   "outputs": [
    {
     "output_type": "execute_result",
     "data": {
      "text/plain": [
       "             Player  Art Ross Awards\n",
       "0        Ace Bailey                1\n",
       "1     Alex Ovechkin                1\n",
       "2          Babe Dye                2\n",
       "3  Bernie Geoffrion                2\n",
       "4         Bill Cook                2"
      ],
      "text/html": "<div>\n<style scoped>\n    .dataframe tbody tr th:only-of-type {\n        vertical-align: middle;\n    }\n\n    .dataframe tbody tr th {\n        vertical-align: top;\n    }\n\n    .dataframe thead th {\n        text-align: right;\n    }\n</style>\n<table border=\"1\" class=\"dataframe\">\n  <thead>\n    <tr style=\"text-align: right;\">\n      <th></th>\n      <th>Player</th>\n      <th>Art Ross Awards</th>\n    </tr>\n  </thead>\n  <tbody>\n    <tr>\n      <th>0</th>\n      <td>Ace Bailey</td>\n      <td>1</td>\n    </tr>\n    <tr>\n      <th>1</th>\n      <td>Alex Ovechkin</td>\n      <td>1</td>\n    </tr>\n    <tr>\n      <th>2</th>\n      <td>Babe Dye</td>\n      <td>2</td>\n    </tr>\n    <tr>\n      <th>3</th>\n      <td>Bernie Geoffrion</td>\n      <td>2</td>\n    </tr>\n    <tr>\n      <th>4</th>\n      <td>Bill Cook</td>\n      <td>2</td>\n    </tr>\n  </tbody>\n</table>\n</div>"
     },
     "metadata": {},
     "execution_count": 12
    }
   ],
   "source": [
    "# Rename the year column to the award name\n",
    "art_ross_grp_df = art_ross_grp_df.rename(columns={\"Year\": \"Art Ross Awards\"})\n",
    "art_ross_grp_df.head()"
   ]
  },
  {
   "cell_type": "code",
   "execution_count": 13,
   "metadata": {},
   "outputs": [
    {
     "output_type": "execute_result",
     "data": {
      "text/plain": [
       "             Player  Art Ross Awards\n",
       "0        Ace Bailey                1\n",
       "1     Alex Ovechkin                1\n",
       "2          Babe Dye                2\n",
       "3  Bernie Geoffrion                2\n",
       "4         Bill Cook                2"
      ],
      "text/html": "<div>\n<style scoped>\n    .dataframe tbody tr th:only-of-type {\n        vertical-align: middle;\n    }\n\n    .dataframe tbody tr th {\n        vertical-align: top;\n    }\n\n    .dataframe thead th {\n        text-align: right;\n    }\n</style>\n<table border=\"1\" class=\"dataframe\">\n  <thead>\n    <tr style=\"text-align: right;\">\n      <th></th>\n      <th>Player</th>\n      <th>Art Ross Awards</th>\n    </tr>\n  </thead>\n  <tbody>\n    <tr>\n      <th>0</th>\n      <td>Ace Bailey</td>\n      <td>1</td>\n    </tr>\n    <tr>\n      <th>1</th>\n      <td>Alex Ovechkin</td>\n      <td>1</td>\n    </tr>\n    <tr>\n      <th>2</th>\n      <td>Babe Dye</td>\n      <td>2</td>\n    </tr>\n    <tr>\n      <th>3</th>\n      <td>Bernie Geoffrion</td>\n      <td>2</td>\n    </tr>\n    <tr>\n      <th>4</th>\n      <td>Bill Cook</td>\n      <td>2</td>\n    </tr>\n  </tbody>\n</table>\n</div>"
     },
     "metadata": {},
     "execution_count": 13
    }
   ],
   "source": [
    "# Change names to match the master stats\n",
    "art_ross_df.replace(\"Bryan Hextall\", \"Bryan Hextall, Sr.\")\n",
    "art_ross_grp_df.head()\n"
   ]
  },
  {
   "source": [
    "NHL Hart Memorial Trophy Winners, Award presente to the regular season MVP."
   ],
   "cell_type": "markdown",
   "metadata": {}
  },
  {
   "cell_type": "code",
   "execution_count": 14,
   "metadata": {},
   "outputs": [
    {
     "output_type": "execute_result",
     "data": {
      "text/plain": [
       "   Year           Player                 Team          Award\n",
       "0  2020   Leon Draisaitl      Edmonton Oilers  Hart Memorial\n",
       "1  2019  Nikita Kucherov  Tampa Bay Lightning  Hart Memorial\n",
       "2  2018      Taylor Hall    New Jersey Devils  Hart Memorial\n",
       "3  2017   Connor McDavid      Edmonton Oilers  Hart Memorial\n",
       "4  2016     Patrick Kane   Chicago Blackhawks  Hart Memorial"
      ],
      "text/html": "<div>\n<style scoped>\n    .dataframe tbody tr th:only-of-type {\n        vertical-align: middle;\n    }\n\n    .dataframe tbody tr th {\n        vertical-align: top;\n    }\n\n    .dataframe thead th {\n        text-align: right;\n    }\n</style>\n<table border=\"1\" class=\"dataframe\">\n  <thead>\n    <tr style=\"text-align: right;\">\n      <th></th>\n      <th>Year</th>\n      <th>Player</th>\n      <th>Team</th>\n      <th>Award</th>\n    </tr>\n  </thead>\n  <tbody>\n    <tr>\n      <th>0</th>\n      <td>2020</td>\n      <td>Leon Draisaitl</td>\n      <td>Edmonton Oilers</td>\n      <td>Hart Memorial</td>\n    </tr>\n    <tr>\n      <th>1</th>\n      <td>2019</td>\n      <td>Nikita Kucherov</td>\n      <td>Tampa Bay Lightning</td>\n      <td>Hart Memorial</td>\n    </tr>\n    <tr>\n      <th>2</th>\n      <td>2018</td>\n      <td>Taylor Hall</td>\n      <td>New Jersey Devils</td>\n      <td>Hart Memorial</td>\n    </tr>\n    <tr>\n      <th>3</th>\n      <td>2017</td>\n      <td>Connor McDavid</td>\n      <td>Edmonton Oilers</td>\n      <td>Hart Memorial</td>\n    </tr>\n    <tr>\n      <th>4</th>\n      <td>2016</td>\n      <td>Patrick Kane</td>\n      <td>Chicago Blackhawks</td>\n      <td>Hart Memorial</td>\n    </tr>\n  </tbody>\n</table>\n</div>"
     },
     "metadata": {},
     "execution_count": 14
    }
   ],
   "source": [
    "# Scrape the data for the Hart Memorial Award, League MVP\n",
    "url = f'https://www.nhl.com/news/nhl-hart-memorial-trophy-winners-complete-list/c-287743272?tid=287709666'\n",
    "\n",
    "# Retrieve page with the requests module\n",
    "html = requests.get(url).text\n",
    "\n",
    "# Create BeautifulSoup object; parse with 'html.parser'\n",
    "soup = BeautifulSoup(html, 'html.parser')\n",
    "\n",
    "# results are returned as a list\n",
    "body = soup.find('div', class_='article-item__body')\n",
    "\n",
    "results = body.find_all('li')\n",
    "\n",
    "winners = []\n",
    "for result in results:\n",
    "    # Error handling\n",
    "    try:\n",
    "        #print(result)\n",
    "        row = result.text\n",
    "        #print(f'row: {row}')\n",
    "        words = row.split(':')\n",
    "        more_words = words[1].split(',')\n",
    "\n",
    "        winner = [words[0], more_words[0].strip(), more_words[1].strip(), 'Hart Memorial']\n",
    "        #print(winner)\n",
    "        winners.append(winner)\n",
    "\n",
    "    except AttributeError as error:\n",
    "        print(error)\n",
    "\n",
    "# convert list of lists into DataFrame\n",
    "hart_memorial_df = pd.DataFrame(winners, columns = ['Year', 'Player', 'Team', 'Award'])\n",
    "# convert year column to int for filtering purposes\n",
    "hart_memorial_df['Year'] = hart_memorial_df['Year'].astype(int)\n",
    "# filter dataframe \n",
    "# hart_memorial_df = hart_memorial_df.loc[hart_memorial_df['Year'] >= 1967,:]\n",
    "hart_memorial_df.head()"
   ]
  },
  {
   "cell_type": "code",
   "execution_count": 15,
   "metadata": {},
   "outputs": [
    {
     "output_type": "execute_result",
     "data": {
      "text/plain": [
       "          Player  Year  Team  Award\n",
       "0     Al Rollins     1     1      1\n",
       "1  Alex Ovechkin     3     3      3\n",
       "2  Andy Bathgate     1     1      1\n",
       "3  Aurele Joliat     1     1      1\n",
       "4     Babe Pratt     1     1      1"
      ],
      "text/html": "<div>\n<style scoped>\n    .dataframe tbody tr th:only-of-type {\n        vertical-align: middle;\n    }\n\n    .dataframe tbody tr th {\n        vertical-align: top;\n    }\n\n    .dataframe thead th {\n        text-align: right;\n    }\n</style>\n<table border=\"1\" class=\"dataframe\">\n  <thead>\n    <tr style=\"text-align: right;\">\n      <th></th>\n      <th>Player</th>\n      <th>Year</th>\n      <th>Team</th>\n      <th>Award</th>\n    </tr>\n  </thead>\n  <tbody>\n    <tr>\n      <th>0</th>\n      <td>Al Rollins</td>\n      <td>1</td>\n      <td>1</td>\n      <td>1</td>\n    </tr>\n    <tr>\n      <th>1</th>\n      <td>Alex Ovechkin</td>\n      <td>3</td>\n      <td>3</td>\n      <td>3</td>\n    </tr>\n    <tr>\n      <th>2</th>\n      <td>Andy Bathgate</td>\n      <td>1</td>\n      <td>1</td>\n      <td>1</td>\n    </tr>\n    <tr>\n      <th>3</th>\n      <td>Aurele Joliat</td>\n      <td>1</td>\n      <td>1</td>\n      <td>1</td>\n    </tr>\n    <tr>\n      <th>4</th>\n      <td>Babe Pratt</td>\n      <td>1</td>\n      <td>1</td>\n      <td>1</td>\n    </tr>\n  </tbody>\n</table>\n</div>"
     },
     "metadata": {},
     "execution_count": 15
    }
   ],
   "source": [
    "# Group the data by the player's name column and count\n",
    "hart_grp_df = hart_memorial_df.groupby(by=\"Player\", as_index=False).count()\n",
    "hart_grp_df.head()"
   ]
  },
  {
   "cell_type": "code",
   "execution_count": 16,
   "metadata": {},
   "outputs": [
    {
     "output_type": "execute_result",
     "data": {
      "text/plain": [
       "          Player  Year\n",
       "0     Al Rollins     1\n",
       "1  Alex Ovechkin     3\n",
       "2  Andy Bathgate     1\n",
       "3  Aurele Joliat     1\n",
       "4     Babe Pratt     1"
      ],
      "text/html": "<div>\n<style scoped>\n    .dataframe tbody tr th:only-of-type {\n        vertical-align: middle;\n    }\n\n    .dataframe tbody tr th {\n        vertical-align: top;\n    }\n\n    .dataframe thead th {\n        text-align: right;\n    }\n</style>\n<table border=\"1\" class=\"dataframe\">\n  <thead>\n    <tr style=\"text-align: right;\">\n      <th></th>\n      <th>Player</th>\n      <th>Year</th>\n    </tr>\n  </thead>\n  <tbody>\n    <tr>\n      <th>0</th>\n      <td>Al Rollins</td>\n      <td>1</td>\n    </tr>\n    <tr>\n      <th>1</th>\n      <td>Alex Ovechkin</td>\n      <td>3</td>\n    </tr>\n    <tr>\n      <th>2</th>\n      <td>Andy Bathgate</td>\n      <td>1</td>\n    </tr>\n    <tr>\n      <th>3</th>\n      <td>Aurele Joliat</td>\n      <td>1</td>\n    </tr>\n    <tr>\n      <th>4</th>\n      <td>Babe Pratt</td>\n      <td>1</td>\n    </tr>\n  </tbody>\n</table>\n</div>"
     },
     "metadata": {},
     "execution_count": 16
    }
   ],
   "source": [
    "# Drop columns that are not needed\n",
    "hart_grp_df = hart_grp_df.drop(['Team', 'Award'], axis=1)\n",
    "hart_grp_df.head()"
   ]
  },
  {
   "cell_type": "code",
   "execution_count": 17,
   "metadata": {},
   "outputs": [
    {
     "output_type": "execute_result",
     "data": {
      "text/plain": [
       "          Player  Hart Awards\n",
       "0     Al Rollins            1\n",
       "1  Alex Ovechkin            3\n",
       "2  Andy Bathgate            1\n",
       "3  Aurele Joliat            1\n",
       "4     Babe Pratt            1"
      ],
      "text/html": "<div>\n<style scoped>\n    .dataframe tbody tr th:only-of-type {\n        vertical-align: middle;\n    }\n\n    .dataframe tbody tr th {\n        vertical-align: top;\n    }\n\n    .dataframe thead th {\n        text-align: right;\n    }\n</style>\n<table border=\"1\" class=\"dataframe\">\n  <thead>\n    <tr style=\"text-align: right;\">\n      <th></th>\n      <th>Player</th>\n      <th>Hart Awards</th>\n    </tr>\n  </thead>\n  <tbody>\n    <tr>\n      <th>0</th>\n      <td>Al Rollins</td>\n      <td>1</td>\n    </tr>\n    <tr>\n      <th>1</th>\n      <td>Alex Ovechkin</td>\n      <td>3</td>\n    </tr>\n    <tr>\n      <th>2</th>\n      <td>Andy Bathgate</td>\n      <td>1</td>\n    </tr>\n    <tr>\n      <th>3</th>\n      <td>Aurele Joliat</td>\n      <td>1</td>\n    </tr>\n    <tr>\n      <th>4</th>\n      <td>Babe Pratt</td>\n      <td>1</td>\n    </tr>\n  </tbody>\n</table>\n</div>"
     },
     "metadata": {},
     "execution_count": 17
    }
   ],
   "source": [
    "# Rename the year column to the award name\n",
    "hart_grp_df = hart_grp_df.rename(columns={\"Year\": \"Hart Awards\"})\n",
    "hart_grp_df.head()"
   ]
  },
  {
   "source": [
    "NHL Conn Smythe Trophy Winners, Award presented to the playoffs MVP"
   ],
   "cell_type": "markdown",
   "metadata": {}
  },
  {
   "cell_type": "code",
   "execution_count": 18,
   "metadata": {},
   "outputs": [
    {
     "output_type": "execute_result",
     "data": {
      "text/plain": [
       "   Year         Player                 Team        Award\n",
       "0  2020  Victor Hedman  Tampa Bay Lightning  Conn Smythe\n",
       "1  2019  Ryan O'Reilly      St. Louis Blues  Conn Smythe\n",
       "2  2018  Alex Ovechkin  Washington Capitals  Conn Smythe\n",
       "3  2017  Sidney Crosby  Pittsburgh Penguins  Conn Smythe\n",
       "4  2016  Sidney Crosby  Pittsburgh Penguins  Conn Smythe"
      ],
      "text/html": "<div>\n<style scoped>\n    .dataframe tbody tr th:only-of-type {\n        vertical-align: middle;\n    }\n\n    .dataframe tbody tr th {\n        vertical-align: top;\n    }\n\n    .dataframe thead th {\n        text-align: right;\n    }\n</style>\n<table border=\"1\" class=\"dataframe\">\n  <thead>\n    <tr style=\"text-align: right;\">\n      <th></th>\n      <th>Year</th>\n      <th>Player</th>\n      <th>Team</th>\n      <th>Award</th>\n    </tr>\n  </thead>\n  <tbody>\n    <tr>\n      <th>0</th>\n      <td>2020</td>\n      <td>Victor Hedman</td>\n      <td>Tampa Bay Lightning</td>\n      <td>Conn Smythe</td>\n    </tr>\n    <tr>\n      <th>1</th>\n      <td>2019</td>\n      <td>Ryan O'Reilly</td>\n      <td>St. Louis Blues</td>\n      <td>Conn Smythe</td>\n    </tr>\n    <tr>\n      <th>2</th>\n      <td>2018</td>\n      <td>Alex Ovechkin</td>\n      <td>Washington Capitals</td>\n      <td>Conn Smythe</td>\n    </tr>\n    <tr>\n      <th>3</th>\n      <td>2017</td>\n      <td>Sidney Crosby</td>\n      <td>Pittsburgh Penguins</td>\n      <td>Conn Smythe</td>\n    </tr>\n    <tr>\n      <th>4</th>\n      <td>2016</td>\n      <td>Sidney Crosby</td>\n      <td>Pittsburgh Penguins</td>\n      <td>Conn Smythe</td>\n    </tr>\n  </tbody>\n</table>\n</div>"
     },
     "metadata": {},
     "execution_count": 18
    }
   ],
   "source": [
    "# Scrape the data for the Conn Smythe Trophy Award, Playoff MVP\n",
    "url = 'https://www.nhl.com/news/nhl-conn-smythe-trophy-winners-complete-list/c-287709808?tid=287709666'\n",
    "\n",
    "# Retrieve page with the requests module\n",
    "html = requests.get(url).text\n",
    "\n",
    "# Create BeautifulSoup object; parse with 'html.parser'\n",
    "soup = BeautifulSoup(html, 'html.parser')\n",
    "\n",
    "# results are returned as a list\n",
    "body = soup.find('div', class_='article-item__body')\n",
    "\n",
    "results = body.find_all('li')\n",
    "\n",
    "winners = []\n",
    "for result in results:\n",
    "    # Error handling\n",
    "    try:\n",
    "        #print(result)\n",
    "        row = result.text\n",
    "        #print(f'row: {row}')\n",
    "        words = row.split(':')\n",
    "        more_words = words[1].split(',')\n",
    "\n",
    "        winner = [words[0], more_words[0].strip(), more_words[1].strip(), \"Conn Smythe\"]\n",
    "        #print(winner)\n",
    "        winners.append(winner)\n",
    "\n",
    "    except AttributeError as error:\n",
    "        print(error)\n",
    "\n",
    "# convert list of lists into DataFrame\n",
    "conn_smythe_df = pd.DataFrame(winners, columns = ['Year', 'Player', 'Team', 'Award'])\n",
    "# convert year column to int for filtering purposes\n",
    "conn_smythe_df['Year'] = conn_smythe_df['Year'].astype(int)\n",
    "# filter dataframe \n",
    "# conn_smythe_df = conn_smythe_df.loc[conn_smythe_df['Year'] >= 1967,:]\n",
    "conn_smythe_df.head()"
   ]
  },
  {
   "cell_type": "code",
   "execution_count": 19,
   "metadata": {},
   "outputs": [
    {
     "output_type": "execute_result",
     "data": {
      "text/plain": [
       "          Player  Year  Team  Award\n",
       "0    Al MacInnis     1     1      1\n",
       "1  Alex Ovechkin     1     1      1\n",
       "2  Bernie Parent     2     2      2\n",
       "3   Bill Ranford     1     1      1\n",
       "4    Billy Smith     1     1      1"
      ],
      "text/html": "<div>\n<style scoped>\n    .dataframe tbody tr th:only-of-type {\n        vertical-align: middle;\n    }\n\n    .dataframe tbody tr th {\n        vertical-align: top;\n    }\n\n    .dataframe thead th {\n        text-align: right;\n    }\n</style>\n<table border=\"1\" class=\"dataframe\">\n  <thead>\n    <tr style=\"text-align: right;\">\n      <th></th>\n      <th>Player</th>\n      <th>Year</th>\n      <th>Team</th>\n      <th>Award</th>\n    </tr>\n  </thead>\n  <tbody>\n    <tr>\n      <th>0</th>\n      <td>Al MacInnis</td>\n      <td>1</td>\n      <td>1</td>\n      <td>1</td>\n    </tr>\n    <tr>\n      <th>1</th>\n      <td>Alex Ovechkin</td>\n      <td>1</td>\n      <td>1</td>\n      <td>1</td>\n    </tr>\n    <tr>\n      <th>2</th>\n      <td>Bernie Parent</td>\n      <td>2</td>\n      <td>2</td>\n      <td>2</td>\n    </tr>\n    <tr>\n      <th>3</th>\n      <td>Bill Ranford</td>\n      <td>1</td>\n      <td>1</td>\n      <td>1</td>\n    </tr>\n    <tr>\n      <th>4</th>\n      <td>Billy Smith</td>\n      <td>1</td>\n      <td>1</td>\n      <td>1</td>\n    </tr>\n  </tbody>\n</table>\n</div>"
     },
     "metadata": {},
     "execution_count": 19
    }
   ],
   "source": [
    "# Group the data by the player's name column and count\n",
    "conn_smythe_grp_df = conn_smythe_df.groupby(by=\"Player\", as_index=False).count()\n",
    "conn_smythe_grp_df.head()"
   ]
  },
  {
   "cell_type": "code",
   "execution_count": 20,
   "metadata": {},
   "outputs": [
    {
     "output_type": "execute_result",
     "data": {
      "text/plain": [
       "          Player  Year\n",
       "0    Al MacInnis     1\n",
       "1  Alex Ovechkin     1\n",
       "2  Bernie Parent     2\n",
       "3   Bill Ranford     1\n",
       "4    Billy Smith     1"
      ],
      "text/html": "<div>\n<style scoped>\n    .dataframe tbody tr th:only-of-type {\n        vertical-align: middle;\n    }\n\n    .dataframe tbody tr th {\n        vertical-align: top;\n    }\n\n    .dataframe thead th {\n        text-align: right;\n    }\n</style>\n<table border=\"1\" class=\"dataframe\">\n  <thead>\n    <tr style=\"text-align: right;\">\n      <th></th>\n      <th>Player</th>\n      <th>Year</th>\n    </tr>\n  </thead>\n  <tbody>\n    <tr>\n      <th>0</th>\n      <td>Al MacInnis</td>\n      <td>1</td>\n    </tr>\n    <tr>\n      <th>1</th>\n      <td>Alex Ovechkin</td>\n      <td>1</td>\n    </tr>\n    <tr>\n      <th>2</th>\n      <td>Bernie Parent</td>\n      <td>2</td>\n    </tr>\n    <tr>\n      <th>3</th>\n      <td>Bill Ranford</td>\n      <td>1</td>\n    </tr>\n    <tr>\n      <th>4</th>\n      <td>Billy Smith</td>\n      <td>1</td>\n    </tr>\n  </tbody>\n</table>\n</div>"
     },
     "metadata": {},
     "execution_count": 20
    }
   ],
   "source": [
    "# Drop columns that are not needed\n",
    "conn_smythe_grp_df = conn_smythe_grp_df.drop(['Team', 'Award'], axis=1)\n",
    "conn_smythe_grp_df.head()"
   ]
  },
  {
   "cell_type": "code",
   "execution_count": 21,
   "metadata": {},
   "outputs": [
    {
     "output_type": "execute_result",
     "data": {
      "text/plain": [
       "          Player  Conn Smythe Awards\n",
       "0    Al MacInnis                   1\n",
       "1  Alex Ovechkin                   1\n",
       "2  Bernie Parent                   2\n",
       "3   Bill Ranford                   1\n",
       "4    Billy Smith                   1"
      ],
      "text/html": "<div>\n<style scoped>\n    .dataframe tbody tr th:only-of-type {\n        vertical-align: middle;\n    }\n\n    .dataframe tbody tr th {\n        vertical-align: top;\n    }\n\n    .dataframe thead th {\n        text-align: right;\n    }\n</style>\n<table border=\"1\" class=\"dataframe\">\n  <thead>\n    <tr style=\"text-align: right;\">\n      <th></th>\n      <th>Player</th>\n      <th>Conn Smythe Awards</th>\n    </tr>\n  </thead>\n  <tbody>\n    <tr>\n      <th>0</th>\n      <td>Al MacInnis</td>\n      <td>1</td>\n    </tr>\n    <tr>\n      <th>1</th>\n      <td>Alex Ovechkin</td>\n      <td>1</td>\n    </tr>\n    <tr>\n      <th>2</th>\n      <td>Bernie Parent</td>\n      <td>2</td>\n    </tr>\n    <tr>\n      <th>3</th>\n      <td>Bill Ranford</td>\n      <td>1</td>\n    </tr>\n    <tr>\n      <th>4</th>\n      <td>Billy Smith</td>\n      <td>1</td>\n    </tr>\n  </tbody>\n</table>\n</div>"
     },
     "metadata": {},
     "execution_count": 21
    }
   ],
   "source": [
    "# Rename the year column to the award name\n",
    "conn_smythe_grp_df = conn_smythe_grp_df.rename(columns={\"Year\": \"Conn Smythe Awards\"})\n",
    "conn_smythe_grp_df.head()"
   ]
  },
  {
   "source": [
    "NHL Calder Memorial Trophy Winners, Award presented to the rookie of the year."
   ],
   "cell_type": "markdown",
   "metadata": {}
  },
  {
   "cell_type": "code",
   "execution_count": 22,
   "metadata": {},
   "outputs": [
    {
     "output_type": "execute_result",
     "data": {
      "text/plain": [
       "   Year            Player                 Team            Award\n",
       "0  2020        Cale Makar   Colorado Avalanche  Calder Memorial\n",
       "1  2019  Elias Pettersson    Vancouver Canucks  Calder Memorial\n",
       "2  2018     Mathew Barzal   New York Islanders  Calder Memorial\n",
       "3  2017   Auston Matthews  Toronto Maple Leafs  Calder Memorial\n",
       "4  2016    Artemi Panarin   Chicago Blackhawks  Calder Memorial"
      ],
      "text/html": "<div>\n<style scoped>\n    .dataframe tbody tr th:only-of-type {\n        vertical-align: middle;\n    }\n\n    .dataframe tbody tr th {\n        vertical-align: top;\n    }\n\n    .dataframe thead th {\n        text-align: right;\n    }\n</style>\n<table border=\"1\" class=\"dataframe\">\n  <thead>\n    <tr style=\"text-align: right;\">\n      <th></th>\n      <th>Year</th>\n      <th>Player</th>\n      <th>Team</th>\n      <th>Award</th>\n    </tr>\n  </thead>\n  <tbody>\n    <tr>\n      <th>0</th>\n      <td>2020</td>\n      <td>Cale Makar</td>\n      <td>Colorado Avalanche</td>\n      <td>Calder Memorial</td>\n    </tr>\n    <tr>\n      <th>1</th>\n      <td>2019</td>\n      <td>Elias Pettersson</td>\n      <td>Vancouver Canucks</td>\n      <td>Calder Memorial</td>\n    </tr>\n    <tr>\n      <th>2</th>\n      <td>2018</td>\n      <td>Mathew Barzal</td>\n      <td>New York Islanders</td>\n      <td>Calder Memorial</td>\n    </tr>\n    <tr>\n      <th>3</th>\n      <td>2017</td>\n      <td>Auston Matthews</td>\n      <td>Toronto Maple Leafs</td>\n      <td>Calder Memorial</td>\n    </tr>\n    <tr>\n      <th>4</th>\n      <td>2016</td>\n      <td>Artemi Panarin</td>\n      <td>Chicago Blackhawks</td>\n      <td>Calder Memorial</td>\n    </tr>\n  </tbody>\n</table>\n</div>"
     },
     "metadata": {},
     "execution_count": 22
    }
   ],
   "source": [
    "# Scrape the data for the Calder Memorial Trophy Awards, Rookie of the Year\n",
    "url = 'https://www.nhl.com/news/nhl-calder-memorial-trophy-winners-complete-list/c-287749198?tid=287709666'\n",
    "\n",
    "# Retrieve page with the requests module\n",
    "html = requests.get(url).text\n",
    "\n",
    "# Create BeautifulSoup object; parse with 'html.parser'\n",
    "soup = BeautifulSoup(html, 'html.parser')\n",
    "\n",
    "# results are returned as a list\n",
    "body = soup.find('div', class_='article-item__body')\n",
    "\n",
    "results = body.find_all('li')\n",
    "\n",
    "winners = []\n",
    "for result in results:\n",
    "    # Error handling\n",
    "    try:\n",
    "        #print(result)\n",
    "        row = result.text\n",
    "        #print(f'row: {row}')\n",
    "        words = row.split(':')\n",
    "        more_words = words[1].split(',')\n",
    "\n",
    "        winner = [words[0], more_words[0].strip(), more_words[1].strip(), 'Calder Memorial']\n",
    "        #print(winner)\n",
    "        winners.append(winner)\n",
    "\n",
    "    except AttributeError as error:\n",
    "        print(error)\n",
    "\n",
    "# convert list of lists into DataFrame\n",
    "calder_memorial_df = pd.DataFrame(winners, columns = ['Year', 'Player', 'Team', 'Award'])\n",
    "# convert year column to int for filtering purposes\n",
    "calder_memorial_df['Year'] = calder_memorial_df['Year'].astype(int)\n",
    "# filter dataframe \n",
    "# calder_memorial_df = calder_memorial_df.loc[calder_memorial_df['Year'] >= 1967,:]\n",
    "calder_memorial_df.head()"
   ]
  },
  {
   "cell_type": "code",
   "execution_count": 23,
   "metadata": {},
   "outputs": [
    {
     "output_type": "execute_result",
     "data": {
      "text/plain": [
       "            Player  Year  Team  Award\n",
       "0     Aaron Ekblad     1     1      1\n",
       "1    Alex Ovechkin     1     1      1\n",
       "2  Andrew Raycroft     1     1      1\n",
       "3   Artemi Panarin     1     1      1\n",
       "4  Auston Matthews     1     1      1"
      ],
      "text/html": "<div>\n<style scoped>\n    .dataframe tbody tr th:only-of-type {\n        vertical-align: middle;\n    }\n\n    .dataframe tbody tr th {\n        vertical-align: top;\n    }\n\n    .dataframe thead th {\n        text-align: right;\n    }\n</style>\n<table border=\"1\" class=\"dataframe\">\n  <thead>\n    <tr style=\"text-align: right;\">\n      <th></th>\n      <th>Player</th>\n      <th>Year</th>\n      <th>Team</th>\n      <th>Award</th>\n    </tr>\n  </thead>\n  <tbody>\n    <tr>\n      <th>0</th>\n      <td>Aaron Ekblad</td>\n      <td>1</td>\n      <td>1</td>\n      <td>1</td>\n    </tr>\n    <tr>\n      <th>1</th>\n      <td>Alex Ovechkin</td>\n      <td>1</td>\n      <td>1</td>\n      <td>1</td>\n    </tr>\n    <tr>\n      <th>2</th>\n      <td>Andrew Raycroft</td>\n      <td>1</td>\n      <td>1</td>\n      <td>1</td>\n    </tr>\n    <tr>\n      <th>3</th>\n      <td>Artemi Panarin</td>\n      <td>1</td>\n      <td>1</td>\n      <td>1</td>\n    </tr>\n    <tr>\n      <th>4</th>\n      <td>Auston Matthews</td>\n      <td>1</td>\n      <td>1</td>\n      <td>1</td>\n    </tr>\n  </tbody>\n</table>\n</div>"
     },
     "metadata": {},
     "execution_count": 23
    }
   ],
   "source": [
    "# Group the data by the player's name column\n",
    "calder_memorial_grp_df = calder_memorial_df.groupby(by=\"Player\", as_index=False).count()\n",
    "calder_memorial_grp_df.head()"
   ]
  },
  {
   "cell_type": "code",
   "execution_count": 24,
   "metadata": {},
   "outputs": [
    {
     "output_type": "execute_result",
     "data": {
      "text/plain": [
       "            Player  Year\n",
       "0     Aaron Ekblad     1\n",
       "1    Alex Ovechkin     1\n",
       "2  Andrew Raycroft     1\n",
       "3   Artemi Panarin     1\n",
       "4  Auston Matthews     1"
      ],
      "text/html": "<div>\n<style scoped>\n    .dataframe tbody tr th:only-of-type {\n        vertical-align: middle;\n    }\n\n    .dataframe tbody tr th {\n        vertical-align: top;\n    }\n\n    .dataframe thead th {\n        text-align: right;\n    }\n</style>\n<table border=\"1\" class=\"dataframe\">\n  <thead>\n    <tr style=\"text-align: right;\">\n      <th></th>\n      <th>Player</th>\n      <th>Year</th>\n    </tr>\n  </thead>\n  <tbody>\n    <tr>\n      <th>0</th>\n      <td>Aaron Ekblad</td>\n      <td>1</td>\n    </tr>\n    <tr>\n      <th>1</th>\n      <td>Alex Ovechkin</td>\n      <td>1</td>\n    </tr>\n    <tr>\n      <th>2</th>\n      <td>Andrew Raycroft</td>\n      <td>1</td>\n    </tr>\n    <tr>\n      <th>3</th>\n      <td>Artemi Panarin</td>\n      <td>1</td>\n    </tr>\n    <tr>\n      <th>4</th>\n      <td>Auston Matthews</td>\n      <td>1</td>\n    </tr>\n  </tbody>\n</table>\n</div>"
     },
     "metadata": {},
     "execution_count": 24
    }
   ],
   "source": [
    "# Drop columns that are not needed\n",
    "calder_memorial_grp_df = calder_memorial_grp_df.drop(['Team', 'Award'], axis=1)\n",
    "calder_memorial_grp_df.head()"
   ]
  },
  {
   "cell_type": "code",
   "execution_count": 25,
   "metadata": {},
   "outputs": [
    {
     "output_type": "execute_result",
     "data": {
      "text/plain": [
       "            Player  Calder Awards\n",
       "0     Aaron Ekblad              1\n",
       "1    Alex Ovechkin              1\n",
       "2  Andrew Raycroft              1\n",
       "3   Artemi Panarin              1\n",
       "4  Auston Matthews              1"
      ],
      "text/html": "<div>\n<style scoped>\n    .dataframe tbody tr th:only-of-type {\n        vertical-align: middle;\n    }\n\n    .dataframe tbody tr th {\n        vertical-align: top;\n    }\n\n    .dataframe thead th {\n        text-align: right;\n    }\n</style>\n<table border=\"1\" class=\"dataframe\">\n  <thead>\n    <tr style=\"text-align: right;\">\n      <th></th>\n      <th>Player</th>\n      <th>Calder Awards</th>\n    </tr>\n  </thead>\n  <tbody>\n    <tr>\n      <th>0</th>\n      <td>Aaron Ekblad</td>\n      <td>1</td>\n    </tr>\n    <tr>\n      <th>1</th>\n      <td>Alex Ovechkin</td>\n      <td>1</td>\n    </tr>\n    <tr>\n      <th>2</th>\n      <td>Andrew Raycroft</td>\n      <td>1</td>\n    </tr>\n    <tr>\n      <th>3</th>\n      <td>Artemi Panarin</td>\n      <td>1</td>\n    </tr>\n    <tr>\n      <th>4</th>\n      <td>Auston Matthews</td>\n      <td>1</td>\n    </tr>\n  </tbody>\n</table>\n</div>"
     },
     "metadata": {},
     "execution_count": 25
    }
   ],
   "source": [
    "# Rename the year column to the award name\n",
    "calder_memorial_grp_df = calder_memorial_grp_df.rename(columns={\"Year\": \"Calder Awards\"})\n",
    "calder_memorial_grp_df.head()"
   ]
  },
  {
   "source": [
    "NHL James Norris Memorial Trophy Winners, Award presented to the leagues top defenseman."
   ],
   "cell_type": "markdown",
   "metadata": {}
  },
  {
   "cell_type": "code",
   "execution_count": 26,
   "metadata": {},
   "outputs": [
    {
     "output_type": "execute_result",
     "data": {
      "text/plain": [
       "   Year         Player                 Team                  Award\n",
       "0  2020     Roman Josi       Calgary Flames  James Norris Memorial\n",
       "1  2019  Mark Giordano       Calgary Flames  James Norris Memorial\n",
       "2  2018  Victor Hedman  Tampa Bay Lightning  James Norris Memorial\n",
       "3  2017    Brent Burns      San Jose Sharks  James Norris Memorial\n",
       "4  2016   Drew Doughty    Los Angeles Kings  James Norris Memorial"
      ],
      "text/html": "<div>\n<style scoped>\n    .dataframe tbody tr th:only-of-type {\n        vertical-align: middle;\n    }\n\n    .dataframe tbody tr th {\n        vertical-align: top;\n    }\n\n    .dataframe thead th {\n        text-align: right;\n    }\n</style>\n<table border=\"1\" class=\"dataframe\">\n  <thead>\n    <tr style=\"text-align: right;\">\n      <th></th>\n      <th>Year</th>\n      <th>Player</th>\n      <th>Team</th>\n      <th>Award</th>\n    </tr>\n  </thead>\n  <tbody>\n    <tr>\n      <th>0</th>\n      <td>2020</td>\n      <td>Roman Josi</td>\n      <td>Calgary Flames</td>\n      <td>James Norris Memorial</td>\n    </tr>\n    <tr>\n      <th>1</th>\n      <td>2019</td>\n      <td>Mark Giordano</td>\n      <td>Calgary Flames</td>\n      <td>James Norris Memorial</td>\n    </tr>\n    <tr>\n      <th>2</th>\n      <td>2018</td>\n      <td>Victor Hedman</td>\n      <td>Tampa Bay Lightning</td>\n      <td>James Norris Memorial</td>\n    </tr>\n    <tr>\n      <th>3</th>\n      <td>2017</td>\n      <td>Brent Burns</td>\n      <td>San Jose Sharks</td>\n      <td>James Norris Memorial</td>\n    </tr>\n    <tr>\n      <th>4</th>\n      <td>2016</td>\n      <td>Drew Doughty</td>\n      <td>Los Angeles Kings</td>\n      <td>James Norris Memorial</td>\n    </tr>\n  </tbody>\n</table>\n</div>"
     },
     "metadata": {},
     "execution_count": 26
    }
   ],
   "source": [
    "# Scrape the data for the James Norris Memorial Trophy, Top Defenseman \n",
    "import re\n",
    "url = 'https://www.nhl.com/news/nhl-james-norris-memorial-trophy-winners-complete-list/c-287778852?tid=287709666'\n",
    "\n",
    "# Retrieve page with the requests module\n",
    "html = requests.get(url).text\n",
    "\n",
    "# Create BeautifulSoup object; parse with 'html.parser'\n",
    "soup = BeautifulSoup(html, 'html.parser')\n",
    "\n",
    "# results are returned as a list\n",
    "body = soup.find('div', class_='article-item__body')\n",
    "\n",
    "results = body.find_all('li')\n",
    "\n",
    "winners = []\n",
    "for result in results:\n",
    "    # Error handling\n",
    "    try:\n",
    "        #print(result)\n",
    "        row = result.text\n",
    "        #print(f'row: {row}')\n",
    "        words = re.split(':|;', row)\n",
    "        #print(words)\n",
    "        more_words = words[1].split(',')\n",
    "        #print(more_words)\n",
    "\n",
    "        winner = [words[0], more_words[0].strip(), more_words[1].strip(), 'James Norris Memorial']\n",
    "        #print(winner)\n",
    "        winners.append(winner)\n",
    "\n",
    "    except AttributeError as error:\n",
    "        print(error)\n",
    "\n",
    "# convert list of lists into DataFrame\n",
    "james_norris_df = pd.DataFrame(winners, columns = ['Year', 'Player', 'Team', 'Award'])\n",
    "# convert year column to int for filtering purposes\n",
    "james_norris_df['Year'] = james_norris_df['Year'].astype(int)\n",
    "# filter dataframe \n",
    "# james_norris_df = james_norris_df.loc[james_norris_df['Year'] >= 1967,:]\n",
    "james_norris_df.head()"
   ]
  },
  {
   "cell_type": "code",
   "execution_count": 27,
   "metadata": {},
   "outputs": [
    {
     "output_type": "execute_result",
     "data": {
      "text/plain": [
       "          Player  Year  Team  Award\n",
       "0    Al MacInnis     1     1      1\n",
       "1      Bobby Orr     8     8      8\n",
       "2    Brent Burns     1     1      1\n",
       "3   Brian Leetch     2     2      2\n",
       "4  Chris Chelios     3     3      3"
      ],
      "text/html": "<div>\n<style scoped>\n    .dataframe tbody tr th:only-of-type {\n        vertical-align: middle;\n    }\n\n    .dataframe tbody tr th {\n        vertical-align: top;\n    }\n\n    .dataframe thead th {\n        text-align: right;\n    }\n</style>\n<table border=\"1\" class=\"dataframe\">\n  <thead>\n    <tr style=\"text-align: right;\">\n      <th></th>\n      <th>Player</th>\n      <th>Year</th>\n      <th>Team</th>\n      <th>Award</th>\n    </tr>\n  </thead>\n  <tbody>\n    <tr>\n      <th>0</th>\n      <td>Al MacInnis</td>\n      <td>1</td>\n      <td>1</td>\n      <td>1</td>\n    </tr>\n    <tr>\n      <th>1</th>\n      <td>Bobby Orr</td>\n      <td>8</td>\n      <td>8</td>\n      <td>8</td>\n    </tr>\n    <tr>\n      <th>2</th>\n      <td>Brent Burns</td>\n      <td>1</td>\n      <td>1</td>\n      <td>1</td>\n    </tr>\n    <tr>\n      <th>3</th>\n      <td>Brian Leetch</td>\n      <td>2</td>\n      <td>2</td>\n      <td>2</td>\n    </tr>\n    <tr>\n      <th>4</th>\n      <td>Chris Chelios</td>\n      <td>3</td>\n      <td>3</td>\n      <td>3</td>\n    </tr>\n  </tbody>\n</table>\n</div>"
     },
     "metadata": {},
     "execution_count": 27
    }
   ],
   "source": [
    "# Group the data by the player's name column and count\n",
    "james_norris_grp_df = james_norris_df.groupby(by=\"Player\", as_index=False).count()\n",
    "james_norris_grp_df.head()"
   ]
  },
  {
   "cell_type": "code",
   "execution_count": 28,
   "metadata": {},
   "outputs": [
    {
     "output_type": "execute_result",
     "data": {
      "text/plain": [
       "          Player  Year\n",
       "0    Al MacInnis     1\n",
       "1      Bobby Orr     8\n",
       "2    Brent Burns     1\n",
       "3   Brian Leetch     2\n",
       "4  Chris Chelios     3"
      ],
      "text/html": "<div>\n<style scoped>\n    .dataframe tbody tr th:only-of-type {\n        vertical-align: middle;\n    }\n\n    .dataframe tbody tr th {\n        vertical-align: top;\n    }\n\n    .dataframe thead th {\n        text-align: right;\n    }\n</style>\n<table border=\"1\" class=\"dataframe\">\n  <thead>\n    <tr style=\"text-align: right;\">\n      <th></th>\n      <th>Player</th>\n      <th>Year</th>\n    </tr>\n  </thead>\n  <tbody>\n    <tr>\n      <th>0</th>\n      <td>Al MacInnis</td>\n      <td>1</td>\n    </tr>\n    <tr>\n      <th>1</th>\n      <td>Bobby Orr</td>\n      <td>8</td>\n    </tr>\n    <tr>\n      <th>2</th>\n      <td>Brent Burns</td>\n      <td>1</td>\n    </tr>\n    <tr>\n      <th>3</th>\n      <td>Brian Leetch</td>\n      <td>2</td>\n    </tr>\n    <tr>\n      <th>4</th>\n      <td>Chris Chelios</td>\n      <td>3</td>\n    </tr>\n  </tbody>\n</table>\n</div>"
     },
     "metadata": {},
     "execution_count": 28
    }
   ],
   "source": [
    "# Drop columns that are not needed\n",
    "james_norris_grp_df = james_norris_grp_df.drop(['Team', 'Award'], axis=1)\n",
    "james_norris_grp_df.head()"
   ]
  },
  {
   "cell_type": "code",
   "execution_count": 29,
   "metadata": {},
   "outputs": [
    {
     "output_type": "execute_result",
     "data": {
      "text/plain": [
       "          Player  James Norris Awards\n",
       "0    Al MacInnis                    1\n",
       "1      Bobby Orr                    8\n",
       "2    Brent Burns                    1\n",
       "3   Brian Leetch                    2\n",
       "4  Chris Chelios                    3"
      ],
      "text/html": "<div>\n<style scoped>\n    .dataframe tbody tr th:only-of-type {\n        vertical-align: middle;\n    }\n\n    .dataframe tbody tr th {\n        vertical-align: top;\n    }\n\n    .dataframe thead th {\n        text-align: right;\n    }\n</style>\n<table border=\"1\" class=\"dataframe\">\n  <thead>\n    <tr style=\"text-align: right;\">\n      <th></th>\n      <th>Player</th>\n      <th>James Norris Awards</th>\n    </tr>\n  </thead>\n  <tbody>\n    <tr>\n      <th>0</th>\n      <td>Al MacInnis</td>\n      <td>1</td>\n    </tr>\n    <tr>\n      <th>1</th>\n      <td>Bobby Orr</td>\n      <td>8</td>\n    </tr>\n    <tr>\n      <th>2</th>\n      <td>Brent Burns</td>\n      <td>1</td>\n    </tr>\n    <tr>\n      <th>3</th>\n      <td>Brian Leetch</td>\n      <td>2</td>\n    </tr>\n    <tr>\n      <th>4</th>\n      <td>Chris Chelios</td>\n      <td>3</td>\n    </tr>\n  </tbody>\n</table>\n</div>"
     },
     "metadata": {},
     "execution_count": 29
    }
   ],
   "source": [
    "# Rename the year column to the award name\n",
    "james_norris_grp_df = james_norris_grp_df.rename(columns={\"Year\": \"James Norris Awards\"})\n",
    "james_norris_grp_df.head()"
   ]
  },
  {
   "source": [
    "NHL Ted Lindsay Award Winners. Award presented to the most outstanding player as voted but the NHLPA members."
   ],
   "cell_type": "markdown",
   "metadata": {}
  },
  {
   "cell_type": "code",
   "execution_count": 30,
   "metadata": {},
   "outputs": [
    {
     "output_type": "execute_result",
     "data": {
      "text/plain": [
       "   Year           Player                 Team        Award\n",
       "0  2020   Leon Draisaitl      Edmonton Oilers  Ted Lindsay\n",
       "1  2019  Nikita Kucherov  Tampa Bay Lightning  Ted Lindsay\n",
       "2  2018   Connor McDavid      Edmonton Oilers  Ted Lindsay\n",
       "3  2017   Connor McDavid      Edmonton Oilers  Ted Lindsay\n",
       "4  2016     Patrick Kane   Chicago Blackhawks  Ted Lindsay"
      ],
      "text/html": "<div>\n<style scoped>\n    .dataframe tbody tr th:only-of-type {\n        vertical-align: middle;\n    }\n\n    .dataframe tbody tr th {\n        vertical-align: top;\n    }\n\n    .dataframe thead th {\n        text-align: right;\n    }\n</style>\n<table border=\"1\" class=\"dataframe\">\n  <thead>\n    <tr style=\"text-align: right;\">\n      <th></th>\n      <th>Year</th>\n      <th>Player</th>\n      <th>Team</th>\n      <th>Award</th>\n    </tr>\n  </thead>\n  <tbody>\n    <tr>\n      <th>0</th>\n      <td>2020</td>\n      <td>Leon Draisaitl</td>\n      <td>Edmonton Oilers</td>\n      <td>Ted Lindsay</td>\n    </tr>\n    <tr>\n      <th>1</th>\n      <td>2019</td>\n      <td>Nikita Kucherov</td>\n      <td>Tampa Bay Lightning</td>\n      <td>Ted Lindsay</td>\n    </tr>\n    <tr>\n      <th>2</th>\n      <td>2018</td>\n      <td>Connor McDavid</td>\n      <td>Edmonton Oilers</td>\n      <td>Ted Lindsay</td>\n    </tr>\n    <tr>\n      <th>3</th>\n      <td>2017</td>\n      <td>Connor McDavid</td>\n      <td>Edmonton Oilers</td>\n      <td>Ted Lindsay</td>\n    </tr>\n    <tr>\n      <th>4</th>\n      <td>2016</td>\n      <td>Patrick Kane</td>\n      <td>Chicago Blackhawks</td>\n      <td>Ted Lindsay</td>\n    </tr>\n  </tbody>\n</table>\n</div>"
     },
     "metadata": {},
     "execution_count": 30
    }
   ],
   "source": [
    "# Scrape the data for the Ted Lindsay Award, Outstanding Player voted by NHLPA players\n",
    "url = 'https://www.nhl.com/news/nhl-ted-lindsay-award-winners-complete-list/c-287978282?tid=287709666'\n",
    "\n",
    "# Retrieve page with the requests module\n",
    "html = requests.get(url).text\n",
    "\n",
    "# Create BeautifulSoup object; parse with 'html.parser'\n",
    "soup = BeautifulSoup(html, 'html.parser')\n",
    "\n",
    "# results are returned as a list\n",
    "body = soup.find('div', class_='article-item__body')\n",
    "\n",
    "results = body.find_all('li')\n",
    "\n",
    "winners = []\n",
    "for result in results:\n",
    "    # Error handling\n",
    "    try:\n",
    "        #print(result)\n",
    "        row = result.text\n",
    "        #print(f'row: {row}')\n",
    "        words = row.split(':')\n",
    "        more_words = words[1].split(',')\n",
    "\n",
    "        winner = [words[0], more_words[0].strip(), more_words[1].strip(), \"Ted Lindsay\"]\n",
    "        #print(winner)\n",
    "        winners.append(winner)\n",
    "\n",
    "    except AttributeError as error:\n",
    "        print(error)\n",
    "\n",
    "# convert list of lists into DataFrame\n",
    "ted_lindsay_df = pd.DataFrame(winners, columns = ['Year', 'Player', 'Team', 'Award'])\n",
    "# convert year column to int for filtering purposes\n",
    "ted_lindsay_df['Year'] = ted_lindsay_df['Year'].astype(int)\n",
    "# filter dataframe \n",
    "# ted_lindsay_df = ted_lindsay_df.loc[ted_lindsay_df['Year'] >= 1967,:]\n",
    "ted_lindsay_df.head()"
   ]
  },
  {
   "cell_type": "code",
   "execution_count": 31,
   "metadata": {},
   "outputs": [
    {
     "output_type": "execute_result",
     "data": {
      "text/plain": [
       "          Player  Year  Team  Award\n",
       "0  Alex Ovechkin     3     3      3\n",
       "1   Bobby Clarke     1     1      1\n",
       "2      Bobby Orr     1     1      1\n",
       "3     Brett Hull     1     1      1\n",
       "4    Carey Price     1     1      1"
      ],
      "text/html": "<div>\n<style scoped>\n    .dataframe tbody tr th:only-of-type {\n        vertical-align: middle;\n    }\n\n    .dataframe tbody tr th {\n        vertical-align: top;\n    }\n\n    .dataframe thead th {\n        text-align: right;\n    }\n</style>\n<table border=\"1\" class=\"dataframe\">\n  <thead>\n    <tr style=\"text-align: right;\">\n      <th></th>\n      <th>Player</th>\n      <th>Year</th>\n      <th>Team</th>\n      <th>Award</th>\n    </tr>\n  </thead>\n  <tbody>\n    <tr>\n      <th>0</th>\n      <td>Alex Ovechkin</td>\n      <td>3</td>\n      <td>3</td>\n      <td>3</td>\n    </tr>\n    <tr>\n      <th>1</th>\n      <td>Bobby Clarke</td>\n      <td>1</td>\n      <td>1</td>\n      <td>1</td>\n    </tr>\n    <tr>\n      <th>2</th>\n      <td>Bobby Orr</td>\n      <td>1</td>\n      <td>1</td>\n      <td>1</td>\n    </tr>\n    <tr>\n      <th>3</th>\n      <td>Brett Hull</td>\n      <td>1</td>\n      <td>1</td>\n      <td>1</td>\n    </tr>\n    <tr>\n      <th>4</th>\n      <td>Carey Price</td>\n      <td>1</td>\n      <td>1</td>\n      <td>1</td>\n    </tr>\n  </tbody>\n</table>\n</div>"
     },
     "metadata": {},
     "execution_count": 31
    }
   ],
   "source": [
    "# Group the data by the player's name column and count\n",
    "ted_lindsay_grp_df = ted_lindsay_df.groupby(by=\"Player\", as_index=False).count()\n",
    "ted_lindsay_grp_df.head()"
   ]
  },
  {
   "cell_type": "code",
   "execution_count": 32,
   "metadata": {},
   "outputs": [
    {
     "output_type": "execute_result",
     "data": {
      "text/plain": [
       "          Player  Year\n",
       "0  Alex Ovechkin     3\n",
       "1   Bobby Clarke     1\n",
       "2      Bobby Orr     1\n",
       "3     Brett Hull     1\n",
       "4    Carey Price     1"
      ],
      "text/html": "<div>\n<style scoped>\n    .dataframe tbody tr th:only-of-type {\n        vertical-align: middle;\n    }\n\n    .dataframe tbody tr th {\n        vertical-align: top;\n    }\n\n    .dataframe thead th {\n        text-align: right;\n    }\n</style>\n<table border=\"1\" class=\"dataframe\">\n  <thead>\n    <tr style=\"text-align: right;\">\n      <th></th>\n      <th>Player</th>\n      <th>Year</th>\n    </tr>\n  </thead>\n  <tbody>\n    <tr>\n      <th>0</th>\n      <td>Alex Ovechkin</td>\n      <td>3</td>\n    </tr>\n    <tr>\n      <th>1</th>\n      <td>Bobby Clarke</td>\n      <td>1</td>\n    </tr>\n    <tr>\n      <th>2</th>\n      <td>Bobby Orr</td>\n      <td>1</td>\n    </tr>\n    <tr>\n      <th>3</th>\n      <td>Brett Hull</td>\n      <td>1</td>\n    </tr>\n    <tr>\n      <th>4</th>\n      <td>Carey Price</td>\n      <td>1</td>\n    </tr>\n  </tbody>\n</table>\n</div>"
     },
     "metadata": {},
     "execution_count": 32
    }
   ],
   "source": [
    "# Drop columns that are not needed\n",
    "ted_lindsay_grp_df = ted_lindsay_grp_df.drop(['Team', 'Award'], axis=1)\n",
    "ted_lindsay_grp_df.head()"
   ]
  },
  {
   "cell_type": "code",
   "execution_count": 33,
   "metadata": {},
   "outputs": [
    {
     "output_type": "execute_result",
     "data": {
      "text/plain": [
       "          Player  Ted Lindsay Awards\n",
       "0  Alex Ovechkin                   3\n",
       "1   Bobby Clarke                   1\n",
       "2      Bobby Orr                   1\n",
       "3     Brett Hull                   1\n",
       "4    Carey Price                   1"
      ],
      "text/html": "<div>\n<style scoped>\n    .dataframe tbody tr th:only-of-type {\n        vertical-align: middle;\n    }\n\n    .dataframe tbody tr th {\n        vertical-align: top;\n    }\n\n    .dataframe thead th {\n        text-align: right;\n    }\n</style>\n<table border=\"1\" class=\"dataframe\">\n  <thead>\n    <tr style=\"text-align: right;\">\n      <th></th>\n      <th>Player</th>\n      <th>Ted Lindsay Awards</th>\n    </tr>\n  </thead>\n  <tbody>\n    <tr>\n      <th>0</th>\n      <td>Alex Ovechkin</td>\n      <td>3</td>\n    </tr>\n    <tr>\n      <th>1</th>\n      <td>Bobby Clarke</td>\n      <td>1</td>\n    </tr>\n    <tr>\n      <th>2</th>\n      <td>Bobby Orr</td>\n      <td>1</td>\n    </tr>\n    <tr>\n      <th>3</th>\n      <td>Brett Hull</td>\n      <td>1</td>\n    </tr>\n    <tr>\n      <th>4</th>\n      <td>Carey Price</td>\n      <td>1</td>\n    </tr>\n  </tbody>\n</table>\n</div>"
     },
     "metadata": {},
     "execution_count": 33
    }
   ],
   "source": [
    "# Rename the year column to the award name\n",
    "ted_lindsay_grp_df = ted_lindsay_grp_df.rename(columns={\"Year\": \"Ted Lindsay Awards\"})\n",
    "ted_lindsay_grp_df.head()"
   ]
  },
  {
   "source": [
    "NHL Maurice Richard Trophy Winners, Award presented to the years top goal-scorer."
   ],
   "cell_type": "markdown",
   "metadata": {}
  },
  {
   "cell_type": "code",
   "execution_count": 34,
   "metadata": {},
   "outputs": [
    {
     "output_type": "execute_result",
     "data": {
      "text/plain": [
       "   Year          Player                 Team            Award\n",
       "0  2020   Alex Ovechkin  Washington Capitals  Maurice Richard\n",
       "1  2020  David Pastrnak        Boston Bruins  Maurice Richard\n",
       "2  2019   Alex Ovechkin  Washington Capitals  Maurice Richard\n",
       "3  2018   Alex Ovechkin  Washington Capitals  Maurice Richard\n",
       "4  2017   Sidney Crosby  Pittsburgh Penguins  Maurice Richard"
      ],
      "text/html": "<div>\n<style scoped>\n    .dataframe tbody tr th:only-of-type {\n        vertical-align: middle;\n    }\n\n    .dataframe tbody tr th {\n        vertical-align: top;\n    }\n\n    .dataframe thead th {\n        text-align: right;\n    }\n</style>\n<table border=\"1\" class=\"dataframe\">\n  <thead>\n    <tr style=\"text-align: right;\">\n      <th></th>\n      <th>Year</th>\n      <th>Player</th>\n      <th>Team</th>\n      <th>Award</th>\n    </tr>\n  </thead>\n  <tbody>\n    <tr>\n      <th>0</th>\n      <td>2020</td>\n      <td>Alex Ovechkin</td>\n      <td>Washington Capitals</td>\n      <td>Maurice Richard</td>\n    </tr>\n    <tr>\n      <th>1</th>\n      <td>2020</td>\n      <td>David Pastrnak</td>\n      <td>Boston Bruins</td>\n      <td>Maurice Richard</td>\n    </tr>\n    <tr>\n      <th>2</th>\n      <td>2019</td>\n      <td>Alex Ovechkin</td>\n      <td>Washington Capitals</td>\n      <td>Maurice Richard</td>\n    </tr>\n    <tr>\n      <th>3</th>\n      <td>2018</td>\n      <td>Alex Ovechkin</td>\n      <td>Washington Capitals</td>\n      <td>Maurice Richard</td>\n    </tr>\n    <tr>\n      <th>4</th>\n      <td>2017</td>\n      <td>Sidney Crosby</td>\n      <td>Pittsburgh Penguins</td>\n      <td>Maurice Richard</td>\n    </tr>\n  </tbody>\n</table>\n</div>"
     },
     "metadata": {},
     "execution_count": 34
    }
   ],
   "source": [
    "# Scrape the data for the Maurice Richard Award, Top Goal Scorer\n",
    "url = 'https://www.nhl.com/news/nhl-maurice-richard-trophy-winners-complete-list/c-287972892?tid=287709666'\n",
    "\n",
    "# Retrieve page with the requests module\n",
    "html = requests.get(url).text\n",
    "\n",
    "# Create BeautifulSoup object; parse with 'html.parser'\n",
    "soup = BeautifulSoup(html, 'html.parser')\n",
    "\n",
    "# results are returned as a list\n",
    "body = soup.find('div', class_='article-item__body')\n",
    "\n",
    "results = body.find_all('li')\n",
    "\n",
    "winners = []\n",
    "for result in results:\n",
    "    # Error handling\n",
    "    try:\n",
    "        #print(result)\n",
    "        row = result.text\n",
    "        #print(f'row: {row}')\n",
    "        words = row.split(':')\n",
    "        more_words = words[1].split(',')\n",
    "\n",
    "        winner = [words[0], more_words[0].strip(), more_words[1].strip(), \"Maurice Richard\"]\n",
    "        #print(winner)\n",
    "        winners.append(winner)\n",
    "\n",
    "    except AttributeError as error:\n",
    "        print(error)\n",
    "\n",
    "# convert list of lists into DataFrame\n",
    "maurice_richard_df = pd.DataFrame(winners, columns = ['Year', 'Player', 'Team', 'Award'])\n",
    "# convert year column to int for filtering purposes\n",
    "maurice_richard_df['Year'] = maurice_richard_df['Year'].astype(int)\n",
    "# filter dataframe \n",
    "# maurice_richard_df = maurice_richard_df.loc[ted_lindsay_df['Year'] >= 1967,:]\n",
    "maurice_richard_df.head()"
   ]
  },
  {
   "cell_type": "code",
   "execution_count": 35,
   "metadata": {},
   "outputs": [
    {
     "output_type": "execute_result",
     "data": {
      "text/plain": [
       "           Player  Year  Team  Award\n",
       "0   Alex Ovechkin     9     9      9\n",
       "1     Corey Perry     1     1      1\n",
       "2  David Pastrnak     1     1      1\n",
       "3  Ilya Kovalchuk     1     1      1\n",
       "4   Jarome Iginla     2     2      2"
      ],
      "text/html": "<div>\n<style scoped>\n    .dataframe tbody tr th:only-of-type {\n        vertical-align: middle;\n    }\n\n    .dataframe tbody tr th {\n        vertical-align: top;\n    }\n\n    .dataframe thead th {\n        text-align: right;\n    }\n</style>\n<table border=\"1\" class=\"dataframe\">\n  <thead>\n    <tr style=\"text-align: right;\">\n      <th></th>\n      <th>Player</th>\n      <th>Year</th>\n      <th>Team</th>\n      <th>Award</th>\n    </tr>\n  </thead>\n  <tbody>\n    <tr>\n      <th>0</th>\n      <td>Alex Ovechkin</td>\n      <td>9</td>\n      <td>9</td>\n      <td>9</td>\n    </tr>\n    <tr>\n      <th>1</th>\n      <td>Corey Perry</td>\n      <td>1</td>\n      <td>1</td>\n      <td>1</td>\n    </tr>\n    <tr>\n      <th>2</th>\n      <td>David Pastrnak</td>\n      <td>1</td>\n      <td>1</td>\n      <td>1</td>\n    </tr>\n    <tr>\n      <th>3</th>\n      <td>Ilya Kovalchuk</td>\n      <td>1</td>\n      <td>1</td>\n      <td>1</td>\n    </tr>\n    <tr>\n      <th>4</th>\n      <td>Jarome Iginla</td>\n      <td>2</td>\n      <td>2</td>\n      <td>2</td>\n    </tr>\n  </tbody>\n</table>\n</div>"
     },
     "metadata": {},
     "execution_count": 35
    }
   ],
   "source": [
    "# Group the data by the player's name column\n",
    "maurice_richard_grp_df = maurice_richard_df.groupby(by=\"Player\", as_index=False).count()\n",
    "maurice_richard_grp_df.head()"
   ]
  },
  {
   "cell_type": "code",
   "execution_count": 36,
   "metadata": {},
   "outputs": [
    {
     "output_type": "execute_result",
     "data": {
      "text/plain": [
       "           Player  Year\n",
       "0   Alex Ovechkin     9\n",
       "1     Corey Perry     1\n",
       "2  David Pastrnak     1\n",
       "3  Ilya Kovalchuk     1\n",
       "4   Jarome Iginla     2"
      ],
      "text/html": "<div>\n<style scoped>\n    .dataframe tbody tr th:only-of-type {\n        vertical-align: middle;\n    }\n\n    .dataframe tbody tr th {\n        vertical-align: top;\n    }\n\n    .dataframe thead th {\n        text-align: right;\n    }\n</style>\n<table border=\"1\" class=\"dataframe\">\n  <thead>\n    <tr style=\"text-align: right;\">\n      <th></th>\n      <th>Player</th>\n      <th>Year</th>\n    </tr>\n  </thead>\n  <tbody>\n    <tr>\n      <th>0</th>\n      <td>Alex Ovechkin</td>\n      <td>9</td>\n    </tr>\n    <tr>\n      <th>1</th>\n      <td>Corey Perry</td>\n      <td>1</td>\n    </tr>\n    <tr>\n      <th>2</th>\n      <td>David Pastrnak</td>\n      <td>1</td>\n    </tr>\n    <tr>\n      <th>3</th>\n      <td>Ilya Kovalchuk</td>\n      <td>1</td>\n    </tr>\n    <tr>\n      <th>4</th>\n      <td>Jarome Iginla</td>\n      <td>2</td>\n    </tr>\n  </tbody>\n</table>\n</div>"
     },
     "metadata": {},
     "execution_count": 36
    }
   ],
   "source": [
    "# Drop columns that are not needed\n",
    "maurice_richard_grp_df = maurice_richard_grp_df.drop(['Team', 'Award'], axis=1)\n",
    "maurice_richard_grp_df.head()"
   ]
  },
  {
   "cell_type": "code",
   "execution_count": 37,
   "metadata": {},
   "outputs": [
    {
     "output_type": "execute_result",
     "data": {
      "text/plain": [
       "           Player  Maurice Richard Awards\n",
       "0   Alex Ovechkin                       9\n",
       "1     Corey Perry                       1\n",
       "2  David Pastrnak                       1\n",
       "3  Ilya Kovalchuk                       1\n",
       "4   Jarome Iginla                       2"
      ],
      "text/html": "<div>\n<style scoped>\n    .dataframe tbody tr th:only-of-type {\n        vertical-align: middle;\n    }\n\n    .dataframe tbody tr th {\n        vertical-align: top;\n    }\n\n    .dataframe thead th {\n        text-align: right;\n    }\n</style>\n<table border=\"1\" class=\"dataframe\">\n  <thead>\n    <tr style=\"text-align: right;\">\n      <th></th>\n      <th>Player</th>\n      <th>Maurice Richard Awards</th>\n    </tr>\n  </thead>\n  <tbody>\n    <tr>\n      <th>0</th>\n      <td>Alex Ovechkin</td>\n      <td>9</td>\n    </tr>\n    <tr>\n      <th>1</th>\n      <td>Corey Perry</td>\n      <td>1</td>\n    </tr>\n    <tr>\n      <th>2</th>\n      <td>David Pastrnak</td>\n      <td>1</td>\n    </tr>\n    <tr>\n      <th>3</th>\n      <td>Ilya Kovalchuk</td>\n      <td>1</td>\n    </tr>\n    <tr>\n      <th>4</th>\n      <td>Jarome Iginla</td>\n      <td>2</td>\n    </tr>\n  </tbody>\n</table>\n</div>"
     },
     "metadata": {},
     "execution_count": 37
    }
   ],
   "source": [
    "# Rename the year column to theaward name for the count\n",
    "maurice_richard_grp_df = maurice_richard_grp_df.rename(columns={\"Year\": \"Maurice Richard Awards\"})\n",
    "maurice_richard_grp_df.head()"
   ]
  },
  {
   "source": [
    "Merge all the award dataframes together and clean the data"
   ],
   "cell_type": "markdown",
   "metadata": {}
  },
  {
   "cell_type": "code",
   "execution_count": 38,
   "metadata": {},
   "outputs": [
    {
     "output_type": "execute_result",
     "data": {
      "text/plain": [
       "             Player  Art Ross Awards  Conn Smythe Awards\n",
       "0        Ace Bailey              1.0                 NaN\n",
       "1     Alex Ovechkin              1.0                 1.0\n",
       "2          Babe Dye              2.0                 NaN\n",
       "3  Bernie Geoffrion              2.0                 NaN\n",
       "4         Bill Cook              2.0                 NaN"
      ],
      "text/html": "<div>\n<style scoped>\n    .dataframe tbody tr th:only-of-type {\n        vertical-align: middle;\n    }\n\n    .dataframe tbody tr th {\n        vertical-align: top;\n    }\n\n    .dataframe thead th {\n        text-align: right;\n    }\n</style>\n<table border=\"1\" class=\"dataframe\">\n  <thead>\n    <tr style=\"text-align: right;\">\n      <th></th>\n      <th>Player</th>\n      <th>Art Ross Awards</th>\n      <th>Conn Smythe Awards</th>\n    </tr>\n  </thead>\n  <tbody>\n    <tr>\n      <th>0</th>\n      <td>Ace Bailey</td>\n      <td>1.0</td>\n      <td>NaN</td>\n    </tr>\n    <tr>\n      <th>1</th>\n      <td>Alex Ovechkin</td>\n      <td>1.0</td>\n      <td>1.0</td>\n    </tr>\n    <tr>\n      <th>2</th>\n      <td>Babe Dye</td>\n      <td>2.0</td>\n      <td>NaN</td>\n    </tr>\n    <tr>\n      <th>3</th>\n      <td>Bernie Geoffrion</td>\n      <td>2.0</td>\n      <td>NaN</td>\n    </tr>\n    <tr>\n      <th>4</th>\n      <td>Bill Cook</td>\n      <td>2.0</td>\n      <td>NaN</td>\n    </tr>\n  </tbody>\n</table>\n</div>"
     },
     "metadata": {},
     "execution_count": 38
    }
   ],
   "source": [
    "# Merge the individual award files into one complete file\n",
    "awards_merge_df = pd.merge(art_ross_grp_df,\n",
    "                 conn_smythe_grp_df[['Player', 'Conn Smythe Awards']],\n",
    "                 on='Player', how='outer')\n",
    "awards_merge_df.head()"
   ]
  },
  {
   "cell_type": "code",
   "execution_count": 39,
   "metadata": {},
   "outputs": [
    {
     "output_type": "execute_result",
     "data": {
      "text/plain": [
       "             Player  Art Ross Awards  Conn Smythe Awards  Hart Awards\n",
       "0        Ace Bailey              1.0                 NaN          NaN\n",
       "1     Alex Ovechkin              1.0                 1.0          3.0\n",
       "2          Babe Dye              2.0                 NaN          NaN\n",
       "3  Bernie Geoffrion              2.0                 NaN          1.0\n",
       "4         Bill Cook              2.0                 NaN          NaN"
      ],
      "text/html": "<div>\n<style scoped>\n    .dataframe tbody tr th:only-of-type {\n        vertical-align: middle;\n    }\n\n    .dataframe tbody tr th {\n        vertical-align: top;\n    }\n\n    .dataframe thead th {\n        text-align: right;\n    }\n</style>\n<table border=\"1\" class=\"dataframe\">\n  <thead>\n    <tr style=\"text-align: right;\">\n      <th></th>\n      <th>Player</th>\n      <th>Art Ross Awards</th>\n      <th>Conn Smythe Awards</th>\n      <th>Hart Awards</th>\n    </tr>\n  </thead>\n  <tbody>\n    <tr>\n      <th>0</th>\n      <td>Ace Bailey</td>\n      <td>1.0</td>\n      <td>NaN</td>\n      <td>NaN</td>\n    </tr>\n    <tr>\n      <th>1</th>\n      <td>Alex Ovechkin</td>\n      <td>1.0</td>\n      <td>1.0</td>\n      <td>3.0</td>\n    </tr>\n    <tr>\n      <th>2</th>\n      <td>Babe Dye</td>\n      <td>2.0</td>\n      <td>NaN</td>\n      <td>NaN</td>\n    </tr>\n    <tr>\n      <th>3</th>\n      <td>Bernie Geoffrion</td>\n      <td>2.0</td>\n      <td>NaN</td>\n      <td>1.0</td>\n    </tr>\n    <tr>\n      <th>4</th>\n      <td>Bill Cook</td>\n      <td>2.0</td>\n      <td>NaN</td>\n      <td>NaN</td>\n    </tr>\n  </tbody>\n</table>\n</div>"
     },
     "metadata": {},
     "execution_count": 39
    }
   ],
   "source": [
    "# Merge the individual award files into one complete file\n",
    "awards_merge_df = pd.merge(awards_merge_df,\n",
    "                 hart_grp_df[['Player', 'Hart Awards']],\n",
    "                 on='Player', how='outer')\n",
    "awards_merge_df.head()"
   ]
  },
  {
   "cell_type": "code",
   "execution_count": 40,
   "metadata": {},
   "outputs": [
    {
     "output_type": "execute_result",
     "data": {
      "text/plain": [
       "             Player  Art Ross Awards  Conn Smythe Awards  Hart Awards  \\\n",
       "0        Ace Bailey              1.0                 NaN          NaN   \n",
       "1     Alex Ovechkin              1.0                 1.0          3.0   \n",
       "2          Babe Dye              2.0                 NaN          NaN   \n",
       "3  Bernie Geoffrion              2.0                 NaN          1.0   \n",
       "4         Bill Cook              2.0                 NaN          NaN   \n",
       "\n",
       "   Calder Awards  \n",
       "0            NaN  \n",
       "1            1.0  \n",
       "2            NaN  \n",
       "3            1.0  \n",
       "4            NaN  "
      ],
      "text/html": "<div>\n<style scoped>\n    .dataframe tbody tr th:only-of-type {\n        vertical-align: middle;\n    }\n\n    .dataframe tbody tr th {\n        vertical-align: top;\n    }\n\n    .dataframe thead th {\n        text-align: right;\n    }\n</style>\n<table border=\"1\" class=\"dataframe\">\n  <thead>\n    <tr style=\"text-align: right;\">\n      <th></th>\n      <th>Player</th>\n      <th>Art Ross Awards</th>\n      <th>Conn Smythe Awards</th>\n      <th>Hart Awards</th>\n      <th>Calder Awards</th>\n    </tr>\n  </thead>\n  <tbody>\n    <tr>\n      <th>0</th>\n      <td>Ace Bailey</td>\n      <td>1.0</td>\n      <td>NaN</td>\n      <td>NaN</td>\n      <td>NaN</td>\n    </tr>\n    <tr>\n      <th>1</th>\n      <td>Alex Ovechkin</td>\n      <td>1.0</td>\n      <td>1.0</td>\n      <td>3.0</td>\n      <td>1.0</td>\n    </tr>\n    <tr>\n      <th>2</th>\n      <td>Babe Dye</td>\n      <td>2.0</td>\n      <td>NaN</td>\n      <td>NaN</td>\n      <td>NaN</td>\n    </tr>\n    <tr>\n      <th>3</th>\n      <td>Bernie Geoffrion</td>\n      <td>2.0</td>\n      <td>NaN</td>\n      <td>1.0</td>\n      <td>1.0</td>\n    </tr>\n    <tr>\n      <th>4</th>\n      <td>Bill Cook</td>\n      <td>2.0</td>\n      <td>NaN</td>\n      <td>NaN</td>\n      <td>NaN</td>\n    </tr>\n  </tbody>\n</table>\n</div>"
     },
     "metadata": {},
     "execution_count": 40
    }
   ],
   "source": [
    "# Merge the individual award files into one complete file\n",
    "awards_merge_df = pd.merge(awards_merge_df,\n",
    "                 calder_memorial_grp_df[['Player', 'Calder Awards']],\n",
    "                 on='Player', how='outer')\n",
    "awards_merge_df.head()"
   ]
  },
  {
   "cell_type": "code",
   "execution_count": 41,
   "metadata": {},
   "outputs": [
    {
     "output_type": "execute_result",
     "data": {
      "text/plain": [
       "             Player  Art Ross Awards  Conn Smythe Awards  Hart Awards  \\\n",
       "0        Ace Bailey              1.0                 NaN          NaN   \n",
       "1     Alex Ovechkin              1.0                 1.0          3.0   \n",
       "2          Babe Dye              2.0                 NaN          NaN   \n",
       "3  Bernie Geoffrion              2.0                 NaN          1.0   \n",
       "4         Bill Cook              2.0                 NaN          NaN   \n",
       "\n",
       "   Calder Awards  James Norris Awards  \n",
       "0            NaN                  NaN  \n",
       "1            1.0                  NaN  \n",
       "2            NaN                  NaN  \n",
       "3            1.0                  NaN  \n",
       "4            NaN                  NaN  "
      ],
      "text/html": "<div>\n<style scoped>\n    .dataframe tbody tr th:only-of-type {\n        vertical-align: middle;\n    }\n\n    .dataframe tbody tr th {\n        vertical-align: top;\n    }\n\n    .dataframe thead th {\n        text-align: right;\n    }\n</style>\n<table border=\"1\" class=\"dataframe\">\n  <thead>\n    <tr style=\"text-align: right;\">\n      <th></th>\n      <th>Player</th>\n      <th>Art Ross Awards</th>\n      <th>Conn Smythe Awards</th>\n      <th>Hart Awards</th>\n      <th>Calder Awards</th>\n      <th>James Norris Awards</th>\n    </tr>\n  </thead>\n  <tbody>\n    <tr>\n      <th>0</th>\n      <td>Ace Bailey</td>\n      <td>1.0</td>\n      <td>NaN</td>\n      <td>NaN</td>\n      <td>NaN</td>\n      <td>NaN</td>\n    </tr>\n    <tr>\n      <th>1</th>\n      <td>Alex Ovechkin</td>\n      <td>1.0</td>\n      <td>1.0</td>\n      <td>3.0</td>\n      <td>1.0</td>\n      <td>NaN</td>\n    </tr>\n    <tr>\n      <th>2</th>\n      <td>Babe Dye</td>\n      <td>2.0</td>\n      <td>NaN</td>\n      <td>NaN</td>\n      <td>NaN</td>\n      <td>NaN</td>\n    </tr>\n    <tr>\n      <th>3</th>\n      <td>Bernie Geoffrion</td>\n      <td>2.0</td>\n      <td>NaN</td>\n      <td>1.0</td>\n      <td>1.0</td>\n      <td>NaN</td>\n    </tr>\n    <tr>\n      <th>4</th>\n      <td>Bill Cook</td>\n      <td>2.0</td>\n      <td>NaN</td>\n      <td>NaN</td>\n      <td>NaN</td>\n      <td>NaN</td>\n    </tr>\n  </tbody>\n</table>\n</div>"
     },
     "metadata": {},
     "execution_count": 41
    }
   ],
   "source": [
    "# Merge the individual award files into one complete file\n",
    "awards_merge_df = pd.merge(awards_merge_df,\n",
    "                 james_norris_grp_df[['Player', 'James Norris Awards']],\n",
    "                 on='Player', how='outer')\n",
    "awards_merge_df.head()"
   ]
  },
  {
   "cell_type": "code",
   "execution_count": 42,
   "metadata": {},
   "outputs": [
    {
     "output_type": "execute_result",
     "data": {
      "text/plain": [
       "             Player  Art Ross Awards  Conn Smythe Awards  Hart Awards  \\\n",
       "0        Ace Bailey              1.0                 NaN          NaN   \n",
       "1     Alex Ovechkin              1.0                 1.0          3.0   \n",
       "2          Babe Dye              2.0                 NaN          NaN   \n",
       "3  Bernie Geoffrion              2.0                 NaN          1.0   \n",
       "4         Bill Cook              2.0                 NaN          NaN   \n",
       "\n",
       "   Calder Awards  James Norris Awards  Ted Lindsay Awards  \n",
       "0            NaN                  NaN                 NaN  \n",
       "1            1.0                  NaN                 3.0  \n",
       "2            NaN                  NaN                 NaN  \n",
       "3            1.0                  NaN                 NaN  \n",
       "4            NaN                  NaN                 NaN  "
      ],
      "text/html": "<div>\n<style scoped>\n    .dataframe tbody tr th:only-of-type {\n        vertical-align: middle;\n    }\n\n    .dataframe tbody tr th {\n        vertical-align: top;\n    }\n\n    .dataframe thead th {\n        text-align: right;\n    }\n</style>\n<table border=\"1\" class=\"dataframe\">\n  <thead>\n    <tr style=\"text-align: right;\">\n      <th></th>\n      <th>Player</th>\n      <th>Art Ross Awards</th>\n      <th>Conn Smythe Awards</th>\n      <th>Hart Awards</th>\n      <th>Calder Awards</th>\n      <th>James Norris Awards</th>\n      <th>Ted Lindsay Awards</th>\n    </tr>\n  </thead>\n  <tbody>\n    <tr>\n      <th>0</th>\n      <td>Ace Bailey</td>\n      <td>1.0</td>\n      <td>NaN</td>\n      <td>NaN</td>\n      <td>NaN</td>\n      <td>NaN</td>\n      <td>NaN</td>\n    </tr>\n    <tr>\n      <th>1</th>\n      <td>Alex Ovechkin</td>\n      <td>1.0</td>\n      <td>1.0</td>\n      <td>3.0</td>\n      <td>1.0</td>\n      <td>NaN</td>\n      <td>3.0</td>\n    </tr>\n    <tr>\n      <th>2</th>\n      <td>Babe Dye</td>\n      <td>2.0</td>\n      <td>NaN</td>\n      <td>NaN</td>\n      <td>NaN</td>\n      <td>NaN</td>\n      <td>NaN</td>\n    </tr>\n    <tr>\n      <th>3</th>\n      <td>Bernie Geoffrion</td>\n      <td>2.0</td>\n      <td>NaN</td>\n      <td>1.0</td>\n      <td>1.0</td>\n      <td>NaN</td>\n      <td>NaN</td>\n    </tr>\n    <tr>\n      <th>4</th>\n      <td>Bill Cook</td>\n      <td>2.0</td>\n      <td>NaN</td>\n      <td>NaN</td>\n      <td>NaN</td>\n      <td>NaN</td>\n      <td>NaN</td>\n    </tr>\n  </tbody>\n</table>\n</div>"
     },
     "metadata": {},
     "execution_count": 42
    }
   ],
   "source": [
    "# Merge the individual award files into one complete file\n",
    "awards_merge_df = pd.merge(awards_merge_df,\n",
    "                 ted_lindsay_grp_df[['Player', 'Ted Lindsay Awards']],\n",
    "                 on='Player', how='outer')\n",
    "awards_merge_df.head()"
   ]
  },
  {
   "cell_type": "code",
   "execution_count": 43,
   "metadata": {},
   "outputs": [
    {
     "output_type": "execute_result",
     "data": {
      "text/plain": [
       "             Player  Art Ross Awards  Conn Smythe Awards  Hart Awards  \\\n",
       "0        Ace Bailey              1.0                 NaN          NaN   \n",
       "1     Alex Ovechkin              1.0                 1.0          3.0   \n",
       "2          Babe Dye              2.0                 NaN          NaN   \n",
       "3  Bernie Geoffrion              2.0                 NaN          1.0   \n",
       "4         Bill Cook              2.0                 NaN          NaN   \n",
       "\n",
       "   Calder Awards  James Norris Awards  Ted Lindsay Awards  \\\n",
       "0            NaN                  NaN                 NaN   \n",
       "1            1.0                  NaN                 3.0   \n",
       "2            NaN                  NaN                 NaN   \n",
       "3            1.0                  NaN                 NaN   \n",
       "4            NaN                  NaN                 NaN   \n",
       "\n",
       "   Maurice Richard Awards  \n",
       "0                     NaN  \n",
       "1                     9.0  \n",
       "2                     NaN  \n",
       "3                     NaN  \n",
       "4                     NaN  "
      ],
      "text/html": "<div>\n<style scoped>\n    .dataframe tbody tr th:only-of-type {\n        vertical-align: middle;\n    }\n\n    .dataframe tbody tr th {\n        vertical-align: top;\n    }\n\n    .dataframe thead th {\n        text-align: right;\n    }\n</style>\n<table border=\"1\" class=\"dataframe\">\n  <thead>\n    <tr style=\"text-align: right;\">\n      <th></th>\n      <th>Player</th>\n      <th>Art Ross Awards</th>\n      <th>Conn Smythe Awards</th>\n      <th>Hart Awards</th>\n      <th>Calder Awards</th>\n      <th>James Norris Awards</th>\n      <th>Ted Lindsay Awards</th>\n      <th>Maurice Richard Awards</th>\n    </tr>\n  </thead>\n  <tbody>\n    <tr>\n      <th>0</th>\n      <td>Ace Bailey</td>\n      <td>1.0</td>\n      <td>NaN</td>\n      <td>NaN</td>\n      <td>NaN</td>\n      <td>NaN</td>\n      <td>NaN</td>\n      <td>NaN</td>\n    </tr>\n    <tr>\n      <th>1</th>\n      <td>Alex Ovechkin</td>\n      <td>1.0</td>\n      <td>1.0</td>\n      <td>3.0</td>\n      <td>1.0</td>\n      <td>NaN</td>\n      <td>3.0</td>\n      <td>9.0</td>\n    </tr>\n    <tr>\n      <th>2</th>\n      <td>Babe Dye</td>\n      <td>2.0</td>\n      <td>NaN</td>\n      <td>NaN</td>\n      <td>NaN</td>\n      <td>NaN</td>\n      <td>NaN</td>\n      <td>NaN</td>\n    </tr>\n    <tr>\n      <th>3</th>\n      <td>Bernie Geoffrion</td>\n      <td>2.0</td>\n      <td>NaN</td>\n      <td>1.0</td>\n      <td>1.0</td>\n      <td>NaN</td>\n      <td>NaN</td>\n      <td>NaN</td>\n    </tr>\n    <tr>\n      <th>4</th>\n      <td>Bill Cook</td>\n      <td>2.0</td>\n      <td>NaN</td>\n      <td>NaN</td>\n      <td>NaN</td>\n      <td>NaN</td>\n      <td>NaN</td>\n      <td>NaN</td>\n    </tr>\n  </tbody>\n</table>\n</div>"
     },
     "metadata": {},
     "execution_count": 43
    }
   ],
   "source": [
    "# Merge the individual award files into one complete file\n",
    "awards_merge_df = pd.merge(awards_merge_df,\n",
    "                 maurice_richard_grp_df[['Player', 'Maurice Richard Awards']],\n",
    "                 on='Player', how='outer')\n",
    "awards_merge_df.head()"
   ]
  },
  {
   "cell_type": "code",
   "execution_count": 44,
   "metadata": {},
   "outputs": [
    {
     "output_type": "execute_result",
     "data": {
      "text/plain": [
       "               Player  Art Ross Awards  Conn Smythe Awards  Hart Awards  \\\n",
       "0          Ace Bailey              1.0                 NaN          NaN   \n",
       "1  Alexander Ovechkin              1.0                 1.0          3.0   \n",
       "2            Babe Dye              2.0                 NaN          NaN   \n",
       "3   Bernard Geoffrion              2.0                 NaN          1.0   \n",
       "4           Bill Cook              2.0                 NaN          NaN   \n",
       "\n",
       "   Calder Awards  James Norris Awards  Ted Lindsay Awards  \\\n",
       "0            NaN                  NaN                 NaN   \n",
       "1            1.0                  NaN                 3.0   \n",
       "2            NaN                  NaN                 NaN   \n",
       "3            1.0                  NaN                 NaN   \n",
       "4            NaN                  NaN                 NaN   \n",
       "\n",
       "   Maurice Richard Awards  \n",
       "0                     NaN  \n",
       "1                     9.0  \n",
       "2                     NaN  \n",
       "3                     NaN  \n",
       "4                     NaN  "
      ],
      "text/html": "<div>\n<style scoped>\n    .dataframe tbody tr th:only-of-type {\n        vertical-align: middle;\n    }\n\n    .dataframe tbody tr th {\n        vertical-align: top;\n    }\n\n    .dataframe thead th {\n        text-align: right;\n    }\n</style>\n<table border=\"1\" class=\"dataframe\">\n  <thead>\n    <tr style=\"text-align: right;\">\n      <th></th>\n      <th>Player</th>\n      <th>Art Ross Awards</th>\n      <th>Conn Smythe Awards</th>\n      <th>Hart Awards</th>\n      <th>Calder Awards</th>\n      <th>James Norris Awards</th>\n      <th>Ted Lindsay Awards</th>\n      <th>Maurice Richard Awards</th>\n    </tr>\n  </thead>\n  <tbody>\n    <tr>\n      <th>0</th>\n      <td>Ace Bailey</td>\n      <td>1.0</td>\n      <td>NaN</td>\n      <td>NaN</td>\n      <td>NaN</td>\n      <td>NaN</td>\n      <td>NaN</td>\n      <td>NaN</td>\n    </tr>\n    <tr>\n      <th>1</th>\n      <td>Alexander Ovechkin</td>\n      <td>1.0</td>\n      <td>1.0</td>\n      <td>3.0</td>\n      <td>1.0</td>\n      <td>NaN</td>\n      <td>3.0</td>\n      <td>9.0</td>\n    </tr>\n    <tr>\n      <th>2</th>\n      <td>Babe Dye</td>\n      <td>2.0</td>\n      <td>NaN</td>\n      <td>NaN</td>\n      <td>NaN</td>\n      <td>NaN</td>\n      <td>NaN</td>\n      <td>NaN</td>\n    </tr>\n    <tr>\n      <th>3</th>\n      <td>Bernard Geoffrion</td>\n      <td>2.0</td>\n      <td>NaN</td>\n      <td>1.0</td>\n      <td>1.0</td>\n      <td>NaN</td>\n      <td>NaN</td>\n      <td>NaN</td>\n    </tr>\n    <tr>\n      <th>4</th>\n      <td>Bill Cook</td>\n      <td>2.0</td>\n      <td>NaN</td>\n      <td>NaN</td>\n      <td>NaN</td>\n      <td>NaN</td>\n      <td>NaN</td>\n      <td>NaN</td>\n    </tr>\n  </tbody>\n</table>\n</div>"
     },
     "metadata": {},
     "execution_count": 44
    }
   ],
   "source": [
    "# Change mismatch names to match across files\n",
    "awards_merge_df = awards_merge_df.replace(\"Alex Ovechkin\", \"Alexander Ovechkin\")\n",
    "awards_merge_df = awards_merge_df.replace(\"Bernie Geoffrion\", \"Bernard Geoffrion\")\n",
    "awards_merge_df = awards_merge_df.replace(\"Evgeni Malkin\", \"Yevgeni Malkin\")\n",
    "awards_merge_df = awards_merge_df.replace(\"Johnny Quilty\", \"John Quilty\")\n",
    "awards_merge_df = awards_merge_df.replace(\"Ray Bourque\", \"Raymond Bourque\")\n",
    "awards_merge_df = awards_merge_df.replace(\"Sweeney Schriner\", \"David Schriner\")\n",
    "awards_merge_df = awards_merge_df.replace(\"Tommy Anderson\", \"Tom Anderson\")\n",
    "awards_merge_df.head()"
   ]
  },
  {
   "cell_type": "code",
   "execution_count": 49,
   "metadata": {},
   "outputs": [
    {
     "output_type": "execute_result",
     "data": {
      "text/plain": [
       "               Player  Art Ross Awards  Conn Smythe Awards  Hart Awards  \\\n",
       "0          Ace Bailey              1.0                 0.0          0.0   \n",
       "1  Alexander Ovechkin              1.0                 1.0          3.0   \n",
       "2            Babe Dye              2.0                 0.0          0.0   \n",
       "3   Bernard Geoffrion              2.0                 0.0          1.0   \n",
       "4           Bill Cook              2.0                 0.0          0.0   \n",
       "\n",
       "   Calder Awards  James Norris Awards  Ted Lindsay Awards  \\\n",
       "0            0.0                  0.0                 0.0   \n",
       "1            1.0                  0.0                 3.0   \n",
       "2            0.0                  0.0                 0.0   \n",
       "3            1.0                  0.0                 0.0   \n",
       "4            0.0                  0.0                 0.0   \n",
       "\n",
       "   Maurice Richard Awards  Awards  \n",
       "0                     0.0     1.0  \n",
       "1                     9.0     5.0  \n",
       "2                     0.0     2.0  \n",
       "3                     0.0     3.0  \n",
       "4                     0.0     2.0  "
      ],
      "text/html": "<div>\n<style scoped>\n    .dataframe tbody tr th:only-of-type {\n        vertical-align: middle;\n    }\n\n    .dataframe tbody tr th {\n        vertical-align: top;\n    }\n\n    .dataframe thead th {\n        text-align: right;\n    }\n</style>\n<table border=\"1\" class=\"dataframe\">\n  <thead>\n    <tr style=\"text-align: right;\">\n      <th></th>\n      <th>Player</th>\n      <th>Art Ross Awards</th>\n      <th>Conn Smythe Awards</th>\n      <th>Hart Awards</th>\n      <th>Calder Awards</th>\n      <th>James Norris Awards</th>\n      <th>Ted Lindsay Awards</th>\n      <th>Maurice Richard Awards</th>\n      <th>Awards</th>\n    </tr>\n  </thead>\n  <tbody>\n    <tr>\n      <th>0</th>\n      <td>Ace Bailey</td>\n      <td>1.0</td>\n      <td>0.0</td>\n      <td>0.0</td>\n      <td>0.0</td>\n      <td>0.0</td>\n      <td>0.0</td>\n      <td>0.0</td>\n      <td>1.0</td>\n    </tr>\n    <tr>\n      <th>1</th>\n      <td>Alexander Ovechkin</td>\n      <td>1.0</td>\n      <td>1.0</td>\n      <td>3.0</td>\n      <td>1.0</td>\n      <td>0.0</td>\n      <td>3.0</td>\n      <td>9.0</td>\n      <td>5.0</td>\n    </tr>\n    <tr>\n      <th>2</th>\n      <td>Babe Dye</td>\n      <td>2.0</td>\n      <td>0.0</td>\n      <td>0.0</td>\n      <td>0.0</td>\n      <td>0.0</td>\n      <td>0.0</td>\n      <td>0.0</td>\n      <td>2.0</td>\n    </tr>\n    <tr>\n      <th>3</th>\n      <td>Bernard Geoffrion</td>\n      <td>2.0</td>\n      <td>0.0</td>\n      <td>1.0</td>\n      <td>1.0</td>\n      <td>0.0</td>\n      <td>0.0</td>\n      <td>0.0</td>\n      <td>3.0</td>\n    </tr>\n    <tr>\n      <th>4</th>\n      <td>Bill Cook</td>\n      <td>2.0</td>\n      <td>0.0</td>\n      <td>0.0</td>\n      <td>0.0</td>\n      <td>0.0</td>\n      <td>0.0</td>\n      <td>0.0</td>\n      <td>2.0</td>\n    </tr>\n  </tbody>\n</table>\n</div>"
     },
     "metadata": {},
     "execution_count": 49
    }
   ],
   "source": [
    "awards_merge_df = awards_merge_df.fillna(0)\n",
    "awards_merge_df['Awards'] = awards_merge_df['Art Ross Awards'] + awards_merge_df['Conn Smythe Awards'] + awards_merge_df['Hart Awards'] +\n",
    "                                            awards_merge_df['Calder Awards'] + awards_merge_df['James Norris Awards'] +\n",
    "                                             awards_merge_df['Ted Lindsay Awards'] + awards_merge_df['Maurice Richard Awards']\n",
    "awards_merge_df.head()"
   ]
  },
  {
   "source": [
    "Scrape the data from url to get the players Stanley Cup wins"
   ],
   "cell_type": "markdown",
   "metadata": {}
  },
  {
   "cell_type": "code",
   "execution_count": null,
   "metadata": {},
   "outputs": [],
   "source": [
    "# Scrape the data for Stanley Cup wins by player\n",
    "from selenium.webdriver import Chrome\n",
    "from selenium.webdriver.chrome.options import Options\n",
    "from splinter.driver.webdriver import BaseWebDriver, WebDriverElement"
   ]
  },
  {
   "cell_type": "code",
   "execution_count": null,
   "metadata": {},
   "outputs": [],
   "source": [
    "options = Options()\n",
    "options.add_argument('--no-sandbox')\n",
    "executable_path = {'executable_path': 'chromedriver.exe'}\n",
    "browser = Browser('chrome', **executable_path, headless=False, chrome_options=options)"
   ]
  },
  {
   "cell_type": "code",
   "execution_count": null,
   "metadata": {},
   "outputs": [],
   "source": [
    "# Set URL to the stanley Cup records page\n",
    "url = 'https://records.nhl.com/records/playoff-skater-records/stanley-cups/skater-most-stanley-cups-won-career'\n",
    "browser.visit(url)"
   ]
  },
  {
   "cell_type": "code",
   "execution_count": null,
   "metadata": {},
   "outputs": [],
   "source": [
    "# Scrape the data for Stanley Cup wins from the url\n",
    "my_list = []\n",
    "\n",
    "for i in range(1, 23):\n",
    "#     print(i)\n",
    "\n",
    "    html = browser.html\n",
    "    soup = BeautifulSoup(html, 'html.parser')\n",
    "\n",
    "    rows = soup.find_all('div', class_='rt-tr-group')\n",
    "    for row in rows:\n",
    "        cells = row.find_all('div', class_='rt-td')\n",
    "\n",
    "        data = {\n",
    "            'Player':cells[1].text,\n",
    "            'Pos':cells[2].text,\n",
    "            'Cups':cells[3].text\n",
    "        }\n",
    "\n",
    "        my_list.append(data)\n",
    "    if i < 22:\n",
    "        browser.find_by_text('Next').click()\n",
    "\n",
    "my_list"
   ]
  },
  {
   "cell_type": "code",
   "execution_count": null,
   "metadata": {},
   "outputs": [],
   "source": [
    "# Convert the list to a dataframe\n",
    "stanley_cup_df = pd.DataFrame(my_list)\n",
    "stanley_cup_df.head()"
   ]
  },
  {
   "cell_type": "code",
   "execution_count": null,
   "metadata": {},
   "outputs": [],
   "source": [
    "# Filter out the goal tenders.\n",
    "stanley_cup_df = stanley_cup_df[stanley_cup_df['Pos'] != 'G'] \n",
    "stanley_cup_df.head()"
   ]
  },
  {
   "cell_type": "code",
   "execution_count": null,
   "metadata": {},
   "outputs": [],
   "source": [
    "# Drop columns that are not needed\n",
    "stanley_cup_df = stanley_cup_df.drop(['Pos'], axis=1)\n",
    "stanley_cup_df.head()"
   ]
  },
  {
   "cell_type": "code",
   "execution_count": null,
   "metadata": {},
   "outputs": [],
   "source": [
    "# Change names to match the master stats\n",
    "stanley_cup_df = stanley_cup_df.replace(\"Alex Ovechkin\", \"Alexander Ovechkin\")\n",
    "stanley_cup_df = stanley_cup_df.replace(\"Bernie Geoffrion\", \"Bernard Geoffrion\")\n",
    "stanley_cup_df = stanley_cup_df.replace(\"Evgeni Malkin\", \"Yevgeni Malkin\")\n",
    "stanley_cup_df = stanley_cup_df.replace(\"Johnny Quilty\", \"John Quilty\")\n",
    "stanley_cup_df = stanley_cup_df.replace(\"Ray Bourque\", \"Raymond Bourque\")\n",
    "stanley_cup_df = stanley_cup_df.replace(\"Sweeney Schriner\", \"David Schriner\")\n",
    "stanley_cup_df = stanley_cup_df.replace(\"Tommy Anderson\", \"Tom Anderson\")\n",
    "stanley_cup_df = stanley_cup_df.replace(\"Bob Sirois\", \"Robert Sirois\")\n",
    "stanley_cup_df = stanley_cup_df.replace(\"Bobby Nystrom\", \"Bob Nystrom\")\n",
    "stanley_cup_df = stanley_cup_df.replace(\"Bucky Hollingworth\", \"Gord Hollingworth\")\n",
    "stanley_cup_df = stanley_cup_df.replace(\"Daniel Girardi\", \"Dan Girardi\")\n",
    "stanley_cup_df = stanley_cup_df.replace(\"Dollard St. Laurent\", \"Dollard St-Laurent\")\n",
    "stanley_cup_df = stanley_cup_df.replace(\"Evgeny Kuznetsov\", \"Yevgeni Kuznetsov\")\n",
    "stanley_cup_df = stanley_cup_df.replace(\"Fern Flaman\", \"Fernie Flaman\")\n",
    "stanley_cup_df = stanley_cup_df.replace(\"George 'Hully' Gee\", \"George Gee\")\n",
    "stanley_cup_df = stanley_cup_df.replace(\"Hubert 'Pit' Martin\", \"Pit Martin\")\n",
    "stanley_cup_df = stanley_cup_df.replace(\"J.C. Tremblay\", \"Jean-Claude Tremblay\")\n",
    "stanley_cup_df = stanley_cup_df.replace(\"Jack Leclair\", \"Jackie LeClair\")\n",
    "stanley_cup_df = stanley_cup_df.replace(\"Joshua Bailey\", \"Josh Bailey\")\n",
    "stanley_cup_df = stanley_cup_df.replace(\"Kenny Mosdell\", \"Ken Mosdell\")\n",
    "stanley_cup_df = stanley_cup_df.replace(\"Kristopher Letang\", \"Kris Letang\")\n",
    "stanley_cup_df = stanley_cup_df.replace(\"Leonard 'Red' Kelly\", \"Red Kelly\")\n",
    "stanley_cup_df = stanley_cup_df.replace(\"Nicholas Boynton\", \"Nick Boynton\")\n",
    "stanley_cup_df = stanley_cup_df.replace(\"Nick Libett\", \"Lynn Libett\")\n",
    "stanley_cup_df = stanley_cup_df.replace(\"Oliver Ekman-Larsson\", \"Oliver Ekman Larsson\")\n",
    "stanley_cup_df = stanley_cup_df.replace(\"Quinton Hughes\", \"Quinn Hughes\")\n",
    "stanley_cup_df = stanley_cup_df.replace(\"Red Sullivan\", \"George Sullivan\")\n",
    "stanley_cup_df = stanley_cup_df.replace(\"Reg Fleming\", \"Reggie Fleming\")\n",
    "stanley_cup_df = stanley_cup_df.replace(\"Reg Sinclair\", \"Reggie Sinclair\")\n",
    "stanley_cup_df = stanley_cup_df.replace(\"Ron 'Chico' Maki\", \"Chico Maki\")\n",
    "stanley_cup_df = stanley_cup_df.replace(\"Sandis Ozolinsh\", \"Sandis Ozolins\")\n",
    "stanley_cup_df = stanley_cup_df.replace(\"Theoren Fleury\", \"Theo Fleury\")\n",
    "stanley_cup_df = stanley_cup_df.replace(\"Willie Huber\", \"William Huber\")\n",
    "stanley_cup_df = stanley_cup_df.replace(\"Zachary Werenski\", \"Zach Werenski\")\n",
    "stanley_cup_df = stanley_cup_df.replace(\"Al Langlois\", \"Albert Langlois\")\n",
    "stanley_cup_df = stanley_cup_df.replace(\"Al Shields\", \"Allan Shields\")\n",
    "stanley_cup_df = stanley_cup_df.replace(\"Alex Kovalev\", \"Alexei Kovalev\")\n",
    "stanley_cup_df = stanley_cup_df.replace(\"Aurel Joliat\", \"Aurele Joliat\")\n",
    "stanley_cup_df = stanley_cup_df.replace(\"Baldy Cotton\", \"Harold Cotton\")\n",
    "stanley_cup_df = stanley_cup_df.replace(\"Billy Boyd\", \"Bill Boyd\")\n",
    "stanley_cup_df = stanley_cup_df.replace(\"Billy Taylor Sr.\", \"Billy Taylor\")\n",
    "stanley_cup_df = stanley_cup_df.replace(\"Bingo Kampman\", \"Rudolph Kampman\")\n",
    "stanley_cup_df = stanley_cup_df.replace(\"Bob Fillion\", \"Robert Fillion\")\n",
    "stanley_cup_df = stanley_cup_df.replace(\"Bryan Hextall Sr.\", \"Bryan Hextall, Sr.\")\n",
    "stanley_cup_df = stanley_cup_df.replace(\"Butch Bouchard\", \"Emile Bouchard\")\n",
    "stanley_cup_df = stanley_cup_df.replace(\"Connie Broden\", \"Connell Broden\")\n",
    "stanley_cup_df = stanley_cup_df.replace(\"David Michayluk\", \"Dave Michayluk\")\n",
    "stanley_cup_df = stanley_cup_df.replace(\"Dimitri Afanasenkov\", \"Dmitri Afanasenkov\")\n",
    "stanley_cup_df = stanley_cup_df.replace(\"Dmitry Orlov\", \"Dmitri Orlov\")\n",
    "stanley_cup_df = stanley_cup_df.replace(\"Donnie Marshall\", \"Don Marshall\")\n",
    "stanley_cup_df = stanley_cup_df.replace(\"Dutch Gainor\", \"Norman Gainor\")\n",
    "stanley_cup_df = stanley_cup_df.replace(\"Dutch Hiller\", \"Wilbert Hiller\")\n",
    "stanley_cup_df = stanley_cup_df.replace(\"Dutch Reibel\", \"Earl Reibel\")\n",
    "stanley_cup_df = stanley_cup_df.replace(\"Ed Gorman\", \"Edwin Gorman\")\n",
    "stanley_cup_df = stanley_cup_df.replace(\"Eddie Olczyk\", \"Ed Olczyk\")\n",
    "stanley_cup_df = stanley_cup_df.replace(\"Fern Majeau\", \"Fernand Majeau\")\n",
    "stanley_cup_df = stanley_cup_df.replace(\"Frank Callighen\", \"Francis Callighen\")\n",
    "stanley_cup_df = stanley_cup_df.replace(\"Fred Cook\", \"Bun Cook\")\n",
    "stanley_cup_df = stanley_cup_df.replace(\"Freddy Modin\", \"Fredrik Modin\")\n",
    "stanley_cup_df = stanley_cup_df.replace(\"George Boucher\", \"Buck Boucher\")\n",
    "stanley_cup_df = stanley_cup_df.replace(\"Gord Pettinger\", \"Gordon Pettinger\")\n",
    "stanley_cup_df = stanley_cup_df.replace(\"Hobie Kitchen\", \"Chapman Kitchen\")\n",
    "stanley_cup_df = stanley_cup_df.replace(\"Ivan Barbashev\", \"Ivan Barbashyov\")\n",
    "stanley_cup_df = stanley_cup_df.replace(\"J.C. Tremblay\", \"Jean-Claude Tremblay\")\n",
    "stanley_cup_df = stanley_cup_df.replace(\"J.J. Daigneault\", \"Jean-Jacques Daigneault\")\n",
    "stanley_cup_df = stanley_cup_df.replace(\"Jimmy Peters\", \"Jim Peters\")\n",
    "stanley_cup_df = stanley_cup_df.replace(\"Johnny Sheppard\", \"John Sheppard\")\n",
    "stanley_cup_df = stanley_cup_df.replace(\"Lou Trudel\", \"Louis Trudel\")\n",
    "stanley_cup_df = stanley_cup_df.replace(\"Max Talbot\", \"Maxime Talbot\")\n",
    "stanley_cup_df = stanley_cup_df.replace(\"Michael Needham\", \"Mike Needham\")\n",
    "stanley_cup_df = stanley_cup_df.replace(\"Michael Zigomanis\", \"Mike Zigomanis\")\n",
    "stanley_cup_df = stanley_cup_df.replace(\"Mikhail Sergachev\", \"Mikhail Sergachyov\")\n",
    "stanley_cup_df = stanley_cup_df.replace(\"Moe Lemay\", \"Maurice Lemay\")\n",
    "stanley_cup_df = stanley_cup_df.replace(\"Moe Morris\", \"Elwyn Morris\")\n",
    "stanley_cup_df = stanley_cup_df.replace(\"Moose Vasko\", \"Elmer Vasko\")\n",
    "stanley_cup_df = stanley_cup_df.replace(\"Murph Chamberlain\", \"Erwin Chamberlain\")\n",
    "stanley_cup_df = stanley_cup_df.replace(\"Muzz Patrick\", \"Murray Patrick\")\n",
    "stanley_cup_df = stanley_cup_df.replace(\"Ott Heller\", \"Ehrhardt Heller\")\n",
    "stanley_cup_df = stanley_cup_df.replace(\"Paul Di Pietro\", \"Paul DiPietro\")\n",
    "stanley_cup_df = stanley_cup_df.replace(\"Peter Mahovlich\", \"Pete Mahovlich\")\n",
    "stanley_cup_df = stanley_cup_df.replace(\"Pit Lepine\", \"Alfred Lepine\")\n",
    "stanley_cup_df = stanley_cup_df.replace(\"Punch Broadbent\", \"Harry Broadbent\")\n",
    "stanley_cup_df = stanley_cup_df.replace(\"Sam Rothschild\", \"Samuel Rothschild\")\n",
    "stanley_cup_df = stanley_cup_df.replace(\"Sammy Blais\", \"Samuel Blais\")\n",
    "stanley_cup_df = stanley_cup_df.replace(\"Slava Voynov\", \"Vyacheslav Voynov\")\n",
    "stanley_cup_df = stanley_cup_df.replace(\"Stan Neckar\", \"Stanislav Neckar\")\n",
    "stanley_cup_df = stanley_cup_df.replace(\"Steve Reinprecht\", \"Steven Reinprecht\")\n",
    "stanley_cup_df = stanley_cup_df.replace(\"Viacheslav Fetisov\", \"Vyacheslav Fetisov\")\n",
    "stanley_cup_df = stanley_cup_df.replace(\"Lee Fogolin Jr.\", \"Lee Fogolin, Jr.\")\n",
    "stanley_cup_df = stanley_cup_df.replace(\"Bryan Hextall Sr.\", \"Bryan Hextall, Sr.\")\n",
    "stanley_cup_df.head()"
   ]
  },
  {
   "source": [
    "Merge the Stanley Cup win dataframe to the awards dataframe."
   ],
   "cell_type": "markdown",
   "metadata": {}
  },
  {
   "cell_type": "code",
   "execution_count": null,
   "metadata": {},
   "outputs": [],
   "source": [
    "# Merge the individual award files into one complete file\n",
    "awards_merge_df = pd.merge(awards_merge_df,\n",
    "                 stanley_cup_df[['Player', 'Cups']],\n",
    "                 on='Player', how='outer')\n",
    "awards_merge_df.head()"
   ]
  },
  {
   "source": [
    "Scrape the data from url to get the player all-star game appearances"
   ],
   "cell_type": "markdown",
   "metadata": {}
  },
  {
   "cell_type": "code",
   "execution_count": null,
   "metadata": {},
   "outputs": [],
   "source": [
    "# Scrape data for all-star game appearances.\n",
    "all_star_tables = []\n",
    "\n",
    "for page in range(1,19):\n",
    "    url = f'https://www.quanthockey.com/scripts/AjaxPaginate.php?cat=Records&pos=Players&SS=&af=0&nat=alltime&st=5&sort=points&so=&page={page}&league=NHL%20All-Star%20Game&lang=en&rnd=651834569&dt=1&sd=undefined&ed=undefined'\n",
    "\n",
    "    print('page:', page, '-------------')\n",
    "\n",
    "    # find the table\n",
    "    table = pd.read_html(url)\n",
    "    df = table[0]\n",
    "    # delete unneeded column\n",
    "    del df['Unnamed: 1']\n",
    "    # convert games played column to integer\n",
    "    df['GP'] = df['GP'].astype(int)\n",
    "    all_star_tables.append(df)\n",
    "    \n",
    "print(\"Scraping completed!\")"
   ]
  },
  {
   "cell_type": "code",
   "execution_count": null,
   "metadata": {},
   "outputs": [],
   "source": [
    "# Combined the 18 tables of data to one dataframe \n",
    "all_star_df = pd.concat(all_star_tables, ignore_index=True)\n",
    "all_star_df.head()"
   ]
  },
  {
   "cell_type": "code",
   "execution_count": null,
   "metadata": {},
   "outputs": [],
   "source": [
    "# Remove goalies from dataframe\n",
    "all_star_df = all_star_df[all_star_df['Pos'] != 'G'] \n",
    "all_star_df.head()"
   ]
  },
  {
   "cell_type": "code",
   "execution_count": null,
   "metadata": {},
   "outputs": [],
   "source": [
    "# Change names to match the master stat file\n",
    "all_star_df = all_star_df.replace(\"Alex Ovechkin\", \"Alexander Ovechkin\")\n",
    "all_star_df = all_star_df.replace(\"Bernie Geoffrion\", \"Bernard Geoffrion\")\n",
    "all_star_df = all_star_df.replace(\"Evgeni Malkin\", \"Yevgeni Malkin\")\n",
    "all_star_df = all_star_df.replace(\"Johnny Quilty\", \"John Quilty\")\n",
    "all_star_df = all_star_df.replace(\"Ray Bourque\", \"Raymond Bourque\")\n",
    "all_star_df = all_star_df.replace(\"Sweeney Schriner\", \"David Schriner\")\n",
    "all_star_df = all_star_df.replace(\"Tommy Anderson\", \"Tom Anderson\")\n",
    "all_star_df = all_star_df.replace(\"Bob Sirois\", \"Robert Sirois\")\n",
    "all_star_df = all_star_df.replace(\"Bobby Nystrom\", \"Bob Nystrom\")\n",
    "all_star_df = all_star_df.replace(\"Bucky Hollingworth\", \"Gord Hollingworth\")\n",
    "all_star_df = all_star_df.replace(\"Daniel Girardi\", \"Dan Girardi\")\n",
    "all_star_df = all_star_df.replace(\"Dollard St. Laurent\", \"Dollard St-Laurent\")\n",
    "all_star_df = all_star_df.replace(\"Evgeny Kuznetsov\", \"Yevgeni Kuznetsov\")\n",
    "all_star_df = all_star_df.replace(\"Fern Flaman\", \"Fernie Flaman\")\n",
    "all_star_df = all_star_df.replace(\"George 'Hully' Gee\", \"George Gee\")\n",
    "all_star_df = all_star_df.replace(\"Hubert 'Pit' Martin\", \"Pit Martin\")\n",
    "all_star_df = all_star_df.replace(\"J.C. Tremblay\", \"Jean-Claude Tremblay\")\n",
    "all_star_df = all_star_df.replace(\"Jack Leclair\", \"Jackie LeClair\")\n",
    "all_star_df = all_star_df.replace(\"Joshua Bailey\", \"Josh Bailey\")\n",
    "all_star_df = all_star_df.replace(\"Kenny Mosdell\", \"Ken Mosdell\")\n",
    "all_star_df = all_star_df.replace(\"Kristopher Letang\", \"Kris Letang\")\n",
    "all_star_df = all_star_df.replace(\"Leonard 'Red' Kelly\", \"Red Kelly\")\n",
    "all_star_df = all_star_df.replace(\"Nicholas Boynton\", \"Nick Boynton\")\n",
    "all_star_df = all_star_df.replace(\"Nick Libett\", \"Lynn Libett\")\n",
    "all_star_df = all_star_df.replace(\"Oliver Ekman-Larsson\", \"Oliver Ekman Larsson\")\n",
    "all_star_df = all_star_df.replace(\"Quinton Hughes\", \"Quinn Hughes\")\n",
    "all_star_df = all_star_df.replace(\"Red Sullivan\", \"George Sullivan\")\n",
    "all_star_df = all_star_df.replace(\"Reg Fleming\", \"Reggie Fleming\")\n",
    "all_star_df = all_star_df.replace(\"Reg Sinclair\", \"Reggie Sinclair\")\n",
    "all_star_df = all_star_df.replace(\"Ron 'Chico' Maki\", \"Chico Maki\")\n",
    "all_star_df = all_star_df.replace(\"Sandis Ozolinsh\", \"Sandis Ozolins\")\n",
    "all_star_df = all_star_df.replace(\"Theoren Fleury\", \"Theo Fleury\")\n",
    "all_star_df = all_star_df.replace(\"Willie Huber\", \"William Huber\")\n",
    "all_star_df = all_star_df.replace(\"Zachary Werenski\", \"Zach Werenski\")\n",
    "all_star_df = all_star_df.replace(\"John Leclair\", \"John LeClair\")\n",
    "all_star_df.loc[(all_star_df.Name == 'Lee Fogolin') & (all_star_df.Born == 1955), 'Name'] = 'Lee Fogolin, Jr.'\n",
    "all_star_df.loc[(all_star_df.Name == 'Billy Harris') & (all_star_df.Born == 1952), 'Name'] = 'Billy Harris, Jr.'\n",
    "all_star_df.loc[(all_star_df.Name == 'Syl Apps') & (all_star_df.Born == 1947), 'Name'] = 'Syl Apps, Jr.'\n",
    "\n",
    "all_star_df.head()"
   ]
  },
  {
   "cell_type": "code",
   "execution_count": null,
   "metadata": {},
   "outputs": [],
   "source": [
    "# Change all special characters to standard characters to match master stat file\n",
    "cols_to_check = ['Name']\n",
    "all_star_df[cols_to_check] = all_star_df[cols_to_check].replace({'á':'a'}, regex=True)\n",
    "all_star_df[cols_to_check] = all_star_df[cols_to_check].replace({'í':'i'}, regex=True)\n",
    "all_star_df[cols_to_check] = all_star_df[cols_to_check].replace({'ä':'a'}, regex=True)\n",
    "all_star_df[cols_to_check] = all_star_df[cols_to_check].replace({'ö':'o'}, regex=True)\n",
    "all_star_df[cols_to_check] = all_star_df[cols_to_check].replace({'ç':'c'}, regex=True)\n",
    "all_star_df[cols_to_check] = all_star_df[cols_to_check].replace({'å':'a'}, regex=True)\n",
    "all_star_df[cols_to_check] = all_star_df[cols_to_check].replace({'É':'E'}, regex=True)\n",
    "all_star_df[cols_to_check] = all_star_df[cols_to_check].replace({'Å':'A'}, regex=True)\n",
    "all_star_df[cols_to_check] = all_star_df[cols_to_check].replace({'è':'e'}, regex=True)\n",
    "all_star_df[cols_to_check] = all_star_df[cols_to_check].replace({'ë':'e'}, regex=True)\n",
    "all_star_df[cols_to_check] = all_star_df[cols_to_check].replace({'î':'i'}, regex=True)\n",
    "all_star_df[cols_to_check] = all_star_df[cols_to_check].replace({'ó':'o'}, regex=True)\n",
    "all_star_df[cols_to_check] = all_star_df[cols_to_check].replace({'ô':'o'}, regex=True)\n",
    "all_star_df[cols_to_check] = all_star_df[cols_to_check].replace({'ø':'o'}, regex=True)\n",
    "all_star_df[cols_to_check] = all_star_df[cols_to_check].replace({'ß':'ss'}, regex=True)\n",
    "all_star_df[cols_to_check] = all_star_df[cols_to_check].replace({'ü':'u'}, regex=True)\n",
    "all_star_df[cols_to_check] = all_star_df[cols_to_check].replace({'ý':'y'}, regex=True)\n",
    "all_star_df[cols_to_check] = all_star_df[cols_to_check].replace({'Ö':'O'}, regex=True)\n",
    "all_star_df[cols_to_check] = all_star_df[cols_to_check].replace({'é':'e'}, regex=True)\n",
    "all_star_df[cols_to_check] = all_star_df[cols_to_check].replace({'š':'s'}, regex=True)\n",
    "\n",
    "all_star_df.head()"
   ]
  },
  {
   "cell_type": "code",
   "execution_count": null,
   "metadata": {},
   "outputs": [],
   "source": [
    "# Rename the Name column to Player to match other dataframes\n",
    "all_star_df = all_star_df.rename(columns={\"Name\": \"Player\", 'GP': 'All-Star Games'})\n",
    "all_star_df.head()"
   ]
  },
  {
   "cell_type": "code",
   "execution_count": null,
   "metadata": {},
   "outputs": [],
   "source": [
    "# Drop columns that are not needed\n",
    "all_star_df = all_star_df.drop(['Rk', 'Born', 'Pos', 'G', 'A', 'P', 'PIM', '+/-', 'PPG', 'SHG',\n",
    "                                 'GWG', 'G/GP', 'A/GP', 'P/GP'], axis=1)\n",
    "all_star_df.head()"
   ]
  },
  {
   "source": [
    "Merge the All-Star game dataframe to the Awards dataframe."
   ],
   "cell_type": "markdown",
   "metadata": {}
  },
  {
   "cell_type": "code",
   "execution_count": null,
   "metadata": {},
   "outputs": [],
   "source": [
    "# Merge the individual award files into one complete file\n",
    "awards_merge_df = pd.merge(awards_merge_df,\n",
    "                 all_star_df[['Player', 'All-Star Games']],\n",
    "                 on='Player', how='outer')\n",
    "awards_merge_df.head()"
   ]
  },
  {
   "cell_type": "code",
   "execution_count": null,
   "metadata": {},
   "outputs": [],
   "source": [
    "# Change all the NaN values to 0 and change numeric columns to integers\n",
    "awards_merge_df = awards_merge_df.fillna(0)\n",
    "awards_merge_df = awards_merge_df.astype({\"Art Ross Awards\":'int', \"Conn Smythe Awards\":'int', \"James Norris Awards\":'int',\n",
    "                    \"Maurice Richard Awards\":'int', \"Calder Awards\":'int', \"Hart Awards\":'int', \"Ted Lindsay Awards\":\"int\",\n",
    "                    'Cups':'int', 'All-Star Games':'int'}) \n",
    "awards_merge_df.head() "
   ]
  },
  {
   "cell_type": "code",
   "execution_count": null,
   "metadata": {},
   "outputs": [],
   "source": [
    "awards_merge_df.dtypes"
   ]
  },
  {
   "cell_type": "code",
   "execution_count": null,
   "metadata": {},
   "outputs": [],
   "source": [
    "# Save the file to csv\n",
    "awards_merge_df.to_csv(\"Output/awards_adj.csv\", index=False, header=True)"
   ]
  },
  {
   "cell_type": "code",
   "execution_count": null,
   "metadata": {},
   "outputs": [],
   "source": []
  }
 ]
}