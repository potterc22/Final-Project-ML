{
 "metadata": {
  "language_info": {
   "codemirror_mode": {
    "name": "ipython",
    "version": 3
   },
   "file_extension": ".py",
   "mimetype": "text/x-python",
   "name": "python",
   "nbconvert_exporter": "python",
   "pygments_lexer": "ipython3",
   "version": "3.6.10-final"
  },
  "orig_nbformat": 2,
  "kernelspec": {
   "name": "python361064bitbcsconda9956bb7450484f49881ea0c9e482447b",
   "display_name": "Python 3.6.10 64-bit ('bcs': conda)",
   "language": "python"
  }
 },
 "nbformat": 4,
 "nbformat_minor": 2,
 "cells": [
  {
   "source": [
    "Create the file that will show player award, stanley cup wins, and all-star game appearances."
   ],
   "cell_type": "markdown",
   "metadata": {}
  },
  {
   "cell_type": "code",
   "execution_count": 91,
   "metadata": {},
   "outputs": [],
   "source": [
    "import pandas as pd\n",
    "from splinter import Browser\n",
    "from bs4 import BeautifulSoup\n",
    "import time\n",
    "import requests"
   ]
  },
  {
   "source": [
    "NHL Art Ross Trophy Winners,\n",
    "Award presented to League's scoring champion\n"
   ],
   "cell_type": "markdown",
   "metadata": {}
  },
  {
   "cell_type": "code",
   "execution_count": 92,
   "metadata": {},
   "outputs": [
    {
     "output_type": "execute_result",
     "data": {
      "text/plain": [
       "   Year           Player                 Team     Award\n",
       "0  2020   Leon Draisaitl      Edmonton Oilers  Art Ross\n",
       "1  2019  Nikita Kucherov  Tampa Bay Lightning  Art Ross\n",
       "2  2018   Connor McDavid      Edmonton Oilers  Art Ross\n",
       "3  2017   Connor McDavid      Edmonton Oilers  Art Ross\n",
       "4  2016     Patrick Kane   Chicago Blackhawks  Art Ross"
      ],
      "text/html": "<div>\n<style scoped>\n    .dataframe tbody tr th:only-of-type {\n        vertical-align: middle;\n    }\n\n    .dataframe tbody tr th {\n        vertical-align: top;\n    }\n\n    .dataframe thead th {\n        text-align: right;\n    }\n</style>\n<table border=\"1\" class=\"dataframe\">\n  <thead>\n    <tr style=\"text-align: right;\">\n      <th></th>\n      <th>Year</th>\n      <th>Player</th>\n      <th>Team</th>\n      <th>Award</th>\n    </tr>\n  </thead>\n  <tbody>\n    <tr>\n      <th>0</th>\n      <td>2020</td>\n      <td>Leon Draisaitl</td>\n      <td>Edmonton Oilers</td>\n      <td>Art Ross</td>\n    </tr>\n    <tr>\n      <th>1</th>\n      <td>2019</td>\n      <td>Nikita Kucherov</td>\n      <td>Tampa Bay Lightning</td>\n      <td>Art Ross</td>\n    </tr>\n    <tr>\n      <th>2</th>\n      <td>2018</td>\n      <td>Connor McDavid</td>\n      <td>Edmonton Oilers</td>\n      <td>Art Ross</td>\n    </tr>\n    <tr>\n      <th>3</th>\n      <td>2017</td>\n      <td>Connor McDavid</td>\n      <td>Edmonton Oilers</td>\n      <td>Art Ross</td>\n    </tr>\n    <tr>\n      <th>4</th>\n      <td>2016</td>\n      <td>Patrick Kane</td>\n      <td>Chicago Blackhawks</td>\n      <td>Art Ross</td>\n    </tr>\n  </tbody>\n</table>\n</div>"
     },
     "metadata": {},
     "execution_count": 92
    }
   ],
   "source": [
    "# Scrape the data for the Art Ross Award, Scoring Champion\n",
    "url = f'https://www.nhl.com/news/nhl-art-ross-trophy-winners-complete-list/c-287899824?tid=287709666'\n",
    "\n",
    "# Retrieve page with the requests module\n",
    "html = requests.get(url).text\n",
    "\n",
    "# Create BeautifulSoup object; parse with 'html.parser'\n",
    "soup = BeautifulSoup(html, 'html.parser')\n",
    "\n",
    "# results are returned as a list\n",
    "body = soup.find('div', class_='article-item__body')\n",
    "\n",
    "results = body.find_all('li')\n",
    "\n",
    "winners = []\n",
    "for result in results:\n",
    "    # Error handling\n",
    "    try:\n",
    "        #print(result)\n",
    "        row = result.text\n",
    "        #print(f'row: {row}')\n",
    "        words = row.split(':')\n",
    "        more_words = words[1].split(',')\n",
    "\n",
    "        winner = [words[0], more_words[0].strip(), more_words[1].strip(), 'Art Ross']\n",
    "        #print(winner)\n",
    "        winners.append(winner)\n",
    "\n",
    "    except AttributeError as error:\n",
    "        print(error)\n",
    "\n",
    "# convert list of lists into DataFrame\n",
    "art_ross_df = pd.DataFrame(winners, columns = ['Year', 'Player', 'Team', 'Award'])\n",
    "# convert year column to int for filtering purposes\n",
    "art_ross_df['Year'] = art_ross_df['Year'].astype(int)\n",
    "# filter dataframe \n",
    "# art_ross_df = art_ross_df.loc[art_ross_df['Year'] >= 1967,:]\n",
    "art_ross_df.head()"
   ]
  },
  {
   "cell_type": "code",
   "execution_count": 93,
   "metadata": {},
   "outputs": [
    {
     "output_type": "execute_result",
     "data": {
      "text/plain": [
       "             Player  Year  Team  Award\n",
       "0        Ace Bailey     1     1      1\n",
       "1     Alex Ovechkin     1     1      1\n",
       "2          Babe Dye     2     2      2\n",
       "3  Bernie Geoffrion     2     2      2\n",
       "4         Bill Cook     2     2      2"
      ],
      "text/html": "<div>\n<style scoped>\n    .dataframe tbody tr th:only-of-type {\n        vertical-align: middle;\n    }\n\n    .dataframe tbody tr th {\n        vertical-align: top;\n    }\n\n    .dataframe thead th {\n        text-align: right;\n    }\n</style>\n<table border=\"1\" class=\"dataframe\">\n  <thead>\n    <tr style=\"text-align: right;\">\n      <th></th>\n      <th>Player</th>\n      <th>Year</th>\n      <th>Team</th>\n      <th>Award</th>\n    </tr>\n  </thead>\n  <tbody>\n    <tr>\n      <th>0</th>\n      <td>Ace Bailey</td>\n      <td>1</td>\n      <td>1</td>\n      <td>1</td>\n    </tr>\n    <tr>\n      <th>1</th>\n      <td>Alex Ovechkin</td>\n      <td>1</td>\n      <td>1</td>\n      <td>1</td>\n    </tr>\n    <tr>\n      <th>2</th>\n      <td>Babe Dye</td>\n      <td>2</td>\n      <td>2</td>\n      <td>2</td>\n    </tr>\n    <tr>\n      <th>3</th>\n      <td>Bernie Geoffrion</td>\n      <td>2</td>\n      <td>2</td>\n      <td>2</td>\n    </tr>\n    <tr>\n      <th>4</th>\n      <td>Bill Cook</td>\n      <td>2</td>\n      <td>2</td>\n      <td>2</td>\n    </tr>\n  </tbody>\n</table>\n</div>"
     },
     "metadata": {},
     "execution_count": 93
    }
   ],
   "source": [
    "# Group the data by the player's name column and count\n",
    "art_ross_grp_df = art_ross_df.groupby(by=\"Player\", as_index=False).count()\n",
    "art_ross_grp_df.head()"
   ]
  },
  {
   "cell_type": "code",
   "execution_count": 94,
   "metadata": {},
   "outputs": [
    {
     "output_type": "execute_result",
     "data": {
      "text/plain": [
       "             Player  Year\n",
       "0        Ace Bailey     1\n",
       "1     Alex Ovechkin     1\n",
       "2          Babe Dye     2\n",
       "3  Bernie Geoffrion     2\n",
       "4         Bill Cook     2"
      ],
      "text/html": "<div>\n<style scoped>\n    .dataframe tbody tr th:only-of-type {\n        vertical-align: middle;\n    }\n\n    .dataframe tbody tr th {\n        vertical-align: top;\n    }\n\n    .dataframe thead th {\n        text-align: right;\n    }\n</style>\n<table border=\"1\" class=\"dataframe\">\n  <thead>\n    <tr style=\"text-align: right;\">\n      <th></th>\n      <th>Player</th>\n      <th>Year</th>\n    </tr>\n  </thead>\n  <tbody>\n    <tr>\n      <th>0</th>\n      <td>Ace Bailey</td>\n      <td>1</td>\n    </tr>\n    <tr>\n      <th>1</th>\n      <td>Alex Ovechkin</td>\n      <td>1</td>\n    </tr>\n    <tr>\n      <th>2</th>\n      <td>Babe Dye</td>\n      <td>2</td>\n    </tr>\n    <tr>\n      <th>3</th>\n      <td>Bernie Geoffrion</td>\n      <td>2</td>\n    </tr>\n    <tr>\n      <th>4</th>\n      <td>Bill Cook</td>\n      <td>2</td>\n    </tr>\n  </tbody>\n</table>\n</div>"
     },
     "metadata": {},
     "execution_count": 94
    }
   ],
   "source": [
    "# Drop columns that are not needed\n",
    "art_ross_grp_df = art_ross_grp_df.drop(['Team', 'Award'], axis=1)\n",
    "art_ross_grp_df.head()"
   ]
  },
  {
   "cell_type": "code",
   "execution_count": 95,
   "metadata": {},
   "outputs": [
    {
     "output_type": "execute_result",
     "data": {
      "text/plain": [
       "             Player  Art Ross Awards\n",
       "0        Ace Bailey                1\n",
       "1     Alex Ovechkin                1\n",
       "2          Babe Dye                2\n",
       "3  Bernie Geoffrion                2\n",
       "4         Bill Cook                2"
      ],
      "text/html": "<div>\n<style scoped>\n    .dataframe tbody tr th:only-of-type {\n        vertical-align: middle;\n    }\n\n    .dataframe tbody tr th {\n        vertical-align: top;\n    }\n\n    .dataframe thead th {\n        text-align: right;\n    }\n</style>\n<table border=\"1\" class=\"dataframe\">\n  <thead>\n    <tr style=\"text-align: right;\">\n      <th></th>\n      <th>Player</th>\n      <th>Art Ross Awards</th>\n    </tr>\n  </thead>\n  <tbody>\n    <tr>\n      <th>0</th>\n      <td>Ace Bailey</td>\n      <td>1</td>\n    </tr>\n    <tr>\n      <th>1</th>\n      <td>Alex Ovechkin</td>\n      <td>1</td>\n    </tr>\n    <tr>\n      <th>2</th>\n      <td>Babe Dye</td>\n      <td>2</td>\n    </tr>\n    <tr>\n      <th>3</th>\n      <td>Bernie Geoffrion</td>\n      <td>2</td>\n    </tr>\n    <tr>\n      <th>4</th>\n      <td>Bill Cook</td>\n      <td>2</td>\n    </tr>\n  </tbody>\n</table>\n</div>"
     },
     "metadata": {},
     "execution_count": 95
    }
   ],
   "source": [
    "# Rename the year column to the award name\n",
    "art_ross_grp_df = art_ross_grp_df.rename(columns={\"Year\": \"Art Ross Awards\"})\n",
    "art_ross_grp_df.head()"
   ]
  },
  {
   "cell_type": "code",
   "execution_count": 96,
   "metadata": {},
   "outputs": [
    {
     "output_type": "execute_result",
     "data": {
      "text/plain": [
       "             Player  Art Ross Awards\n",
       "0        Ace Bailey                1\n",
       "1     Alex Ovechkin                1\n",
       "2          Babe Dye                2\n",
       "3  Bernie Geoffrion                2\n",
       "4         Bill Cook                2"
      ],
      "text/html": "<div>\n<style scoped>\n    .dataframe tbody tr th:only-of-type {\n        vertical-align: middle;\n    }\n\n    .dataframe tbody tr th {\n        vertical-align: top;\n    }\n\n    .dataframe thead th {\n        text-align: right;\n    }\n</style>\n<table border=\"1\" class=\"dataframe\">\n  <thead>\n    <tr style=\"text-align: right;\">\n      <th></th>\n      <th>Player</th>\n      <th>Art Ross Awards</th>\n    </tr>\n  </thead>\n  <tbody>\n    <tr>\n      <th>0</th>\n      <td>Ace Bailey</td>\n      <td>1</td>\n    </tr>\n    <tr>\n      <th>1</th>\n      <td>Alex Ovechkin</td>\n      <td>1</td>\n    </tr>\n    <tr>\n      <th>2</th>\n      <td>Babe Dye</td>\n      <td>2</td>\n    </tr>\n    <tr>\n      <th>3</th>\n      <td>Bernie Geoffrion</td>\n      <td>2</td>\n    </tr>\n    <tr>\n      <th>4</th>\n      <td>Bill Cook</td>\n      <td>2</td>\n    </tr>\n  </tbody>\n</table>\n</div>"
     },
     "metadata": {},
     "execution_count": 96
    }
   ],
   "source": [
    "# Change names to match the master stats\n",
    "art_ross_df.replace(\"Bryan Hextall\", \"Bryan Hextall, Sr.\")\n",
    "art_ross_grp_df.head()\n"
   ]
  },
  {
   "source": [
    "NHL Hart Memorial Trophy Winners, Award presente to the regular season MVP."
   ],
   "cell_type": "markdown",
   "metadata": {}
  },
  {
   "cell_type": "code",
   "execution_count": 97,
   "metadata": {},
   "outputs": [
    {
     "output_type": "execute_result",
     "data": {
      "text/plain": [
       "   Year           Player                 Team          Award\n",
       "0  2020   Leon Draisaitl      Edmonton Oilers  Hart Memorial\n",
       "1  2019  Nikita Kucherov  Tampa Bay Lightning  Hart Memorial\n",
       "2  2018      Taylor Hall    New Jersey Devils  Hart Memorial\n",
       "3  2017   Connor McDavid      Edmonton Oilers  Hart Memorial\n",
       "4  2016     Patrick Kane   Chicago Blackhawks  Hart Memorial"
      ],
      "text/html": "<div>\n<style scoped>\n    .dataframe tbody tr th:only-of-type {\n        vertical-align: middle;\n    }\n\n    .dataframe tbody tr th {\n        vertical-align: top;\n    }\n\n    .dataframe thead th {\n        text-align: right;\n    }\n</style>\n<table border=\"1\" class=\"dataframe\">\n  <thead>\n    <tr style=\"text-align: right;\">\n      <th></th>\n      <th>Year</th>\n      <th>Player</th>\n      <th>Team</th>\n      <th>Award</th>\n    </tr>\n  </thead>\n  <tbody>\n    <tr>\n      <th>0</th>\n      <td>2020</td>\n      <td>Leon Draisaitl</td>\n      <td>Edmonton Oilers</td>\n      <td>Hart Memorial</td>\n    </tr>\n    <tr>\n      <th>1</th>\n      <td>2019</td>\n      <td>Nikita Kucherov</td>\n      <td>Tampa Bay Lightning</td>\n      <td>Hart Memorial</td>\n    </tr>\n    <tr>\n      <th>2</th>\n      <td>2018</td>\n      <td>Taylor Hall</td>\n      <td>New Jersey Devils</td>\n      <td>Hart Memorial</td>\n    </tr>\n    <tr>\n      <th>3</th>\n      <td>2017</td>\n      <td>Connor McDavid</td>\n      <td>Edmonton Oilers</td>\n      <td>Hart Memorial</td>\n    </tr>\n    <tr>\n      <th>4</th>\n      <td>2016</td>\n      <td>Patrick Kane</td>\n      <td>Chicago Blackhawks</td>\n      <td>Hart Memorial</td>\n    </tr>\n  </tbody>\n</table>\n</div>"
     },
     "metadata": {},
     "execution_count": 97
    }
   ],
   "source": [
    "# Scrape the data for the Hart Memorial Award, League MVP\n",
    "url = f'https://www.nhl.com/news/nhl-hart-memorial-trophy-winners-complete-list/c-287743272?tid=287709666'\n",
    "\n",
    "# Retrieve page with the requests module\n",
    "html = requests.get(url).text\n",
    "\n",
    "# Create BeautifulSoup object; parse with 'html.parser'\n",
    "soup = BeautifulSoup(html, 'html.parser')\n",
    "\n",
    "# results are returned as a list\n",
    "body = soup.find('div', class_='article-item__body')\n",
    "\n",
    "results = body.find_all('li')\n",
    "\n",
    "winners = []\n",
    "for result in results:\n",
    "    # Error handling\n",
    "    try:\n",
    "        #print(result)\n",
    "        row = result.text\n",
    "        #print(f'row: {row}')\n",
    "        words = row.split(':')\n",
    "        more_words = words[1].split(',')\n",
    "\n",
    "        winner = [words[0], more_words[0].strip(), more_words[1].strip(), 'Hart Memorial']\n",
    "        #print(winner)\n",
    "        winners.append(winner)\n",
    "\n",
    "    except AttributeError as error:\n",
    "        print(error)\n",
    "\n",
    "# convert list of lists into DataFrame\n",
    "hart_memorial_df = pd.DataFrame(winners, columns = ['Year', 'Player', 'Team', 'Award'])\n",
    "# convert year column to int for filtering purposes\n",
    "hart_memorial_df['Year'] = hart_memorial_df['Year'].astype(int)\n",
    "# filter dataframe \n",
    "# hart_memorial_df = hart_memorial_df.loc[hart_memorial_df['Year'] >= 1967,:]\n",
    "hart_memorial_df.head()"
   ]
  },
  {
   "cell_type": "code",
   "execution_count": 98,
   "metadata": {},
   "outputs": [
    {
     "output_type": "execute_result",
     "data": {
      "text/plain": [
       "          Player  Year  Team  Award\n",
       "0     Al Rollins     1     1      1\n",
       "1  Alex Ovechkin     3     3      3\n",
       "2  Andy Bathgate     1     1      1\n",
       "3  Aurele Joliat     1     1      1\n",
       "4     Babe Pratt     1     1      1"
      ],
      "text/html": "<div>\n<style scoped>\n    .dataframe tbody tr th:only-of-type {\n        vertical-align: middle;\n    }\n\n    .dataframe tbody tr th {\n        vertical-align: top;\n    }\n\n    .dataframe thead th {\n        text-align: right;\n    }\n</style>\n<table border=\"1\" class=\"dataframe\">\n  <thead>\n    <tr style=\"text-align: right;\">\n      <th></th>\n      <th>Player</th>\n      <th>Year</th>\n      <th>Team</th>\n      <th>Award</th>\n    </tr>\n  </thead>\n  <tbody>\n    <tr>\n      <th>0</th>\n      <td>Al Rollins</td>\n      <td>1</td>\n      <td>1</td>\n      <td>1</td>\n    </tr>\n    <tr>\n      <th>1</th>\n      <td>Alex Ovechkin</td>\n      <td>3</td>\n      <td>3</td>\n      <td>3</td>\n    </tr>\n    <tr>\n      <th>2</th>\n      <td>Andy Bathgate</td>\n      <td>1</td>\n      <td>1</td>\n      <td>1</td>\n    </tr>\n    <tr>\n      <th>3</th>\n      <td>Aurele Joliat</td>\n      <td>1</td>\n      <td>1</td>\n      <td>1</td>\n    </tr>\n    <tr>\n      <th>4</th>\n      <td>Babe Pratt</td>\n      <td>1</td>\n      <td>1</td>\n      <td>1</td>\n    </tr>\n  </tbody>\n</table>\n</div>"
     },
     "metadata": {},
     "execution_count": 98
    }
   ],
   "source": [
    "# Group the data by the player's name column and count\n",
    "hart_grp_df = hart_memorial_df.groupby(by=\"Player\", as_index=False).count()\n",
    "hart_grp_df.head()"
   ]
  },
  {
   "cell_type": "code",
   "execution_count": 99,
   "metadata": {},
   "outputs": [
    {
     "output_type": "execute_result",
     "data": {
      "text/plain": [
       "          Player  Year\n",
       "0     Al Rollins     1\n",
       "1  Alex Ovechkin     3\n",
       "2  Andy Bathgate     1\n",
       "3  Aurele Joliat     1\n",
       "4     Babe Pratt     1"
      ],
      "text/html": "<div>\n<style scoped>\n    .dataframe tbody tr th:only-of-type {\n        vertical-align: middle;\n    }\n\n    .dataframe tbody tr th {\n        vertical-align: top;\n    }\n\n    .dataframe thead th {\n        text-align: right;\n    }\n</style>\n<table border=\"1\" class=\"dataframe\">\n  <thead>\n    <tr style=\"text-align: right;\">\n      <th></th>\n      <th>Player</th>\n      <th>Year</th>\n    </tr>\n  </thead>\n  <tbody>\n    <tr>\n      <th>0</th>\n      <td>Al Rollins</td>\n      <td>1</td>\n    </tr>\n    <tr>\n      <th>1</th>\n      <td>Alex Ovechkin</td>\n      <td>3</td>\n    </tr>\n    <tr>\n      <th>2</th>\n      <td>Andy Bathgate</td>\n      <td>1</td>\n    </tr>\n    <tr>\n      <th>3</th>\n      <td>Aurele Joliat</td>\n      <td>1</td>\n    </tr>\n    <tr>\n      <th>4</th>\n      <td>Babe Pratt</td>\n      <td>1</td>\n    </tr>\n  </tbody>\n</table>\n</div>"
     },
     "metadata": {},
     "execution_count": 99
    }
   ],
   "source": [
    "# Drop columns that are not needed\n",
    "hart_grp_df = hart_grp_df.drop(['Team', 'Award'], axis=1)\n",
    "hart_grp_df.head()"
   ]
  },
  {
   "cell_type": "code",
   "execution_count": 100,
   "metadata": {},
   "outputs": [
    {
     "output_type": "execute_result",
     "data": {
      "text/plain": [
       "          Player  Hart Awards\n",
       "0     Al Rollins            1\n",
       "1  Alex Ovechkin            3\n",
       "2  Andy Bathgate            1\n",
       "3  Aurele Joliat            1\n",
       "4     Babe Pratt            1"
      ],
      "text/html": "<div>\n<style scoped>\n    .dataframe tbody tr th:only-of-type {\n        vertical-align: middle;\n    }\n\n    .dataframe tbody tr th {\n        vertical-align: top;\n    }\n\n    .dataframe thead th {\n        text-align: right;\n    }\n</style>\n<table border=\"1\" class=\"dataframe\">\n  <thead>\n    <tr style=\"text-align: right;\">\n      <th></th>\n      <th>Player</th>\n      <th>Hart Awards</th>\n    </tr>\n  </thead>\n  <tbody>\n    <tr>\n      <th>0</th>\n      <td>Al Rollins</td>\n      <td>1</td>\n    </tr>\n    <tr>\n      <th>1</th>\n      <td>Alex Ovechkin</td>\n      <td>3</td>\n    </tr>\n    <tr>\n      <th>2</th>\n      <td>Andy Bathgate</td>\n      <td>1</td>\n    </tr>\n    <tr>\n      <th>3</th>\n      <td>Aurele Joliat</td>\n      <td>1</td>\n    </tr>\n    <tr>\n      <th>4</th>\n      <td>Babe Pratt</td>\n      <td>1</td>\n    </tr>\n  </tbody>\n</table>\n</div>"
     },
     "metadata": {},
     "execution_count": 100
    }
   ],
   "source": [
    "# Rename the year column to the award name\n",
    "hart_grp_df = hart_grp_df.rename(columns={\"Year\": \"Hart Awards\"})\n",
    "hart_grp_df.head()"
   ]
  },
  {
   "source": [
    "NHL Conn Smythe Trophy Winners, Award presented to the playoffs MVP"
   ],
   "cell_type": "markdown",
   "metadata": {}
  },
  {
   "cell_type": "code",
   "execution_count": 101,
   "metadata": {},
   "outputs": [
    {
     "output_type": "execute_result",
     "data": {
      "text/plain": [
       "   Year         Player                 Team        Award\n",
       "0  2020  Victor Hedman  Tampa Bay Lightning  Conn Smythe\n",
       "1  2019  Ryan O'Reilly      St. Louis Blues  Conn Smythe\n",
       "2  2018  Alex Ovechkin  Washington Capitals  Conn Smythe\n",
       "3  2017  Sidney Crosby  Pittsburgh Penguins  Conn Smythe\n",
       "4  2016  Sidney Crosby  Pittsburgh Penguins  Conn Smythe"
      ],
      "text/html": "<div>\n<style scoped>\n    .dataframe tbody tr th:only-of-type {\n        vertical-align: middle;\n    }\n\n    .dataframe tbody tr th {\n        vertical-align: top;\n    }\n\n    .dataframe thead th {\n        text-align: right;\n    }\n</style>\n<table border=\"1\" class=\"dataframe\">\n  <thead>\n    <tr style=\"text-align: right;\">\n      <th></th>\n      <th>Year</th>\n      <th>Player</th>\n      <th>Team</th>\n      <th>Award</th>\n    </tr>\n  </thead>\n  <tbody>\n    <tr>\n      <th>0</th>\n      <td>2020</td>\n      <td>Victor Hedman</td>\n      <td>Tampa Bay Lightning</td>\n      <td>Conn Smythe</td>\n    </tr>\n    <tr>\n      <th>1</th>\n      <td>2019</td>\n      <td>Ryan O'Reilly</td>\n      <td>St. Louis Blues</td>\n      <td>Conn Smythe</td>\n    </tr>\n    <tr>\n      <th>2</th>\n      <td>2018</td>\n      <td>Alex Ovechkin</td>\n      <td>Washington Capitals</td>\n      <td>Conn Smythe</td>\n    </tr>\n    <tr>\n      <th>3</th>\n      <td>2017</td>\n      <td>Sidney Crosby</td>\n      <td>Pittsburgh Penguins</td>\n      <td>Conn Smythe</td>\n    </tr>\n    <tr>\n      <th>4</th>\n      <td>2016</td>\n      <td>Sidney Crosby</td>\n      <td>Pittsburgh Penguins</td>\n      <td>Conn Smythe</td>\n    </tr>\n  </tbody>\n</table>\n</div>"
     },
     "metadata": {},
     "execution_count": 101
    }
   ],
   "source": [
    "# Scrape the data for the Conn Smythe Trophy Award, Playoff MVP\n",
    "url = 'https://www.nhl.com/news/nhl-conn-smythe-trophy-winners-complete-list/c-287709808?tid=287709666'\n",
    "\n",
    "# Retrieve page with the requests module\n",
    "html = requests.get(url).text\n",
    "\n",
    "# Create BeautifulSoup object; parse with 'html.parser'\n",
    "soup = BeautifulSoup(html, 'html.parser')\n",
    "\n",
    "# results are returned as a list\n",
    "body = soup.find('div', class_='article-item__body')\n",
    "\n",
    "results = body.find_all('li')\n",
    "\n",
    "winners = []\n",
    "for result in results:\n",
    "    # Error handling\n",
    "    try:\n",
    "        #print(result)\n",
    "        row = result.text\n",
    "        #print(f'row: {row}')\n",
    "        words = row.split(':')\n",
    "        more_words = words[1].split(',')\n",
    "\n",
    "        winner = [words[0], more_words[0].strip(), more_words[1].strip(), \"Conn Smythe\"]\n",
    "        #print(winner)\n",
    "        winners.append(winner)\n",
    "\n",
    "    except AttributeError as error:\n",
    "        print(error)\n",
    "\n",
    "# convert list of lists into DataFrame\n",
    "conn_smythe_df = pd.DataFrame(winners, columns = ['Year', 'Player', 'Team', 'Award'])\n",
    "# convert year column to int for filtering purposes\n",
    "conn_smythe_df['Year'] = conn_smythe_df['Year'].astype(int)\n",
    "# filter dataframe \n",
    "# conn_smythe_df = conn_smythe_df.loc[conn_smythe_df['Year'] >= 1967,:]\n",
    "conn_smythe_df.head()"
   ]
  },
  {
   "cell_type": "code",
   "execution_count": 102,
   "metadata": {},
   "outputs": [
    {
     "output_type": "execute_result",
     "data": {
      "text/plain": [
       "          Player  Year  Team  Award\n",
       "0    Al MacInnis     1     1      1\n",
       "1  Alex Ovechkin     1     1      1\n",
       "2  Bernie Parent     2     2      2\n",
       "3   Bill Ranford     1     1      1\n",
       "4    Billy Smith     1     1      1"
      ],
      "text/html": "<div>\n<style scoped>\n    .dataframe tbody tr th:only-of-type {\n        vertical-align: middle;\n    }\n\n    .dataframe tbody tr th {\n        vertical-align: top;\n    }\n\n    .dataframe thead th {\n        text-align: right;\n    }\n</style>\n<table border=\"1\" class=\"dataframe\">\n  <thead>\n    <tr style=\"text-align: right;\">\n      <th></th>\n      <th>Player</th>\n      <th>Year</th>\n      <th>Team</th>\n      <th>Award</th>\n    </tr>\n  </thead>\n  <tbody>\n    <tr>\n      <th>0</th>\n      <td>Al MacInnis</td>\n      <td>1</td>\n      <td>1</td>\n      <td>1</td>\n    </tr>\n    <tr>\n      <th>1</th>\n      <td>Alex Ovechkin</td>\n      <td>1</td>\n      <td>1</td>\n      <td>1</td>\n    </tr>\n    <tr>\n      <th>2</th>\n      <td>Bernie Parent</td>\n      <td>2</td>\n      <td>2</td>\n      <td>2</td>\n    </tr>\n    <tr>\n      <th>3</th>\n      <td>Bill Ranford</td>\n      <td>1</td>\n      <td>1</td>\n      <td>1</td>\n    </tr>\n    <tr>\n      <th>4</th>\n      <td>Billy Smith</td>\n      <td>1</td>\n      <td>1</td>\n      <td>1</td>\n    </tr>\n  </tbody>\n</table>\n</div>"
     },
     "metadata": {},
     "execution_count": 102
    }
   ],
   "source": [
    "# Group the data by the player's name column and count\n",
    "conn_smythe_grp_df = conn_smythe_df.groupby(by=\"Player\", as_index=False).count()\n",
    "conn_smythe_grp_df.head()"
   ]
  },
  {
   "cell_type": "code",
   "execution_count": 103,
   "metadata": {},
   "outputs": [
    {
     "output_type": "execute_result",
     "data": {
      "text/plain": [
       "          Player  Year\n",
       "0    Al MacInnis     1\n",
       "1  Alex Ovechkin     1\n",
       "2  Bernie Parent     2\n",
       "3   Bill Ranford     1\n",
       "4    Billy Smith     1"
      ],
      "text/html": "<div>\n<style scoped>\n    .dataframe tbody tr th:only-of-type {\n        vertical-align: middle;\n    }\n\n    .dataframe tbody tr th {\n        vertical-align: top;\n    }\n\n    .dataframe thead th {\n        text-align: right;\n    }\n</style>\n<table border=\"1\" class=\"dataframe\">\n  <thead>\n    <tr style=\"text-align: right;\">\n      <th></th>\n      <th>Player</th>\n      <th>Year</th>\n    </tr>\n  </thead>\n  <tbody>\n    <tr>\n      <th>0</th>\n      <td>Al MacInnis</td>\n      <td>1</td>\n    </tr>\n    <tr>\n      <th>1</th>\n      <td>Alex Ovechkin</td>\n      <td>1</td>\n    </tr>\n    <tr>\n      <th>2</th>\n      <td>Bernie Parent</td>\n      <td>2</td>\n    </tr>\n    <tr>\n      <th>3</th>\n      <td>Bill Ranford</td>\n      <td>1</td>\n    </tr>\n    <tr>\n      <th>4</th>\n      <td>Billy Smith</td>\n      <td>1</td>\n    </tr>\n  </tbody>\n</table>\n</div>"
     },
     "metadata": {},
     "execution_count": 103
    }
   ],
   "source": [
    "# Drop columns that are not needed\n",
    "conn_smythe_grp_df = conn_smythe_grp_df.drop(['Team', 'Award'], axis=1)\n",
    "conn_smythe_grp_df.head()"
   ]
  },
  {
   "cell_type": "code",
   "execution_count": 104,
   "metadata": {},
   "outputs": [
    {
     "output_type": "execute_result",
     "data": {
      "text/plain": [
       "          Player  Conn Smythe Awards\n",
       "0    Al MacInnis                   1\n",
       "1  Alex Ovechkin                   1\n",
       "2  Bernie Parent                   2\n",
       "3   Bill Ranford                   1\n",
       "4    Billy Smith                   1"
      ],
      "text/html": "<div>\n<style scoped>\n    .dataframe tbody tr th:only-of-type {\n        vertical-align: middle;\n    }\n\n    .dataframe tbody tr th {\n        vertical-align: top;\n    }\n\n    .dataframe thead th {\n        text-align: right;\n    }\n</style>\n<table border=\"1\" class=\"dataframe\">\n  <thead>\n    <tr style=\"text-align: right;\">\n      <th></th>\n      <th>Player</th>\n      <th>Conn Smythe Awards</th>\n    </tr>\n  </thead>\n  <tbody>\n    <tr>\n      <th>0</th>\n      <td>Al MacInnis</td>\n      <td>1</td>\n    </tr>\n    <tr>\n      <th>1</th>\n      <td>Alex Ovechkin</td>\n      <td>1</td>\n    </tr>\n    <tr>\n      <th>2</th>\n      <td>Bernie Parent</td>\n      <td>2</td>\n    </tr>\n    <tr>\n      <th>3</th>\n      <td>Bill Ranford</td>\n      <td>1</td>\n    </tr>\n    <tr>\n      <th>4</th>\n      <td>Billy Smith</td>\n      <td>1</td>\n    </tr>\n  </tbody>\n</table>\n</div>"
     },
     "metadata": {},
     "execution_count": 104
    }
   ],
   "source": [
    "# Rename the year column to the award name\n",
    "conn_smythe_grp_df = conn_smythe_grp_df.rename(columns={\"Year\": \"Conn Smythe Awards\"})\n",
    "conn_smythe_grp_df.head()"
   ]
  },
  {
   "source": [
    "NHL Calder Memorial Trophy Winners, Award presented to the rookie of the year."
   ],
   "cell_type": "markdown",
   "metadata": {}
  },
  {
   "cell_type": "code",
   "execution_count": 105,
   "metadata": {},
   "outputs": [
    {
     "output_type": "execute_result",
     "data": {
      "text/plain": [
       "   Year            Player                 Team            Award\n",
       "0  2020        Cale Makar   Colorado Avalanche  Calder Memorial\n",
       "1  2019  Elias Pettersson    Vancouver Canucks  Calder Memorial\n",
       "2  2018     Mathew Barzal   New York Islanders  Calder Memorial\n",
       "3  2017   Auston Matthews  Toronto Maple Leafs  Calder Memorial\n",
       "4  2016    Artemi Panarin   Chicago Blackhawks  Calder Memorial"
      ],
      "text/html": "<div>\n<style scoped>\n    .dataframe tbody tr th:only-of-type {\n        vertical-align: middle;\n    }\n\n    .dataframe tbody tr th {\n        vertical-align: top;\n    }\n\n    .dataframe thead th {\n        text-align: right;\n    }\n</style>\n<table border=\"1\" class=\"dataframe\">\n  <thead>\n    <tr style=\"text-align: right;\">\n      <th></th>\n      <th>Year</th>\n      <th>Player</th>\n      <th>Team</th>\n      <th>Award</th>\n    </tr>\n  </thead>\n  <tbody>\n    <tr>\n      <th>0</th>\n      <td>2020</td>\n      <td>Cale Makar</td>\n      <td>Colorado Avalanche</td>\n      <td>Calder Memorial</td>\n    </tr>\n    <tr>\n      <th>1</th>\n      <td>2019</td>\n      <td>Elias Pettersson</td>\n      <td>Vancouver Canucks</td>\n      <td>Calder Memorial</td>\n    </tr>\n    <tr>\n      <th>2</th>\n      <td>2018</td>\n      <td>Mathew Barzal</td>\n      <td>New York Islanders</td>\n      <td>Calder Memorial</td>\n    </tr>\n    <tr>\n      <th>3</th>\n      <td>2017</td>\n      <td>Auston Matthews</td>\n      <td>Toronto Maple Leafs</td>\n      <td>Calder Memorial</td>\n    </tr>\n    <tr>\n      <th>4</th>\n      <td>2016</td>\n      <td>Artemi Panarin</td>\n      <td>Chicago Blackhawks</td>\n      <td>Calder Memorial</td>\n    </tr>\n  </tbody>\n</table>\n</div>"
     },
     "metadata": {},
     "execution_count": 105
    }
   ],
   "source": [
    "# Scrape the data for the Calder Memorial Trophy Awards, Rookie of the Year\n",
    "url = 'https://www.nhl.com/news/nhl-calder-memorial-trophy-winners-complete-list/c-287749198?tid=287709666'\n",
    "\n",
    "# Retrieve page with the requests module\n",
    "html = requests.get(url).text\n",
    "\n",
    "# Create BeautifulSoup object; parse with 'html.parser'\n",
    "soup = BeautifulSoup(html, 'html.parser')\n",
    "\n",
    "# results are returned as a list\n",
    "body = soup.find('div', class_='article-item__body')\n",
    "\n",
    "results = body.find_all('li')\n",
    "\n",
    "winners = []\n",
    "for result in results:\n",
    "    # Error handling\n",
    "    try:\n",
    "        #print(result)\n",
    "        row = result.text\n",
    "        #print(f'row: {row}')\n",
    "        words = row.split(':')\n",
    "        more_words = words[1].split(',')\n",
    "\n",
    "        winner = [words[0], more_words[0].strip(), more_words[1].strip(), 'Calder Memorial']\n",
    "        #print(winner)\n",
    "        winners.append(winner)\n",
    "\n",
    "    except AttributeError as error:\n",
    "        print(error)\n",
    "\n",
    "# convert list of lists into DataFrame\n",
    "calder_memorial_df = pd.DataFrame(winners, columns = ['Year', 'Player', 'Team', 'Award'])\n",
    "# convert year column to int for filtering purposes\n",
    "calder_memorial_df['Year'] = calder_memorial_df['Year'].astype(int)\n",
    "# filter dataframe \n",
    "# calder_memorial_df = calder_memorial_df.loc[calder_memorial_df['Year'] >= 1967,:]\n",
    "calder_memorial_df.head()"
   ]
  },
  {
   "cell_type": "code",
   "execution_count": 106,
   "metadata": {},
   "outputs": [
    {
     "output_type": "execute_result",
     "data": {
      "text/plain": [
       "            Player  Year  Team  Award\n",
       "0     Aaron Ekblad     1     1      1\n",
       "1    Alex Ovechkin     1     1      1\n",
       "2  Andrew Raycroft     1     1      1\n",
       "3   Artemi Panarin     1     1      1\n",
       "4  Auston Matthews     1     1      1"
      ],
      "text/html": "<div>\n<style scoped>\n    .dataframe tbody tr th:only-of-type {\n        vertical-align: middle;\n    }\n\n    .dataframe tbody tr th {\n        vertical-align: top;\n    }\n\n    .dataframe thead th {\n        text-align: right;\n    }\n</style>\n<table border=\"1\" class=\"dataframe\">\n  <thead>\n    <tr style=\"text-align: right;\">\n      <th></th>\n      <th>Player</th>\n      <th>Year</th>\n      <th>Team</th>\n      <th>Award</th>\n    </tr>\n  </thead>\n  <tbody>\n    <tr>\n      <th>0</th>\n      <td>Aaron Ekblad</td>\n      <td>1</td>\n      <td>1</td>\n      <td>1</td>\n    </tr>\n    <tr>\n      <th>1</th>\n      <td>Alex Ovechkin</td>\n      <td>1</td>\n      <td>1</td>\n      <td>1</td>\n    </tr>\n    <tr>\n      <th>2</th>\n      <td>Andrew Raycroft</td>\n      <td>1</td>\n      <td>1</td>\n      <td>1</td>\n    </tr>\n    <tr>\n      <th>3</th>\n      <td>Artemi Panarin</td>\n      <td>1</td>\n      <td>1</td>\n      <td>1</td>\n    </tr>\n    <tr>\n      <th>4</th>\n      <td>Auston Matthews</td>\n      <td>1</td>\n      <td>1</td>\n      <td>1</td>\n    </tr>\n  </tbody>\n</table>\n</div>"
     },
     "metadata": {},
     "execution_count": 106
    }
   ],
   "source": [
    "# Group the data by the player's name column\n",
    "calder_memorial_grp_df = calder_memorial_df.groupby(by=\"Player\", as_index=False).count()\n",
    "calder_memorial_grp_df.head()"
   ]
  },
  {
   "cell_type": "code",
   "execution_count": 107,
   "metadata": {},
   "outputs": [
    {
     "output_type": "execute_result",
     "data": {
      "text/plain": [
       "            Player  Year\n",
       "0     Aaron Ekblad     1\n",
       "1    Alex Ovechkin     1\n",
       "2  Andrew Raycroft     1\n",
       "3   Artemi Panarin     1\n",
       "4  Auston Matthews     1"
      ],
      "text/html": "<div>\n<style scoped>\n    .dataframe tbody tr th:only-of-type {\n        vertical-align: middle;\n    }\n\n    .dataframe tbody tr th {\n        vertical-align: top;\n    }\n\n    .dataframe thead th {\n        text-align: right;\n    }\n</style>\n<table border=\"1\" class=\"dataframe\">\n  <thead>\n    <tr style=\"text-align: right;\">\n      <th></th>\n      <th>Player</th>\n      <th>Year</th>\n    </tr>\n  </thead>\n  <tbody>\n    <tr>\n      <th>0</th>\n      <td>Aaron Ekblad</td>\n      <td>1</td>\n    </tr>\n    <tr>\n      <th>1</th>\n      <td>Alex Ovechkin</td>\n      <td>1</td>\n    </tr>\n    <tr>\n      <th>2</th>\n      <td>Andrew Raycroft</td>\n      <td>1</td>\n    </tr>\n    <tr>\n      <th>3</th>\n      <td>Artemi Panarin</td>\n      <td>1</td>\n    </tr>\n    <tr>\n      <th>4</th>\n      <td>Auston Matthews</td>\n      <td>1</td>\n    </tr>\n  </tbody>\n</table>\n</div>"
     },
     "metadata": {},
     "execution_count": 107
    }
   ],
   "source": [
    "# Drop columns that are not needed\n",
    "calder_memorial_grp_df = calder_memorial_grp_df.drop(['Team', 'Award'], axis=1)\n",
    "calder_memorial_grp_df.head()"
   ]
  },
  {
   "cell_type": "code",
   "execution_count": 108,
   "metadata": {},
   "outputs": [
    {
     "output_type": "execute_result",
     "data": {
      "text/plain": [
       "            Player  Calder Awards\n",
       "0     Aaron Ekblad              1\n",
       "1    Alex Ovechkin              1\n",
       "2  Andrew Raycroft              1\n",
       "3   Artemi Panarin              1\n",
       "4  Auston Matthews              1"
      ],
      "text/html": "<div>\n<style scoped>\n    .dataframe tbody tr th:only-of-type {\n        vertical-align: middle;\n    }\n\n    .dataframe tbody tr th {\n        vertical-align: top;\n    }\n\n    .dataframe thead th {\n        text-align: right;\n    }\n</style>\n<table border=\"1\" class=\"dataframe\">\n  <thead>\n    <tr style=\"text-align: right;\">\n      <th></th>\n      <th>Player</th>\n      <th>Calder Awards</th>\n    </tr>\n  </thead>\n  <tbody>\n    <tr>\n      <th>0</th>\n      <td>Aaron Ekblad</td>\n      <td>1</td>\n    </tr>\n    <tr>\n      <th>1</th>\n      <td>Alex Ovechkin</td>\n      <td>1</td>\n    </tr>\n    <tr>\n      <th>2</th>\n      <td>Andrew Raycroft</td>\n      <td>1</td>\n    </tr>\n    <tr>\n      <th>3</th>\n      <td>Artemi Panarin</td>\n      <td>1</td>\n    </tr>\n    <tr>\n      <th>4</th>\n      <td>Auston Matthews</td>\n      <td>1</td>\n    </tr>\n  </tbody>\n</table>\n</div>"
     },
     "metadata": {},
     "execution_count": 108
    }
   ],
   "source": [
    "# Rename the year column to the award name\n",
    "calder_memorial_grp_df = calder_memorial_grp_df.rename(columns={\"Year\": \"Calder Awards\"})\n",
    "calder_memorial_grp_df.head()"
   ]
  },
  {
   "source": [
    "NHL James Norris Memorial Trophy Winners, Award presented to the leagues top defenseman."
   ],
   "cell_type": "markdown",
   "metadata": {}
  },
  {
   "cell_type": "code",
   "execution_count": 109,
   "metadata": {},
   "outputs": [
    {
     "output_type": "execute_result",
     "data": {
      "text/plain": [
       "   Year         Player                 Team                  Award\n",
       "0  2020     Roman Josi       Calgary Flames  James Norris Memorial\n",
       "1  2019  Mark Giordano       Calgary Flames  James Norris Memorial\n",
       "2  2018  Victor Hedman  Tampa Bay Lightning  James Norris Memorial\n",
       "3  2017    Brent Burns      San Jose Sharks  James Norris Memorial\n",
       "4  2016   Drew Doughty    Los Angeles Kings  James Norris Memorial"
      ],
      "text/html": "<div>\n<style scoped>\n    .dataframe tbody tr th:only-of-type {\n        vertical-align: middle;\n    }\n\n    .dataframe tbody tr th {\n        vertical-align: top;\n    }\n\n    .dataframe thead th {\n        text-align: right;\n    }\n</style>\n<table border=\"1\" class=\"dataframe\">\n  <thead>\n    <tr style=\"text-align: right;\">\n      <th></th>\n      <th>Year</th>\n      <th>Player</th>\n      <th>Team</th>\n      <th>Award</th>\n    </tr>\n  </thead>\n  <tbody>\n    <tr>\n      <th>0</th>\n      <td>2020</td>\n      <td>Roman Josi</td>\n      <td>Calgary Flames</td>\n      <td>James Norris Memorial</td>\n    </tr>\n    <tr>\n      <th>1</th>\n      <td>2019</td>\n      <td>Mark Giordano</td>\n      <td>Calgary Flames</td>\n      <td>James Norris Memorial</td>\n    </tr>\n    <tr>\n      <th>2</th>\n      <td>2018</td>\n      <td>Victor Hedman</td>\n      <td>Tampa Bay Lightning</td>\n      <td>James Norris Memorial</td>\n    </tr>\n    <tr>\n      <th>3</th>\n      <td>2017</td>\n      <td>Brent Burns</td>\n      <td>San Jose Sharks</td>\n      <td>James Norris Memorial</td>\n    </tr>\n    <tr>\n      <th>4</th>\n      <td>2016</td>\n      <td>Drew Doughty</td>\n      <td>Los Angeles Kings</td>\n      <td>James Norris Memorial</td>\n    </tr>\n  </tbody>\n</table>\n</div>"
     },
     "metadata": {},
     "execution_count": 109
    }
   ],
   "source": [
    "# Scrape the data for the James Norris Memorial Trophy, Top Defenseman \n",
    "import re\n",
    "url = 'https://www.nhl.com/news/nhl-james-norris-memorial-trophy-winners-complete-list/c-287778852?tid=287709666'\n",
    "\n",
    "# Retrieve page with the requests module\n",
    "html = requests.get(url).text\n",
    "\n",
    "# Create BeautifulSoup object; parse with 'html.parser'\n",
    "soup = BeautifulSoup(html, 'html.parser')\n",
    "\n",
    "# results are returned as a list\n",
    "body = soup.find('div', class_='article-item__body')\n",
    "\n",
    "results = body.find_all('li')\n",
    "\n",
    "winners = []\n",
    "for result in results:\n",
    "    # Error handling\n",
    "    try:\n",
    "        #print(result)\n",
    "        row = result.text\n",
    "        #print(f'row: {row}')\n",
    "        words = re.split(':|;', row)\n",
    "        #print(words)\n",
    "        more_words = words[1].split(',')\n",
    "        #print(more_words)\n",
    "\n",
    "        winner = [words[0], more_words[0].strip(), more_words[1].strip(), 'James Norris Memorial']\n",
    "        #print(winner)\n",
    "        winners.append(winner)\n",
    "\n",
    "    except AttributeError as error:\n",
    "        print(error)\n",
    "\n",
    "# convert list of lists into DataFrame\n",
    "james_norris_df = pd.DataFrame(winners, columns = ['Year', 'Player', 'Team', 'Award'])\n",
    "# convert year column to int for filtering purposes\n",
    "james_norris_df['Year'] = james_norris_df['Year'].astype(int)\n",
    "# filter dataframe \n",
    "# james_norris_df = james_norris_df.loc[james_norris_df['Year'] >= 1967,:]\n",
    "james_norris_df.head()"
   ]
  },
  {
   "cell_type": "code",
   "execution_count": 110,
   "metadata": {},
   "outputs": [
    {
     "output_type": "execute_result",
     "data": {
      "text/plain": [
       "          Player  Year  Team  Award\n",
       "0    Al MacInnis     1     1      1\n",
       "1      Bobby Orr     8     8      8\n",
       "2    Brent Burns     1     1      1\n",
       "3   Brian Leetch     2     2      2\n",
       "4  Chris Chelios     3     3      3"
      ],
      "text/html": "<div>\n<style scoped>\n    .dataframe tbody tr th:only-of-type {\n        vertical-align: middle;\n    }\n\n    .dataframe tbody tr th {\n        vertical-align: top;\n    }\n\n    .dataframe thead th {\n        text-align: right;\n    }\n</style>\n<table border=\"1\" class=\"dataframe\">\n  <thead>\n    <tr style=\"text-align: right;\">\n      <th></th>\n      <th>Player</th>\n      <th>Year</th>\n      <th>Team</th>\n      <th>Award</th>\n    </tr>\n  </thead>\n  <tbody>\n    <tr>\n      <th>0</th>\n      <td>Al MacInnis</td>\n      <td>1</td>\n      <td>1</td>\n      <td>1</td>\n    </tr>\n    <tr>\n      <th>1</th>\n      <td>Bobby Orr</td>\n      <td>8</td>\n      <td>8</td>\n      <td>8</td>\n    </tr>\n    <tr>\n      <th>2</th>\n      <td>Brent Burns</td>\n      <td>1</td>\n      <td>1</td>\n      <td>1</td>\n    </tr>\n    <tr>\n      <th>3</th>\n      <td>Brian Leetch</td>\n      <td>2</td>\n      <td>2</td>\n      <td>2</td>\n    </tr>\n    <tr>\n      <th>4</th>\n      <td>Chris Chelios</td>\n      <td>3</td>\n      <td>3</td>\n      <td>3</td>\n    </tr>\n  </tbody>\n</table>\n</div>"
     },
     "metadata": {},
     "execution_count": 110
    }
   ],
   "source": [
    "# Group the data by the player's name column and count\n",
    "james_norris_grp_df = james_norris_df.groupby(by=\"Player\", as_index=False).count()\n",
    "james_norris_grp_df.head()"
   ]
  },
  {
   "cell_type": "code",
   "execution_count": 111,
   "metadata": {},
   "outputs": [
    {
     "output_type": "execute_result",
     "data": {
      "text/plain": [
       "          Player  Year\n",
       "0    Al MacInnis     1\n",
       "1      Bobby Orr     8\n",
       "2    Brent Burns     1\n",
       "3   Brian Leetch     2\n",
       "4  Chris Chelios     3"
      ],
      "text/html": "<div>\n<style scoped>\n    .dataframe tbody tr th:only-of-type {\n        vertical-align: middle;\n    }\n\n    .dataframe tbody tr th {\n        vertical-align: top;\n    }\n\n    .dataframe thead th {\n        text-align: right;\n    }\n</style>\n<table border=\"1\" class=\"dataframe\">\n  <thead>\n    <tr style=\"text-align: right;\">\n      <th></th>\n      <th>Player</th>\n      <th>Year</th>\n    </tr>\n  </thead>\n  <tbody>\n    <tr>\n      <th>0</th>\n      <td>Al MacInnis</td>\n      <td>1</td>\n    </tr>\n    <tr>\n      <th>1</th>\n      <td>Bobby Orr</td>\n      <td>8</td>\n    </tr>\n    <tr>\n      <th>2</th>\n      <td>Brent Burns</td>\n      <td>1</td>\n    </tr>\n    <tr>\n      <th>3</th>\n      <td>Brian Leetch</td>\n      <td>2</td>\n    </tr>\n    <tr>\n      <th>4</th>\n      <td>Chris Chelios</td>\n      <td>3</td>\n    </tr>\n  </tbody>\n</table>\n</div>"
     },
     "metadata": {},
     "execution_count": 111
    }
   ],
   "source": [
    "# Drop columns that are not needed\n",
    "james_norris_grp_df = james_norris_grp_df.drop(['Team', 'Award'], axis=1)\n",
    "james_norris_grp_df.head()"
   ]
  },
  {
   "cell_type": "code",
   "execution_count": 112,
   "metadata": {},
   "outputs": [
    {
     "output_type": "execute_result",
     "data": {
      "text/plain": [
       "          Player  James Norris Awards\n",
       "0    Al MacInnis                    1\n",
       "1      Bobby Orr                    8\n",
       "2    Brent Burns                    1\n",
       "3   Brian Leetch                    2\n",
       "4  Chris Chelios                    3"
      ],
      "text/html": "<div>\n<style scoped>\n    .dataframe tbody tr th:only-of-type {\n        vertical-align: middle;\n    }\n\n    .dataframe tbody tr th {\n        vertical-align: top;\n    }\n\n    .dataframe thead th {\n        text-align: right;\n    }\n</style>\n<table border=\"1\" class=\"dataframe\">\n  <thead>\n    <tr style=\"text-align: right;\">\n      <th></th>\n      <th>Player</th>\n      <th>James Norris Awards</th>\n    </tr>\n  </thead>\n  <tbody>\n    <tr>\n      <th>0</th>\n      <td>Al MacInnis</td>\n      <td>1</td>\n    </tr>\n    <tr>\n      <th>1</th>\n      <td>Bobby Orr</td>\n      <td>8</td>\n    </tr>\n    <tr>\n      <th>2</th>\n      <td>Brent Burns</td>\n      <td>1</td>\n    </tr>\n    <tr>\n      <th>3</th>\n      <td>Brian Leetch</td>\n      <td>2</td>\n    </tr>\n    <tr>\n      <th>4</th>\n      <td>Chris Chelios</td>\n      <td>3</td>\n    </tr>\n  </tbody>\n</table>\n</div>"
     },
     "metadata": {},
     "execution_count": 112
    }
   ],
   "source": [
    "# Rename the year column to the award name\n",
    "james_norris_grp_df = james_norris_grp_df.rename(columns={\"Year\": \"James Norris Awards\"})\n",
    "james_norris_grp_df.head()"
   ]
  },
  {
   "source": [
    "NHL Ted Lindsay Award Winners. Award presented to the most outstanding player as voted but the NHLPA members."
   ],
   "cell_type": "markdown",
   "metadata": {}
  },
  {
   "cell_type": "code",
   "execution_count": 113,
   "metadata": {},
   "outputs": [
    {
     "output_type": "execute_result",
     "data": {
      "text/plain": [
       "   Year           Player                 Team        Award\n",
       "0  2020   Leon Draisaitl      Edmonton Oilers  Ted Lindsay\n",
       "1  2019  Nikita Kucherov  Tampa Bay Lightning  Ted Lindsay\n",
       "2  2018   Connor McDavid      Edmonton Oilers  Ted Lindsay\n",
       "3  2017   Connor McDavid      Edmonton Oilers  Ted Lindsay\n",
       "4  2016     Patrick Kane   Chicago Blackhawks  Ted Lindsay"
      ],
      "text/html": "<div>\n<style scoped>\n    .dataframe tbody tr th:only-of-type {\n        vertical-align: middle;\n    }\n\n    .dataframe tbody tr th {\n        vertical-align: top;\n    }\n\n    .dataframe thead th {\n        text-align: right;\n    }\n</style>\n<table border=\"1\" class=\"dataframe\">\n  <thead>\n    <tr style=\"text-align: right;\">\n      <th></th>\n      <th>Year</th>\n      <th>Player</th>\n      <th>Team</th>\n      <th>Award</th>\n    </tr>\n  </thead>\n  <tbody>\n    <tr>\n      <th>0</th>\n      <td>2020</td>\n      <td>Leon Draisaitl</td>\n      <td>Edmonton Oilers</td>\n      <td>Ted Lindsay</td>\n    </tr>\n    <tr>\n      <th>1</th>\n      <td>2019</td>\n      <td>Nikita Kucherov</td>\n      <td>Tampa Bay Lightning</td>\n      <td>Ted Lindsay</td>\n    </tr>\n    <tr>\n      <th>2</th>\n      <td>2018</td>\n      <td>Connor McDavid</td>\n      <td>Edmonton Oilers</td>\n      <td>Ted Lindsay</td>\n    </tr>\n    <tr>\n      <th>3</th>\n      <td>2017</td>\n      <td>Connor McDavid</td>\n      <td>Edmonton Oilers</td>\n      <td>Ted Lindsay</td>\n    </tr>\n    <tr>\n      <th>4</th>\n      <td>2016</td>\n      <td>Patrick Kane</td>\n      <td>Chicago Blackhawks</td>\n      <td>Ted Lindsay</td>\n    </tr>\n  </tbody>\n</table>\n</div>"
     },
     "metadata": {},
     "execution_count": 113
    }
   ],
   "source": [
    "# Scrape the data for the Ted Lindsay Award, Outstanding Player voted by NHLPA players\n",
    "url = 'https://www.nhl.com/news/nhl-ted-lindsay-award-winners-complete-list/c-287978282?tid=287709666'\n",
    "\n",
    "# Retrieve page with the requests module\n",
    "html = requests.get(url).text\n",
    "\n",
    "# Create BeautifulSoup object; parse with 'html.parser'\n",
    "soup = BeautifulSoup(html, 'html.parser')\n",
    "\n",
    "# results are returned as a list\n",
    "body = soup.find('div', class_='article-item__body')\n",
    "\n",
    "results = body.find_all('li')\n",
    "\n",
    "winners = []\n",
    "for result in results:\n",
    "    # Error handling\n",
    "    try:\n",
    "        #print(result)\n",
    "        row = result.text\n",
    "        #print(f'row: {row}')\n",
    "        words = row.split(':')\n",
    "        more_words = words[1].split(',')\n",
    "\n",
    "        winner = [words[0], more_words[0].strip(), more_words[1].strip(), \"Ted Lindsay\"]\n",
    "        #print(winner)\n",
    "        winners.append(winner)\n",
    "\n",
    "    except AttributeError as error:\n",
    "        print(error)\n",
    "\n",
    "# convert list of lists into DataFrame\n",
    "ted_lindsay_df = pd.DataFrame(winners, columns = ['Year', 'Player', 'Team', 'Award'])\n",
    "# convert year column to int for filtering purposes\n",
    "ted_lindsay_df['Year'] = ted_lindsay_df['Year'].astype(int)\n",
    "# filter dataframe \n",
    "# ted_lindsay_df = ted_lindsay_df.loc[ted_lindsay_df['Year'] >= 1967,:]\n",
    "ted_lindsay_df.head()"
   ]
  },
  {
   "cell_type": "code",
   "execution_count": 114,
   "metadata": {},
   "outputs": [
    {
     "output_type": "execute_result",
     "data": {
      "text/plain": [
       "          Player  Year  Team  Award\n",
       "0  Alex Ovechkin     3     3      3\n",
       "1   Bobby Clarke     1     1      1\n",
       "2      Bobby Orr     1     1      1\n",
       "3     Brett Hull     1     1      1\n",
       "4    Carey Price     1     1      1"
      ],
      "text/html": "<div>\n<style scoped>\n    .dataframe tbody tr th:only-of-type {\n        vertical-align: middle;\n    }\n\n    .dataframe tbody tr th {\n        vertical-align: top;\n    }\n\n    .dataframe thead th {\n        text-align: right;\n    }\n</style>\n<table border=\"1\" class=\"dataframe\">\n  <thead>\n    <tr style=\"text-align: right;\">\n      <th></th>\n      <th>Player</th>\n      <th>Year</th>\n      <th>Team</th>\n      <th>Award</th>\n    </tr>\n  </thead>\n  <tbody>\n    <tr>\n      <th>0</th>\n      <td>Alex Ovechkin</td>\n      <td>3</td>\n      <td>3</td>\n      <td>3</td>\n    </tr>\n    <tr>\n      <th>1</th>\n      <td>Bobby Clarke</td>\n      <td>1</td>\n      <td>1</td>\n      <td>1</td>\n    </tr>\n    <tr>\n      <th>2</th>\n      <td>Bobby Orr</td>\n      <td>1</td>\n      <td>1</td>\n      <td>1</td>\n    </tr>\n    <tr>\n      <th>3</th>\n      <td>Brett Hull</td>\n      <td>1</td>\n      <td>1</td>\n      <td>1</td>\n    </tr>\n    <tr>\n      <th>4</th>\n      <td>Carey Price</td>\n      <td>1</td>\n      <td>1</td>\n      <td>1</td>\n    </tr>\n  </tbody>\n</table>\n</div>"
     },
     "metadata": {},
     "execution_count": 114
    }
   ],
   "source": [
    "# Group the data by the player's name column and count\n",
    "ted_lindsay_grp_df = ted_lindsay_df.groupby(by=\"Player\", as_index=False).count()\n",
    "ted_lindsay_grp_df.head()"
   ]
  },
  {
   "cell_type": "code",
   "execution_count": 115,
   "metadata": {},
   "outputs": [
    {
     "output_type": "execute_result",
     "data": {
      "text/plain": [
       "          Player  Year\n",
       "0  Alex Ovechkin     3\n",
       "1   Bobby Clarke     1\n",
       "2      Bobby Orr     1\n",
       "3     Brett Hull     1\n",
       "4    Carey Price     1"
      ],
      "text/html": "<div>\n<style scoped>\n    .dataframe tbody tr th:only-of-type {\n        vertical-align: middle;\n    }\n\n    .dataframe tbody tr th {\n        vertical-align: top;\n    }\n\n    .dataframe thead th {\n        text-align: right;\n    }\n</style>\n<table border=\"1\" class=\"dataframe\">\n  <thead>\n    <tr style=\"text-align: right;\">\n      <th></th>\n      <th>Player</th>\n      <th>Year</th>\n    </tr>\n  </thead>\n  <tbody>\n    <tr>\n      <th>0</th>\n      <td>Alex Ovechkin</td>\n      <td>3</td>\n    </tr>\n    <tr>\n      <th>1</th>\n      <td>Bobby Clarke</td>\n      <td>1</td>\n    </tr>\n    <tr>\n      <th>2</th>\n      <td>Bobby Orr</td>\n      <td>1</td>\n    </tr>\n    <tr>\n      <th>3</th>\n      <td>Brett Hull</td>\n      <td>1</td>\n    </tr>\n    <tr>\n      <th>4</th>\n      <td>Carey Price</td>\n      <td>1</td>\n    </tr>\n  </tbody>\n</table>\n</div>"
     },
     "metadata": {},
     "execution_count": 115
    }
   ],
   "source": [
    "# Drop columns that are not needed\n",
    "ted_lindsay_grp_df = ted_lindsay_grp_df.drop(['Team', 'Award'], axis=1)\n",
    "ted_lindsay_grp_df.head()"
   ]
  },
  {
   "cell_type": "code",
   "execution_count": 116,
   "metadata": {},
   "outputs": [
    {
     "output_type": "execute_result",
     "data": {
      "text/plain": [
       "          Player  Ted Lindsay Awards\n",
       "0  Alex Ovechkin                   3\n",
       "1   Bobby Clarke                   1\n",
       "2      Bobby Orr                   1\n",
       "3     Brett Hull                   1\n",
       "4    Carey Price                   1"
      ],
      "text/html": "<div>\n<style scoped>\n    .dataframe tbody tr th:only-of-type {\n        vertical-align: middle;\n    }\n\n    .dataframe tbody tr th {\n        vertical-align: top;\n    }\n\n    .dataframe thead th {\n        text-align: right;\n    }\n</style>\n<table border=\"1\" class=\"dataframe\">\n  <thead>\n    <tr style=\"text-align: right;\">\n      <th></th>\n      <th>Player</th>\n      <th>Ted Lindsay Awards</th>\n    </tr>\n  </thead>\n  <tbody>\n    <tr>\n      <th>0</th>\n      <td>Alex Ovechkin</td>\n      <td>3</td>\n    </tr>\n    <tr>\n      <th>1</th>\n      <td>Bobby Clarke</td>\n      <td>1</td>\n    </tr>\n    <tr>\n      <th>2</th>\n      <td>Bobby Orr</td>\n      <td>1</td>\n    </tr>\n    <tr>\n      <th>3</th>\n      <td>Brett Hull</td>\n      <td>1</td>\n    </tr>\n    <tr>\n      <th>4</th>\n      <td>Carey Price</td>\n      <td>1</td>\n    </tr>\n  </tbody>\n</table>\n</div>"
     },
     "metadata": {},
     "execution_count": 116
    }
   ],
   "source": [
    "# Rename the year column to the award name\n",
    "ted_lindsay_grp_df = ted_lindsay_grp_df.rename(columns={\"Year\": \"Ted Lindsay Awards\"})\n",
    "ted_lindsay_grp_df.head()"
   ]
  },
  {
   "source": [
    "NHL Maurice Richard Trophy Winners, Award presented to the years top goal-scorer."
   ],
   "cell_type": "markdown",
   "metadata": {}
  },
  {
   "cell_type": "code",
   "execution_count": 117,
   "metadata": {},
   "outputs": [
    {
     "output_type": "execute_result",
     "data": {
      "text/plain": [
       "   Year          Player                 Team            Award\n",
       "0  2020   Alex Ovechkin  Washington Capitals  Maurice Richard\n",
       "1  2020  David Pastrnak        Boston Bruins  Maurice Richard\n",
       "2  2019   Alex Ovechkin  Washington Capitals  Maurice Richard\n",
       "3  2018   Alex Ovechkin  Washington Capitals  Maurice Richard\n",
       "4  2017   Sidney Crosby  Pittsburgh Penguins  Maurice Richard"
      ],
      "text/html": "<div>\n<style scoped>\n    .dataframe tbody tr th:only-of-type {\n        vertical-align: middle;\n    }\n\n    .dataframe tbody tr th {\n        vertical-align: top;\n    }\n\n    .dataframe thead th {\n        text-align: right;\n    }\n</style>\n<table border=\"1\" class=\"dataframe\">\n  <thead>\n    <tr style=\"text-align: right;\">\n      <th></th>\n      <th>Year</th>\n      <th>Player</th>\n      <th>Team</th>\n      <th>Award</th>\n    </tr>\n  </thead>\n  <tbody>\n    <tr>\n      <th>0</th>\n      <td>2020</td>\n      <td>Alex Ovechkin</td>\n      <td>Washington Capitals</td>\n      <td>Maurice Richard</td>\n    </tr>\n    <tr>\n      <th>1</th>\n      <td>2020</td>\n      <td>David Pastrnak</td>\n      <td>Boston Bruins</td>\n      <td>Maurice Richard</td>\n    </tr>\n    <tr>\n      <th>2</th>\n      <td>2019</td>\n      <td>Alex Ovechkin</td>\n      <td>Washington Capitals</td>\n      <td>Maurice Richard</td>\n    </tr>\n    <tr>\n      <th>3</th>\n      <td>2018</td>\n      <td>Alex Ovechkin</td>\n      <td>Washington Capitals</td>\n      <td>Maurice Richard</td>\n    </tr>\n    <tr>\n      <th>4</th>\n      <td>2017</td>\n      <td>Sidney Crosby</td>\n      <td>Pittsburgh Penguins</td>\n      <td>Maurice Richard</td>\n    </tr>\n  </tbody>\n</table>\n</div>"
     },
     "metadata": {},
     "execution_count": 117
    }
   ],
   "source": [
    "# Scrape the data for the Maurice Richard Award, Top Goal Scorer\n",
    "url = 'https://www.nhl.com/news/nhl-maurice-richard-trophy-winners-complete-list/c-287972892?tid=287709666'\n",
    "\n",
    "# Retrieve page with the requests module\n",
    "html = requests.get(url).text\n",
    "\n",
    "# Create BeautifulSoup object; parse with 'html.parser'\n",
    "soup = BeautifulSoup(html, 'html.parser')\n",
    "\n",
    "# results are returned as a list\n",
    "body = soup.find('div', class_='article-item__body')\n",
    "\n",
    "results = body.find_all('li')\n",
    "\n",
    "winners = []\n",
    "for result in results:\n",
    "    # Error handling\n",
    "    try:\n",
    "        #print(result)\n",
    "        row = result.text\n",
    "        #print(f'row: {row}')\n",
    "        words = row.split(':')\n",
    "        more_words = words[1].split(',')\n",
    "\n",
    "        winner = [words[0], more_words[0].strip(), more_words[1].strip(), \"Maurice Richard\"]\n",
    "        #print(winner)\n",
    "        winners.append(winner)\n",
    "\n",
    "    except AttributeError as error:\n",
    "        print(error)\n",
    "\n",
    "# convert list of lists into DataFrame\n",
    "maurice_richard_df = pd.DataFrame(winners, columns = ['Year', 'Player', 'Team', 'Award'])\n",
    "# convert year column to int for filtering purposes\n",
    "maurice_richard_df['Year'] = maurice_richard_df['Year'].astype(int)\n",
    "# filter dataframe \n",
    "# maurice_richard_df = maurice_richard_df.loc[ted_lindsay_df['Year'] >= 1967,:]\n",
    "maurice_richard_df.head()"
   ]
  },
  {
   "cell_type": "code",
   "execution_count": 118,
   "metadata": {},
   "outputs": [
    {
     "output_type": "execute_result",
     "data": {
      "text/plain": [
       "           Player  Year  Team  Award\n",
       "0   Alex Ovechkin     9     9      9\n",
       "1     Corey Perry     1     1      1\n",
       "2  David Pastrnak     1     1      1\n",
       "3  Ilya Kovalchuk     1     1      1\n",
       "4   Jarome Iginla     2     2      2"
      ],
      "text/html": "<div>\n<style scoped>\n    .dataframe tbody tr th:only-of-type {\n        vertical-align: middle;\n    }\n\n    .dataframe tbody tr th {\n        vertical-align: top;\n    }\n\n    .dataframe thead th {\n        text-align: right;\n    }\n</style>\n<table border=\"1\" class=\"dataframe\">\n  <thead>\n    <tr style=\"text-align: right;\">\n      <th></th>\n      <th>Player</th>\n      <th>Year</th>\n      <th>Team</th>\n      <th>Award</th>\n    </tr>\n  </thead>\n  <tbody>\n    <tr>\n      <th>0</th>\n      <td>Alex Ovechkin</td>\n      <td>9</td>\n      <td>9</td>\n      <td>9</td>\n    </tr>\n    <tr>\n      <th>1</th>\n      <td>Corey Perry</td>\n      <td>1</td>\n      <td>1</td>\n      <td>1</td>\n    </tr>\n    <tr>\n      <th>2</th>\n      <td>David Pastrnak</td>\n      <td>1</td>\n      <td>1</td>\n      <td>1</td>\n    </tr>\n    <tr>\n      <th>3</th>\n      <td>Ilya Kovalchuk</td>\n      <td>1</td>\n      <td>1</td>\n      <td>1</td>\n    </tr>\n    <tr>\n      <th>4</th>\n      <td>Jarome Iginla</td>\n      <td>2</td>\n      <td>2</td>\n      <td>2</td>\n    </tr>\n  </tbody>\n</table>\n</div>"
     },
     "metadata": {},
     "execution_count": 118
    }
   ],
   "source": [
    "# Group the data by the player's name column\n",
    "maurice_richard_grp_df = maurice_richard_df.groupby(by=\"Player\", as_index=False).count()\n",
    "maurice_richard_grp_df.head()"
   ]
  },
  {
   "cell_type": "code",
   "execution_count": 119,
   "metadata": {},
   "outputs": [
    {
     "output_type": "execute_result",
     "data": {
      "text/plain": [
       "           Player  Year\n",
       "0   Alex Ovechkin     9\n",
       "1     Corey Perry     1\n",
       "2  David Pastrnak     1\n",
       "3  Ilya Kovalchuk     1\n",
       "4   Jarome Iginla     2"
      ],
      "text/html": "<div>\n<style scoped>\n    .dataframe tbody tr th:only-of-type {\n        vertical-align: middle;\n    }\n\n    .dataframe tbody tr th {\n        vertical-align: top;\n    }\n\n    .dataframe thead th {\n        text-align: right;\n    }\n</style>\n<table border=\"1\" class=\"dataframe\">\n  <thead>\n    <tr style=\"text-align: right;\">\n      <th></th>\n      <th>Player</th>\n      <th>Year</th>\n    </tr>\n  </thead>\n  <tbody>\n    <tr>\n      <th>0</th>\n      <td>Alex Ovechkin</td>\n      <td>9</td>\n    </tr>\n    <tr>\n      <th>1</th>\n      <td>Corey Perry</td>\n      <td>1</td>\n    </tr>\n    <tr>\n      <th>2</th>\n      <td>David Pastrnak</td>\n      <td>1</td>\n    </tr>\n    <tr>\n      <th>3</th>\n      <td>Ilya Kovalchuk</td>\n      <td>1</td>\n    </tr>\n    <tr>\n      <th>4</th>\n      <td>Jarome Iginla</td>\n      <td>2</td>\n    </tr>\n  </tbody>\n</table>\n</div>"
     },
     "metadata": {},
     "execution_count": 119
    }
   ],
   "source": [
    "# Drop columns that are not needed\n",
    "maurice_richard_grp_df = maurice_richard_grp_df.drop(['Team', 'Award'], axis=1)\n",
    "maurice_richard_grp_df.head()"
   ]
  },
  {
   "cell_type": "code",
   "execution_count": 120,
   "metadata": {},
   "outputs": [
    {
     "output_type": "execute_result",
     "data": {
      "text/plain": [
       "           Player  Maurice Richard Awards\n",
       "0   Alex Ovechkin                       9\n",
       "1     Corey Perry                       1\n",
       "2  David Pastrnak                       1\n",
       "3  Ilya Kovalchuk                       1\n",
       "4   Jarome Iginla                       2"
      ],
      "text/html": "<div>\n<style scoped>\n    .dataframe tbody tr th:only-of-type {\n        vertical-align: middle;\n    }\n\n    .dataframe tbody tr th {\n        vertical-align: top;\n    }\n\n    .dataframe thead th {\n        text-align: right;\n    }\n</style>\n<table border=\"1\" class=\"dataframe\">\n  <thead>\n    <tr style=\"text-align: right;\">\n      <th></th>\n      <th>Player</th>\n      <th>Maurice Richard Awards</th>\n    </tr>\n  </thead>\n  <tbody>\n    <tr>\n      <th>0</th>\n      <td>Alex Ovechkin</td>\n      <td>9</td>\n    </tr>\n    <tr>\n      <th>1</th>\n      <td>Corey Perry</td>\n      <td>1</td>\n    </tr>\n    <tr>\n      <th>2</th>\n      <td>David Pastrnak</td>\n      <td>1</td>\n    </tr>\n    <tr>\n      <th>3</th>\n      <td>Ilya Kovalchuk</td>\n      <td>1</td>\n    </tr>\n    <tr>\n      <th>4</th>\n      <td>Jarome Iginla</td>\n      <td>2</td>\n    </tr>\n  </tbody>\n</table>\n</div>"
     },
     "metadata": {},
     "execution_count": 120
    }
   ],
   "source": [
    "# Rename the year column to theaward name for the count\n",
    "maurice_richard_grp_df = maurice_richard_grp_df.rename(columns={\"Year\": \"Maurice Richard Awards\"})\n",
    "maurice_richard_grp_df.head()"
   ]
  },
  {
   "source": [
    "Merge all the award dataframes together and clean the data"
   ],
   "cell_type": "markdown",
   "metadata": {}
  },
  {
   "cell_type": "code",
   "execution_count": 121,
   "metadata": {},
   "outputs": [
    {
     "output_type": "execute_result",
     "data": {
      "text/plain": [
       "             Player  Art Ross Awards  Conn Smythe Awards\n",
       "0        Ace Bailey              1.0                 NaN\n",
       "1     Alex Ovechkin              1.0                 1.0\n",
       "2          Babe Dye              2.0                 NaN\n",
       "3  Bernie Geoffrion              2.0                 NaN\n",
       "4         Bill Cook              2.0                 NaN"
      ],
      "text/html": "<div>\n<style scoped>\n    .dataframe tbody tr th:only-of-type {\n        vertical-align: middle;\n    }\n\n    .dataframe tbody tr th {\n        vertical-align: top;\n    }\n\n    .dataframe thead th {\n        text-align: right;\n    }\n</style>\n<table border=\"1\" class=\"dataframe\">\n  <thead>\n    <tr style=\"text-align: right;\">\n      <th></th>\n      <th>Player</th>\n      <th>Art Ross Awards</th>\n      <th>Conn Smythe Awards</th>\n    </tr>\n  </thead>\n  <tbody>\n    <tr>\n      <th>0</th>\n      <td>Ace Bailey</td>\n      <td>1.0</td>\n      <td>NaN</td>\n    </tr>\n    <tr>\n      <th>1</th>\n      <td>Alex Ovechkin</td>\n      <td>1.0</td>\n      <td>1.0</td>\n    </tr>\n    <tr>\n      <th>2</th>\n      <td>Babe Dye</td>\n      <td>2.0</td>\n      <td>NaN</td>\n    </tr>\n    <tr>\n      <th>3</th>\n      <td>Bernie Geoffrion</td>\n      <td>2.0</td>\n      <td>NaN</td>\n    </tr>\n    <tr>\n      <th>4</th>\n      <td>Bill Cook</td>\n      <td>2.0</td>\n      <td>NaN</td>\n    </tr>\n  </tbody>\n</table>\n</div>"
     },
     "metadata": {},
     "execution_count": 121
    }
   ],
   "source": [
    "# Merge the individual award files into one complete file\n",
    "awards_merge_df = pd.merge(art_ross_grp_df,\n",
    "                 conn_smythe_grp_df[['Player', 'Conn Smythe Awards']],\n",
    "                 on='Player', how='outer')\n",
    "awards_merge_df.head()"
   ]
  },
  {
   "cell_type": "code",
   "execution_count": 122,
   "metadata": {},
   "outputs": [
    {
     "output_type": "execute_result",
     "data": {
      "text/plain": [
       "             Player  Art Ross Awards  Conn Smythe Awards  Hart Awards\n",
       "0        Ace Bailey              1.0                 NaN          NaN\n",
       "1     Alex Ovechkin              1.0                 1.0          3.0\n",
       "2          Babe Dye              2.0                 NaN          NaN\n",
       "3  Bernie Geoffrion              2.0                 NaN          1.0\n",
       "4         Bill Cook              2.0                 NaN          NaN"
      ],
      "text/html": "<div>\n<style scoped>\n    .dataframe tbody tr th:only-of-type {\n        vertical-align: middle;\n    }\n\n    .dataframe tbody tr th {\n        vertical-align: top;\n    }\n\n    .dataframe thead th {\n        text-align: right;\n    }\n</style>\n<table border=\"1\" class=\"dataframe\">\n  <thead>\n    <tr style=\"text-align: right;\">\n      <th></th>\n      <th>Player</th>\n      <th>Art Ross Awards</th>\n      <th>Conn Smythe Awards</th>\n      <th>Hart Awards</th>\n    </tr>\n  </thead>\n  <tbody>\n    <tr>\n      <th>0</th>\n      <td>Ace Bailey</td>\n      <td>1.0</td>\n      <td>NaN</td>\n      <td>NaN</td>\n    </tr>\n    <tr>\n      <th>1</th>\n      <td>Alex Ovechkin</td>\n      <td>1.0</td>\n      <td>1.0</td>\n      <td>3.0</td>\n    </tr>\n    <tr>\n      <th>2</th>\n      <td>Babe Dye</td>\n      <td>2.0</td>\n      <td>NaN</td>\n      <td>NaN</td>\n    </tr>\n    <tr>\n      <th>3</th>\n      <td>Bernie Geoffrion</td>\n      <td>2.0</td>\n      <td>NaN</td>\n      <td>1.0</td>\n    </tr>\n    <tr>\n      <th>4</th>\n      <td>Bill Cook</td>\n      <td>2.0</td>\n      <td>NaN</td>\n      <td>NaN</td>\n    </tr>\n  </tbody>\n</table>\n</div>"
     },
     "metadata": {},
     "execution_count": 122
    }
   ],
   "source": [
    "# Merge the individual award files into one complete file\n",
    "awards_merge_df = pd.merge(awards_merge_df,\n",
    "                 hart_grp_df[['Player', 'Hart Awards']],\n",
    "                 on='Player', how='outer')\n",
    "awards_merge_df.head()"
   ]
  },
  {
   "cell_type": "code",
   "execution_count": 123,
   "metadata": {},
   "outputs": [
    {
     "output_type": "execute_result",
     "data": {
      "text/plain": [
       "             Player  Art Ross Awards  Conn Smythe Awards  Hart Awards  \\\n",
       "0        Ace Bailey              1.0                 NaN          NaN   \n",
       "1     Alex Ovechkin              1.0                 1.0          3.0   \n",
       "2          Babe Dye              2.0                 NaN          NaN   \n",
       "3  Bernie Geoffrion              2.0                 NaN          1.0   \n",
       "4         Bill Cook              2.0                 NaN          NaN   \n",
       "\n",
       "   Calder Awards  \n",
       "0            NaN  \n",
       "1            1.0  \n",
       "2            NaN  \n",
       "3            1.0  \n",
       "4            NaN  "
      ],
      "text/html": "<div>\n<style scoped>\n    .dataframe tbody tr th:only-of-type {\n        vertical-align: middle;\n    }\n\n    .dataframe tbody tr th {\n        vertical-align: top;\n    }\n\n    .dataframe thead th {\n        text-align: right;\n    }\n</style>\n<table border=\"1\" class=\"dataframe\">\n  <thead>\n    <tr style=\"text-align: right;\">\n      <th></th>\n      <th>Player</th>\n      <th>Art Ross Awards</th>\n      <th>Conn Smythe Awards</th>\n      <th>Hart Awards</th>\n      <th>Calder Awards</th>\n    </tr>\n  </thead>\n  <tbody>\n    <tr>\n      <th>0</th>\n      <td>Ace Bailey</td>\n      <td>1.0</td>\n      <td>NaN</td>\n      <td>NaN</td>\n      <td>NaN</td>\n    </tr>\n    <tr>\n      <th>1</th>\n      <td>Alex Ovechkin</td>\n      <td>1.0</td>\n      <td>1.0</td>\n      <td>3.0</td>\n      <td>1.0</td>\n    </tr>\n    <tr>\n      <th>2</th>\n      <td>Babe Dye</td>\n      <td>2.0</td>\n      <td>NaN</td>\n      <td>NaN</td>\n      <td>NaN</td>\n    </tr>\n    <tr>\n      <th>3</th>\n      <td>Bernie Geoffrion</td>\n      <td>2.0</td>\n      <td>NaN</td>\n      <td>1.0</td>\n      <td>1.0</td>\n    </tr>\n    <tr>\n      <th>4</th>\n      <td>Bill Cook</td>\n      <td>2.0</td>\n      <td>NaN</td>\n      <td>NaN</td>\n      <td>NaN</td>\n    </tr>\n  </tbody>\n</table>\n</div>"
     },
     "metadata": {},
     "execution_count": 123
    }
   ],
   "source": [
    "# Merge the individual award files into one complete file\n",
    "awards_merge_df = pd.merge(awards_merge_df,\n",
    "                 calder_memorial_grp_df[['Player', 'Calder Awards']],\n",
    "                 on='Player', how='outer')\n",
    "awards_merge_df.head()"
   ]
  },
  {
   "cell_type": "code",
   "execution_count": 124,
   "metadata": {},
   "outputs": [
    {
     "output_type": "execute_result",
     "data": {
      "text/plain": [
       "             Player  Art Ross Awards  Conn Smythe Awards  Hart Awards  \\\n",
       "0        Ace Bailey              1.0                 NaN          NaN   \n",
       "1     Alex Ovechkin              1.0                 1.0          3.0   \n",
       "2          Babe Dye              2.0                 NaN          NaN   \n",
       "3  Bernie Geoffrion              2.0                 NaN          1.0   \n",
       "4         Bill Cook              2.0                 NaN          NaN   \n",
       "\n",
       "   Calder Awards  James Norris Awards  \n",
       "0            NaN                  NaN  \n",
       "1            1.0                  NaN  \n",
       "2            NaN                  NaN  \n",
       "3            1.0                  NaN  \n",
       "4            NaN                  NaN  "
      ],
      "text/html": "<div>\n<style scoped>\n    .dataframe tbody tr th:only-of-type {\n        vertical-align: middle;\n    }\n\n    .dataframe tbody tr th {\n        vertical-align: top;\n    }\n\n    .dataframe thead th {\n        text-align: right;\n    }\n</style>\n<table border=\"1\" class=\"dataframe\">\n  <thead>\n    <tr style=\"text-align: right;\">\n      <th></th>\n      <th>Player</th>\n      <th>Art Ross Awards</th>\n      <th>Conn Smythe Awards</th>\n      <th>Hart Awards</th>\n      <th>Calder Awards</th>\n      <th>James Norris Awards</th>\n    </tr>\n  </thead>\n  <tbody>\n    <tr>\n      <th>0</th>\n      <td>Ace Bailey</td>\n      <td>1.0</td>\n      <td>NaN</td>\n      <td>NaN</td>\n      <td>NaN</td>\n      <td>NaN</td>\n    </tr>\n    <tr>\n      <th>1</th>\n      <td>Alex Ovechkin</td>\n      <td>1.0</td>\n      <td>1.0</td>\n      <td>3.0</td>\n      <td>1.0</td>\n      <td>NaN</td>\n    </tr>\n    <tr>\n      <th>2</th>\n      <td>Babe Dye</td>\n      <td>2.0</td>\n      <td>NaN</td>\n      <td>NaN</td>\n      <td>NaN</td>\n      <td>NaN</td>\n    </tr>\n    <tr>\n      <th>3</th>\n      <td>Bernie Geoffrion</td>\n      <td>2.0</td>\n      <td>NaN</td>\n      <td>1.0</td>\n      <td>1.0</td>\n      <td>NaN</td>\n    </tr>\n    <tr>\n      <th>4</th>\n      <td>Bill Cook</td>\n      <td>2.0</td>\n      <td>NaN</td>\n      <td>NaN</td>\n      <td>NaN</td>\n      <td>NaN</td>\n    </tr>\n  </tbody>\n</table>\n</div>"
     },
     "metadata": {},
     "execution_count": 124
    }
   ],
   "source": [
    "# Merge the individual award files into one complete file\n",
    "awards_merge_df = pd.merge(awards_merge_df,\n",
    "                 james_norris_grp_df[['Player', 'James Norris Awards']],\n",
    "                 on='Player', how='outer')\n",
    "awards_merge_df.head()"
   ]
  },
  {
   "cell_type": "code",
   "execution_count": 125,
   "metadata": {},
   "outputs": [
    {
     "output_type": "execute_result",
     "data": {
      "text/plain": [
       "             Player  Art Ross Awards  Conn Smythe Awards  Hart Awards  \\\n",
       "0        Ace Bailey              1.0                 NaN          NaN   \n",
       "1     Alex Ovechkin              1.0                 1.0          3.0   \n",
       "2          Babe Dye              2.0                 NaN          NaN   \n",
       "3  Bernie Geoffrion              2.0                 NaN          1.0   \n",
       "4         Bill Cook              2.0                 NaN          NaN   \n",
       "\n",
       "   Calder Awards  James Norris Awards  Ted Lindsay Awards  \n",
       "0            NaN                  NaN                 NaN  \n",
       "1            1.0                  NaN                 3.0  \n",
       "2            NaN                  NaN                 NaN  \n",
       "3            1.0                  NaN                 NaN  \n",
       "4            NaN                  NaN                 NaN  "
      ],
      "text/html": "<div>\n<style scoped>\n    .dataframe tbody tr th:only-of-type {\n        vertical-align: middle;\n    }\n\n    .dataframe tbody tr th {\n        vertical-align: top;\n    }\n\n    .dataframe thead th {\n        text-align: right;\n    }\n</style>\n<table border=\"1\" class=\"dataframe\">\n  <thead>\n    <tr style=\"text-align: right;\">\n      <th></th>\n      <th>Player</th>\n      <th>Art Ross Awards</th>\n      <th>Conn Smythe Awards</th>\n      <th>Hart Awards</th>\n      <th>Calder Awards</th>\n      <th>James Norris Awards</th>\n      <th>Ted Lindsay Awards</th>\n    </tr>\n  </thead>\n  <tbody>\n    <tr>\n      <th>0</th>\n      <td>Ace Bailey</td>\n      <td>1.0</td>\n      <td>NaN</td>\n      <td>NaN</td>\n      <td>NaN</td>\n      <td>NaN</td>\n      <td>NaN</td>\n    </tr>\n    <tr>\n      <th>1</th>\n      <td>Alex Ovechkin</td>\n      <td>1.0</td>\n      <td>1.0</td>\n      <td>3.0</td>\n      <td>1.0</td>\n      <td>NaN</td>\n      <td>3.0</td>\n    </tr>\n    <tr>\n      <th>2</th>\n      <td>Babe Dye</td>\n      <td>2.0</td>\n      <td>NaN</td>\n      <td>NaN</td>\n      <td>NaN</td>\n      <td>NaN</td>\n      <td>NaN</td>\n    </tr>\n    <tr>\n      <th>3</th>\n      <td>Bernie Geoffrion</td>\n      <td>2.0</td>\n      <td>NaN</td>\n      <td>1.0</td>\n      <td>1.0</td>\n      <td>NaN</td>\n      <td>NaN</td>\n    </tr>\n    <tr>\n      <th>4</th>\n      <td>Bill Cook</td>\n      <td>2.0</td>\n      <td>NaN</td>\n      <td>NaN</td>\n      <td>NaN</td>\n      <td>NaN</td>\n      <td>NaN</td>\n    </tr>\n  </tbody>\n</table>\n</div>"
     },
     "metadata": {},
     "execution_count": 125
    }
   ],
   "source": [
    "# Merge the individual award files into one complete file\n",
    "awards_merge_df = pd.merge(awards_merge_df,\n",
    "                 ted_lindsay_grp_df[['Player', 'Ted Lindsay Awards']],\n",
    "                 on='Player', how='outer')\n",
    "awards_merge_df.head()"
   ]
  },
  {
   "cell_type": "code",
   "execution_count": 126,
   "metadata": {},
   "outputs": [
    {
     "output_type": "execute_result",
     "data": {
      "text/plain": [
       "             Player  Art Ross Awards  Conn Smythe Awards  Hart Awards  \\\n",
       "0        Ace Bailey              1.0                 NaN          NaN   \n",
       "1     Alex Ovechkin              1.0                 1.0          3.0   \n",
       "2          Babe Dye              2.0                 NaN          NaN   \n",
       "3  Bernie Geoffrion              2.0                 NaN          1.0   \n",
       "4         Bill Cook              2.0                 NaN          NaN   \n",
       "\n",
       "   Calder Awards  James Norris Awards  Ted Lindsay Awards  \\\n",
       "0            NaN                  NaN                 NaN   \n",
       "1            1.0                  NaN                 3.0   \n",
       "2            NaN                  NaN                 NaN   \n",
       "3            1.0                  NaN                 NaN   \n",
       "4            NaN                  NaN                 NaN   \n",
       "\n",
       "   Maurice Richard Awards  \n",
       "0                     NaN  \n",
       "1                     9.0  \n",
       "2                     NaN  \n",
       "3                     NaN  \n",
       "4                     NaN  "
      ],
      "text/html": "<div>\n<style scoped>\n    .dataframe tbody tr th:only-of-type {\n        vertical-align: middle;\n    }\n\n    .dataframe tbody tr th {\n        vertical-align: top;\n    }\n\n    .dataframe thead th {\n        text-align: right;\n    }\n</style>\n<table border=\"1\" class=\"dataframe\">\n  <thead>\n    <tr style=\"text-align: right;\">\n      <th></th>\n      <th>Player</th>\n      <th>Art Ross Awards</th>\n      <th>Conn Smythe Awards</th>\n      <th>Hart Awards</th>\n      <th>Calder Awards</th>\n      <th>James Norris Awards</th>\n      <th>Ted Lindsay Awards</th>\n      <th>Maurice Richard Awards</th>\n    </tr>\n  </thead>\n  <tbody>\n    <tr>\n      <th>0</th>\n      <td>Ace Bailey</td>\n      <td>1.0</td>\n      <td>NaN</td>\n      <td>NaN</td>\n      <td>NaN</td>\n      <td>NaN</td>\n      <td>NaN</td>\n      <td>NaN</td>\n    </tr>\n    <tr>\n      <th>1</th>\n      <td>Alex Ovechkin</td>\n      <td>1.0</td>\n      <td>1.0</td>\n      <td>3.0</td>\n      <td>1.0</td>\n      <td>NaN</td>\n      <td>3.0</td>\n      <td>9.0</td>\n    </tr>\n    <tr>\n      <th>2</th>\n      <td>Babe Dye</td>\n      <td>2.0</td>\n      <td>NaN</td>\n      <td>NaN</td>\n      <td>NaN</td>\n      <td>NaN</td>\n      <td>NaN</td>\n      <td>NaN</td>\n    </tr>\n    <tr>\n      <th>3</th>\n      <td>Bernie Geoffrion</td>\n      <td>2.0</td>\n      <td>NaN</td>\n      <td>1.0</td>\n      <td>1.0</td>\n      <td>NaN</td>\n      <td>NaN</td>\n      <td>NaN</td>\n    </tr>\n    <tr>\n      <th>4</th>\n      <td>Bill Cook</td>\n      <td>2.0</td>\n      <td>NaN</td>\n      <td>NaN</td>\n      <td>NaN</td>\n      <td>NaN</td>\n      <td>NaN</td>\n      <td>NaN</td>\n    </tr>\n  </tbody>\n</table>\n</div>"
     },
     "metadata": {},
     "execution_count": 126
    }
   ],
   "source": [
    "# Merge the individual award files into one complete file\n",
    "awards_merge_df = pd.merge(awards_merge_df,\n",
    "                 maurice_richard_grp_df[['Player', 'Maurice Richard Awards']],\n",
    "                 on='Player', how='outer')\n",
    "awards_merge_df.head()"
   ]
  },
  {
   "cell_type": "code",
   "execution_count": 127,
   "metadata": {},
   "outputs": [
    {
     "output_type": "execute_result",
     "data": {
      "text/plain": [
       "               Player  Art Ross Awards  Conn Smythe Awards  Hart Awards  \\\n",
       "0          Ace Bailey              1.0                 NaN          NaN   \n",
       "1  Alexander Ovechkin              1.0                 1.0          3.0   \n",
       "2            Babe Dye              2.0                 NaN          NaN   \n",
       "3   Bernard Geoffrion              2.0                 NaN          1.0   \n",
       "4           Bill Cook              2.0                 NaN          NaN   \n",
       "\n",
       "   Calder Awards  James Norris Awards  Ted Lindsay Awards  \\\n",
       "0            NaN                  NaN                 NaN   \n",
       "1            1.0                  NaN                 3.0   \n",
       "2            NaN                  NaN                 NaN   \n",
       "3            1.0                  NaN                 NaN   \n",
       "4            NaN                  NaN                 NaN   \n",
       "\n",
       "   Maurice Richard Awards  \n",
       "0                     NaN  \n",
       "1                     9.0  \n",
       "2                     NaN  \n",
       "3                     NaN  \n",
       "4                     NaN  "
      ],
      "text/html": "<div>\n<style scoped>\n    .dataframe tbody tr th:only-of-type {\n        vertical-align: middle;\n    }\n\n    .dataframe tbody tr th {\n        vertical-align: top;\n    }\n\n    .dataframe thead th {\n        text-align: right;\n    }\n</style>\n<table border=\"1\" class=\"dataframe\">\n  <thead>\n    <tr style=\"text-align: right;\">\n      <th></th>\n      <th>Player</th>\n      <th>Art Ross Awards</th>\n      <th>Conn Smythe Awards</th>\n      <th>Hart Awards</th>\n      <th>Calder Awards</th>\n      <th>James Norris Awards</th>\n      <th>Ted Lindsay Awards</th>\n      <th>Maurice Richard Awards</th>\n    </tr>\n  </thead>\n  <tbody>\n    <tr>\n      <th>0</th>\n      <td>Ace Bailey</td>\n      <td>1.0</td>\n      <td>NaN</td>\n      <td>NaN</td>\n      <td>NaN</td>\n      <td>NaN</td>\n      <td>NaN</td>\n      <td>NaN</td>\n    </tr>\n    <tr>\n      <th>1</th>\n      <td>Alexander Ovechkin</td>\n      <td>1.0</td>\n      <td>1.0</td>\n      <td>3.0</td>\n      <td>1.0</td>\n      <td>NaN</td>\n      <td>3.0</td>\n      <td>9.0</td>\n    </tr>\n    <tr>\n      <th>2</th>\n      <td>Babe Dye</td>\n      <td>2.0</td>\n      <td>NaN</td>\n      <td>NaN</td>\n      <td>NaN</td>\n      <td>NaN</td>\n      <td>NaN</td>\n      <td>NaN</td>\n    </tr>\n    <tr>\n      <th>3</th>\n      <td>Bernard Geoffrion</td>\n      <td>2.0</td>\n      <td>NaN</td>\n      <td>1.0</td>\n      <td>1.0</td>\n      <td>NaN</td>\n      <td>NaN</td>\n      <td>NaN</td>\n    </tr>\n    <tr>\n      <th>4</th>\n      <td>Bill Cook</td>\n      <td>2.0</td>\n      <td>NaN</td>\n      <td>NaN</td>\n      <td>NaN</td>\n      <td>NaN</td>\n      <td>NaN</td>\n      <td>NaN</td>\n    </tr>\n  </tbody>\n</table>\n</div>"
     },
     "metadata": {},
     "execution_count": 127
    }
   ],
   "source": [
    "# Change mismatch names to match across files\n",
    "awards_merge_df = awards_merge_df.replace(\"Alex Ovechkin\", \"Alexander Ovechkin\")\n",
    "awards_merge_df = awards_merge_df.replace(\"Bernie Geoffrion\", \"Bernard Geoffrion\")\n",
    "awards_merge_df = awards_merge_df.replace(\"Evgeni Malkin\", \"Yevgeni Malkin\")\n",
    "awards_merge_df = awards_merge_df.replace(\"Johnny Quilty\", \"John Quilty\")\n",
    "awards_merge_df = awards_merge_df.replace(\"Ray Bourque\", \"Raymond Bourque\")\n",
    "awards_merge_df = awards_merge_df.replace(\"Sweeney Schriner\", \"David Schriner\")\n",
    "awards_merge_df = awards_merge_df.replace(\"Tommy Anderson\", \"Tom Anderson\")\n",
    "awards_merge_df.head()"
   ]
  },
  {
   "cell_type": "code",
   "execution_count": 128,
   "metadata": {},
   "outputs": [
    {
     "output_type": "execute_result",
     "data": {
      "text/plain": [
       "               Player  Art Ross Awards  Conn Smythe Awards  Hart Awards  \\\n",
       "0          Ace Bailey              1.0                 0.0          0.0   \n",
       "1  Alexander Ovechkin              1.0                 1.0          3.0   \n",
       "2            Babe Dye              2.0                 0.0          0.0   \n",
       "3   Bernard Geoffrion              2.0                 0.0          1.0   \n",
       "4           Bill Cook              2.0                 0.0          0.0   \n",
       "\n",
       "   Calder Awards  James Norris Awards  Ted Lindsay Awards  \\\n",
       "0            0.0                  0.0                 0.0   \n",
       "1            1.0                  0.0                 3.0   \n",
       "2            0.0                  0.0                 0.0   \n",
       "3            1.0                  0.0                 0.0   \n",
       "4            0.0                  0.0                 0.0   \n",
       "\n",
       "   Maurice Richard Awards  Awards3  Awards2  Awards  \n",
       "0                     0.0      1.0      1.0     1.0  \n",
       "1                     9.0      5.0      6.0    18.0  \n",
       "2                     0.0      2.0      2.0     2.0  \n",
       "3                     0.0      3.0      4.0     4.0  \n",
       "4                     0.0      2.0      2.0     2.0  "
      ],
      "text/html": "<div>\n<style scoped>\n    .dataframe tbody tr th:only-of-type {\n        vertical-align: middle;\n    }\n\n    .dataframe tbody tr th {\n        vertical-align: top;\n    }\n\n    .dataframe thead th {\n        text-align: right;\n    }\n</style>\n<table border=\"1\" class=\"dataframe\">\n  <thead>\n    <tr style=\"text-align: right;\">\n      <th></th>\n      <th>Player</th>\n      <th>Art Ross Awards</th>\n      <th>Conn Smythe Awards</th>\n      <th>Hart Awards</th>\n      <th>Calder Awards</th>\n      <th>James Norris Awards</th>\n      <th>Ted Lindsay Awards</th>\n      <th>Maurice Richard Awards</th>\n      <th>Awards3</th>\n      <th>Awards2</th>\n      <th>Awards</th>\n    </tr>\n  </thead>\n  <tbody>\n    <tr>\n      <th>0</th>\n      <td>Ace Bailey</td>\n      <td>1.0</td>\n      <td>0.0</td>\n      <td>0.0</td>\n      <td>0.0</td>\n      <td>0.0</td>\n      <td>0.0</td>\n      <td>0.0</td>\n      <td>1.0</td>\n      <td>1.0</td>\n      <td>1.0</td>\n    </tr>\n    <tr>\n      <th>1</th>\n      <td>Alexander Ovechkin</td>\n      <td>1.0</td>\n      <td>1.0</td>\n      <td>3.0</td>\n      <td>1.0</td>\n      <td>0.0</td>\n      <td>3.0</td>\n      <td>9.0</td>\n      <td>5.0</td>\n      <td>6.0</td>\n      <td>18.0</td>\n    </tr>\n    <tr>\n      <th>2</th>\n      <td>Babe Dye</td>\n      <td>2.0</td>\n      <td>0.0</td>\n      <td>0.0</td>\n      <td>0.0</td>\n      <td>0.0</td>\n      <td>0.0</td>\n      <td>0.0</td>\n      <td>2.0</td>\n      <td>2.0</td>\n      <td>2.0</td>\n    </tr>\n    <tr>\n      <th>3</th>\n      <td>Bernard Geoffrion</td>\n      <td>2.0</td>\n      <td>0.0</td>\n      <td>1.0</td>\n      <td>1.0</td>\n      <td>0.0</td>\n      <td>0.0</td>\n      <td>0.0</td>\n      <td>3.0</td>\n      <td>4.0</td>\n      <td>4.0</td>\n    </tr>\n    <tr>\n      <th>4</th>\n      <td>Bill Cook</td>\n      <td>2.0</td>\n      <td>0.0</td>\n      <td>0.0</td>\n      <td>0.0</td>\n      <td>0.0</td>\n      <td>0.0</td>\n      <td>0.0</td>\n      <td>2.0</td>\n      <td>2.0</td>\n      <td>2.0</td>\n    </tr>\n  </tbody>\n</table>\n</div>"
     },
     "metadata": {},
     "execution_count": 128
    }
   ],
   "source": [
    "awards_merge_df = awards_merge_df.fillna(0)\n",
    "awards_merge_df['Awards3'] = awards_merge_df['Art Ross Awards'] + awards_merge_df['Conn Smythe Awards'] + awards_merge_df['Hart Awards']\n",
    "awards_merge_df['Awards2'] = awards_merge_df['Awards3'] + awards_merge_df['Calder Awards'] + awards_merge_df['James Norris Awards']  \n",
    "awards_merge_df['Awards'] = awards_merge_df['Awards2'] + awards_merge_df['Ted Lindsay Awards'] + awards_merge_df['Maurice Richard Awards']                           \n",
    "awards_merge_df.head()"
   ]
  },
  {
   "cell_type": "code",
   "execution_count": 131,
   "metadata": {},
   "outputs": [
    {
     "output_type": "execute_result",
     "data": {
      "text/plain": [
       "               Player  Awards\n",
       "0          Ace Bailey     1.0\n",
       "1  Alexander Ovechkin    18.0\n",
       "2            Babe Dye     2.0\n",
       "3   Bernard Geoffrion     4.0\n",
       "4           Bill Cook     2.0"
      ],
      "text/html": "<div>\n<style scoped>\n    .dataframe tbody tr th:only-of-type {\n        vertical-align: middle;\n    }\n\n    .dataframe tbody tr th {\n        vertical-align: top;\n    }\n\n    .dataframe thead th {\n        text-align: right;\n    }\n</style>\n<table border=\"1\" class=\"dataframe\">\n  <thead>\n    <tr style=\"text-align: right;\">\n      <th></th>\n      <th>Player</th>\n      <th>Awards</th>\n    </tr>\n  </thead>\n  <tbody>\n    <tr>\n      <th>0</th>\n      <td>Ace Bailey</td>\n      <td>1.0</td>\n    </tr>\n    <tr>\n      <th>1</th>\n      <td>Alexander Ovechkin</td>\n      <td>18.0</td>\n    </tr>\n    <tr>\n      <th>2</th>\n      <td>Babe Dye</td>\n      <td>2.0</td>\n    </tr>\n    <tr>\n      <th>3</th>\n      <td>Bernard Geoffrion</td>\n      <td>4.0</td>\n    </tr>\n    <tr>\n      <th>4</th>\n      <td>Bill Cook</td>\n      <td>2.0</td>\n    </tr>\n  </tbody>\n</table>\n</div>"
     },
     "metadata": {},
     "execution_count": 131
    }
   ],
   "source": [
    "# awards_merge_df = awards_merge_df.drop(['Art Ross Awards', 'Conn Smythe Awards', 'Hart Awards', 'Calder Awards', 'James Norris Awards',\n",
    "#                                          'Ted Lindsay Awards', 'Maurice Richard Awards', 'Awards2', 'Awards3'], axis=1)\n",
    "awards_merge_df.head()"
   ]
  },
  {
   "source": [
    "Scrape the data from url to get the players Stanley Cup wins"
   ],
   "cell_type": "markdown",
   "metadata": {}
  },
  {
   "cell_type": "code",
   "execution_count": 132,
   "metadata": {},
   "outputs": [],
   "source": [
    "# Scrape the data for Stanley Cup wins by player\n",
    "from selenium.webdriver import Chrome\n",
    "from selenium.webdriver.chrome.options import Options\n",
    "from splinter.driver.webdriver import BaseWebDriver, WebDriverElement"
   ]
  },
  {
   "cell_type": "code",
   "execution_count": 133,
   "metadata": {},
   "outputs": [],
   "source": [
    "options = Options()\n",
    "options.add_argument('--no-sandbox')\n",
    "executable_path = {'executable_path': 'chromedriver.exe'}\n",
    "browser = Browser('chrome', **executable_path, headless=False, chrome_options=options)"
   ]
  },
  {
   "cell_type": "code",
   "execution_count": 134,
   "metadata": {},
   "outputs": [],
   "source": [
    "# Set URL to the stanley Cup records page\n",
    "url = 'https://records.nhl.com/records/playoff-skater-records/stanley-cups/skater-most-stanley-cups-won-career'\n",
    "browser.visit(url)"
   ]
  },
  {
   "cell_type": "code",
   "execution_count": 135,
   "metadata": {},
   "outputs": [
    {
     "output_type": "execute_result",
     "data": {
      "text/plain": [
       "'Pos': 'L', 'Cups': '1'},\n",
       " {'Player': 'Jim Hay', 'Pos': 'D', 'Cups': '1'},\n",
       " {'Player': 'Ian Cushenan', 'Pos': 'D', 'Cups': '1'},\n",
       " {'Player': 'Earl Balfour', 'Pos': 'L', 'Cups': '1'},\n",
       " {'Player': 'Murray Balfour', 'Pos': 'R', 'Cups': '1'},\n",
       " {'Player': 'Jack Evans', 'Pos': 'D', 'Cups': '1'},\n",
       " {'Player': 'Reg Fleming', 'Pos': 'D', 'Cups': '1'},\n",
       " {'Player': 'Bill Hay', 'Pos': 'C', 'Cups': '1'},\n",
       " {'Player': 'Wayne Hicks', 'Pos': 'R', 'Cups': '1'},\n",
       " {'Player': 'Wayne Hillman', 'Pos': 'D', 'Cups': '1'},\n",
       " {'Player': 'Bobby Hull', 'Pos': 'L', 'Cups': '1'},\n",
       " {'Player': 'Chico Maki', 'Pos': 'R', 'Cups': '1'},\n",
       " {'Player': 'Stan Mikita', 'Pos': 'C', 'Cups': '1'},\n",
       " {'Player': 'Eric Nesterenko', 'Pos': 'R', 'Cups': '1'},\n",
       " {'Player': 'Pierre Pilote', 'Pos': 'D', 'Cups': '1'},\n",
       " {'Player': 'Moose Vasko', 'Pos': 'D', 'Cups': '1'},\n",
       " {'Player': 'Kenny Wharram', 'Pos': 'R', 'Cups': '1'},\n",
       " {'Player': 'Andy Bathgate', 'Pos': 'R', 'Cups': '1'},\n",
       " {'Player': 'Gerry Ehman', 'Pos': 'R', 'Cups': '1'},\n",
       " {'Player': 'Don McKenney', 'Pos': 'C', 'Cups': '1'},\n",
       " {'Player': 'Red Berenson', 'Pos': 'C', 'Cups': '1'},\n",
       " {'Player': 'Jean Gauthier', 'Pos': 'D', 'Cups': '1'},\n",
       " {'Player': 'Garry Peters', 'Pos': 'C', 'Cups': '1'},\n",
       " {'Player': 'Noel Picard', 'Pos': 'D', 'Cups': '1'},\n",
       " {'Player': 'Bryan Watson', 'Pos': 'D', 'Cups': '1'},\n",
       " {'Player': 'Noel Price', 'Pos': 'D', 'Cups': '1'},\n",
       " {'Player': 'John Brenneman', 'Pos': 'L', 'Cups': '1'},\n",
       " {'Player': 'Brian Conacher', 'Pos': 'L', 'Cups': '1'},\n",
       " {'Player': 'Ron Ellis', 'Pos': 'R', 'Cups': '1'},\n",
       " {'Player': 'Aut Erickson', 'Pos': 'D', 'Cups': '1'},\n",
       " {'Player': 'Larry Jeffrey', 'Pos': 'L', 'Cups': '1'},\n",
       " {'Player': 'Milan Marcetta', 'Pos': 'C', 'Cups': '1'},\n",
       " {'Player': 'Pete Stemkowski', 'Pos': 'C', 'Cups': '1'},\n",
       " {'Player': 'Danny Grant', 'Pos': 'L', 'Cups': '1'},\n",
       " {'Player': 'Christian Bordeleau', 'Pos': 'C', 'Cups': '1'},\n",
       " {'Player': 'Ivan Boldirev', 'Pos': 'C', 'Cups': '1'},\n",
       " {'Player': 'Wayne Carleton', 'Pos': 'L', 'Cups': '1'},\n",
       " {'Player': 'Gary Doak', 'Pos': 'D', 'Cups': '1'},\n",
       " {'Player': 'Bill Lesuk', 'Pos': 'R', 'Cups': '1'},\n",
       " {'Player': 'Jim Lorentz', 'Pos': 'C', 'Cups': '1'},\n",
       " {'Player': 'Danny Schock', 'Pos': 'L', 'Cups': '1'},\n",
       " {'Player': 'Rick Smith', 'Pos': 'D', 'Cups': '1'},\n",
       " {'Player': 'Bill Speer', 'Pos': 'D', 'Cups': '1'},\n",
       " {'Player': 'Phil Roberto', 'Pos': 'R', 'Cups': '1'},\n",
       " {'Player': 'Bobby Sheehan', 'Pos': 'C', 'Cups': '1'},\n",
       " {'Player': 'Barry Ashbee', 'Pos': 'D', 'Cups': '1'},\n",
       " {'Player': 'Bruce Cowick', 'Pos': 'L', 'Cups': '1'},\n",
       " {'Player': 'Bill Flett', 'Pos': 'R', 'Cups': '1'},\n",
       " {'Player': 'Simon Nolet', 'Pos': 'R', 'Cups': '1'},\n",
       " {'Player': 'Larry Goodenough', 'Pos': 'D', 'Cups': '1'},\n",
       " {'Player': 'Reggie Leach', 'Pos': 'R', 'Cups': '1'},\n",
       " {'Player': 'John Van Boxmeer', 'Pos': 'D', 'Cups': '1'},\n",
       " {'Player': 'Mike Polich', 'Pos': 'C', 'Cups': '1'},\n",
       " {'Player': 'Cam Connor', 'Pos': 'R', 'Cups': '1'},\n",
       " {'Player': 'Rod Langway', 'Pos': 'D', 'Cups': '1'},\n",
       " {'Player': 'Lorne Henning', 'Pos': 'C', 'Cups': '1'},\n",
       " {'Player': 'Alex McKendry', 'Pos': 'L', 'Cups': '1'},\n",
       " {'Player': 'Steve Tambellini', 'Pos': 'C', 'Cups': '1'},\n",
       " {'Player': 'Paul Boutilier', 'Pos': 'D', 'Cups': '1'},\n",
       " {'Player': 'Mats Hallin', 'Pos': 'C', 'Cups': '1'},\n",
       " {'Player': 'Pat Conacher', 'Pos': 'L', 'Cups': '1'},\n",
       " {'Player': 'Ken Linseman', 'Pos': 'C', 'Cups': '1'},\n",
       " {'Player': 'Larry Melnyk', 'Pos': 'D', 'Cups': '1'},\n",
       " {'Player': 'Serge Boisvert', 'Pos': 'R', 'Cups': '1'},\n",
       " {'Player': 'Kjell Dahlin', 'Pos': 'C', 'Cups': '1'},\n",
       " {'Player': 'Lucien DeBlois', 'Pos': 'C', 'Cups': '1'},\n",
       " {'Player': 'Gaston Gingras', 'Pos': 'D', 'Cups': '1'},\n",
       " {'Player': 'Rick Green', 'Pos': 'D', 'Cups': '1'},\n",
       " {'Player': 'John Kordic', 'Pos': 'R', 'Cups': '1'},\n",
       " {'Player': 'Tom Kurvers', 'Pos': 'D', 'Cups': '1'},\n",
       " {'Player': 'Mike Lalor', 'Pos': 'D', 'Cups': '1'},\n",
       " {'Player': 'David Maley', 'Pos': 'L', 'Cups': '1'},\n",
       " {'Player': 'Mike McPhee', 'Pos': 'L', 'Cups': '1'},\n",
       " {'Player': 'Mats Naslund', 'Pos': 'L', 'Cups': '1'},\n",
       " {'Player': 'Chris Nilan', 'Pos': 'R', 'Cups': '1'},\n",
       " {'Player': 'Steve Rooney', 'Pos': 'C', 'Cups': '1'},\n",
       " {'Player': 'Bobby Smith', 'Pos': 'C', 'Cups': '1'},\n",
       " {'Player': 'Petr Svoboda', 'Pos': 'D', 'Cups': '1'},\n",
       " {'Player': 'Ryan Walter', 'Pos': 'C', 'Cups': '1'},\n",
       " {'Player': 'Moe Lemay', 'Pos': 'L', 'Cups': '1'},\n",
       " {'Player': 'Kent Nilsson', 'Pos': 'C', 'Cups': '1'},\n",
       " {'Player': 'Keith Acton', 'Pos': 'C', 'Cups': '1'},\n",
       " {'Player': 'Geoff Courtnall', 'Pos': 'L', 'Cups': '1'},\n",
       " {'Player': 'Normand Lacombe', 'Pos': 'R', 'Cups': '1'},\n",
       " {'Player': 'Theo Fleury', 'Pos': 'R', 'Cups': '1'},\n",
       " {'Player': 'Doug Gilmour', 'Pos': 'C', 'Cups': '1'},\n",
       " {'Player': 'Mark Hunter', 'Pos': 'R', 'Cups': '1'},\n",
       " {'Player': 'Tim Hunter', 'Pos': 'R', 'Cups': '1'},\n",
       " {'Player': 'Hakan Loob', 'Pos': 'R', 'Cups': '1'},\n",
       " {'Player': 'Al MacInnis', 'Pos': 'D', 'Cups': '1'},\n",
       " {'Player': 'Brian MacLellan', 'Pos': 'L', 'Cups': '1'},\n",
       " {'Player': 'Brad McCrimmon', 'Pos': 'D', 'Cups': '1'},\n",
       " {'Player': 'Lanny McDonald', 'Pos': 'R', 'Cups': '1'},\n",
       " {'Player': 'Dana Murzyn', 'Pos': 'D', 'Cups': '1'},\n",
       " {'Player': 'Ric Nattress', 'Pos': 'D', 'Cups': '1'},\n",
       " {'Player': 'Joel Otto', 'Pos': 'C', 'Cups': '1'},\n",
       " {'Player': 'Colin Patterson', 'Pos': 'R', 'Cups': '1'},\n",
       " {'Player': 'Jim Peplinski', 'Pos': 'L', 'Cups': '1'},\n",
       " {'Player': 'Gary Roberts', 'Pos': 'L', 'Cups': '1'},\n",
       " {'Player': 'Gary Suter', 'Pos': 'D', 'Cups': '1'},\n",
       " {'Player': 'Dave Brown', 'Pos': 'R', 'Cups': '1'},\n",
       " {'Player': 'Martin Gelinas', 'Pos': 'L', 'Cups': '1'},\n",
       " {'Player': 'Petr Klima', 'Pos': 'R', 'Cups': '1'},\n",
       " {'Player': 'Mark Lamb', 'Pos': 'C', 'Cups': '1'},\n",
       " {'Player': 'Joe Murphy', 'Pos': 'R', 'Cups': '1'},\n",
       " {'Player': 'Geoff Smith', 'Pos': 'D', 'Cups': '1'},\n",
       " {'Player': 'Randy Gilhen', 'Pos': 'C', 'Cups': '1'},\n",
       " {'Player': 'Randy Hillier', 'Pos': 'D', 'Cups': '1'},\n",
       " {'Player': 'Barry Pederson', 'Pos': 'C', 'Cups': '1'},\n",
       " {'Player': 'Jock Callander', 'Pos': 'R', 'Cups': '1'},\n",
       " {'Player': 'Jeff Chychrun', 'Pos': 'D', 'Cups': '1'},\n",
       " {'Player': 'Jeff Daniels', 'Pos': 'L', 'Cups': '1'},\n",
       " {'Player': 'Jamie Leach', 'Pos': 'R', 'Cups': '1'},\n",
       " {'Player': 'Shawn McEachern', 'Pos': 'L', 'Cups': '1'},\n",
       " {'Player': 'David Michayluk', 'Pos': 'L', 'Cups': '1'},\n",
       " {'Player': 'Michael Needham', 'Pos': 'R', 'Cups': '1'},\n",
       " {'Player': 'Ken Priestlay', 'Pos': 'C', 'Cups': '1'},\n",
       " {'Player': 'Kjell Samuelsson', 'Pos': 'D', 'Cups': '1'},\n",
       " {'Player': 'Rick Tocchet', 'Pos': 'R', 'Cups': '1'},\n",
       " {'Player': 'Jesse Belanger', 'Pos': 'C', 'Cups': '1'},\n",
       " {'Player': 'Brian Bellows', 'Pos': 'L', 'Cups': '1'},\n",
       " {'Player': 'Patrice Brisebois', 'Pos': 'D', 'Cups': '1'},\n",
       " {'Player': 'Benoit Brunet', 'Pos': 'L', 'Cups': '1'},\n",
       " {'Player': 'J.J. Daigneault', 'Pos': 'D', 'Cups': '1'},\n",
       " {'Player': 'Vincent Damphousse', 'Pos': 'C', 'Cups': '1'},\n",
       " {'Player': 'Eric Desjardins', 'Pos': 'D', 'Cups': '1'},\n",
       " {'Player': 'Paul Di Pietro', 'Pos': 'C', 'Cups': '1'},\n",
       " {'Player': 'Gilbert Dionne', 'Pos': 'L', 'Cups': '1'},\n",
       " {'Player': 'Donald Dufresne', 'Pos': 'D', 'Cups': '1'},\n",
       " {'Player': 'Todd Ewen', 'Pos': 'R', 'Cups': '1'},\n",
       " {'Player': 'Kevin Haller', 'Pos': 'D', 'Cups': '1'},\n",
       " {'Player': 'Sean Hill', 'Pos': 'D', 'Cups': '1'},\n",
       " {'Player': 'Stephan Lebeau', 'Pos': 'C', 'Cups': '1'},\n",
       " {'Player': 'John LeClair', 'Pos': 'L', 'Cups': '1'},\n",
       " {'Player': 'Gary Leeman', 'Pos': 'R', 'Cups': '1'},\n",
       " {'Player': 'Kirk Muller', 'Pos': 'L', 'Cups': '1'},\n",
       " {'Player': 'Lyle Odelein', 'Pos': 'D', 'Cups': '1'},\n",
       " {'Player': 'Mario Roberge', 'Pos': 'L', 'Cups': '1'},\n",
       " {'Player': 'Ed Ronan', 'Pos': 'R', 'Cups': '1'},\n",
       " {'Player': 'Denis Savard', 'Pos': 'C', 'Cups': '1'},\n",
       " {'Player': 'Mathieu Schneider', 'Pos': 'D', 'Cups': '1'},\n",
       " {'Player': 'Mike Hartman', 'Pos': 'L', 'Cups': '1'},\n",
       " {'Player': 'Mike Hudson', 'Pos': 'C', 'Cups': '1'},\n",
       " {'Player': 'Alexander Karpovtsev', 'Pos': 'D', 'Cups': '1'},\n",
       " {'Player': 'Alex Kovalev', 'Pos': 'R', 'Cups': '1'},\n",
       " {'Player': 'Nick Kypreos', 'Pos': 'L', 'Cups': '1'},\n",
       " {'Player': 'Steve Larmer', 'Pos': 'R', 'Cups': '1'},\n",
       " {'Player': 'Brian Leetch', 'Pos': 'D', 'Cups': '1'},\n",
       " {'Player': 'Doug Lidster', 'Pos': 'D', 'Cups': '1'},\n",
       " {'Player': 'Stephane Matteau', 'Pos': 'L', 'Cups': '1'},\n",
       " {'Player': 'Brian Noonan', 'Pos': 'R', 'Cups': '1'},\n",
       " {'Player': 'Eddie Olczyk', 'Pos': 'R', 'Cups': '1'},\n",
       " {'Player': 'Jay Wells', 'Pos': 'D', 'Cups': '1'},\n",
       " {'Player': 'Neal Broten', 'Pos': 'C', 'Cups': '1'},\n",
       " {'Player': 'Bobby Carpenter', 'Pos': 'C', 'Cups': '1'},\n",
       " {'Player': 'Tom Chorske', 'Pos': 'R', 'Cups': '1'},\n",
       " {'Player': 'Danton Cole', 'Pos': 'R', 'Cups': '1'},\n",
       " {'Player': 'Kevin Dean', 'Pos': 'D', 'Cups': '1'},\n",
       " {'Player': 'Jim Dowd', 'Pos': 'C', 'Cups': '1'},\n",
       " {'Player': 'Bruce Driver', 'Pos': 'D', 'Cups': '1'},\n",
       " {'Player': 'John MacLean', 'Pos': 'R', 'Cups': '1'},\n",
       " {'Player': 'Chris McAlpine', 'Pos': 'D', 'Cups': '1'},\n",
       " {'Player': 'Mike Peluso', 'Pos': 'L', 'Cups': '1'},\n",
       " {'Player': 'Brian Rolston', 'Pos': 'R', 'Cups': '1'},\n",
       " {'Player': 'Valeri Zelepukin', 'Pos': 'L', 'Cups': '1'},\n",
       " {'Player': 'Rene Corbet', 'Pos': 'L', 'Cups': '1'},\n",
       " {'Player': 'Adam Deadmarsh', 'Pos': 'R', 'Cups': '1'},\n",
       " {'Player': 'Alexei Gusarov', 'Pos': 'D', 'Cups': '1'},\n",
       " {'Player': 'Valeri Kamensky', 'Pos': 'L', 'Cups': '1'},\n",
       " {'Player': 'Uwe Krupp', 'Pos': 'D', 'Cups': '1'},\n",
       " {'Player': 'Sylvain Lefebvre', 'Pos': 'D', 'Cups': '1'},\n",
       " {'Player': 'Curtis Leschyshyn', 'Pos': 'D', 'Cups': '1'},\n",
       " {'Player': 'Troy Murray', 'Pos': 'C', 'Cups': '1'},\n",
       " {'Player': 'Sandis Ozolinsh', 'Pos': 'D', 'Cups': '1'},\n",
       " {'Player': 'Mike Ricci', 'Pos': 'C', 'Cups': '1'},\n",
       " {'Player': 'Warren Rychel', 'Pos': 'L', 'Cups': '1'},\n",
       " {'Player': 'Chris Simon', 'Pos': 'L', 'Cups': '1'},\n",
       " {'Player': 'Craig Wolanin', 'Pos': 'D', 'Cups': '1'},\n",
       " {'Player': 'Jamie Pushor', 'Pos': 'D', 'Cups': '1'},\n",
       " {'Player': 'Tomas Sandstrom', 'Pos': 'R', 'Cups': '1'},\n",
       " {'Player': 'Anders Eriksson', 'Pos': 'D', 'Cups': '1'},\n",
       " {'Player': 'Brent Gilchrist', 'Pos': 'L', 'Cups': '1'},\n",
       " {'Player': 'Mike Knuble', 'Pos': 'R', 'Cups': '1'},\n",
       " {'Player': 'Dmitri Mironov', 'Pos': 'D', 'Cups': '1'},\n",
       " {'Player': 'Derian Hatcher', 'Pos': 'D', 'Cups': '1'},\n",
       " {'Player': 'Benoit Hogue', 'Pos': 'L', 'Cups': '1'},\n",
       " {'Player': 'Tony Hrkac', 'Pos': 'C', 'Cups': '1'},\n",
       " {'Player': 'Jere Lehtinen', 'Pos': 'R', 'Cups': '1'},\n",
       " {'Player': 'Richard Matvichuk', 'Pos': 'D', 'Cups': '1'},\n",
       " {'Player': 'Mike Modano', 'Pos': 'C', 'Cups': '1'},\n",
       " {'Player': 'Derek Plante', 'Pos': 'C', 'Cups': '1'},\n",
       " {'Player': 'Brent Severyn', 'Pos': 'L', 'Cups': '1'},\n",
       " {'Player': 'Jon Sim', 'Pos': 'L', 'Cups': '1'},\n",
       " {'Player': 'Blake Sloan', 'Pos': 'R', 'Cups': '1'},\n",
       " {'Player': 'Pat Verbeek', 'Pos': 'R', 'Cups': '1'},\n",
       " {'Player': 'Jason Arnott', 'Pos': 'C', 'Cups': '1'},\n",
       " {'Player': 'Brad Bombardir', 'Pos': 'D', 'Cups': '1'},\n",
       " {'Player': 'Steve Brule', 'Pos': 'C', 'Cups': '1'},\n",
       " {'Player': 'Steve Kelly', 'Pos': 'C', 'Cups': '1'},\n",
       " {'Player': 'Vladimir Malakhov', 'Pos': 'D', 'Cups': '1'},\n",
       " {'Player': 'Alexander Mogilny', 'Pos': 'R', 'Cups': '1'},\n",
       " {'Player': 'Krzysztof Oliwa', 'Pos': 'L', 'Cups': '1'},\n",
       " {'Player': 'Ken Sutton', 'Pos': 'D', 'Cups': '1'},\n",
       " {'Player': 'Rob Blake', 'Pos': 'D', 'Cups': '1'},\n",
       " {'Player': 'Ray Bourque', 'Pos': 'D', 'Cups': '1'},\n",
       " {'Player': 'Greg De Vries', 'Pos': 'D', 'Cups': '1'},\n",
       " {'Player': 'Chris Drury', 'Pos': 'C', 'Cups': '1'},\n",
       " {'Player': 'Milan Hejduk', 'Pos': 'R', 'Cups': '1'},\n",
       " {'Player': 'Dan Hinote', 'Pos': 'R', 'Cups': '1'},\n",
       " {'Player': 'Eric Messier', 'Pos': 'L', 'Cups': '1'},\n",
       " {'Player': 'Bryan Muir', 'Pos': 'D', 'Cups': '1'},\n",
       " {'Player': 'Ville Nieminen', 'Pos': 'L', 'Cups': '1'},\n",
       " {'Player': 'Scott Parker', 'Pos': 'R', 'Cups': '1'},\n",
       " {'Player': 'Shjon Podein', 'Pos': 'L', 'Cups': '1'},\n",
       " {'Player': 'Steve Reinprecht', 'Pos': 'C', 'Cups': '1'},\n",
       " {'Player': 'Martin Skoula', 'Pos': 'D', 'Cups': '1'},\n",
       " {'Player': 'Alex Tanguay', 'Pos': 'L', 'Cups': '1'},\n",
       " {'Player': 'Boyd Devereaux', 'Pos': 'C', 'Cups': '1'},\n",
       " {'Player': 'Steve Duchesne', 'Pos': 'D', 'Cups': '1'},\n",
       " {'Player': 'Jiri Fischer', 'Pos': 'D', 'Cups': '1'},\n",
       " {'Player': 'Fredrik Olausson', 'Pos': 'D', 'Cups': '1'},\n",
       " {'Player': 'Luc Robitaille', 'Pos': 'L', 'Cups': '1'},\n",
       " {'Player': 'Jiri Slegr', 'Pos': 'D', 'Cups': '1'},\n",
       " {'Player': 'Jason Williams', 'Pos': 'C', 'Cups': '1'},\n",
       " {'Player': 'Jiri Bicek', 'Pos': 'R', 'Cups': '1'},\n",
       " {'Player': 'Jeff Friesen', 'Pos': 'L', 'Cups': '1'},\n",
       " {'Player': 'Brian Gionta', 'Pos': 'R', 'Cups': '1'},\n",
       " {'Player': 'Jim McKenzie', 'Pos': 'L', 'Cups': '1'},\n",
       " {'Player': 'Pascal Rheaume', 'Pos': 'C', 'Cups': '1'},\n",
       " {'Player': 'Mike Rupp', 'Pos': 'L', 'Cups': '1'},\n",
       " {'Player': 'Richard Smehlik', 'Pos': 'D', 'Cups': '1'},\n",
       " {'Player': 'Turner Stevenson', 'Pos': 'R', 'Cups': '1'},\n",
       " {'Player': 'Dimitri Afanasenkov', 'Pos': 'L', 'Cups': '1'},\n",
       " {'Player': 'Dave Andreychuk', 'Pos': 'L', 'Cups': '1'},\n",
       " {'Player': 'Dan Boyle', 'Pos': 'D', 'Cups': '1'},\n",
       " {'Player': 'Martin Cibak', 'Pos': 'C', 'Cups': '1'},\n",
       " {'Player': 'Ben Clymer', 'Pos': 'R', 'Cups': '1'},\n",
       " {'Player': 'Jassen Cullimore', 'Pos': 'D', 'Cups': '1'},\n",
       " {'Player': 'Pavel Kubina', 'Pos': 'D', 'Cups': '1'},\n",
       " {'Player': 'Vincent Lecavalier', 'Pos': 'C', 'Cups': '1'},\n",
       " {'Player': 'Brad Lukowich', 'Pos': 'D', 'Cups': '1'},\n",
       " {'Player': 'Freddy Modin', 'Pos': 'L', 'Cups': '1'},\n",
       " {'Player': 'Stan Neckar', 'Pos': 'D', 'Cups': '1'},\n",
       " {'Player': 'Eric Perrin', 'Pos': 'C', 'Cups': '1'},\n",
       " {'Player': 'Andre Roy', 'Pos': 'R', 'Cups': '1'},\n",
       " {'Player': 'Darren Rumble', 'Pos': 'D', 'Cups': '1'},\n",
       " {'Player': 'Cory Sarich', 'Pos': 'D', 'Cups': '1'},\n",
       " {'Player': 'Martin St. Louis', 'Pos': 'R', 'Cups': '1'},\n",
       " {'Player': 'Kevyn Adams', 'Pos': 'C', 'Cups': '1'},\n",
       " {'Player': 'Anton Babchuk', 'Pos': 'D', 'Cups': '1'},\n",
       " {'Player': \"Rod Brind'Amour\", 'Pos': 'C', 'Cups': '1'},\n",
       " {'Player': 'Erik Cole', 'Pos': 'L', 'Cups': '1'},\n",
       " {'Player': 'Mike Commodore', 'Pos': 'D', 'Cups': '1'},\n",
       " {'Player': 'Bret Hedican', 'Pos': 'D', 'Cups': '1'},\n",
       " {'Player': 'Andrew Hutchinson', 'Pos': 'D', 'Cups': '1'},\n",
       " {'Player': 'Frantisek Kaberle', 'Pos': 'D', 'Cups': '1'},\n",
       " {'Player': 'Chad LaRose', 'Pos': 'R', 'Cups': '1'},\n",
       " {'Player': 'Eric Staal', 'Pos': 'C', 'Cups': '1'},\n",
       " {'Player': 'Josef Vasicek', 'Pos': 'C', 'Cups': '1'},\n",
       " {'Player': 'Niclas Wallin', 'Pos': 'D', 'Cups': '1'},\n",
       " {'Player': 'Doug Weight', 'Pos': 'C', 'Cups': '1'},\n",
       " {'Player': 'Glen Wesley', 'Pos': 'D', 'Cups': '1'},\n",
       " {'Player': 'Ray Whitney', 'Pos': 'L', 'Cups': '1'},\n",
       " {'Player': 'Francois Beauchemin', 'Pos': 'D', 'Cups': '1'},\n",
       " {'Player': 'Ryan Carter', 'Pos': 'L', 'Cups': '1'},\n",
       " {'Player': 'Joe DiPenta', 'Pos': 'D', 'Cups': '1'},\n",
       " {'Player': 'Ryan Getzlaf', 'Pos': 'C', 'Cups': '1'},\n",
       " {'Player': 'Kent Huskins', 'Pos': 'D', 'Cups': '1'},\n",
       " {'Player': 'Ric Jackman', 'Pos': 'D', 'Cups': '1'},\n",
       " {'Player': 'Todd Marchant', 'Pos': 'C', 'Cups': '1'},\n",
       " {'Player': 'Brad May', 'Pos': 'L', 'Cups': '1'},\n",
       " {'Player': 'Andy McDonald', 'Pos': 'L', 'Cups': '1'},\n",
       " {'Player': 'Drew Miller', 'Pos': 'L', 'Cups': '1'},\n",
       " {'Player': 'Travis Moen', 'Pos': 'L', 'Cups': '1'},\n",
       " {'Player': 'Joe Motzko', 'Pos': 'R', 'Cups': '1'},\n",
       " {'Player': 'Rob Niedermayer', 'Pos': 'C', 'Cups': '1'},\n",
       " {'Player': \"Sean O'Donnell\", 'Pos': 'D', 'Cups': '1'},\n",
       " {'Player': 'Samuel Pahlsson', 'Pos': 'C', 'Cups': '1'},\n",
       " {'Player': 'George Parros', 'Pos': 'R', 'Cups': '1'},\n",
       " {'Player': 'Corey Perry', 'Pos': 'R', 'Cups': '1'},\n",
       " {'Player': 'Chris Pronger', 'Pos': 'D', 'Cups': '1'},\n",
       " {'Player': 'Teemu Selanne', 'Pos': 'R', 'Cups': '1'},\n",
       " {'Player': 'Ryan Shannon', 'Pos': 'R', 'Cups': '1'},\n",
       " {'Player': 'Daniel Cleary', 'Pos': 'R', 'Cups': '1'},\n",
       " {'Player': 'Aaron Downey', 'Pos': 'R', 'Cups': '1'},\n",
       " {'Player': 'Dallas Drake', 'Pos': 'R', 'Cups': '1'},\n",
       " {'Player': 'Valtteri Filppula', 'Pos': 'C', 'Cups': '1'},\n",
       " {'Player': 'Johan Franzen', 'Pos': 'R', 'Cups': '1'},\n",
       " {'Player': 'Darren Helm', 'Pos': 'L', 'Cups': '1'},\n",
       " {'Player': 'Jiri Hudler', 'Pos': 'R', 'Cups': '1'},\n",
       " {'Player': 'Niklas Kronwall', 'Pos': 'D', 'Cups': '1'},\n",
       " {'Player': 'Brett Lebda', 'Pos': 'D', 'Cups': '1'},\n",
       " {'Player': 'Andreas Lilja', 'Pos': 'D', 'Cups': '1'},\n",
       " {'Player': 'Derek Meech', 'Pos': 'D', 'Cups': '1'},\n",
       " {'Player': 'Mikael Samuelsson', 'Pos': 'R', 'Cups': '1'},\n",
       " {'Player': 'Brad Stuart', 'Pos': 'D', 'Cups': '1'},\n",
       " {'Player': 'Henrik Zetterberg', 'Pos': 'C', 'Cups': '1'},\n",
       " {'Player': 'Philippe Boucher', 'Pos': 'D', 'Cups': '1'},\n",
       " {'Player': 'Matt Cooke', 'Pos': 'L', 'Cups': '1'},\n",
       " {'Player': 'Mark Eaton', 'Pos': 'D', 'Cups': '1'},\n",
       " {'Player': 'Hal Gill', 'Pos': 'D', 'Cups': '1'},\n",
       " {'Player': 'Eric Godard', 'Pos': 'R', 'Cups': '1'},\n",
       " {'Player': 'Alex Goligoski', 'Pos': 'D', 'Cups': '1'},\n",
       " {'Player': 'Sergei Gonchar', 'Pos': 'D', 'Cups': '1'},\n",
       " {'Player': 'Tyler Kennedy', 'Pos': 'C', 'Cups': '1'},\n",
       " {'Player': 'Miroslav Satan', 'Pos': 'R', 'Cups': '1'},\n",
       " {'Player': 'Jordan Staal', 'Pos': 'C', 'Cups': '1'},\n",
       " {'Player': 'Max Talbot', 'Pos': 'C', 'Cups': '1'},\n",
       " {'Player': 'Michael Zigomanis', 'Pos': 'C', 'Cups': '1'},\n",
       " {'Player': 'Nick Boynton', 'Pos': 'D', 'Cups': '1'},\n",
       " {'Player': 'Troy Brouwer', 'Pos': 'R', 'Cups': '1'},\n",
       " {'Player': 'Adam Burish', 'Pos': 'R', 'Cups': '1'},\n",
       " {'Player': 'Dustin Byfuglien', 'Pos': 'D', 'Cups': '1'},\n",
       " {'Player': 'Brian Campbell', 'Pos': 'D', 'Cups': '1'},\n",
       " {'Player': 'Ben Eager', 'Pos': 'L', 'Cups': '1'},\n",
       " {'Player': 'Jordan Hendry', 'Pos': 'D', 'Cups': '1'},\n",
       " {'Player': 'Brent Sopel', 'Pos': 'D', 'Cups': '1'},\n",
       " {'Player': 'Patrice Bergeron', 'Pos': 'C', 'Cups': '1'},\n",
       " {'Player': 'Johnny Boychuk', 'Pos': 'D', 'Cups': '1'},\n",
       " {'Player': 'Gregory Campbell', 'Pos': 'C', 'Cups': '1'},\n",
       " {'Player': 'Zdeno Chara', 'Pos': 'D', 'Cups': '1'},\n",
       " {'Player': 'Andrew Ference', 'Pos': 'D', 'Cups': '1'},\n",
       " {'Player': 'Nathan Horton', 'Pos': 'R', 'Cups': '1'},\n",
       " {'Player': 'Tomas Kaberle', 'Pos': 'D', 'Cups': '1'},\n",
       " {'Player': 'Chris Kelly', 'Pos': 'C', 'Cups': '1'},\n",
       " {'Player': 'David Krejci', 'Pos': 'C', 'Cups': '1'},\n",
       " {'Player': 'Milan Lucic', 'Pos': 'L', 'Cups': '1'},\n",
       " {'Player': 'Brad Marchand', 'Pos': 'L', 'Cups': '1'},\n",
       " {'Player': 'Adam McQuaid', 'Pos': 'D', 'Cups': '1'},\n",
       " {'Player': 'Daniel Paille', 'Pos': 'L', 'Cups': '1'},\n",
       " {'Player': 'Rich Peverley', 'Pos': 'C', 'Cups': '1'},\n",
       " {'Player': 'Michael Ryder', 'Pos': 'R', 'Cups': '1'},\n",
       " {'Player': 'Marc Savard', 'Pos': 'C', 'Cups': '1'},\n",
       " {'Player': 'Tyler Seguin', 'Pos': 'C', 'Cups': '1'},\n",
       " {'Player': 'Dennis Seidenberg', 'Pos': 'D', 'Cups': '1'},\n",
       " {'Player': 'Davis Drewiske', 'Pos': 'D', 'Cups': '1'},\n",
       " {'Player': 'Simon Gagne', 'Pos': 'L', 'Cups': '1'},\n",
       " {'Player': 'Brad Richardson', 'Pos': 'R', 'Cups': '1'},\n",
       " {'Player': 'Kevin Westgarth', 'Pos': 'R', 'Cups': '1'},\n",
       " {'Player': 'Brandon Bollig', 'Pos': 'L', 'Cups': '1'},\n",
       " {'Player': 'Sheldon Brookbank', 'Pos': 'D', 'Cups': '1'},\n",
       " {'Player': 'Michael Frolik', 'Pos': 'R', 'Cups': '1'},\n",
       " {'Player': 'Michal Handzus', 'Pos': 'C', 'Cups': '1'},\n",
       " {'Player': 'Nick Leddy', 'Pos': 'D', 'Cups': '1'},\n",
       " {'Player': 'Jamal Mayers', 'Pos': 'R', 'Cups': '1'},\n",
       " {'Player': 'Ben Smith', 'Pos': 'R', 'Cups': '1'},\n",
       " {'Player': 'Viktor Stalberg', 'Pos': 'L', 'Cups': '1'},\n",
       " {'Player': 'Marian Gaborik', 'Pos': 'R', 'Cups': '1'},\n",
       " {'Player': 'Jake Muzzin', 'Pos': 'D', 'Cups': '1'},\n",
       " {'Player': 'Tanner Pearson', 'Pos': 'L', 'Cups': '1'},\n",
       " {'Player': 'Robyn Regehr', 'Pos': 'D', 'Cups': '1'},\n",
       " {'Player': 'Jeff Schultz', 'Pos': 'D', 'Cups': '1'},\n",
       " {'Player': 'Tyler Toffoli', 'Pos': 'C', 'Cups': '1'},\n",
       " {'Player': 'Kyle Cumiskey', 'Pos': 'D', 'Cups': '1'},\n",
       " {'Player': 'Andrew Desjardins', 'Pos': 'L', 'Cups': '1'},\n",
       " {'Player': 'Joakim Nordstrom', 'Pos': 'C', 'Cups': '1'},\n",
       " {'Player': 'David Rundblad', 'Pos': 'D', 'Cups': '1'},\n",
       " {'Player': 'Teuvo Teravainen', 'Pos': 'L', 'Cups': '1'},\n",
       " {'Player': 'Kimmo Timonen', 'Pos': 'D', 'Cups': '1'},\n",
       " {'Player': 'Trevor van Riemsdyk', 'Pos': 'D', 'Cups': '1'},\n",
       " {'Player': 'Antoine Vermette', 'Pos': 'C', 'Cups': '1'},\n",
       " {'Player': 'Eric Fehr', 'Pos': 'C', 'Cups': '1'},\n",
       " {'Player': 'Ben Lovejoy', 'Pos': 'D', 'Cups': '1'},\n",
       " {'Player': 'Kevin Porter', 'Pos': 'C', 'Cups': '1'},\n",
       " {'Player': 'Josh Archibald', 'Pos': 'R', 'Cups': '1'},\n",
       " {'Player': 'Jake Guentzel', 'Pos': 'L', 'Cups': '1'},\n",
       " {'Player': 'Ron Hainsey', 'Pos': 'D', 'Cups': '1'},\n",
       " ...]"
      ]
     },
     "metadata": {},
     "execution_count": 135
    }
   ],
   "source": [
    "# Scrape the data for Stanley Cup wins from the url\n",
    "my_list = []\n",
    "\n",
    "for i in range(1, 23):\n",
    "#     print(i)\n",
    "\n",
    "    html = browser.html\n",
    "    soup = BeautifulSoup(html, 'html.parser')\n",
    "\n",
    "    rows = soup.find_all('div', class_='rt-tr-group')\n",
    "    for row in rows:\n",
    "        cells = row.find_all('div', class_='rt-td')\n",
    "\n",
    "        data = {\n",
    "            'Player':cells[1].text,\n",
    "            'Pos':cells[2].text,\n",
    "            'Cups':cells[3].text\n",
    "        }\n",
    "\n",
    "        my_list.append(data)\n",
    "    if i < 22:\n",
    "        browser.find_by_text('Next').click()\n",
    "\n",
    "my_list"
   ]
  },
  {
   "cell_type": "code",
   "execution_count": 136,
   "metadata": {},
   "outputs": [
    {
     "output_type": "execute_result",
     "data": {
      "text/plain": [
       "            Player Pos Cups\n",
       "0    Henri Richard   C   11\n",
       "1    Jean Beliveau   C   10\n",
       "2   Yvan Cournoyer   R   10\n",
       "3   Claude Provost   R    9\n",
       "4  Maurice Richard   R    8"
      ],
      "text/html": "<div>\n<style scoped>\n    .dataframe tbody tr th:only-of-type {\n        vertical-align: middle;\n    }\n\n    .dataframe tbody tr th {\n        vertical-align: top;\n    }\n\n    .dataframe thead th {\n        text-align: right;\n    }\n</style>\n<table border=\"1\" class=\"dataframe\">\n  <thead>\n    <tr style=\"text-align: right;\">\n      <th></th>\n      <th>Player</th>\n      <th>Pos</th>\n      <th>Cups</th>\n    </tr>\n  </thead>\n  <tbody>\n    <tr>\n      <th>0</th>\n      <td>Henri Richard</td>\n      <td>C</td>\n      <td>11</td>\n    </tr>\n    <tr>\n      <th>1</th>\n      <td>Jean Beliveau</td>\n      <td>C</td>\n      <td>10</td>\n    </tr>\n    <tr>\n      <th>2</th>\n      <td>Yvan Cournoyer</td>\n      <td>R</td>\n      <td>10</td>\n    </tr>\n    <tr>\n      <th>3</th>\n      <td>Claude Provost</td>\n      <td>R</td>\n      <td>9</td>\n    </tr>\n    <tr>\n      <th>4</th>\n      <td>Maurice Richard</td>\n      <td>R</td>\n      <td>8</td>\n    </tr>\n  </tbody>\n</table>\n</div>"
     },
     "metadata": {},
     "execution_count": 136
    }
   ],
   "source": [
    "# Convert the list to a dataframe\n",
    "stanley_cup_df = pd.DataFrame(my_list)\n",
    "stanley_cup_df.head()"
   ]
  },
  {
   "cell_type": "code",
   "execution_count": 137,
   "metadata": {},
   "outputs": [
    {
     "output_type": "execute_result",
     "data": {
      "text/plain": [
       "            Player Pos Cups\n",
       "0    Henri Richard   C   11\n",
       "1    Jean Beliveau   C   10\n",
       "2   Yvan Cournoyer   R   10\n",
       "3   Claude Provost   R    9\n",
       "4  Maurice Richard   R    8"
      ],
      "text/html": "<div>\n<style scoped>\n    .dataframe tbody tr th:only-of-type {\n        vertical-align: middle;\n    }\n\n    .dataframe tbody tr th {\n        vertical-align: top;\n    }\n\n    .dataframe thead th {\n        text-align: right;\n    }\n</style>\n<table border=\"1\" class=\"dataframe\">\n  <thead>\n    <tr style=\"text-align: right;\">\n      <th></th>\n      <th>Player</th>\n      <th>Pos</th>\n      <th>Cups</th>\n    </tr>\n  </thead>\n  <tbody>\n    <tr>\n      <th>0</th>\n      <td>Henri Richard</td>\n      <td>C</td>\n      <td>11</td>\n    </tr>\n    <tr>\n      <th>1</th>\n      <td>Jean Beliveau</td>\n      <td>C</td>\n      <td>10</td>\n    </tr>\n    <tr>\n      <th>2</th>\n      <td>Yvan Cournoyer</td>\n      <td>R</td>\n      <td>10</td>\n    </tr>\n    <tr>\n      <th>3</th>\n      <td>Claude Provost</td>\n      <td>R</td>\n      <td>9</td>\n    </tr>\n    <tr>\n      <th>4</th>\n      <td>Maurice Richard</td>\n      <td>R</td>\n      <td>8</td>\n    </tr>\n  </tbody>\n</table>\n</div>"
     },
     "metadata": {},
     "execution_count": 137
    }
   ],
   "source": [
    "# Filter out the goal tenders.\n",
    "stanley_cup_df = stanley_cup_df[stanley_cup_df['Pos'] != 'G'] \n",
    "stanley_cup_df.head()"
   ]
  },
  {
   "cell_type": "code",
   "execution_count": 138,
   "metadata": {},
   "outputs": [
    {
     "output_type": "execute_result",
     "data": {
      "text/plain": [
       "            Player Cups\n",
       "0    Henri Richard   11\n",
       "1    Jean Beliveau   10\n",
       "2   Yvan Cournoyer   10\n",
       "3   Claude Provost    9\n",
       "4  Maurice Richard    8"
      ],
      "text/html": "<div>\n<style scoped>\n    .dataframe tbody tr th:only-of-type {\n        vertical-align: middle;\n    }\n\n    .dataframe tbody tr th {\n        vertical-align: top;\n    }\n\n    .dataframe thead th {\n        text-align: right;\n    }\n</style>\n<table border=\"1\" class=\"dataframe\">\n  <thead>\n    <tr style=\"text-align: right;\">\n      <th></th>\n      <th>Player</th>\n      <th>Cups</th>\n    </tr>\n  </thead>\n  <tbody>\n    <tr>\n      <th>0</th>\n      <td>Henri Richard</td>\n      <td>11</td>\n    </tr>\n    <tr>\n      <th>1</th>\n      <td>Jean Beliveau</td>\n      <td>10</td>\n    </tr>\n    <tr>\n      <th>2</th>\n      <td>Yvan Cournoyer</td>\n      <td>10</td>\n    </tr>\n    <tr>\n      <th>3</th>\n      <td>Claude Provost</td>\n      <td>9</td>\n    </tr>\n    <tr>\n      <th>4</th>\n      <td>Maurice Richard</td>\n      <td>8</td>\n    </tr>\n  </tbody>\n</table>\n</div>"
     },
     "metadata": {},
     "execution_count": 138
    }
   ],
   "source": [
    "# Drop columns that are not needed\n",
    "stanley_cup_df = stanley_cup_df.drop(['Pos'], axis=1)\n",
    "stanley_cup_df.head()"
   ]
  },
  {
   "cell_type": "code",
   "execution_count": 139,
   "metadata": {},
   "outputs": [
    {
     "output_type": "execute_result",
     "data": {
      "text/plain": [
       "            Player Cups\n",
       "0    Henri Richard   11\n",
       "1    Jean Beliveau   10\n",
       "2   Yvan Cournoyer   10\n",
       "3   Claude Provost    9\n",
       "4  Maurice Richard    8"
      ],
      "text/html": "<div>\n<style scoped>\n    .dataframe tbody tr th:only-of-type {\n        vertical-align: middle;\n    }\n\n    .dataframe tbody tr th {\n        vertical-align: top;\n    }\n\n    .dataframe thead th {\n        text-align: right;\n    }\n</style>\n<table border=\"1\" class=\"dataframe\">\n  <thead>\n    <tr style=\"text-align: right;\">\n      <th></th>\n      <th>Player</th>\n      <th>Cups</th>\n    </tr>\n  </thead>\n  <tbody>\n    <tr>\n      <th>0</th>\n      <td>Henri Richard</td>\n      <td>11</td>\n    </tr>\n    <tr>\n      <th>1</th>\n      <td>Jean Beliveau</td>\n      <td>10</td>\n    </tr>\n    <tr>\n      <th>2</th>\n      <td>Yvan Cournoyer</td>\n      <td>10</td>\n    </tr>\n    <tr>\n      <th>3</th>\n      <td>Claude Provost</td>\n      <td>9</td>\n    </tr>\n    <tr>\n      <th>4</th>\n      <td>Maurice Richard</td>\n      <td>8</td>\n    </tr>\n  </tbody>\n</table>\n</div>"
     },
     "metadata": {},
     "execution_count": 139
    }
   ],
   "source": [
    "# Change names to match the master stats\n",
    "stanley_cup_df = stanley_cup_df.replace(\"Alex Ovechkin\", \"Alexander Ovechkin\")\n",
    "stanley_cup_df = stanley_cup_df.replace(\"Bernie Geoffrion\", \"Bernard Geoffrion\")\n",
    "stanley_cup_df = stanley_cup_df.replace(\"Evgeni Malkin\", \"Yevgeni Malkin\")\n",
    "stanley_cup_df = stanley_cup_df.replace(\"Johnny Quilty\", \"John Quilty\")\n",
    "stanley_cup_df = stanley_cup_df.replace(\"Ray Bourque\", \"Raymond Bourque\")\n",
    "stanley_cup_df = stanley_cup_df.replace(\"Sweeney Schriner\", \"David Schriner\")\n",
    "stanley_cup_df = stanley_cup_df.replace(\"Tommy Anderson\", \"Tom Anderson\")\n",
    "stanley_cup_df = stanley_cup_df.replace(\"Bob Sirois\", \"Robert Sirois\")\n",
    "stanley_cup_df = stanley_cup_df.replace(\"Bobby Nystrom\", \"Bob Nystrom\")\n",
    "stanley_cup_df = stanley_cup_df.replace(\"Bucky Hollingworth\", \"Gord Hollingworth\")\n",
    "stanley_cup_df = stanley_cup_df.replace(\"Daniel Girardi\", \"Dan Girardi\")\n",
    "stanley_cup_df = stanley_cup_df.replace(\"Dollard St. Laurent\", \"Dollard St-Laurent\")\n",
    "stanley_cup_df = stanley_cup_df.replace(\"Evgeny Kuznetsov\", \"Yevgeni Kuznetsov\")\n",
    "stanley_cup_df = stanley_cup_df.replace(\"Fern Flaman\", \"Fernie Flaman\")\n",
    "stanley_cup_df = stanley_cup_df.replace(\"George 'Hully' Gee\", \"George Gee\")\n",
    "stanley_cup_df = stanley_cup_df.replace(\"Hubert 'Pit' Martin\", \"Pit Martin\")\n",
    "stanley_cup_df = stanley_cup_df.replace(\"J.C. Tremblay\", \"Jean-Claude Tremblay\")\n",
    "stanley_cup_df = stanley_cup_df.replace(\"Jack Leclair\", \"Jackie LeClair\")\n",
    "stanley_cup_df = stanley_cup_df.replace(\"Joshua Bailey\", \"Josh Bailey\")\n",
    "stanley_cup_df = stanley_cup_df.replace(\"Kenny Mosdell\", \"Ken Mosdell\")\n",
    "stanley_cup_df = stanley_cup_df.replace(\"Kristopher Letang\", \"Kris Letang\")\n",
    "stanley_cup_df = stanley_cup_df.replace(\"Leonard 'Red' Kelly\", \"Red Kelly\")\n",
    "stanley_cup_df = stanley_cup_df.replace(\"Nicholas Boynton\", \"Nick Boynton\")\n",
    "stanley_cup_df = stanley_cup_df.replace(\"Nick Libett\", \"Lynn Libett\")\n",
    "stanley_cup_df = stanley_cup_df.replace(\"Oliver Ekman-Larsson\", \"Oliver Ekman Larsson\")\n",
    "stanley_cup_df = stanley_cup_df.replace(\"Quinton Hughes\", \"Quinn Hughes\")\n",
    "stanley_cup_df = stanley_cup_df.replace(\"Red Sullivan\", \"George Sullivan\")\n",
    "stanley_cup_df = stanley_cup_df.replace(\"Reg Fleming\", \"Reggie Fleming\")\n",
    "stanley_cup_df = stanley_cup_df.replace(\"Reg Sinclair\", \"Reggie Sinclair\")\n",
    "stanley_cup_df = stanley_cup_df.replace(\"Ron 'Chico' Maki\", \"Chico Maki\")\n",
    "stanley_cup_df = stanley_cup_df.replace(\"Sandis Ozolinsh\", \"Sandis Ozolins\")\n",
    "stanley_cup_df = stanley_cup_df.replace(\"Theoren Fleury\", \"Theo Fleury\")\n",
    "stanley_cup_df = stanley_cup_df.replace(\"Willie Huber\", \"William Huber\")\n",
    "stanley_cup_df = stanley_cup_df.replace(\"Zachary Werenski\", \"Zach Werenski\")\n",
    "stanley_cup_df = stanley_cup_df.replace(\"Al Langlois\", \"Albert Langlois\")\n",
    "stanley_cup_df = stanley_cup_df.replace(\"Al Shields\", \"Allan Shields\")\n",
    "stanley_cup_df = stanley_cup_df.replace(\"Alex Kovalev\", \"Alexei Kovalev\")\n",
    "stanley_cup_df = stanley_cup_df.replace(\"Aurel Joliat\", \"Aurele Joliat\")\n",
    "stanley_cup_df = stanley_cup_df.replace(\"Baldy Cotton\", \"Harold Cotton\")\n",
    "stanley_cup_df = stanley_cup_df.replace(\"Billy Boyd\", \"Bill Boyd\")\n",
    "stanley_cup_df = stanley_cup_df.replace(\"Billy Taylor Sr.\", \"Billy Taylor\")\n",
    "stanley_cup_df = stanley_cup_df.replace(\"Bingo Kampman\", \"Rudolph Kampman\")\n",
    "stanley_cup_df = stanley_cup_df.replace(\"Bob Fillion\", \"Robert Fillion\")\n",
    "stanley_cup_df = stanley_cup_df.replace(\"Bryan Hextall Sr.\", \"Bryan Hextall, Sr.\")\n",
    "stanley_cup_df = stanley_cup_df.replace(\"Butch Bouchard\", \"Emile Bouchard\")\n",
    "stanley_cup_df = stanley_cup_df.replace(\"Connie Broden\", \"Connell Broden\")\n",
    "stanley_cup_df = stanley_cup_df.replace(\"David Michayluk\", \"Dave Michayluk\")\n",
    "stanley_cup_df = stanley_cup_df.replace(\"Dimitri Afanasenkov\", \"Dmitri Afanasenkov\")\n",
    "stanley_cup_df = stanley_cup_df.replace(\"Dmitry Orlov\", \"Dmitri Orlov\")\n",
    "stanley_cup_df = stanley_cup_df.replace(\"Donnie Marshall\", \"Don Marshall\")\n",
    "stanley_cup_df = stanley_cup_df.replace(\"Dutch Gainor\", \"Norman Gainor\")\n",
    "stanley_cup_df = stanley_cup_df.replace(\"Dutch Hiller\", \"Wilbert Hiller\")\n",
    "stanley_cup_df = stanley_cup_df.replace(\"Dutch Reibel\", \"Earl Reibel\")\n",
    "stanley_cup_df = stanley_cup_df.replace(\"Ed Gorman\", \"Edwin Gorman\")\n",
    "stanley_cup_df = stanley_cup_df.replace(\"Eddie Olczyk\", \"Ed Olczyk\")\n",
    "stanley_cup_df = stanley_cup_df.replace(\"Fern Majeau\", \"Fernand Majeau\")\n",
    "stanley_cup_df = stanley_cup_df.replace(\"Frank Callighen\", \"Francis Callighen\")\n",
    "stanley_cup_df = stanley_cup_df.replace(\"Fred Cook\", \"Bun Cook\")\n",
    "stanley_cup_df = stanley_cup_df.replace(\"Freddy Modin\", \"Fredrik Modin\")\n",
    "stanley_cup_df = stanley_cup_df.replace(\"George Boucher\", \"Buck Boucher\")\n",
    "stanley_cup_df = stanley_cup_df.replace(\"Gord Pettinger\", \"Gordon Pettinger\")\n",
    "stanley_cup_df = stanley_cup_df.replace(\"Hobie Kitchen\", \"Chapman Kitchen\")\n",
    "stanley_cup_df = stanley_cup_df.replace(\"Ivan Barbashev\", \"Ivan Barbashyov\")\n",
    "stanley_cup_df = stanley_cup_df.replace(\"J.C. Tremblay\", \"Jean-Claude Tremblay\")\n",
    "stanley_cup_df = stanley_cup_df.replace(\"J.J. Daigneault\", \"Jean-Jacques Daigneault\")\n",
    "stanley_cup_df = stanley_cup_df.replace(\"Jimmy Peters\", \"Jim Peters\")\n",
    "stanley_cup_df = stanley_cup_df.replace(\"Johnny Sheppard\", \"John Sheppard\")\n",
    "stanley_cup_df = stanley_cup_df.replace(\"Lou Trudel\", \"Louis Trudel\")\n",
    "stanley_cup_df = stanley_cup_df.replace(\"Max Talbot\", \"Maxime Talbot\")\n",
    "stanley_cup_df = stanley_cup_df.replace(\"Michael Needham\", \"Mike Needham\")\n",
    "stanley_cup_df = stanley_cup_df.replace(\"Michael Zigomanis\", \"Mike Zigomanis\")\n",
    "stanley_cup_df = stanley_cup_df.replace(\"Mikhail Sergachev\", \"Mikhail Sergachyov\")\n",
    "stanley_cup_df = stanley_cup_df.replace(\"Moe Lemay\", \"Maurice Lemay\")\n",
    "stanley_cup_df = stanley_cup_df.replace(\"Moe Morris\", \"Elwyn Morris\")\n",
    "stanley_cup_df = stanley_cup_df.replace(\"Moose Vasko\", \"Elmer Vasko\")\n",
    "stanley_cup_df = stanley_cup_df.replace(\"Murph Chamberlain\", \"Erwin Chamberlain\")\n",
    "stanley_cup_df = stanley_cup_df.replace(\"Muzz Patrick\", \"Murray Patrick\")\n",
    "stanley_cup_df = stanley_cup_df.replace(\"Ott Heller\", \"Ehrhardt Heller\")\n",
    "stanley_cup_df = stanley_cup_df.replace(\"Paul Di Pietro\", \"Paul DiPietro\")\n",
    "stanley_cup_df = stanley_cup_df.replace(\"Peter Mahovlich\", \"Pete Mahovlich\")\n",
    "stanley_cup_df = stanley_cup_df.replace(\"Pit Lepine\", \"Alfred Lepine\")\n",
    "stanley_cup_df = stanley_cup_df.replace(\"Punch Broadbent\", \"Harry Broadbent\")\n",
    "stanley_cup_df = stanley_cup_df.replace(\"Sam Rothschild\", \"Samuel Rothschild\")\n",
    "stanley_cup_df = stanley_cup_df.replace(\"Sammy Blais\", \"Samuel Blais\")\n",
    "stanley_cup_df = stanley_cup_df.replace(\"Slava Voynov\", \"Vyacheslav Voynov\")\n",
    "stanley_cup_df = stanley_cup_df.replace(\"Stan Neckar\", \"Stanislav Neckar\")\n",
    "stanley_cup_df = stanley_cup_df.replace(\"Steve Reinprecht\", \"Steven Reinprecht\")\n",
    "stanley_cup_df = stanley_cup_df.replace(\"Viacheslav Fetisov\", \"Vyacheslav Fetisov\")\n",
    "stanley_cup_df = stanley_cup_df.replace(\"Lee Fogolin Jr.\", \"Lee Fogolin, Jr.\")\n",
    "stanley_cup_df = stanley_cup_df.replace(\"Bryan Hextall Sr.\", \"Bryan Hextall, Sr.\")\n",
    "stanley_cup_df.head()"
   ]
  },
  {
   "source": [
    "Merge the Stanley Cup win dataframe to the awards dataframe."
   ],
   "cell_type": "markdown",
   "metadata": {}
  },
  {
   "cell_type": "code",
   "execution_count": 140,
   "metadata": {},
   "outputs": [
    {
     "output_type": "execute_result",
     "data": {
      "text/plain": [
       "               Player  Awards Cups\n",
       "0          Ace Bailey     1.0    1\n",
       "1  Alexander Ovechkin    18.0    1\n",
       "2            Babe Dye     2.0    1\n",
       "3   Bernard Geoffrion     4.0    6\n",
       "4           Bill Cook     2.0    2"
      ],
      "text/html": "<div>\n<style scoped>\n    .dataframe tbody tr th:only-of-type {\n        vertical-align: middle;\n    }\n\n    .dataframe tbody tr th {\n        vertical-align: top;\n    }\n\n    .dataframe thead th {\n        text-align: right;\n    }\n</style>\n<table border=\"1\" class=\"dataframe\">\n  <thead>\n    <tr style=\"text-align: right;\">\n      <th></th>\n      <th>Player</th>\n      <th>Awards</th>\n      <th>Cups</th>\n    </tr>\n  </thead>\n  <tbody>\n    <tr>\n      <th>0</th>\n      <td>Ace Bailey</td>\n      <td>1.0</td>\n      <td>1</td>\n    </tr>\n    <tr>\n      <th>1</th>\n      <td>Alexander Ovechkin</td>\n      <td>18.0</td>\n      <td>1</td>\n    </tr>\n    <tr>\n      <th>2</th>\n      <td>Babe Dye</td>\n      <td>2.0</td>\n      <td>1</td>\n    </tr>\n    <tr>\n      <th>3</th>\n      <td>Bernard Geoffrion</td>\n      <td>4.0</td>\n      <td>6</td>\n    </tr>\n    <tr>\n      <th>4</th>\n      <td>Bill Cook</td>\n      <td>2.0</td>\n      <td>2</td>\n    </tr>\n  </tbody>\n</table>\n</div>"
     },
     "metadata": {},
     "execution_count": 140
    }
   ],
   "source": [
    "# Merge the individual award files into one complete file\n",
    "awards_merge_df = pd.merge(awards_merge_df,\n",
    "                 stanley_cup_df[['Player', 'Cups']],\n",
    "                 on='Player', how='outer')\n",
    "awards_merge_df.head()"
   ]
  },
  {
   "source": [
    "Scrape the data from url to get the player all-star game appearances"
   ],
   "cell_type": "markdown",
   "metadata": {}
  },
  {
   "cell_type": "code",
   "execution_count": 141,
   "metadata": {},
   "outputs": [
    {
     "output_type": "stream",
     "name": "stdout",
     "text": [
      "page: 1 -------------\n",
      "page: 2 -------------\n",
      "page: 3 -------------\n",
      "page: 4 -------------\n",
      "page: 5 -------------\n",
      "page: 6 -------------\n",
      "page: 7 -------------\n",
      "page: 8 -------------\n",
      "page: 9 -------------\n",
      "page: 10 -------------\n",
      "page: 11 -------------\n",
      "page: 12 -------------\n",
      "page: 13 -------------\n",
      "page: 14 -------------\n",
      "page: 15 -------------\n",
      "page: 16 -------------\n",
      "page: 17 -------------\n",
      "page: 18 -------------\n",
      "Scraping completed!\n"
     ]
    }
   ],
   "source": [
    "# Scrape data for all-star game appearances.\n",
    "all_star_tables = []\n",
    "\n",
    "for page in range(1,19):\n",
    "    url = f'https://www.quanthockey.com/scripts/AjaxPaginate.php?cat=Records&pos=Players&SS=&af=0&nat=alltime&st=5&sort=points&so=&page={page}&league=NHL%20All-Star%20Game&lang=en&rnd=651834569&dt=1&sd=undefined&ed=undefined'\n",
    "\n",
    "    print('page:', page, '-------------')\n",
    "\n",
    "    # find the table\n",
    "    table = pd.read_html(url)\n",
    "    df = table[0]\n",
    "    # delete unneeded column\n",
    "    del df['Unnamed: 1']\n",
    "    # convert games played column to integer\n",
    "    df['GP'] = df['GP'].astype(int)\n",
    "    all_star_tables.append(df)\n",
    "    \n",
    "print(\"Scraping completed!\")"
   ]
  },
  {
   "cell_type": "code",
   "execution_count": 142,
   "metadata": {},
   "outputs": [
    {
     "output_type": "execute_result",
     "data": {
      "text/plain": [
       "   Rk           Name  Born Pos  GP   G   A   P  PIM  +/-  PPG  SHG  GWG  \\\n",
       "0   1  Wayne Gretzky  1961   F  18  13  12  25    0  NaN  0.0  0.0    1   \n",
       "1   2  Mario Lemieux  1965   F  10  13  10  23    0  NaN  0.0  0.0    2   \n",
       "2   3      Joe Sakic  1969   F  12   6  16  22    0  3.0  0.0  0.0    0   \n",
       "3   4    Gordie Howe  1928   F  23  10   9  19   25  NaN  6.0  1.0    3   \n",
       "4   5   Mark Messier  1961   F  15   6  13  19    4  2.0  0.0  0.0    2   \n",
       "\n",
       "    G/GP   A/GP   P/GP  \n",
       "0  0.722  0.667  1.389  \n",
       "1  1.300  1.000  2.300  \n",
       "2  0.500  1.333  1.833  \n",
       "3  0.435  0.391  0.826  \n",
       "4  0.400  0.867  1.267  "
      ],
      "text/html": "<div>\n<style scoped>\n    .dataframe tbody tr th:only-of-type {\n        vertical-align: middle;\n    }\n\n    .dataframe tbody tr th {\n        vertical-align: top;\n    }\n\n    .dataframe thead th {\n        text-align: right;\n    }\n</style>\n<table border=\"1\" class=\"dataframe\">\n  <thead>\n    <tr style=\"text-align: right;\">\n      <th></th>\n      <th>Rk</th>\n      <th>Name</th>\n      <th>Born</th>\n      <th>Pos</th>\n      <th>GP</th>\n      <th>G</th>\n      <th>A</th>\n      <th>P</th>\n      <th>PIM</th>\n      <th>+/-</th>\n      <th>PPG</th>\n      <th>SHG</th>\n      <th>GWG</th>\n      <th>G/GP</th>\n      <th>A/GP</th>\n      <th>P/GP</th>\n    </tr>\n  </thead>\n  <tbody>\n    <tr>\n      <th>0</th>\n      <td>1</td>\n      <td>Wayne Gretzky</td>\n      <td>1961</td>\n      <td>F</td>\n      <td>18</td>\n      <td>13</td>\n      <td>12</td>\n      <td>25</td>\n      <td>0</td>\n      <td>NaN</td>\n      <td>0.0</td>\n      <td>0.0</td>\n      <td>1</td>\n      <td>0.722</td>\n      <td>0.667</td>\n      <td>1.389</td>\n    </tr>\n    <tr>\n      <th>1</th>\n      <td>2</td>\n      <td>Mario Lemieux</td>\n      <td>1965</td>\n      <td>F</td>\n      <td>10</td>\n      <td>13</td>\n      <td>10</td>\n      <td>23</td>\n      <td>0</td>\n      <td>NaN</td>\n      <td>0.0</td>\n      <td>0.0</td>\n      <td>2</td>\n      <td>1.300</td>\n      <td>1.000</td>\n      <td>2.300</td>\n    </tr>\n    <tr>\n      <th>2</th>\n      <td>3</td>\n      <td>Joe Sakic</td>\n      <td>1969</td>\n      <td>F</td>\n      <td>12</td>\n      <td>6</td>\n      <td>16</td>\n      <td>22</td>\n      <td>0</td>\n      <td>3.0</td>\n      <td>0.0</td>\n      <td>0.0</td>\n      <td>0</td>\n      <td>0.500</td>\n      <td>1.333</td>\n      <td>1.833</td>\n    </tr>\n    <tr>\n      <th>3</th>\n      <td>4</td>\n      <td>Gordie Howe</td>\n      <td>1928</td>\n      <td>F</td>\n      <td>23</td>\n      <td>10</td>\n      <td>9</td>\n      <td>19</td>\n      <td>25</td>\n      <td>NaN</td>\n      <td>6.0</td>\n      <td>1.0</td>\n      <td>3</td>\n      <td>0.435</td>\n      <td>0.391</td>\n      <td>0.826</td>\n    </tr>\n    <tr>\n      <th>4</th>\n      <td>5</td>\n      <td>Mark Messier</td>\n      <td>1961</td>\n      <td>F</td>\n      <td>15</td>\n      <td>6</td>\n      <td>13</td>\n      <td>19</td>\n      <td>4</td>\n      <td>2.0</td>\n      <td>0.0</td>\n      <td>0.0</td>\n      <td>2</td>\n      <td>0.400</td>\n      <td>0.867</td>\n      <td>1.267</td>\n    </tr>\n  </tbody>\n</table>\n</div>"
     },
     "metadata": {},
     "execution_count": 142
    }
   ],
   "source": [
    "# Combined the 18 tables of data to one dataframe \n",
    "all_star_df = pd.concat(all_star_tables, ignore_index=True)\n",
    "all_star_df.head()"
   ]
  },
  {
   "cell_type": "code",
   "execution_count": 143,
   "metadata": {},
   "outputs": [
    {
     "output_type": "execute_result",
     "data": {
      "text/plain": [
       "   Rk           Name  Born Pos  GP   G   A   P  PIM  +/-  PPG  SHG  GWG  \\\n",
       "0   1  Wayne Gretzky  1961   F  18  13  12  25    0  NaN  0.0  0.0    1   \n",
       "1   2  Mario Lemieux  1965   F  10  13  10  23    0  NaN  0.0  0.0    2   \n",
       "2   3      Joe Sakic  1969   F  12   6  16  22    0  3.0  0.0  0.0    0   \n",
       "3   4    Gordie Howe  1928   F  23  10   9  19   25  NaN  6.0  1.0    3   \n",
       "4   5   Mark Messier  1961   F  15   6  13  19    4  2.0  0.0  0.0    2   \n",
       "\n",
       "    G/GP   A/GP   P/GP  \n",
       "0  0.722  0.667  1.389  \n",
       "1  1.300  1.000  2.300  \n",
       "2  0.500  1.333  1.833  \n",
       "3  0.435  0.391  0.826  \n",
       "4  0.400  0.867  1.267  "
      ],
      "text/html": "<div>\n<style scoped>\n    .dataframe tbody tr th:only-of-type {\n        vertical-align: middle;\n    }\n\n    .dataframe tbody tr th {\n        vertical-align: top;\n    }\n\n    .dataframe thead th {\n        text-align: right;\n    }\n</style>\n<table border=\"1\" class=\"dataframe\">\n  <thead>\n    <tr style=\"text-align: right;\">\n      <th></th>\n      <th>Rk</th>\n      <th>Name</th>\n      <th>Born</th>\n      <th>Pos</th>\n      <th>GP</th>\n      <th>G</th>\n      <th>A</th>\n      <th>P</th>\n      <th>PIM</th>\n      <th>+/-</th>\n      <th>PPG</th>\n      <th>SHG</th>\n      <th>GWG</th>\n      <th>G/GP</th>\n      <th>A/GP</th>\n      <th>P/GP</th>\n    </tr>\n  </thead>\n  <tbody>\n    <tr>\n      <th>0</th>\n      <td>1</td>\n      <td>Wayne Gretzky</td>\n      <td>1961</td>\n      <td>F</td>\n      <td>18</td>\n      <td>13</td>\n      <td>12</td>\n      <td>25</td>\n      <td>0</td>\n      <td>NaN</td>\n      <td>0.0</td>\n      <td>0.0</td>\n      <td>1</td>\n      <td>0.722</td>\n      <td>0.667</td>\n      <td>1.389</td>\n    </tr>\n    <tr>\n      <th>1</th>\n      <td>2</td>\n      <td>Mario Lemieux</td>\n      <td>1965</td>\n      <td>F</td>\n      <td>10</td>\n      <td>13</td>\n      <td>10</td>\n      <td>23</td>\n      <td>0</td>\n      <td>NaN</td>\n      <td>0.0</td>\n      <td>0.0</td>\n      <td>2</td>\n      <td>1.300</td>\n      <td>1.000</td>\n      <td>2.300</td>\n    </tr>\n    <tr>\n      <th>2</th>\n      <td>3</td>\n      <td>Joe Sakic</td>\n      <td>1969</td>\n      <td>F</td>\n      <td>12</td>\n      <td>6</td>\n      <td>16</td>\n      <td>22</td>\n      <td>0</td>\n      <td>3.0</td>\n      <td>0.0</td>\n      <td>0.0</td>\n      <td>0</td>\n      <td>0.500</td>\n      <td>1.333</td>\n      <td>1.833</td>\n    </tr>\n    <tr>\n      <th>3</th>\n      <td>4</td>\n      <td>Gordie Howe</td>\n      <td>1928</td>\n      <td>F</td>\n      <td>23</td>\n      <td>10</td>\n      <td>9</td>\n      <td>19</td>\n      <td>25</td>\n      <td>NaN</td>\n      <td>6.0</td>\n      <td>1.0</td>\n      <td>3</td>\n      <td>0.435</td>\n      <td>0.391</td>\n      <td>0.826</td>\n    </tr>\n    <tr>\n      <th>4</th>\n      <td>5</td>\n      <td>Mark Messier</td>\n      <td>1961</td>\n      <td>F</td>\n      <td>15</td>\n      <td>6</td>\n      <td>13</td>\n      <td>19</td>\n      <td>4</td>\n      <td>2.0</td>\n      <td>0.0</td>\n      <td>0.0</td>\n      <td>2</td>\n      <td>0.400</td>\n      <td>0.867</td>\n      <td>1.267</td>\n    </tr>\n  </tbody>\n</table>\n</div>"
     },
     "metadata": {},
     "execution_count": 143
    }
   ],
   "source": [
    "# Remove goalies from dataframe\n",
    "all_star_df = all_star_df[all_star_df['Pos'] != 'G'] \n",
    "all_star_df.head()"
   ]
  },
  {
   "cell_type": "code",
   "execution_count": 144,
   "metadata": {},
   "outputs": [
    {
     "output_type": "execute_result",
     "data": {
      "text/plain": [
       "   Rk           Name  Born Pos  GP   G   A   P  PIM  +/-  PPG  SHG  GWG  \\\n",
       "0   1  Wayne Gretzky  1961   F  18  13  12  25    0  NaN  0.0  0.0    1   \n",
       "1   2  Mario Lemieux  1965   F  10  13  10  23    0  NaN  0.0  0.0    2   \n",
       "2   3      Joe Sakic  1969   F  12   6  16  22    0  3.0  0.0  0.0    0   \n",
       "3   4    Gordie Howe  1928   F  23  10   9  19   25  NaN  6.0  1.0    3   \n",
       "4   5   Mark Messier  1961   F  15   6  13  19    4  2.0  0.0  0.0    2   \n",
       "\n",
       "    G/GP   A/GP   P/GP  \n",
       "0  0.722  0.667  1.389  \n",
       "1  1.300  1.000  2.300  \n",
       "2  0.500  1.333  1.833  \n",
       "3  0.435  0.391  0.826  \n",
       "4  0.400  0.867  1.267  "
      ],
      "text/html": "<div>\n<style scoped>\n    .dataframe tbody tr th:only-of-type {\n        vertical-align: middle;\n    }\n\n    .dataframe tbody tr th {\n        vertical-align: top;\n    }\n\n    .dataframe thead th {\n        text-align: right;\n    }\n</style>\n<table border=\"1\" class=\"dataframe\">\n  <thead>\n    <tr style=\"text-align: right;\">\n      <th></th>\n      <th>Rk</th>\n      <th>Name</th>\n      <th>Born</th>\n      <th>Pos</th>\n      <th>GP</th>\n      <th>G</th>\n      <th>A</th>\n      <th>P</th>\n      <th>PIM</th>\n      <th>+/-</th>\n      <th>PPG</th>\n      <th>SHG</th>\n      <th>GWG</th>\n      <th>G/GP</th>\n      <th>A/GP</th>\n      <th>P/GP</th>\n    </tr>\n  </thead>\n  <tbody>\n    <tr>\n      <th>0</th>\n      <td>1</td>\n      <td>Wayne Gretzky</td>\n      <td>1961</td>\n      <td>F</td>\n      <td>18</td>\n      <td>13</td>\n      <td>12</td>\n      <td>25</td>\n      <td>0</td>\n      <td>NaN</td>\n      <td>0.0</td>\n      <td>0.0</td>\n      <td>1</td>\n      <td>0.722</td>\n      <td>0.667</td>\n      <td>1.389</td>\n    </tr>\n    <tr>\n      <th>1</th>\n      <td>2</td>\n      <td>Mario Lemieux</td>\n      <td>1965</td>\n      <td>F</td>\n      <td>10</td>\n      <td>13</td>\n      <td>10</td>\n      <td>23</td>\n      <td>0</td>\n      <td>NaN</td>\n      <td>0.0</td>\n      <td>0.0</td>\n      <td>2</td>\n      <td>1.300</td>\n      <td>1.000</td>\n      <td>2.300</td>\n    </tr>\n    <tr>\n      <th>2</th>\n      <td>3</td>\n      <td>Joe Sakic</td>\n      <td>1969</td>\n      <td>F</td>\n      <td>12</td>\n      <td>6</td>\n      <td>16</td>\n      <td>22</td>\n      <td>0</td>\n      <td>3.0</td>\n      <td>0.0</td>\n      <td>0.0</td>\n      <td>0</td>\n      <td>0.500</td>\n      <td>1.333</td>\n      <td>1.833</td>\n    </tr>\n    <tr>\n      <th>3</th>\n      <td>4</td>\n      <td>Gordie Howe</td>\n      <td>1928</td>\n      <td>F</td>\n      <td>23</td>\n      <td>10</td>\n      <td>9</td>\n      <td>19</td>\n      <td>25</td>\n      <td>NaN</td>\n      <td>6.0</td>\n      <td>1.0</td>\n      <td>3</td>\n      <td>0.435</td>\n      <td>0.391</td>\n      <td>0.826</td>\n    </tr>\n    <tr>\n      <th>4</th>\n      <td>5</td>\n      <td>Mark Messier</td>\n      <td>1961</td>\n      <td>F</td>\n      <td>15</td>\n      <td>6</td>\n      <td>13</td>\n      <td>19</td>\n      <td>4</td>\n      <td>2.0</td>\n      <td>0.0</td>\n      <td>0.0</td>\n      <td>2</td>\n      <td>0.400</td>\n      <td>0.867</td>\n      <td>1.267</td>\n    </tr>\n  </tbody>\n</table>\n</div>"
     },
     "metadata": {},
     "execution_count": 144
    }
   ],
   "source": [
    "# Change names to match the master stat file\n",
    "all_star_df = all_star_df.replace(\"Alex Ovechkin\", \"Alexander Ovechkin\")\n",
    "all_star_df = all_star_df.replace(\"Bernie Geoffrion\", \"Bernard Geoffrion\")\n",
    "all_star_df = all_star_df.replace(\"Evgeni Malkin\", \"Yevgeni Malkin\")\n",
    "all_star_df = all_star_df.replace(\"Johnny Quilty\", \"John Quilty\")\n",
    "all_star_df = all_star_df.replace(\"Ray Bourque\", \"Raymond Bourque\")\n",
    "all_star_df = all_star_df.replace(\"Sweeney Schriner\", \"David Schriner\")\n",
    "all_star_df = all_star_df.replace(\"Tommy Anderson\", \"Tom Anderson\")\n",
    "all_star_df = all_star_df.replace(\"Bob Sirois\", \"Robert Sirois\")\n",
    "all_star_df = all_star_df.replace(\"Bobby Nystrom\", \"Bob Nystrom\")\n",
    "all_star_df = all_star_df.replace(\"Bucky Hollingworth\", \"Gord Hollingworth\")\n",
    "all_star_df = all_star_df.replace(\"Daniel Girardi\", \"Dan Girardi\")\n",
    "all_star_df = all_star_df.replace(\"Dollard St. Laurent\", \"Dollard St-Laurent\")\n",
    "all_star_df = all_star_df.replace(\"Evgeny Kuznetsov\", \"Yevgeni Kuznetsov\")\n",
    "all_star_df = all_star_df.replace(\"Fern Flaman\", \"Fernie Flaman\")\n",
    "all_star_df = all_star_df.replace(\"George 'Hully' Gee\", \"George Gee\")\n",
    "all_star_df = all_star_df.replace(\"Hubert 'Pit' Martin\", \"Pit Martin\")\n",
    "all_star_df = all_star_df.replace(\"J.C. Tremblay\", \"Jean-Claude Tremblay\")\n",
    "all_star_df = all_star_df.replace(\"Jack Leclair\", \"Jackie LeClair\")\n",
    "all_star_df = all_star_df.replace(\"Joshua Bailey\", \"Josh Bailey\")\n",
    "all_star_df = all_star_df.replace(\"Kenny Mosdell\", \"Ken Mosdell\")\n",
    "all_star_df = all_star_df.replace(\"Kristopher Letang\", \"Kris Letang\")\n",
    "all_star_df = all_star_df.replace(\"Leonard 'Red' Kelly\", \"Red Kelly\")\n",
    "all_star_df = all_star_df.replace(\"Nicholas Boynton\", \"Nick Boynton\")\n",
    "all_star_df = all_star_df.replace(\"Nick Libett\", \"Lynn Libett\")\n",
    "all_star_df = all_star_df.replace(\"Oliver Ekman-Larsson\", \"Oliver Ekman Larsson\")\n",
    "all_star_df = all_star_df.replace(\"Quinton Hughes\", \"Quinn Hughes\")\n",
    "all_star_df = all_star_df.replace(\"Red Sullivan\", \"George Sullivan\")\n",
    "all_star_df = all_star_df.replace(\"Reg Fleming\", \"Reggie Fleming\")\n",
    "all_star_df = all_star_df.replace(\"Reg Sinclair\", \"Reggie Sinclair\")\n",
    "all_star_df = all_star_df.replace(\"Ron 'Chico' Maki\", \"Chico Maki\")\n",
    "all_star_df = all_star_df.replace(\"Sandis Ozolinsh\", \"Sandis Ozolins\")\n",
    "all_star_df = all_star_df.replace(\"Theoren Fleury\", \"Theo Fleury\")\n",
    "all_star_df = all_star_df.replace(\"Willie Huber\", \"William Huber\")\n",
    "all_star_df = all_star_df.replace(\"Zachary Werenski\", \"Zach Werenski\")\n",
    "all_star_df = all_star_df.replace(\"John Leclair\", \"John LeClair\")\n",
    "all_star_df.loc[(all_star_df.Name == 'Lee Fogolin') & (all_star_df.Born == 1955), 'Name'] = 'Lee Fogolin, Jr.'\n",
    "all_star_df.loc[(all_star_df.Name == 'Billy Harris') & (all_star_df.Born == 1952), 'Name'] = 'Billy Harris, Jr.'\n",
    "all_star_df.loc[(all_star_df.Name == 'Syl Apps') & (all_star_df.Born == 1947), 'Name'] = 'Syl Apps, Jr.'\n",
    "\n",
    "all_star_df.head()"
   ]
  },
  {
   "cell_type": "code",
   "execution_count": 145,
   "metadata": {},
   "outputs": [
    {
     "output_type": "execute_result",
     "data": {
      "text/plain": [
       "   Rk           Name  Born Pos  GP   G   A   P  PIM  +/-  PPG  SHG  GWG  \\\n",
       "0   1  Wayne Gretzky  1961   F  18  13  12  25    0  NaN  0.0  0.0    1   \n",
       "1   2  Mario Lemieux  1965   F  10  13  10  23    0  NaN  0.0  0.0    2   \n",
       "2   3      Joe Sakic  1969   F  12   6  16  22    0  3.0  0.0  0.0    0   \n",
       "3   4    Gordie Howe  1928   F  23  10   9  19   25  NaN  6.0  1.0    3   \n",
       "4   5   Mark Messier  1961   F  15   6  13  19    4  2.0  0.0  0.0    2   \n",
       "\n",
       "    G/GP   A/GP   P/GP  \n",
       "0  0.722  0.667  1.389  \n",
       "1  1.300  1.000  2.300  \n",
       "2  0.500  1.333  1.833  \n",
       "3  0.435  0.391  0.826  \n",
       "4  0.400  0.867  1.267  "
      ],
      "text/html": "<div>\n<style scoped>\n    .dataframe tbody tr th:only-of-type {\n        vertical-align: middle;\n    }\n\n    .dataframe tbody tr th {\n        vertical-align: top;\n    }\n\n    .dataframe thead th {\n        text-align: right;\n    }\n</style>\n<table border=\"1\" class=\"dataframe\">\n  <thead>\n    <tr style=\"text-align: right;\">\n      <th></th>\n      <th>Rk</th>\n      <th>Name</th>\n      <th>Born</th>\n      <th>Pos</th>\n      <th>GP</th>\n      <th>G</th>\n      <th>A</th>\n      <th>P</th>\n      <th>PIM</th>\n      <th>+/-</th>\n      <th>PPG</th>\n      <th>SHG</th>\n      <th>GWG</th>\n      <th>G/GP</th>\n      <th>A/GP</th>\n      <th>P/GP</th>\n    </tr>\n  </thead>\n  <tbody>\n    <tr>\n      <th>0</th>\n      <td>1</td>\n      <td>Wayne Gretzky</td>\n      <td>1961</td>\n      <td>F</td>\n      <td>18</td>\n      <td>13</td>\n      <td>12</td>\n      <td>25</td>\n      <td>0</td>\n      <td>NaN</td>\n      <td>0.0</td>\n      <td>0.0</td>\n      <td>1</td>\n      <td>0.722</td>\n      <td>0.667</td>\n      <td>1.389</td>\n    </tr>\n    <tr>\n      <th>1</th>\n      <td>2</td>\n      <td>Mario Lemieux</td>\n      <td>1965</td>\n      <td>F</td>\n      <td>10</td>\n      <td>13</td>\n      <td>10</td>\n      <td>23</td>\n      <td>0</td>\n      <td>NaN</td>\n      <td>0.0</td>\n      <td>0.0</td>\n      <td>2</td>\n      <td>1.300</td>\n      <td>1.000</td>\n      <td>2.300</td>\n    </tr>\n    <tr>\n      <th>2</th>\n      <td>3</td>\n      <td>Joe Sakic</td>\n      <td>1969</td>\n      <td>F</td>\n      <td>12</td>\n      <td>6</td>\n      <td>16</td>\n      <td>22</td>\n      <td>0</td>\n      <td>3.0</td>\n      <td>0.0</td>\n      <td>0.0</td>\n      <td>0</td>\n      <td>0.500</td>\n      <td>1.333</td>\n      <td>1.833</td>\n    </tr>\n    <tr>\n      <th>3</th>\n      <td>4</td>\n      <td>Gordie Howe</td>\n      <td>1928</td>\n      <td>F</td>\n      <td>23</td>\n      <td>10</td>\n      <td>9</td>\n      <td>19</td>\n      <td>25</td>\n      <td>NaN</td>\n      <td>6.0</td>\n      <td>1.0</td>\n      <td>3</td>\n      <td>0.435</td>\n      <td>0.391</td>\n      <td>0.826</td>\n    </tr>\n    <tr>\n      <th>4</th>\n      <td>5</td>\n      <td>Mark Messier</td>\n      <td>1961</td>\n      <td>F</td>\n      <td>15</td>\n      <td>6</td>\n      <td>13</td>\n      <td>19</td>\n      <td>4</td>\n      <td>2.0</td>\n      <td>0.0</td>\n      <td>0.0</td>\n      <td>2</td>\n      <td>0.400</td>\n      <td>0.867</td>\n      <td>1.267</td>\n    </tr>\n  </tbody>\n</table>\n</div>"
     },
     "metadata": {},
     "execution_count": 145
    }
   ],
   "source": [
    "# Change all special characters to standard characters to match master stat file\n",
    "cols_to_check = ['Name']\n",
    "all_star_df[cols_to_check] = all_star_df[cols_to_check].replace({'á':'a'}, regex=True)\n",
    "all_star_df[cols_to_check] = all_star_df[cols_to_check].replace({'í':'i'}, regex=True)\n",
    "all_star_df[cols_to_check] = all_star_df[cols_to_check].replace({'ä':'a'}, regex=True)\n",
    "all_star_df[cols_to_check] = all_star_df[cols_to_check].replace({'ö':'o'}, regex=True)\n",
    "all_star_df[cols_to_check] = all_star_df[cols_to_check].replace({'ç':'c'}, regex=True)\n",
    "all_star_df[cols_to_check] = all_star_df[cols_to_check].replace({'å':'a'}, regex=True)\n",
    "all_star_df[cols_to_check] = all_star_df[cols_to_check].replace({'É':'E'}, regex=True)\n",
    "all_star_df[cols_to_check] = all_star_df[cols_to_check].replace({'Å':'A'}, regex=True)\n",
    "all_star_df[cols_to_check] = all_star_df[cols_to_check].replace({'è':'e'}, regex=True)\n",
    "all_star_df[cols_to_check] = all_star_df[cols_to_check].replace({'ë':'e'}, regex=True)\n",
    "all_star_df[cols_to_check] = all_star_df[cols_to_check].replace({'î':'i'}, regex=True)\n",
    "all_star_df[cols_to_check] = all_star_df[cols_to_check].replace({'ó':'o'}, regex=True)\n",
    "all_star_df[cols_to_check] = all_star_df[cols_to_check].replace({'ô':'o'}, regex=True)\n",
    "all_star_df[cols_to_check] = all_star_df[cols_to_check].replace({'ø':'o'}, regex=True)\n",
    "all_star_df[cols_to_check] = all_star_df[cols_to_check].replace({'ß':'ss'}, regex=True)\n",
    "all_star_df[cols_to_check] = all_star_df[cols_to_check].replace({'ü':'u'}, regex=True)\n",
    "all_star_df[cols_to_check] = all_star_df[cols_to_check].replace({'ý':'y'}, regex=True)\n",
    "all_star_df[cols_to_check] = all_star_df[cols_to_check].replace({'Ö':'O'}, regex=True)\n",
    "all_star_df[cols_to_check] = all_star_df[cols_to_check].replace({'é':'e'}, regex=True)\n",
    "all_star_df[cols_to_check] = all_star_df[cols_to_check].replace({'š':'s'}, regex=True)\n",
    "\n",
    "all_star_df.head()"
   ]
  },
  {
   "cell_type": "code",
   "execution_count": 146,
   "metadata": {},
   "outputs": [
    {
     "output_type": "execute_result",
     "data": {
      "text/plain": [
       "   Rk         Player  Born Pos  All-Star Games   G   A   P  PIM  +/-  PPG  \\\n",
       "0   1  Wayne Gretzky  1961   F              18  13  12  25    0  NaN  0.0   \n",
       "1   2  Mario Lemieux  1965   F              10  13  10  23    0  NaN  0.0   \n",
       "2   3      Joe Sakic  1969   F              12   6  16  22    0  3.0  0.0   \n",
       "3   4    Gordie Howe  1928   F              23  10   9  19   25  NaN  6.0   \n",
       "4   5   Mark Messier  1961   F              15   6  13  19    4  2.0  0.0   \n",
       "\n",
       "   SHG  GWG   G/GP   A/GP   P/GP  \n",
       "0  0.0    1  0.722  0.667  1.389  \n",
       "1  0.0    2  1.300  1.000  2.300  \n",
       "2  0.0    0  0.500  1.333  1.833  \n",
       "3  1.0    3  0.435  0.391  0.826  \n",
       "4  0.0    2  0.400  0.867  1.267  "
      ],
      "text/html": "<div>\n<style scoped>\n    .dataframe tbody tr th:only-of-type {\n        vertical-align: middle;\n    }\n\n    .dataframe tbody tr th {\n        vertical-align: top;\n    }\n\n    .dataframe thead th {\n        text-align: right;\n    }\n</style>\n<table border=\"1\" class=\"dataframe\">\n  <thead>\n    <tr style=\"text-align: right;\">\n      <th></th>\n      <th>Rk</th>\n      <th>Player</th>\n      <th>Born</th>\n      <th>Pos</th>\n      <th>All-Star Games</th>\n      <th>G</th>\n      <th>A</th>\n      <th>P</th>\n      <th>PIM</th>\n      <th>+/-</th>\n      <th>PPG</th>\n      <th>SHG</th>\n      <th>GWG</th>\n      <th>G/GP</th>\n      <th>A/GP</th>\n      <th>P/GP</th>\n    </tr>\n  </thead>\n  <tbody>\n    <tr>\n      <th>0</th>\n      <td>1</td>\n      <td>Wayne Gretzky</td>\n      <td>1961</td>\n      <td>F</td>\n      <td>18</td>\n      <td>13</td>\n      <td>12</td>\n      <td>25</td>\n      <td>0</td>\n      <td>NaN</td>\n      <td>0.0</td>\n      <td>0.0</td>\n      <td>1</td>\n      <td>0.722</td>\n      <td>0.667</td>\n      <td>1.389</td>\n    </tr>\n    <tr>\n      <th>1</th>\n      <td>2</td>\n      <td>Mario Lemieux</td>\n      <td>1965</td>\n      <td>F</td>\n      <td>10</td>\n      <td>13</td>\n      <td>10</td>\n      <td>23</td>\n      <td>0</td>\n      <td>NaN</td>\n      <td>0.0</td>\n      <td>0.0</td>\n      <td>2</td>\n      <td>1.300</td>\n      <td>1.000</td>\n      <td>2.300</td>\n    </tr>\n    <tr>\n      <th>2</th>\n      <td>3</td>\n      <td>Joe Sakic</td>\n      <td>1969</td>\n      <td>F</td>\n      <td>12</td>\n      <td>6</td>\n      <td>16</td>\n      <td>22</td>\n      <td>0</td>\n      <td>3.0</td>\n      <td>0.0</td>\n      <td>0.0</td>\n      <td>0</td>\n      <td>0.500</td>\n      <td>1.333</td>\n      <td>1.833</td>\n    </tr>\n    <tr>\n      <th>3</th>\n      <td>4</td>\n      <td>Gordie Howe</td>\n      <td>1928</td>\n      <td>F</td>\n      <td>23</td>\n      <td>10</td>\n      <td>9</td>\n      <td>19</td>\n      <td>25</td>\n      <td>NaN</td>\n      <td>6.0</td>\n      <td>1.0</td>\n      <td>3</td>\n      <td>0.435</td>\n      <td>0.391</td>\n      <td>0.826</td>\n    </tr>\n    <tr>\n      <th>4</th>\n      <td>5</td>\n      <td>Mark Messier</td>\n      <td>1961</td>\n      <td>F</td>\n      <td>15</td>\n      <td>6</td>\n      <td>13</td>\n      <td>19</td>\n      <td>4</td>\n      <td>2.0</td>\n      <td>0.0</td>\n      <td>0.0</td>\n      <td>2</td>\n      <td>0.400</td>\n      <td>0.867</td>\n      <td>1.267</td>\n    </tr>\n  </tbody>\n</table>\n</div>"
     },
     "metadata": {},
     "execution_count": 146
    }
   ],
   "source": [
    "# Rename the Name column to Player to match other dataframes\n",
    "all_star_df = all_star_df.rename(columns={\"Name\": \"Player\", 'GP': 'All-Star Games'})\n",
    "all_star_df.head()"
   ]
  },
  {
   "cell_type": "code",
   "execution_count": 147,
   "metadata": {},
   "outputs": [
    {
     "output_type": "execute_result",
     "data": {
      "text/plain": [
       "          Player  All-Star Games\n",
       "0  Wayne Gretzky              18\n",
       "1  Mario Lemieux              10\n",
       "2      Joe Sakic              12\n",
       "3    Gordie Howe              23\n",
       "4   Mark Messier              15"
      ],
      "text/html": "<div>\n<style scoped>\n    .dataframe tbody tr th:only-of-type {\n        vertical-align: middle;\n    }\n\n    .dataframe tbody tr th {\n        vertical-align: top;\n    }\n\n    .dataframe thead th {\n        text-align: right;\n    }\n</style>\n<table border=\"1\" class=\"dataframe\">\n  <thead>\n    <tr style=\"text-align: right;\">\n      <th></th>\n      <th>Player</th>\n      <th>All-Star Games</th>\n    </tr>\n  </thead>\n  <tbody>\n    <tr>\n      <th>0</th>\n      <td>Wayne Gretzky</td>\n      <td>18</td>\n    </tr>\n    <tr>\n      <th>1</th>\n      <td>Mario Lemieux</td>\n      <td>10</td>\n    </tr>\n    <tr>\n      <th>2</th>\n      <td>Joe Sakic</td>\n      <td>12</td>\n    </tr>\n    <tr>\n      <th>3</th>\n      <td>Gordie Howe</td>\n      <td>23</td>\n    </tr>\n    <tr>\n      <th>4</th>\n      <td>Mark Messier</td>\n      <td>15</td>\n    </tr>\n  </tbody>\n</table>\n</div>"
     },
     "metadata": {},
     "execution_count": 147
    }
   ],
   "source": [
    "# Drop columns that are not needed\n",
    "all_star_df = all_star_df.drop(['Rk', 'Born', 'Pos', 'G', 'A', 'P', 'PIM', '+/-', 'PPG', 'SHG',\n",
    "                                 'GWG', 'G/GP', 'A/GP', 'P/GP'], axis=1)\n",
    "all_star_df.head()"
   ]
  },
  {
   "source": [
    "Merge the All-Star game dataframe to the Awards dataframe."
   ],
   "cell_type": "markdown",
   "metadata": {}
  },
  {
   "cell_type": "code",
   "execution_count": 148,
   "metadata": {},
   "outputs": [
    {
     "output_type": "execute_result",
     "data": {
      "text/plain": [
       "               Player  Awards Cups  All-Star Games\n",
       "0          Ace Bailey     1.0    1             NaN\n",
       "1  Alexander Ovechkin    18.0    1             7.0\n",
       "2            Babe Dye     2.0    1             NaN\n",
       "3   Bernard Geoffrion     4.0    6            11.0\n",
       "4           Bill Cook     2.0    2             NaN"
      ],
      "text/html": "<div>\n<style scoped>\n    .dataframe tbody tr th:only-of-type {\n        vertical-align: middle;\n    }\n\n    .dataframe tbody tr th {\n        vertical-align: top;\n    }\n\n    .dataframe thead th {\n        text-align: right;\n    }\n</style>\n<table border=\"1\" class=\"dataframe\">\n  <thead>\n    <tr style=\"text-align: right;\">\n      <th></th>\n      <th>Player</th>\n      <th>Awards</th>\n      <th>Cups</th>\n      <th>All-Star Games</th>\n    </tr>\n  </thead>\n  <tbody>\n    <tr>\n      <th>0</th>\n      <td>Ace Bailey</td>\n      <td>1.0</td>\n      <td>1</td>\n      <td>NaN</td>\n    </tr>\n    <tr>\n      <th>1</th>\n      <td>Alexander Ovechkin</td>\n      <td>18.0</td>\n      <td>1</td>\n      <td>7.0</td>\n    </tr>\n    <tr>\n      <th>2</th>\n      <td>Babe Dye</td>\n      <td>2.0</td>\n      <td>1</td>\n      <td>NaN</td>\n    </tr>\n    <tr>\n      <th>3</th>\n      <td>Bernard Geoffrion</td>\n      <td>4.0</td>\n      <td>6</td>\n      <td>11.0</td>\n    </tr>\n    <tr>\n      <th>4</th>\n      <td>Bill Cook</td>\n      <td>2.0</td>\n      <td>2</td>\n      <td>NaN</td>\n    </tr>\n  </tbody>\n</table>\n</div>"
     },
     "metadata": {},
     "execution_count": 148
    }
   ],
   "source": [
    "# Merge the individual award files into one complete file\n",
    "awards_merge_df = pd.merge(awards_merge_df,\n",
    "                 all_star_df[['Player', 'All-Star Games']],\n",
    "                 on='Player', how='outer')\n",
    "awards_merge_df.head()"
   ]
  },
  {
   "cell_type": "code",
   "execution_count": 149,
   "metadata": {},
   "outputs": [
    {
     "output_type": "execute_result",
     "data": {
      "text/plain": [
       "               Player  Awards  Cups  All-Star Games\n",
       "0          Ace Bailey       1     1               0\n",
       "1  Alexander Ovechkin      18     1               7\n",
       "2            Babe Dye       2     1               0\n",
       "3   Bernard Geoffrion       4     6              11\n",
       "4           Bill Cook       2     2               0"
      ],
      "text/html": "<div>\n<style scoped>\n    .dataframe tbody tr th:only-of-type {\n        vertical-align: middle;\n    }\n\n    .dataframe tbody tr th {\n        vertical-align: top;\n    }\n\n    .dataframe thead th {\n        text-align: right;\n    }\n</style>\n<table border=\"1\" class=\"dataframe\">\n  <thead>\n    <tr style=\"text-align: right;\">\n      <th></th>\n      <th>Player</th>\n      <th>Awards</th>\n      <th>Cups</th>\n      <th>All-Star Games</th>\n    </tr>\n  </thead>\n  <tbody>\n    <tr>\n      <th>0</th>\n      <td>Ace Bailey</td>\n      <td>1</td>\n      <td>1</td>\n      <td>0</td>\n    </tr>\n    <tr>\n      <th>1</th>\n      <td>Alexander Ovechkin</td>\n      <td>18</td>\n      <td>1</td>\n      <td>7</td>\n    </tr>\n    <tr>\n      <th>2</th>\n      <td>Babe Dye</td>\n      <td>2</td>\n      <td>1</td>\n      <td>0</td>\n    </tr>\n    <tr>\n      <th>3</th>\n      <td>Bernard Geoffrion</td>\n      <td>4</td>\n      <td>6</td>\n      <td>11</td>\n    </tr>\n    <tr>\n      <th>4</th>\n      <td>Bill Cook</td>\n      <td>2</td>\n      <td>2</td>\n      <td>0</td>\n    </tr>\n  </tbody>\n</table>\n</div>"
     },
     "metadata": {},
     "execution_count": 149
    }
   ],
   "source": [
    "# Change all the NaN values to 0 and change numeric columns to integers\n",
    "awards_merge_df = awards_merge_df.fillna(0)\n",
    "awards_merge_df = awards_merge_df.astype({'Awards':'int', 'Cups':'int', 'All-Star Games':'int'}) \n",
    "awards_merge_df.head() "
   ]
  },
  {
   "cell_type": "code",
   "execution_count": 150,
   "metadata": {},
   "outputs": [
    {
     "output_type": "execute_result",
     "data": {
      "text/plain": [
       "Player            object\n",
       "Awards             int32\n",
       "Cups               int32\n",
       "All-Star Games     int32\n",
       "dtype: object"
      ]
     },
     "metadata": {},
     "execution_count": 150
    }
   ],
   "source": [
    "awards_merge_df.dtypes"
   ]
  },
  {
   "cell_type": "code",
   "execution_count": 151,
   "metadata": {},
   "outputs": [],
   "source": [
    "# Save the file to csv\n",
    "awards_merge_df.to_csv(\"Output/awards_adj.csv\", index=False, header=True)"
   ]
  },
  {
   "cell_type": "code",
   "execution_count": null,
   "metadata": {},
   "outputs": [],
   "source": []
  }
 ]
}