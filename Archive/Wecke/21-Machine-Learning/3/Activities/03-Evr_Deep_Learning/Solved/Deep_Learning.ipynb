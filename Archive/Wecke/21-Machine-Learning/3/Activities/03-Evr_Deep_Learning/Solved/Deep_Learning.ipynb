{
 "cells": [
  {
   "cell_type": "code",
   "execution_count": 1,
   "metadata": {},
   "outputs": [],
   "source": [
    "# Set the seed value for the notebook so the results are reproducible\n",
    "from numpy.random import seed\n",
    "seed(1)"
   ]
  },
  {
   "cell_type": "code",
   "execution_count": 2,
   "metadata": {},
   "outputs": [],
   "source": [
    "%matplotlib inline\n",
    "import matplotlib.pyplot as plt\n",
    "import numpy as np\n",
    "import sklearn\n",
    "import sklearn.datasets"
   ]
  },
  {
   "cell_type": "code",
   "execution_count": 3,
   "metadata": {},
   "outputs": [],
   "source": [
    "# Create Data\n",
    "X, y = sklearn.datasets.make_circles(noise=0.05, factor=.2, random_state=1)"
   ]
  },
  {
   "cell_type": "code",
   "execution_count": 4,
   "metadata": {},
   "outputs": [
    {
     "output_type": "execute_result",
     "data": {
      "text/plain": [
       "<matplotlib.collections.PathCollection at 0x7fbc00af0940>"
      ]
     },
     "metadata": {},
     "execution_count": 4
    },
    {
     "output_type": "display_data",
     "data": {
      "text/plain": "<Figure size 432x288 with 1 Axes>",
      "image/svg+xml": "<?xml version=\"1.0\" encoding=\"utf-8\" standalone=\"no\"?>\n<!DOCTYPE svg PUBLIC \"-//W3C//DTD SVG 1.1//EN\"\n  \"http://www.w3.org/Graphics/SVG/1.1/DTD/svg11.dtd\">\n<!-- Created with matplotlib (https://matplotlib.org/) -->\n<svg height=\"248.518125pt\" version=\"1.1\" viewBox=\"0 0 386.845312 248.518125\" width=\"386.845312pt\" xmlns=\"http://www.w3.org/2000/svg\" xmlns:xlink=\"http://www.w3.org/1999/xlink\">\n <defs>\n  <style type=\"text/css\">\n*{stroke-linecap:butt;stroke-linejoin:round;}\n  </style>\n </defs>\n <g id=\"figure_1\">\n  <g id=\"patch_1\">\n   <path d=\"M 0 248.518125 \nL 386.845312 248.518125 \nL 386.845312 0 \nL 0 0 \nz\n\" style=\"fill:none;\"/>\n  </g>\n  <g id=\"axes_1\">\n   <g id=\"patch_2\">\n    <path d=\"M 44.845313 224.64 \nL 379.645313 224.64 \nL 379.645313 7.2 \nL 44.845313 7.2 \nz\n\" style=\"fill:#ffffff;\"/>\n   </g>\n   <g id=\"PathCollection_1\">\n    <defs>\n     <path d=\"M 0 3 \nC 0.795609 3 1.55874 2.683901 2.12132 2.12132 \nC 2.683901 1.55874 3 0.795609 3 0 \nC 3 -0.795609 2.683901 -1.55874 2.12132 -2.12132 \nC 1.55874 -2.683901 0.795609 -3 0 -3 \nC -0.795609 -3 -1.55874 -2.683901 -2.12132 -2.12132 \nC -2.683901 -1.55874 -3 -0.795609 -3 0 \nC -3 0.795609 -2.683901 1.55874 -2.12132 2.12132 \nC -1.55874 2.683901 -0.795609 3 0 3 \nz\n\" id=\"C0_0_4ff402f334\"/>\n    </defs>\n    <g clip-path=\"url(#p02448c8b37)\">\n     <use style=\"fill:#fde725;stroke:#fde725;\" x=\"189.091342\" xlink:href=\"#C0_0_4ff402f334\" y=\"123.668053\"/>\n    </g>\n    <g clip-path=\"url(#p02448c8b37)\">\n     <use style=\"fill:#fde725;stroke:#fde725;\" x=\"206.762965\" xlink:href=\"#C0_0_4ff402f334\" y=\"135.696623\"/>\n    </g>\n    <g clip-path=\"url(#p02448c8b37)\">\n     <use style=\"fill:#440154;stroke:#440154;\" x=\"138.029301\" xlink:href=\"#C0_0_4ff402f334\" y=\"212.363877\"/>\n    </g>\n    <g clip-path=\"url(#p02448c8b37)\">\n     <use style=\"fill:#fde725;stroke:#fde725;\" x=\"181.26438\" xlink:href=\"#C0_0_4ff402f334\" y=\"123.718589\"/>\n    </g>\n    <g clip-path=\"url(#p02448c8b37)\">\n     <use style=\"fill:#fde725;stroke:#fde725;\" x=\"245.426401\" xlink:href=\"#C0_0_4ff402f334\" y=\"127.43561\"/>\n    </g>\n    <g clip-path=\"url(#p02448c8b37)\">\n     <use style=\"fill:#440154;stroke:#440154;\" x=\"135.673011\" xlink:href=\"#C0_0_4ff402f334\" y=\"36.476615\"/>\n    </g>\n    <g clip-path=\"url(#p02448c8b37)\">\n     <use style=\"fill:#440154;stroke:#440154;\" x=\"174.733776\" xlink:href=\"#C0_0_4ff402f334\" y=\"208.376104\"/>\n    </g>\n    <g clip-path=\"url(#p02448c8b37)\">\n     <use style=\"fill:#fde725;stroke:#fde725;\" x=\"188.303884\" xlink:href=\"#C0_0_4ff402f334\" y=\"126.113912\"/>\n    </g>\n    <g clip-path=\"url(#p02448c8b37)\">\n     <use style=\"fill:#fde725;stroke:#fde725;\" x=\"194.34453\" xlink:href=\"#C0_0_4ff402f334\" y=\"101.69718\"/>\n    </g>\n    <g clip-path=\"url(#p02448c8b37)\">\n     <use style=\"fill:#fde725;stroke:#fde725;\" x=\"203.103562\" xlink:href=\"#C0_0_4ff402f334\" y=\"99.554305\"/>\n    </g>\n    <g clip-path=\"url(#p02448c8b37)\">\n     <use style=\"fill:#fde725;stroke:#fde725;\" x=\"226.796852\" xlink:href=\"#C0_0_4ff402f334\" y=\"136.613088\"/>\n    </g>\n    <g clip-path=\"url(#p02448c8b37)\">\n     <use style=\"fill:#440154;stroke:#440154;\" x=\"238.892725\" xlink:href=\"#C0_0_4ff402f334\" y=\"212.170776\"/>\n    </g>\n    <g clip-path=\"url(#p02448c8b37)\">\n     <use style=\"fill:#fde725;stroke:#fde725;\" x=\"239.514633\" xlink:href=\"#C0_0_4ff402f334\" y=\"99.66938\"/>\n    </g>\n    <g clip-path=\"url(#p02448c8b37)\">\n     <use style=\"fill:#fde725;stroke:#fde725;\" x=\"248.499737\" xlink:href=\"#C0_0_4ff402f334\" y=\"115.723595\"/>\n    </g>\n    <g clip-path=\"url(#p02448c8b37)\">\n     <use style=\"fill:#fde725;stroke:#fde725;\" x=\"243.59319\" xlink:href=\"#C0_0_4ff402f334\" y=\"120.176541\"/>\n    </g>\n    <g clip-path=\"url(#p02448c8b37)\">\n     <use style=\"fill:#440154;stroke:#440154;\" x=\"129.489143\" xlink:href=\"#C0_0_4ff402f334\" y=\"194.7672\"/>\n    </g>\n    <g clip-path=\"url(#p02448c8b37)\">\n     <use style=\"fill:#440154;stroke:#440154;\" x=\"91.410329\" xlink:href=\"#C0_0_4ff402f334\" y=\"186.532586\"/>\n    </g>\n    <g clip-path=\"url(#p02448c8b37)\">\n     <use style=\"fill:#440154;stroke:#440154;\" x=\"321.752101\" xlink:href=\"#C0_0_4ff402f334\" y=\"179.088763\"/>\n    </g>\n    <g clip-path=\"url(#p02448c8b37)\">\n     <use style=\"fill:#fde725;stroke:#fde725;\" x=\"184.34498\" xlink:href=\"#C0_0_4ff402f334\" y=\"128.193451\"/>\n    </g>\n    <g clip-path=\"url(#p02448c8b37)\">\n     <use style=\"fill:#440154;stroke:#440154;\" x=\"252.339118\" xlink:href=\"#C0_0_4ff402f334\" y=\"19.051185\"/>\n    </g>\n    <g clip-path=\"url(#p02448c8b37)\">\n     <use style=\"fill:#440154;stroke:#440154;\" x=\"344.371547\" xlink:href=\"#C0_0_4ff402f334\" y=\"93.207065\"/>\n    </g>\n    <g clip-path=\"url(#p02448c8b37)\">\n     <use style=\"fill:#fde725;stroke:#fde725;\" x=\"172.678539\" xlink:href=\"#C0_0_4ff402f334\" y=\"111.831795\"/>\n    </g>\n    <g clip-path=\"url(#p02448c8b37)\">\n     <use style=\"fill:#fde725;stroke:#fde725;\" x=\"240.034202\" xlink:href=\"#C0_0_4ff402f334\" y=\"127.548687\"/>\n    </g>\n    <g clip-path=\"url(#p02448c8b37)\">\n     <use style=\"fill:#fde725;stroke:#fde725;\" x=\"211.39728\" xlink:href=\"#C0_0_4ff402f334\" y=\"102.907914\"/>\n    </g>\n    <g clip-path=\"url(#p02448c8b37)\">\n     <use style=\"fill:#440154;stroke:#440154;\" x=\"104.406576\" xlink:href=\"#C0_0_4ff402f334\" y=\"53.592038\"/>\n    </g>\n    <g clip-path=\"url(#p02448c8b37)\">\n     <use style=\"fill:#440154;stroke:#440154;\" x=\"164.225287\" xlink:href=\"#C0_0_4ff402f334\" y=\"214.756364\"/>\n    </g>\n    <g clip-path=\"url(#p02448c8b37)\">\n     <use style=\"fill:#fde725;stroke:#fde725;\" x=\"226.984716\" xlink:href=\"#C0_0_4ff402f334\" y=\"134.529847\"/>\n    </g>\n    <g clip-path=\"url(#p02448c8b37)\">\n     <use style=\"fill:#440154;stroke:#440154;\" x=\"69.794714\" xlink:href=\"#C0_0_4ff402f334\" y=\"146.08155\"/>\n    </g>\n    <g clip-path=\"url(#p02448c8b37)\">\n     <use style=\"fill:#440154;stroke:#440154;\" x=\"328.554362\" xlink:href=\"#C0_0_4ff402f334\" y=\"170.76629\"/>\n    </g>\n    <g clip-path=\"url(#p02448c8b37)\">\n     <use style=\"fill:#440154;stroke:#440154;\" x=\"217.189148\" xlink:href=\"#C0_0_4ff402f334\" y=\"212.196615\"/>\n    </g>\n    <g clip-path=\"url(#p02448c8b37)\">\n     <use style=\"fill:#fde725;stroke:#fde725;\" x=\"202.160795\" xlink:href=\"#C0_0_4ff402f334\" y=\"92.671612\"/>\n    </g>\n    <g clip-path=\"url(#p02448c8b37)\">\n     <use style=\"fill:#fde725;stroke:#fde725;\" x=\"253.117873\" xlink:href=\"#C0_0_4ff402f334\" y=\"121.738012\"/>\n    </g>\n    <g clip-path=\"url(#p02448c8b37)\">\n     <use style=\"fill:#fde725;stroke:#fde725;\" x=\"225.075744\" xlink:href=\"#C0_0_4ff402f334\" y=\"116.328079\"/>\n    </g>\n    <g clip-path=\"url(#p02448c8b37)\">\n     <use style=\"fill:#fde725;stroke:#fde725;\" x=\"228.806965\" xlink:href=\"#C0_0_4ff402f334\" y=\"130.731512\"/>\n    </g>\n    <g clip-path=\"url(#p02448c8b37)\">\n     <use style=\"fill:#fde725;stroke:#fde725;\" x=\"218.108526\" xlink:href=\"#C0_0_4ff402f334\" y=\"130.436152\"/>\n    </g>\n    <g clip-path=\"url(#p02448c8b37)\">\n     <use style=\"fill:#440154;stroke:#440154;\" x=\"258.773621\" xlink:href=\"#C0_0_4ff402f334\" y=\"213.323106\"/>\n    </g>\n    <g clip-path=\"url(#p02448c8b37)\">\n     <use style=\"fill:#440154;stroke:#440154;\" x=\"352.904379\" xlink:href=\"#C0_0_4ff402f334\" y=\"145.374523\"/>\n    </g>\n    <g clip-path=\"url(#p02448c8b37)\">\n     <use style=\"fill:#fde725;stroke:#fde725;\" x=\"214.842861\" xlink:href=\"#C0_0_4ff402f334\" y=\"103.123563\"/>\n    </g>\n    <g clip-path=\"url(#p02448c8b37)\">\n     <use style=\"fill:#440154;stroke:#440154;\" x=\"65.04844\" xlink:href=\"#C0_0_4ff402f334\" y=\"92.891118\"/>\n    </g>\n    <g clip-path=\"url(#p02448c8b37)\">\n     <use style=\"fill:#440154;stroke:#440154;\" x=\"142.681394\" xlink:href=\"#C0_0_4ff402f334\" y=\"202.073406\"/>\n    </g>\n    <g clip-path=\"url(#p02448c8b37)\">\n     <use style=\"fill:#fde725;stroke:#fde725;\" x=\"208.717938\" xlink:href=\"#C0_0_4ff402f334\" y=\"134.567091\"/>\n    </g>\n    <g clip-path=\"url(#p02448c8b37)\">\n     <use style=\"fill:#fde725;stroke:#fde725;\" x=\"237.335337\" xlink:href=\"#C0_0_4ff402f334\" y=\"109.102826\"/>\n    </g>\n    <g clip-path=\"url(#p02448c8b37)\">\n     <use style=\"fill:#fde725;stroke:#fde725;\" x=\"187.817006\" xlink:href=\"#C0_0_4ff402f334\" y=\"118.540008\"/>\n    </g>\n    <g clip-path=\"url(#p02448c8b37)\">\n     <use style=\"fill:#440154;stroke:#440154;\" x=\"179.245125\" xlink:href=\"#C0_0_4ff402f334\" y=\"34.179573\"/>\n    </g>\n    <g clip-path=\"url(#p02448c8b37)\">\n     <use style=\"fill:#fde725;stroke:#fde725;\" x=\"185.263477\" xlink:href=\"#C0_0_4ff402f334\" y=\"133.622458\"/>\n    </g>\n    <g clip-path=\"url(#p02448c8b37)\">\n     <use style=\"fill:#440154;stroke:#440154;\" x=\"274.815061\" xlink:href=\"#C0_0_4ff402f334\" y=\"203.095193\"/>\n    </g>\n    <g clip-path=\"url(#p02448c8b37)\">\n     <use style=\"fill:#440154;stroke:#440154;\" x=\"334.908825\" xlink:href=\"#C0_0_4ff402f334\" y=\"178.209862\"/>\n    </g>\n    <g clip-path=\"url(#p02448c8b37)\">\n     <use style=\"fill:#fde725;stroke:#fde725;\" x=\"219.444288\" xlink:href=\"#C0_0_4ff402f334\" y=\"136.362977\"/>\n    </g>\n    <g clip-path=\"url(#p02448c8b37)\">\n     <use style=\"fill:#440154;stroke:#440154;\" x=\"73.919392\" xlink:href=\"#C0_0_4ff402f334\" y=\"128.189292\"/>\n    </g>\n    <g clip-path=\"url(#p02448c8b37)\">\n     <use style=\"fill:#fde725;stroke:#fde725;\" x=\"229.827617\" xlink:href=\"#C0_0_4ff402f334\" y=\"116.687898\"/>\n    </g>\n    <g clip-path=\"url(#p02448c8b37)\">\n     <use style=\"fill:#440154;stroke:#440154;\" x=\"308.051492\" xlink:href=\"#C0_0_4ff402f334\" y=\"185.122105\"/>\n    </g>\n    <g clip-path=\"url(#p02448c8b37)\">\n     <use style=\"fill:#fde725;stroke:#fde725;\" x=\"230.863225\" xlink:href=\"#C0_0_4ff402f334\" y=\"102.701855\"/>\n    </g>\n    <g clip-path=\"url(#p02448c8b37)\">\n     <use style=\"fill:#440154;stroke:#440154;\" x=\"60.063494\" xlink:href=\"#C0_0_4ff402f334\" y=\"95.620652\"/>\n    </g>\n    <g clip-path=\"url(#p02448c8b37)\">\n     <use style=\"fill:#440154;stroke:#440154;\" x=\"348.940006\" xlink:href=\"#C0_0_4ff402f334\" y=\"64.857266\"/>\n    </g>\n    <g clip-path=\"url(#p02448c8b37)\">\n     <use style=\"fill:#fde725;stroke:#fde725;\" x=\"233.429382\" xlink:href=\"#C0_0_4ff402f334\" y=\"101.005935\"/>\n    </g>\n    <g clip-path=\"url(#p02448c8b37)\">\n     <use style=\"fill:#440154;stroke:#440154;\" x=\"357.816943\" xlink:href=\"#C0_0_4ff402f334\" y=\"127.403357\"/>\n    </g>\n    <g clip-path=\"url(#p02448c8b37)\">\n     <use style=\"fill:#440154;stroke:#440154;\" x=\"92.442032\" xlink:href=\"#C0_0_4ff402f334\" y=\"69.98142\"/>\n    </g>\n    <g clip-path=\"url(#p02448c8b37)\">\n     <use style=\"fill:#fde725;stroke:#fde725;\" x=\"220.214238\" xlink:href=\"#C0_0_4ff402f334\" y=\"144.876043\"/>\n    </g>\n    <g clip-path=\"url(#p02448c8b37)\">\n     <use style=\"fill:#440154;stroke:#440154;\" x=\"349.377195\" xlink:href=\"#C0_0_4ff402f334\" y=\"81.791173\"/>\n    </g>\n    <g clip-path=\"url(#p02448c8b37)\">\n     <use style=\"fill:#fde725;stroke:#fde725;\" x=\"184.559388\" xlink:href=\"#C0_0_4ff402f334\" y=\"116.993614\"/>\n    </g>\n    <g clip-path=\"url(#p02448c8b37)\">\n     <use style=\"fill:#440154;stroke:#440154;\" x=\"92.176633\" xlink:href=\"#C0_0_4ff402f334\" y=\"177.144474\"/>\n    </g>\n    <g clip-path=\"url(#p02448c8b37)\">\n     <use style=\"fill:#fde725;stroke:#fde725;\" x=\"198.946134\" xlink:href=\"#C0_0_4ff402f334\" y=\"97.6233\"/>\n    </g>\n    <g clip-path=\"url(#p02448c8b37)\">\n     <use style=\"fill:#fde725;stroke:#fde725;\" x=\"181.134904\" xlink:href=\"#C0_0_4ff402f334\" y=\"105.612152\"/>\n    </g>\n    <g clip-path=\"url(#p02448c8b37)\">\n     <use style=\"fill:#440154;stroke:#440154;\" x=\"299.244473\" xlink:href=\"#C0_0_4ff402f334\" y=\"201.219026\"/>\n    </g>\n    <g clip-path=\"url(#p02448c8b37)\">\n     <use style=\"fill:#440154;stroke:#440154;\" x=\"336.862671\" xlink:href=\"#C0_0_4ff402f334\" y=\"152.337919\"/>\n    </g>\n    <g clip-path=\"url(#p02448c8b37)\">\n     <use style=\"fill:#fde725;stroke:#fde725;\" x=\"223.553475\" xlink:href=\"#C0_0_4ff402f334\" y=\"138.021996\"/>\n    </g>\n    <g clip-path=\"url(#p02448c8b37)\">\n     <use style=\"fill:#440154;stroke:#440154;\" x=\"291.154452\" xlink:href=\"#C0_0_4ff402f334\" y=\"30.331801\"/>\n    </g>\n    <g clip-path=\"url(#p02448c8b37)\">\n     <use style=\"fill:#fde725;stroke:#fde725;\" x=\"228.296959\" xlink:href=\"#C0_0_4ff402f334\" y=\"107.237524\"/>\n    </g>\n    <g clip-path=\"url(#p02448c8b37)\">\n     <use style=\"fill:#440154;stroke:#440154;\" x=\"362.472036\" xlink:href=\"#C0_0_4ff402f334\" y=\"117.550823\"/>\n    </g>\n    <g clip-path=\"url(#p02448c8b37)\">\n     <use style=\"fill:#fde725;stroke:#fde725;\" x=\"216.200024\" xlink:href=\"#C0_0_4ff402f334\" y=\"139.932528\"/>\n    </g>\n    <g clip-path=\"url(#p02448c8b37)\">\n     <use style=\"fill:#fde725;stroke:#fde725;\" x=\"228.33583\" xlink:href=\"#C0_0_4ff402f334\" y=\"99.003257\"/>\n    </g>\n    <g clip-path=\"url(#p02448c8b37)\">\n     <use style=\"fill:#440154;stroke:#440154;\" x=\"75.835914\" xlink:href=\"#C0_0_4ff402f334\" y=\"73.621048\"/>\n    </g>\n    <g clip-path=\"url(#p02448c8b37)\">\n     <use style=\"fill:#fde725;stroke:#fde725;\" x=\"220.553683\" xlink:href=\"#C0_0_4ff402f334\" y=\"103.775895\"/>\n    </g>\n    <g clip-path=\"url(#p02448c8b37)\">\n     <use style=\"fill:#fde725;stroke:#fde725;\" x=\"209.495483\" xlink:href=\"#C0_0_4ff402f334\" y=\"99.844641\"/>\n    </g>\n    <g clip-path=\"url(#p02448c8b37)\">\n     <use style=\"fill:#440154;stroke:#440154;\" x=\"314.516573\" xlink:href=\"#C0_0_4ff402f334\" y=\"39.017828\"/>\n    </g>\n    <g clip-path=\"url(#p02448c8b37)\">\n     <use style=\"fill:#fde725;stroke:#fde725;\" x=\"233.122169\" xlink:href=\"#C0_0_4ff402f334\" y=\"122.589822\"/>\n    </g>\n    <g clip-path=\"url(#p02448c8b37)\">\n     <use style=\"fill:#440154;stroke:#440154;\" x=\"200.087412\" xlink:href=\"#C0_0_4ff402f334\" y=\"24.22263\"/>\n    </g>\n    <g clip-path=\"url(#p02448c8b37)\">\n     <use style=\"fill:#fde725;stroke:#fde725;\" x=\"203.155593\" xlink:href=\"#C0_0_4ff402f334\" y=\"106.641006\"/>\n    </g>\n    <g clip-path=\"url(#p02448c8b37)\">\n     <use style=\"fill:#fde725;stroke:#fde725;\" x=\"199.705885\" xlink:href=\"#C0_0_4ff402f334\" y=\"134.918947\"/>\n    </g>\n    <g clip-path=\"url(#p02448c8b37)\">\n     <use style=\"fill:#440154;stroke:#440154;\" x=\"182.749195\" xlink:href=\"#C0_0_4ff402f334\" y=\"27.494168\"/>\n    </g>\n    <g clip-path=\"url(#p02448c8b37)\">\n     <use style=\"fill:#440154;stroke:#440154;\" x=\"72.916952\" xlink:href=\"#C0_0_4ff402f334\" y=\"168.51785\"/>\n    </g>\n    <g clip-path=\"url(#p02448c8b37)\">\n     <use style=\"fill:#440154;stroke:#440154;\" x=\"74.66971\" xlink:href=\"#C0_0_4ff402f334\" y=\"155.856369\"/>\n    </g>\n    <g clip-path=\"url(#p02448c8b37)\">\n     <use style=\"fill:#440154;stroke:#440154;\" x=\"241.350809\" xlink:href=\"#C0_0_4ff402f334\" y=\"24.261369\"/>\n    </g>\n    <g clip-path=\"url(#p02448c8b37)\">\n     <use style=\"fill:#440154;stroke:#440154;\" x=\"115.677124\" xlink:href=\"#C0_0_4ff402f334\" y=\"46.10845\"/>\n    </g>\n    <g clip-path=\"url(#p02448c8b37)\">\n     <use style=\"fill:#440154;stroke:#440154;\" x=\"83.939649\" xlink:href=\"#C0_0_4ff402f334\" y=\"53.715724\"/>\n    </g>\n    <g clip-path=\"url(#p02448c8b37)\">\n     <use style=\"fill:#fde725;stroke:#fde725;\" x=\"242.613923\" xlink:href=\"#C0_0_4ff402f334\" y=\"109.480205\"/>\n    </g>\n    <g clip-path=\"url(#p02448c8b37)\">\n     <use style=\"fill:#440154;stroke:#440154;\" x=\"72.415727\" xlink:href=\"#C0_0_4ff402f334\" y=\"116.365456\"/>\n    </g>\n    <g clip-path=\"url(#p02448c8b37)\">\n     <use style=\"fill:#440154;stroke:#440154;\" x=\"319.791834\" xlink:href=\"#C0_0_4ff402f334\" y=\"51.580777\"/>\n    </g>\n    <g clip-path=\"url(#p02448c8b37)\">\n     <use style=\"fill:#fde725;stroke:#fde725;\" x=\"189.97887\" xlink:href=\"#C0_0_4ff402f334\" y=\"101.714796\"/>\n    </g>\n    <g clip-path=\"url(#p02448c8b37)\">\n     <use style=\"fill:#fde725;stroke:#fde725;\" x=\"188.367633\" xlink:href=\"#C0_0_4ff402f334\" y=\"114.587253\"/>\n    </g>\n    <g clip-path=\"url(#p02448c8b37)\">\n     <use style=\"fill:#440154;stroke:#440154;\" x=\"364.427131\" xlink:href=\"#C0_0_4ff402f334\" y=\"106.553892\"/>\n    </g>\n    <g clip-path=\"url(#p02448c8b37)\">\n     <use style=\"fill:#440154;stroke:#440154;\" x=\"150.745478\" xlink:href=\"#C0_0_4ff402f334\" y=\"29.543809\"/>\n    </g>\n    <g clip-path=\"url(#p02448c8b37)\">\n     <use style=\"fill:#fde725;stroke:#fde725;\" x=\"207.438491\" xlink:href=\"#C0_0_4ff402f334\" y=\"104.200562\"/>\n    </g>\n    <g clip-path=\"url(#p02448c8b37)\">\n     <use style=\"fill:#fde725;stroke:#fde725;\" x=\"185.876888\" xlink:href=\"#C0_0_4ff402f334\" y=\"122.035787\"/>\n    </g>\n    <g clip-path=\"url(#p02448c8b37)\">\n     <use style=\"fill:#440154;stroke:#440154;\" x=\"333.994889\" xlink:href=\"#C0_0_4ff402f334\" y=\"57.098934\"/>\n    </g>\n    <g clip-path=\"url(#p02448c8b37)\">\n     <use style=\"fill:#fde725;stroke:#fde725;\" x=\"183.560272\" xlink:href=\"#C0_0_4ff402f334\" y=\"122.615386\"/>\n    </g>\n    <g clip-path=\"url(#p02448c8b37)\">\n     <use style=\"fill:#440154;stroke:#440154;\" x=\"264.283958\" xlink:href=\"#C0_0_4ff402f334\" y=\"27.582501\"/>\n    </g>\n    <g clip-path=\"url(#p02448c8b37)\">\n     <use style=\"fill:#fde725;stroke:#fde725;\" x=\"177.948803\" xlink:href=\"#C0_0_4ff402f334\" y=\"123.314076\"/>\n    </g>\n    <g clip-path=\"url(#p02448c8b37)\">\n     <use style=\"fill:#440154;stroke:#440154;\" x=\"236.832214\" xlink:href=\"#C0_0_4ff402f334\" y=\"17.083636\"/>\n    </g>\n    <g clip-path=\"url(#p02448c8b37)\">\n     <use style=\"fill:#440154;stroke:#440154;\" x=\"191.002166\" xlink:href=\"#C0_0_4ff402f334\" y=\"211.914348\"/>\n    </g>\n   </g>\n   <g id=\"matplotlib.axis_1\">\n    <g id=\"xtick_1\">\n     <g id=\"line2d_1\">\n      <defs>\n       <path d=\"M 0 0 \nL 0 3.5 \n\" id=\"m08920a4125\" style=\"stroke:#000000;stroke-width:0.8;\"/>\n      </defs>\n      <g>\n       <use style=\"stroke:#000000;stroke-width:0.8;\" x=\"64.052203\" xlink:href=\"#m08920a4125\" y=\"224.64\"/>\n      </g>\n     </g>\n     <g id=\"text_1\">\n      <!-- −1.0 -->\n      <defs>\n       <path d=\"M 10.59375 35.5 \nL 73.1875 35.5 \nL 73.1875 27.203125 \nL 10.59375 27.203125 \nz\n\" id=\"DejaVuSans-8722\"/>\n       <path d=\"M 12.40625 8.296875 \nL 28.515625 8.296875 \nL 28.515625 63.921875 \nL 10.984375 60.40625 \nL 10.984375 69.390625 \nL 28.421875 72.90625 \nL 38.28125 72.90625 \nL 38.28125 8.296875 \nL 54.390625 8.296875 \nL 54.390625 0 \nL 12.40625 0 \nz\n\" id=\"DejaVuSans-49\"/>\n       <path d=\"M 10.6875 12.40625 \nL 21 12.40625 \nL 21 0 \nL 10.6875 0 \nz\n\" id=\"DejaVuSans-46\"/>\n       <path d=\"M 31.78125 66.40625 \nQ 24.171875 66.40625 20.328125 58.90625 \nQ 16.5 51.421875 16.5 36.375 \nQ 16.5 21.390625 20.328125 13.890625 \nQ 24.171875 6.390625 31.78125 6.390625 \nQ 39.453125 6.390625 43.28125 13.890625 \nQ 47.125 21.390625 47.125 36.375 \nQ 47.125 51.421875 43.28125 58.90625 \nQ 39.453125 66.40625 31.78125 66.40625 \nz\nM 31.78125 74.21875 \nQ 44.046875 74.21875 50.515625 64.515625 \nQ 56.984375 54.828125 56.984375 36.375 \nQ 56.984375 17.96875 50.515625 8.265625 \nQ 44.046875 -1.421875 31.78125 -1.421875 \nQ 19.53125 -1.421875 13.0625 8.265625 \nQ 6.59375 17.96875 6.59375 36.375 \nQ 6.59375 54.828125 13.0625 64.515625 \nQ 19.53125 74.21875 31.78125 74.21875 \nz\n\" id=\"DejaVuSans-48\"/>\n      </defs>\n      <g transform=\"translate(51.910797 239.238438)scale(0.1 -0.1)\">\n       <use xlink:href=\"#DejaVuSans-8722\"/>\n       <use x=\"83.789062\" xlink:href=\"#DejaVuSans-49\"/>\n       <use x=\"147.412109\" xlink:href=\"#DejaVuSans-46\"/>\n       <use x=\"179.199219\" xlink:href=\"#DejaVuSans-48\"/>\n      </g>\n     </g>\n    </g>\n    <g id=\"xtick_2\">\n     <g id=\"line2d_2\">\n      <g>\n       <use style=\"stroke:#000000;stroke-width:0.8;\" x=\"138.162564\" xlink:href=\"#m08920a4125\" y=\"224.64\"/>\n      </g>\n     </g>\n     <g id=\"text_2\">\n      <!-- −0.5 -->\n      <defs>\n       <path d=\"M 10.796875 72.90625 \nL 49.515625 72.90625 \nL 49.515625 64.59375 \nL 19.828125 64.59375 \nL 19.828125 46.734375 \nQ 21.96875 47.46875 24.109375 47.828125 \nQ 26.265625 48.1875 28.421875 48.1875 \nQ 40.625 48.1875 47.75 41.5 \nQ 54.890625 34.8125 54.890625 23.390625 \nQ 54.890625 11.625 47.5625 5.09375 \nQ 40.234375 -1.421875 26.90625 -1.421875 \nQ 22.3125 -1.421875 17.546875 -0.640625 \nQ 12.796875 0.140625 7.71875 1.703125 \nL 7.71875 11.625 \nQ 12.109375 9.234375 16.796875 8.0625 \nQ 21.484375 6.890625 26.703125 6.890625 \nQ 35.15625 6.890625 40.078125 11.328125 \nQ 45.015625 15.765625 45.015625 23.390625 \nQ 45.015625 31 40.078125 35.4375 \nQ 35.15625 39.890625 26.703125 39.890625 \nQ 22.75 39.890625 18.8125 39.015625 \nQ 14.890625 38.140625 10.796875 36.28125 \nz\n\" id=\"DejaVuSans-53\"/>\n      </defs>\n      <g transform=\"translate(126.021158 239.238438)scale(0.1 -0.1)\">\n       <use xlink:href=\"#DejaVuSans-8722\"/>\n       <use x=\"83.789062\" xlink:href=\"#DejaVuSans-48\"/>\n       <use x=\"147.412109\" xlink:href=\"#DejaVuSans-46\"/>\n       <use x=\"179.199219\" xlink:href=\"#DejaVuSans-53\"/>\n      </g>\n     </g>\n    </g>\n    <g id=\"xtick_3\">\n     <g id=\"line2d_3\">\n      <g>\n       <use style=\"stroke:#000000;stroke-width:0.8;\" x=\"212.272925\" xlink:href=\"#m08920a4125\" y=\"224.64\"/>\n      </g>\n     </g>\n     <g id=\"text_3\">\n      <!-- 0.0 -->\n      <g transform=\"translate(204.321362 239.238438)scale(0.1 -0.1)\">\n       <use xlink:href=\"#DejaVuSans-48\"/>\n       <use x=\"63.623047\" xlink:href=\"#DejaVuSans-46\"/>\n       <use x=\"95.410156\" xlink:href=\"#DejaVuSans-48\"/>\n      </g>\n     </g>\n    </g>\n    <g id=\"xtick_4\">\n     <g id=\"line2d_4\">\n      <g>\n       <use style=\"stroke:#000000;stroke-width:0.8;\" x=\"286.383286\" xlink:href=\"#m08920a4125\" y=\"224.64\"/>\n      </g>\n     </g>\n     <g id=\"text_4\">\n      <!-- 0.5 -->\n      <g transform=\"translate(278.431723 239.238438)scale(0.1 -0.1)\">\n       <use xlink:href=\"#DejaVuSans-48\"/>\n       <use x=\"63.623047\" xlink:href=\"#DejaVuSans-46\"/>\n       <use x=\"95.410156\" xlink:href=\"#DejaVuSans-53\"/>\n      </g>\n     </g>\n    </g>\n    <g id=\"xtick_5\">\n     <g id=\"line2d_5\">\n      <g>\n       <use style=\"stroke:#000000;stroke-width:0.8;\" x=\"360.493647\" xlink:href=\"#m08920a4125\" y=\"224.64\"/>\n      </g>\n     </g>\n     <g id=\"text_5\">\n      <!-- 1.0 -->\n      <g transform=\"translate(352.542084 239.238438)scale(0.1 -0.1)\">\n       <use xlink:href=\"#DejaVuSans-49\"/>\n       <use x=\"63.623047\" xlink:href=\"#DejaVuSans-46\"/>\n       <use x=\"95.410156\" xlink:href=\"#DejaVuSans-48\"/>\n      </g>\n     </g>\n    </g>\n   </g>\n   <g id=\"matplotlib.axis_2\">\n    <g id=\"ytick_1\">\n     <g id=\"line2d_6\">\n      <defs>\n       <path d=\"M 0 0 \nL -3.5 0 \n\" id=\"m0305e19a54\" style=\"stroke:#000000;stroke-width:0.8;\"/>\n      </defs>\n      <g>\n       <use style=\"stroke:#000000;stroke-width:0.8;\" x=\"44.845313\" xlink:href=\"#m0305e19a54\" y=\"216.794366\"/>\n      </g>\n     </g>\n     <g id=\"text_6\">\n      <!-- −1.00 -->\n      <g transform=\"translate(7.2 220.593585)scale(0.1 -0.1)\">\n       <use xlink:href=\"#DejaVuSans-8722\"/>\n       <use x=\"83.789062\" xlink:href=\"#DejaVuSans-49\"/>\n       <use x=\"147.412109\" xlink:href=\"#DejaVuSans-46\"/>\n       <use x=\"179.199219\" xlink:href=\"#DejaVuSans-48\"/>\n       <use x=\"242.822266\" xlink:href=\"#DejaVuSans-48\"/>\n      </g>\n     </g>\n    </g>\n    <g id=\"ytick_2\">\n     <g id=\"line2d_7\">\n      <g>\n       <use style=\"stroke:#000000;stroke-width:0.8;\" x=\"44.845313\" xlink:href=\"#m0305e19a54\" y=\"191.846417\"/>\n      </g>\n     </g>\n     <g id=\"text_7\">\n      <!-- −0.75 -->\n      <defs>\n       <path d=\"M 8.203125 72.90625 \nL 55.078125 72.90625 \nL 55.078125 68.703125 \nL 28.609375 0 \nL 18.3125 0 \nL 43.21875 64.59375 \nL 8.203125 64.59375 \nz\n\" id=\"DejaVuSans-55\"/>\n      </defs>\n      <g transform=\"translate(7.2 195.645635)scale(0.1 -0.1)\">\n       <use xlink:href=\"#DejaVuSans-8722\"/>\n       <use x=\"83.789062\" xlink:href=\"#DejaVuSans-48\"/>\n       <use x=\"147.412109\" xlink:href=\"#DejaVuSans-46\"/>\n       <use x=\"179.199219\" xlink:href=\"#DejaVuSans-55\"/>\n       <use x=\"242.822266\" xlink:href=\"#DejaVuSans-53\"/>\n      </g>\n     </g>\n    </g>\n    <g id=\"ytick_3\">\n     <g id=\"line2d_8\">\n      <g>\n       <use style=\"stroke:#000000;stroke-width:0.8;\" x=\"44.845313\" xlink:href=\"#m0305e19a54\" y=\"166.898467\"/>\n      </g>\n     </g>\n     <g id=\"text_8\">\n      <!-- −0.50 -->\n      <g transform=\"translate(7.2 170.697686)scale(0.1 -0.1)\">\n       <use xlink:href=\"#DejaVuSans-8722\"/>\n       <use x=\"83.789062\" xlink:href=\"#DejaVuSans-48\"/>\n       <use x=\"147.412109\" xlink:href=\"#DejaVuSans-46\"/>\n       <use x=\"179.199219\" xlink:href=\"#DejaVuSans-53\"/>\n       <use x=\"242.822266\" xlink:href=\"#DejaVuSans-48\"/>\n      </g>\n     </g>\n    </g>\n    <g id=\"ytick_4\">\n     <g id=\"line2d_9\">\n      <g>\n       <use style=\"stroke:#000000;stroke-width:0.8;\" x=\"44.845313\" xlink:href=\"#m0305e19a54\" y=\"141.950518\"/>\n      </g>\n     </g>\n     <g id=\"text_9\">\n      <!-- −0.25 -->\n      <defs>\n       <path d=\"M 19.1875 8.296875 \nL 53.609375 8.296875 \nL 53.609375 0 \nL 7.328125 0 \nL 7.328125 8.296875 \nQ 12.9375 14.109375 22.625 23.890625 \nQ 32.328125 33.6875 34.8125 36.53125 \nQ 39.546875 41.84375 41.421875 45.53125 \nQ 43.3125 49.21875 43.3125 52.78125 \nQ 43.3125 58.59375 39.234375 62.25 \nQ 35.15625 65.921875 28.609375 65.921875 \nQ 23.96875 65.921875 18.8125 64.3125 \nQ 13.671875 62.703125 7.8125 59.421875 \nL 7.8125 69.390625 \nQ 13.765625 71.78125 18.9375 73 \nQ 24.125 74.21875 28.421875 74.21875 \nQ 39.75 74.21875 46.484375 68.546875 \nQ 53.21875 62.890625 53.21875 53.421875 \nQ 53.21875 48.921875 51.53125 44.890625 \nQ 49.859375 40.875 45.40625 35.40625 \nQ 44.1875 33.984375 37.640625 27.21875 \nQ 31.109375 20.453125 19.1875 8.296875 \nz\n\" id=\"DejaVuSans-50\"/>\n      </defs>\n      <g transform=\"translate(7.2 145.749737)scale(0.1 -0.1)\">\n       <use xlink:href=\"#DejaVuSans-8722\"/>\n       <use x=\"83.789062\" xlink:href=\"#DejaVuSans-48\"/>\n       <use x=\"147.412109\" xlink:href=\"#DejaVuSans-46\"/>\n       <use x=\"179.199219\" xlink:href=\"#DejaVuSans-50\"/>\n       <use x=\"242.822266\" xlink:href=\"#DejaVuSans-53\"/>\n      </g>\n     </g>\n    </g>\n    <g id=\"ytick_5\">\n     <g id=\"line2d_10\">\n      <g>\n       <use style=\"stroke:#000000;stroke-width:0.8;\" x=\"44.845313\" xlink:href=\"#m0305e19a54\" y=\"117.002569\"/>\n      </g>\n     </g>\n     <g id=\"text_10\">\n      <!-- 0.00 -->\n      <g transform=\"translate(15.579688 120.801788)scale(0.1 -0.1)\">\n       <use xlink:href=\"#DejaVuSans-48\"/>\n       <use x=\"63.623047\" xlink:href=\"#DejaVuSans-46\"/>\n       <use x=\"95.410156\" xlink:href=\"#DejaVuSans-48\"/>\n       <use x=\"159.033203\" xlink:href=\"#DejaVuSans-48\"/>\n      </g>\n     </g>\n    </g>\n    <g id=\"ytick_6\">\n     <g id=\"line2d_11\">\n      <g>\n       <use style=\"stroke:#000000;stroke-width:0.8;\" x=\"44.845313\" xlink:href=\"#m0305e19a54\" y=\"92.05462\"/>\n      </g>\n     </g>\n     <g id=\"text_11\">\n      <!-- 0.25 -->\n      <g transform=\"translate(15.579688 95.853838)scale(0.1 -0.1)\">\n       <use xlink:href=\"#DejaVuSans-48\"/>\n       <use x=\"63.623047\" xlink:href=\"#DejaVuSans-46\"/>\n       <use x=\"95.410156\" xlink:href=\"#DejaVuSans-50\"/>\n       <use x=\"159.033203\" xlink:href=\"#DejaVuSans-53\"/>\n      </g>\n     </g>\n    </g>\n    <g id=\"ytick_7\">\n     <g id=\"line2d_12\">\n      <g>\n       <use style=\"stroke:#000000;stroke-width:0.8;\" x=\"44.845313\" xlink:href=\"#m0305e19a54\" y=\"67.10667\"/>\n      </g>\n     </g>\n     <g id=\"text_12\">\n      <!-- 0.50 -->\n      <g transform=\"translate(15.579688 70.905889)scale(0.1 -0.1)\">\n       <use xlink:href=\"#DejaVuSans-48\"/>\n       <use x=\"63.623047\" xlink:href=\"#DejaVuSans-46\"/>\n       <use x=\"95.410156\" xlink:href=\"#DejaVuSans-53\"/>\n       <use x=\"159.033203\" xlink:href=\"#DejaVuSans-48\"/>\n      </g>\n     </g>\n    </g>\n    <g id=\"ytick_8\">\n     <g id=\"line2d_13\">\n      <g>\n       <use style=\"stroke:#000000;stroke-width:0.8;\" x=\"44.845313\" xlink:href=\"#m0305e19a54\" y=\"42.158721\"/>\n      </g>\n     </g>\n     <g id=\"text_13\">\n      <!-- 0.75 -->\n      <g transform=\"translate(15.579688 45.95794)scale(0.1 -0.1)\">\n       <use xlink:href=\"#DejaVuSans-48\"/>\n       <use x=\"63.623047\" xlink:href=\"#DejaVuSans-46\"/>\n       <use x=\"95.410156\" xlink:href=\"#DejaVuSans-55\"/>\n       <use x=\"159.033203\" xlink:href=\"#DejaVuSans-53\"/>\n      </g>\n     </g>\n    </g>\n    <g id=\"ytick_9\">\n     <g id=\"line2d_14\">\n      <g>\n       <use style=\"stroke:#000000;stroke-width:0.8;\" x=\"44.845313\" xlink:href=\"#m0305e19a54\" y=\"17.210772\"/>\n      </g>\n     </g>\n     <g id=\"text_14\">\n      <!-- 1.00 -->\n      <g transform=\"translate(15.579688 21.009991)scale(0.1 -0.1)\">\n       <use xlink:href=\"#DejaVuSans-49\"/>\n       <use x=\"63.623047\" xlink:href=\"#DejaVuSans-46\"/>\n       <use x=\"95.410156\" xlink:href=\"#DejaVuSans-48\"/>\n       <use x=\"159.033203\" xlink:href=\"#DejaVuSans-48\"/>\n      </g>\n     </g>\n    </g>\n   </g>\n   <g id=\"patch_3\">\n    <path d=\"M 44.845313 224.64 \nL 44.845313 7.2 \n\" style=\"fill:none;stroke:#000000;stroke-linecap:square;stroke-linejoin:miter;stroke-width:0.8;\"/>\n   </g>\n   <g id=\"patch_4\">\n    <path d=\"M 379.645313 224.64 \nL 379.645313 7.2 \n\" style=\"fill:none;stroke:#000000;stroke-linecap:square;stroke-linejoin:miter;stroke-width:0.8;\"/>\n   </g>\n   <g id=\"patch_5\">\n    <path d=\"M 44.845312 224.64 \nL 379.645313 224.64 \n\" style=\"fill:none;stroke:#000000;stroke-linecap:square;stroke-linejoin:miter;stroke-width:0.8;\"/>\n   </g>\n   <g id=\"patch_6\">\n    <path d=\"M 44.845312 7.2 \nL 379.645313 7.2 \n\" style=\"fill:none;stroke:#000000;stroke-linecap:square;stroke-linejoin:miter;stroke-width:0.8;\"/>\n   </g>\n  </g>\n </g>\n <defs>\n  <clipPath id=\"p02448c8b37\">\n   <rect height=\"217.44\" width=\"334.8\" x=\"44.845313\" y=\"7.2\"/>\n  </clipPath>\n </defs>\n</svg>\n",
      "image/png": "[encoded data removed]"
     },
     "metadata": {
      "needs_background": "light"
     }
    }
   ],
   "source": [
    "# Visualize Data\n",
    "plt.scatter(X[:, 0], X[:, 1], c=y)"
   ]
  },
  {
   "cell_type": "code",
   "execution_count": 5,
   "metadata": {
    "nbgrader": {
     "grade": false,
     "grade_id": "cell-25fb99ba413a3271",
     "locked": false,
     "schema_version": 1,
     "solution": true
    }
   },
   "outputs": [],
   "source": [
    "# Use train_test_split to create training and testing data\n",
    "from sklearn.model_selection import train_test_split\n",
    "\n",
    "X_train, X_test, y_train, y_test = train_test_split(X, y, random_state=1)"
   ]
  },
  {
   "cell_type": "code",
   "execution_count": 6,
   "metadata": {
    "nbgrader": {
     "grade": false,
     "grade_id": "cell-7e1de5d9b7942f68",
     "locked": false,
     "schema_version": 1,
     "solution": true
    }
   },
   "outputs": [],
   "source": [
    "from sklearn.preprocessing import StandardScaler\n",
    "\n",
    "# Create a StandardScater model and fit it to the training data\n",
    "X_scaler = StandardScaler().fit(X_train)"
   ]
  },
  {
   "cell_type": "code",
   "execution_count": 7,
   "metadata": {
    "nbgrader": {
     "grade": false,
     "grade_id": "cell-9532e12246e485d5",
     "locked": false,
     "schema_version": 1,
     "solution": true
    }
   },
   "outputs": [],
   "source": [
    "# Transform the training and testing data using the X_scaler\n",
    "\n",
    "X_train_scaled = X_scaler.transform(X_train)\n",
    "X_test_scaled = X_scaler.transform(X_test)"
   ]
  },
  {
   "cell_type": "code",
   "execution_count": 8,
   "metadata": {},
   "outputs": [],
   "source": [
    "from tensorflow.keras.utils import to_categorical"
   ]
  },
  {
   "cell_type": "code",
   "execution_count": 9,
   "metadata": {},
   "outputs": [],
   "source": [
    "# One-hot encoding\n",
    "y_train_categorical = to_categorical(y_train)\n",
    "y_test_categorical = to_categorical(y_test)"
   ]
  },
  {
   "cell_type": "code",
   "execution_count": 10,
   "metadata": {
    "nbgrader": {
     "grade": false,
     "grade_id": "cell-ec399a95e133cb58",
     "locked": false,
     "schema_version": 1,
     "solution": true
    }
   },
   "outputs": [
    {
     "output_type": "stream",
     "name": "stdout",
     "text": [
      "WARNING:tensorflow:From /usr/local/anaconda3/lib/python3.7/site-packages/tensorflow/python/ops/init_ops.py:1251: calling VarianceScaling.__init__ (from tensorflow.python.ops.init_ops) with dtype is deprecated and will be removed in a future version.\nInstructions for updating:\nCall initializer instance with the dtype argument instead of passing it to the constructor\n"
     ]
    }
   ],
   "source": [
    "# first, create a normal neural network with 2 inputs, 6 hidden nodes, and 2 outputs\n",
    "from tensorflow.keras.models import Sequential\n",
    "from tensorflow.keras.layers import Dense\n",
    "\n",
    "model = Sequential()\n",
    "model.add(Dense(units=6, activation='relu', input_dim=2))\n",
    "model.add(Dense(units=2, activation='softmax'))"
   ]
  },
  {
   "cell_type": "code",
   "execution_count": 11,
   "metadata": {},
   "outputs": [
    {
     "output_type": "stream",
     "name": "stdout",
     "text": [
      "Model: \"sequential\"\n_________________________________________________________________\nLayer (type)                 Output Shape              Param #   \n=================================================================\ndense (Dense)                (None, 6)                 18        \n_________________________________________________________________\ndense_1 (Dense)              (None, 2)                 14        \n=================================================================\nTotal params: 32\nTrainable params: 32\nNon-trainable params: 0\n_________________________________________________________________\n"
     ]
    }
   ],
   "source": [
    "model.summary()"
   ]
  },
  {
   "cell_type": "code",
   "execution_count": 12,
   "metadata": {},
   "outputs": [],
   "source": [
    "# Compile the model\n",
    "model.compile(optimizer='adam',\n",
    "              loss='categorical_crossentropy',\n",
    "              metrics=['accuracy'])"
   ]
  },
  {
   "cell_type": "code",
   "execution_count": 13,
   "metadata": {
    "nbgrader": {
     "grade": false,
     "grade_id": "cell-5cf2fbdbea0ed50b",
     "locked": false,
     "schema_version": 1,
     "solution": true
    }
   },
   "outputs": [
    {
     "output_type": "stream",
     "name": "stdout",
     "text": [
      "Epoch 1/100\n",
      "75/75 - 0s - loss: 0.5789 - acc: 0.5200\n",
      "Epoch 2/100\n",
      "75/75 - 0s - loss: 0.5762 - acc: 0.5200\n",
      "Epoch 3/100\n",
      "75/75 - 0s - loss: 0.5737 - acc: 0.5200\n",
      "Epoch 4/100\n",
      "75/75 - 0s - loss: 0.5712 - acc: 0.5200\n",
      "Epoch 5/100\n",
      "75/75 - 0s - loss: 0.5687 - acc: 0.5200\n",
      "Epoch 6/100\n",
      "75/75 - 0s - loss: 0.5664 - acc: 0.5200\n",
      "Epoch 7/100\n",
      "75/75 - 0s - loss: 0.5639 - acc: 0.5200\n",
      "Epoch 8/100\n",
      "75/75 - 0s - loss: 0.5615 - acc: 0.5467\n",
      "Epoch 9/100\n",
      "75/75 - 0s - loss: 0.5591 - acc: 0.5467\n",
      "Epoch 10/100\n",
      "75/75 - 0s - loss: 0.5569 - acc: 0.5467\n",
      "Epoch 11/100\n",
      "75/75 - 0s - loss: 0.5544 - acc: 0.5467\n",
      "Epoch 12/100\n",
      "75/75 - 0s - loss: 0.5521 - acc: 0.5467\n",
      "Epoch 13/100\n",
      "75/75 - 0s - loss: 0.5497 - acc: 0.5467\n",
      "Epoch 14/100\n",
      "75/75 - 0s - loss: 0.5473 - acc: 0.5600\n",
      "Epoch 15/100\n",
      "75/75 - 0s - loss: 0.5448 - acc: 0.5600\n",
      "Epoch 16/100\n",
      "75/75 - 0s - loss: 0.5424 - acc: 0.5733\n",
      "Epoch 17/100\n",
      "75/75 - 0s - loss: 0.5401 - acc: 0.5867\n",
      "Epoch 18/100\n",
      "75/75 - 0s - loss: 0.5376 - acc: 0.5867\n",
      "Epoch 19/100\n",
      "75/75 - 0s - loss: 0.5352 - acc: 0.6133\n",
      "Epoch 20/100\n",
      "75/75 - 0s - loss: 0.5328 - acc: 0.6133\n",
      "Epoch 21/100\n",
      "75/75 - 0s - loss: 0.5304 - acc: 0.6133\n",
      "Epoch 22/100\n",
      "75/75 - 0s - loss: 0.5280 - acc: 0.6133\n",
      "Epoch 23/100\n",
      "75/75 - 0s - loss: 0.5255 - acc: 0.6133\n",
      "Epoch 24/100\n",
      "75/75 - 0s - loss: 0.5230 - acc: 0.6267\n",
      "Epoch 25/100\n",
      "75/75 - 0s - loss: 0.5206 - acc: 0.6400\n",
      "Epoch 26/100\n",
      "75/75 - 0s - loss: 0.5181 - acc: 0.6533\n",
      "Epoch 27/100\n",
      "75/75 - 0s - loss: 0.5157 - acc: 0.6533\n",
      "Epoch 28/100\n",
      "75/75 - 0s - loss: 0.5133 - acc: 0.6667\n",
      "Epoch 29/100\n",
      "75/75 - 0s - loss: 0.5110 - acc: 0.6667\n",
      "Epoch 30/100\n",
      "75/75 - 0s - loss: 0.5084 - acc: 0.6667\n",
      "Epoch 31/100\n",
      "75/75 - 0s - loss: 0.5060 - acc: 0.6800\n",
      "Epoch 32/100\n",
      "75/75 - 0s - loss: 0.5037 - acc: 0.6933\n",
      "Epoch 33/100\n",
      "75/75 - 0s - loss: 0.5013 - acc: 0.6933\n",
      "Epoch 34/100\n",
      "75/75 - 0s - loss: 0.4989 - acc: 0.6933\n",
      "Epoch 35/100\n",
      "75/75 - 0s - loss: 0.4965 - acc: 0.6933\n",
      "Epoch 36/100\n",
      "75/75 - 0s - loss: 0.4941 - acc: 0.7200\n",
      "Epoch 37/100\n",
      "75/75 - 0s - loss: 0.4917 - acc: 0.7200\n",
      "Epoch 38/100\n",
      "75/75 - 0s - loss: 0.4893 - acc: 0.7467\n",
      "Epoch 39/100\n",
      "75/75 - 0s - loss: 0.4869 - acc: 0.7467\n",
      "Epoch 40/100\n",
      "75/75 - 0s - loss: 0.4845 - acc: 0.7867\n",
      "Epoch 41/100\n",
      "75/75 - 0s - loss: 0.4822 - acc: 0.7867\n",
      "Epoch 42/100\n",
      "75/75 - 0s - loss: 0.4798 - acc: 0.7867\n",
      "Epoch 43/100\n",
      "75/75 - 0s - loss: 0.4775 - acc: 0.8000\n",
      "Epoch 44/100\n",
      "75/75 - 0s - loss: 0.4752 - acc: 0.8133\n",
      "Epoch 45/100\n",
      "75/75 - 0s - loss: 0.4728 - acc: 0.8267\n",
      "Epoch 46/100\n",
      "75/75 - 0s - loss: 0.4705 - acc: 0.8400\n",
      "Epoch 47/100\n",
      "75/75 - 0s - loss: 0.4681 - acc: 0.8667\n",
      "Epoch 48/100\n",
      "75/75 - 0s - loss: 0.4658 - acc: 0.8667\n",
      "Epoch 49/100\n",
      "75/75 - 0s - loss: 0.4636 - acc: 0.8667\n",
      "Epoch 50/100\n",
      "75/75 - 0s - loss: 0.4612 - acc: 0.8667\n",
      "Epoch 51/100\n",
      "75/75 - 0s - loss: 0.4589 - acc: 0.8667\n",
      "Epoch 52/100\n",
      "75/75 - 0s - loss: 0.4566 - acc: 0.8933\n",
      "Epoch 53/100\n",
      "75/75 - 0s - loss: 0.4543 - acc: 0.9067\n",
      "Epoch 54/100\n",
      "75/75 - 0s - loss: 0.4520 - acc: 0.9200\n",
      "Epoch 55/100\n",
      "75/75 - 0s - loss: 0.4497 - acc: 0.9200\n",
      "Epoch 56/100\n",
      "75/75 - 0s - loss: 0.4474 - acc: 0.9200\n",
      "Epoch 57/100\n",
      "75/75 - 0s - loss: 0.4450 - acc: 0.9200\n",
      "Epoch 58/100\n",
      "75/75 - 0s - loss: 0.4428 - acc: 0.9333\n",
      "Epoch 59/100\n",
      "75/75 - 0s - loss: 0.4406 - acc: 0.9333\n",
      "Epoch 60/100\n",
      "75/75 - 0s - loss: 0.4383 - acc: 0.9333\n",
      "Epoch 61/100\n",
      "75/75 - 0s - loss: 0.4360 - acc: 0.9333\n",
      "Epoch 62/100\n",
      "75/75 - 0s - loss: 0.4338 - acc: 0.9333\n",
      "Epoch 63/100\n",
      "75/75 - 0s - loss: 0.4315 - acc: 0.9333\n",
      "Epoch 64/100\n",
      "75/75 - 0s - loss: 0.4293 - acc: 0.9467\n",
      "Epoch 65/100\n",
      "75/75 - 0s - loss: 0.4272 - acc: 0.9600\n",
      "Epoch 66/100\n",
      "75/75 - 0s - loss: 0.4250 - acc: 0.9600\n",
      "Epoch 67/100\n",
      "75/75 - 0s - loss: 0.4228 - acc: 0.9733\n",
      "Epoch 68/100\n",
      "75/75 - 0s - loss: 0.4206 - acc: 0.9733\n",
      "Epoch 69/100\n",
      "75/75 - 0s - loss: 0.4185 - acc: 0.9733\n",
      "Epoch 70/100\n",
      "75/75 - 0s - loss: 0.4162 - acc: 0.9733\n",
      "Epoch 71/100\n",
      "75/75 - 0s - loss: 0.4141 - acc: 0.9733\n",
      "Epoch 72/100\n",
      "75/75 - 0s - loss: 0.4119 - acc: 0.9733\n",
      "Epoch 73/100\n",
      "75/75 - 0s - loss: 0.4097 - acc: 0.9733\n",
      "Epoch 74/100\n",
      "75/75 - 0s - loss: 0.4075 - acc: 0.9733\n",
      "Epoch 75/100\n",
      "75/75 - 0s - loss: 0.4054 - acc: 0.9733\n",
      "Epoch 76/100\n",
      "75/75 - 0s - loss: 0.4031 - acc: 0.9733\n",
      "Epoch 77/100\n",
      "75/75 - 0s - loss: 0.4009 - acc: 0.9733\n",
      "Epoch 78/100\n",
      "75/75 - 0s - loss: 0.3989 - acc: 0.9733\n",
      "Epoch 79/100\n",
      "75/75 - 0s - loss: 0.3967 - acc: 0.9733\n",
      "Epoch 80/100\n",
      "75/75 - 0s - loss: 0.3946 - acc: 0.9867\n",
      "Epoch 81/100\n",
      "75/75 - 0s - loss: 0.3924 - acc: 1.0000\n",
      "Epoch 82/100\n",
      "75/75 - 0s - loss: 0.3903 - acc: 1.0000\n",
      "Epoch 83/100\n",
      "75/75 - 0s - loss: 0.3882 - acc: 1.0000\n",
      "Epoch 84/100\n",
      "75/75 - 0s - loss: 0.3861 - acc: 1.0000\n",
      "Epoch 85/100\n",
      "75/75 - 0s - loss: 0.3841 - acc: 1.0000\n",
      "Epoch 86/100\n",
      "75/75 - 0s - loss: 0.3820 - acc: 1.0000\n",
      "Epoch 87/100\n",
      "75/75 - 0s - loss: 0.3799 - acc: 1.0000\n",
      "Epoch 88/100\n",
      "75/75 - 0s - loss: 0.3779 - acc: 1.0000\n",
      "Epoch 89/100\n",
      "75/75 - 0s - loss: 0.3759 - acc: 1.0000\n",
      "Epoch 90/100\n",
      "75/75 - 0s - loss: 0.3739 - acc: 1.0000\n",
      "Epoch 91/100\n",
      "75/75 - 0s - loss: 0.3719 - acc: 1.0000\n",
      "Epoch 92/100\n",
      "75/75 - 0s - loss: 0.3699 - acc: 1.0000\n",
      "Epoch 93/100\n",
      "75/75 - 0s - loss: 0.3679 - acc: 1.0000\n",
      "Epoch 94/100\n",
      "75/75 - 0s - loss: 0.3659 - acc: 1.0000\n",
      "Epoch 95/100\n",
      "75/75 - 0s - loss: 0.3639 - acc: 1.0000\n",
      "Epoch 96/100\n",
      "75/75 - 0s - loss: 0.3619 - acc: 1.0000\n",
      "Epoch 97/100\n",
      "75/75 - 0s - loss: 0.3600 - acc: 1.0000\n",
      "Epoch 98/100\n",
      "75/75 - 0s - loss: 0.3580 - acc: 1.0000\n",
      "Epoch 99/100\n",
      "75/75 - 0s - loss: 0.3561 - acc: 1.0000\n",
      "Epoch 100/100\n",
      "75/75 - 0s - loss: 0.3541 - acc: 1.0000\n"
     ]
    },
    {
     "output_type": "execute_result",
     "data": {
      "text/plain": [
       "<tensorflow.python.keras.callbacks.History at 0x7fbb90fb1da0>"
      ]
     },
     "metadata": {},
     "execution_count": 13
    }
   ],
   "source": [
    "# Fit the model to the training data\n",
    "model.fit(\n",
    "    X_train_scaled,\n",
    "    y_train_categorical,\n",
    "    epochs=100,\n",
    "    shuffle=True,\n",
    "    verbose=2\n",
    ")"
   ]
  },
  {
   "cell_type": "markdown",
   "metadata": {},
   "source": [
    "# Deep Learning\n",
    "For this network, we simply add an additional hidden layer of 6 nodes"
   ]
  },
  {
   "cell_type": "code",
   "execution_count": 14,
   "metadata": {},
   "outputs": [],
   "source": [
    "deep_model = Sequential()\n",
    "deep_model.add(Dense(units=6, activation='relu', input_dim=2))\n",
    "deep_model.add(Dense(units=6, activation='relu'))\n",
    "deep_model.add(Dense(units=2, activation='softmax'))"
   ]
  },
  {
   "cell_type": "code",
   "execution_count": 15,
   "metadata": {},
   "outputs": [
    {
     "output_type": "stream",
     "name": "stdout",
     "text": [
      "Model: \"sequential_1\"\n_________________________________________________________________\nLayer (type)                 Output Shape              Param #   \n=================================================================\ndense_2 (Dense)              (None, 6)                 18        \n_________________________________________________________________\ndense_3 (Dense)              (None, 6)                 42        \n_________________________________________________________________\ndense_4 (Dense)              (None, 2)                 14        \n=================================================================\nTotal params: 74\nTrainable params: 74\nNon-trainable params: 0\n_________________________________________________________________\n"
     ]
    }
   ],
   "source": [
    "deep_model.summary()"
   ]
  },
  {
   "cell_type": "code",
   "execution_count": 16,
   "metadata": {},
   "outputs": [
    {
     "output_type": "stream",
     "name": "stdout",
     "text": [
      "Epoch 1/100\n",
      "75/75 - 0s - loss: 1.0558 - acc: 0.5067\n",
      "Epoch 2/100\n",
      "75/75 - 0s - loss: 1.0422 - acc: 0.4800\n",
      "Epoch 3/100\n",
      "75/75 - 0s - loss: 1.0283 - acc: 0.4667\n",
      "Epoch 4/100\n",
      "75/75 - 0s - loss: 1.0192 - acc: 0.4800\n",
      "Epoch 5/100\n",
      "75/75 - 0s - loss: 1.0078 - acc: 0.4800\n",
      "Epoch 6/100\n",
      "75/75 - 0s - loss: 0.9968 - acc: 0.4667\n",
      "Epoch 7/100\n",
      "75/75 - 0s - loss: 0.9863 - acc: 0.4533\n",
      "Epoch 8/100\n",
      "75/75 - 0s - loss: 0.9770 - acc: 0.4400\n",
      "Epoch 9/100\n",
      "75/75 - 0s - loss: 0.9690 - acc: 0.4400\n",
      "Epoch 10/100\n",
      "75/75 - 0s - loss: 0.9594 - acc: 0.4267\n",
      "Epoch 11/100\n",
      "75/75 - 0s - loss: 0.9499 - acc: 0.4133\n",
      "Epoch 12/100\n",
      "75/75 - 0s - loss: 0.9420 - acc: 0.4000\n",
      "Epoch 13/100\n",
      "75/75 - 0s - loss: 0.9335 - acc: 0.4000\n",
      "Epoch 14/100\n",
      "75/75 - 0s - loss: 0.9259 - acc: 0.4133\n",
      "Epoch 15/100\n",
      "75/75 - 0s - loss: 0.9186 - acc: 0.4133\n",
      "Epoch 16/100\n",
      "75/75 - 0s - loss: 0.9106 - acc: 0.4133\n",
      "Epoch 17/100\n",
      "75/75 - 0s - loss: 0.9033 - acc: 0.4133\n",
      "Epoch 18/100\n",
      "75/75 - 0s - loss: 0.8969 - acc: 0.3867\n",
      "Epoch 19/100\n",
      "75/75 - 0s - loss: 0.8903 - acc: 0.3200\n",
      "Epoch 20/100\n",
      "75/75 - 0s - loss: 0.8829 - acc: 0.3200\n",
      "Epoch 21/100\n",
      "75/75 - 0s - loss: 0.8760 - acc: 0.2933\n",
      "Epoch 22/100\n",
      "75/75 - 0s - loss: 0.8702 - acc: 0.2933\n",
      "Epoch 23/100\n",
      "75/75 - 0s - loss: 0.8643 - acc: 0.2533\n",
      "Epoch 24/100\n",
      "75/75 - 0s - loss: 0.8589 - acc: 0.2400\n",
      "Epoch 25/100\n",
      "75/75 - 0s - loss: 0.8531 - acc: 0.2267\n",
      "Epoch 26/100\n",
      "75/75 - 0s - loss: 0.8481 - acc: 0.2267\n",
      "Epoch 27/100\n",
      "75/75 - 0s - loss: 0.8417 - acc: 0.2267\n",
      "Epoch 28/100\n",
      "75/75 - 0s - loss: 0.8372 - acc: 0.2400\n",
      "Epoch 29/100\n",
      "75/75 - 0s - loss: 0.8317 - acc: 0.2400\n",
      "Epoch 30/100\n",
      "75/75 - 0s - loss: 0.8271 - acc: 0.2267\n",
      "Epoch 31/100\n",
      "75/75 - 0s - loss: 0.8212 - acc: 0.2133\n",
      "Epoch 32/100\n",
      "75/75 - 0s - loss: 0.8161 - acc: 0.2133\n",
      "Epoch 33/100\n",
      "75/75 - 0s - loss: 0.8115 - acc: 0.2133\n",
      "Epoch 34/100\n",
      "75/75 - 0s - loss: 0.8062 - acc: 0.2000\n",
      "Epoch 35/100\n",
      "75/75 - 0s - loss: 0.8015 - acc: 0.2000\n",
      "Epoch 36/100\n",
      "75/75 - 0s - loss: 0.7969 - acc: 0.2133\n",
      "Epoch 37/100\n",
      "75/75 - 0s - loss: 0.7919 - acc: 0.2133\n",
      "Epoch 38/100\n",
      "75/75 - 0s - loss: 0.7872 - acc: 0.2133\n",
      "Epoch 39/100\n",
      "75/75 - 0s - loss: 0.7828 - acc: 0.2133\n",
      "Epoch 40/100\n",
      "75/75 - 0s - loss: 0.7782 - acc: 0.2267\n",
      "Epoch 41/100\n",
      "75/75 - 0s - loss: 0.7740 - acc: 0.2267\n",
      "Epoch 42/100\n",
      "75/75 - 0s - loss: 0.7697 - acc: 0.2267\n",
      "Epoch 43/100\n",
      "75/75 - 0s - loss: 0.7651 - acc: 0.2267\n",
      "Epoch 44/100\n",
      "75/75 - 0s - loss: 0.7616 - acc: 0.2267\n",
      "Epoch 45/100\n",
      "75/75 - 0s - loss: 0.7574 - acc: 0.2267\n",
      "Epoch 46/100\n",
      "75/75 - 0s - loss: 0.7531 - acc: 0.2267\n",
      "Epoch 47/100\n",
      "75/75 - 0s - loss: 0.7492 - acc: 0.2267\n",
      "Epoch 48/100\n",
      "75/75 - 0s - loss: 0.7453 - acc: 0.2400\n",
      "Epoch 49/100\n",
      "75/75 - 0s - loss: 0.7413 - acc: 0.2800\n",
      "Epoch 50/100\n",
      "75/75 - 0s - loss: 0.7372 - acc: 0.2800\n",
      "Epoch 51/100\n",
      "75/75 - 0s - loss: 0.7336 - acc: 0.2933\n",
      "Epoch 52/100\n",
      "75/75 - 0s - loss: 0.7298 - acc: 0.3067\n",
      "Epoch 53/100\n",
      "75/75 - 0s - loss: 0.7261 - acc: 0.3067\n",
      "Epoch 54/100\n",
      "75/75 - 0s - loss: 0.7223 - acc: 0.3067\n",
      "Epoch 55/100\n",
      "75/75 - 0s - loss: 0.7190 - acc: 0.3333\n",
      "Epoch 56/100\n",
      "75/75 - 0s - loss: 0.7152 - acc: 0.3333\n",
      "Epoch 57/100\n",
      "75/75 - 0s - loss: 0.7111 - acc: 0.3333\n",
      "Epoch 58/100\n",
      "75/75 - 0s - loss: 0.7077 - acc: 0.3333\n",
      "Epoch 59/100\n",
      "75/75 - 0s - loss: 0.7037 - acc: 0.3467\n",
      "Epoch 60/100\n",
      "75/75 - 0s - loss: 0.6996 - acc: 0.3733\n",
      "Epoch 61/100\n",
      "75/75 - 0s - loss: 0.6955 - acc: 0.3867\n",
      "Epoch 62/100\n",
      "75/75 - 0s - loss: 0.6913 - acc: 0.4000\n",
      "Epoch 63/100\n",
      "75/75 - 0s - loss: 0.6874 - acc: 0.4267\n",
      "Epoch 64/100\n",
      "75/75 - 0s - loss: 0.6826 - acc: 0.4667\n",
      "Epoch 65/100\n",
      "75/75 - 0s - loss: 0.6785 - acc: 0.4667\n",
      "Epoch 66/100\n",
      "75/75 - 0s - loss: 0.6739 - acc: 0.5333\n",
      "Epoch 67/100\n",
      "75/75 - 0s - loss: 0.6693 - acc: 0.5467\n",
      "Epoch 68/100\n",
      "75/75 - 0s - loss: 0.6651 - acc: 0.5733\n",
      "Epoch 69/100\n",
      "75/75 - 0s - loss: 0.6601 - acc: 0.6267\n",
      "Epoch 70/100\n",
      "75/75 - 0s - loss: 0.6555 - acc: 0.6667\n",
      "Epoch 71/100\n",
      "75/75 - 0s - loss: 0.6509 - acc: 0.6933\n",
      "Epoch 72/100\n",
      "75/75 - 0s - loss: 0.6457 - acc: 0.7333\n",
      "Epoch 73/100\n",
      "75/75 - 0s - loss: 0.6402 - acc: 0.7600\n",
      "Epoch 74/100\n",
      "75/75 - 0s - loss: 0.6345 - acc: 0.8400\n",
      "Epoch 75/100\n",
      "75/75 - 0s - loss: 0.6292 - acc: 0.8667\n",
      "Epoch 76/100\n",
      "75/75 - 0s - loss: 0.6231 - acc: 0.8667\n",
      "Epoch 77/100\n",
      "75/75 - 0s - loss: 0.6169 - acc: 0.8800\n",
      "Epoch 78/100\n",
      "75/75 - 0s - loss: 0.6107 - acc: 0.9067\n",
      "Epoch 79/100\n",
      "75/75 - 0s - loss: 0.6041 - acc: 0.9333\n",
      "Epoch 80/100\n",
      "75/75 - 0s - loss: 0.5980 - acc: 0.9467\n",
      "Epoch 81/100\n",
      "75/75 - 0s - loss: 0.5918 - acc: 0.9333\n",
      "Epoch 82/100\n",
      "75/75 - 0s - loss: 0.5855 - acc: 0.9333\n",
      "Epoch 83/100\n",
      "75/75 - 0s - loss: 0.5797 - acc: 0.9333\n",
      "Epoch 84/100\n",
      "75/75 - 0s - loss: 0.5736 - acc: 0.9333\n",
      "Epoch 85/100\n",
      "75/75 - 0s - loss: 0.5675 - acc: 0.9333\n",
      "Epoch 86/100\n",
      "75/75 - 0s - loss: 0.5616 - acc: 0.9200\n",
      "Epoch 87/100\n",
      "75/75 - 0s - loss: 0.5560 - acc: 0.9067\n",
      "Epoch 88/100\n",
      "75/75 - 0s - loss: 0.5504 - acc: 0.9067\n",
      "Epoch 89/100\n",
      "75/75 - 0s - loss: 0.5447 - acc: 0.9067\n",
      "Epoch 90/100\n",
      "75/75 - 0s - loss: 0.5393 - acc: 0.9067\n",
      "Epoch 91/100\n",
      "75/75 - 0s - loss: 0.5341 - acc: 0.9067\n",
      "Epoch 92/100\n",
      "75/75 - 0s - loss: 0.5287 - acc: 0.9067\n",
      "Epoch 93/100\n",
      "75/75 - 0s - loss: 0.5233 - acc: 0.9067\n",
      "Epoch 94/100\n",
      "75/75 - 0s - loss: 0.5178 - acc: 0.9067\n",
      "Epoch 95/100\n",
      "75/75 - 0s - loss: 0.5124 - acc: 0.9067\n",
      "Epoch 96/100\n",
      "75/75 - 0s - loss: 0.5071 - acc: 0.9067\n",
      "Epoch 97/100\n",
      "75/75 - 0s - loss: 0.5017 - acc: 0.9067\n",
      "Epoch 98/100\n",
      "75/75 - 0s - loss: 0.4964 - acc: 0.9200\n",
      "Epoch 99/100\n",
      "75/75 - 0s - loss: 0.4912 - acc: 0.9333\n",
      "Epoch 100/100\n",
      "75/75 - 0s - loss: 0.4860 - acc: 0.9333\n"
     ]
    },
    {
     "output_type": "execute_result",
     "data": {
      "text/plain": [
       "<tensorflow.python.keras.callbacks.History at 0x7fbc02629dd8>"
      ]
     },
     "metadata": {},
     "execution_count": 16
    }
   ],
   "source": [
    "deep_model.compile(optimizer='adam',\n",
    "                   loss='categorical_crossentropy',\n",
    "                   metrics=['accuracy'])\n",
    "\n",
    "deep_model.fit(\n",
    "    X_train_scaled,\n",
    "    y_train_categorical,\n",
    "    epochs=100,\n",
    "    shuffle=True,\n",
    "    verbose=2\n",
    ")"
   ]
  },
  {
   "cell_type": "markdown",
   "metadata": {},
   "source": [
    "# Compare the models below"
   ]
  },
  {
   "cell_type": "code",
   "execution_count": 17,
   "metadata": {},
   "outputs": [
    {
     "output_type": "stream",
     "name": "stdout",
     "text": [
      "25/25 - 0s - loss: 0.3788 - acc: 1.0000\n",
      "Normal Neural Network - Loss: 0.3788369297981262, Accuracy: 1.0\n"
     ]
    }
   ],
   "source": [
    "model_loss, model_accuracy = model.evaluate(\n",
    "    X_test_scaled, y_test_categorical, verbose=2)\n",
    "print(\n",
    "    f\"Normal Neural Network - Loss: {model_loss}, Accuracy: {model_accuracy}\")"
   ]
  },
  {
   "cell_type": "code",
   "execution_count": 18,
   "metadata": {},
   "outputs": [
    {
     "output_type": "stream",
     "name": "stdout",
     "text": [
      "25/25 - 0s - loss: 0.4803 - acc: 1.0000\n",
      "Deep Neural Network - Loss: 0.48027676343917847, Accuracy: 1.0\n"
     ]
    }
   ],
   "source": [
    "model_loss, model_accuracy = deep_model.evaluate(\n",
    "    X_test_scaled, y_test_categorical, verbose=2)\n",
    "print(f\"Deep Neural Network - Loss: {model_loss}, Accuracy: {model_accuracy}\")"
   ]
  },
  {
   "cell_type": "markdown",
   "metadata": {},
   "source": [
    "# In a nutshell..."
   ]
  },
  {
   "cell_type": "markdown",
   "metadata": {},
   "source": [
    "![stack more layers](../Images/stack-more-layers.jpg)"
   ]
  }
 ],
 "metadata": {
  "anaconda-cloud": {},
  "kernelspec": {
   "display_name": "Python 3",
   "language": "python",
   "name": "python3"
  },
  "language_info": {
   "codemirror_mode": {
    "name": "ipython",
    "version": 3
   },
   "file_extension": ".py",
   "mimetype": "text/x-python",
   "name": "python",
   "nbconvert_exporter": "python",
   "pygments_lexer": "ipython3",
   "version": "3.7.3-final"
  },
  "varInspector": {
   "cols": {
    "lenName": 16,
    "lenType": 16,
    "lenVar": 40
   },
   "kernels_config": {
    "python": {
     "delete_cmd_postfix": "",
     "delete_cmd_prefix": "del ",
     "library": "var_list.py",
     "varRefreshCmd": "print(var_dic_list())"
    },
    "r": {
     "delete_cmd_postfix": ") ",
     "delete_cmd_prefix": "rm(",
     "library": "var_list.r",
     "varRefreshCmd": "cat(var_dic_list()) "
    }
   },
   "types_to_exclude": [
    "module",
    "function",
    "builtin_function_or_method",
    "instance",
    "_Feature"
   ],
   "window_display": false
  }
 },
 "nbformat": 4,
 "nbformat_minor": 2
}