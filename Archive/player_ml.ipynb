{
 "metadata": {
  "language_info": {
   "codemirror_mode": {
    "name": "ipython",
    "version": 3
   },
   "file_extension": ".py",
   "mimetype": "text/x-python",
   "name": "python",
   "nbconvert_exporter": "python",
   "pygments_lexer": "ipython3",
   "version": "3.7.6-final"
  },
  "orig_nbformat": 2,
  "kernelspec": {
   "name": "python3",
   "display_name": "Python 3",
   "language": "python"
  }
 },
 "nbformat": 4,
 "nbformat_minor": 2,
 "cells": [
  {
   "cell_type": "code",
   "execution_count": 37,
   "metadata": {},
   "outputs": [],
   "source": [
    "import sklearn\n",
    "import pandas as pd\n",
    "import matplotlib.pyplot as plt\n",
    "import numpy as np\n",
    "import tensorflow as tf"
   ]
  },
  {
   "cell_type": "code",
   "execution_count": 41,
   "metadata": {},
   "outputs": [
    {
     "output_type": "execute_result",
     "data": {
      "text/plain": [
       "    playerID firstName    lastName  HOF  year_first  year_last  seasons   GP  \\\n",
       "0  aaltoan01     Antti       Aalto    0        1997       2000        4  151   \n",
       "1  abbotge01    George      Abbott    0        1943       1943        1    1   \n",
       "2  abbotre01       Reg      Abbott    0        1952       1952        1    3   \n",
       "3  abdelju01    Justin  Abdelkader    0        2007       2011        5  209   \n",
       "4   abelcl01  Clarence        Abel    0        1926       1933        8  333   \n",
       "\n",
       "    G   A  ...  PostA  PostPts  PostPIM  Post+/-  PostPPG  PostPPA  PostSHG  \\\n",
       "0  11  17  ...      0        0        2        0        0        0        0   \n",
       "1   0   0  ...      0        0        0        0        0        0        0   \n",
       "2   0   0  ...      0        0        0        0        0        0        0   \n",
       "3  18  29  ...      2        5       60       -6        0        0        0   \n",
       "4  20  18  ...      1        2       58        0        0        0        0   \n",
       "\n",
       "   PostSHA  PostGWG  PostSOG  \n",
       "0        0        0        0  \n",
       "1        0        0        0  \n",
       "2        0        0        0  \n",
       "3        0        0       47  \n",
       "4        0        0        0  \n",
       "\n",
       "[5 rows x 32 columns]"
      ],
      "text/html": "<div>\n<style scoped>\n    .dataframe tbody tr th:only-of-type {\n        vertical-align: middle;\n    }\n\n    .dataframe tbody tr th {\n        vertical-align: top;\n    }\n\n    .dataframe thead th {\n        text-align: right;\n    }\n</style>\n<table border=\"1\" class=\"dataframe\">\n  <thead>\n    <tr style=\"text-align: right;\">\n      <th></th>\n      <th>playerID</th>\n      <th>firstName</th>\n      <th>lastName</th>\n      <th>HOF</th>\n      <th>year_first</th>\n      <th>year_last</th>\n      <th>seasons</th>\n      <th>GP</th>\n      <th>G</th>\n      <th>A</th>\n      <th>...</th>\n      <th>PostA</th>\n      <th>PostPts</th>\n      <th>PostPIM</th>\n      <th>Post+/-</th>\n      <th>PostPPG</th>\n      <th>PostPPA</th>\n      <th>PostSHG</th>\n      <th>PostSHA</th>\n      <th>PostGWG</th>\n      <th>PostSOG</th>\n    </tr>\n  </thead>\n  <tbody>\n    <tr>\n      <th>0</th>\n      <td>aaltoan01</td>\n      <td>Antti</td>\n      <td>Aalto</td>\n      <td>0</td>\n      <td>1997</td>\n      <td>2000</td>\n      <td>4</td>\n      <td>151</td>\n      <td>11</td>\n      <td>17</td>\n      <td>...</td>\n      <td>0</td>\n      <td>0</td>\n      <td>2</td>\n      <td>0</td>\n      <td>0</td>\n      <td>0</td>\n      <td>0</td>\n      <td>0</td>\n      <td>0</td>\n      <td>0</td>\n    </tr>\n    <tr>\n      <th>1</th>\n      <td>abbotge01</td>\n      <td>George</td>\n      <td>Abbott</td>\n      <td>0</td>\n      <td>1943</td>\n      <td>1943</td>\n      <td>1</td>\n      <td>1</td>\n      <td>0</td>\n      <td>0</td>\n      <td>...</td>\n      <td>0</td>\n      <td>0</td>\n      <td>0</td>\n      <td>0</td>\n      <td>0</td>\n      <td>0</td>\n      <td>0</td>\n      <td>0</td>\n      <td>0</td>\n      <td>0</td>\n    </tr>\n    <tr>\n      <th>2</th>\n      <td>abbotre01</td>\n      <td>Reg</td>\n      <td>Abbott</td>\n      <td>0</td>\n      <td>1952</td>\n      <td>1952</td>\n      <td>1</td>\n      <td>3</td>\n      <td>0</td>\n      <td>0</td>\n      <td>...</td>\n      <td>0</td>\n      <td>0</td>\n      <td>0</td>\n      <td>0</td>\n      <td>0</td>\n      <td>0</td>\n      <td>0</td>\n      <td>0</td>\n      <td>0</td>\n      <td>0</td>\n    </tr>\n    <tr>\n      <th>3</th>\n      <td>abdelju01</td>\n      <td>Justin</td>\n      <td>Abdelkader</td>\n      <td>0</td>\n      <td>2007</td>\n      <td>2011</td>\n      <td>5</td>\n      <td>209</td>\n      <td>18</td>\n      <td>29</td>\n      <td>...</td>\n      <td>2</td>\n      <td>5</td>\n      <td>60</td>\n      <td>-6</td>\n      <td>0</td>\n      <td>0</td>\n      <td>0</td>\n      <td>0</td>\n      <td>0</td>\n      <td>47</td>\n    </tr>\n    <tr>\n      <th>4</th>\n      <td>abelcl01</td>\n      <td>Clarence</td>\n      <td>Abel</td>\n      <td>0</td>\n      <td>1926</td>\n      <td>1933</td>\n      <td>8</td>\n      <td>333</td>\n      <td>20</td>\n      <td>18</td>\n      <td>...</td>\n      <td>1</td>\n      <td>2</td>\n      <td>58</td>\n      <td>0</td>\n      <td>0</td>\n      <td>0</td>\n      <td>0</td>\n      <td>0</td>\n      <td>0</td>\n      <td>0</td>\n    </tr>\n  </tbody>\n</table>\n<p>5 rows × 32 columns</p>\n</div>"
     },
     "metadata": {},
     "execution_count": 41
    }
   ],
   "source": [
    "player_df = pd.read_csv('Master/data/Scoring_Agg.csv')\n",
    "player_df.head()"
   ]
  },
  {
   "cell_type": "code",
   "execution_count": 42,
   "metadata": {},
   "outputs": [
    {
     "output_type": "execute_result",
     "data": {
      "text/plain": [
       "Index(['playerID', 'firstName', 'lastName', 'HOF', 'year_first', 'year_last',\n",
       "       'seasons', 'GP', 'G', 'A', 'Pts', 'PIM', '+/-', 'PPG', 'PPA', 'SHG',\n",
       "       'SHA', 'GWG', 'GTG', 'SOG', 'PostGP', 'PostG', 'PostA', 'PostPts',\n",
       "       'PostPIM', 'Post+/-', 'PostPPG', 'PostPPA', 'PostSHG', 'PostSHA',\n",
       "       'PostGWG', 'PostSOG'],\n",
       "      dtype='object')"
      ]
     },
     "metadata": {},
     "execution_count": 42
    }
   ],
   "source": [
    "player_df.columns"
   ]
  },
  {
   "cell_type": "code",
   "execution_count": 43,
   "metadata": {},
   "outputs": [
    {
     "output_type": "execute_result",
     "data": {
      "text/plain": [
       "seasons    int64\n",
       "GP         int64\n",
       "G          int64\n",
       "A          int64\n",
       "Pts        int64\n",
       "PIM        int64\n",
       "+/-        int64\n",
       "PPG        int64\n",
       "PPA        int64\n",
       "SHG        int64\n",
       "SHA        int64\n",
       "GWG        int64\n",
       "GTG        int64\n",
       "SOG        int64\n",
       "PostGP     int64\n",
       "PostG      int64\n",
       "PostA      int64\n",
       "PostPts    int64\n",
       "PostPIM    int64\n",
       "Post+/-    int64\n",
       "PostPPG    int64\n",
       "PostPPA    int64\n",
       "PostSHG    int64\n",
       "PostSHA    int64\n",
       "PostGWG    int64\n",
       "PostSOG    int64\n",
       "dtype: object"
      ]
     },
     "metadata": {},
     "execution_count": 43
    }
   ],
   "source": [
    "df = player_df.drop(['playerID','firstName', 'lastName', 'HOF', 'year_first', 'year_last'], axis=1)\n",
    "data = player_df.drop(['playerID','firstName', 'lastName', 'HOF', 'year_first', 'year_last'], axis=1)\n",
    "data.shape\n",
    "data.dtypes"
   ]
  },
  {
   "cell_type": "code",
   "execution_count": 53,
   "metadata": {},
   "outputs": [
    {
     "output_type": "error",
     "ename": "KeyError",
     "evalue": "'HOF'",
     "traceback": [
      "\u001b[1;31m---------------------------------------------------------------------------\u001b[0m",
      "\u001b[1;31mKeyError\u001b[0m                                  Traceback (most recent call last)",
      "\u001b[1;32m~\\Anaconda3\\lib\\site-packages\\pandas\\core\\indexes\\base.py\u001b[0m in \u001b[0;36mget_loc\u001b[1;34m(self, key, method, tolerance)\u001b[0m\n\u001b[0;32m   2645\u001b[0m             \u001b[1;32mtry\u001b[0m\u001b[1;33m:\u001b[0m\u001b[1;33m\u001b[0m\u001b[1;33m\u001b[0m\u001b[0m\n\u001b[1;32m-> 2646\u001b[1;33m                 \u001b[1;32mreturn\u001b[0m \u001b[0mself\u001b[0m\u001b[1;33m.\u001b[0m\u001b[0m_engine\u001b[0m\u001b[1;33m.\u001b[0m\u001b[0mget_loc\u001b[0m\u001b[1;33m(\u001b[0m\u001b[0mkey\u001b[0m\u001b[1;33m)\u001b[0m\u001b[1;33m\u001b[0m\u001b[1;33m\u001b[0m\u001b[0m\n\u001b[0m\u001b[0;32m   2647\u001b[0m             \u001b[1;32mexcept\u001b[0m \u001b[0mKeyError\u001b[0m\u001b[1;33m:\u001b[0m\u001b[1;33m\u001b[0m\u001b[1;33m\u001b[0m\u001b[0m\n",
      "\u001b[1;32mpandas\\_libs\\index.pyx\u001b[0m in \u001b[0;36mpandas._libs.index.IndexEngine.get_loc\u001b[1;34m()\u001b[0m\n",
      "\u001b[1;32mpandas\\_libs\\index.pyx\u001b[0m in \u001b[0;36mpandas._libs.index.IndexEngine.get_loc\u001b[1;34m()\u001b[0m\n",
      "\u001b[1;32mpandas\\_libs\\hashtable_class_helper.pxi\u001b[0m in \u001b[0;36mpandas._libs.hashtable.PyObjectHashTable.get_item\u001b[1;34m()\u001b[0m\n",
      "\u001b[1;32mpandas\\_libs\\hashtable_class_helper.pxi\u001b[0m in \u001b[0;36mpandas._libs.hashtable.PyObjectHashTable.get_item\u001b[1;34m()\u001b[0m\n",
      "\u001b[1;31mKeyError\u001b[0m: 'HOF'",
      "\nDuring handling of the above exception, another exception occurred:\n",
      "\u001b[1;31mKeyError\u001b[0m                                  Traceback (most recent call last)",
      "\u001b[1;32m<ipython-input-53-92380b4c4894>\u001b[0m in \u001b[0;36m<module>\u001b[1;34m\u001b[0m\n\u001b[1;32m----> 1\u001b[1;33m \u001b[0mtarget\u001b[0m \u001b[1;33m=\u001b[0m \u001b[0mplayer_df\u001b[0m\u001b[1;33m.\u001b[0m\u001b[0mpop\u001b[0m\u001b[1;33m(\u001b[0m\u001b[1;34m'HOF'\u001b[0m\u001b[1;33m)\u001b[0m\u001b[1;33m\u001b[0m\u001b[1;33m\u001b[0m\u001b[0m\n\u001b[0m\u001b[0;32m      2\u001b[0m \u001b[1;31m# player_df.dtypes\u001b[0m\u001b[1;33m\u001b[0m\u001b[1;33m\u001b[0m\u001b[1;33m\u001b[0m\u001b[0m\n",
      "\u001b[1;32m~\\Anaconda3\\lib\\site-packages\\pandas\\core\\generic.py\u001b[0m in \u001b[0;36mpop\u001b[1;34m(self, item)\u001b[0m\n\u001b[0;32m    788\u001b[0m         \u001b[1;36m3\u001b[0m  \u001b[0mmonkey\u001b[0m        \u001b[0mNaN\u001b[0m\u001b[1;33m\u001b[0m\u001b[1;33m\u001b[0m\u001b[0m\n\u001b[0;32m    789\u001b[0m         \"\"\"\n\u001b[1;32m--> 790\u001b[1;33m         \u001b[0mresult\u001b[0m \u001b[1;33m=\u001b[0m \u001b[0mself\u001b[0m\u001b[1;33m[\u001b[0m\u001b[0mitem\u001b[0m\u001b[1;33m]\u001b[0m\u001b[1;33m\u001b[0m\u001b[1;33m\u001b[0m\u001b[0m\n\u001b[0m\u001b[0;32m    791\u001b[0m         \u001b[1;32mdel\u001b[0m \u001b[0mself\u001b[0m\u001b[1;33m[\u001b[0m\u001b[0mitem\u001b[0m\u001b[1;33m]\u001b[0m\u001b[1;33m\u001b[0m\u001b[1;33m\u001b[0m\u001b[0m\n\u001b[0;32m    792\u001b[0m         \u001b[1;32mtry\u001b[0m\u001b[1;33m:\u001b[0m\u001b[1;33m\u001b[0m\u001b[1;33m\u001b[0m\u001b[0m\n",
      "\u001b[1;32m~\\Anaconda3\\lib\\site-packages\\pandas\\core\\frame.py\u001b[0m in \u001b[0;36m__getitem__\u001b[1;34m(self, key)\u001b[0m\n\u001b[0;32m   2798\u001b[0m             \u001b[1;32mif\u001b[0m \u001b[0mself\u001b[0m\u001b[1;33m.\u001b[0m\u001b[0mcolumns\u001b[0m\u001b[1;33m.\u001b[0m\u001b[0mnlevels\u001b[0m \u001b[1;33m>\u001b[0m \u001b[1;36m1\u001b[0m\u001b[1;33m:\u001b[0m\u001b[1;33m\u001b[0m\u001b[1;33m\u001b[0m\u001b[0m\n\u001b[0;32m   2799\u001b[0m                 \u001b[1;32mreturn\u001b[0m \u001b[0mself\u001b[0m\u001b[1;33m.\u001b[0m\u001b[0m_getitem_multilevel\u001b[0m\u001b[1;33m(\u001b[0m\u001b[0mkey\u001b[0m\u001b[1;33m)\u001b[0m\u001b[1;33m\u001b[0m\u001b[1;33m\u001b[0m\u001b[0m\n\u001b[1;32m-> 2800\u001b[1;33m             \u001b[0mindexer\u001b[0m \u001b[1;33m=\u001b[0m \u001b[0mself\u001b[0m\u001b[1;33m.\u001b[0m\u001b[0mcolumns\u001b[0m\u001b[1;33m.\u001b[0m\u001b[0mget_loc\u001b[0m\u001b[1;33m(\u001b[0m\u001b[0mkey\u001b[0m\u001b[1;33m)\u001b[0m\u001b[1;33m\u001b[0m\u001b[1;33m\u001b[0m\u001b[0m\n\u001b[0m\u001b[0;32m   2801\u001b[0m             \u001b[1;32mif\u001b[0m \u001b[0mis_integer\u001b[0m\u001b[1;33m(\u001b[0m\u001b[0mindexer\u001b[0m\u001b[1;33m)\u001b[0m\u001b[1;33m:\u001b[0m\u001b[1;33m\u001b[0m\u001b[1;33m\u001b[0m\u001b[0m\n\u001b[0;32m   2802\u001b[0m                 \u001b[0mindexer\u001b[0m \u001b[1;33m=\u001b[0m \u001b[1;33m[\u001b[0m\u001b[0mindexer\u001b[0m\u001b[1;33m]\u001b[0m\u001b[1;33m\u001b[0m\u001b[1;33m\u001b[0m\u001b[0m\n",
      "\u001b[1;32m~\\Anaconda3\\lib\\site-packages\\pandas\\core\\indexes\\base.py\u001b[0m in \u001b[0;36mget_loc\u001b[1;34m(self, key, method, tolerance)\u001b[0m\n\u001b[0;32m   2646\u001b[0m                 \u001b[1;32mreturn\u001b[0m \u001b[0mself\u001b[0m\u001b[1;33m.\u001b[0m\u001b[0m_engine\u001b[0m\u001b[1;33m.\u001b[0m\u001b[0mget_loc\u001b[0m\u001b[1;33m(\u001b[0m\u001b[0mkey\u001b[0m\u001b[1;33m)\u001b[0m\u001b[1;33m\u001b[0m\u001b[1;33m\u001b[0m\u001b[0m\n\u001b[0;32m   2647\u001b[0m             \u001b[1;32mexcept\u001b[0m \u001b[0mKeyError\u001b[0m\u001b[1;33m:\u001b[0m\u001b[1;33m\u001b[0m\u001b[1;33m\u001b[0m\u001b[0m\n\u001b[1;32m-> 2648\u001b[1;33m                 \u001b[1;32mreturn\u001b[0m \u001b[0mself\u001b[0m\u001b[1;33m.\u001b[0m\u001b[0m_engine\u001b[0m\u001b[1;33m.\u001b[0m\u001b[0mget_loc\u001b[0m\u001b[1;33m(\u001b[0m\u001b[0mself\u001b[0m\u001b[1;33m.\u001b[0m\u001b[0m_maybe_cast_indexer\u001b[0m\u001b[1;33m(\u001b[0m\u001b[0mkey\u001b[0m\u001b[1;33m)\u001b[0m\u001b[1;33m)\u001b[0m\u001b[1;33m\u001b[0m\u001b[1;33m\u001b[0m\u001b[0m\n\u001b[0m\u001b[0;32m   2649\u001b[0m         \u001b[0mindexer\u001b[0m \u001b[1;33m=\u001b[0m \u001b[0mself\u001b[0m\u001b[1;33m.\u001b[0m\u001b[0mget_indexer\u001b[0m\u001b[1;33m(\u001b[0m\u001b[1;33m[\u001b[0m\u001b[0mkey\u001b[0m\u001b[1;33m]\u001b[0m\u001b[1;33m,\u001b[0m \u001b[0mmethod\u001b[0m\u001b[1;33m=\u001b[0m\u001b[0mmethod\u001b[0m\u001b[1;33m,\u001b[0m \u001b[0mtolerance\u001b[0m\u001b[1;33m=\u001b[0m\u001b[0mtolerance\u001b[0m\u001b[1;33m)\u001b[0m\u001b[1;33m\u001b[0m\u001b[1;33m\u001b[0m\u001b[0m\n\u001b[0;32m   2650\u001b[0m         \u001b[1;32mif\u001b[0m \u001b[0mindexer\u001b[0m\u001b[1;33m.\u001b[0m\u001b[0mndim\u001b[0m \u001b[1;33m>\u001b[0m \u001b[1;36m1\u001b[0m \u001b[1;32mor\u001b[0m \u001b[0mindexer\u001b[0m\u001b[1;33m.\u001b[0m\u001b[0msize\u001b[0m \u001b[1;33m>\u001b[0m \u001b[1;36m1\u001b[0m\u001b[1;33m:\u001b[0m\u001b[1;33m\u001b[0m\u001b[1;33m\u001b[0m\u001b[0m\n",
      "\u001b[1;32mpandas\\_libs\\index.pyx\u001b[0m in \u001b[0;36mpandas._libs.index.IndexEngine.get_loc\u001b[1;34m()\u001b[0m\n",
      "\u001b[1;32mpandas\\_libs\\index.pyx\u001b[0m in \u001b[0;36mpandas._libs.index.IndexEngine.get_loc\u001b[1;34m()\u001b[0m\n",
      "\u001b[1;32mpandas\\_libs\\hashtable_class_helper.pxi\u001b[0m in \u001b[0;36mpandas._libs.hashtable.PyObjectHashTable.get_item\u001b[1;34m()\u001b[0m\n",
      "\u001b[1;32mpandas\\_libs\\hashtable_class_helper.pxi\u001b[0m in \u001b[0;36mpandas._libs.hashtable.PyObjectHashTable.get_item\u001b[1;34m()\u001b[0m\n",
      "\u001b[1;31mKeyError\u001b[0m: 'HOF'"
     ]
    }
   ],
   "source": [
    "target = player_df.pop('HOF')\n",
    "# player_df.dtypes"
   ]
  },
  {
   "cell_type": "code",
   "execution_count": 22,
   "metadata": {},
   "outputs": [
    {
     "output_type": "execute_result",
     "data": {
      "text/plain": [
       "Index(['seasons', 'GP', 'G', 'A', 'Pts', 'PIM', '+/-', 'PPG', 'PPA', 'SHG',\n",
       "       'SHA', 'GWG', 'GTG', 'SOG', 'PostGP', 'PostG', 'PostA', 'PostPts',\n",
       "       'PostPIM', 'Post+/-', 'PostPPG', 'PostPPA', 'PostSHG', 'PostSHA',\n",
       "       'PostGWG', 'PostSOG'],\n",
       "      dtype='object')"
      ]
     },
     "metadata": {},
     "execution_count": 22
    }
   ],
   "source": [
    "feature_names = data.columns\n",
    "# feature_names"
   ]
  },
  {
   "cell_type": "code",
   "execution_count": 46,
   "metadata": {},
   "outputs": [],
   "source": [
    "dataset = tf.data.Dataset.from_tensor_slices((df.values, target.values))\n",
    "dict_slices = tf.data.Dataset.from_tensor_slices((df.to_dict('list'), target.values)).batch(16)"
   ]
  },
  {
   "cell_type": "code",
   "execution_count": 48,
   "metadata": {},
   "outputs": [],
   "source": [
    "inputs = {key: tf.keras.layers.Input(shape=(), name=key) for key in df.keys()}\n",
    "x = tf.stack(list(inputs.values()), axis=-1)\n",
    "\n",
    "x = tf.keras.layers.Dense(10, activation='relu')(x)\n",
    "output = tf.keras.layers.Dense(1)(x)\n",
    "\n",
    "model_func = tf.keras.Model(inputs=inputs, outputs=output)\n",
    "\n",
    "model_func.compile(optimizer='adam',\n",
    "                   loss=tf.keras.losses.BinaryCrossentropy(from_logits=True),\n",
    "                   metrics=['accuracy'])"
   ]
  },
  {
   "cell_type": "code",
   "execution_count": 52,
   "metadata": {},
   "outputs": [
    {
     "output_type": "stream",
     "name": "stdout",
     "text": [
      "Epoch 1/100\n",
      "429/429 [==============================] - 2s 5ms/step - loss: 0.2030 - accuracy: 0.9698\n",
      "Epoch 2/100\n",
      "429/429 [==============================] - 2s 5ms/step - loss: 0.1879 - accuracy: 0.9702\n",
      "Epoch 3/100\n",
      "429/429 [==============================] - 3s 7ms/step - loss: 0.1942 - accuracy: 0.9707\n",
      "Epoch 4/100\n",
      "429/429 [==============================] - 3s 6ms/step - loss: 0.1876 - accuracy: 0.9702\n",
      "Epoch 5/100\n",
      "429/429 [==============================] - 2s 4ms/step - loss: 0.1848 - accuracy: 0.9704\n",
      "Epoch 6/100\n",
      "429/429 [==============================] - 5s 13ms/step - loss: 0.1938 - accuracy: 0.9705\n",
      "Epoch 7/100\n",
      "429/429 [==============================] - 2s 6ms/step - loss: 0.2004 - accuracy: 0.9693\n",
      "Epoch 8/100\n",
      "429/429 [==============================] - 7s 15ms/step - loss: 0.1573 - accuracy: 0.9724\n",
      "Epoch 9/100\n",
      "429/429 [==============================] - 8s 19ms/step - loss: 0.1798 - accuracy: 0.9711\n",
      "Epoch 10/100\n",
      "429/429 [==============================] - 6s 14ms/step - loss: 0.1816 - accuracy: 0.9693\n",
      "Epoch 11/100\n",
      "429/429 [==============================] - 4s 8ms/step - loss: 0.1816 - accuracy: 0.9696\n",
      "Epoch 12/100\n",
      "429/429 [==============================] - 3s 7ms/step - loss: 0.1759 - accuracy: 0.9702\n",
      "Epoch 13/100\n",
      "429/429 [==============================] - 3s 6ms/step - loss: 0.1738 - accuracy: 0.9708\n",
      "Epoch 14/100\n",
      "429/429 [==============================] - 3s 7ms/step - loss: 0.1806 - accuracy: 0.9708\n",
      "Epoch 15/100\n",
      "429/429 [==============================] - 2s 5ms/step - loss: 0.1663 - accuracy: 0.9715\n",
      "Epoch 16/100\n",
      "429/429 [==============================] - 2s 5ms/step - loss: 0.1694 - accuracy: 0.9701\n",
      "Epoch 17/100\n",
      "429/429 [==============================] - 2s 4ms/step - loss: 0.1763 - accuracy: 0.9707\n",
      "Epoch 18/100\n",
      "429/429 [==============================] - 2s 4ms/step - loss: 0.1636 - accuracy: 0.9705\n",
      "Epoch 19/100\n",
      "429/429 [==============================] - 2s 5ms/step - loss: 0.1672 - accuracy: 0.9704\n",
      "Epoch 20/100\n",
      "429/429 [==============================] - 3s 8ms/step - loss: 0.1645 - accuracy: 0.9708\n",
      "Epoch 21/100\n",
      "429/429 [==============================] - 4s 9ms/step - loss: 0.1611 - accuracy: 0.9710\n",
      "Epoch 22/100\n",
      "429/429 [==============================] - 2s 6ms/step - loss: 0.1565 - accuracy: 0.9708\n",
      "Epoch 23/100\n",
      "429/429 [==============================] - 3s 7ms/step - loss: 0.1747 - accuracy: 0.9714\n",
      "Epoch 24/100\n",
      "429/429 [==============================] - 3s 7ms/step - loss: 0.1766 - accuracy: 0.9705\n",
      "Epoch 25/100\n",
      "429/429 [==============================] - 2s 5ms/step - loss: 0.1645 - accuracy: 0.9710\n",
      "Epoch 26/100\n",
      "429/429 [==============================] - 2s 5ms/step - loss: 0.1573 - accuracy: 0.9714\n",
      "Epoch 27/100\n",
      "429/429 [==============================] - 2s 5ms/step - loss: 0.1578 - accuracy: 0.9708\n",
      "Epoch 28/100\n",
      "429/429 [==============================] - 1s 3ms/step - loss: 0.1694 - accuracy: 0.9699\n",
      "Epoch 29/100\n",
      "429/429 [==============================] - 1s 3ms/step - loss: 0.1526 - accuracy: 0.9715\n",
      "Epoch 30/100\n",
      "429/429 [==============================] - 1s 2ms/step - loss: 0.1600 - accuracy: 0.9715\n",
      "Epoch 31/100\n",
      "429/429 [==============================] - 1s 2ms/step - loss: 0.1482 - accuracy: 0.9712\n",
      "Epoch 32/100\n",
      "429/429 [==============================] - 1s 2ms/step - loss: 0.1497 - accuracy: 0.9718\n",
      "Epoch 33/100\n",
      "429/429 [==============================] - 1s 2ms/step - loss: 0.1416 - accuracy: 0.9718\n",
      "Epoch 34/100\n",
      "429/429 [==============================] - 1s 2ms/step - loss: 0.1405 - accuracy: 0.9715\n",
      "Epoch 35/100\n",
      "429/429 [==============================] - 1s 2ms/step - loss: 0.1448 - accuracy: 0.9710\n",
      "Epoch 36/100\n",
      "429/429 [==============================] - 1s 2ms/step - loss: 0.1398 - accuracy: 0.9715\n",
      "Epoch 37/100\n",
      "429/429 [==============================] - 1s 2ms/step - loss: 0.1387 - accuracy: 0.9721\n",
      "Epoch 38/100\n",
      "429/429 [==============================] - 1s 2ms/step - loss: 0.1401 - accuracy: 0.9720\n",
      "Epoch 39/100\n",
      "429/429 [==============================] - 1s 3ms/step - loss: 0.1410 - accuracy: 0.9715\n",
      "Epoch 40/100\n",
      "429/429 [==============================] - 1s 2ms/step - loss: 0.1385 - accuracy: 0.9717\n",
      "Epoch 41/100\n",
      "429/429 [==============================] - 1s 2ms/step - loss: 0.1401 - accuracy: 0.9718\n",
      "Epoch 42/100\n",
      "429/429 [==============================] - 1s 2ms/step - loss: 0.1406 - accuracy: 0.9714\n",
      "Epoch 43/100\n",
      "429/429 [==============================] - 1s 2ms/step - loss: 0.1377 - accuracy: 0.9717\n",
      "Epoch 44/100\n",
      "429/429 [==============================] - 1s 3ms/step - loss: 0.1364 - accuracy: 0.9717\n",
      "Epoch 45/100\n",
      "429/429 [==============================] - 1s 3ms/step - loss: 0.1340 - accuracy: 0.9720\n",
      "Epoch 46/100\n",
      "429/429 [==============================] - 1s 3ms/step - loss: 0.1345 - accuracy: 0.9720\n",
      "Epoch 47/100\n",
      "429/429 [==============================] - 1s 3ms/step - loss: 0.1249 - accuracy: 0.9733\n",
      "Epoch 48/100\n",
      "429/429 [==============================] - 1s 2ms/step - loss: 0.1354 - accuracy: 0.9715\n",
      "Epoch 49/100\n",
      "429/429 [==============================] - 1s 2ms/step - loss: 0.1326 - accuracy: 0.9718\n",
      "Epoch 50/100\n",
      "429/429 [==============================] - 1s 2ms/step - loss: 0.1304 - accuracy: 0.9729\n",
      "Epoch 51/100\n",
      "429/429 [==============================] - 1s 2ms/step - loss: 0.1292 - accuracy: 0.9724\n",
      "Epoch 52/100\n",
      "429/429 [==============================] - 1s 3ms/step - loss: 0.1328 - accuracy: 0.9717\n",
      "Epoch 53/100\n",
      "429/429 [==============================] - 1s 2ms/step - loss: 0.1289 - accuracy: 0.9720\n",
      "Epoch 54/100\n",
      "429/429 [==============================] - 1s 2ms/step - loss: 0.1280 - accuracy: 0.9718\n",
      "Epoch 55/100\n",
      "429/429 [==============================] - 1s 2ms/step - loss: 0.1275 - accuracy: 0.9717\n",
      "Epoch 56/100\n",
      "429/429 [==============================] - 1s 2ms/step - loss: 0.1327 - accuracy: 0.9723\n",
      "Epoch 57/100\n",
      "429/429 [==============================] - 1s 2ms/step - loss: 0.1270 - accuracy: 0.9720\n",
      "Epoch 58/100\n",
      "429/429 [==============================] - 1s 2ms/step - loss: 0.1246 - accuracy: 0.9721\n",
      "Epoch 59/100\n",
      "429/429 [==============================] - 1s 2ms/step - loss: 0.1251 - accuracy: 0.9723\n",
      "Epoch 60/100\n",
      "429/429 [==============================] - 1s 3ms/step - loss: 0.1230 - accuracy: 0.9718\n",
      "Epoch 61/100\n",
      "429/429 [==============================] - 1s 2ms/step - loss: 0.1243 - accuracy: 0.9720\n",
      "Epoch 62/100\n",
      "429/429 [==============================] - 1s 2ms/step - loss: 0.1220 - accuracy: 0.9721\n",
      "Epoch 63/100\n",
      "429/429 [==============================] - 1s 2ms/step - loss: 0.1200 - accuracy: 0.9717\n",
      "Epoch 64/100\n",
      "429/429 [==============================] - 1s 2ms/step - loss: 0.1223 - accuracy: 0.9723\n",
      "Epoch 65/100\n",
      "429/429 [==============================] - 1s 3ms/step - loss: 0.1164 - accuracy: 0.9726\n",
      "Epoch 66/100\n",
      "429/429 [==============================] - 1s 2ms/step - loss: 0.1186 - accuracy: 0.9723\n",
      "Epoch 67/100\n",
      "429/429 [==============================] - 1s 3ms/step - loss: 0.1153 - accuracy: 0.9729\n",
      "Epoch 68/100\n",
      "429/429 [==============================] - 1s 2ms/step - loss: 0.1166 - accuracy: 0.9723\n",
      "Epoch 69/100\n",
      "429/429 [==============================] - 1s 2ms/step - loss: 0.1149 - accuracy: 0.9730\n",
      "Epoch 70/100\n",
      "429/429 [==============================] - 1s 3ms/step - loss: 0.1147 - accuracy: 0.9726\n",
      "Epoch 71/100\n",
      "429/429 [==============================] - 1s 2ms/step - loss: 0.1122 - accuracy: 0.9727\n",
      "Epoch 72/100\n",
      "429/429 [==============================] - 1s 2ms/step - loss: 0.1120 - accuracy: 0.9729\n",
      "Epoch 73/100\n",
      "429/429 [==============================] - 1s 2ms/step - loss: 0.1152 - accuracy: 0.9721\n",
      "Epoch 74/100\n",
      "429/429 [==============================] - 1s 2ms/step - loss: 0.1071 - accuracy: 0.9733\n",
      "Epoch 75/100\n",
      "429/429 [==============================] - 1s 2ms/step - loss: 0.1094 - accuracy: 0.9729\n",
      "Epoch 76/100\n",
      "429/429 [==============================] - 1s 2ms/step - loss: 0.1101 - accuracy: 0.9721\n",
      "Epoch 77/100\n",
      "429/429 [==============================] - 1s 2ms/step - loss: 0.1073 - accuracy: 0.9733\n",
      "Epoch 78/100\n",
      "429/429 [==============================] - 1s 2ms/step - loss: 0.1071 - accuracy: 0.9730\n",
      "Epoch 79/100\n",
      "429/429 [==============================] - 1s 2ms/step - loss: 0.1051 - accuracy: 0.9733\n",
      "Epoch 80/100\n",
      "429/429 [==============================] - 1s 2ms/step - loss: 0.1068 - accuracy: 0.9729\n",
      "Epoch 81/100\n",
      "429/429 [==============================] - 1s 2ms/step - loss: 0.1056 - accuracy: 0.9727\n",
      "Epoch 82/100\n",
      "429/429 [==============================] - 1s 2ms/step - loss: 0.1015 - accuracy: 0.9740\n",
      "Epoch 83/100\n",
      "429/429 [==============================] - 1s 2ms/step - loss: 0.1030 - accuracy: 0.9729\n",
      "Epoch 84/100\n",
      "429/429 [==============================] - 1s 3ms/step - loss: 0.1118 - accuracy: 0.9737\n",
      "Epoch 85/100\n",
      "429/429 [==============================] - 1s 2ms/step - loss: 0.0982 - accuracy: 0.9740\n",
      "Epoch 86/100\n",
      "429/429 [==============================] - 1s 2ms/step - loss: 0.1009 - accuracy: 0.9737\n",
      "Epoch 87/100\n",
      "429/429 [==============================] - 1s 2ms/step - loss: 0.0979 - accuracy: 0.9740\n",
      "Epoch 88/100\n",
      "429/429 [==============================] - 1s 2ms/step - loss: 0.1058 - accuracy: 0.9727\n",
      "Epoch 89/100\n",
      "429/429 [==============================] - 1s 2ms/step - loss: 0.1039 - accuracy: 0.9740\n",
      "Epoch 90/100\n",
      "429/429 [==============================] - 1s 2ms/step - loss: 0.0963 - accuracy: 0.9733\n",
      "Epoch 91/100\n",
      "429/429 [==============================] - 1s 2ms/step - loss: 0.0980 - accuracy: 0.9736\n",
      "Epoch 92/100\n",
      "429/429 [==============================] - 1s 2ms/step - loss: 0.0954 - accuracy: 0.9739\n",
      "Epoch 93/100\n",
      "429/429 [==============================] - 1s 2ms/step - loss: 0.0956 - accuracy: 0.9737\n",
      "Epoch 94/100\n",
      "429/429 [==============================] - 1s 2ms/step - loss: 0.0923 - accuracy: 0.9739\n",
      "Epoch 95/100\n",
      "429/429 [==============================] - 1s 2ms/step - loss: 0.0925 - accuracy: 0.9740\n",
      "Epoch 96/100\n",
      "429/429 [==============================] - 1s 2ms/step - loss: 0.0916 - accuracy: 0.9740\n",
      "Epoch 97/100\n",
      "429/429 [==============================] - 1s 2ms/step - loss: 0.0910 - accuracy: 0.9740\n",
      "Epoch 98/100\n",
      "429/429 [==============================] - 1s 2ms/step - loss: 0.0894 - accuracy: 0.9743\n",
      "Epoch 99/100\n",
      "429/429 [==============================] - 1s 2ms/step - loss: 0.0944 - accuracy: 0.9733\n",
      "Epoch 100/100\n",
      "429/429 [==============================] - 1s 2ms/step - loss: 0.0901 - accuracy: 0.9739\n"
     ]
    },
    {
     "output_type": "execute_result",
     "data": {
      "text/plain": [
       "<tensorflow.python.keras.callbacks.History at 0x159fc38cd48>"
      ]
     },
     "metadata": {},
     "execution_count": 52
    }
   ],
   "source": [
    "model_func.fit(dict_slices, epochs=100)"
   ]
  },
  {
   "cell_type": "code",
   "execution_count": 51,
   "metadata": {},
   "outputs": [
    {
     "output_type": "stream",
     "name": "stdout",
     "text": [
      "Model: \"model\"\n__________________________________________________________________________________________________\nLayer (type)                    Output Shape         Param #     Connected to                     \n==================================================================================================\nseasons (InputLayer)            [(None,)]            0                                            \n__________________________________________________________________________________________________\nGP (InputLayer)                 [(None,)]            0                                            \n__________________________________________________________________________________________________\nG (InputLayer)                  [(None,)]            0                                            \n__________________________________________________________________________________________________\nA (InputLayer)                  [(None,)]            0                                            \n__________________________________________________________________________________________________\nPts (InputLayer)                [(None,)]            0                                            \n__________________________________________________________________________________________________\nPIM (InputLayer)                [(None,)]            0                                            \n__________________________________________________________________________________________________\n+/- (InputLayer)                [(None,)]            0                                            \n__________________________________________________________________________________________________\nPPG (InputLayer)                [(None,)]            0                                            \n__________________________________________________________________________________________________\nPPA (InputLayer)                [(None,)]            0                                            \n__________________________________________________________________________________________________\nSHG (InputLayer)                [(None,)]            0                                            \n__________________________________________________________________________________________________\nSHA (InputLayer)                [(None,)]            0                                            \n__________________________________________________________________________________________________\nGWG (InputLayer)                [(None,)]            0                                            \n__________________________________________________________________________________________________\nGTG (InputLayer)                [(None,)]            0                                            \n__________________________________________________________________________________________________\nSOG (InputLayer)                [(None,)]            0                                            \n__________________________________________________________________________________________________\nPostGP (InputLayer)             [(None,)]            0                                            \n__________________________________________________________________________________________________\nPostG (InputLayer)              [(None,)]            0                                            \n__________________________________________________________________________________________________\nPostA (InputLayer)              [(None,)]            0                                            \n__________________________________________________________________________________________________\nPostPts (InputLayer)            [(None,)]            0                                            \n__________________________________________________________________________________________________\nPostPIM (InputLayer)            [(None,)]            0                                            \n__________________________________________________________________________________________________\nPost+/- (InputLayer)            [(None,)]            0                                            \n__________________________________________________________________________________________________\nPostPPG (InputLayer)            [(None,)]            0                                            \n__________________________________________________________________________________________________\nPostPPA (InputLayer)            [(None,)]            0                                            \n__________________________________________________________________________________________________\nPostSHG (InputLayer)            [(None,)]            0                                            \n__________________________________________________________________________________________________\nPostSHA (InputLayer)            [(None,)]            0                                            \n__________________________________________________________________________________________________\nPostGWG (InputLayer)            [(None,)]            0                                            \n__________________________________________________________________________________________________\nPostSOG (InputLayer)            [(None,)]            0                                            \n__________________________________________________________________________________________________\ntf.stack (TFOpLambda)           (None, 26)           0           seasons[0][0]                    \n                                                                 GP[0][0]                         \n                                                                 G[0][0]                          \n                                                                 A[0][0]                          \n                                                                 Pts[0][0]                        \n                                                                 PIM[0][0]                        \n                                                                 +/-[0][0]                        \n                                                                 PPG[0][0]                        \n                                                                 PPA[0][0]                        \n                                                                 SHG[0][0]                        \n                                                                 SHA[0][0]                        \n                                                                 GWG[0][0]                        \n                                                                 GTG[0][0]                        \n                                                                 SOG[0][0]                        \n                                                                 PostGP[0][0]                     \n                                                                 PostG[0][0]                      \n                                                                 PostA[0][0]                      \n                                                                 PostPts[0][0]                    \n                                                                 PostPIM[0][0]                    \n                                                                 Post+/-[0][0]                    \n                                                                 PostPPG[0][0]                    \n                                                                 PostPPA[0][0]                    \n                                                                 PostSHG[0][0]                    \n                                                                 PostSHA[0][0]                    \n                                                                 PostGWG[0][0]                    \n                                                                 PostSOG[0][0]                    \n__________________________________________________________________________________________________\ndense_8 (Dense)                 (None, 10)           270         tf.stack[0][0]                   \n__________________________________________________________________________________________________\ndense_9 (Dense)                 (None, 1)            11          dense_8[0][0]                    \n==================================================================================================\nTotal params: 281\nTrainable params: 281\nNon-trainable params: 0\n__________________________________________________________________________________________________\n"
     ]
    }
   ],
   "source": [
    "model_func.summary()"
   ]
  },
  {
   "cell_type": "code",
   "execution_count": 23,
   "metadata": {},
   "outputs": [],
   "source": [
    "from sklearn.model_selection import train_test_split\n",
    "from sklearn.preprocessing import StandardScaler\n",
    "\n",
    "X_train, X_test, y_train, y_test = train_test_split(data, target, random_state=42)\n",
    "X_scaler = StandardScaler().fit(X_train)\n",
    "X_train_scaled = X_scaler.transform(X_train)\n",
    "X_test_scaled = X_scaler.transform(X_test)"
   ]
  },
  {
   "cell_type": "code",
   "execution_count": 24,
   "metadata": {},
   "outputs": [],
   "source": [
    "from tensorflow.keras.utils import to_categorical\n",
    "# One-hot encoding\n",
    "# y_train_categorical = to_categorical(y_train)\n",
    "# y_test_categorical = to_categorical(y_test)\n",
    "y_train_categorical = y_train\n",
    "y_test_categorical = y_test"
   ]
  },
  {
   "cell_type": "code",
   "execution_count": 33,
   "metadata": {},
   "outputs": [],
   "source": [
    "# first, create a normal neural network with 2 inputs, 6 hidden nodes, and 2 outputs\n",
    "from tensorflow.keras.models import Sequential\n",
    "from tensorflow.keras.layers import Dense\n",
    "\n",
    "model = Sequential()\n",
    "model.add(Dense(units=6, activation='relu', input_dim=26))\n",
    "model.add(Dense(units=2, activation='sigmoid'))"
   ]
  },
  {
   "cell_type": "code",
   "execution_count": 34,
   "metadata": {},
   "outputs": [
    {
     "output_type": "stream",
     "name": "stdout",
     "text": [
      "Model: \"sequential_3\"\n_________________________________________________________________\nLayer (type)                 Output Shape              Param #   \n=================================================================\ndense_6 (Dense)              (None, 6)                 162       \n_________________________________________________________________\ndense_7 (Dense)              (None, 2)                 14        \n=================================================================\nTotal params: 176\nTrainable params: 176\nNon-trainable params: 0\n_________________________________________________________________\n"
     ]
    }
   ],
   "source": [
    "model.summary()"
   ]
  },
  {
   "cell_type": "code",
   "execution_count": 35,
   "metadata": {},
   "outputs": [],
   "source": [
    "# Compile the model\n",
    "model.compile(optimizer='adam',\n",
    "              loss='categorical_crossentropy',\n",
    "              metrics=['accuracy'])"
   ]
  },
  {
   "cell_type": "code",
   "execution_count": 50,
   "metadata": {},
   "outputs": [
    {
     "output_type": "stream",
     "name": "stdout",
     "text": [
      "Epoch 1/100\n"
     ]
    },
    {
     "output_type": "error",
     "ename": "ValueError",
     "evalue": "in user code:\n\n    C:\\Users\\Y243863\\AppData\\Roaming\\Python\\Python37\\site-packages\\tensorflow\\python\\keras\\engine\\training.py:805 train_function  *\n        return step_function(self, iterator)\n    C:\\Users\\Y243863\\AppData\\Roaming\\Python\\Python37\\site-packages\\tensorflow\\python\\keras\\engine\\training.py:795 step_function  **\n        outputs = model.distribute_strategy.run(run_step, args=(data,))\n    C:\\Users\\Y243863\\AppData\\Roaming\\Python\\Python37\\site-packages\\tensorflow\\python\\distribute\\distribute_lib.py:1259 run\n        return self._extended.call_for_each_replica(fn, args=args, kwargs=kwargs)\n    C:\\Users\\Y243863\\AppData\\Roaming\\Python\\Python37\\site-packages\\tensorflow\\python\\distribute\\distribute_lib.py:2730 call_for_each_replica\n        return self._call_for_each_replica(fn, args, kwargs)\n    C:\\Users\\Y243863\\AppData\\Roaming\\Python\\Python37\\site-packages\\tensorflow\\python\\distribute\\distribute_lib.py:3417 _call_for_each_replica\n        return fn(*args, **kwargs)\n    C:\\Users\\Y243863\\AppData\\Roaming\\Python\\Python37\\site-packages\\tensorflow\\python\\keras\\engine\\training.py:788 run_step  **\n        outputs = model.train_step(data)\n    C:\\Users\\Y243863\\AppData\\Roaming\\Python\\Python37\\site-packages\\tensorflow\\python\\keras\\engine\\training.py:754 train_step\n        y_pred = self(x, training=True)\n    C:\\Users\\Y243863\\AppData\\Roaming\\Python\\Python37\\site-packages\\tensorflow\\python\\keras\\engine\\base_layer.py:998 __call__\n        input_spec.assert_input_compatibility(self.input_spec, inputs, self.name)\n    C:\\Users\\Y243863\\AppData\\Roaming\\Python\\Python37\\site-packages\\tensorflow\\python\\keras\\engine\\input_spec.py:207 assert_input_compatibility\n        ' input tensors. Inputs received: ' + str(inputs))\n\n    ValueError: Layer model expects 26 input(s), but it received 1 input tensors. Inputs received: [<tf.Tensor 'IteratorGetNext:0' shape=(None, 26) dtype=float32>]\n",
     "traceback": [
      "\u001b[1;31m---------------------------------------------------------------------------\u001b[0m",
      "\u001b[1;31mValueError\u001b[0m                                Traceback (most recent call last)",
      "\u001b[1;32m<ipython-input-50-a0d3058016e2>\u001b[0m in \u001b[0;36m<module>\u001b[1;34m\u001b[0m\n\u001b[0;32m      5\u001b[0m     \u001b[0mepochs\u001b[0m\u001b[1;33m=\u001b[0m\u001b[1;36m100\u001b[0m\u001b[1;33m,\u001b[0m\u001b[1;33m\u001b[0m\u001b[1;33m\u001b[0m\u001b[0m\n\u001b[0;32m      6\u001b[0m     \u001b[0mshuffle\u001b[0m\u001b[1;33m=\u001b[0m\u001b[1;32mTrue\u001b[0m\u001b[1;33m,\u001b[0m\u001b[1;33m\u001b[0m\u001b[1;33m\u001b[0m\u001b[0m\n\u001b[1;32m----> 7\u001b[1;33m     \u001b[0mverbose\u001b[0m\u001b[1;33m=\u001b[0m\u001b[1;36m2\u001b[0m\u001b[1;33m\u001b[0m\u001b[1;33m\u001b[0m\u001b[0m\n\u001b[0m\u001b[0;32m      8\u001b[0m )\n",
      "\u001b[1;32m~\\AppData\\Roaming\\Python\\Python37\\site-packages\\tensorflow\\python\\keras\\engine\\training.py\u001b[0m in \u001b[0;36mfit\u001b[1;34m(self, x, y, batch_size, epochs, verbose, callbacks, validation_split, validation_data, shuffle, class_weight, sample_weight, initial_epoch, steps_per_epoch, validation_steps, validation_batch_size, validation_freq, max_queue_size, workers, use_multiprocessing)\u001b[0m\n\u001b[0;32m   1098\u001b[0m                 _r=1):\n\u001b[0;32m   1099\u001b[0m               \u001b[0mcallbacks\u001b[0m\u001b[1;33m.\u001b[0m\u001b[0mon_train_batch_begin\u001b[0m\u001b[1;33m(\u001b[0m\u001b[0mstep\u001b[0m\u001b[1;33m)\u001b[0m\u001b[1;33m\u001b[0m\u001b[1;33m\u001b[0m\u001b[0m\n\u001b[1;32m-> 1100\u001b[1;33m               \u001b[0mtmp_logs\u001b[0m \u001b[1;33m=\u001b[0m \u001b[0mself\u001b[0m\u001b[1;33m.\u001b[0m\u001b[0mtrain_function\u001b[0m\u001b[1;33m(\u001b[0m\u001b[0miterator\u001b[0m\u001b[1;33m)\u001b[0m\u001b[1;33m\u001b[0m\u001b[1;33m\u001b[0m\u001b[0m\n\u001b[0m\u001b[0;32m   1101\u001b[0m               \u001b[1;32mif\u001b[0m \u001b[0mdata_handler\u001b[0m\u001b[1;33m.\u001b[0m\u001b[0mshould_sync\u001b[0m\u001b[1;33m:\u001b[0m\u001b[1;33m\u001b[0m\u001b[1;33m\u001b[0m\u001b[0m\n\u001b[0;32m   1102\u001b[0m                 \u001b[0mcontext\u001b[0m\u001b[1;33m.\u001b[0m\u001b[0masync_wait\u001b[0m\u001b[1;33m(\u001b[0m\u001b[1;33m)\u001b[0m\u001b[1;33m\u001b[0m\u001b[1;33m\u001b[0m\u001b[0m\n",
      "\u001b[1;32m~\\AppData\\Roaming\\Python\\Python37\\site-packages\\tensorflow\\python\\eager\\def_function.py\u001b[0m in \u001b[0;36m__call__\u001b[1;34m(self, *args, **kwds)\u001b[0m\n\u001b[0;32m    826\u001b[0m     \u001b[0mtracing_count\u001b[0m \u001b[1;33m=\u001b[0m \u001b[0mself\u001b[0m\u001b[1;33m.\u001b[0m\u001b[0mexperimental_get_tracing_count\u001b[0m\u001b[1;33m(\u001b[0m\u001b[1;33m)\u001b[0m\u001b[1;33m\u001b[0m\u001b[1;33m\u001b[0m\u001b[0m\n\u001b[0;32m    827\u001b[0m     \u001b[1;32mwith\u001b[0m \u001b[0mtrace\u001b[0m\u001b[1;33m.\u001b[0m\u001b[0mTrace\u001b[0m\u001b[1;33m(\u001b[0m\u001b[0mself\u001b[0m\u001b[1;33m.\u001b[0m\u001b[0m_name\u001b[0m\u001b[1;33m)\u001b[0m \u001b[1;32mas\u001b[0m \u001b[0mtm\u001b[0m\u001b[1;33m:\u001b[0m\u001b[1;33m\u001b[0m\u001b[1;33m\u001b[0m\u001b[0m\n\u001b[1;32m--> 828\u001b[1;33m       \u001b[0mresult\u001b[0m \u001b[1;33m=\u001b[0m \u001b[0mself\u001b[0m\u001b[1;33m.\u001b[0m\u001b[0m_call\u001b[0m\u001b[1;33m(\u001b[0m\u001b[1;33m*\u001b[0m\u001b[0margs\u001b[0m\u001b[1;33m,\u001b[0m \u001b[1;33m**\u001b[0m\u001b[0mkwds\u001b[0m\u001b[1;33m)\u001b[0m\u001b[1;33m\u001b[0m\u001b[1;33m\u001b[0m\u001b[0m\n\u001b[0m\u001b[0;32m    829\u001b[0m       \u001b[0mcompiler\u001b[0m \u001b[1;33m=\u001b[0m \u001b[1;34m\"xla\"\u001b[0m \u001b[1;32mif\u001b[0m \u001b[0mself\u001b[0m\u001b[1;33m.\u001b[0m\u001b[0m_experimental_compile\u001b[0m \u001b[1;32melse\u001b[0m \u001b[1;34m\"nonXla\"\u001b[0m\u001b[1;33m\u001b[0m\u001b[1;33m\u001b[0m\u001b[0m\n\u001b[0;32m    830\u001b[0m       \u001b[0mnew_tracing_count\u001b[0m \u001b[1;33m=\u001b[0m \u001b[0mself\u001b[0m\u001b[1;33m.\u001b[0m\u001b[0mexperimental_get_tracing_count\u001b[0m\u001b[1;33m(\u001b[0m\u001b[1;33m)\u001b[0m\u001b[1;33m\u001b[0m\u001b[1;33m\u001b[0m\u001b[0m\n",
      "\u001b[1;32m~\\AppData\\Roaming\\Python\\Python37\\site-packages\\tensorflow\\python\\eager\\def_function.py\u001b[0m in \u001b[0;36m_call\u001b[1;34m(self, *args, **kwds)\u001b[0m\n\u001b[0;32m    853\u001b[0m       \u001b[1;31m# In this case we have created variables on the first call, so we run the\u001b[0m\u001b[1;33m\u001b[0m\u001b[1;33m\u001b[0m\u001b[1;33m\u001b[0m\u001b[0m\n\u001b[0;32m    854\u001b[0m       \u001b[1;31m# defunned version which is guaranteed to never create variables.\u001b[0m\u001b[1;33m\u001b[0m\u001b[1;33m\u001b[0m\u001b[1;33m\u001b[0m\u001b[0m\n\u001b[1;32m--> 855\u001b[1;33m       \u001b[1;32mreturn\u001b[0m \u001b[0mself\u001b[0m\u001b[1;33m.\u001b[0m\u001b[0m_stateless_fn\u001b[0m\u001b[1;33m(\u001b[0m\u001b[1;33m*\u001b[0m\u001b[0margs\u001b[0m\u001b[1;33m,\u001b[0m \u001b[1;33m**\u001b[0m\u001b[0mkwds\u001b[0m\u001b[1;33m)\u001b[0m  \u001b[1;31m# pylint: disable=not-callable\u001b[0m\u001b[1;33m\u001b[0m\u001b[1;33m\u001b[0m\u001b[0m\n\u001b[0m\u001b[0;32m    856\u001b[0m     \u001b[1;32melif\u001b[0m \u001b[0mself\u001b[0m\u001b[1;33m.\u001b[0m\u001b[0m_stateful_fn\u001b[0m \u001b[1;32mis\u001b[0m \u001b[1;32mnot\u001b[0m \u001b[1;32mNone\u001b[0m\u001b[1;33m:\u001b[0m\u001b[1;33m\u001b[0m\u001b[1;33m\u001b[0m\u001b[0m\n\u001b[0;32m    857\u001b[0m       \u001b[1;31m# Release the lock early so that multiple threads can perform the call\u001b[0m\u001b[1;33m\u001b[0m\u001b[1;33m\u001b[0m\u001b[1;33m\u001b[0m\u001b[0m\n",
      "\u001b[1;32m~\\AppData\\Roaming\\Python\\Python37\\site-packages\\tensorflow\\python\\eager\\function.py\u001b[0m in \u001b[0;36m__call__\u001b[1;34m(self, *args, **kwargs)\u001b[0m\n\u001b[0;32m   2939\u001b[0m     \u001b[1;32mwith\u001b[0m \u001b[0mself\u001b[0m\u001b[1;33m.\u001b[0m\u001b[0m_lock\u001b[0m\u001b[1;33m:\u001b[0m\u001b[1;33m\u001b[0m\u001b[1;33m\u001b[0m\u001b[0m\n\u001b[0;32m   2940\u001b[0m       (graph_function,\n\u001b[1;32m-> 2941\u001b[1;33m        filtered_flat_args) = self._maybe_define_function(args, kwargs)\n\u001b[0m\u001b[0;32m   2942\u001b[0m     return graph_function._call_flat(\n\u001b[0;32m   2943\u001b[0m         filtered_flat_args, captured_inputs=graph_function.captured_inputs)  # pylint: disable=protected-access\n",
      "\u001b[1;32m~\\AppData\\Roaming\\Python\\Python37\\site-packages\\tensorflow\\python\\eager\\function.py\u001b[0m in \u001b[0;36m_maybe_define_function\u001b[1;34m(self, args, kwargs)\u001b[0m\n\u001b[0;32m   3356\u001b[0m               call_context_key in self._function_cache.missed):\n\u001b[0;32m   3357\u001b[0m             return self._define_function_with_shape_relaxation(\n\u001b[1;32m-> 3358\u001b[1;33m                 args, kwargs, flat_args, filtered_flat_args, cache_key_context)\n\u001b[0m\u001b[0;32m   3359\u001b[0m \u001b[1;33m\u001b[0m\u001b[0m\n\u001b[0;32m   3360\u001b[0m           \u001b[0mself\u001b[0m\u001b[1;33m.\u001b[0m\u001b[0m_function_cache\u001b[0m\u001b[1;33m.\u001b[0m\u001b[0mmissed\u001b[0m\u001b[1;33m.\u001b[0m\u001b[0madd\u001b[0m\u001b[1;33m(\u001b[0m\u001b[0mcall_context_key\u001b[0m\u001b[1;33m)\u001b[0m\u001b[1;33m\u001b[0m\u001b[1;33m\u001b[0m\u001b[0m\n",
      "\u001b[1;32m~\\AppData\\Roaming\\Python\\Python37\\site-packages\\tensorflow\\python\\eager\\function.py\u001b[0m in \u001b[0;36m_define_function_with_shape_relaxation\u001b[1;34m(self, args, kwargs, flat_args, filtered_flat_args, cache_key_context)\u001b[0m\n\u001b[0;32m   3278\u001b[0m \u001b[1;33m\u001b[0m\u001b[0m\n\u001b[0;32m   3279\u001b[0m     graph_function = self._create_graph_function(\n\u001b[1;32m-> 3280\u001b[1;33m         args, kwargs, override_flat_arg_shapes=relaxed_arg_shapes)\n\u001b[0m\u001b[0;32m   3281\u001b[0m     \u001b[0mself\u001b[0m\u001b[1;33m.\u001b[0m\u001b[0m_function_cache\u001b[0m\u001b[1;33m.\u001b[0m\u001b[0marg_relaxed\u001b[0m\u001b[1;33m[\u001b[0m\u001b[0mrank_only_cache_key\u001b[0m\u001b[1;33m]\u001b[0m \u001b[1;33m=\u001b[0m \u001b[0mgraph_function\u001b[0m\u001b[1;33m\u001b[0m\u001b[1;33m\u001b[0m\u001b[0m\n\u001b[0;32m   3282\u001b[0m \u001b[1;33m\u001b[0m\u001b[0m\n",
      "\u001b[1;32m~\\AppData\\Roaming\\Python\\Python37\\site-packages\\tensorflow\\python\\eager\\function.py\u001b[0m in \u001b[0;36m_create_graph_function\u001b[1;34m(self, args, kwargs, override_flat_arg_shapes)\u001b[0m\n\u001b[0;32m   3204\u001b[0m             \u001b[0marg_names\u001b[0m\u001b[1;33m=\u001b[0m\u001b[0marg_names\u001b[0m\u001b[1;33m,\u001b[0m\u001b[1;33m\u001b[0m\u001b[1;33m\u001b[0m\u001b[0m\n\u001b[0;32m   3205\u001b[0m             \u001b[0moverride_flat_arg_shapes\u001b[0m\u001b[1;33m=\u001b[0m\u001b[0moverride_flat_arg_shapes\u001b[0m\u001b[1;33m,\u001b[0m\u001b[1;33m\u001b[0m\u001b[1;33m\u001b[0m\u001b[0m\n\u001b[1;32m-> 3206\u001b[1;33m             capture_by_value=self._capture_by_value),\n\u001b[0m\u001b[0;32m   3207\u001b[0m         \u001b[0mself\u001b[0m\u001b[1;33m.\u001b[0m\u001b[0m_function_attributes\u001b[0m\u001b[1;33m,\u001b[0m\u001b[1;33m\u001b[0m\u001b[1;33m\u001b[0m\u001b[0m\n\u001b[0;32m   3208\u001b[0m         \u001b[0mfunction_spec\u001b[0m\u001b[1;33m=\u001b[0m\u001b[0mself\u001b[0m\u001b[1;33m.\u001b[0m\u001b[0mfunction_spec\u001b[0m\u001b[1;33m,\u001b[0m\u001b[1;33m\u001b[0m\u001b[1;33m\u001b[0m\u001b[0m\n",
      "\u001b[1;32m~\\AppData\\Roaming\\Python\\Python37\\site-packages\\tensorflow\\python\\framework\\func_graph.py\u001b[0m in \u001b[0;36mfunc_graph_from_py_func\u001b[1;34m(name, python_func, args, kwargs, signature, func_graph, autograph, autograph_options, add_control_dependencies, arg_names, op_return_value, collections, capture_by_value, override_flat_arg_shapes)\u001b[0m\n\u001b[0;32m    988\u001b[0m         \u001b[0m_\u001b[0m\u001b[1;33m,\u001b[0m \u001b[0moriginal_func\u001b[0m \u001b[1;33m=\u001b[0m \u001b[0mtf_decorator\u001b[0m\u001b[1;33m.\u001b[0m\u001b[0munwrap\u001b[0m\u001b[1;33m(\u001b[0m\u001b[0mpython_func\u001b[0m\u001b[1;33m)\u001b[0m\u001b[1;33m\u001b[0m\u001b[1;33m\u001b[0m\u001b[0m\n\u001b[0;32m    989\u001b[0m \u001b[1;33m\u001b[0m\u001b[0m\n\u001b[1;32m--> 990\u001b[1;33m       \u001b[0mfunc_outputs\u001b[0m \u001b[1;33m=\u001b[0m \u001b[0mpython_func\u001b[0m\u001b[1;33m(\u001b[0m\u001b[1;33m*\u001b[0m\u001b[0mfunc_args\u001b[0m\u001b[1;33m,\u001b[0m \u001b[1;33m**\u001b[0m\u001b[0mfunc_kwargs\u001b[0m\u001b[1;33m)\u001b[0m\u001b[1;33m\u001b[0m\u001b[1;33m\u001b[0m\u001b[0m\n\u001b[0m\u001b[0;32m    991\u001b[0m \u001b[1;33m\u001b[0m\u001b[0m\n\u001b[0;32m    992\u001b[0m       \u001b[1;31m# invariant: `func_outputs` contains only Tensors, CompositeTensors,\u001b[0m\u001b[1;33m\u001b[0m\u001b[1;33m\u001b[0m\u001b[1;33m\u001b[0m\u001b[0m\n",
      "\u001b[1;32m~\\AppData\\Roaming\\Python\\Python37\\site-packages\\tensorflow\\python\\eager\\def_function.py\u001b[0m in \u001b[0;36mwrapped_fn\u001b[1;34m(*args, **kwds)\u001b[0m\n\u001b[0;32m    632\u001b[0m             \u001b[0mxla_context\u001b[0m\u001b[1;33m.\u001b[0m\u001b[0mExit\u001b[0m\u001b[1;33m(\u001b[0m\u001b[1;33m)\u001b[0m\u001b[1;33m\u001b[0m\u001b[1;33m\u001b[0m\u001b[0m\n\u001b[0;32m    633\u001b[0m         \u001b[1;32melse\u001b[0m\u001b[1;33m:\u001b[0m\u001b[1;33m\u001b[0m\u001b[1;33m\u001b[0m\u001b[0m\n\u001b[1;32m--> 634\u001b[1;33m           \u001b[0mout\u001b[0m \u001b[1;33m=\u001b[0m \u001b[0mweak_wrapped_fn\u001b[0m\u001b[1;33m(\u001b[0m\u001b[1;33m)\u001b[0m\u001b[1;33m.\u001b[0m\u001b[0m__wrapped__\u001b[0m\u001b[1;33m(\u001b[0m\u001b[1;33m*\u001b[0m\u001b[0margs\u001b[0m\u001b[1;33m,\u001b[0m \u001b[1;33m**\u001b[0m\u001b[0mkwds\u001b[0m\u001b[1;33m)\u001b[0m\u001b[1;33m\u001b[0m\u001b[1;33m\u001b[0m\u001b[0m\n\u001b[0m\u001b[0;32m    635\u001b[0m         \u001b[1;32mreturn\u001b[0m \u001b[0mout\u001b[0m\u001b[1;33m\u001b[0m\u001b[1;33m\u001b[0m\u001b[0m\n\u001b[0;32m    636\u001b[0m \u001b[1;33m\u001b[0m\u001b[0m\n",
      "\u001b[1;32m~\\AppData\\Roaming\\Python\\Python37\\site-packages\\tensorflow\\python\\framework\\func_graph.py\u001b[0m in \u001b[0;36mwrapper\u001b[1;34m(*args, **kwargs)\u001b[0m\n\u001b[0;32m    975\u001b[0m           \u001b[1;32mexcept\u001b[0m \u001b[0mException\u001b[0m \u001b[1;32mas\u001b[0m \u001b[0me\u001b[0m\u001b[1;33m:\u001b[0m  \u001b[1;31m# pylint:disable=broad-except\u001b[0m\u001b[1;33m\u001b[0m\u001b[1;33m\u001b[0m\u001b[0m\n\u001b[0;32m    976\u001b[0m             \u001b[1;32mif\u001b[0m \u001b[0mhasattr\u001b[0m\u001b[1;33m(\u001b[0m\u001b[0me\u001b[0m\u001b[1;33m,\u001b[0m \u001b[1;34m\"ag_error_metadata\"\u001b[0m\u001b[1;33m)\u001b[0m\u001b[1;33m:\u001b[0m\u001b[1;33m\u001b[0m\u001b[1;33m\u001b[0m\u001b[0m\n\u001b[1;32m--> 977\u001b[1;33m               \u001b[1;32mraise\u001b[0m \u001b[0me\u001b[0m\u001b[1;33m.\u001b[0m\u001b[0mag_error_metadata\u001b[0m\u001b[1;33m.\u001b[0m\u001b[0mto_exception\u001b[0m\u001b[1;33m(\u001b[0m\u001b[0me\u001b[0m\u001b[1;33m)\u001b[0m\u001b[1;33m\u001b[0m\u001b[1;33m\u001b[0m\u001b[0m\n\u001b[0m\u001b[0;32m    978\u001b[0m             \u001b[1;32melse\u001b[0m\u001b[1;33m:\u001b[0m\u001b[1;33m\u001b[0m\u001b[1;33m\u001b[0m\u001b[0m\n\u001b[0;32m    979\u001b[0m               \u001b[1;32mraise\u001b[0m\u001b[1;33m\u001b[0m\u001b[1;33m\u001b[0m\u001b[0m\n",
      "\u001b[1;31mValueError\u001b[0m: in user code:\n\n    C:\\Users\\Y243863\\AppData\\Roaming\\Python\\Python37\\site-packages\\tensorflow\\python\\keras\\engine\\training.py:805 train_function  *\n        return step_function(self, iterator)\n    C:\\Users\\Y243863\\AppData\\Roaming\\Python\\Python37\\site-packages\\tensorflow\\python\\keras\\engine\\training.py:795 step_function  **\n        outputs = model.distribute_strategy.run(run_step, args=(data,))\n    C:\\Users\\Y243863\\AppData\\Roaming\\Python\\Python37\\site-packages\\tensorflow\\python\\distribute\\distribute_lib.py:1259 run\n        return self._extended.call_for_each_replica(fn, args=args, kwargs=kwargs)\n    C:\\Users\\Y243863\\AppData\\Roaming\\Python\\Python37\\site-packages\\tensorflow\\python\\distribute\\distribute_lib.py:2730 call_for_each_replica\n        return self._call_for_each_replica(fn, args, kwargs)\n    C:\\Users\\Y243863\\AppData\\Roaming\\Python\\Python37\\site-packages\\tensorflow\\python\\distribute\\distribute_lib.py:3417 _call_for_each_replica\n        return fn(*args, **kwargs)\n    C:\\Users\\Y243863\\AppData\\Roaming\\Python\\Python37\\site-packages\\tensorflow\\python\\keras\\engine\\training.py:788 run_step  **\n        outputs = model.train_step(data)\n    C:\\Users\\Y243863\\AppData\\Roaming\\Python\\Python37\\site-packages\\tensorflow\\python\\keras\\engine\\training.py:754 train_step\n        y_pred = self(x, training=True)\n    C:\\Users\\Y243863\\AppData\\Roaming\\Python\\Python37\\site-packages\\tensorflow\\python\\keras\\engine\\base_layer.py:998 __call__\n        input_spec.assert_input_compatibility(self.input_spec, inputs, self.name)\n    C:\\Users\\Y243863\\AppData\\Roaming\\Python\\Python37\\site-packages\\tensorflow\\python\\keras\\engine\\input_spec.py:207 assert_input_compatibility\n        ' input tensors. Inputs received: ' + str(inputs))\n\n    ValueError: Layer model expects 26 input(s), but it received 1 input tensors. Inputs received: [<tf.Tensor 'IteratorGetNext:0' shape=(None, 26) dtype=float32>]\n"
     ]
    }
   ],
   "source": [
    "# Fit the model to the training data\n",
    "model.fit(\n",
    "    X_train_scaled,\n",
    "    y_train_categorical,\n",
    "    epochs=100,\n",
    "    shuffle=True,\n",
    "    verbose=2\n",
    ")"
   ]
  },
  {
   "cell_type": "code",
   "execution_count": null,
   "metadata": {},
   "outputs": [],
   "source": [
    "deep_model = Sequential()\n",
    "deep_model.add(Dense(units=6, activation='relu', input_dim=2))\n",
    "deep_model.add(Dense(units=6, activation='relu'))\n",
    "deep_model.add(Dense(units=2, activation='softmax'))"
   ]
  },
  {
   "cell_type": "code",
   "execution_count": null,
   "metadata": {},
   "outputs": [],
   "source": [
    "deep_model.summary()"
   ]
  },
  {
   "cell_type": "code",
   "execution_count": null,
   "metadata": {},
   "outputs": [],
   "source": [
    "deep_model.compile(optimizer='adam',\n",
    "                   loss='categorical_crossentropy',\n",
    "                   metrics=['accuracy'])\n",
    "\n",
    "deep_model.fit(\n",
    "    X_train_scaled,\n",
    "    y_train_categorical,\n",
    "    epochs=100,\n",
    "    shuffle=True,\n",
    "    verbose=2\n",
    ")"
   ]
  },
  {
   "cell_type": "code",
   "execution_count": null,
   "metadata": {},
   "outputs": [],
   "source": [
    "# Compare the models below"
   ]
  },
  {
   "cell_type": "code",
   "execution_count": null,
   "metadata": {},
   "outputs": [],
   "source": [
    "model_loss, model_accuracy = model.evaluate(\n",
    "    X_test_scaled, y_test_categorical, verbose=2)\n",
    "print(\n",
    "    f\"Normal Neural Network - Loss: {model_loss}, Accuracy: {model_accuracy}\")"
   ]
  },
  {
   "cell_type": "code",
   "execution_count": null,
   "metadata": {},
   "outputs": [],
   "source": [
    "model_loss, model_accuracy = deep_model.evaluate(\n",
    "    X_test_scaled, y_test_categorical, verbose=2)\n",
    "print(f\"Deep Neural Network - Loss: {model_loss}, Accuracy: {model_accuracy}\")"
   ]
  }
 ]
}