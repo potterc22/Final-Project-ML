{
 "metadata": {
  "language_info": {
   "codemirror_mode": {
    "name": "ipython",
    "version": 3
   },
   "file_extension": ".py",
   "mimetype": "text/x-python",
   "name": "python",
   "nbconvert_exporter": "python",
   "pygments_lexer": "ipython3",
   "version": "3.6.10-final"
  },
  "orig_nbformat": 2,
  "kernelspec": {
   "name": "python361064bitbcsconda9956bb7450484f49881ea0c9e482447b",
   "display_name": "Python 3.6.10 64-bit ('bcs': conda)",
   "language": "python"
  }
 },
 "nbformat": 4,
 "nbformat_minor": 2,
 "cells": [
  {
   "source": [
    "Create a file of players in the Hockey Hall of Fame"
   ],
   "cell_type": "markdown",
   "metadata": {}
  },
  {
   "cell_type": "code",
   "execution_count": 1,
   "metadata": {},
   "outputs": [],
   "source": [
    "# Import pandas\n",
    "import pandas as pd\n",
    "import numpy as np"
   ]
  },
  {
   "cell_type": "code",
   "execution_count": 2,
   "metadata": {},
   "outputs": [
    {
     "output_type": "execute_result",
     "data": {
      "text/plain": [
       "   year       hofID              name category\n",
       "0  1945  bakerho01h       Hobey Baker   Player\n",
       "1  1945  gardich01h  Charlie Gardiner   Player\n",
       "2  1945  gerared01h      Eddie Gerard   Player\n",
       "3  1945  mcgeefr01h       Frank McGee   Player\n",
       "4  1945  morenho01h      Howie Morenz   Player"
      ],
      "text/html": "<div>\n<style scoped>\n    .dataframe tbody tr th:only-of-type {\n        vertical-align: middle;\n    }\n\n    .dataframe tbody tr th {\n        vertical-align: top;\n    }\n\n    .dataframe thead th {\n        text-align: right;\n    }\n</style>\n<table border=\"1\" class=\"dataframe\">\n  <thead>\n    <tr style=\"text-align: right;\">\n      <th></th>\n      <th>year</th>\n      <th>hofID</th>\n      <th>name</th>\n      <th>category</th>\n    </tr>\n  </thead>\n  <tbody>\n    <tr>\n      <th>0</th>\n      <td>1945</td>\n      <td>bakerho01h</td>\n      <td>Hobey Baker</td>\n      <td>Player</td>\n    </tr>\n    <tr>\n      <th>1</th>\n      <td>1945</td>\n      <td>gardich01h</td>\n      <td>Charlie Gardiner</td>\n      <td>Player</td>\n    </tr>\n    <tr>\n      <th>2</th>\n      <td>1945</td>\n      <td>gerared01h</td>\n      <td>Eddie Gerard</td>\n      <td>Player</td>\n    </tr>\n    <tr>\n      <th>3</th>\n      <td>1945</td>\n      <td>mcgeefr01h</td>\n      <td>Frank McGee</td>\n      <td>Player</td>\n    </tr>\n    <tr>\n      <th>4</th>\n      <td>1945</td>\n      <td>morenho01h</td>\n      <td>Howie Morenz</td>\n      <td>Player</td>\n    </tr>\n  </tbody>\n</table>\n</div>"
     },
     "metadata": {},
     "execution_count": 2
    }
   ],
   "source": [
    "# Assign file paths to variable and read csv into pandas\n",
    "file_one = \"Resources/hof.csv\"\n",
    "hall_of_fame_df = pd.read_csv(file_one, encoding=\"ISO-8859-1\")\n",
    "hall_of_fame_df.head()"
   ]
  },
  {
   "cell_type": "code",
   "execution_count": 3,
   "metadata": {},
   "outputs": [
    {
     "output_type": "execute_result",
     "data": {
      "text/plain": [
       "   year       hofID              name category\n",
       "0  1945  bakerho01h       Hobey Baker   Player\n",
       "1  1945  gardich01h  Charlie Gardiner   Player\n",
       "2  1945  gerared01h      Eddie Gerard   Player\n",
       "3  1945  mcgeefr01h       Frank McGee   Player\n",
       "4  1945  morenho01h      Howie Morenz   Player"
      ],
      "text/html": "<div>\n<style scoped>\n    .dataframe tbody tr th:only-of-type {\n        vertical-align: middle;\n    }\n\n    .dataframe tbody tr th {\n        vertical-align: top;\n    }\n\n    .dataframe thead th {\n        text-align: right;\n    }\n</style>\n<table border=\"1\" class=\"dataframe\">\n  <thead>\n    <tr style=\"text-align: right;\">\n      <th></th>\n      <th>year</th>\n      <th>hofID</th>\n      <th>name</th>\n      <th>category</th>\n    </tr>\n  </thead>\n  <tbody>\n    <tr>\n      <th>0</th>\n      <td>1945</td>\n      <td>bakerho01h</td>\n      <td>Hobey Baker</td>\n      <td>Player</td>\n    </tr>\n    <tr>\n      <th>1</th>\n      <td>1945</td>\n      <td>gardich01h</td>\n      <td>Charlie Gardiner</td>\n      <td>Player</td>\n    </tr>\n    <tr>\n      <th>2</th>\n      <td>1945</td>\n      <td>gerared01h</td>\n      <td>Eddie Gerard</td>\n      <td>Player</td>\n    </tr>\n    <tr>\n      <th>3</th>\n      <td>1945</td>\n      <td>mcgeefr01h</td>\n      <td>Frank McGee</td>\n      <td>Player</td>\n    </tr>\n    <tr>\n      <th>4</th>\n      <td>1945</td>\n      <td>morenho01h</td>\n      <td>Howie Morenz</td>\n      <td>Player</td>\n    </tr>\n  </tbody>\n</table>\n</div>"
     },
     "metadata": {},
     "execution_count": 3
    }
   ],
   "source": [
    "# Filter to show only player data from category column\n",
    "hall_of_fame_df = hall_of_fame_df[hall_of_fame_df['category'] == 'Player']\n",
    "hall_of_fame_df.head()"
   ]
  },
  {
   "cell_type": "code",
   "execution_count": 4,
   "metadata": {},
   "outputs": [
    {
     "output_type": "execute_result",
     "data": {
      "text/plain": [
       "   year       hofID              name category\n",
       "0  1945  bakerho01h       Hobey Baker   Player\n",
       "1  1945  gardich01h  Charlie Gardiner   Player\n",
       "2  1945  gerared01h      Eddie Gerard   Player\n",
       "3  1945  mcgeefr01h       Frank McGee   Player\n",
       "4  1945  morenho01h      Howie Morenz   Player"
      ],
      "text/html": "<div>\n<style scoped>\n    .dataframe tbody tr th:only-of-type {\n        vertical-align: middle;\n    }\n\n    .dataframe tbody tr th {\n        vertical-align: top;\n    }\n\n    .dataframe thead th {\n        text-align: right;\n    }\n</style>\n<table border=\"1\" class=\"dataframe\">\n  <thead>\n    <tr style=\"text-align: right;\">\n      <th></th>\n      <th>year</th>\n      <th>hofID</th>\n      <th>name</th>\n      <th>category</th>\n    </tr>\n  </thead>\n  <tbody>\n    <tr>\n      <th>0</th>\n      <td>1945</td>\n      <td>bakerho01h</td>\n      <td>Hobey Baker</td>\n      <td>Player</td>\n    </tr>\n    <tr>\n      <th>1</th>\n      <td>1945</td>\n      <td>gardich01h</td>\n      <td>Charlie Gardiner</td>\n      <td>Player</td>\n    </tr>\n    <tr>\n      <th>2</th>\n      <td>1945</td>\n      <td>gerared01h</td>\n      <td>Eddie Gerard</td>\n      <td>Player</td>\n    </tr>\n    <tr>\n      <th>3</th>\n      <td>1945</td>\n      <td>mcgeefr01h</td>\n      <td>Frank McGee</td>\n      <td>Player</td>\n    </tr>\n    <tr>\n      <th>4</th>\n      <td>1945</td>\n      <td>morenho01h</td>\n      <td>Howie Morenz</td>\n      <td>Player</td>\n    </tr>\n  </tbody>\n</table>\n</div>"
     },
     "metadata": {},
     "execution_count": 4
    }
   ],
   "source": [
    "# Change mismatch names to match across files\n",
    "hall_of_fame_df.loc[(hall_of_fame_df.name == 'Harry Watson') & (hall_of_fame_df.year == 1962), 'name'] = 'Harry E. Watson'\n",
    "hall_of_fame_df.head()"
   ]
  },
  {
   "cell_type": "code",
   "execution_count": 5,
   "metadata": {},
   "outputs": [
    {
     "output_type": "execute_result",
     "data": {
      "text/plain": [
       "   year       hofID            Player category\n",
       "0  1945  bakerho01h       Hobey Baker   Player\n",
       "1  1945  gardich01h  Charlie Gardiner   Player\n",
       "2  1945  gerared01h      Eddie Gerard   Player\n",
       "3  1945  mcgeefr01h       Frank McGee   Player\n",
       "4  1945  morenho01h      Howie Morenz   Player"
      ],
      "text/html": "<div>\n<style scoped>\n    .dataframe tbody tr th:only-of-type {\n        vertical-align: middle;\n    }\n\n    .dataframe tbody tr th {\n        vertical-align: top;\n    }\n\n    .dataframe thead th {\n        text-align: right;\n    }\n</style>\n<table border=\"1\" class=\"dataframe\">\n  <thead>\n    <tr style=\"text-align: right;\">\n      <th></th>\n      <th>year</th>\n      <th>hofID</th>\n      <th>Player</th>\n      <th>category</th>\n    </tr>\n  </thead>\n  <tbody>\n    <tr>\n      <th>0</th>\n      <td>1945</td>\n      <td>bakerho01h</td>\n      <td>Hobey Baker</td>\n      <td>Player</td>\n    </tr>\n    <tr>\n      <th>1</th>\n      <td>1945</td>\n      <td>gardich01h</td>\n      <td>Charlie Gardiner</td>\n      <td>Player</td>\n    </tr>\n    <tr>\n      <th>2</th>\n      <td>1945</td>\n      <td>gerared01h</td>\n      <td>Eddie Gerard</td>\n      <td>Player</td>\n    </tr>\n    <tr>\n      <th>3</th>\n      <td>1945</td>\n      <td>mcgeefr01h</td>\n      <td>Frank McGee</td>\n      <td>Player</td>\n    </tr>\n    <tr>\n      <th>4</th>\n      <td>1945</td>\n      <td>morenho01h</td>\n      <td>Howie Morenz</td>\n      <td>Player</td>\n    </tr>\n  </tbody>\n</table>\n</div>"
     },
     "metadata": {},
     "execution_count": 5
    }
   ],
   "source": [
    "# Rename the Name column to Player to match other dataframes\n",
    "hall_of_fame_df = hall_of_fame_df.rename(columns={\"name\": \"Player\"})\n",
    "hall_of_fame_df.head()"
   ]
  },
  {
   "cell_type": "code",
   "execution_count": 6,
   "metadata": {},
   "outputs": [
    {
     "output_type": "execute_result",
     "data": {
      "text/plain": [
       "             Player  HoF\n",
       "0       Hobey Baker    1\n",
       "1  Charlie Gardiner    1\n",
       "2      Eddie Gerard    1\n",
       "3       Frank McGee    1\n",
       "4      Howie Morenz    1"
      ],
      "text/html": "<div>\n<style scoped>\n    .dataframe tbody tr th:only-of-type {\n        vertical-align: middle;\n    }\n\n    .dataframe tbody tr th {\n        vertical-align: top;\n    }\n\n    .dataframe thead th {\n        text-align: right;\n    }\n</style>\n<table border=\"1\" class=\"dataframe\">\n  <thead>\n    <tr style=\"text-align: right;\">\n      <th></th>\n      <th>Player</th>\n      <th>HoF</th>\n    </tr>\n  </thead>\n  <tbody>\n    <tr>\n      <th>0</th>\n      <td>Hobey Baker</td>\n      <td>1</td>\n    </tr>\n    <tr>\n      <th>1</th>\n      <td>Charlie Gardiner</td>\n      <td>1</td>\n    </tr>\n    <tr>\n      <th>2</th>\n      <td>Eddie Gerard</td>\n      <td>1</td>\n    </tr>\n    <tr>\n      <th>3</th>\n      <td>Frank McGee</td>\n      <td>1</td>\n    </tr>\n    <tr>\n      <th>4</th>\n      <td>Howie Morenz</td>\n      <td>1</td>\n    </tr>\n  </tbody>\n</table>\n</div>"
     },
     "metadata": {},
     "execution_count": 6
    }
   ],
   "source": [
    "# Remove columns not needed and create a column showing \"1\" for Hof inclusion\n",
    "hall_of_fame_df = hall_of_fame_df[['Player']]\n",
    "hall_of_fame_df[\"HoF\"] = 1\n",
    "hall_of_fame_df.head()"
   ]
  },
  {
   "source": [
    "Scrape additional Hall of Fame player data that was missing from the csv file.  2012 to 2020."
   ],
   "cell_type": "markdown",
   "metadata": {}
  },
  {
   "cell_type": "code",
   "execution_count": 7,
   "metadata": {},
   "outputs": [
    {
     "output_type": "execute_result",
     "data": {
      "text/plain": [
       "       Year              Name Position            Nationality\n",
       "0  1945[15]       Hobey Baker        F          United States\n",
       "1  1945[15]  Charlie Gardiner        G  Canada/ Great Britain\n",
       "2  1945[15]      Eddie Gerard     D–LW                 Canada\n",
       "3  1945[15]       Frank McGee      C–R                 Canada\n",
       "4  1945[15]      Howie Morenz        C                 Canada"
      ],
      "text/html": "<div>\n<style scoped>\n    .dataframe tbody tr th:only-of-type {\n        vertical-align: middle;\n    }\n\n    .dataframe tbody tr th {\n        vertical-align: top;\n    }\n\n    .dataframe thead th {\n        text-align: right;\n    }\n</style>\n<table border=\"1\" class=\"dataframe\">\n  <thead>\n    <tr style=\"text-align: right;\">\n      <th></th>\n      <th>Year</th>\n      <th>Name</th>\n      <th>Position</th>\n      <th>Nationality</th>\n    </tr>\n  </thead>\n  <tbody>\n    <tr>\n      <th>0</th>\n      <td>1945[15]</td>\n      <td>Hobey Baker</td>\n      <td>F</td>\n      <td>United States</td>\n    </tr>\n    <tr>\n      <th>1</th>\n      <td>1945[15]</td>\n      <td>Charlie Gardiner</td>\n      <td>G</td>\n      <td>Canada/ Great Britain</td>\n    </tr>\n    <tr>\n      <th>2</th>\n      <td>1945[15]</td>\n      <td>Eddie Gerard</td>\n      <td>D–LW</td>\n      <td>Canada</td>\n    </tr>\n    <tr>\n      <th>3</th>\n      <td>1945[15]</td>\n      <td>Frank McGee</td>\n      <td>C–R</td>\n      <td>Canada</td>\n    </tr>\n    <tr>\n      <th>4</th>\n      <td>1945[15]</td>\n      <td>Howie Morenz</td>\n      <td>C</td>\n      <td>Canada</td>\n    </tr>\n  </tbody>\n</table>\n</div>"
     },
     "metadata": {},
     "execution_count": 7
    }
   ],
   "source": [
    "# Panda scrape hall of fame table from wikipedia to get the missing years inductees\n",
    "hof_tables = []\n",
    "\n",
    "url = f'https://en.wikipedia.org/wiki/List_of_members_of_the_Hockey_Hall_of_Fame'\n",
    "\n",
    "# find the table\n",
    "table = pd.read_html(url)\n",
    "hof_df = table[1]\n",
    "\n",
    "hof_tables.append(hof_df)\n",
    "hof_df.head()"
   ]
  },
  {
   "cell_type": "code",
   "execution_count": 8,
   "metadata": {},
   "outputs": [
    {
     "output_type": "execute_result",
     "data": {
      "text/plain": [
       "     Year           Name Position           Nationality  Counter\n",
       "251  2012     Pavel Bure       RW  Russia/ Soviet Union      251\n",
       "252  2012     Adam Oates        C                Canada      252\n",
       "253  2012      Joe Sakic        C                Canada      253\n",
       "254  2012    Mats Sundin        C                Sweden      254\n",
       "255  2013  Chris Chelios        D         United States      255"
      ],
      "text/html": "<div>\n<style scoped>\n    .dataframe tbody tr th:only-of-type {\n        vertical-align: middle;\n    }\n\n    .dataframe tbody tr th {\n        vertical-align: top;\n    }\n\n    .dataframe thead th {\n        text-align: right;\n    }\n</style>\n<table border=\"1\" class=\"dataframe\">\n  <thead>\n    <tr style=\"text-align: right;\">\n      <th></th>\n      <th>Year</th>\n      <th>Name</th>\n      <th>Position</th>\n      <th>Nationality</th>\n      <th>Counter</th>\n    </tr>\n  </thead>\n  <tbody>\n    <tr>\n      <th>251</th>\n      <td>2012</td>\n      <td>Pavel Bure</td>\n      <td>RW</td>\n      <td>Russia/ Soviet Union</td>\n      <td>251</td>\n    </tr>\n    <tr>\n      <th>252</th>\n      <td>2012</td>\n      <td>Adam Oates</td>\n      <td>C</td>\n      <td>Canada</td>\n      <td>252</td>\n    </tr>\n    <tr>\n      <th>253</th>\n      <td>2012</td>\n      <td>Joe Sakic</td>\n      <td>C</td>\n      <td>Canada</td>\n      <td>253</td>\n    </tr>\n    <tr>\n      <th>254</th>\n      <td>2012</td>\n      <td>Mats Sundin</td>\n      <td>C</td>\n      <td>Sweden</td>\n      <td>254</td>\n    </tr>\n    <tr>\n      <th>255</th>\n      <td>2013</td>\n      <td>Chris Chelios</td>\n      <td>D</td>\n      <td>United States</td>\n      <td>255</td>\n    </tr>\n  </tbody>\n</table>\n</div>"
     },
     "metadata": {},
     "execution_count": 8
    }
   ],
   "source": [
    "# Create a column that counts the rows and filter to above 250, to remove any player inducted in 2011 or earlier.\n",
    "# These players are included in the csv file\n",
    "hof_df[\"Counter\"] = range(len(hof_df))\n",
    "hof_df = hof_df[hof_df['Counter'] > 250]\n",
    "hof_df.head()"
   ]
  },
  {
   "cell_type": "code",
   "execution_count": 9,
   "metadata": {},
   "outputs": [
    {
     "output_type": "execute_result",
     "data": {
      "text/plain": [
       "            Player  HoF\n",
       "251     Pavel Bure    1\n",
       "252     Adam Oates    1\n",
       "253      Joe Sakic    1\n",
       "254    Mats Sundin    1\n",
       "255  Chris Chelios    1"
      ],
      "text/html": "<div>\n<style scoped>\n    .dataframe tbody tr th:only-of-type {\n        vertical-align: middle;\n    }\n\n    .dataframe tbody tr th {\n        vertical-align: top;\n    }\n\n    .dataframe thead th {\n        text-align: right;\n    }\n</style>\n<table border=\"1\" class=\"dataframe\">\n  <thead>\n    <tr style=\"text-align: right;\">\n      <th></th>\n      <th>Player</th>\n      <th>HoF</th>\n    </tr>\n  </thead>\n  <tbody>\n    <tr>\n      <th>251</th>\n      <td>Pavel Bure</td>\n      <td>1</td>\n    </tr>\n    <tr>\n      <th>252</th>\n      <td>Adam Oates</td>\n      <td>1</td>\n    </tr>\n    <tr>\n      <th>253</th>\n      <td>Joe Sakic</td>\n      <td>1</td>\n    </tr>\n    <tr>\n      <th>254</th>\n      <td>Mats Sundin</td>\n      <td>1</td>\n    </tr>\n    <tr>\n      <th>255</th>\n      <td>Chris Chelios</td>\n      <td>1</td>\n    </tr>\n  </tbody>\n</table>\n</div>"
     },
     "metadata": {},
     "execution_count": 9
    }
   ],
   "source": [
    "# Rename the Name column to Player to match other dataframes\n",
    "# reduce to only the player column and add a Hof coulumn to indicate player is in the hall of fame\n",
    "hof_df = hof_df.rename(columns={\"Name\": \"Player\"})\n",
    "hof_df = hof_df[['Player']]\n",
    "hof_df[\"HoF\"] = 1\n",
    "hof_df.head()"
   ]
  },
  {
   "cell_type": "code",
   "execution_count": 10,
   "metadata": {},
   "outputs": [
    {
     "output_type": "execute_result",
     "data": {
      "text/plain": [
       "            Player  HoF\n",
       "284   Marián Hossa    1\n",
       "285  Jarome Iginla    1\n",
       "286     Kevin Lowe    1\n",
       "287  Kim St-Pierre    1\n",
       "288    Doug Wilson    1"
      ],
      "text/html": "<div>\n<style scoped>\n    .dataframe tbody tr th:only-of-type {\n        vertical-align: middle;\n    }\n\n    .dataframe tbody tr th {\n        vertical-align: top;\n    }\n\n    .dataframe thead th {\n        text-align: right;\n    }\n</style>\n<table border=\"1\" class=\"dataframe\">\n  <thead>\n    <tr style=\"text-align: right;\">\n      <th></th>\n      <th>Player</th>\n      <th>HoF</th>\n    </tr>\n  </thead>\n  <tbody>\n    <tr>\n      <th>284</th>\n      <td>Marián Hossa</td>\n      <td>1</td>\n    </tr>\n    <tr>\n      <th>285</th>\n      <td>Jarome Iginla</td>\n      <td>1</td>\n    </tr>\n    <tr>\n      <th>286</th>\n      <td>Kevin Lowe</td>\n      <td>1</td>\n    </tr>\n    <tr>\n      <th>287</th>\n      <td>Kim St-Pierre</td>\n      <td>1</td>\n    </tr>\n    <tr>\n      <th>288</th>\n      <td>Doug Wilson</td>\n      <td>1</td>\n    </tr>\n  </tbody>\n</table>\n</div>"
     },
     "metadata": {},
     "execution_count": 10
    }
   ],
   "source": [
    "# Combined the two hall of fame dataframes into one \n",
    "hall_of_fame_concat_df = pd.concat([hall_of_fame_df, hof_df])\n",
    "hall_of_fame_concat_df.tail()"
   ]
  },
  {
   "cell_type": "code",
   "execution_count": 11,
   "metadata": {},
   "outputs": [
    {
     "output_type": "execute_result",
     "data": {
      "text/plain": [
       "             Player  HoF\n",
       "0       Hobey Baker    1\n",
       "1  Charlie Gardiner    1\n",
       "2      Eddie Gerard    1\n",
       "3       Frank McGee    1\n",
       "4      Howie Morenz    1"
      ],
      "text/html": "<div>\n<style scoped>\n    .dataframe tbody tr th:only-of-type {\n        vertical-align: middle;\n    }\n\n    .dataframe tbody tr th {\n        vertical-align: top;\n    }\n\n    .dataframe thead th {\n        text-align: right;\n    }\n</style>\n<table border=\"1\" class=\"dataframe\">\n  <thead>\n    <tr style=\"text-align: right;\">\n      <th></th>\n      <th>Player</th>\n      <th>HoF</th>\n    </tr>\n  </thead>\n  <tbody>\n    <tr>\n      <th>0</th>\n      <td>Hobey Baker</td>\n      <td>1</td>\n    </tr>\n    <tr>\n      <th>1</th>\n      <td>Charlie Gardiner</td>\n      <td>1</td>\n    </tr>\n    <tr>\n      <th>2</th>\n      <td>Eddie Gerard</td>\n      <td>1</td>\n    </tr>\n    <tr>\n      <th>3</th>\n      <td>Frank McGee</td>\n      <td>1</td>\n    </tr>\n    <tr>\n      <th>4</th>\n      <td>Howie Morenz</td>\n      <td>1</td>\n    </tr>\n  </tbody>\n</table>\n</div>"
     },
     "metadata": {},
     "execution_count": 11
    }
   ],
   "source": [
    "# Remove special characters to match to the stats file\n",
    "cols_to_check = ['Player']\n",
    "hall_of_fame_concat_df[cols_to_check] = hall_of_fame_concat_df[cols_to_check].replace({'á':'a'}, regex=True)\n",
    "hall_of_fame_concat_df[cols_to_check] = hall_of_fame_concat_df[cols_to_check].replace({'í':'i'}, regex=True)\n",
    "hall_of_fame_concat_df[cols_to_check] = hall_of_fame_concat_df[cols_to_check].replace({'ä':'a'}, regex=True)\n",
    "hall_of_fame_concat_df[cols_to_check] = hall_of_fame_concat_df[cols_to_check].replace({'ö':'o'}, regex=True)\n",
    "hall_of_fame_concat_df[cols_to_check] = hall_of_fame_concat_df[cols_to_check].replace({'ç':'c'}, regex=True)\n",
    "hall_of_fame_concat_df[cols_to_check] = hall_of_fame_concat_df[cols_to_check].replace({'å':'a'}, regex=True)\n",
    "hall_of_fame_concat_df[cols_to_check] = hall_of_fame_concat_df[cols_to_check].replace({'É':'E'}, regex=True)\n",
    "hall_of_fame_concat_df[cols_to_check] = hall_of_fame_concat_df[cols_to_check].replace({'Å':'A'}, regex=True)\n",
    "hall_of_fame_concat_df[cols_to_check] = hall_of_fame_concat_df[cols_to_check].replace({'è':'e'}, regex=True)\n",
    "hall_of_fame_concat_df[cols_to_check] = hall_of_fame_concat_df[cols_to_check].replace({'ë':'e'}, regex=True)\n",
    "hall_of_fame_concat_df[cols_to_check] = hall_of_fame_concat_df[cols_to_check].replace({'î':'i'}, regex=True)\n",
    "hall_of_fame_concat_df[cols_to_check] = hall_of_fame_concat_df[cols_to_check].replace({'ó':'o'}, regex=True)\n",
    "hall_of_fame_concat_df[cols_to_check] = hall_of_fame_concat_df[cols_to_check].replace({'ô':'o'}, regex=True)\n",
    "hall_of_fame_concat_df[cols_to_check] = hall_of_fame_concat_df[cols_to_check].replace({'ø':'o'}, regex=True)\n",
    "hall_of_fame_concat_df[cols_to_check] = hall_of_fame_concat_df[cols_to_check].replace({'ß':'ss'}, regex=True)\n",
    "hall_of_fame_concat_df[cols_to_check] = hall_of_fame_concat_df[cols_to_check].replace({'ü':'u'}, regex=True)\n",
    "hall_of_fame_concat_df[cols_to_check] = hall_of_fame_concat_df[cols_to_check].replace({'ý':'y'}, regex=True)\n",
    "hall_of_fame_concat_df[cols_to_check] = hall_of_fame_concat_df[cols_to_check].replace({'Ö':'O'}, regex=True)\n",
    "hall_of_fame_concat_df[cols_to_check] = hall_of_fame_concat_df[cols_to_check].replace({'é':'e'}, regex=True)\n",
    "hall_of_fame_concat_df[cols_to_check] = hall_of_fame_concat_df[cols_to_check].replace({'š':'s'}, regex=True)\n",
    "\n",
    "hall_of_fame_concat_df.head()"
   ]
  },
  {
   "cell_type": "code",
   "execution_count": 12,
   "metadata": {},
   "outputs": [
    {
     "output_type": "execute_result",
     "data": {
      "text/plain": [
       "             Player  HoF\n",
       "0       Hobey Baker    1\n",
       "1  Charlie Gardiner    1\n",
       "2      Eddie Gerard    1\n",
       "3       Frank McGee    1\n",
       "4      Howie Morenz    1"
      ],
      "text/html": "<div>\n<style scoped>\n    .dataframe tbody tr th:only-of-type {\n        vertical-align: middle;\n    }\n\n    .dataframe tbody tr th {\n        vertical-align: top;\n    }\n\n    .dataframe thead th {\n        text-align: right;\n    }\n</style>\n<table border=\"1\" class=\"dataframe\">\n  <thead>\n    <tr style=\"text-align: right;\">\n      <th></th>\n      <th>Player</th>\n      <th>HoF</th>\n    </tr>\n  </thead>\n  <tbody>\n    <tr>\n      <th>0</th>\n      <td>Hobey Baker</td>\n      <td>1</td>\n    </tr>\n    <tr>\n      <th>1</th>\n      <td>Charlie Gardiner</td>\n      <td>1</td>\n    </tr>\n    <tr>\n      <th>2</th>\n      <td>Eddie Gerard</td>\n      <td>1</td>\n    </tr>\n    <tr>\n      <th>3</th>\n      <td>Frank McGee</td>\n      <td>1</td>\n    </tr>\n    <tr>\n      <th>4</th>\n      <td>Howie Morenz</td>\n      <td>1</td>\n    </tr>\n  </tbody>\n</table>\n</div>"
     },
     "metadata": {},
     "execution_count": 12
    }
   ],
   "source": [
    "# Change names to match the stats file\n",
    "hall_of_fame_concat_df = hall_of_fame_concat_df.replace(\"Ching Johnson\", \"Ivan Johnson\")\n",
    "hall_of_fame_concat_df = hall_of_fame_concat_df.replace(\"Punch Broadbent\", \"Harry Broadbent\")\n",
    "hall_of_fame_concat_df = hall_of_fame_concat_df.replace(\"Sweeney Schriner\", \"David Schriner\")\n",
    "hall_of_fame_concat_df = hall_of_fame_concat_df.replace(\"Shorty Green\", \"Wilfred Green\")\n",
    "hall_of_fame_concat_df = hall_of_fame_concat_df.replace(\"Bullet Joe Simpson\", \"Joe Simpson\")\n",
    "hall_of_fame_concat_df = hall_of_fame_concat_df.replace(\"Black Jack Stewart\", \"Jack Stewart\")\n",
    "hall_of_fame_concat_df = hall_of_fame_concat_df.replace(\"Bryan Hextall\", \"Bryan Hextall, Sr.\")\n",
    "hall_of_fame_concat_df = hall_of_fame_concat_df.replace(\"Bernie Geoffrion\", \"Bernard Geoffrion\")\n",
    "hall_of_fame_concat_df = hall_of_fame_concat_df.replace(\"Viacheslav Fetisov\", \"Vyacheslav Fetisov\")\n",
    "hall_of_fame_concat_df = hall_of_fame_concat_df.replace(\"Ray Bourque\", \"Raymond Bourque\")\n",
    "hall_of_fame_concat_df = hall_of_fame_concat_df.replace(\"Harry P. Watson\", \"Harry Watson\")\n",
    "hall_of_fame_concat_df = hall_of_fame_concat_df.replace(\"Aurel Joliat\", \"Aurele Joliat\")\n",
    "hall_of_fame_concat_df = hall_of_fame_concat_df.replace(\"John Bucyk\", \"Johnny Bucyk\")\n",
    "hall_of_fame_concat_df = hall_of_fame_concat_df.replace(\"Fern Flaman\", \"Fernie Flaman\")\n",
    "\n",
    "hall_of_fame_concat_df.head()"
   ]
  },
  {
   "cell_type": "code",
   "execution_count": 13,
   "metadata": {},
   "outputs": [],
   "source": [
    "# Save the file to csv\n",
    "hall_of_fame_concat_df.to_csv(\"Output/hof_adj.csv\", index=False, header=True, encoding='utf-8-sig')"
   ]
  },
  {
   "cell_type": "code",
   "execution_count": null,
   "metadata": {},
   "outputs": [],
   "source": []
  }
 ]
}