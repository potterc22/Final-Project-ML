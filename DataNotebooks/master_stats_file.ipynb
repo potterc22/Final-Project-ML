{
 "metadata": {
  "language_info": {
   "codemirror_mode": {
    "name": "ipython",
    "version": 3
   },
   "file_extension": ".py",
   "mimetype": "text/x-python",
   "name": "python",
   "nbconvert_exporter": "python",
   "pygments_lexer": "ipython3",
   "version": "3.6.10-final"
  },
  "orig_nbformat": 2,
  "kernelspec": {
   "name": "python361064bitbcsconda9956bb7450484f49881ea0c9e482447b",
   "display_name": "Python 3.6.10 64-bit ('bcs': conda)",
   "language": "python"
  }
 },
 "nbformat": 4,
 "nbformat_minor": 2,
 "cells": [
  {
   "source": [
    "Create Master Statistics File by Joining the Stats, Awards, and Hof files"
   ],
   "cell_type": "markdown",
   "metadata": {}
  },
  {
   "cell_type": "code",
   "execution_count": 1,
   "metadata": {},
   "outputs": [],
   "source": [
    "# Import pandas\n",
    "import pandas as pd\n",
    "import numpy as np"
   ]
  },
  {
   "cell_type": "code",
   "execution_count": 2,
   "metadata": {},
   "outputs": [],
   "source": [
    "# Assign file paths to variable and read csv into pandas\n",
    "file_one = \"Output/career_stats_adj.csv\"\n",
    "file_two = \"Output/awards_adj.csv\"\n",
    "file_three = \"Output/hof_adj.csv\"\n",
    "master_stats_df = pd.read_csv(file_one)\n",
    "master_awards_df = pd.read_csv(file_two, encoding=\"ISO-8859-1\")\n",
    "master_hof_df = pd.read_csv(file_three)"
   ]
  },
  {
   "cell_type": "code",
   "execution_count": 3,
   "metadata": {},
   "outputs": [
    {
     "output_type": "execute_result",
     "data": {
      "text/plain": [
       "          Player    GP    G     A    TP    PPG   PIM POS  firstYear  lastYear\n",
       "0  Wayne Gretzky  1487  894  1963  2857  1.921   577   C       1979      1999\n",
       "1   Jaromir Jagr  1733  766  1155  1921  1.108  1167  RW       1990      2018\n",
       "2   Mark Messier  1756  694  1193  1887  1.075  1910   C       1979      2004\n",
       "3    Gordie Howe  1767  801  1049  1850  1.047  1685  RW       1946      1980\n",
       "4    Ron Francis  1731  549  1249  1798  1.039   979   C       1981      2004"
      ],
      "text/html": "<div>\n<style scoped>\n    .dataframe tbody tr th:only-of-type {\n        vertical-align: middle;\n    }\n\n    .dataframe tbody tr th {\n        vertical-align: top;\n    }\n\n    .dataframe thead th {\n        text-align: right;\n    }\n</style>\n<table border=\"1\" class=\"dataframe\">\n  <thead>\n    <tr style=\"text-align: right;\">\n      <th></th>\n      <th>Player</th>\n      <th>GP</th>\n      <th>G</th>\n      <th>A</th>\n      <th>TP</th>\n      <th>PPG</th>\n      <th>PIM</th>\n      <th>POS</th>\n      <th>firstYear</th>\n      <th>lastYear</th>\n    </tr>\n  </thead>\n  <tbody>\n    <tr>\n      <th>0</th>\n      <td>Wayne Gretzky</td>\n      <td>1487</td>\n      <td>894</td>\n      <td>1963</td>\n      <td>2857</td>\n      <td>1.921</td>\n      <td>577</td>\n      <td>C</td>\n      <td>1979</td>\n      <td>1999</td>\n    </tr>\n    <tr>\n      <th>1</th>\n      <td>Jaromir Jagr</td>\n      <td>1733</td>\n      <td>766</td>\n      <td>1155</td>\n      <td>1921</td>\n      <td>1.108</td>\n      <td>1167</td>\n      <td>RW</td>\n      <td>1990</td>\n      <td>2018</td>\n    </tr>\n    <tr>\n      <th>2</th>\n      <td>Mark Messier</td>\n      <td>1756</td>\n      <td>694</td>\n      <td>1193</td>\n      <td>1887</td>\n      <td>1.075</td>\n      <td>1910</td>\n      <td>C</td>\n      <td>1979</td>\n      <td>2004</td>\n    </tr>\n    <tr>\n      <th>3</th>\n      <td>Gordie Howe</td>\n      <td>1767</td>\n      <td>801</td>\n      <td>1049</td>\n      <td>1850</td>\n      <td>1.047</td>\n      <td>1685</td>\n      <td>RW</td>\n      <td>1946</td>\n      <td>1980</td>\n    </tr>\n    <tr>\n      <th>4</th>\n      <td>Ron Francis</td>\n      <td>1731</td>\n      <td>549</td>\n      <td>1249</td>\n      <td>1798</td>\n      <td>1.039</td>\n      <td>979</td>\n      <td>C</td>\n      <td>1981</td>\n      <td>2004</td>\n    </tr>\n  </tbody>\n</table>\n</div>"
     },
     "metadata": {},
     "execution_count": 3
    }
   ],
   "source": [
    "master_stats_df.head()"
   ]
  },
  {
   "cell_type": "code",
   "execution_count": 4,
   "metadata": {},
   "outputs": [
    {
     "output_type": "execute_result",
     "data": {
      "text/plain": [
       "               Player  Awards  Cups  All-Star Games\n",
       "0          Ace Bailey       1     1               0\n",
       "1  Alexander Ovechkin      18     1               7\n",
       "2            Babe Dye       2     1               0\n",
       "3   Bernard Geoffrion       4     6              11\n",
       "4           Bill Cook       2     2               0"
      ],
      "text/html": "<div>\n<style scoped>\n    .dataframe tbody tr th:only-of-type {\n        vertical-align: middle;\n    }\n\n    .dataframe tbody tr th {\n        vertical-align: top;\n    }\n\n    .dataframe thead th {\n        text-align: right;\n    }\n</style>\n<table border=\"1\" class=\"dataframe\">\n  <thead>\n    <tr style=\"text-align: right;\">\n      <th></th>\n      <th>Player</th>\n      <th>Awards</th>\n      <th>Cups</th>\n      <th>All-Star Games</th>\n    </tr>\n  </thead>\n  <tbody>\n    <tr>\n      <th>0</th>\n      <td>Ace Bailey</td>\n      <td>1</td>\n      <td>1</td>\n      <td>0</td>\n    </tr>\n    <tr>\n      <th>1</th>\n      <td>Alexander Ovechkin</td>\n      <td>18</td>\n      <td>1</td>\n      <td>7</td>\n    </tr>\n    <tr>\n      <th>2</th>\n      <td>Babe Dye</td>\n      <td>2</td>\n      <td>1</td>\n      <td>0</td>\n    </tr>\n    <tr>\n      <th>3</th>\n      <td>Bernard Geoffrion</td>\n      <td>4</td>\n      <td>6</td>\n      <td>11</td>\n    </tr>\n    <tr>\n      <th>4</th>\n      <td>Bill Cook</td>\n      <td>2</td>\n      <td>2</td>\n      <td>0</td>\n    </tr>\n  </tbody>\n</table>\n</div>"
     },
     "metadata": {},
     "execution_count": 4
    }
   ],
   "source": [
    "master_awards_df.head()"
   ]
  },
  {
   "cell_type": "code",
   "execution_count": 5,
   "metadata": {},
   "outputs": [
    {
     "output_type": "execute_result",
     "data": {
      "text/plain": [
       "             Player  HoF\n",
       "0       Hobey Baker    1\n",
       "1  Charlie Gardiner    1\n",
       "2      Eddie Gerard    1\n",
       "3       Frank McGee    1\n",
       "4      Howie Morenz    1"
      ],
      "text/html": "<div>\n<style scoped>\n    .dataframe tbody tr th:only-of-type {\n        vertical-align: middle;\n    }\n\n    .dataframe tbody tr th {\n        vertical-align: top;\n    }\n\n    .dataframe thead th {\n        text-align: right;\n    }\n</style>\n<table border=\"1\" class=\"dataframe\">\n  <thead>\n    <tr style=\"text-align: right;\">\n      <th></th>\n      <th>Player</th>\n      <th>HoF</th>\n    </tr>\n  </thead>\n  <tbody>\n    <tr>\n      <th>0</th>\n      <td>Hobey Baker</td>\n      <td>1</td>\n    </tr>\n    <tr>\n      <th>1</th>\n      <td>Charlie Gardiner</td>\n      <td>1</td>\n    </tr>\n    <tr>\n      <th>2</th>\n      <td>Eddie Gerard</td>\n      <td>1</td>\n    </tr>\n    <tr>\n      <th>3</th>\n      <td>Frank McGee</td>\n      <td>1</td>\n    </tr>\n    <tr>\n      <th>4</th>\n      <td>Howie Morenz</td>\n      <td>1</td>\n    </tr>\n  </tbody>\n</table>\n</div>"
     },
     "metadata": {},
     "execution_count": 5
    }
   ],
   "source": [
    "master_hof_df.head()"
   ]
  },
  {
   "source": [
    "Merge the awards and hof files to the stats file by left join."
   ],
   "cell_type": "markdown",
   "metadata": {}
  },
  {
   "cell_type": "code",
   "execution_count": 6,
   "metadata": {},
   "outputs": [
    {
     "output_type": "execute_result",
     "data": {
      "text/plain": [
       "          Player    GP    G     A    TP    PPG   PIM POS  firstYear  lastYear  \\\n",
       "0  Wayne Gretzky  1487  894  1963  2857  1.921   577   C       1979      1999   \n",
       "1   Jaromir Jagr  1733  766  1155  1921  1.108  1167  RW       1990      2018   \n",
       "2   Mark Messier  1756  694  1193  1887  1.075  1910   C       1979      2004   \n",
       "3    Gordie Howe  1767  801  1049  1850  1.047  1685  RW       1946      1980   \n",
       "4    Ron Francis  1731  549  1249  1798  1.039   979   C       1981      2004   \n",
       "\n",
       "   Awards  Cups  All-Star Games  \n",
       "0    26.0   4.0            18.0  \n",
       "1     9.0   2.0            10.0  \n",
       "2     5.0   6.0            15.0  \n",
       "3    12.0   4.0            23.0  \n",
       "4     0.0   2.0             4.0  "
      ],
      "text/html": "<div>\n<style scoped>\n    .dataframe tbody tr th:only-of-type {\n        vertical-align: middle;\n    }\n\n    .dataframe tbody tr th {\n        vertical-align: top;\n    }\n\n    .dataframe thead th {\n        text-align: right;\n    }\n</style>\n<table border=\"1\" class=\"dataframe\">\n  <thead>\n    <tr style=\"text-align: right;\">\n      <th></th>\n      <th>Player</th>\n      <th>GP</th>\n      <th>G</th>\n      <th>A</th>\n      <th>TP</th>\n      <th>PPG</th>\n      <th>PIM</th>\n      <th>POS</th>\n      <th>firstYear</th>\n      <th>lastYear</th>\n      <th>Awards</th>\n      <th>Cups</th>\n      <th>All-Star Games</th>\n    </tr>\n  </thead>\n  <tbody>\n    <tr>\n      <th>0</th>\n      <td>Wayne Gretzky</td>\n      <td>1487</td>\n      <td>894</td>\n      <td>1963</td>\n      <td>2857</td>\n      <td>1.921</td>\n      <td>577</td>\n      <td>C</td>\n      <td>1979</td>\n      <td>1999</td>\n      <td>26.0</td>\n      <td>4.0</td>\n      <td>18.0</td>\n    </tr>\n    <tr>\n      <th>1</th>\n      <td>Jaromir Jagr</td>\n      <td>1733</td>\n      <td>766</td>\n      <td>1155</td>\n      <td>1921</td>\n      <td>1.108</td>\n      <td>1167</td>\n      <td>RW</td>\n      <td>1990</td>\n      <td>2018</td>\n      <td>9.0</td>\n      <td>2.0</td>\n      <td>10.0</td>\n    </tr>\n    <tr>\n      <th>2</th>\n      <td>Mark Messier</td>\n      <td>1756</td>\n      <td>694</td>\n      <td>1193</td>\n      <td>1887</td>\n      <td>1.075</td>\n      <td>1910</td>\n      <td>C</td>\n      <td>1979</td>\n      <td>2004</td>\n      <td>5.0</td>\n      <td>6.0</td>\n      <td>15.0</td>\n    </tr>\n    <tr>\n      <th>3</th>\n      <td>Gordie Howe</td>\n      <td>1767</td>\n      <td>801</td>\n      <td>1049</td>\n      <td>1850</td>\n      <td>1.047</td>\n      <td>1685</td>\n      <td>RW</td>\n      <td>1946</td>\n      <td>1980</td>\n      <td>12.0</td>\n      <td>4.0</td>\n      <td>23.0</td>\n    </tr>\n    <tr>\n      <th>4</th>\n      <td>Ron Francis</td>\n      <td>1731</td>\n      <td>549</td>\n      <td>1249</td>\n      <td>1798</td>\n      <td>1.039</td>\n      <td>979</td>\n      <td>C</td>\n      <td>1981</td>\n      <td>2004</td>\n      <td>0.0</td>\n      <td>2.0</td>\n      <td>4.0</td>\n    </tr>\n  </tbody>\n</table>\n</div>"
     },
     "metadata": {},
     "execution_count": 6
    }
   ],
   "source": [
    "# Merge Awards data to the stats data by left join\n",
    "master_stats_file_df = pd.merge(left=master_stats_df, right=master_awards_df, how='left', left_on='Player', right_on='Player')\n",
    "master_stats_file_df.head()"
   ]
  },
  {
   "cell_type": "code",
   "execution_count": 7,
   "metadata": {},
   "outputs": [
    {
     "output_type": "execute_result",
     "data": {
      "text/plain": [
       "          Player    GP    G     A    TP    PPG   PIM POS  firstYear  lastYear  \\\n",
       "0  Wayne Gretzky  1487  894  1963  2857  1.921   577   C       1979      1999   \n",
       "1   Jaromir Jagr  1733  766  1155  1921  1.108  1167  RW       1990      2018   \n",
       "2   Mark Messier  1756  694  1193  1887  1.075  1910   C       1979      2004   \n",
       "3    Gordie Howe  1767  801  1049  1850  1.047  1685  RW       1946      1980   \n",
       "4    Ron Francis  1731  549  1249  1798  1.039   979   C       1981      2004   \n",
       "\n",
       "   Awards  Cups  All-Star Games  HoF  \n",
       "0    26.0   4.0            18.0  1.0  \n",
       "1     9.0   2.0            10.0  NaN  \n",
       "2     5.0   6.0            15.0  1.0  \n",
       "3    12.0   4.0            23.0  1.0  \n",
       "4     0.0   2.0             4.0  1.0  "
      ],
      "text/html": "<div>\n<style scoped>\n    .dataframe tbody tr th:only-of-type {\n        vertical-align: middle;\n    }\n\n    .dataframe tbody tr th {\n        vertical-align: top;\n    }\n\n    .dataframe thead th {\n        text-align: right;\n    }\n</style>\n<table border=\"1\" class=\"dataframe\">\n  <thead>\n    <tr style=\"text-align: right;\">\n      <th></th>\n      <th>Player</th>\n      <th>GP</th>\n      <th>G</th>\n      <th>A</th>\n      <th>TP</th>\n      <th>PPG</th>\n      <th>PIM</th>\n      <th>POS</th>\n      <th>firstYear</th>\n      <th>lastYear</th>\n      <th>Awards</th>\n      <th>Cups</th>\n      <th>All-Star Games</th>\n      <th>HoF</th>\n    </tr>\n  </thead>\n  <tbody>\n    <tr>\n      <th>0</th>\n      <td>Wayne Gretzky</td>\n      <td>1487</td>\n      <td>894</td>\n      <td>1963</td>\n      <td>2857</td>\n      <td>1.921</td>\n      <td>577</td>\n      <td>C</td>\n      <td>1979</td>\n      <td>1999</td>\n      <td>26.0</td>\n      <td>4.0</td>\n      <td>18.0</td>\n      <td>1.0</td>\n    </tr>\n    <tr>\n      <th>1</th>\n      <td>Jaromir Jagr</td>\n      <td>1733</td>\n      <td>766</td>\n      <td>1155</td>\n      <td>1921</td>\n      <td>1.108</td>\n      <td>1167</td>\n      <td>RW</td>\n      <td>1990</td>\n      <td>2018</td>\n      <td>9.0</td>\n      <td>2.0</td>\n      <td>10.0</td>\n      <td>NaN</td>\n    </tr>\n    <tr>\n      <th>2</th>\n      <td>Mark Messier</td>\n      <td>1756</td>\n      <td>694</td>\n      <td>1193</td>\n      <td>1887</td>\n      <td>1.075</td>\n      <td>1910</td>\n      <td>C</td>\n      <td>1979</td>\n      <td>2004</td>\n      <td>5.0</td>\n      <td>6.0</td>\n      <td>15.0</td>\n      <td>1.0</td>\n    </tr>\n    <tr>\n      <th>3</th>\n      <td>Gordie Howe</td>\n      <td>1767</td>\n      <td>801</td>\n      <td>1049</td>\n      <td>1850</td>\n      <td>1.047</td>\n      <td>1685</td>\n      <td>RW</td>\n      <td>1946</td>\n      <td>1980</td>\n      <td>12.0</td>\n      <td>4.0</td>\n      <td>23.0</td>\n      <td>1.0</td>\n    </tr>\n    <tr>\n      <th>4</th>\n      <td>Ron Francis</td>\n      <td>1731</td>\n      <td>549</td>\n      <td>1249</td>\n      <td>1798</td>\n      <td>1.039</td>\n      <td>979</td>\n      <td>C</td>\n      <td>1981</td>\n      <td>2004</td>\n      <td>0.0</td>\n      <td>2.0</td>\n      <td>4.0</td>\n      <td>1.0</td>\n    </tr>\n  </tbody>\n</table>\n</div>"
     },
     "metadata": {},
     "execution_count": 7
    }
   ],
   "source": [
    "# Merge Hall Of Fame data to the stats data by left join\n",
    "master_stats_file_df = pd.merge(left=master_stats_file_df, right=master_hof_df, how='left', left_on='Player', right_on='Player')\n",
    "master_stats_file_df.head()"
   ]
  },
  {
   "cell_type": "code",
   "execution_count": 9,
   "metadata": {},
   "outputs": [
    {
     "output_type": "execute_result",
     "data": {
      "text/plain": [
       "          Player    GP    G     A    TP    PPG   PIM POS  firstYear  lastYear  \\\n",
       "0  Wayne Gretzky  1487  894  1963  2857  1.921   577   C       1979      1999   \n",
       "1   Jaromir Jagr  1733  766  1155  1921  1.108  1167  RW       1990      2018   \n",
       "2   Mark Messier  1756  694  1193  1887  1.075  1910   C       1979      2004   \n",
       "3    Gordie Howe  1767  801  1049  1850  1.047  1685  RW       1946      1980   \n",
       "4    Ron Francis  1731  549  1249  1798  1.039   979   C       1981      2004   \n",
       "\n",
       "   Awards  Cups  All-Star Games  HoF  \n",
       "0      26     4              18    1  \n",
       "1       9     2              10    0  \n",
       "2       5     6              15    1  \n",
       "3      12     4              23    1  \n",
       "4       0     2               4    1  "
      ],
      "text/html": "<div>\n<style scoped>\n    .dataframe tbody tr th:only-of-type {\n        vertical-align: middle;\n    }\n\n    .dataframe tbody tr th {\n        vertical-align: top;\n    }\n\n    .dataframe thead th {\n        text-align: right;\n    }\n</style>\n<table border=\"1\" class=\"dataframe\">\n  <thead>\n    <tr style=\"text-align: right;\">\n      <th></th>\n      <th>Player</th>\n      <th>GP</th>\n      <th>G</th>\n      <th>A</th>\n      <th>TP</th>\n      <th>PPG</th>\n      <th>PIM</th>\n      <th>POS</th>\n      <th>firstYear</th>\n      <th>lastYear</th>\n      <th>Awards</th>\n      <th>Cups</th>\n      <th>All-Star Games</th>\n      <th>HoF</th>\n    </tr>\n  </thead>\n  <tbody>\n    <tr>\n      <th>0</th>\n      <td>Wayne Gretzky</td>\n      <td>1487</td>\n      <td>894</td>\n      <td>1963</td>\n      <td>2857</td>\n      <td>1.921</td>\n      <td>577</td>\n      <td>C</td>\n      <td>1979</td>\n      <td>1999</td>\n      <td>26</td>\n      <td>4</td>\n      <td>18</td>\n      <td>1</td>\n    </tr>\n    <tr>\n      <th>1</th>\n      <td>Jaromir Jagr</td>\n      <td>1733</td>\n      <td>766</td>\n      <td>1155</td>\n      <td>1921</td>\n      <td>1.108</td>\n      <td>1167</td>\n      <td>RW</td>\n      <td>1990</td>\n      <td>2018</td>\n      <td>9</td>\n      <td>2</td>\n      <td>10</td>\n      <td>0</td>\n    </tr>\n    <tr>\n      <th>2</th>\n      <td>Mark Messier</td>\n      <td>1756</td>\n      <td>694</td>\n      <td>1193</td>\n      <td>1887</td>\n      <td>1.075</td>\n      <td>1910</td>\n      <td>C</td>\n      <td>1979</td>\n      <td>2004</td>\n      <td>5</td>\n      <td>6</td>\n      <td>15</td>\n      <td>1</td>\n    </tr>\n    <tr>\n      <th>3</th>\n      <td>Gordie Howe</td>\n      <td>1767</td>\n      <td>801</td>\n      <td>1049</td>\n      <td>1850</td>\n      <td>1.047</td>\n      <td>1685</td>\n      <td>RW</td>\n      <td>1946</td>\n      <td>1980</td>\n      <td>12</td>\n      <td>4</td>\n      <td>23</td>\n      <td>1</td>\n    </tr>\n    <tr>\n      <th>4</th>\n      <td>Ron Francis</td>\n      <td>1731</td>\n      <td>549</td>\n      <td>1249</td>\n      <td>1798</td>\n      <td>1.039</td>\n      <td>979</td>\n      <td>C</td>\n      <td>1981</td>\n      <td>2004</td>\n      <td>0</td>\n      <td>2</td>\n      <td>4</td>\n      <td>1</td>\n    </tr>\n  </tbody>\n</table>\n</div>"
     },
     "metadata": {},
     "execution_count": 9
    }
   ],
   "source": [
    "# Change all the NaN values to 0 and change numeric columns to integers\n",
    "master_stats_file_df = master_stats_file_df.fillna(0)\n",
    "master_stats_file_df = master_stats_file_df.astype({'GP':'int', 'G':'int', 'A':'int', 'TP':'int', 'PPG':'float', 'PIM':'int',                                                                'firstYear':'int', 'lastYear':'int', 'Awards':'int', 'Cups':'int', \n",
    "                                                    'All-Star Games':'int', 'HoF':'int'}) \n",
    "master_stats_file_df.head()"
   ]
  },
  {
   "cell_type": "code",
   "execution_count": 49,
   "metadata": {},
   "outputs": [
    {
     "output_type": "execute_result",
     "data": {
      "text/plain": [
       "          Player    GP    G     A    TP    PPG   PIM  POS  firstYear  \\\n",
       "0  Wayne Gretzky  1487  894  1963  2857  1.921   577    1       1979   \n",
       "1   Jaromir Jagr  1733  766  1155  1921  1.108  1167    1       1990   \n",
       "2   Mark Messier  1756  694  1193  1887  1.075  1910    1       1979   \n",
       "3    Gordie Howe  1767  801  1049  1850  1.047  1685    1       1946   \n",
       "4    Ron Francis  1731  549  1249  1798  1.039   979    1       1981   \n",
       "\n",
       "   lastYear  Awards  Cups  All-Star Games  HoF  \n",
       "0      1999      26     4              18    1  \n",
       "1      2018       9     2              10    0  \n",
       "2      2004       5     6              15    1  \n",
       "3      1980      12     4              23    1  \n",
       "4      2004       0     2               4    1  "
      ],
      "text/html": "<div>\n<style scoped>\n    .dataframe tbody tr th:only-of-type {\n        vertical-align: middle;\n    }\n\n    .dataframe tbody tr th {\n        vertical-align: top;\n    }\n\n    .dataframe thead th {\n        text-align: right;\n    }\n</style>\n<table border=\"1\" class=\"dataframe\">\n  <thead>\n    <tr style=\"text-align: right;\">\n      <th></th>\n      <th>Player</th>\n      <th>GP</th>\n      <th>G</th>\n      <th>A</th>\n      <th>TP</th>\n      <th>PPG</th>\n      <th>PIM</th>\n      <th>POS</th>\n      <th>firstYear</th>\n      <th>lastYear</th>\n      <th>Awards</th>\n      <th>Cups</th>\n      <th>All-Star Games</th>\n      <th>HoF</th>\n    </tr>\n  </thead>\n  <tbody>\n    <tr>\n      <th>0</th>\n      <td>Wayne Gretzky</td>\n      <td>1487</td>\n      <td>894</td>\n      <td>1963</td>\n      <td>2857</td>\n      <td>1.921</td>\n      <td>577</td>\n      <td>1</td>\n      <td>1979</td>\n      <td>1999</td>\n      <td>26</td>\n      <td>4</td>\n      <td>18</td>\n      <td>1</td>\n    </tr>\n    <tr>\n      <th>1</th>\n      <td>Jaromir Jagr</td>\n      <td>1733</td>\n      <td>766</td>\n      <td>1155</td>\n      <td>1921</td>\n      <td>1.108</td>\n      <td>1167</td>\n      <td>1</td>\n      <td>1990</td>\n      <td>2018</td>\n      <td>9</td>\n      <td>2</td>\n      <td>10</td>\n      <td>0</td>\n    </tr>\n    <tr>\n      <th>2</th>\n      <td>Mark Messier</td>\n      <td>1756</td>\n      <td>694</td>\n      <td>1193</td>\n      <td>1887</td>\n      <td>1.075</td>\n      <td>1910</td>\n      <td>1</td>\n      <td>1979</td>\n      <td>2004</td>\n      <td>5</td>\n      <td>6</td>\n      <td>15</td>\n      <td>1</td>\n    </tr>\n    <tr>\n      <th>3</th>\n      <td>Gordie Howe</td>\n      <td>1767</td>\n      <td>801</td>\n      <td>1049</td>\n      <td>1850</td>\n      <td>1.047</td>\n      <td>1685</td>\n      <td>1</td>\n      <td>1946</td>\n      <td>1980</td>\n      <td>12</td>\n      <td>4</td>\n      <td>23</td>\n      <td>1</td>\n    </tr>\n    <tr>\n      <th>4</th>\n      <td>Ron Francis</td>\n      <td>1731</td>\n      <td>549</td>\n      <td>1249</td>\n      <td>1798</td>\n      <td>1.039</td>\n      <td>979</td>\n      <td>1</td>\n      <td>1981</td>\n      <td>2004</td>\n      <td>0</td>\n      <td>2</td>\n      <td>4</td>\n      <td>1</td>\n    </tr>\n  </tbody>\n</table>\n</div>"
     },
     "metadata": {},
     "execution_count": 49
    }
   ],
   "source": [
    "master_stats_file_df['POS'] = master_stats_file_df['POS'].replace(['C', 'C/D','C/LW', 'C/RW', 'C/W', 'F', 'F/D', 'LW', 'LW/C', 'LW/C/D',\n",
    "                                                                    'LW/D', 'LW/RW', 'RW','RW/C', 'RW/D', 'RW/LW', 'W/C'], 1)\n",
    "master_stats_file_df['POS'] = master_stats_file_df['POS'].replace(['D', 'D/C','D/F', 'D/LW', 'D/RW', 'D/W'], 2)\n",
    "master_stats_file_df.head()"
   ]
  },
  {
   "cell_type": "code",
   "execution_count": 50,
   "metadata": {},
   "outputs": [],
   "source": [
    "# Save the file to csv\n",
    "master_stats_file_df.to_csv(\"Output/master_stats_file.csv\", index=False, header=True, encoding='utf-8-sig')"
   ]
  },
  {
   "cell_type": "code",
   "execution_count": 51,
   "metadata": {},
   "outputs": [
    {
     "output_type": "execute_result",
     "data": {
      "text/plain": [
       "          Player    GP    G     A    TP    PPG   PIM  POS  firstYear  \\\n",
       "0  Wayne Gretzky  1487  894  1963  2857  1.921   577    1       1979   \n",
       "2   Mark Messier  1756  694  1193  1887  1.075  1910    1       1979   \n",
       "3    Gordie Howe  1767  801  1049  1850  1.047  1685    1       1946   \n",
       "4    Ron Francis  1731  549  1249  1798  1.039   979    1       1981   \n",
       "5  Marcel Dionne  1348  731  1040  1771  1.314   600    1       1971   \n",
       "\n",
       "   lastYear  Awards  Cups  All-Star Games  HoF  \n",
       "0      1999      26     4              18    1  \n",
       "2      2004       5     6              15    1  \n",
       "3      1980      12     4              23    1  \n",
       "4      2004       0     2               4    1  \n",
       "5      1989       3     0               8    1  "
      ],
      "text/html": "<div>\n<style scoped>\n    .dataframe tbody tr th:only-of-type {\n        vertical-align: middle;\n    }\n\n    .dataframe tbody tr th {\n        vertical-align: top;\n    }\n\n    .dataframe thead th {\n        text-align: right;\n    }\n</style>\n<table border=\"1\" class=\"dataframe\">\n  <thead>\n    <tr style=\"text-align: right;\">\n      <th></th>\n      <th>Player</th>\n      <th>GP</th>\n      <th>G</th>\n      <th>A</th>\n      <th>TP</th>\n      <th>PPG</th>\n      <th>PIM</th>\n      <th>POS</th>\n      <th>firstYear</th>\n      <th>lastYear</th>\n      <th>Awards</th>\n      <th>Cups</th>\n      <th>All-Star Games</th>\n      <th>HoF</th>\n    </tr>\n  </thead>\n  <tbody>\n    <tr>\n      <th>0</th>\n      <td>Wayne Gretzky</td>\n      <td>1487</td>\n      <td>894</td>\n      <td>1963</td>\n      <td>2857</td>\n      <td>1.921</td>\n      <td>577</td>\n      <td>1</td>\n      <td>1979</td>\n      <td>1999</td>\n      <td>26</td>\n      <td>4</td>\n      <td>18</td>\n      <td>1</td>\n    </tr>\n    <tr>\n      <th>2</th>\n      <td>Mark Messier</td>\n      <td>1756</td>\n      <td>694</td>\n      <td>1193</td>\n      <td>1887</td>\n      <td>1.075</td>\n      <td>1910</td>\n      <td>1</td>\n      <td>1979</td>\n      <td>2004</td>\n      <td>5</td>\n      <td>6</td>\n      <td>15</td>\n      <td>1</td>\n    </tr>\n    <tr>\n      <th>3</th>\n      <td>Gordie Howe</td>\n      <td>1767</td>\n      <td>801</td>\n      <td>1049</td>\n      <td>1850</td>\n      <td>1.047</td>\n      <td>1685</td>\n      <td>1</td>\n      <td>1946</td>\n      <td>1980</td>\n      <td>12</td>\n      <td>4</td>\n      <td>23</td>\n      <td>1</td>\n    </tr>\n    <tr>\n      <th>4</th>\n      <td>Ron Francis</td>\n      <td>1731</td>\n      <td>549</td>\n      <td>1249</td>\n      <td>1798</td>\n      <td>1.039</td>\n      <td>979</td>\n      <td>1</td>\n      <td>1981</td>\n      <td>2004</td>\n      <td>0</td>\n      <td>2</td>\n      <td>4</td>\n      <td>1</td>\n    </tr>\n    <tr>\n      <th>5</th>\n      <td>Marcel Dionne</td>\n      <td>1348</td>\n      <td>731</td>\n      <td>1040</td>\n      <td>1771</td>\n      <td>1.314</td>\n      <td>600</td>\n      <td>1</td>\n      <td>1971</td>\n      <td>1989</td>\n      <td>3</td>\n      <td>0</td>\n      <td>8</td>\n      <td>1</td>\n    </tr>\n  </tbody>\n</table>\n</div>"
     },
     "metadata": {},
     "execution_count": 51
    }
   ],
   "source": [
    "# Create test_train data for players that have not played as of 2017, essentially retired players\n",
    "test_train_df = master_stats_file_df[master_stats_file_df['lastYear'] < 2017]\n",
    "test_train_df.head()"
   ]
  },
  {
   "cell_type": "code",
   "execution_count": 52,
   "metadata": {},
   "outputs": [],
   "source": [
    "# Save the file to csv\n",
    "test_train_df.to_csv(\"Output/test_train_file.csv\", index=False, header=True, encoding='utf-8-sig')"
   ]
  },
  {
   "cell_type": "code",
   "execution_count": 53,
   "metadata": {},
   "outputs": [
    {
     "output_type": "execute_result",
     "data": {
      "text/plain": [
       "                Player    GP    G     A    TP    PPG   PIM  POS  firstYear  \\\n",
       "1         Jaromir Jagr  1733  766  1155  1921  1.108  1167    1       1990   \n",
       "13        Joe Thornton  1641  421  1090  1511  0.921  1250    1       1997   \n",
       "34  Alexander Ovechkin  1156  707   576  1283  1.110   719    1       2005   \n",
       "37       Sidney Crosby   989  465   803  1268  1.282   677    1       2005   \n",
       "49     Patrick Marleau  1728  562   627  1189  0.688   517    1       1997   \n",
       "\n",
       "    lastYear  Awards  Cups  All-Star Games  HoF  \n",
       "1       2018       9     2              10    0  \n",
       "13      2021       2     0               6    0  \n",
       "34      2021      18     1               7    0  \n",
       "37      2021      11     3               4    0  \n",
       "49      2021       0     0               3    0  "
      ],
      "text/html": "<div>\n<style scoped>\n    .dataframe tbody tr th:only-of-type {\n        vertical-align: middle;\n    }\n\n    .dataframe tbody tr th {\n        vertical-align: top;\n    }\n\n    .dataframe thead th {\n        text-align: right;\n    }\n</style>\n<table border=\"1\" class=\"dataframe\">\n  <thead>\n    <tr style=\"text-align: right;\">\n      <th></th>\n      <th>Player</th>\n      <th>GP</th>\n      <th>G</th>\n      <th>A</th>\n      <th>TP</th>\n      <th>PPG</th>\n      <th>PIM</th>\n      <th>POS</th>\n      <th>firstYear</th>\n      <th>lastYear</th>\n      <th>Awards</th>\n      <th>Cups</th>\n      <th>All-Star Games</th>\n      <th>HoF</th>\n    </tr>\n  </thead>\n  <tbody>\n    <tr>\n      <th>1</th>\n      <td>Jaromir Jagr</td>\n      <td>1733</td>\n      <td>766</td>\n      <td>1155</td>\n      <td>1921</td>\n      <td>1.108</td>\n      <td>1167</td>\n      <td>1</td>\n      <td>1990</td>\n      <td>2018</td>\n      <td>9</td>\n      <td>2</td>\n      <td>10</td>\n      <td>0</td>\n    </tr>\n    <tr>\n      <th>13</th>\n      <td>Joe Thornton</td>\n      <td>1641</td>\n      <td>421</td>\n      <td>1090</td>\n      <td>1511</td>\n      <td>0.921</td>\n      <td>1250</td>\n      <td>1</td>\n      <td>1997</td>\n      <td>2021</td>\n      <td>2</td>\n      <td>0</td>\n      <td>6</td>\n      <td>0</td>\n    </tr>\n    <tr>\n      <th>34</th>\n      <td>Alexander Ovechkin</td>\n      <td>1156</td>\n      <td>707</td>\n      <td>576</td>\n      <td>1283</td>\n      <td>1.110</td>\n      <td>719</td>\n      <td>1</td>\n      <td>2005</td>\n      <td>2021</td>\n      <td>18</td>\n      <td>1</td>\n      <td>7</td>\n      <td>0</td>\n    </tr>\n    <tr>\n      <th>37</th>\n      <td>Sidney Crosby</td>\n      <td>989</td>\n      <td>465</td>\n      <td>803</td>\n      <td>1268</td>\n      <td>1.282</td>\n      <td>677</td>\n      <td>1</td>\n      <td>2005</td>\n      <td>2021</td>\n      <td>11</td>\n      <td>3</td>\n      <td>4</td>\n      <td>0</td>\n    </tr>\n    <tr>\n      <th>49</th>\n      <td>Patrick Marleau</td>\n      <td>1728</td>\n      <td>562</td>\n      <td>627</td>\n      <td>1189</td>\n      <td>0.688</td>\n      <td>517</td>\n      <td>1</td>\n      <td>1997</td>\n      <td>2021</td>\n      <td>0</td>\n      <td>0</td>\n      <td>3</td>\n      <td>0</td>\n    </tr>\n  </tbody>\n</table>\n</div>"
     },
     "metadata": {},
     "execution_count": 53
    }
   ],
   "source": [
    "# Create predict data for palyers who played their last game as of 2017, includes active players as well\n",
    "predict_df = master_stats_file_df[(master_stats_file_df['lastYear'] >= 2017) & (master_stats_file_df['HoF'] != 1)]\n",
    "predict_df.head()"
   ]
  },
  {
   "cell_type": "code",
   "execution_count": 54,
   "metadata": {},
   "outputs": [],
   "source": [
    "# Save the file to csv\n",
    "predict_df.to_csv(\"Output/predict_file.csv\", index=False, header=True, encoding='utf-8-sig')"
   ]
  },
  {
   "cell_type": "code",
   "execution_count": 55,
   "metadata": {},
   "outputs": [
    {
     "output_type": "execute_result",
     "data": {
      "text/plain": [
       "          Player    GP    G     A    TP    PPG   PIM  POS  firstYear  \\\n",
       "0  Wayne Gretzky  1487  894  1963  2857  1.921   577    1       1979   \n",
       "2   Mark Messier  1756  694  1193  1887  1.075  1910    1       1979   \n",
       "3    Gordie Howe  1767  801  1049  1850  1.047  1685    1       1946   \n",
       "4    Ron Francis  1731  549  1249  1798  1.039   979    1       1981   \n",
       "5  Marcel Dionne  1348  731  1040  1771  1.314   600    1       1971   \n",
       "\n",
       "   lastYear  Awards  Cups  All-Star Games  HoF  \n",
       "0      1999      26     4              18    1  \n",
       "2      2004       5     6              15    1  \n",
       "3      1980      12     4              23    1  \n",
       "4      2004       0     2               4    1  \n",
       "5      1989       3     0               8    1  "
      ],
      "text/html": "<div>\n<style scoped>\n    .dataframe tbody tr th:only-of-type {\n        vertical-align: middle;\n    }\n\n    .dataframe tbody tr th {\n        vertical-align: top;\n    }\n\n    .dataframe thead th {\n        text-align: right;\n    }\n</style>\n<table border=\"1\" class=\"dataframe\">\n  <thead>\n    <tr style=\"text-align: right;\">\n      <th></th>\n      <th>Player</th>\n      <th>GP</th>\n      <th>G</th>\n      <th>A</th>\n      <th>TP</th>\n      <th>PPG</th>\n      <th>PIM</th>\n      <th>POS</th>\n      <th>firstYear</th>\n      <th>lastYear</th>\n      <th>Awards</th>\n      <th>Cups</th>\n      <th>All-Star Games</th>\n      <th>HoF</th>\n    </tr>\n  </thead>\n  <tbody>\n    <tr>\n      <th>0</th>\n      <td>Wayne Gretzky</td>\n      <td>1487</td>\n      <td>894</td>\n      <td>1963</td>\n      <td>2857</td>\n      <td>1.921</td>\n      <td>577</td>\n      <td>1</td>\n      <td>1979</td>\n      <td>1999</td>\n      <td>26</td>\n      <td>4</td>\n      <td>18</td>\n      <td>1</td>\n    </tr>\n    <tr>\n      <th>2</th>\n      <td>Mark Messier</td>\n      <td>1756</td>\n      <td>694</td>\n      <td>1193</td>\n      <td>1887</td>\n      <td>1.075</td>\n      <td>1910</td>\n      <td>1</td>\n      <td>1979</td>\n      <td>2004</td>\n      <td>5</td>\n      <td>6</td>\n      <td>15</td>\n      <td>1</td>\n    </tr>\n    <tr>\n      <th>3</th>\n      <td>Gordie Howe</td>\n      <td>1767</td>\n      <td>801</td>\n      <td>1049</td>\n      <td>1850</td>\n      <td>1.047</td>\n      <td>1685</td>\n      <td>1</td>\n      <td>1946</td>\n      <td>1980</td>\n      <td>12</td>\n      <td>4</td>\n      <td>23</td>\n      <td>1</td>\n    </tr>\n    <tr>\n      <th>4</th>\n      <td>Ron Francis</td>\n      <td>1731</td>\n      <td>549</td>\n      <td>1249</td>\n      <td>1798</td>\n      <td>1.039</td>\n      <td>979</td>\n      <td>1</td>\n      <td>1981</td>\n      <td>2004</td>\n      <td>0</td>\n      <td>2</td>\n      <td>4</td>\n      <td>1</td>\n    </tr>\n    <tr>\n      <th>5</th>\n      <td>Marcel Dionne</td>\n      <td>1348</td>\n      <td>731</td>\n      <td>1040</td>\n      <td>1771</td>\n      <td>1.314</td>\n      <td>600</td>\n      <td>1</td>\n      <td>1971</td>\n      <td>1989</td>\n      <td>3</td>\n      <td>0</td>\n      <td>8</td>\n      <td>1</td>\n    </tr>\n  </tbody>\n</table>\n</div>"
     },
     "metadata": {},
     "execution_count": 55
    }
   ],
   "source": [
    "# Filtered the test data to only include players that played as of 1967.  Possibly improve ML predictions\n",
    "test_train_filt67_df = master_stats_file_df[(master_stats_file_df['lastYear'] >= 1967) & (master_stats_file_df['lastYear'] < 2017)]\n",
    "test_train_filt67_df.head()"
   ]
  },
  {
   "cell_type": "code",
   "execution_count": 56,
   "metadata": {},
   "outputs": [],
   "source": [
    "# Save the file to csv\n",
    "test_train_filt67_df.to_csv(\"Output/test_train_filt67_file.csv\", index=False, header=True, encoding='utf-8-sig')"
   ]
  },
  {
   "cell_type": "code",
   "execution_count": 57,
   "metadata": {},
   "outputs": [
    {
     "output_type": "execute_result",
     "data": {
      "text/plain": [
       "array([1, 2], dtype=int64)"
      ]
     },
     "metadata": {},
     "execution_count": 57
    }
   ],
   "source": [
    "# Review the different position designations.\n",
    "master_stats_file_df['POS'].unique()"
   ]
  },
  {
   "cell_type": "code",
   "execution_count": null,
   "metadata": {},
   "outputs": [],
   "source": [
    "master_stats_file_df.count"
   ]
  },
  {
   "cell_type": "code",
   "execution_count": null,
   "metadata": {},
   "outputs": [],
   "source": [
    "test_train_df.count"
   ]
  },
  {
   "cell_type": "code",
   "execution_count": null,
   "metadata": {},
   "outputs": [],
   "source": [
    "predict_df.count"
   ]
  },
  {
   "cell_type": "code",
   "execution_count": null,
   "metadata": {},
   "outputs": [],
   "source": [
    "test_train_filt67_df.count"
   ]
  },
  {
   "cell_type": "code",
   "execution_count": null,
   "metadata": {},
   "outputs": [],
   "source": [
    "test_train_filt67_df.describe()"
   ]
  },
  {
   "cell_type": "code",
   "execution_count": 58,
   "metadata": {},
   "outputs": [
    {
     "output_type": "execute_result",
     "data": {
      "text/plain": [
       "          Player    GP    G     A    TP    PPG   PIM  POS  firstYear  \\\n",
       "0  Wayne Gretzky  1487  894  1963  2857  1.921   577    1       1979   \n",
       "2   Mark Messier  1756  694  1193  1887  1.075  1910    1       1979   \n",
       "3    Gordie Howe  1767  801  1049  1850  1.047  1685    1       1946   \n",
       "4    Ron Francis  1731  549  1249  1798  1.039   979    1       1981   \n",
       "5  Marcel Dionne  1348  731  1040  1771  1.314   600    1       1971   \n",
       "\n",
       "   lastYear  Awards  Cups  All-Star Games  HoF  \n",
       "0      1999      26     4              18    1  \n",
       "2      2004       5     6              15    1  \n",
       "3      1980      12     4              23    1  \n",
       "4      2004       0     2               4    1  \n",
       "5      1989       3     0               8    1  "
      ],
      "text/html": "<div>\n<style scoped>\n    .dataframe tbody tr th:only-of-type {\n        vertical-align: middle;\n    }\n\n    .dataframe tbody tr th {\n        vertical-align: top;\n    }\n\n    .dataframe thead th {\n        text-align: right;\n    }\n</style>\n<table border=\"1\" class=\"dataframe\">\n  <thead>\n    <tr style=\"text-align: right;\">\n      <th></th>\n      <th>Player</th>\n      <th>GP</th>\n      <th>G</th>\n      <th>A</th>\n      <th>TP</th>\n      <th>PPG</th>\n      <th>PIM</th>\n      <th>POS</th>\n      <th>firstYear</th>\n      <th>lastYear</th>\n      <th>Awards</th>\n      <th>Cups</th>\n      <th>All-Star Games</th>\n      <th>HoF</th>\n    </tr>\n  </thead>\n  <tbody>\n    <tr>\n      <th>0</th>\n      <td>Wayne Gretzky</td>\n      <td>1487</td>\n      <td>894</td>\n      <td>1963</td>\n      <td>2857</td>\n      <td>1.921</td>\n      <td>577</td>\n      <td>1</td>\n      <td>1979</td>\n      <td>1999</td>\n      <td>26</td>\n      <td>4</td>\n      <td>18</td>\n      <td>1</td>\n    </tr>\n    <tr>\n      <th>2</th>\n      <td>Mark Messier</td>\n      <td>1756</td>\n      <td>694</td>\n      <td>1193</td>\n      <td>1887</td>\n      <td>1.075</td>\n      <td>1910</td>\n      <td>1</td>\n      <td>1979</td>\n      <td>2004</td>\n      <td>5</td>\n      <td>6</td>\n      <td>15</td>\n      <td>1</td>\n    </tr>\n    <tr>\n      <th>3</th>\n      <td>Gordie Howe</td>\n      <td>1767</td>\n      <td>801</td>\n      <td>1049</td>\n      <td>1850</td>\n      <td>1.047</td>\n      <td>1685</td>\n      <td>1</td>\n      <td>1946</td>\n      <td>1980</td>\n      <td>12</td>\n      <td>4</td>\n      <td>23</td>\n      <td>1</td>\n    </tr>\n    <tr>\n      <th>4</th>\n      <td>Ron Francis</td>\n      <td>1731</td>\n      <td>549</td>\n      <td>1249</td>\n      <td>1798</td>\n      <td>1.039</td>\n      <td>979</td>\n      <td>1</td>\n      <td>1981</td>\n      <td>2004</td>\n      <td>0</td>\n      <td>2</td>\n      <td>4</td>\n      <td>1</td>\n    </tr>\n    <tr>\n      <th>5</th>\n      <td>Marcel Dionne</td>\n      <td>1348</td>\n      <td>731</td>\n      <td>1040</td>\n      <td>1771</td>\n      <td>1.314</td>\n      <td>600</td>\n      <td>1</td>\n      <td>1971</td>\n      <td>1989</td>\n      <td>3</td>\n      <td>0</td>\n      <td>8</td>\n      <td>1</td>\n    </tr>\n  </tbody>\n</table>\n</div>"
     },
     "metadata": {},
     "execution_count": 58
    }
   ],
   "source": [
    "test_train_filt67_mingame_df = master_stats_file_df[(master_stats_file_df['lastYear'] >= 1967) & (master_stats_file_df['lastYear'] \n",
    "                                                    < 2017) & (master_stats_file_df['GP'] > 99)]\n",
    "test_train_filt67_mingame_df.head()"
   ]
  },
  {
   "cell_type": "code",
   "execution_count": 37,
   "metadata": {},
   "outputs": [
    {
     "output_type": "execute_result",
     "data": {
      "text/plain": [
       "                GP            G            A           TP          PPG  \\\n",
       "count  2513.000000  2513.000000  2513.000000  2513.000000  2513.000000   \n",
       "mean    527.044966    95.183446   158.686431   253.870275     0.405828   \n",
       "std     339.919446   117.741526   176.058203   285.357674     0.237029   \n",
       "min     100.000000     0.000000     1.000000     3.000000     0.028000   \n",
       "25%     231.000000    18.000000    39.000000    59.000000     0.223000   \n",
       "50%     462.000000    48.000000    95.000000   146.000000     0.363000   \n",
       "75%     756.000000   128.000000   218.000000   344.000000     0.538000   \n",
       "max    1767.000000   894.000000  1963.000000  2857.000000     1.921000   \n",
       "\n",
       "               PIM    firstYear     lastYear       Awards         Cups  \\\n",
       "count  2513.000000  2513.000000  2513.000000  2513.000000  2513.000000   \n",
       "mean    499.468762  1985.453641  1995.924791     0.099881     0.435336   \n",
       "std     511.125369    13.574148    13.466885     0.897167     1.093871   \n",
       "min       6.000000  1946.000000  1967.000000     0.000000     0.000000   \n",
       "25%     137.000000  1976.000000  1984.000000     0.000000     0.000000   \n",
       "50%     330.000000  1986.000000  1997.000000     0.000000     0.000000   \n",
       "75%     681.000000  1996.000000  2008.000000     0.000000     0.000000   \n",
       "max    3966.000000  2014.000000  2016.000000    26.000000    11.000000   \n",
       "\n",
       "       All-Star Games          HoF  \n",
       "count     2513.000000  2513.000000  \n",
       "mean         0.640271     0.042181  \n",
       "std          1.880677     0.201041  \n",
       "min          0.000000     0.000000  \n",
       "25%          0.000000     0.000000  \n",
       "50%          0.000000     0.000000  \n",
       "75%          0.000000     0.000000  \n",
       "max         23.000000     1.000000  "
      ],
      "text/html": "<div>\n<style scoped>\n    .dataframe tbody tr th:only-of-type {\n        vertical-align: middle;\n    }\n\n    .dataframe tbody tr th {\n        vertical-align: top;\n    }\n\n    .dataframe thead th {\n        text-align: right;\n    }\n</style>\n<table border=\"1\" class=\"dataframe\">\n  <thead>\n    <tr style=\"text-align: right;\">\n      <th></th>\n      <th>GP</th>\n      <th>G</th>\n      <th>A</th>\n      <th>TP</th>\n      <th>PPG</th>\n      <th>PIM</th>\n      <th>firstYear</th>\n      <th>lastYear</th>\n      <th>Awards</th>\n      <th>Cups</th>\n      <th>All-Star Games</th>\n      <th>HoF</th>\n    </tr>\n  </thead>\n  <tbody>\n    <tr>\n      <th>count</th>\n      <td>2513.000000</td>\n      <td>2513.000000</td>\n      <td>2513.000000</td>\n      <td>2513.000000</td>\n      <td>2513.000000</td>\n      <td>2513.000000</td>\n      <td>2513.000000</td>\n      <td>2513.000000</td>\n      <td>2513.000000</td>\n      <td>2513.000000</td>\n      <td>2513.000000</td>\n      <td>2513.000000</td>\n    </tr>\n    <tr>\n      <th>mean</th>\n      <td>527.044966</td>\n      <td>95.183446</td>\n      <td>158.686431</td>\n      <td>253.870275</td>\n      <td>0.405828</td>\n      <td>499.468762</td>\n      <td>1985.453641</td>\n      <td>1995.924791</td>\n      <td>0.099881</td>\n      <td>0.435336</td>\n      <td>0.640271</td>\n      <td>0.042181</td>\n    </tr>\n    <tr>\n      <th>std</th>\n      <td>339.919446</td>\n      <td>117.741526</td>\n      <td>176.058203</td>\n      <td>285.357674</td>\n      <td>0.237029</td>\n      <td>511.125369</td>\n      <td>13.574148</td>\n      <td>13.466885</td>\n      <td>0.897167</td>\n      <td>1.093871</td>\n      <td>1.880677</td>\n      <td>0.201041</td>\n    </tr>\n    <tr>\n      <th>min</th>\n      <td>100.000000</td>\n      <td>0.000000</td>\n      <td>1.000000</td>\n      <td>3.000000</td>\n      <td>0.028000</td>\n      <td>6.000000</td>\n      <td>1946.000000</td>\n      <td>1967.000000</td>\n      <td>0.000000</td>\n      <td>0.000000</td>\n      <td>0.000000</td>\n      <td>0.000000</td>\n    </tr>\n    <tr>\n      <th>25%</th>\n      <td>231.000000</td>\n      <td>18.000000</td>\n      <td>39.000000</td>\n      <td>59.000000</td>\n      <td>0.223000</td>\n      <td>137.000000</td>\n      <td>1976.000000</td>\n      <td>1984.000000</td>\n      <td>0.000000</td>\n      <td>0.000000</td>\n      <td>0.000000</td>\n      <td>0.000000</td>\n    </tr>\n    <tr>\n      <th>50%</th>\n      <td>462.000000</td>\n      <td>48.000000</td>\n      <td>95.000000</td>\n      <td>146.000000</td>\n      <td>0.363000</td>\n      <td>330.000000</td>\n      <td>1986.000000</td>\n      <td>1997.000000</td>\n      <td>0.000000</td>\n      <td>0.000000</td>\n      <td>0.000000</td>\n      <td>0.000000</td>\n    </tr>\n    <tr>\n      <th>75%</th>\n      <td>756.000000</td>\n      <td>128.000000</td>\n      <td>218.000000</td>\n      <td>344.000000</td>\n      <td>0.538000</td>\n      <td>681.000000</td>\n      <td>1996.000000</td>\n      <td>2008.000000</td>\n      <td>0.000000</td>\n      <td>0.000000</td>\n      <td>0.000000</td>\n      <td>0.000000</td>\n    </tr>\n    <tr>\n      <th>max</th>\n      <td>1767.000000</td>\n      <td>894.000000</td>\n      <td>1963.000000</td>\n      <td>2857.000000</td>\n      <td>1.921000</td>\n      <td>3966.000000</td>\n      <td>2014.000000</td>\n      <td>2016.000000</td>\n      <td>26.000000</td>\n      <td>11.000000</td>\n      <td>23.000000</td>\n      <td>1.000000</td>\n    </tr>\n  </tbody>\n</table>\n</div>"
     },
     "metadata": {},
     "execution_count": 37
    }
   ],
   "source": [
    "test_train_filt67_mingame_df.describe()"
   ]
  },
  {
   "cell_type": "code",
   "execution_count": 59,
   "metadata": {},
   "outputs": [
    {
     "output_type": "execute_result",
     "data": {
      "text/plain": [
       "          Player    GP    G     A    TP    PPG   PIM  POS  firstYear  \\\n",
       "0  Wayne Gretzky  1487  894  1963  2857  1.921   577    1       1979   \n",
       "2   Mark Messier  1756  694  1193  1887  1.075  1910    1       1979   \n",
       "3    Gordie Howe  1767  801  1049  1850  1.047  1685    1       1946   \n",
       "4    Ron Francis  1731  549  1249  1798  1.039   979    1       1981   \n",
       "5  Marcel Dionne  1348  731  1040  1771  1.314   600    1       1971   \n",
       "\n",
       "   lastYear  Awards  Cups  All-Star Games  HoF  \n",
       "0      1999      26     4              18    1  \n",
       "2      2004       5     6              15    1  \n",
       "3      1980      12     4              23    1  \n",
       "4      2004       0     2               4    1  \n",
       "5      1989       3     0               8    1  "
      ],
      "text/html": "<div>\n<style scoped>\n    .dataframe tbody tr th:only-of-type {\n        vertical-align: middle;\n    }\n\n    .dataframe tbody tr th {\n        vertical-align: top;\n    }\n\n    .dataframe thead th {\n        text-align: right;\n    }\n</style>\n<table border=\"1\" class=\"dataframe\">\n  <thead>\n    <tr style=\"text-align: right;\">\n      <th></th>\n      <th>Player</th>\n      <th>GP</th>\n      <th>G</th>\n      <th>A</th>\n      <th>TP</th>\n      <th>PPG</th>\n      <th>PIM</th>\n      <th>POS</th>\n      <th>firstYear</th>\n      <th>lastYear</th>\n      <th>Awards</th>\n      <th>Cups</th>\n      <th>All-Star Games</th>\n      <th>HoF</th>\n    </tr>\n  </thead>\n  <tbody>\n    <tr>\n      <th>0</th>\n      <td>Wayne Gretzky</td>\n      <td>1487</td>\n      <td>894</td>\n      <td>1963</td>\n      <td>2857</td>\n      <td>1.921</td>\n      <td>577</td>\n      <td>1</td>\n      <td>1979</td>\n      <td>1999</td>\n      <td>26</td>\n      <td>4</td>\n      <td>18</td>\n      <td>1</td>\n    </tr>\n    <tr>\n      <th>2</th>\n      <td>Mark Messier</td>\n      <td>1756</td>\n      <td>694</td>\n      <td>1193</td>\n      <td>1887</td>\n      <td>1.075</td>\n      <td>1910</td>\n      <td>1</td>\n      <td>1979</td>\n      <td>2004</td>\n      <td>5</td>\n      <td>6</td>\n      <td>15</td>\n      <td>1</td>\n    </tr>\n    <tr>\n      <th>3</th>\n      <td>Gordie Howe</td>\n      <td>1767</td>\n      <td>801</td>\n      <td>1049</td>\n      <td>1850</td>\n      <td>1.047</td>\n      <td>1685</td>\n      <td>1</td>\n      <td>1946</td>\n      <td>1980</td>\n      <td>12</td>\n      <td>4</td>\n      <td>23</td>\n      <td>1</td>\n    </tr>\n    <tr>\n      <th>4</th>\n      <td>Ron Francis</td>\n      <td>1731</td>\n      <td>549</td>\n      <td>1249</td>\n      <td>1798</td>\n      <td>1.039</td>\n      <td>979</td>\n      <td>1</td>\n      <td>1981</td>\n      <td>2004</td>\n      <td>0</td>\n      <td>2</td>\n      <td>4</td>\n      <td>1</td>\n    </tr>\n    <tr>\n      <th>5</th>\n      <td>Marcel Dionne</td>\n      <td>1348</td>\n      <td>731</td>\n      <td>1040</td>\n      <td>1771</td>\n      <td>1.314</td>\n      <td>600</td>\n      <td>1</td>\n      <td>1971</td>\n      <td>1989</td>\n      <td>3</td>\n      <td>0</td>\n      <td>8</td>\n      <td>1</td>\n    </tr>\n  </tbody>\n</table>\n</div>"
     },
     "metadata": {},
     "execution_count": 59
    }
   ],
   "source": [
    "t_t_filt67_100gp_df = master_stats_file_df[(master_stats_file_df['lastYear'] >= 1967) & (master_stats_file_df['lastYear'] < 2017) & \n",
    "                                           (master_stats_file_df['GP'] > 100) | (master_stats_file_df['lastYear'] >= 2017) &                                                        (master_stats_file_df['HoF'] == 1)]\n",
    "t_t_filt67_100gp_df.head()"
   ]
  },
  {
   "cell_type": "code",
   "execution_count": 60,
   "metadata": {},
   "outputs": [],
   "source": [
    "t_t_filt67_100gp_df.to_csv(\"Output/tt_filt67_100GP_file.csv\", index=False, header=True, encoding='utf-8-sig')"
   ]
  },
  {
   "cell_type": "code",
   "execution_count": 61,
   "metadata": {},
   "outputs": [
    {
     "output_type": "execute_result",
     "data": {
      "text/plain": [
       "          Player    GP    G     A    TP    PPG   PIM  POS  firstYear  \\\n",
       "0  Wayne Gretzky  1487  894  1963  2857  1.921   577    1       1979   \n",
       "2   Mark Messier  1756  694  1193  1887  1.075  1910    1       1979   \n",
       "3    Gordie Howe  1767  801  1049  1850  1.047  1685    1       1946   \n",
       "4    Ron Francis  1731  549  1249  1798  1.039   979    1       1981   \n",
       "5  Marcel Dionne  1348  731  1040  1771  1.314   600    1       1971   \n",
       "\n",
       "   lastYear  Awards  Cups  All-Star Games  HoF  \n",
       "0      1999      26     4              18    1  \n",
       "2      2004       5     6              15    1  \n",
       "3      1980      12     4              23    1  \n",
       "4      2004       0     2               4    1  \n",
       "5      1989       3     0               8    1  "
      ],
      "text/html": "<div>\n<style scoped>\n    .dataframe tbody tr th:only-of-type {\n        vertical-align: middle;\n    }\n\n    .dataframe tbody tr th {\n        vertical-align: top;\n    }\n\n    .dataframe thead th {\n        text-align: right;\n    }\n</style>\n<table border=\"1\" class=\"dataframe\">\n  <thead>\n    <tr style=\"text-align: right;\">\n      <th></th>\n      <th>Player</th>\n      <th>GP</th>\n      <th>G</th>\n      <th>A</th>\n      <th>TP</th>\n      <th>PPG</th>\n      <th>PIM</th>\n      <th>POS</th>\n      <th>firstYear</th>\n      <th>lastYear</th>\n      <th>Awards</th>\n      <th>Cups</th>\n      <th>All-Star Games</th>\n      <th>HoF</th>\n    </tr>\n  </thead>\n  <tbody>\n    <tr>\n      <th>0</th>\n      <td>Wayne Gretzky</td>\n      <td>1487</td>\n      <td>894</td>\n      <td>1963</td>\n      <td>2857</td>\n      <td>1.921</td>\n      <td>577</td>\n      <td>1</td>\n      <td>1979</td>\n      <td>1999</td>\n      <td>26</td>\n      <td>4</td>\n      <td>18</td>\n      <td>1</td>\n    </tr>\n    <tr>\n      <th>2</th>\n      <td>Mark Messier</td>\n      <td>1756</td>\n      <td>694</td>\n      <td>1193</td>\n      <td>1887</td>\n      <td>1.075</td>\n      <td>1910</td>\n      <td>1</td>\n      <td>1979</td>\n      <td>2004</td>\n      <td>5</td>\n      <td>6</td>\n      <td>15</td>\n      <td>1</td>\n    </tr>\n    <tr>\n      <th>3</th>\n      <td>Gordie Howe</td>\n      <td>1767</td>\n      <td>801</td>\n      <td>1049</td>\n      <td>1850</td>\n      <td>1.047</td>\n      <td>1685</td>\n      <td>1</td>\n      <td>1946</td>\n      <td>1980</td>\n      <td>12</td>\n      <td>4</td>\n      <td>23</td>\n      <td>1</td>\n    </tr>\n    <tr>\n      <th>4</th>\n      <td>Ron Francis</td>\n      <td>1731</td>\n      <td>549</td>\n      <td>1249</td>\n      <td>1798</td>\n      <td>1.039</td>\n      <td>979</td>\n      <td>1</td>\n      <td>1981</td>\n      <td>2004</td>\n      <td>0</td>\n      <td>2</td>\n      <td>4</td>\n      <td>1</td>\n    </tr>\n    <tr>\n      <th>5</th>\n      <td>Marcel Dionne</td>\n      <td>1348</td>\n      <td>731</td>\n      <td>1040</td>\n      <td>1771</td>\n      <td>1.314</td>\n      <td>600</td>\n      <td>1</td>\n      <td>1971</td>\n      <td>1989</td>\n      <td>3</td>\n      <td>0</td>\n      <td>8</td>\n      <td>1</td>\n    </tr>\n  </tbody>\n</table>\n</div>"
     },
     "metadata": {},
     "execution_count": 61
    }
   ],
   "source": [
    "t_t_filt67_100tp_df = master_stats_file_df[(master_stats_file_df['lastYear'] >= 1967) & (master_stats_file_df['lastYear'] < 2017) & \n",
    "(master_stats_file_df['TP'] > 100) | (master_stats_file_df['lastYear'] >= 2017) & (master_stats_file_df['HoF'] == 1)]\n",
    "t_t_filt67_100tp_df.head()"
   ]
  },
  {
   "cell_type": "code",
   "execution_count": 62,
   "metadata": {},
   "outputs": [],
   "source": [
    "t_t_filt67_100tp_df.to_csv(\"Output/tt_filt67_100TP_file.csv\", index=False, header=True, encoding='utf-8-sig')"
   ]
  },
  {
   "cell_type": "code",
   "execution_count": null,
   "metadata": {},
   "outputs": [],
   "source": []
  }
 ]
}