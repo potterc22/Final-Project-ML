{
 "metadata": {
  "language_info": {
   "codemirror_mode": {
    "name": "ipython",
    "version": 3
   },
   "file_extension": ".py",
   "mimetype": "text/x-python",
   "name": "python",
   "nbconvert_exporter": "python",
   "pygments_lexer": "ipython3",
   "version": "3.6.10-final"
  },
  "orig_nbformat": 2,
  "kernelspec": {
   "name": "python3",
   "display_name": "Python 3",
   "language": "python"
  }
 },
 "nbformat": 4,
 "nbformat_minor": 2,
 "cells": [
  {
   "cell_type": "code",
   "execution_count": 1,
   "metadata": {},
   "outputs": [],
   "source": [
    "import pandas as pd "
   ]
  },
  {
   "cell_type": "code",
   "execution_count": 2,
   "metadata": {},
   "outputs": [],
   "source": [
    "hof_csv = \"../Master\\data\\HOF.csv\"\n",
    "master_csv = \"../Master/data/Master.csv\"\n",
    "scoring_csv = \"../Master/data/Scoring.csv\""
   ]
  },
  {
   "cell_type": "code",
   "execution_count": 3,
   "metadata": {},
   "outputs": [
    {
     "output_type": "execute_result",
     "data": {
      "text/plain": [
       "   year       hofID              name category\n",
       "0  1945  bakerho01h       Hobey Baker   Player\n",
       "1  1945  gardich01h  Charlie Gardiner   Player\n",
       "2  1945  gerared01h      Eddie Gerard   Player\n",
       "3  1945  mcgeefr01h       Frank McGee   Player\n",
       "4  1945  morenho01h      Howie Morenz   Player"
      ],
      "text/html": "<div>\n<style scoped>\n    .dataframe tbody tr th:only-of-type {\n        vertical-align: middle;\n    }\n\n    .dataframe tbody tr th {\n        vertical-align: top;\n    }\n\n    .dataframe thead th {\n        text-align: right;\n    }\n</style>\n<table border=\"1\" class=\"dataframe\">\n  <thead>\n    <tr style=\"text-align: right;\">\n      <th></th>\n      <th>year</th>\n      <th>hofID</th>\n      <th>name</th>\n      <th>category</th>\n    </tr>\n  </thead>\n  <tbody>\n    <tr>\n      <th>0</th>\n      <td>1945</td>\n      <td>bakerho01h</td>\n      <td>Hobey Baker</td>\n      <td>Player</td>\n    </tr>\n    <tr>\n      <th>1</th>\n      <td>1945</td>\n      <td>gardich01h</td>\n      <td>Charlie Gardiner</td>\n      <td>Player</td>\n    </tr>\n    <tr>\n      <th>2</th>\n      <td>1945</td>\n      <td>gerared01h</td>\n      <td>Eddie Gerard</td>\n      <td>Player</td>\n    </tr>\n    <tr>\n      <th>3</th>\n      <td>1945</td>\n      <td>mcgeefr01h</td>\n      <td>Frank McGee</td>\n      <td>Player</td>\n    </tr>\n    <tr>\n      <th>4</th>\n      <td>1945</td>\n      <td>morenho01h</td>\n      <td>Howie Morenz</td>\n      <td>Player</td>\n    </tr>\n  </tbody>\n</table>\n</div>"
     },
     "metadata": {},
     "execution_count": 3
    }
   ],
   "source": [
    "hof_df = pd.read_csv(hof_csv)\n",
    "hof_df.head()"
   ]
  },
  {
   "cell_type": "code",
   "execution_count": 4,
   "metadata": {},
   "outputs": [
    {
     "output_type": "execute_result",
     "data": {
      "text/plain": [
       "    playerID coachID hofID firstName    lastName nameNote         nameGiven  \\\n",
       "0  aaltoan01     NaN   NaN     Antti       Aalto      NaN             Antti   \n",
       "1  abbeybr01     NaN   NaN     Bruce       Abbey      NaN             Bruce   \n",
       "2  abbotge01     NaN   NaN    George      Abbott      NaN      George Henry   \n",
       "3  abbotre01     NaN   NaN       Reg      Abbott      NaN  Reginald Stewart   \n",
       "4  abdelju01     NaN   NaN    Justin  Abdelkader      NaN               NaN   \n",
       "\n",
       "   nameNick  height  weight  ... birthDay birthCountry  birthState  \\\n",
       "0       NaN    73.0   210.0  ...      4.0      Finland         NaN   \n",
       "1       NaN    73.0   185.0  ...     18.0       Canada          ON   \n",
       "2  Preacher    67.0   153.0  ...      3.0       Canada          ON   \n",
       "3       NaN    71.0   164.0  ...      4.0       Canada          MB   \n",
       "4       NaN    73.0   195.0  ...     25.0          USA          MI   \n",
       "\n",
       "      birthCity  deathYear  deathMon  deathDay  deathCountry deathState  \\\n",
       "0  Lappeenranta        NaN       NaN       NaN           NaN        NaN   \n",
       "1       Toronto        NaN       NaN       NaN           NaN        NaN   \n",
       "2      Synenham        NaN       NaN       NaN           NaN        NaN   \n",
       "3      Winnipeg        NaN       NaN       NaN           NaN        NaN   \n",
       "4      Muskegon        NaN       NaN       NaN           NaN        NaN   \n",
       "\n",
       "   deathCity  \n",
       "0        NaN  \n",
       "1        NaN  \n",
       "2        NaN  \n",
       "3        NaN  \n",
       "4        NaN  \n",
       "\n",
       "[5 rows x 31 columns]"
      ],
      "text/html": "<div>\n<style scoped>\n    .dataframe tbody tr th:only-of-type {\n        vertical-align: middle;\n    }\n\n    .dataframe tbody tr th {\n        vertical-align: top;\n    }\n\n    .dataframe thead th {\n        text-align: right;\n    }\n</style>\n<table border=\"1\" class=\"dataframe\">\n  <thead>\n    <tr style=\"text-align: right;\">\n      <th></th>\n      <th>playerID</th>\n      <th>coachID</th>\n      <th>hofID</th>\n      <th>firstName</th>\n      <th>lastName</th>\n      <th>nameNote</th>\n      <th>nameGiven</th>\n      <th>nameNick</th>\n      <th>height</th>\n      <th>weight</th>\n      <th>...</th>\n      <th>birthDay</th>\n      <th>birthCountry</th>\n      <th>birthState</th>\n      <th>birthCity</th>\n      <th>deathYear</th>\n      <th>deathMon</th>\n      <th>deathDay</th>\n      <th>deathCountry</th>\n      <th>deathState</th>\n      <th>deathCity</th>\n    </tr>\n  </thead>\n  <tbody>\n    <tr>\n      <th>0</th>\n      <td>aaltoan01</td>\n      <td>NaN</td>\n      <td>NaN</td>\n      <td>Antti</td>\n      <td>Aalto</td>\n      <td>NaN</td>\n      <td>Antti</td>\n      <td>NaN</td>\n      <td>73.0</td>\n      <td>210.0</td>\n      <td>...</td>\n      <td>4.0</td>\n      <td>Finland</td>\n      <td>NaN</td>\n      <td>Lappeenranta</td>\n      <td>NaN</td>\n      <td>NaN</td>\n      <td>NaN</td>\n      <td>NaN</td>\n      <td>NaN</td>\n      <td>NaN</td>\n    </tr>\n    <tr>\n      <th>1</th>\n      <td>abbeybr01</td>\n      <td>NaN</td>\n      <td>NaN</td>\n      <td>Bruce</td>\n      <td>Abbey</td>\n      <td>NaN</td>\n      <td>Bruce</td>\n      <td>NaN</td>\n      <td>73.0</td>\n      <td>185.0</td>\n      <td>...</td>\n      <td>18.0</td>\n      <td>Canada</td>\n      <td>ON</td>\n      <td>Toronto</td>\n      <td>NaN</td>\n      <td>NaN</td>\n      <td>NaN</td>\n      <td>NaN</td>\n      <td>NaN</td>\n      <td>NaN</td>\n    </tr>\n    <tr>\n      <th>2</th>\n      <td>abbotge01</td>\n      <td>NaN</td>\n      <td>NaN</td>\n      <td>George</td>\n      <td>Abbott</td>\n      <td>NaN</td>\n      <td>George Henry</td>\n      <td>Preacher</td>\n      <td>67.0</td>\n      <td>153.0</td>\n      <td>...</td>\n      <td>3.0</td>\n      <td>Canada</td>\n      <td>ON</td>\n      <td>Synenham</td>\n      <td>NaN</td>\n      <td>NaN</td>\n      <td>NaN</td>\n      <td>NaN</td>\n      <td>NaN</td>\n      <td>NaN</td>\n    </tr>\n    <tr>\n      <th>3</th>\n      <td>abbotre01</td>\n      <td>NaN</td>\n      <td>NaN</td>\n      <td>Reg</td>\n      <td>Abbott</td>\n      <td>NaN</td>\n      <td>Reginald Stewart</td>\n      <td>NaN</td>\n      <td>71.0</td>\n      <td>164.0</td>\n      <td>...</td>\n      <td>4.0</td>\n      <td>Canada</td>\n      <td>MB</td>\n      <td>Winnipeg</td>\n      <td>NaN</td>\n      <td>NaN</td>\n      <td>NaN</td>\n      <td>NaN</td>\n      <td>NaN</td>\n      <td>NaN</td>\n    </tr>\n    <tr>\n      <th>4</th>\n      <td>abdelju01</td>\n      <td>NaN</td>\n      <td>NaN</td>\n      <td>Justin</td>\n      <td>Abdelkader</td>\n      <td>NaN</td>\n      <td>NaN</td>\n      <td>NaN</td>\n      <td>73.0</td>\n      <td>195.0</td>\n      <td>...</td>\n      <td>25.0</td>\n      <td>USA</td>\n      <td>MI</td>\n      <td>Muskegon</td>\n      <td>NaN</td>\n      <td>NaN</td>\n      <td>NaN</td>\n      <td>NaN</td>\n      <td>NaN</td>\n      <td>NaN</td>\n    </tr>\n  </tbody>\n</table>\n<p>5 rows × 31 columns</p>\n</div>"
     },
     "metadata": {},
     "execution_count": 4
    }
   ],
   "source": [
    "master_df = pd.read_csv(master_csv)\n",
    "master_df.head()"
   ]
  },
  {
   "cell_type": "code",
   "execution_count": 5,
   "metadata": {},
   "outputs": [
    {
     "output_type": "execute_result",
     "data": {
      "text/plain": [
       "    playerID  year  stint tmID lgID pos    GP    G     A   Pts  ...  PostA  \\\n",
       "0  aaltoan01  1997      1  ANA  NHL   C   3.0  0.0   0.0   0.0  ...    NaN   \n",
       "1  aaltoan01  1998      1  ANA  NHL   C  73.0  3.0   5.0   8.0  ...    0.0   \n",
       "2  aaltoan01  1999      1  ANA  NHL   C  63.0  7.0  11.0  18.0  ...    NaN   \n",
       "3  aaltoan01  2000      1  ANA  NHL   C  12.0  1.0   1.0   2.0  ...    NaN   \n",
       "4  abbeybr01  1975      1  CIN  WHA   D  17.0  1.0   0.0   1.0  ...    NaN   \n",
       "\n",
       "   PostPts  PostPIM  Post+/-  PostPPG  PostPPA  PostSHG  PostSHA  PostGWG  \\\n",
       "0      NaN      NaN      NaN      NaN      NaN      NaN      NaN      NaN   \n",
       "1      0.0      2.0      0.0      0.0      0.0      0.0      0.0      0.0   \n",
       "2      NaN      NaN      NaN      NaN      NaN      NaN      NaN      NaN   \n",
       "3      NaN      NaN      NaN      NaN      NaN      NaN      NaN      NaN   \n",
       "4      NaN      NaN      NaN      NaN      NaN      NaN      NaN      NaN   \n",
       "\n",
       "   PostSOG  \n",
       "0      NaN  \n",
       "1      0.0  \n",
       "2      NaN  \n",
       "3      NaN  \n",
       "4      NaN  \n",
       "\n",
       "[5 rows x 31 columns]"
      ],
      "text/html": "<div>\n<style scoped>\n    .dataframe tbody tr th:only-of-type {\n        vertical-align: middle;\n    }\n\n    .dataframe tbody tr th {\n        vertical-align: top;\n    }\n\n    .dataframe thead th {\n        text-align: right;\n    }\n</style>\n<table border=\"1\" class=\"dataframe\">\n  <thead>\n    <tr style=\"text-align: right;\">\n      <th></th>\n      <th>playerID</th>\n      <th>year</th>\n      <th>stint</th>\n      <th>tmID</th>\n      <th>lgID</th>\n      <th>pos</th>\n      <th>GP</th>\n      <th>G</th>\n      <th>A</th>\n      <th>Pts</th>\n      <th>...</th>\n      <th>PostA</th>\n      <th>PostPts</th>\n      <th>PostPIM</th>\n      <th>Post+/-</th>\n      <th>PostPPG</th>\n      <th>PostPPA</th>\n      <th>PostSHG</th>\n      <th>PostSHA</th>\n      <th>PostGWG</th>\n      <th>PostSOG</th>\n    </tr>\n  </thead>\n  <tbody>\n    <tr>\n      <th>0</th>\n      <td>aaltoan01</td>\n      <td>1997</td>\n      <td>1</td>\n      <td>ANA</td>\n      <td>NHL</td>\n      <td>C</td>\n      <td>3.0</td>\n      <td>0.0</td>\n      <td>0.0</td>\n      <td>0.0</td>\n      <td>...</td>\n      <td>NaN</td>\n      <td>NaN</td>\n      <td>NaN</td>\n      <td>NaN</td>\n      <td>NaN</td>\n      <td>NaN</td>\n      <td>NaN</td>\n      <td>NaN</td>\n      <td>NaN</td>\n      <td>NaN</td>\n    </tr>\n    <tr>\n      <th>1</th>\n      <td>aaltoan01</td>\n      <td>1998</td>\n      <td>1</td>\n      <td>ANA</td>\n      <td>NHL</td>\n      <td>C</td>\n      <td>73.0</td>\n      <td>3.0</td>\n      <td>5.0</td>\n      <td>8.0</td>\n      <td>...</td>\n      <td>0.0</td>\n      <td>0.0</td>\n      <td>2.0</td>\n      <td>0.0</td>\n      <td>0.0</td>\n      <td>0.0</td>\n      <td>0.0</td>\n      <td>0.0</td>\n      <td>0.0</td>\n      <td>0.0</td>\n    </tr>\n    <tr>\n      <th>2</th>\n      <td>aaltoan01</td>\n      <td>1999</td>\n      <td>1</td>\n      <td>ANA</td>\n      <td>NHL</td>\n      <td>C</td>\n      <td>63.0</td>\n      <td>7.0</td>\n      <td>11.0</td>\n      <td>18.0</td>\n      <td>...</td>\n      <td>NaN</td>\n      <td>NaN</td>\n      <td>NaN</td>\n      <td>NaN</td>\n      <td>NaN</td>\n      <td>NaN</td>\n      <td>NaN</td>\n      <td>NaN</td>\n      <td>NaN</td>\n      <td>NaN</td>\n    </tr>\n    <tr>\n      <th>3</th>\n      <td>aaltoan01</td>\n      <td>2000</td>\n      <td>1</td>\n      <td>ANA</td>\n      <td>NHL</td>\n      <td>C</td>\n      <td>12.0</td>\n      <td>1.0</td>\n      <td>1.0</td>\n      <td>2.0</td>\n      <td>...</td>\n      <td>NaN</td>\n      <td>NaN</td>\n      <td>NaN</td>\n      <td>NaN</td>\n      <td>NaN</td>\n      <td>NaN</td>\n      <td>NaN</td>\n      <td>NaN</td>\n      <td>NaN</td>\n      <td>NaN</td>\n    </tr>\n    <tr>\n      <th>4</th>\n      <td>abbeybr01</td>\n      <td>1975</td>\n      <td>1</td>\n      <td>CIN</td>\n      <td>WHA</td>\n      <td>D</td>\n      <td>17.0</td>\n      <td>1.0</td>\n      <td>0.0</td>\n      <td>1.0</td>\n      <td>...</td>\n      <td>NaN</td>\n      <td>NaN</td>\n      <td>NaN</td>\n      <td>NaN</td>\n      <td>NaN</td>\n      <td>NaN</td>\n      <td>NaN</td>\n      <td>NaN</td>\n      <td>NaN</td>\n      <td>NaN</td>\n    </tr>\n  </tbody>\n</table>\n<p>5 rows × 31 columns</p>\n</div>"
     },
     "metadata": {},
     "execution_count": 5
    }
   ],
   "source": [
    "scoring_df = pd.read_csv(scoring_csv)\n",
    "scoring_df.head()"
   ]
  },
  {
   "cell_type": "code",
   "execution_count": 6,
   "metadata": {},
   "outputs": [
    {
     "output_type": "execute_result",
     "data": {
      "text/plain": [
       "    playerID  year  stint tmID lgID pos    GP    G     A   Pts  ...  PostA  \\\n",
       "0  aaltoan01  1997      1  ANA  NHL   C   3.0  0.0   0.0   0.0  ...    NaN   \n",
       "1  aaltoan01  1998      1  ANA  NHL   C  73.0  3.0   5.0   8.0  ...    0.0   \n",
       "2  aaltoan01  1999      1  ANA  NHL   C  63.0  7.0  11.0  18.0  ...    NaN   \n",
       "3  aaltoan01  2000      1  ANA  NHL   C  12.0  1.0   1.0   2.0  ...    NaN   \n",
       "5  abbotge01  1943      1  BOS  NHL   G   1.0  0.0   0.0   0.0  ...    NaN   \n",
       "\n",
       "   PostPts  PostPIM  Post+/-  PostPPG  PostPPA  PostSHG  PostSHA  PostGWG  \\\n",
       "0      NaN      NaN      NaN      NaN      NaN      NaN      NaN      NaN   \n",
       "1      0.0      2.0      0.0      0.0      0.0      0.0      0.0      0.0   \n",
       "2      NaN      NaN      NaN      NaN      NaN      NaN      NaN      NaN   \n",
       "3      NaN      NaN      NaN      NaN      NaN      NaN      NaN      NaN   \n",
       "5      NaN      NaN      NaN      NaN      NaN      NaN      NaN      NaN   \n",
       "\n",
       "   PostSOG  \n",
       "0      NaN  \n",
       "1      0.0  \n",
       "2      NaN  \n",
       "3      NaN  \n",
       "5      NaN  \n",
       "\n",
       "[5 rows x 31 columns]"
      ],
      "text/html": "<div>\n<style scoped>\n    .dataframe tbody tr th:only-of-type {\n        vertical-align: middle;\n    }\n\n    .dataframe tbody tr th {\n        vertical-align: top;\n    }\n\n    .dataframe thead th {\n        text-align: right;\n    }\n</style>\n<table border=\"1\" class=\"dataframe\">\n  <thead>\n    <tr style=\"text-align: right;\">\n      <th></th>\n      <th>playerID</th>\n      <th>year</th>\n      <th>stint</th>\n      <th>tmID</th>\n      <th>lgID</th>\n      <th>pos</th>\n      <th>GP</th>\n      <th>G</th>\n      <th>A</th>\n      <th>Pts</th>\n      <th>...</th>\n      <th>PostA</th>\n      <th>PostPts</th>\n      <th>PostPIM</th>\n      <th>Post+/-</th>\n      <th>PostPPG</th>\n      <th>PostPPA</th>\n      <th>PostSHG</th>\n      <th>PostSHA</th>\n      <th>PostGWG</th>\n      <th>PostSOG</th>\n    </tr>\n  </thead>\n  <tbody>\n    <tr>\n      <th>0</th>\n      <td>aaltoan01</td>\n      <td>1997</td>\n      <td>1</td>\n      <td>ANA</td>\n      <td>NHL</td>\n      <td>C</td>\n      <td>3.0</td>\n      <td>0.0</td>\n      <td>0.0</td>\n      <td>0.0</td>\n      <td>...</td>\n      <td>NaN</td>\n      <td>NaN</td>\n      <td>NaN</td>\n      <td>NaN</td>\n      <td>NaN</td>\n      <td>NaN</td>\n      <td>NaN</td>\n      <td>NaN</td>\n      <td>NaN</td>\n      <td>NaN</td>\n    </tr>\n    <tr>\n      <th>1</th>\n      <td>aaltoan01</td>\n      <td>1998</td>\n      <td>1</td>\n      <td>ANA</td>\n      <td>NHL</td>\n      <td>C</td>\n      <td>73.0</td>\n      <td>3.0</td>\n      <td>5.0</td>\n      <td>8.0</td>\n      <td>...</td>\n      <td>0.0</td>\n      <td>0.0</td>\n      <td>2.0</td>\n      <td>0.0</td>\n      <td>0.0</td>\n      <td>0.0</td>\n      <td>0.0</td>\n      <td>0.0</td>\n      <td>0.0</td>\n      <td>0.0</td>\n    </tr>\n    <tr>\n      <th>2</th>\n      <td>aaltoan01</td>\n      <td>1999</td>\n      <td>1</td>\n      <td>ANA</td>\n      <td>NHL</td>\n      <td>C</td>\n      <td>63.0</td>\n      <td>7.0</td>\n      <td>11.0</td>\n      <td>18.0</td>\n      <td>...</td>\n      <td>NaN</td>\n      <td>NaN</td>\n      <td>NaN</td>\n      <td>NaN</td>\n      <td>NaN</td>\n      <td>NaN</td>\n      <td>NaN</td>\n      <td>NaN</td>\n      <td>NaN</td>\n      <td>NaN</td>\n    </tr>\n    <tr>\n      <th>3</th>\n      <td>aaltoan01</td>\n      <td>2000</td>\n      <td>1</td>\n      <td>ANA</td>\n      <td>NHL</td>\n      <td>C</td>\n      <td>12.0</td>\n      <td>1.0</td>\n      <td>1.0</td>\n      <td>2.0</td>\n      <td>...</td>\n      <td>NaN</td>\n      <td>NaN</td>\n      <td>NaN</td>\n      <td>NaN</td>\n      <td>NaN</td>\n      <td>NaN</td>\n      <td>NaN</td>\n      <td>NaN</td>\n      <td>NaN</td>\n      <td>NaN</td>\n    </tr>\n    <tr>\n      <th>5</th>\n      <td>abbotge01</td>\n      <td>1943</td>\n      <td>1</td>\n      <td>BOS</td>\n      <td>NHL</td>\n      <td>G</td>\n      <td>1.0</td>\n      <td>0.0</td>\n      <td>0.0</td>\n      <td>0.0</td>\n      <td>...</td>\n      <td>NaN</td>\n      <td>NaN</td>\n      <td>NaN</td>\n      <td>NaN</td>\n      <td>NaN</td>\n      <td>NaN</td>\n      <td>NaN</td>\n      <td>NaN</td>\n      <td>NaN</td>\n      <td>NaN</td>\n    </tr>\n  </tbody>\n</table>\n<p>5 rows × 31 columns</p>\n</div>"
     },
     "metadata": {},
     "execution_count": 6
    }
   ],
   "source": [
    "scoring_df = scoring_df.loc[scoring_df['lgID'] == 'NHL']\n",
    "scoring_df.head()"
   ]
  },
  {
   "cell_type": "code",
   "execution_count": 31,
   "metadata": {},
   "outputs": [],
   "source": [
    "from splinter import Browser\n",
    "from bs4 import BeautifulSoup\n",
    "import time\n",
    "import requests"
   ]
  },
  {
   "source": [
    "## Art Ross Trophy Winners\n",
    "### League's Scoring Champion since 1918"
   ],
   "cell_type": "markdown",
   "metadata": {}
  },
  {
   "cell_type": "code",
   "execution_count": 59,
   "metadata": {
    "tags": []
   },
   "outputs": [
    {
     "output_type": "execute_result",
     "data": {
      "text/plain": [
       "   Year           Player                 Team     Award\n",
       "0  2020   Leon Draisaitl      Edmonton Oilers  Art Ross\n",
       "1  2019  Nikita Kucherov  Tampa Bay Lightning  Art Ross\n",
       "2  2018   Connor McDavid      Edmonton Oilers  Art Ross\n",
       "3  2017   Connor McDavid      Edmonton Oilers  Art Ross\n",
       "4  2016     Patrick Kane   Chicago Blackhawks  Art Ross"
      ],
      "text/html": "<div>\n<style scoped>\n    .dataframe tbody tr th:only-of-type {\n        vertical-align: middle;\n    }\n\n    .dataframe tbody tr th {\n        vertical-align: top;\n    }\n\n    .dataframe thead th {\n        text-align: right;\n    }\n</style>\n<table border=\"1\" class=\"dataframe\">\n  <thead>\n    <tr style=\"text-align: right;\">\n      <th></th>\n      <th>Year</th>\n      <th>Player</th>\n      <th>Team</th>\n      <th>Award</th>\n    </tr>\n  </thead>\n  <tbody>\n    <tr>\n      <th>0</th>\n      <td>2020</td>\n      <td>Leon Draisaitl</td>\n      <td>Edmonton Oilers</td>\n      <td>Art Ross</td>\n    </tr>\n    <tr>\n      <th>1</th>\n      <td>2019</td>\n      <td>Nikita Kucherov</td>\n      <td>Tampa Bay Lightning</td>\n      <td>Art Ross</td>\n    </tr>\n    <tr>\n      <th>2</th>\n      <td>2018</td>\n      <td>Connor McDavid</td>\n      <td>Edmonton Oilers</td>\n      <td>Art Ross</td>\n    </tr>\n    <tr>\n      <th>3</th>\n      <td>2017</td>\n      <td>Connor McDavid</td>\n      <td>Edmonton Oilers</td>\n      <td>Art Ross</td>\n    </tr>\n    <tr>\n      <th>4</th>\n      <td>2016</td>\n      <td>Patrick Kane</td>\n      <td>Chicago Blackhawks</td>\n      <td>Art Ross</td>\n    </tr>\n  </tbody>\n</table>\n</div>"
     },
     "metadata": {},
     "execution_count": 59
    }
   ],
   "source": [
    "url = f'https://www.nhl.com/news/nhl-art-ross-trophy-winners-complete-list/c-287899824?tid=287709666'\n",
    "\n",
    "# Retrieve page with the requests module\n",
    "html = requests.get(url).text\n",
    "\n",
    "# Create BeautifulSoup object; parse with 'html.parser'\n",
    "soup = BeautifulSoup(html, 'html.parser')\n",
    "\n",
    "# results are returned as a list\n",
    "body = soup.find('div', class_='article-item__body')\n",
    "\n",
    "results = body.find_all('li')\n",
    "\n",
    "winners = []\n",
    "for result in results:\n",
    "    # Error handling\n",
    "    try:\n",
    "        #print(result)\n",
    "        row = result.text\n",
    "        #print(f'row: {row}')\n",
    "        words = row.split(':')\n",
    "        more_words = words[1].split(',')\n",
    "\n",
    "        winner = [words[0], more_words[0].strip(), more_words[1].strip(), 'Art Ross']\n",
    "        #print(winner)\n",
    "        winners.append(winner)\n",
    "\n",
    "    except AttributeError as error:\n",
    "        print(error)\n",
    "\n",
    "# convert list of lists into DataFrame\n",
    "art_ross_df = pd.DataFrame(winners, columns = ['Year', 'Player', 'Team', 'Award'])\n",
    "# convert year column to int for filtering purposes\n",
    "art_ross_df['Year'] = art_ross_df['Year'].astype(int)\n",
    "# filter dataframe \n",
    "art_ross_df = art_ross_df.loc[art_ross_df['Year'] >= 1967,:]\n",
    "art_ross_df.head()"
   ]
  },
  {
   "source": [
    "## Hart Memorial Trophy Winners\n",
    "### Regular-Season MVPs since 1924"
   ],
   "cell_type": "markdown",
   "metadata": {}
  },
  {
   "cell_type": "code",
   "execution_count": 60,
   "metadata": {},
   "outputs": [
    {
     "output_type": "execute_result",
     "data": {
      "text/plain": [
       "   Year           Player                 Team          Award\n",
       "0  2020   Leon Draisaitl      Edmonton Oilers  Hart Memorial\n",
       "1  2019  Nikita Kucherov  Tampa Bay Lightning  Hart Memorial\n",
       "2  2018      Taylor Hall    New Jersey Devils  Hart Memorial\n",
       "3  2017   Connor McDavid      Edmonton Oilers  Hart Memorial\n",
       "4  2016     Patrick Kane   Chicago Blackhawks  Hart Memorial"
      ],
      "text/html": "<div>\n<style scoped>\n    .dataframe tbody tr th:only-of-type {\n        vertical-align: middle;\n    }\n\n    .dataframe tbody tr th {\n        vertical-align: top;\n    }\n\n    .dataframe thead th {\n        text-align: right;\n    }\n</style>\n<table border=\"1\" class=\"dataframe\">\n  <thead>\n    <tr style=\"text-align: right;\">\n      <th></th>\n      <th>Year</th>\n      <th>Player</th>\n      <th>Team</th>\n      <th>Award</th>\n    </tr>\n  </thead>\n  <tbody>\n    <tr>\n      <th>0</th>\n      <td>2020</td>\n      <td>Leon Draisaitl</td>\n      <td>Edmonton Oilers</td>\n      <td>Hart Memorial</td>\n    </tr>\n    <tr>\n      <th>1</th>\n      <td>2019</td>\n      <td>Nikita Kucherov</td>\n      <td>Tampa Bay Lightning</td>\n      <td>Hart Memorial</td>\n    </tr>\n    <tr>\n      <th>2</th>\n      <td>2018</td>\n      <td>Taylor Hall</td>\n      <td>New Jersey Devils</td>\n      <td>Hart Memorial</td>\n    </tr>\n    <tr>\n      <th>3</th>\n      <td>2017</td>\n      <td>Connor McDavid</td>\n      <td>Edmonton Oilers</td>\n      <td>Hart Memorial</td>\n    </tr>\n    <tr>\n      <th>4</th>\n      <td>2016</td>\n      <td>Patrick Kane</td>\n      <td>Chicago Blackhawks</td>\n      <td>Hart Memorial</td>\n    </tr>\n  </tbody>\n</table>\n</div>"
     },
     "metadata": {},
     "execution_count": 60
    }
   ],
   "source": [
    "url = f'https://www.nhl.com/news/nhl-hart-memorial-trophy-winners-complete-list/c-287743272?tid=287709666'\n",
    "\n",
    "# Retrieve page with the requests module\n",
    "html = requests.get(url).text\n",
    "\n",
    "# Create BeautifulSoup object; parse with 'html.parser'\n",
    "soup = BeautifulSoup(html, 'html.parser')\n",
    "\n",
    "# results are returned as a list\n",
    "body = soup.find('div', class_='article-item__body')\n",
    "\n",
    "results = body.find_all('li')\n",
    "\n",
    "winners = []\n",
    "for result in results:\n",
    "    # Error handling\n",
    "    try:\n",
    "        #print(result)\n",
    "        row = result.text\n",
    "        #print(f'row: {row}')\n",
    "        words = row.split(':')\n",
    "        more_words = words[1].split(',')\n",
    "\n",
    "        winner = [words[0], more_words[0].strip(), more_words[1].strip(), 'Hart Memorial']\n",
    "        #print(winner)\n",
    "        winners.append(winner)\n",
    "\n",
    "    except AttributeError as error:\n",
    "        print(error)\n",
    "\n",
    "# convert list of lists into DataFrame\n",
    "hart_memorial_df = pd.DataFrame(winners, columns = ['Year', 'Player', 'Team', 'Award'])\n",
    "# convert year column to int for filtering purposes\n",
    "hart_memorial_df['Year'] = hart_memorial_df['Year'].astype(int)\n",
    "# filter dataframe \n",
    "hart_memorial_df = hart_memorial_df.loc[hart_memorial_df['Year'] >= 1967,:]\n",
    "hart_memorial_df.head()"
   ]
  },
  {
   "source": [
    "## Conn Smythe Trophy Winners\n",
    "### MVP of Playoffs since 1965"
   ],
   "cell_type": "markdown",
   "metadata": {}
  },
  {
   "cell_type": "code",
   "execution_count": 61,
   "metadata": {},
   "outputs": [
    {
     "output_type": "execute_result",
     "data": {
      "text/plain": [
       "   Year         Player                 Team        Award\n",
       "0  2020  Victor Hedman  Tampa Bay Lightning  Conn Smythe\n",
       "1  2019  Ryan O'Reilly      St. Louis Blues  Conn Smythe\n",
       "2  2018  Alex Ovechkin  Washington Capitals  Conn Smythe\n",
       "3  2017  Sidney Crosby  Pittsburgh Penguins  Conn Smythe\n",
       "4  2016  Sidney Crosby  Pittsburgh Penguins  Conn Smythe"
      ],
      "text/html": "<div>\n<style scoped>\n    .dataframe tbody tr th:only-of-type {\n        vertical-align: middle;\n    }\n\n    .dataframe tbody tr th {\n        vertical-align: top;\n    }\n\n    .dataframe thead th {\n        text-align: right;\n    }\n</style>\n<table border=\"1\" class=\"dataframe\">\n  <thead>\n    <tr style=\"text-align: right;\">\n      <th></th>\n      <th>Year</th>\n      <th>Player</th>\n      <th>Team</th>\n      <th>Award</th>\n    </tr>\n  </thead>\n  <tbody>\n    <tr>\n      <th>0</th>\n      <td>2020</td>\n      <td>Victor Hedman</td>\n      <td>Tampa Bay Lightning</td>\n      <td>Conn Smythe</td>\n    </tr>\n    <tr>\n      <th>1</th>\n      <td>2019</td>\n      <td>Ryan O'Reilly</td>\n      <td>St. Louis Blues</td>\n      <td>Conn Smythe</td>\n    </tr>\n    <tr>\n      <th>2</th>\n      <td>2018</td>\n      <td>Alex Ovechkin</td>\n      <td>Washington Capitals</td>\n      <td>Conn Smythe</td>\n    </tr>\n    <tr>\n      <th>3</th>\n      <td>2017</td>\n      <td>Sidney Crosby</td>\n      <td>Pittsburgh Penguins</td>\n      <td>Conn Smythe</td>\n    </tr>\n    <tr>\n      <th>4</th>\n      <td>2016</td>\n      <td>Sidney Crosby</td>\n      <td>Pittsburgh Penguins</td>\n      <td>Conn Smythe</td>\n    </tr>\n  </tbody>\n</table>\n</div>"
     },
     "metadata": {},
     "execution_count": 61
    }
   ],
   "source": [
    "url = 'https://www.nhl.com/news/nhl-conn-smythe-trophy-winners-complete-list/c-287709808?tid=287709666'\n",
    "\n",
    "# Retrieve page with the requests module\n",
    "html = requests.get(url).text\n",
    "\n",
    "# Create BeautifulSoup object; parse with 'html.parser'\n",
    "soup = BeautifulSoup(html, 'html.parser')\n",
    "\n",
    "# results are returned as a list\n",
    "body = soup.find('div', class_='article-item__body')\n",
    "\n",
    "results = body.find_all('li')\n",
    "\n",
    "winners = []\n",
    "for result in results:\n",
    "    # Error handling\n",
    "    try:\n",
    "        #print(result)\n",
    "        row = result.text\n",
    "        #print(f'row: {row}')\n",
    "        words = row.split(':')\n",
    "        more_words = words[1].split(',')\n",
    "\n",
    "        winner = [words[0], more_words[0].strip(), more_words[1].strip(), \"Conn Smythe\"]\n",
    "        #print(winner)\n",
    "        winners.append(winner)\n",
    "\n",
    "    except AttributeError as error:\n",
    "        print(error)\n",
    "\n",
    "# convert list of lists into DataFrame\n",
    "conn_smythe_df = pd.DataFrame(winners, columns = ['Year', 'Player', 'Team', 'Award'])\n",
    "# convert year column to int for filtering purposes\n",
    "conn_smythe_df['Year'] = conn_smythe_df['Year'].astype(int)\n",
    "# filter dataframe \n",
    "conn_smythe_df = conn_smythe_df.loc[conn_smythe_df['Year'] >= 1967,:]\n",
    "conn_smythe_df.head()"
   ]
  },
  {
   "source": [
    "## Calder Memorial Trophy Winners\n",
    "### Rookie of the Year since 1933"
   ],
   "cell_type": "markdown",
   "metadata": {}
  },
  {
   "cell_type": "code",
   "execution_count": 62,
   "metadata": {},
   "outputs": [
    {
     "output_type": "execute_result",
     "data": {
      "text/plain": [
       "   Year            Player                 Team            Award\n",
       "0  2020        Cale Makar   Colorado Avalanche  Calder Memorial\n",
       "1  2019  Elias Pettersson    Vancouver Canucks  Calder Memorial\n",
       "2  2018     Mathew Barzal   New York Islanders  Calder Memorial\n",
       "3  2017   Auston Matthews  Toronto Maple Leafs  Calder Memorial\n",
       "4  2016    Artemi Panarin   Chicago Blackhawks  Calder Memorial"
      ],
      "text/html": "<div>\n<style scoped>\n    .dataframe tbody tr th:only-of-type {\n        vertical-align: middle;\n    }\n\n    .dataframe tbody tr th {\n        vertical-align: top;\n    }\n\n    .dataframe thead th {\n        text-align: right;\n    }\n</style>\n<table border=\"1\" class=\"dataframe\">\n  <thead>\n    <tr style=\"text-align: right;\">\n      <th></th>\n      <th>Year</th>\n      <th>Player</th>\n      <th>Team</th>\n      <th>Award</th>\n    </tr>\n  </thead>\n  <tbody>\n    <tr>\n      <th>0</th>\n      <td>2020</td>\n      <td>Cale Makar</td>\n      <td>Colorado Avalanche</td>\n      <td>Calder Memorial</td>\n    </tr>\n    <tr>\n      <th>1</th>\n      <td>2019</td>\n      <td>Elias Pettersson</td>\n      <td>Vancouver Canucks</td>\n      <td>Calder Memorial</td>\n    </tr>\n    <tr>\n      <th>2</th>\n      <td>2018</td>\n      <td>Mathew Barzal</td>\n      <td>New York Islanders</td>\n      <td>Calder Memorial</td>\n    </tr>\n    <tr>\n      <th>3</th>\n      <td>2017</td>\n      <td>Auston Matthews</td>\n      <td>Toronto Maple Leafs</td>\n      <td>Calder Memorial</td>\n    </tr>\n    <tr>\n      <th>4</th>\n      <td>2016</td>\n      <td>Artemi Panarin</td>\n      <td>Chicago Blackhawks</td>\n      <td>Calder Memorial</td>\n    </tr>\n  </tbody>\n</table>\n</div>"
     },
     "metadata": {},
     "execution_count": 62
    }
   ],
   "source": [
    "url = 'https://www.nhl.com/news/nhl-calder-memorial-trophy-winners-complete-list/c-287749198?tid=287709666'\n",
    "\n",
    "# Retrieve page with the requests module\n",
    "html = requests.get(url).text\n",
    "\n",
    "# Create BeautifulSoup object; parse with 'html.parser'\n",
    "soup = BeautifulSoup(html, 'html.parser')\n",
    "\n",
    "# results are returned as a list\n",
    "body = soup.find('div', class_='article-item__body')\n",
    "\n",
    "results = body.find_all('li')\n",
    "\n",
    "winners = []\n",
    "for result in results:\n",
    "    # Error handling\n",
    "    try:\n",
    "        #print(result)\n",
    "        row = result.text\n",
    "        #print(f'row: {row}')\n",
    "        words = row.split(':')\n",
    "        more_words = words[1].split(',')\n",
    "\n",
    "        winner = [words[0], more_words[0].strip(), more_words[1].strip(), 'Calder Memorial']\n",
    "        #print(winner)\n",
    "        winners.append(winner)\n",
    "\n",
    "    except AttributeError as error:\n",
    "        print(error)\n",
    "\n",
    "# convert list of lists into DataFrame\n",
    "calder_memorial_df = pd.DataFrame(winners, columns = ['Year', 'Player', 'Team', 'Award'])\n",
    "# convert year column to int for filtering purposes\n",
    "calder_memorial_df['Year'] = calder_memorial_df['Year'].astype(int)\n",
    "# filter dataframe \n",
    "calder_memorial_df = calder_memorial_df.loc[calder_memorial_df['Year'] >= 1967,:]\n",
    "calder_memorial_df.head()"
   ]
  },
  {
   "source": [
    "## James Norris Memorial Trophy Winners\n",
    "### Best Defenseman since 1954"
   ],
   "cell_type": "markdown",
   "metadata": {}
  },
  {
   "cell_type": "code",
   "execution_count": 63,
   "metadata": {},
   "outputs": [
    {
     "output_type": "execute_result",
     "data": {
      "text/plain": [
       "   Year         Player                 Team                  Award\n",
       "0  2020     Roman Josi       Calgary Flames  James Norris Memorial\n",
       "1  2019  Mark Giordano       Calgary Flames  James Norris Memorial\n",
       "2  2018  Victor Hedman  Tampa Bay Lightning  James Norris Memorial\n",
       "3  2017    Brent Burns      San Jose Sharks  James Norris Memorial\n",
       "4  2016   Drew Doughty    Los Angeles Kings  James Norris Memorial"
      ],
      "text/html": "<div>\n<style scoped>\n    .dataframe tbody tr th:only-of-type {\n        vertical-align: middle;\n    }\n\n    .dataframe tbody tr th {\n        vertical-align: top;\n    }\n\n    .dataframe thead th {\n        text-align: right;\n    }\n</style>\n<table border=\"1\" class=\"dataframe\">\n  <thead>\n    <tr style=\"text-align: right;\">\n      <th></th>\n      <th>Year</th>\n      <th>Player</th>\n      <th>Team</th>\n      <th>Award</th>\n    </tr>\n  </thead>\n  <tbody>\n    <tr>\n      <th>0</th>\n      <td>2020</td>\n      <td>Roman Josi</td>\n      <td>Calgary Flames</td>\n      <td>James Norris Memorial</td>\n    </tr>\n    <tr>\n      <th>1</th>\n      <td>2019</td>\n      <td>Mark Giordano</td>\n      <td>Calgary Flames</td>\n      <td>James Norris Memorial</td>\n    </tr>\n    <tr>\n      <th>2</th>\n      <td>2018</td>\n      <td>Victor Hedman</td>\n      <td>Tampa Bay Lightning</td>\n      <td>James Norris Memorial</td>\n    </tr>\n    <tr>\n      <th>3</th>\n      <td>2017</td>\n      <td>Brent Burns</td>\n      <td>San Jose Sharks</td>\n      <td>James Norris Memorial</td>\n    </tr>\n    <tr>\n      <th>4</th>\n      <td>2016</td>\n      <td>Drew Doughty</td>\n      <td>Los Angeles Kings</td>\n      <td>James Norris Memorial</td>\n    </tr>\n  </tbody>\n</table>\n</div>"
     },
     "metadata": {},
     "execution_count": 63
    }
   ],
   "source": [
    "import re \n",
    "url = 'https://www.nhl.com/news/nhl-james-norris-memorial-trophy-winners-complete-list/c-287778852?tid=287709666'\n",
    "\n",
    "# Retrieve page with the requests module\n",
    "html = requests.get(url).text\n",
    "\n",
    "# Create BeautifulSoup object; parse with 'html.parser'\n",
    "soup = BeautifulSoup(html, 'html.parser')\n",
    "\n",
    "# results are returned as a list\n",
    "body = soup.find('div', class_='article-item__body')\n",
    "\n",
    "results = body.find_all('li')\n",
    "\n",
    "winners = []\n",
    "for result in results:\n",
    "    # Error handling\n",
    "    try:\n",
    "        #print(result)\n",
    "        row = result.text\n",
    "        #print(f'row: {row}')\n",
    "        words = re.split(':|;', row)\n",
    "        #print(words)\n",
    "        more_words = words[1].split(',')\n",
    "        #print(more_words)\n",
    "\n",
    "        winner = [words[0], more_words[0].strip(), more_words[1].strip(), 'James Norris Memorial']\n",
    "        #print(winner)\n",
    "        winners.append(winner)\n",
    "\n",
    "    except AttributeError as error:\n",
    "        print(error)\n",
    "\n",
    "# convert list of lists into DataFrame\n",
    "james_norris_df = pd.DataFrame(winners, columns = ['Year', 'Player', 'Team', 'Award'])\n",
    "# convert year column to int for filtering purposes\n",
    "james_norris_df['Year'] = james_norris_df['Year'].astype(int)\n",
    "# filter dataframe \n",
    "james_norris_df = james_norris_df.loc[james_norris_df['Year'] >= 1967,:]\n",
    "james_norris_df.head()"
   ]
  },
  {
   "cell_type": "code",
   "execution_count": 65,
   "metadata": {},
   "outputs": [
    {
     "output_type": "execute_result",
     "data": {
      "text/plain": [
       "    Year           Player                 Team                  Award\n",
       "0   2020   Leon Draisaitl      Edmonton Oilers               Art Ross\n",
       "1   2019  Nikita Kucherov  Tampa Bay Lightning               Art Ross\n",
       "2   2018   Connor McDavid      Edmonton Oilers               Art Ross\n",
       "3   2017   Connor McDavid      Edmonton Oilers               Art Ross\n",
       "4   2016     Patrick Kane   Chicago Blackhawks               Art Ross\n",
       "..   ...              ...                  ...                    ...\n",
       "48  1971        Bobby Orr        Boston Bruins  James Norris Memorial\n",
       "49  1970        Bobby Orr        Boston Bruins  James Norris Memorial\n",
       "50  1969        Bobby Orr        Boston Bruins  James Norris Memorial\n",
       "51  1968        Bobby Orr        Boston Bruins  James Norris Memorial\n",
       "52  1967     Harry Howell     New York Rangers  James Norris Memorial\n",
       "\n",
       "[265 rows x 4 columns]"
      ],
      "text/html": "<div>\n<style scoped>\n    .dataframe tbody tr th:only-of-type {\n        vertical-align: middle;\n    }\n\n    .dataframe tbody tr th {\n        vertical-align: top;\n    }\n\n    .dataframe thead th {\n        text-align: right;\n    }\n</style>\n<table border=\"1\" class=\"dataframe\">\n  <thead>\n    <tr style=\"text-align: right;\">\n      <th></th>\n      <th>Year</th>\n      <th>Player</th>\n      <th>Team</th>\n      <th>Award</th>\n    </tr>\n  </thead>\n  <tbody>\n    <tr>\n      <th>0</th>\n      <td>2020</td>\n      <td>Leon Draisaitl</td>\n      <td>Edmonton Oilers</td>\n      <td>Art Ross</td>\n    </tr>\n    <tr>\n      <th>1</th>\n      <td>2019</td>\n      <td>Nikita Kucherov</td>\n      <td>Tampa Bay Lightning</td>\n      <td>Art Ross</td>\n    </tr>\n    <tr>\n      <th>2</th>\n      <td>2018</td>\n      <td>Connor McDavid</td>\n      <td>Edmonton Oilers</td>\n      <td>Art Ross</td>\n    </tr>\n    <tr>\n      <th>3</th>\n      <td>2017</td>\n      <td>Connor McDavid</td>\n      <td>Edmonton Oilers</td>\n      <td>Art Ross</td>\n    </tr>\n    <tr>\n      <th>4</th>\n      <td>2016</td>\n      <td>Patrick Kane</td>\n      <td>Chicago Blackhawks</td>\n      <td>Art Ross</td>\n    </tr>\n    <tr>\n      <th>...</th>\n      <td>...</td>\n      <td>...</td>\n      <td>...</td>\n      <td>...</td>\n    </tr>\n    <tr>\n      <th>48</th>\n      <td>1971</td>\n      <td>Bobby Orr</td>\n      <td>Boston Bruins</td>\n      <td>James Norris Memorial</td>\n    </tr>\n    <tr>\n      <th>49</th>\n      <td>1970</td>\n      <td>Bobby Orr</td>\n      <td>Boston Bruins</td>\n      <td>James Norris Memorial</td>\n    </tr>\n    <tr>\n      <th>50</th>\n      <td>1969</td>\n      <td>Bobby Orr</td>\n      <td>Boston Bruins</td>\n      <td>James Norris Memorial</td>\n    </tr>\n    <tr>\n      <th>51</th>\n      <td>1968</td>\n      <td>Bobby Orr</td>\n      <td>Boston Bruins</td>\n      <td>James Norris Memorial</td>\n    </tr>\n    <tr>\n      <th>52</th>\n      <td>1967</td>\n      <td>Harry Howell</td>\n      <td>New York Rangers</td>\n      <td>James Norris Memorial</td>\n    </tr>\n  </tbody>\n</table>\n<p>265 rows × 4 columns</p>\n</div>"
     },
     "metadata": {},
     "execution_count": 65
    }
   ],
   "source": [
    "awards_df = pd.concat([art_ross_df, hart_memorial_df, calder_memorial_df, conn_smythe_df, james_norris_df], axis=0)\n",
    "awards_df"
   ]
  },
  {
   "cell_type": "code",
   "execution_count": 66,
   "metadata": {},
   "outputs": [],
   "source": [
    "awards_df.to_csv('../Master/data/awards_df.csv')"
   ]
  },
  {
   "source": [
    "## All Start Game Stats All-Time"
   ],
   "cell_type": "markdown",
   "metadata": {}
  },
  {
   "cell_type": "code",
   "execution_count": 85,
   "metadata": {},
   "outputs": [
    {
     "output_type": "execute_result",
     "data": {
      "text/plain": [
       "   Rk           Name  Born Pos  GP   G   A   P  PIM  +/-  PPG  SHG  GWG  \\\n",
       "0   1  Wayne Gretzky  1961   F  18  13  12  25    0  NaN    0    0    1   \n",
       "1   2  Mario Lemieux  1965   F  10  13  10  23    0  NaN    0    0    2   \n",
       "2   3      Joe Sakic  1969   F  12   6  16  22    0  3.0    0    0    0   \n",
       "3   4    Gordie Howe  1928   F  23  10   9  19   25  NaN    6    1    3   \n",
       "4   5   Mark Messier  1961   F  15   6  13  19    4  2.0    0    0    2   \n",
       "\n",
       "    G/GP   A/GP   P/GP  \n",
       "0  0.722  0.667  1.389  \n",
       "1  1.300  1.000  2.300  \n",
       "2  0.500  1.333  1.833  \n",
       "3  0.435  0.391  0.826  \n",
       "4  0.400  0.867  1.267  "
      ],
      "text/html": "<div>\n<style scoped>\n    .dataframe tbody tr th:only-of-type {\n        vertical-align: middle;\n    }\n\n    .dataframe tbody tr th {\n        vertical-align: top;\n    }\n\n    .dataframe thead th {\n        text-align: right;\n    }\n</style>\n<table border=\"1\" class=\"dataframe\">\n  <thead>\n    <tr style=\"text-align: right;\">\n      <th></th>\n      <th>Rk</th>\n      <th>Name</th>\n      <th>Born</th>\n      <th>Pos</th>\n      <th>GP</th>\n      <th>G</th>\n      <th>A</th>\n      <th>P</th>\n      <th>PIM</th>\n      <th>+/-</th>\n      <th>PPG</th>\n      <th>SHG</th>\n      <th>GWG</th>\n      <th>G/GP</th>\n      <th>A/GP</th>\n      <th>P/GP</th>\n    </tr>\n  </thead>\n  <tbody>\n    <tr>\n      <th>0</th>\n      <td>1</td>\n      <td>Wayne Gretzky</td>\n      <td>1961</td>\n      <td>F</td>\n      <td>18</td>\n      <td>13</td>\n      <td>12</td>\n      <td>25</td>\n      <td>0</td>\n      <td>NaN</td>\n      <td>0</td>\n      <td>0</td>\n      <td>1</td>\n      <td>0.722</td>\n      <td>0.667</td>\n      <td>1.389</td>\n    </tr>\n    <tr>\n      <th>1</th>\n      <td>2</td>\n      <td>Mario Lemieux</td>\n      <td>1965</td>\n      <td>F</td>\n      <td>10</td>\n      <td>13</td>\n      <td>10</td>\n      <td>23</td>\n      <td>0</td>\n      <td>NaN</td>\n      <td>0</td>\n      <td>0</td>\n      <td>2</td>\n      <td>1.300</td>\n      <td>1.000</td>\n      <td>2.300</td>\n    </tr>\n    <tr>\n      <th>2</th>\n      <td>3</td>\n      <td>Joe Sakic</td>\n      <td>1969</td>\n      <td>F</td>\n      <td>12</td>\n      <td>6</td>\n      <td>16</td>\n      <td>22</td>\n      <td>0</td>\n      <td>3.0</td>\n      <td>0</td>\n      <td>0</td>\n      <td>0</td>\n      <td>0.500</td>\n      <td>1.333</td>\n      <td>1.833</td>\n    </tr>\n    <tr>\n      <th>3</th>\n      <td>4</td>\n      <td>Gordie Howe</td>\n      <td>1928</td>\n      <td>F</td>\n      <td>23</td>\n      <td>10</td>\n      <td>9</td>\n      <td>19</td>\n      <td>25</td>\n      <td>NaN</td>\n      <td>6</td>\n      <td>1</td>\n      <td>3</td>\n      <td>0.435</td>\n      <td>0.391</td>\n      <td>0.826</td>\n    </tr>\n    <tr>\n      <th>4</th>\n      <td>5</td>\n      <td>Mark Messier</td>\n      <td>1961</td>\n      <td>F</td>\n      <td>15</td>\n      <td>6</td>\n      <td>13</td>\n      <td>19</td>\n      <td>4</td>\n      <td>2.0</td>\n      <td>0</td>\n      <td>0</td>\n      <td>2</td>\n      <td>0.400</td>\n      <td>0.867</td>\n      <td>1.267</td>\n    </tr>\n  </tbody>\n</table>\n</div>"
     },
     "metadata": {},
     "execution_count": 85
    }
   ],
   "source": [
    "url = f'https://www.quanthockey.com/scripts/AjaxPaginate.php?cat=Records&pos=Players&SS=&af=0&nat=alltime&st=5&sort=points&so=&page=1&league=NHL%20All-Star%20Game&lang=en&rnd=651834569&dt=1&sd=undefined&ed=undefined'\n",
    "\n",
    "# find the table\n",
    "table = pd.read_html(url)\n",
    "df = table[0]\n",
    "# delete unneeded column\n",
    "del df['Unnamed: 1']\n",
    "# convert games played column to integer\n",
    "df['GP'] = df['GP'].astype(int)\n",
    "df.head()"
   ]
  },
  {
   "cell_type": "code",
   "execution_count": 90,
   "metadata": {},
   "outputs": [
    {
     "output_type": "stream",
     "name": "stdout",
     "text": [
      "page: 1 -------------\n",
      "page: 2 -------------\n",
      "page: 3 -------------\n",
      "page: 4 -------------\n",
      "page: 5 -------------\n",
      "page: 6 -------------\n",
      "page: 7 -------------\n",
      "page: 8 -------------\n",
      "page: 9 -------------\n",
      "page: 10 -------------\n",
      "page: 11 -------------\n",
      "page: 12 -------------\n",
      "page: 13 -------------\n",
      "page: 14 -------------\n",
      "page: 15 -------------\n",
      "page: 16 -------------\n",
      "page: 17 -------------\n",
      "page: 18 -------------\n",
      "Scraping completed!\n"
     ]
    }
   ],
   "source": [
    "\n",
    "\n",
    "all_star_tables = []\n",
    "\n",
    "for page in range(1,19):\n",
    "    url = f'https://www.quanthockey.com/scripts/AjaxPaginate.php?cat=Records&pos=Players&SS=&af=0&nat=alltime&st=5&sort=points&so=&page={page}&league=NHL%20All-Star%20Game&lang=en&rnd=651834569&dt=1&sd=undefined&ed=undefined'\n",
    "\n",
    "    print('page:', page, '-------------')\n",
    "\n",
    "    # find the table\n",
    "    table = pd.read_html(url)\n",
    "    df = table[0]\n",
    "    # delete unneeded column\n",
    "    del df['Unnamed: 1']\n",
    "    # convert games played column to integer\n",
    "    df['GP'] = df['GP'].astype(int)\n",
    "    all_star_tables.append(df)\n",
    "    \n",
    "print(\"Scraping completed!\")"
   ]
  },
  {
   "cell_type": "code",
   "execution_count": 92,
   "metadata": {},
   "outputs": [
    {
     "output_type": "execute_result",
     "data": {
      "text/plain": [
       "      Rk            Name  Born Pos  GP   G   A   P  PIM  +/-  PPG  SHG  GWG  \\\n",
       "0      1   Wayne Gretzky  1961   F  18  13  12  25    0  NaN  0.0  0.0    1   \n",
       "1      2   Mario Lemieux  1965   F  10  13  10  23    0  NaN  0.0  0.0    2   \n",
       "2      3       Joe Sakic  1969   F  12   6  16  22    0  3.0  0.0  0.0    0   \n",
       "3      4     Gordie Howe  1928   F  23  10   9  19   25  NaN  6.0  1.0    3   \n",
       "4      5    Mark Messier  1961   F  15   6  13  19    4  2.0  0.0  0.0    2   \n",
       "..   ...             ...   ...  ..  ..  ..  ..  ..  ...  ...  ...  ...  ...   \n",
       "888  889  Jacques Plante  1929   G   8   0   0   0    0  NaN  0.0  0.0    0   \n",
       "889  890  Martin Brodeur  1972   G   9   0   0   0    0  NaN  0.0  0.0    0   \n",
       "890  891     Patrick Roy  1965   G  11   0   0   0    2  NaN  0.0  0.0    0   \n",
       "891  892   Terry Sawchuk  1929   G  11   0   0   0    0  NaN  0.0  0.0    0   \n",
       "892  893      Glenn Hall  1931   G  13   0   0   0    0  NaN  0.0  0.0    0   \n",
       "\n",
       "      G/GP   A/GP   P/GP  \n",
       "0    0.722  0.667  1.389  \n",
       "1    1.300  1.000  2.300  \n",
       "2    0.500  1.333  1.833  \n",
       "3    0.435  0.391  0.826  \n",
       "4    0.400  0.867  1.267  \n",
       "..     ...    ...    ...  \n",
       "888  0.000  0.000  0.000  \n",
       "889  0.000  0.000  0.000  \n",
       "890  0.000  0.000  0.000  \n",
       "891  0.000  0.000  0.000  \n",
       "892  0.000  0.000  0.000  \n",
       "\n",
       "[893 rows x 16 columns]"
      ],
      "text/html": "<div>\n<style scoped>\n    .dataframe tbody tr th:only-of-type {\n        vertical-align: middle;\n    }\n\n    .dataframe tbody tr th {\n        vertical-align: top;\n    }\n\n    .dataframe thead th {\n        text-align: right;\n    }\n</style>\n<table border=\"1\" class=\"dataframe\">\n  <thead>\n    <tr style=\"text-align: right;\">\n      <th></th>\n      <th>Rk</th>\n      <th>Name</th>\n      <th>Born</th>\n      <th>Pos</th>\n      <th>GP</th>\n      <th>G</th>\n      <th>A</th>\n      <th>P</th>\n      <th>PIM</th>\n      <th>+/-</th>\n      <th>PPG</th>\n      <th>SHG</th>\n      <th>GWG</th>\n      <th>G/GP</th>\n      <th>A/GP</th>\n      <th>P/GP</th>\n    </tr>\n  </thead>\n  <tbody>\n    <tr>\n      <th>0</th>\n      <td>1</td>\n      <td>Wayne Gretzky</td>\n      <td>1961</td>\n      <td>F</td>\n      <td>18</td>\n      <td>13</td>\n      <td>12</td>\n      <td>25</td>\n      <td>0</td>\n      <td>NaN</td>\n      <td>0.0</td>\n      <td>0.0</td>\n      <td>1</td>\n      <td>0.722</td>\n      <td>0.667</td>\n      <td>1.389</td>\n    </tr>\n    <tr>\n      <th>1</th>\n      <td>2</td>\n      <td>Mario Lemieux</td>\n      <td>1965</td>\n      <td>F</td>\n      <td>10</td>\n      <td>13</td>\n      <td>10</td>\n      <td>23</td>\n      <td>0</td>\n      <td>NaN</td>\n      <td>0.0</td>\n      <td>0.0</td>\n      <td>2</td>\n      <td>1.300</td>\n      <td>1.000</td>\n      <td>2.300</td>\n    </tr>\n    <tr>\n      <th>2</th>\n      <td>3</td>\n      <td>Joe Sakic</td>\n      <td>1969</td>\n      <td>F</td>\n      <td>12</td>\n      <td>6</td>\n      <td>16</td>\n      <td>22</td>\n      <td>0</td>\n      <td>3.0</td>\n      <td>0.0</td>\n      <td>0.0</td>\n      <td>0</td>\n      <td>0.500</td>\n      <td>1.333</td>\n      <td>1.833</td>\n    </tr>\n    <tr>\n      <th>3</th>\n      <td>4</td>\n      <td>Gordie Howe</td>\n      <td>1928</td>\n      <td>F</td>\n      <td>23</td>\n      <td>10</td>\n      <td>9</td>\n      <td>19</td>\n      <td>25</td>\n      <td>NaN</td>\n      <td>6.0</td>\n      <td>1.0</td>\n      <td>3</td>\n      <td>0.435</td>\n      <td>0.391</td>\n      <td>0.826</td>\n    </tr>\n    <tr>\n      <th>4</th>\n      <td>5</td>\n      <td>Mark Messier</td>\n      <td>1961</td>\n      <td>F</td>\n      <td>15</td>\n      <td>6</td>\n      <td>13</td>\n      <td>19</td>\n      <td>4</td>\n      <td>2.0</td>\n      <td>0.0</td>\n      <td>0.0</td>\n      <td>2</td>\n      <td>0.400</td>\n      <td>0.867</td>\n      <td>1.267</td>\n    </tr>\n    <tr>\n      <th>...</th>\n      <td>...</td>\n      <td>...</td>\n      <td>...</td>\n      <td>...</td>\n      <td>...</td>\n      <td>...</td>\n      <td>...</td>\n      <td>...</td>\n      <td>...</td>\n      <td>...</td>\n      <td>...</td>\n      <td>...</td>\n      <td>...</td>\n      <td>...</td>\n      <td>...</td>\n      <td>...</td>\n    </tr>\n    <tr>\n      <th>888</th>\n      <td>889</td>\n      <td>Jacques Plante</td>\n      <td>1929</td>\n      <td>G</td>\n      <td>8</td>\n      <td>0</td>\n      <td>0</td>\n      <td>0</td>\n      <td>0</td>\n      <td>NaN</td>\n      <td>0.0</td>\n      <td>0.0</td>\n      <td>0</td>\n      <td>0.000</td>\n      <td>0.000</td>\n      <td>0.000</td>\n    </tr>\n    <tr>\n      <th>889</th>\n      <td>890</td>\n      <td>Martin Brodeur</td>\n      <td>1972</td>\n      <td>G</td>\n      <td>9</td>\n      <td>0</td>\n      <td>0</td>\n      <td>0</td>\n      <td>0</td>\n      <td>NaN</td>\n      <td>0.0</td>\n      <td>0.0</td>\n      <td>0</td>\n      <td>0.000</td>\n      <td>0.000</td>\n      <td>0.000</td>\n    </tr>\n    <tr>\n      <th>890</th>\n      <td>891</td>\n      <td>Patrick Roy</td>\n      <td>1965</td>\n      <td>G</td>\n      <td>11</td>\n      <td>0</td>\n      <td>0</td>\n      <td>0</td>\n      <td>2</td>\n      <td>NaN</td>\n      <td>0.0</td>\n      <td>0.0</td>\n      <td>0</td>\n      <td>0.000</td>\n      <td>0.000</td>\n      <td>0.000</td>\n    </tr>\n    <tr>\n      <th>891</th>\n      <td>892</td>\n      <td>Terry Sawchuk</td>\n      <td>1929</td>\n      <td>G</td>\n      <td>11</td>\n      <td>0</td>\n      <td>0</td>\n      <td>0</td>\n      <td>0</td>\n      <td>NaN</td>\n      <td>0.0</td>\n      <td>0.0</td>\n      <td>0</td>\n      <td>0.000</td>\n      <td>0.000</td>\n      <td>0.000</td>\n    </tr>\n    <tr>\n      <th>892</th>\n      <td>893</td>\n      <td>Glenn Hall</td>\n      <td>1931</td>\n      <td>G</td>\n      <td>13</td>\n      <td>0</td>\n      <td>0</td>\n      <td>0</td>\n      <td>0</td>\n      <td>NaN</td>\n      <td>0.0</td>\n      <td>0.0</td>\n      <td>0</td>\n      <td>0.000</td>\n      <td>0.000</td>\n      <td>0.000</td>\n    </tr>\n  </tbody>\n</table>\n<p>893 rows × 16 columns</p>\n</div>"
     },
     "metadata": {},
     "execution_count": 92
    }
   ],
   "source": [
    "combined_df = pd.concat(all_star_tables, ignore_index=True)\n",
    "combined_df"
   ]
  },
  {
   "cell_type": "code",
   "execution_count": null,
   "metadata": {},
   "outputs": [],
   "source": []
  }
 ]
}