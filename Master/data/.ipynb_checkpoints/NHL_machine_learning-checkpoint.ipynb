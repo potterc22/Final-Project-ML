{
 "cells": [
  {
   "cell_type": "code",
   "execution_count": null,
   "metadata": {},
   "outputs": [],
   "source": []
  },
  {
   "cell_type": "code",
   "execution_count": 1,
   "metadata": {},
   "outputs": [],
   "source": [
    "import pandas as pd\n",
    "import numpy as np\n",
    "import matplotlib.pyplot as plt"
   ]
  },
  {
   "cell_type": "code",
   "execution_count": 2,
   "metadata": {},
   "outputs": [
    {
     "data": {
      "text/html": [
       "<div>\n",
       "<style scoped>\n",
       "    .dataframe tbody tr th:only-of-type {\n",
       "        vertical-align: middle;\n",
       "    }\n",
       "\n",
       "    .dataframe tbody tr th {\n",
       "        vertical-align: top;\n",
       "    }\n",
       "\n",
       "    .dataframe thead th {\n",
       "        text-align: right;\n",
       "    }\n",
       "</style>\n",
       "<table border=\"1\" class=\"dataframe\">\n",
       "  <thead>\n",
       "    <tr style=\"text-align: right;\">\n",
       "      <th></th>\n",
       "      <th>Player</th>\n",
       "      <th>GP</th>\n",
       "      <th>G</th>\n",
       "      <th>A</th>\n",
       "      <th>TP</th>\n",
       "      <th>PPG</th>\n",
       "      <th>PIM</th>\n",
       "      <th>POS</th>\n",
       "      <th>firstYear</th>\n",
       "      <th>lastYear</th>\n",
       "      <th>Awards</th>\n",
       "      <th>Cups</th>\n",
       "      <th>All-Star Games</th>\n",
       "      <th>HoF</th>\n",
       "    </tr>\n",
       "  </thead>\n",
       "  <tbody>\n",
       "    <tr>\n",
       "      <th>0</th>\n",
       "      <td>Wayne Gretzky</td>\n",
       "      <td>1487</td>\n",
       "      <td>894</td>\n",
       "      <td>1963</td>\n",
       "      <td>2857</td>\n",
       "      <td>1.921</td>\n",
       "      <td>577</td>\n",
       "      <td>1</td>\n",
       "      <td>1979</td>\n",
       "      <td>1999</td>\n",
       "      <td>26</td>\n",
       "      <td>4</td>\n",
       "      <td>18</td>\n",
       "      <td>1</td>\n",
       "    </tr>\n",
       "    <tr>\n",
       "      <th>1</th>\n",
       "      <td>Mark Messier</td>\n",
       "      <td>1756</td>\n",
       "      <td>694</td>\n",
       "      <td>1193</td>\n",
       "      <td>1887</td>\n",
       "      <td>1.075</td>\n",
       "      <td>1910</td>\n",
       "      <td>1</td>\n",
       "      <td>1979</td>\n",
       "      <td>2004</td>\n",
       "      <td>5</td>\n",
       "      <td>6</td>\n",
       "      <td>15</td>\n",
       "      <td>1</td>\n",
       "    </tr>\n",
       "    <tr>\n",
       "      <th>2</th>\n",
       "      <td>Gordie Howe</td>\n",
       "      <td>1767</td>\n",
       "      <td>801</td>\n",
       "      <td>1049</td>\n",
       "      <td>1850</td>\n",
       "      <td>1.047</td>\n",
       "      <td>1685</td>\n",
       "      <td>1</td>\n",
       "      <td>1946</td>\n",
       "      <td>1980</td>\n",
       "      <td>12</td>\n",
       "      <td>4</td>\n",
       "      <td>23</td>\n",
       "      <td>1</td>\n",
       "    </tr>\n",
       "    <tr>\n",
       "      <th>3</th>\n",
       "      <td>Ron Francis</td>\n",
       "      <td>1731</td>\n",
       "      <td>549</td>\n",
       "      <td>1249</td>\n",
       "      <td>1798</td>\n",
       "      <td>1.039</td>\n",
       "      <td>979</td>\n",
       "      <td>1</td>\n",
       "      <td>1981</td>\n",
       "      <td>2004</td>\n",
       "      <td>0</td>\n",
       "      <td>2</td>\n",
       "      <td>4</td>\n",
       "      <td>1</td>\n",
       "    </tr>\n",
       "    <tr>\n",
       "      <th>4</th>\n",
       "      <td>Marcel Dionne</td>\n",
       "      <td>1348</td>\n",
       "      <td>731</td>\n",
       "      <td>1040</td>\n",
       "      <td>1771</td>\n",
       "      <td>1.314</td>\n",
       "      <td>600</td>\n",
       "      <td>1</td>\n",
       "      <td>1971</td>\n",
       "      <td>1989</td>\n",
       "      <td>3</td>\n",
       "      <td>0</td>\n",
       "      <td>8</td>\n",
       "      <td>1</td>\n",
       "    </tr>\n",
       "  </tbody>\n",
       "</table>\n",
       "</div>"
      ],
      "text/plain": [
       "          Player    GP    G     A    TP    PPG   PIM  POS  firstYear  \\\n",
       "0  Wayne Gretzky  1487  894  1963  2857  1.921   577    1       1979   \n",
       "1   Mark Messier  1756  694  1193  1887  1.075  1910    1       1979   \n",
       "2    Gordie Howe  1767  801  1049  1850  1.047  1685    1       1946   \n",
       "3    Ron Francis  1731  549  1249  1798  1.039   979    1       1981   \n",
       "4  Marcel Dionne  1348  731  1040  1771  1.314   600    1       1971   \n",
       "\n",
       "   lastYear  Awards  Cups  All-Star Games  HoF  \n",
       "0      1999      26     4              18    1  \n",
       "1      2004       5     6              15    1  \n",
       "2      1980      12     4              23    1  \n",
       "3      2004       0     2               4    1  \n",
       "4      1989       3     0               8    1  "
      ]
     },
     "execution_count": 2,
     "metadata": {},
     "output_type": "execute_result"
    }
   ],
   "source": [
    "# master_df = pd.read_csv('Jeff/Output/test_train_file.csv')\n",
    "#1967 onwards with skaters with >100 GP\n",
    "master_df = pd.read_csv('tt_filt67_100GP_file.csv')\n",
    "master_df.head()"
   ]
  },
  {
   "cell_type": "code",
   "execution_count": 3,
   "metadata": {},
   "outputs": [
    {
     "data": {
      "text/plain": [
       "Index(['Player', 'GP', 'G', 'A', 'TP', 'PPG', 'PIM', 'POS', 'firstYear',\n",
       "       'lastYear', 'Awards', 'Cups', 'All-Star Games', 'HoF'],\n",
       "      dtype='object')"
      ]
     },
     "execution_count": 3,
     "metadata": {},
     "output_type": "execute_result"
    }
   ],
   "source": [
    "master_df.columns"
   ]
  },
  {
   "cell_type": "code",
   "execution_count": 4,
   "metadata": {},
   "outputs": [
    {
     "data": {
      "text/plain": [
       "['Jarome Iginla',\n",
       " 'Marian Hossa',\n",
       " 'Martin St. Louis',\n",
       " 'Teemu Selanne',\n",
       " 'Nicklas Lidstrom',\n",
       " 'Chris Pronger',\n",
       " 'Mark Recchi',\n",
       " 'Mike Modano',\n",
       " 'Peter Forsberg']"
      ]
     },
     "execution_count": 4,
     "metadata": {},
     "output_type": "execute_result"
    }
   ],
   "source": [
    "new_hof = ['Jarome Iginla', 'Marian Hossa','Martin St. Louis','Teemu Selanne','Nicklas Lidstrom','Chris Pronger','Mark Recchi','Mike Modano','Peter Forsberg']\n",
    "new_hof"
   ]
  },
  {
   "cell_type": "code",
   "execution_count": 5,
   "metadata": {},
   "outputs": [],
   "source": [
    "#drop hof additions since 2011 for testing purposes\n",
    "inverse_boolean_series = ~master_df.Player.isin(new_hof)\n",
    "retired_players = master_df[inverse_boolean_series]\n",
    "\n",
    "retired_players = retired_players[retired_players['GP']>=100]\n",
    "\n",
    "#create df with only new hof additions for testing\n",
    "boolean_series = master_df.Player.isin(new_hof)\n",
    "new_hof_df = master_df[boolean_series]\n",
    "# print(new_hof_df)\n",
    "\n",
    "\n",
    "initial_eligible_players = pd.read_csv('predict_file.csv')\n",
    "\n",
    "#isolate any 'active' hof in the eligible players dataset\n",
    "active_hof = initial_eligible_players[initial_eligible_players['HoF'] == 1]\n",
    "# print(active_hof)\n",
    "#append any 'active' hof players to the test set\n",
    "new_hof_df = new_hof_df.append(active_hof)\n",
    "\n",
    "#update the eligible players df\n",
    "eligible_players = initial_eligible_players[initial_eligible_players['HoF'] == 0]\n",
    "# print(new_hof_df)"
   ]
  },
  {
   "cell_type": "code",
   "execution_count": 6,
   "metadata": {},
   "outputs": [],
   "source": [
    "cols_to_drop = ['Player','firstYear', 'lastYear', 'HoF']"
   ]
  },
  {
   "cell_type": "code",
   "execution_count": 7,
   "metadata": {},
   "outputs": [],
   "source": [
    "# print(new_hof_df)"
   ]
  },
  {
   "cell_type": "code",
   "execution_count": 8,
   "metadata": {},
   "outputs": [],
   "source": [
    "target = 'HoF'\n",
    "y = retired_players[target]\n",
    "X = retired_players.drop(cols_to_drop, axis=1)"
   ]
  },
  {
   "cell_type": "code",
   "execution_count": 9,
   "metadata": {},
   "outputs": [],
   "source": [
    "from sklearn.model_selection import train_test_split\n",
    "#Train/test split, because I have a small imbalanced dataset I made sure to stratify my data\n",
    "X_train, X_val, y_train, y_val = train_test_split(X, y, stratify=y, test_size=0.2, random_state=42)"
   ]
  },
  {
   "cell_type": "code",
   "execution_count": 10,
   "metadata": {},
   "outputs": [
    {
     "name": "stdout",
     "output_type": "stream",
     "text": [
      "Baseline Accuracy: 0.9605\n"
     ]
    }
   ],
   "source": [
    "baseline_acc = y_train.value_counts(normalize=True).max()\n",
    "\n",
    "print('Baseline Accuracy:', baseline_acc)"
   ]
  },
  {
   "cell_type": "code",
   "execution_count": 11,
   "metadata": {},
   "outputs": [],
   "source": [
    "from sklearn.linear_model import LogisticRegression\n",
    "from sklearn.preprocessing import StandardScaler\n",
    "from sklearn.pipeline import make_pipeline"
   ]
  },
  {
   "cell_type": "code",
   "execution_count": 12,
   "metadata": {},
   "outputs": [],
   "source": [
    "np.random.seed(42)"
   ]
  },
  {
   "cell_type": "code",
   "execution_count": 13,
   "metadata": {},
   "outputs": [],
   "source": [
    "# Increasing hyperparameter C increases the accuracy score\n",
    "\n",
    "log_model = make_pipeline(\n",
    "       StandardScaler(),\n",
    "       LogisticRegression(solver = 'newton-cg', penalty = 'l2', C = 50)\n",
    ")\n",
    "\n",
    "log_model.fit(X_train, y_train);"
   ]
  },
  {
   "cell_type": "code",
   "execution_count": 14,
   "metadata": {},
   "outputs": [
    {
     "name": "stdout",
     "output_type": "stream",
     "text": [
      "LOG: Training Accuracy Score: 0.9845\n",
      "LOG: Validation Accuracy Score: 0.99\n"
     ]
    }
   ],
   "source": [
    "print('LOG: Training Accuracy Score:', log_model.score(X_train, y_train))\n",
    "print('LOG: Validation Accuracy Score:', log_model.score(X_val, y_val))"
   ]
  },
  {
   "cell_type": "code",
   "execution_count": 15,
   "metadata": {},
   "outputs": [
    {
     "data": {
      "image/png": "[encoded data removed]",
      "text/plain": [
       "<Figure size 432x288 with 1 Axes>"
      ]
     },
     "metadata": {
      "needs_background": "light"
     },
     "output_type": "display_data"
    }
   ],
   "source": [
    "from sklearn.inspection import permutation_importance\n",
    "\n",
    "perm_imp = permutation_importance(log_model, X_val, y_val, n_jobs=-1, random_state=42)\n",
    "\n",
    "data = {'mean_importance' : perm_imp['importances_mean'], 'std_importances' : perm_imp['importances_std']}\n",
    "\n",
    "df = pd.DataFrame(data, index=X_val.columns)\n",
    "df.sort_values('mean_importance', ascending=True, inplace=True)\n",
    "\n",
    "df['mean_importance'].tail(15).plot(kind='barh')\n",
    "plt.xlabel('Importance (change in accuracy)')\n",
    "plt.ylabel('Feature')\n",
    "plt.title('Permutation importance for logistic regression');"
   ]
  },
  {
   "cell_type": "code",
   "execution_count": 16,
   "metadata": {},
   "outputs": [],
   "source": [
    "from sklearn.ensemble import RandomForestClassifier"
   ]
  },
  {
   "cell_type": "code",
   "execution_count": 17,
   "metadata": {},
   "outputs": [
    {
     "data": {
      "text/plain": [
       "RandomForestClassifier(n_estimators=15)"
      ]
     },
     "execution_count": 17,
     "metadata": {},
     "output_type": "execute_result"
    }
   ],
   "source": [
    "#forest_model = RandomForestClassifier(max_depth=2, n_estimators=500)\n",
    "forest_model = RandomForestClassifier(n_estimators=15)\n",
    "\n",
    "forest_model.fit(X_train, y_train)"
   ]
  },
  {
   "cell_type": "code",
   "execution_count": 18,
   "metadata": {},
   "outputs": [
    {
     "name": "stdout",
     "output_type": "stream",
     "text": [
      "FOREST: Training Accuracy: 1.0\n",
      "FOREST: VAl Accuracy: 0.984\n"
     ]
    }
   ],
   "source": [
    "print('FOREST: Training Accuracy:', forest_model.score(X_train, y_train))\n",
    "print('FOREST: VAl Accuracy:', forest_model.score(X_val, y_val))"
   ]
  },
  {
   "cell_type": "code",
   "execution_count": 19,
   "metadata": {},
   "outputs": [
    {
     "data": {
      "image/png": "[encoded data removed]",
      "text/plain": [
       "<Figure size 432x288 with 1 Axes>"
      ]
     },
     "metadata": {
      "needs_background": "light"
     },
     "output_type": "display_data"
    }
   ],
   "source": [
    "from sklearn.inspection import permutation_importance\n",
    "\n",
    "perm_imp = permutation_importance(forest_model, X_val, y_val, n_jobs=-1, random_state=42)\n",
    "\n",
    "data = {'mean_importance' : perm_imp['importances_mean'], 'std_importances' : perm_imp['importances_std']}\n",
    "\n",
    "df = pd.DataFrame(data, index=X_val.columns)\n",
    "df.sort_values('mean_importance', ascending=True, inplace=True)\n",
    "\n",
    "df['mean_importance'].tail(15).plot(kind='barh')\n",
    "plt.xlabel('Importance (change in accuracy)')\n",
    "plt.ylabel('Feature')\n",
    "plt.title('Permutation importance for random forest model');"
   ]
  },
  {
   "cell_type": "code",
   "execution_count": 20,
   "metadata": {},
   "outputs": [],
   "source": [
    "\n",
    "import xgboost as xgb\n",
    "from xgboost import XGBClassifier\n",
    "from sklearn.ensemble import GradientBoostingClassifier"
   ]
  },
  {
   "cell_type": "code",
   "execution_count": 21,
   "metadata": {},
   "outputs": [
    {
     "name": "stdout",
     "output_type": "stream",
     "text": [
      "[15:52:53] WARNING: C:/Users/Administrator/workspace/xgboost-win64_release_1.3.0/src/learner.cc:1061: Starting in XGBoost 1.3.0, the default evaluation metric used with the objective 'binary:logistic' was changed from 'error' to 'logloss'. Explicitly set eval_metric if you'd like to restore the old behavior.\n"
     ]
    },
    {
     "name": "stderr",
     "output_type": "stream",
     "text": [
      "C:\\Users\\Y243863\\Anaconda3\\envs\\bcs\\lib\\site-packages\\xgboost\\sklearn.py:888: UserWarning: The use of label encoder in XGBClassifier is deprecated and will be removed in a future release. To remove this warning, do the following: 1) Pass option use_label_encoder=False when constructing XGBClassifier object; and 2) Encode your labels (y) as integers starting with 0, i.e. 0, 1, 2, ..., [num_class - 1].\n",
      "  warnings.warn(label_encoder_deprecation_msg, UserWarning)\n"
     ]
    }
   ],
   "source": [
    "boost_model = XGBClassifier(n_jobs=-1, random_state=42, n_estimators= 500, max_depth= 2, eta= 0.3, colsample_bytree= 0.6)\n",
    "\n",
    "boost_model.fit(X_train, y_train);"
   ]
  },
  {
   "cell_type": "code",
   "execution_count": 22,
   "metadata": {},
   "outputs": [
    {
     "name": "stdout",
     "output_type": "stream",
     "text": [
      "BOOST: Training accuracy: 1.0\n",
      "BOOST: Val accuracy: 0.982\n"
     ]
    }
   ],
   "source": [
    "print('BOOST: Training accuracy:', boost_model.score(X_train, y_train))\n",
    "print('BOOST: Val accuracy:', boost_model.score(X_val, y_val))"
   ]
  },
  {
   "cell_type": "code",
   "execution_count": 23,
   "metadata": {},
   "outputs": [
    {
     "data": {
      "image/png": "[encoded data removed]",
      "text/plain": [
       "<Figure size 432x288 with 1 Axes>"
      ]
     },
     "metadata": {
      "needs_background": "light"
     },
     "output_type": "display_data"
    }
   ],
   "source": [
    "from sklearn.inspection import permutation_importance\n",
    "\n",
    "perm_imp = permutation_importance(boost_model, X_val, y_val, n_jobs=-1, random_state=42)\n",
    "\n",
    "data = {'mean_importance' : perm_imp['importances_mean'], 'std_importances' : perm_imp['importances_std']}\n",
    "\n",
    "df = pd.DataFrame(data, index=X_val.columns)\n",
    "df.sort_values('mean_importance', ascending=True, inplace=True)\n",
    "\n",
    "df['mean_importance'].tail(4).plot(kind='barh')\n",
    "plt.xlabel('Importance (change in accuracy)')\n",
    "plt.ylabel('Feature')\n",
    "plt.title('Permutation importance for model_xgb');"
   ]
  },
  {
   "cell_type": "code",
   "execution_count": 24,
   "metadata": {},
   "outputs": [],
   "source": [
    "from sklearn.metrics import plot_roc_curve"
   ]
  },
  {
   "cell_type": "code",
   "execution_count": 25,
   "metadata": {},
   "outputs": [
    {
     "data": {
      "image/png": "[encoded data removed]",
      "text/plain": [
       "<Figure size 1440x360 with 3 Axes>"
      ]
     },
     "metadata": {
      "needs_background": "light"
     },
     "output_type": "display_data"
    }
   ],
   "source": [
    "fig, (ax1, ax2, ax3) = plt.subplots(ncols=3, nrows=1, figsize=(20,5))\n",
    "\n",
    "plot_roc_curve(log_model, X_val, y_val, ax=ax1)\n",
    "plot_roc_curve(forest_model, X_val, y_val, ax=ax2)\n",
    "plot_roc_curve(boost_model, X_val, y_val, ax=ax3)\n",
    "\n",
    "ax1.plot([(0,0), (1,1)], color='grey', linestyle='--')\n",
    "ax2.plot([(0,0), (1,1)], color='grey', linestyle='--')\n",
    "ax3.plot([(0,0), (1,1)], color='grey', linestyle='--')\n",
    "\n",
    "\n",
    "ax1.set_title('Logistic Regression')\n",
    "ax2.set_title('Random Forest')\n",
    "ax3.set_title('XGBoost')\n",
    "\n",
    "plt.show()"
   ]
  },
  {
   "cell_type": "code",
   "execution_count": 26,
   "metadata": {},
   "outputs": [],
   "source": [
    "from sklearn.model_selection import RandomizedSearchCV\n",
    "from sklearn.model_selection import StratifiedKFold"
   ]
  },
  {
   "cell_type": "code",
   "execution_count": 27,
   "metadata": {},
   "outputs": [
    {
     "name": "stdout",
     "output_type": "stream",
     "text": [
      "Fitting 5 folds for each of 20 candidates, totalling 100 fits\n"
     ]
    },
    {
     "name": "stderr",
     "output_type": "stream",
     "text": [
      "[Parallel(n_jobs=-1)]: Using backend LokyBackend with 8 concurrent workers.\n",
      "[Parallel(n_jobs=-1)]: Done  52 tasks      | elapsed:    4.2s\n"
     ]
    },
    {
     "name": "stdout",
     "output_type": "stream",
     "text": [
      "[15:53:03] WARNING: C:/Users/Administrator/workspace/xgboost-win64_release_1.3.0/src/learner.cc:1061: Starting in XGBoost 1.3.0, the default evaluation metric used with the objective 'binary:logistic' was changed from 'error' to 'logloss'. Explicitly set eval_metric if you'd like to restore the old behavior.\n"
     ]
    },
    {
     "name": "stderr",
     "output_type": "stream",
     "text": [
      "[Parallel(n_jobs=-1)]: Done 100 out of 100 | elapsed:    8.3s finished\n",
      "C:\\Users\\Y243863\\Anaconda3\\envs\\bcs\\lib\\site-packages\\xgboost\\sklearn.py:888: UserWarning: The use of label encoder in XGBClassifier is deprecated and will be removed in a future release. To remove this warning, do the following: 1) Pass option use_label_encoder=False when constructing XGBClassifier object; and 2) Encode your labels (y) as integers starting with 0, i.e. 0, 1, 2, ..., [num_class - 1].\n",
      "  warnings.warn(label_encoder_deprecation_msg, UserWarning)\n"
     ]
    },
    {
     "data": {
      "text/plain": [
       "RandomizedSearchCV(cv=StratifiedKFold(n_splits=5, random_state=None, shuffle=False),\n",
       "                   estimator=XGBClassifier(base_score=None, booster=None,\n",
       "                                           colsample_bylevel=None,\n",
       "                                           colsample_bynode=None,\n",
       "                                           colsample_bytree=None, gamma=None,\n",
       "                                           gpu_id=None, importance_type='gain',\n",
       "                                           interaction_constraints=None,\n",
       "                                           learning_rate=None,\n",
       "                                           max_delta_step=None, max_depth=None,\n",
       "                                           min_child_weight=No...\n",
       "                                           random_state=None, reg_alpha=None,\n",
       "                                           reg_lambda=None,\n",
       "                                           scale_pos_weight=None,\n",
       "                                           subsample=None, tree_method=None,\n",
       "                                           validate_parameters=None,\n",
       "                                           verbosity=None),\n",
       "                   n_iter=20, n_jobs=-1,\n",
       "                   param_distributions={'colsample_bytree': [0.5, 0.6, 0.7, 0.8,\n",
       "                                                             0.9, 1],\n",
       "                                        'eta': [0.3, 0.2, 0.1, 0.05, 0.01],\n",
       "                                        'max_depth': [1, 2, 3, 4],\n",
       "                                        'n_estimators': [100, 200, 300, 400,\n",
       "                                                         500]},\n",
       "                   random_state=42, scoring='accuracy', verbose=True)"
      ]
     },
     "execution_count": 27,
     "metadata": {},
     "output_type": "execute_result"
    }
   ],
   "source": [
    "xgboost_model1 = XGBClassifier()\n",
    "\n",
    "param_space = {\n",
    "         \"max_depth\": [1, 2, 3, 4],\n",
    "         \"eta\": [0.3, 0.2, 0.1, 0.05, 0.01],\n",
    "         \"n_estimators\": [100, 200, 300, 400, 500],\n",
    "         \"colsample_bytree\" : [0.5, 0.6, 0.7, 0.8, 0.9, 1]\n",
    " }\n",
    "\n",
    "xgboost_rand_search = RandomizedSearchCV(xgboost_model1, param_distributions=param_space, n_iter=20,\n",
    "                                         scoring=\"accuracy\", verbose=True, cv=StratifiedKFold(n_splits=5),\n",
    "                                         n_jobs=-1, random_state=42)\n",
    "\n",
    "xgboost_rand_search.fit(X, y)"
   ]
  },
  {
   "cell_type": "code",
   "execution_count": 28,
   "metadata": {},
   "outputs": [
    {
     "data": {
      "text/plain": [
       "{'n_estimators': 100, 'max_depth': 3, 'eta': 0.2, 'colsample_bytree': 0.5}"
      ]
     },
     "execution_count": 28,
     "metadata": {},
     "output_type": "execute_result"
    }
   ],
   "source": [
    "xgboost_rand_search.best_params_"
   ]
  },
  {
   "cell_type": "code",
   "execution_count": 29,
   "metadata": {},
   "outputs": [
    {
     "data": {
      "text/plain": [
       "0.818"
      ]
     },
     "execution_count": 29,
     "metadata": {},
     "output_type": "execute_result"
    }
   ],
   "source": [
    "xgboost_rand_search.best_score_"
   ]
  },
  {
   "cell_type": "code",
   "execution_count": 30,
   "metadata": {},
   "outputs": [],
   "source": [
    "from scipy.stats import uniform, truncnorm, randint\n",
    "model_params = {\n",
    "    # randomly sample numbers from 4 to 204 estimators\n",
    "    'n_estimators': randint(4,200),\n",
    "    # normally distributed max_features, with mean .25 stddev 0.1, bounded between 0 and 1\n",
    "    'max_features': truncnorm(a=0, b=1, loc=0.25, scale=0.1),\n",
    "    # uniform distribution from 0.01 to 0.2 (0.01 + 0.199)\n",
    "    'min_samples_split': uniform(0.01, 0.199)\n",
    "}"
   ]
  },
  {
   "cell_type": "code",
   "execution_count": 31,
   "metadata": {},
   "outputs": [
    {
     "data": {
      "text/plain": [
       "0.8496"
      ]
     },
     "execution_count": 31,
     "metadata": {},
     "output_type": "execute_result"
    }
   ],
   "source": [
    "rf_model1 = RandomForestClassifier()\n",
    "\n",
    "# set up random search meta-estimator\n",
    "# this will train 100 models over 5 folds of cross validation (500 models total)\n",
    "clf = RandomizedSearchCV(rf_model1, model_params, n_iter=100, cv=5, random_state=42)\n",
    "\n",
    "# train the random search meta-estimator to find the best model out of 500 candidates\n",
    "model = clf.fit(X, y)\n",
    "\n",
    "# print winning set of hyperparameters\n",
    "model.best_score_\n"
   ]
  },
  {
   "cell_type": "code",
   "execution_count": 32,
   "metadata": {},
   "outputs": [],
   "source": [
    "#Uncomment to use only active players\n",
    "\n",
    "# cols_to_drop = ['firstYear','POS', 'lastYear', 'HoF']\n",
    "# # target = 'HoF'\n",
    "# # eligible_players.reset_index(drop=True)\n",
    "# # eligible_players.set_index('Player')\n",
    "# # eligible_players.head()\n",
    "# X_test = eligible_players.drop(cols_to_drop, axis=1)\n",
    "# X_test.set_index('Player', inplace=True)\n",
    "# # X_test.set_index('Player')\n",
    "# y_pred = clf.predict(X_test)\n",
    "\n",
    "# results = pd.DataFrame(y_pred, columns=['HoF'], index=X_test.index)\n"
   ]
  },
  {
   "cell_type": "code",
   "execution_count": 33,
   "metadata": {},
   "outputs": [
    {
     "name": "stdout",
     "output_type": "stream",
     "text": [
      "Fitting 5 folds for each of 20 candidates, totalling 100 fits\n"
     ]
    },
    {
     "name": "stderr",
     "output_type": "stream",
     "text": [
      "[Parallel(n_jobs=-1)]: Using backend LokyBackend with 8 concurrent workers.\n",
      "[Parallel(n_jobs=-1)]: Done  34 tasks      | elapsed:    4.1s\n"
     ]
    },
    {
     "name": "stdout",
     "output_type": "stream",
     "text": [
      "[15:55:25] WARNING: C:/Users/Administrator/workspace/xgboost-win64_release_1.3.0/src/learner.cc:1061: Starting in XGBoost 1.3.0, the default evaluation metric used with the objective 'binary:logistic' was changed from 'error' to 'logloss'. Explicitly set eval_metric if you'd like to restore the old behavior.\n"
     ]
    },
    {
     "name": "stderr",
     "output_type": "stream",
     "text": [
      "[Parallel(n_jobs=-1)]: Done 100 out of 100 | elapsed:   15.2s finished\n",
      "C:\\Users\\Y243863\\Anaconda3\\envs\\bcs\\lib\\site-packages\\xgboost\\sklearn.py:888: UserWarning: The use of label encoder in XGBClassifier is deprecated and will be removed in a future release. To remove this warning, do the following: 1) Pass option use_label_encoder=False when constructing XGBClassifier object; and 2) Encode your labels (y) as integers starting with 0, i.e. 0, 1, 2, ..., [num_class - 1].\n",
      "  warnings.warn(label_encoder_deprecation_msg, UserWarning)\n"
     ]
    }
   ],
   "source": [
    "model = xgboost_rand_search.fit(X, y)\n",
    "\n",
    "#Use this cell for ALL players regardless of active status or GP\n",
    "master_df = pd.read_csv('master_stats_file.csv')\n",
    "\n",
    "cols_to_drop = ['firstYear', 'lastYear', 'HoF']\n",
    "# target = 'HoF'\n",
    "# eligible_players.reset_index(drop=True)\n",
    "# eligible_players.set_index('Player')\n",
    "# eligible_players.head()\n",
    "X_test = master_df.drop(cols_to_drop, axis=1)\n",
    "X_test.set_index('Player', inplace=True)\n",
    "# X_test.set_index('Player')\n",
    "y_pred = model.predict(X_test)\n",
    "\n",
    "results = pd.DataFrame(y_pred, columns=['HoF'], index=X_test.index)"
   ]
  },
  {
   "cell_type": "code",
   "execution_count": 34,
   "metadata": {},
   "outputs": [
    {
     "data": {
      "text/html": [
       "<div>\n",
       "<style scoped>\n",
       "    .dataframe tbody tr th:only-of-type {\n",
       "        vertical-align: middle;\n",
       "    }\n",
       "\n",
       "    .dataframe tbody tr th {\n",
       "        vertical-align: top;\n",
       "    }\n",
       "\n",
       "    .dataframe thead th {\n",
       "        text-align: right;\n",
       "    }\n",
       "</style>\n",
       "<table border=\"1\" class=\"dataframe\">\n",
       "  <thead>\n",
       "    <tr style=\"text-align: right;\">\n",
       "      <th></th>\n",
       "      <th>HoF</th>\n",
       "    </tr>\n",
       "    <tr>\n",
       "      <th>Player</th>\n",
       "      <th></th>\n",
       "    </tr>\n",
       "  </thead>\n",
       "  <tbody>\n",
       "    <tr>\n",
       "      <th>Wayne Gretzky</th>\n",
       "      <td>1</td>\n",
       "    </tr>\n",
       "    <tr>\n",
       "      <th>Jaromir Jagr</th>\n",
       "      <td>1</td>\n",
       "    </tr>\n",
       "    <tr>\n",
       "      <th>Mark Messier</th>\n",
       "      <td>1</td>\n",
       "    </tr>\n",
       "    <tr>\n",
       "      <th>Gordie Howe</th>\n",
       "      <td>1</td>\n",
       "    </tr>\n",
       "    <tr>\n",
       "      <th>Ron Francis</th>\n",
       "      <td>1</td>\n",
       "    </tr>\n",
       "    <tr>\n",
       "      <th>...</th>\n",
       "      <td>...</td>\n",
       "    </tr>\n",
       "    <tr>\n",
       "      <th>Sergei Makarov</th>\n",
       "      <td>1</td>\n",
       "    </tr>\n",
       "    <tr>\n",
       "      <th>Marcel Pronovost</th>\n",
       "      <td>1</td>\n",
       "    </tr>\n",
       "    <tr>\n",
       "      <th>Rod Langway</th>\n",
       "      <td>1</td>\n",
       "    </tr>\n",
       "    <tr>\n",
       "      <th>Jacques Laperriere</th>\n",
       "      <td>1</td>\n",
       "    </tr>\n",
       "    <tr>\n",
       "      <th>Tom Johnson</th>\n",
       "      <td>1</td>\n",
       "    </tr>\n",
       "  </tbody>\n",
       "</table>\n",
       "<p>122 rows × 1 columns</p>\n",
       "</div>"
      ],
      "text/plain": [
       "                    HoF\n",
       "Player                 \n",
       "Wayne Gretzky         1\n",
       "Jaromir Jagr          1\n",
       "Mark Messier          1\n",
       "Gordie Howe           1\n",
       "Ron Francis           1\n",
       "...                 ...\n",
       "Sergei Makarov        1\n",
       "Marcel Pronovost      1\n",
       "Rod Langway           1\n",
       "Jacques Laperriere    1\n",
       "Tom Johnson           1\n",
       "\n",
       "[122 rows x 1 columns]"
      ]
     },
     "execution_count": 34,
     "metadata": {},
     "output_type": "execute_result"
    }
   ],
   "source": [
    "# QBs the model predicts will be the next to enter the HOF\n",
    "\n",
    "results[results['HoF'] == 1]"
   ]
  },
  {
   "cell_type": "code",
   "execution_count": 35,
   "metadata": {},
   "outputs": [
    {
     "data": {
      "text/plain": [
       "0.04"
      ]
     },
     "execution_count": 35,
     "metadata": {},
     "output_type": "execute_result"
    }
   ],
   "source": [
    "import shap\n",
    "y_val.mean()"
   ]
  },
  {
   "cell_type": "code",
   "execution_count": 97,
   "metadata": {},
   "outputs": [
    {
     "name": "stdout",
     "output_type": "stream",
     "text": [
      "                  hof\n",
      "Player               \n",
      "Wayne Gretzky       1\n",
      "Jaromir Jagr        1\n",
      "Mark Messier        1\n",
      "Gordie Howe         1\n",
      "Ron Francis         1\n",
      "...               ...\n",
      "Jonathan Aspirot    0\n",
      "Drew O'Connor       0\n",
      "Jake Neighbours     0\n",
      "Philip Tomasino     0\n",
      "Connor McMichael    0\n",
      "\n",
      "[7234 rows x 1 columns]\n"
     ]
    },
    {
     "data": {
      "image/png": "[encoded data removed]",
      "text/plain": [
       "<Figure size 1440x216 with 1 Axes>"
      ]
     },
     "metadata": {
      "needs_background": "light"
     },
     "output_type": "display_data"
    }
   ],
   "source": [
    "X_test = master_df.drop(cols_to_drop, axis=1)\n",
    "X_test.set_index('Player', inplace=True)\n",
    "\n",
    "# y_pred = xgboost_rand_search.predict(X_test)\n",
    "y_pred = boost_model.predict(X_test)\n",
    "\n",
    "results = pd.DataFrame(y_pred, columns=['hof'], index=X_test.index)\n",
    "print(results)\n",
    "player = \"Steve Yzerman\"\n",
    "\n",
    "shap.force_plot(\n",
    "    base_value=explainer.expected_value,\n",
    "    shap_values=shap_values,\n",
    "    features=row,\n",
    "    matplotlib=True\n",
    ")\n",
    "\n",
    "f = shap.force_plot(\n",
    "    base_value=explainer.expected_value,\n",
    "    shap_values=shap_values,\n",
    "    features=row,\n",
    "    matplotlib=False,\n",
    "    show=True\n",
    ")\n",
    "shap.save_html(player + \".html\", f)\n",
    "\n"
   ]
  },
  {
   "cell_type": "code",
   "execution_count": 75,
   "metadata": {},
   "outputs": [
    {
     "name": "stdout",
     "output_type": "stream",
     "text": [
      "        GP    G     A    TP    PPG   PIM  POS  Awards  Cups  All-Star Games\n",
      "0     1487  894  1963  2857  1.921   577    1      26     4              18\n",
      "1     1756  694  1193  1887  1.075  1910    1       5     6              15\n",
      "2     1767  801  1049  1850  1.047  1685    1      12     4              23\n",
      "3     1731  549  1249  1798  1.039   979    1       0     2               4\n",
      "4     1348  731  1040  1771  1.314   600    1       3     0               8\n",
      "...    ...  ...   ...   ...    ...   ...  ...     ...   ...             ...\n",
      "2504   108    0     5     5  0.046   394    1       0     0               0\n",
      "2505   142    3     1     4  0.028   461    2       0     0               0\n",
      "2506   115    1     3     4  0.035   346    1       0     0               0\n",
      "2507   116    1     3     4  0.034   299    2       0     0               0\n",
      "2508   105    1     2     3  0.029   377    1       0     0               0\n",
      "\n",
      "[2500 rows x 10 columns]\n",
      "       shap_GP    shap_G    shap_A   shap_TP  shap_PPG  shap_PIM  shap_POS  \\\n",
      "0    -0.127139  2.801621  3.233665  1.194695  1.371536  0.854591 -0.546108   \n",
      "1     0.218818  2.912646  2.789617  1.201922  0.726290 -1.219389 -0.539643   \n",
      "2     0.218818  2.912646  3.084666  1.201922  0.726290 -1.219389 -0.539643   \n",
      "3    -0.215451  2.980127  3.036844  1.619951  0.776126  0.918579 -0.637450   \n",
      "4    -1.086194  2.557233  3.188012  1.031809  1.730103  0.918084 -0.653370   \n",
      "...        ...       ...       ...       ...       ...       ...       ...   \n",
      "2495  2.078884 -0.698423 -1.170533 -0.961377 -2.620821 -0.353155 -0.620306   \n",
      "2496  1.938012 -0.479929 -1.436664 -1.067813 -2.659248 -0.293104  1.369817   \n",
      "2497  2.078884 -0.698423 -1.170533 -0.961377 -2.620821 -0.353155 -0.620306   \n",
      "2498  2.078884 -0.520392 -1.377233 -1.074207 -2.640828 -0.883919  1.351524   \n",
      "2499  2.078884 -0.698423 -1.170533 -0.961377 -2.620821 -0.353155 -0.620306   \n",
      "\n",
      "      shap_Awards  shap_Cups  shap_All-Star Games  \n",
      "0        1.396560   3.415540             3.866710  \n",
      "1        1.396560   3.528455             4.203085  \n",
      "2        1.396560   3.177184             4.259305  \n",
      "3       -0.192775  -0.282624             0.741281  \n",
      "4        1.396560  -1.212765             4.249877  \n",
      "...           ...        ...                  ...  \n",
      "2495    -0.325317  -1.106398            -1.040752  \n",
      "2496    -0.325317  -1.002695            -1.054694  \n",
      "2497    -0.325317  -1.106398            -1.040752  \n",
      "2498    -0.325317  -0.961877            -1.054694  \n",
      "2499    -0.325317  -1.106398            -1.040752  \n",
      "\n",
      "[2500 rows x 10 columns]\n"
     ]
    }
   ],
   "source": [
    "# shap_values = explainer.shap_values(X)\n",
    "# print(X)\n",
    "# shap_df = pd.DataFrame(shap_values, columns='shap_'+ X.columns.values)\n",
    "# print(shap_df)"
   ]
  },
  {
   "cell_type": "code",
   "execution_count": 78,
   "metadata": {},
   "outputs": [],
   "source": [
    "# UNCOMMENT TO CREATE DATAFRAME AND CSVs\n",
    "\n",
    "# shap_values = explainer.shap_values(X)\n",
    "# shap_values = explainer.shap_values(X_test)\n",
    "\n",
    "# new_df = pd.concat([master_df, pd.DataFrame(shap_values, \n",
    "#            columns='shap_'+ X.columns.values)], axis=1)\n",
    "# base_val = explainer.expected_value.mean()\n",
    "\n",
    "\n",
    "# new_df.head()\n",
    "\n",
    "# #create master stats file with FINAL VALUE (base value + SUM(shap_values))\n",
    "\n",
    "# new_df['BaseValue']= -4.187\n",
    "# new_df['FinalValue']= new_df[\"shap_G\"] + new_df[\"shap_A\"] + new_df[\"shap_TP\"] +  new_df[\"shap_PPG\"] + new_df[\"shap_PIM\"]  + new_df[\"shap_POS\"]  + new_df[\"shap_Awards\"]+ new_df[\"shap_Cups\"]+ new_df[\"shap_All-Star Games\"]+ new_df[\"BaseValue\"]\n",
    "# new_df.head()\n",
    "\n",
    "# new_df['HoF_Probability'] = np.exp(new_df['FinalValue'])/(1+np.exp(new_df['FinalValue']))\n",
    "\n",
    "# cols_to_drop1 = ['shap_GP', 'shap_G', 'shap_A', 'shap_TP', 'shap_PPG', 'shap_PIM',\n",
    "#        'shap_POS', 'shap_Awards', 'shap_Cups', 'shap_All-Star Games', 'BaseValue']\n",
    "# cols_to_drop1\n",
    "# final_df = new_df.drop(cols_to_drop1, axis=1)\n",
    "\n",
    "# final_df.head()\n",
    "# new_df.to_csv('shap_values.csv', index=False, header=True, encoding='utf-8-sig')\n",
    "# final_df.to_csv('master_stats_file_final_values.csv', index=False, header=True, encoding='utf-8-sig')"
   ]
  },
  {
   "cell_type": "code",
   "execution_count": null,
   "metadata": {},
   "outputs": [],
   "source": []
  },
  {
   "cell_type": "code",
   "execution_count": null,
   "metadata": {},
   "outputs": [],
   "source": [
    "# player = 'Alexander Steen'\n",
    "model = forest_model\n",
    "row = X_test[X_test.index == player]\n",
    "\n",
    "explainer = shap.TreeExplainer(model)\n",
    "\n",
    "shap_values = explainer.shap_values(row)\n",
    "\n",
    "shap.initjs()\n",
    "\n",
    "shap.force_plot(explainer.expected_value[1], shap_values[1], features=row)"
   ]
  },
  {
   "cell_type": "code",
   "execution_count": null,
   "metadata": {},
   "outputs": [],
   "source": [
    "shap_values = shap.TreeExplainer(boost_model).shap_values(X_train)\n",
    "shap.summary_plot(shap_values, X_train, plot_type=\"bar\")"
   ]
  },
  {
   "cell_type": "code",
   "execution_count": null,
   "metadata": {},
   "outputs": [],
   "source": [
    "# Get the predictions and put them with the test data.\n",
    "X_output = X_test.copy()\n",
    "X_output.loc[:,'predict'] = np.round(boost_model.predict(X_output),2)\n",
    "\n",
    "# Randomly pick some observations\n",
    "random_picks = np.arange(1,330,50) # Every 50 rows\n",
    "S = X_output.iloc[random_picks]\n",
    "S"
   ]
  },
  {
   "cell_type": "code",
   "execution_count": null,
   "metadata": {},
   "outputs": [],
   "source": [
    "# Initialize your Jupyter notebook with initjs(), otherwise you will get an error message.\n",
    "shap.initjs()\n",
    "\n",
    "# Write in a function\n",
    "def shap_plot(j):\n",
    "    explainerModel = shap.TreeExplainer(boost_model)\n",
    "    shap_values_Model = explainerModel.shap_values(S)\n",
    "    p = shap.force_plot(explainerModel.expected_value, shap_values_Model[j], S.iloc[[j]])\n",
    "    return(p)"
   ]
  },
  {
   "cell_type": "code",
   "execution_count": null,
   "metadata": {},
   "outputs": [],
   "source": [
    "X_train.mean()"
   ]
  },
  {
   "cell_type": "code",
   "execution_count": null,
   "metadata": {},
   "outputs": [],
   "source": []
  },
  {
   "cell_type": "code",
   "execution_count": null,
   "metadata": {},
   "outputs": [],
   "source": [
    "shap.force_plot(explainer.expected_value[1], shap_values[1])"
   ]
  },
  {
   "cell_type": "code",
   "execution_count": null,
   "metadata": {},
   "outputs": [],
   "source": [
    "shap_values = shap.TreeExplainer(forest_model).shap_values(X_train)"
   ]
  },
  {
   "cell_type": "code",
   "execution_count": null,
   "metadata": {},
   "outputs": [],
   "source": [
    "shap.summary_plot(shap_values, X_train)"
   ]
  },
  {
   "cell_type": "code",
   "execution_count": null,
   "metadata": {},
   "outputs": [],
   "source": [
    "y_val.mean()"
   ]
  },
  {
   "cell_type": "code",
   "execution_count": null,
   "metadata": {},
   "outputs": [],
   "source": []
  },
  {
   "cell_type": "code",
   "execution_count": null,
   "metadata": {},
   "outputs": [],
   "source": []
  },
  {
   "cell_type": "code",
   "execution_count": null,
   "metadata": {},
   "outputs": [],
   "source": []
  }
 ],
 "metadata": {
  "kernelspec": {
   "display_name": "Python 3",
   "language": "python",
   "name": "python3"
  },
  "language_info": {
   "codemirror_mode": {
    "name": "ipython",
    "version": 3
   },
   "file_extension": ".py",
   "mimetype": "text/x-python",
   "name": "python",
   "nbconvert_exporter": "python",
   "pygments_lexer": "ipython3",
   "version": "3.6.10"
  }
 },
 "nbformat": 4,
 "nbformat_minor": 4
}
