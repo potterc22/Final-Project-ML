{
 "cells": [
  {
   "cell_type": "code",
   "execution_count": 1,
   "metadata": {},
   "outputs": [],
   "source": [
    "from splinter import Browser\n",
    "from bs4 import BeautifulSoup\n",
    "import time\n",
    "import pandas as pd\n",
    "import requests"
   ]
  },
  {
   "cell_type": "code",
   "execution_count": 2,
   "metadata": {},
   "outputs": [
    {
     "output_type": "stream",
     "name": "stdout",
     "text": [
      "page: 1 -------------\n",
      "page: 2 -------------\n",
      "page: 3 -------------\n",
      "page: 4 -------------\n",
      "page: 5 -------------\n",
      "page: 6 -------------\n",
      "page: 7 -------------\n",
      "page: 8 -------------\n",
      "page: 9 -------------\n",
      "page: 10 -------------\n",
      "page: 11 -------------\n",
      "page: 12 -------------\n",
      "page: 13 -------------\n",
      "page: 14 -------------\n",
      "page: 15 -------------\n",
      "page: 16 -------------\n",
      "page: 17 -------------\n",
      "page: 18 -------------\n",
      "page: 19 -------------\n",
      "page: 20 -------------\n",
      "page: 21 -------------\n",
      "page: 22 -------------\n",
      "page: 23 -------------\n",
      "page: 24 -------------\n",
      "page: 25 -------------\n",
      "page: 26 -------------\n",
      "page: 27 -------------\n",
      "page: 28 -------------\n",
      "page: 29 -------------\n",
      "page: 30 -------------\n",
      "page: 31 -------------\n",
      "page: 32 -------------\n",
      "page: 33 -------------\n",
      "page: 34 -------------\n",
      "page: 35 -------------\n",
      "page: 36 -------------\n",
      "page: 37 -------------\n",
      "page: 38 -------------\n",
      "page: 39 -------------\n",
      "page: 40 -------------\n",
      "page: 41 -------------\n",
      "page: 42 -------------\n",
      "page: 43 -------------\n",
      "page: 44 -------------\n",
      "page: 45 -------------\n",
      "page: 46 -------------\n",
      "page: 47 -------------\n",
      "page: 48 -------------\n",
      "page: 49 -------------\n",
      "page: 50 -------------\n",
      "page: 51 -------------\n",
      "page: 52 -------------\n",
      "page: 53 -------------\n",
      "page: 54 -------------\n",
      "page: 55 -------------\n",
      "page: 56 -------------\n",
      "page: 57 -------------\n",
      "page: 58 -------------\n",
      "page: 59 -------------\n",
      "page: 60 -------------\n",
      "page: 61 -------------\n",
      "page: 62 -------------\n",
      "page: 63 -------------\n",
      "page: 64 -------------\n",
      "page: 65 -------------\n",
      "page: 66 -------------\n",
      "page: 67 -------------\n",
      "page: 68 -------------\n",
      "page: 69 -------------\n",
      "page: 70 -------------\n",
      "page: 71 -------------\n",
      "page: 72 -------------\n",
      "page: 73 -------------\n",
      "Scrapping completed!\n"
     ]
    }
   ],
   "source": [
    "# Scrape data from hockey website url\n",
    "\n",
    "player_tables = []\n",
    "\n",
    "for x in range(1, 74):\n",
    "\n",
    "    # url = f'https://www.eliteprospects.com/league/nhl/stats/all-time?page={x}'\n",
    "    # browser.visit(url)\n",
    "    # time.sleep(3)\n",
    "    # html = browser.html\n",
    "    # soup = BeautifulSoup(html, 'html.parser')\n",
    "\n",
    "    # players = soup.find('table', class_='player-stats')\n",
    "\n",
    "    url = f'https://www.eliteprospects.com/league/nhl/stats/all-time?page={x}'\n",
    "    html = requests.get(url).text\n",
    "\n",
    "    soup = BeautifulSoup(html, 'html.parser')\n",
    "\n",
    "    players = soup.find('table', class_='player-stats')\n",
    "\n",
    "    player_tables.append(pd.read_html(str(players))[0])\n",
    "\n",
    "    \n",
    "    print('page:', x, '-------------')\n",
    "    \n",
    "\n",
    "    # browser.links.find_by_partial_text('Next').click()\n",
    "print(\"Scrapping completed!\")"
   ]
  },
  {
   "cell_type": "code",
   "execution_count": 11,
   "metadata": {},
   "outputs": [
    {
     "output_type": "execute_result",
     "data": {
      "text/plain": [
       "     #             Player    GP    G     A    TP    PPG   PIM     Period  \\\n",
       "0  1.0  Wayne Gretzky (C)  1487  894  1963  2857  1.921   577  1979-1999   \n",
       "1  2.0  Jaromír Jágr (RW)  1733  766  1155  1921  1.108  1167  1990-2018   \n",
       "2  3.0   Mark Messier (C)  1756  694  1193  1887  1.075  1910  1979-2004   \n",
       "3  4.0   Gordie Howe (RW)  1767  801  1049  1850  1.047  1685  1946-1980   \n",
       "4  5.0    Ron Francis (C)  1731  549  1249  1798  1.039   979  1981-2004   \n",
       "\n",
       "   Years  \n",
       "0   20.0  \n",
       "1   24.0  \n",
       "2   25.0  \n",
       "3   26.0  \n",
       "4   23.0  "
      ],
      "text/html": "<div>\n<style scoped>\n    .dataframe tbody tr th:only-of-type {\n        vertical-align: middle;\n    }\n\n    .dataframe tbody tr th {\n        vertical-align: top;\n    }\n\n    .dataframe thead th {\n        text-align: right;\n    }\n</style>\n<table border=\"1\" class=\"dataframe\">\n  <thead>\n    <tr style=\"text-align: right;\">\n      <th></th>\n      <th>#</th>\n      <th>Player</th>\n      <th>GP</th>\n      <th>G</th>\n      <th>A</th>\n      <th>TP</th>\n      <th>PPG</th>\n      <th>PIM</th>\n      <th>Period</th>\n      <th>Years</th>\n    </tr>\n  </thead>\n  <tbody>\n    <tr>\n      <th>0</th>\n      <td>1.0</td>\n      <td>Wayne Gretzky (C)</td>\n      <td>1487</td>\n      <td>894</td>\n      <td>1963</td>\n      <td>2857</td>\n      <td>1.921</td>\n      <td>577</td>\n      <td>1979-1999</td>\n      <td>20.0</td>\n    </tr>\n    <tr>\n      <th>1</th>\n      <td>2.0</td>\n      <td>Jaromír Jágr (RW)</td>\n      <td>1733</td>\n      <td>766</td>\n      <td>1155</td>\n      <td>1921</td>\n      <td>1.108</td>\n      <td>1167</td>\n      <td>1990-2018</td>\n      <td>24.0</td>\n    </tr>\n    <tr>\n      <th>2</th>\n      <td>3.0</td>\n      <td>Mark Messier (C)</td>\n      <td>1756</td>\n      <td>694</td>\n      <td>1193</td>\n      <td>1887</td>\n      <td>1.075</td>\n      <td>1910</td>\n      <td>1979-2004</td>\n      <td>25.0</td>\n    </tr>\n    <tr>\n      <th>3</th>\n      <td>4.0</td>\n      <td>Gordie Howe (RW)</td>\n      <td>1767</td>\n      <td>801</td>\n      <td>1049</td>\n      <td>1850</td>\n      <td>1.047</td>\n      <td>1685</td>\n      <td>1946-1980</td>\n      <td>26.0</td>\n    </tr>\n    <tr>\n      <th>4</th>\n      <td>5.0</td>\n      <td>Ron Francis (C)</td>\n      <td>1731</td>\n      <td>549</td>\n      <td>1249</td>\n      <td>1798</td>\n      <td>1.039</td>\n      <td>979</td>\n      <td>1981-2004</td>\n      <td>23.0</td>\n    </tr>\n  </tbody>\n</table>\n</div>"
     },
     "metadata": {},
     "execution_count": 11
    }
   ],
   "source": [
    "# Combined the 73 pages of data to one dataframe.\n",
    "# and dropped missing values\n",
    "combined_df = pd.concat(player_tables, ignore_index=True)\n",
    "combined_df = combined_df.dropna()\n",
    "combined_df.head()\n",
    "\n"
   ]
  },
  {
   "cell_type": "code",
   "execution_count": 4,
   "metadata": {},
   "outputs": [
    {
     "output_type": "execute_result",
     "data": {
      "text/plain": [
       "             Name    GP    G     A    TP    PPG   PIM     Period  Years POS\n",
       "0  Wayne Gretzky   1487  894  1963  2857  1.921   577  1979-1999   20.0   C\n",
       "1   Jaromír Jágr   1733  766  1155  1921  1.108  1167  1990-2018   24.0  RW\n",
       "2   Mark Messier   1756  694  1193  1887  1.075  1910  1979-2004   25.0   C\n",
       "3    Gordie Howe   1767  801  1049  1850  1.047  1685  1946-1980   26.0  RW\n",
       "4    Ron Francis   1731  549  1249  1798  1.039   979  1981-2004   23.0   C"
      ],
      "text/html": "<div>\n<style scoped>\n    .dataframe tbody tr th:only-of-type {\n        vertical-align: middle;\n    }\n\n    .dataframe tbody tr th {\n        vertical-align: top;\n    }\n\n    .dataframe thead th {\n        text-align: right;\n    }\n</style>\n<table border=\"1\" class=\"dataframe\">\n  <thead>\n    <tr style=\"text-align: right;\">\n      <th></th>\n      <th>Name</th>\n      <th>GP</th>\n      <th>G</th>\n      <th>A</th>\n      <th>TP</th>\n      <th>PPG</th>\n      <th>PIM</th>\n      <th>Period</th>\n      <th>Years</th>\n      <th>POS</th>\n    </tr>\n  </thead>\n  <tbody>\n    <tr>\n      <th>0</th>\n      <td>Wayne Gretzky</td>\n      <td>1487</td>\n      <td>894</td>\n      <td>1963</td>\n      <td>2857</td>\n      <td>1.921</td>\n      <td>577</td>\n      <td>1979-1999</td>\n      <td>20.0</td>\n      <td>C</td>\n    </tr>\n    <tr>\n      <th>1</th>\n      <td>Jaromír Jágr</td>\n      <td>1733</td>\n      <td>766</td>\n      <td>1155</td>\n      <td>1921</td>\n      <td>1.108</td>\n      <td>1167</td>\n      <td>1990-2018</td>\n      <td>24.0</td>\n      <td>RW</td>\n    </tr>\n    <tr>\n      <th>2</th>\n      <td>Mark Messier</td>\n      <td>1756</td>\n      <td>694</td>\n      <td>1193</td>\n      <td>1887</td>\n      <td>1.075</td>\n      <td>1910</td>\n      <td>1979-2004</td>\n      <td>25.0</td>\n      <td>C</td>\n    </tr>\n    <tr>\n      <th>3</th>\n      <td>Gordie Howe</td>\n      <td>1767</td>\n      <td>801</td>\n      <td>1049</td>\n      <td>1850</td>\n      <td>1.047</td>\n      <td>1685</td>\n      <td>1946-1980</td>\n      <td>26.0</td>\n      <td>RW</td>\n    </tr>\n    <tr>\n      <th>4</th>\n      <td>Ron Francis</td>\n      <td>1731</td>\n      <td>549</td>\n      <td>1249</td>\n      <td>1798</td>\n      <td>1.039</td>\n      <td>979</td>\n      <td>1981-2004</td>\n      <td>23.0</td>\n      <td>C</td>\n    </tr>\n  </tbody>\n</table>\n</div>"
     },
     "metadata": {},
     "execution_count": 4
    }
   ],
   "source": [
    "# Created new df and split the player column into Name and POS\n",
    "#  and dropped \")\" and player column and moved name column to the left\n",
    "adjusted_df = combined_df\n",
    "adjusted_df[['Name','POS']] = combined_df.Player.str.split(\"(\",expand=True) \n",
    "adjusted_df=adjusted_df.replace('\\)','',regex=True)\n",
    "##adjusted_df = adjusted_df.drop('Player', 1)\n",
    "adjusted_df = adjusted_df[['Name', 'GP', 'G', 'A', 'TP', 'PPG', 'PIM', 'Period', 'Years', 'POS']]\n",
    "adjusted_df.head()"
   ]
  },
  {
   "cell_type": "code",
   "execution_count": 12,
   "metadata": {},
   "outputs": [
    {
     "output_type": "execute_result",
     "data": {
      "text/plain": [
       "            Name    GP    G     A    TP    PPG   PIM     Period  Years POS  \\\n",
       "0  Wayne Gretzky  1487  894  1963  2857  1.921   577  1979-1999   20.0   C   \n",
       "1   Jaromir Jagr  1733  766  1155  1921  1.108  1167  1990-2018   24.0  RW   \n",
       "2   Mark Messier  1756  694  1193  1887  1.075  1910  1979-2004   25.0   C   \n",
       "3    Gordie Howe  1767  801  1049  1850  1.047  1685  1946-1980   26.0  RW   \n",
       "4    Ron Francis  1731  549  1249  1798  1.039   979  1981-2004   23.0   C   \n",
       "\n",
       "   firstYear  lastYear  \n",
       "0       1979      1999  \n",
       "1       1990      2018  \n",
       "2       1979      2004  \n",
       "3       1946      1980  \n",
       "4       1981      2004  "
      ],
      "text/html": "<div>\n<style scoped>\n    .dataframe tbody tr th:only-of-type {\n        vertical-align: middle;\n    }\n\n    .dataframe tbody tr th {\n        vertical-align: top;\n    }\n\n    .dataframe thead th {\n        text-align: right;\n    }\n</style>\n<table border=\"1\" class=\"dataframe\">\n  <thead>\n    <tr style=\"text-align: right;\">\n      <th></th>\n      <th>Name</th>\n      <th>GP</th>\n      <th>G</th>\n      <th>A</th>\n      <th>TP</th>\n      <th>PPG</th>\n      <th>PIM</th>\n      <th>Period</th>\n      <th>Years</th>\n      <th>POS</th>\n      <th>firstYear</th>\n      <th>lastYear</th>\n    </tr>\n  </thead>\n  <tbody>\n    <tr>\n      <th>0</th>\n      <td>Wayne Gretzky</td>\n      <td>1487</td>\n      <td>894</td>\n      <td>1963</td>\n      <td>2857</td>\n      <td>1.921</td>\n      <td>577</td>\n      <td>1979-1999</td>\n      <td>20.0</td>\n      <td>C</td>\n      <td>1979</td>\n      <td>1999</td>\n    </tr>\n    <tr>\n      <th>1</th>\n      <td>Jaromir Jagr</td>\n      <td>1733</td>\n      <td>766</td>\n      <td>1155</td>\n      <td>1921</td>\n      <td>1.108</td>\n      <td>1167</td>\n      <td>1990-2018</td>\n      <td>24.0</td>\n      <td>RW</td>\n      <td>1990</td>\n      <td>2018</td>\n    </tr>\n    <tr>\n      <th>2</th>\n      <td>Mark Messier</td>\n      <td>1756</td>\n      <td>694</td>\n      <td>1193</td>\n      <td>1887</td>\n      <td>1.075</td>\n      <td>1910</td>\n      <td>1979-2004</td>\n      <td>25.0</td>\n      <td>C</td>\n      <td>1979</td>\n      <td>2004</td>\n    </tr>\n    <tr>\n      <th>3</th>\n      <td>Gordie Howe</td>\n      <td>1767</td>\n      <td>801</td>\n      <td>1049</td>\n      <td>1850</td>\n      <td>1.047</td>\n      <td>1685</td>\n      <td>1946-1980</td>\n      <td>26.0</td>\n      <td>RW</td>\n      <td>1946</td>\n      <td>1980</td>\n    </tr>\n    <tr>\n      <th>4</th>\n      <td>Ron Francis</td>\n      <td>1731</td>\n      <td>549</td>\n      <td>1249</td>\n      <td>1798</td>\n      <td>1.039</td>\n      <td>979</td>\n      <td>1981-2004</td>\n      <td>23.0</td>\n      <td>C</td>\n      <td>1981</td>\n      <td>2004</td>\n    </tr>\n  </tbody>\n</table>\n</div>"
     },
     "metadata": {},
     "execution_count": 12
    }
   ],
   "source": [
    "# Remove and replace special characters from Name column\n",
    "\n",
    "cols_to_check = ['Name']\n",
    "adjusted_df[cols_to_check] = adjusted_df[cols_to_check].replace({'á':'a'}, regex=True)\n",
    "adjusted_df[cols_to_check] = adjusted_df[cols_to_check].replace({'í':'i'}, regex=True)\n",
    "adjusted_df[cols_to_check] = adjusted_df[cols_to_check].replace({'ä':'a'}, regex=True)\n",
    "adjusted_df[cols_to_check] = adjusted_df[cols_to_check].replace({'ö':'o'}, regex=True)\n",
    "adjusted_df[cols_to_check] = adjusted_df[cols_to_check].replace({'ç':'c'}, regex=True)\n",
    "adjusted_df[cols_to_check] = adjusted_df[cols_to_check].replace({'å':'a'}, regex=True)\n",
    "adjusted_df[cols_to_check] = adjusted_df[cols_to_check].replace({'É':'E'}, regex=True)\n",
    "adjusted_df[cols_to_check] = adjusted_df[cols_to_check].replace({'Å':'A'}, regex=True)\n",
    "adjusted_df[cols_to_check] = adjusted_df[cols_to_check].replace({'è':'e'}, regex=True)\n",
    "adjusted_df[cols_to_check] = adjusted_df[cols_to_check].replace({'ë':'e'}, regex=True)\n",
    "adjusted_df[cols_to_check] = adjusted_df[cols_to_check].replace({'î':'i'}, regex=True)\n",
    "adjusted_df[cols_to_check] = adjusted_df[cols_to_check].replace({'ó':'o'}, regex=True)\n",
    "adjusted_df[cols_to_check] = adjusted_df[cols_to_check].replace({'ô':'o'}, regex=True)\n",
    "adjusted_df[cols_to_check] = adjusted_df[cols_to_check].replace({'ø':'o'}, regex=True)\n",
    "adjusted_df[cols_to_check] = adjusted_df[cols_to_check].replace({'ß':'ss'}, regex=True)\n",
    "adjusted_df[cols_to_check] = adjusted_df[cols_to_check].replace({'ü':'u'}, regex=True)\n",
    "adjusted_df[cols_to_check] = adjusted_df[cols_to_check].replace({'ý':'y'}, regex=True)\n",
    "adjusted_df[cols_to_check] = adjusted_df[cols_to_check].replace({'Ö':'O'}, regex=True)\n",
    "adjusted_df[cols_to_check] = adjusted_df[cols_to_check].replace({'é':'e'}, regex=True)\n",
    "\n",
    "adjusted_df.head()"
   ]
  },
  {
   "cell_type": "code",
   "execution_count": 13,
   "metadata": {},
   "outputs": [
    {
     "output_type": "execute_result",
     "data": {
      "text/plain": [
       "            Name    GP    G     A    TP    PPG   PIM     Period  Years POS  \\\n",
       "0  Wayne Gretzky  1487  894  1963  2857  1.921   577  1979-1999   20.0   C   \n",
       "1   Jaromir Jagr  1733  766  1155  1921  1.108  1167  1990-2018   24.0  RW   \n",
       "2   Mark Messier  1756  694  1193  1887  1.075  1910  1979-2004   25.0   C   \n",
       "3    Gordie Howe  1767  801  1049  1850  1.047  1685  1946-1980   26.0  RW   \n",
       "4    Ron Francis  1731  549  1249  1798  1.039   979  1981-2004   23.0   C   \n",
       "\n",
       "   firstYear  lastYear  \n",
       "0       1979      1999  \n",
       "1       1990      2018  \n",
       "2       1979      2004  \n",
       "3       1946      1980  \n",
       "4       1981      2004  "
      ],
      "text/html": "<div>\n<style scoped>\n    .dataframe tbody tr th:only-of-type {\n        vertical-align: middle;\n    }\n\n    .dataframe tbody tr th {\n        vertical-align: top;\n    }\n\n    .dataframe thead th {\n        text-align: right;\n    }\n</style>\n<table border=\"1\" class=\"dataframe\">\n  <thead>\n    <tr style=\"text-align: right;\">\n      <th></th>\n      <th>Name</th>\n      <th>GP</th>\n      <th>G</th>\n      <th>A</th>\n      <th>TP</th>\n      <th>PPG</th>\n      <th>PIM</th>\n      <th>Period</th>\n      <th>Years</th>\n      <th>POS</th>\n      <th>firstYear</th>\n      <th>lastYear</th>\n    </tr>\n  </thead>\n  <tbody>\n    <tr>\n      <th>0</th>\n      <td>Wayne Gretzky</td>\n      <td>1487</td>\n      <td>894</td>\n      <td>1963</td>\n      <td>2857</td>\n      <td>1.921</td>\n      <td>577</td>\n      <td>1979-1999</td>\n      <td>20.0</td>\n      <td>C</td>\n      <td>1979</td>\n      <td>1999</td>\n    </tr>\n    <tr>\n      <th>1</th>\n      <td>Jaromir Jagr</td>\n      <td>1733</td>\n      <td>766</td>\n      <td>1155</td>\n      <td>1921</td>\n      <td>1.108</td>\n      <td>1167</td>\n      <td>1990-2018</td>\n      <td>24.0</td>\n      <td>RW</td>\n      <td>1990</td>\n      <td>2018</td>\n    </tr>\n    <tr>\n      <th>2</th>\n      <td>Mark Messier</td>\n      <td>1756</td>\n      <td>694</td>\n      <td>1193</td>\n      <td>1887</td>\n      <td>1.075</td>\n      <td>1910</td>\n      <td>1979-2004</td>\n      <td>25.0</td>\n      <td>C</td>\n      <td>1979</td>\n      <td>2004</td>\n    </tr>\n    <tr>\n      <th>3</th>\n      <td>Gordie Howe</td>\n      <td>1767</td>\n      <td>801</td>\n      <td>1049</td>\n      <td>1850</td>\n      <td>1.047</td>\n      <td>1685</td>\n      <td>1946-1980</td>\n      <td>26.0</td>\n      <td>RW</td>\n      <td>1946</td>\n      <td>1980</td>\n    </tr>\n    <tr>\n      <th>4</th>\n      <td>Ron Francis</td>\n      <td>1731</td>\n      <td>549</td>\n      <td>1249</td>\n      <td>1798</td>\n      <td>1.039</td>\n      <td>979</td>\n      <td>1981-2004</td>\n      <td>23.0</td>\n      <td>C</td>\n      <td>1981</td>\n      <td>2004</td>\n    </tr>\n  </tbody>\n</table>\n</div>"
     },
     "metadata": {},
     "execution_count": 13
    }
   ],
   "source": [
    "# Remove empty spaces to the left of value in name column\n",
    "adjusted_df['Name'] = adjusted_df['Name'].str.rstrip()\n",
    "adjusted_df.head()\n"
   ]
  },
  {
   "cell_type": "code",
   "execution_count": 14,
   "metadata": {},
   "outputs": [
    {
     "output_type": "execute_result",
     "data": {
      "text/plain": [
       "            Name    GP    G     A    TP    PPG   PIM     Period  Years POS  \\\n",
       "0  Wayne Gretzky  1487  894  1963  2857  1.921   577  1979-1999   20.0   C   \n",
       "1   Jaromir Jagr  1733  766  1155  1921  1.108  1167  1990-2018   24.0  RW   \n",
       "2   Mark Messier  1756  694  1193  1887  1.075  1910  1979-2004   25.0   C   \n",
       "3    Gordie Howe  1767  801  1049  1850  1.047  1685  1946-1980   26.0  RW   \n",
       "4    Ron Francis  1731  549  1249  1798  1.039   979  1981-2004   23.0   C   \n",
       "\n",
       "  firstYear lastYear  \n",
       "0      1979     1999  \n",
       "1      1990     2018  \n",
       "2      1979     2004  \n",
       "3      1946     1980  \n",
       "4      1981     2004  "
      ],
      "text/html": "<div>\n<style scoped>\n    .dataframe tbody tr th:only-of-type {\n        vertical-align: middle;\n    }\n\n    .dataframe tbody tr th {\n        vertical-align: top;\n    }\n\n    .dataframe thead th {\n        text-align: right;\n    }\n</style>\n<table border=\"1\" class=\"dataframe\">\n  <thead>\n    <tr style=\"text-align: right;\">\n      <th></th>\n      <th>Name</th>\n      <th>GP</th>\n      <th>G</th>\n      <th>A</th>\n      <th>TP</th>\n      <th>PPG</th>\n      <th>PIM</th>\n      <th>Period</th>\n      <th>Years</th>\n      <th>POS</th>\n      <th>firstYear</th>\n      <th>lastYear</th>\n    </tr>\n  </thead>\n  <tbody>\n    <tr>\n      <th>0</th>\n      <td>Wayne Gretzky</td>\n      <td>1487</td>\n      <td>894</td>\n      <td>1963</td>\n      <td>2857</td>\n      <td>1.921</td>\n      <td>577</td>\n      <td>1979-1999</td>\n      <td>20.0</td>\n      <td>C</td>\n      <td>1979</td>\n      <td>1999</td>\n    </tr>\n    <tr>\n      <th>1</th>\n      <td>Jaromir Jagr</td>\n      <td>1733</td>\n      <td>766</td>\n      <td>1155</td>\n      <td>1921</td>\n      <td>1.108</td>\n      <td>1167</td>\n      <td>1990-2018</td>\n      <td>24.0</td>\n      <td>RW</td>\n      <td>1990</td>\n      <td>2018</td>\n    </tr>\n    <tr>\n      <th>2</th>\n      <td>Mark Messier</td>\n      <td>1756</td>\n      <td>694</td>\n      <td>1193</td>\n      <td>1887</td>\n      <td>1.075</td>\n      <td>1910</td>\n      <td>1979-2004</td>\n      <td>25.0</td>\n      <td>C</td>\n      <td>1979</td>\n      <td>2004</td>\n    </tr>\n    <tr>\n      <th>3</th>\n      <td>Gordie Howe</td>\n      <td>1767</td>\n      <td>801</td>\n      <td>1049</td>\n      <td>1850</td>\n      <td>1.047</td>\n      <td>1685</td>\n      <td>1946-1980</td>\n      <td>26.0</td>\n      <td>RW</td>\n      <td>1946</td>\n      <td>1980</td>\n    </tr>\n    <tr>\n      <th>4</th>\n      <td>Ron Francis</td>\n      <td>1731</td>\n      <td>549</td>\n      <td>1249</td>\n      <td>1798</td>\n      <td>1.039</td>\n      <td>979</td>\n      <td>1981-2004</td>\n      <td>23.0</td>\n      <td>C</td>\n      <td>1981</td>\n      <td>2004</td>\n    </tr>\n  </tbody>\n</table>\n</div>"
     },
     "metadata": {},
     "execution_count": 14
    }
   ],
   "source": [
    "# Split Period column into firstYear and lastYear\n",
    "adjusted_df[['firstYear','lastYear']] = adjusted_df.Period.str.split(\"-\",expand=True)\n",
    "adjusted_df.head()"
   ]
  },
  {
   "cell_type": "code",
   "execution_count": 15,
   "metadata": {},
   "outputs": [],
   "source": [
    "# Converted data type from object to integer ono the first and last year columns\n",
    "adjusted_df[\"firstYear\"] = adjusted_df[\"firstYear\"].astype(str).astype(int)\n",
    "adjusted_df[\"lastYear\"] = adjusted_df[\"lastYear\"].astype(str).astype(int)"
   ]
  },
  {
   "cell_type": "code",
   "execution_count": 16,
   "metadata": {},
   "outputs": [
    {
     "output_type": "execute_result",
     "data": {
      "text/plain": [
       "Name          object\n",
       "GP            object\n",
       "G             object\n",
       "A             object\n",
       "TP            object\n",
       "PPG           object\n",
       "PIM           object\n",
       "Period        object\n",
       "Years        float64\n",
       "POS           object\n",
       "firstYear      int32\n",
       "lastYear       int32\n",
       "dtype: object"
      ]
     },
     "metadata": {},
     "execution_count": 16
    }
   ],
   "source": [
    "adjusted_df.dtypes"
   ]
  },
  {
   "cell_type": "code",
   "execution_count": 17,
   "metadata": {},
   "outputs": [
    {
     "data": {
      "text/html": [
       "<div>\n",
       "<style scoped>\n",
       "    .dataframe tbody tr th:only-of-type {\n",
       "        vertical-align: middle;\n",
       "    }\n",
       "\n",
       "    .dataframe tbody tr th {\n",
       "        vertical-align: top;\n",
       "    }\n",
       "\n",
       "    .dataframe thead th {\n",
       "        text-align: right;\n",
       "    }\n",
       "</style>\n",
       "<table border=\"1\" class=\"dataframe\">\n",
       "  <thead>\n",
       "    <tr style=\"text-align: right;\">\n",
       "      <th></th>\n",
       "      <th>Name</th>\n",
       "      <th>GP</th>\n",
       "      <th>G</th>\n",
       "      <th>A</th>\n",
       "      <th>TP</th>\n",
       "      <th>PPG</th>\n",
       "      <th>PIM</th>\n",
       "      <th>Years</th>\n",
       "      <th>POS</th>\n",
       "      <th>firstYear</th>\n",
       "      <th>lastYear</th>\n",
       "    </tr>\n",
       "  </thead>\n",
       "  <tbody>\n",
       "    <tr>\n",
       "      <th>0</th>\n",
       "      <td>Wayne Gretzky</td>\n",
       "      <td>1487</td>\n",
       "      <td>894</td>\n",
       "      <td>1963</td>\n",
       "      <td>2857</td>\n",
       "      <td>1.921</td>\n",
       "      <td>577</td>\n",
       "      <td>20.0</td>\n",
       "      <td>C</td>\n",
       "      <td>1979</td>\n",
       "      <td>1999</td>\n",
       "    </tr>\n",
       "    <tr>\n",
       "      <th>2</th>\n",
       "      <td>Mark Messier</td>\n",
       "      <td>1756</td>\n",
       "      <td>694</td>\n",
       "      <td>1193</td>\n",
       "      <td>1887</td>\n",
       "      <td>1.075</td>\n",
       "      <td>1910</td>\n",
       "      <td>25.0</td>\n",
       "      <td>C</td>\n",
       "      <td>1979</td>\n",
       "      <td>2004</td>\n",
       "    </tr>\n",
       "    <tr>\n",
       "      <th>3</th>\n",
       "      <td>Gordie Howe</td>\n",
       "      <td>1767</td>\n",
       "      <td>801</td>\n",
       "      <td>1049</td>\n",
       "      <td>1850</td>\n",
       "      <td>1.047</td>\n",
       "      <td>1685</td>\n",
       "      <td>26.0</td>\n",
       "      <td>RW</td>\n",
       "      <td>1946</td>\n",
       "      <td>1980</td>\n",
       "    </tr>\n",
       "    <tr>\n",
       "      <th>4</th>\n",
       "      <td>Ron Francis</td>\n",
       "      <td>1731</td>\n",
       "      <td>549</td>\n",
       "      <td>1249</td>\n",
       "      <td>1798</td>\n",
       "      <td>1.039</td>\n",
       "      <td>979</td>\n",
       "      <td>23.0</td>\n",
       "      <td>C</td>\n",
       "      <td>1981</td>\n",
       "      <td>2004</td>\n",
       "    </tr>\n",
       "    <tr>\n",
       "      <th>5</th>\n",
       "      <td>Marcel Dionne</td>\n",
       "      <td>1348</td>\n",
       "      <td>731</td>\n",
       "      <td>1040</td>\n",
       "      <td>1771</td>\n",
       "      <td>1.314</td>\n",
       "      <td>600</td>\n",
       "      <td>18.0</td>\n",
       "      <td>C</td>\n",
       "      <td>1971</td>\n",
       "      <td>1989</td>\n",
       "    </tr>\n",
       "  </tbody>\n",
       "</table>\n",
       "</div>"
      ],
      "text/plain": [
       "            Name    GP    G     A    TP    PPG   PIM  Years POS  firstYear  \\\n",
       "0  Wayne Gretzky  1487  894  1963  2857  1.921   577   20.0   C       1979   \n",
       "2   Mark Messier  1756  694  1193  1887  1.075  1910   25.0   C       1979   \n",
       "3    Gordie Howe  1767  801  1049  1850  1.047  1685   26.0  RW       1946   \n",
       "4    Ron Francis  1731  549  1249  1798  1.039   979   23.0   C       1981   \n",
       "5  Marcel Dionne  1348  731  1040  1771  1.314   600   18.0   C       1971   \n",
       "\n",
       "   lastYear  \n",
       "0      1999  \n",
       "2      2004  \n",
       "3      1980  \n",
       "4      2004  \n",
       "5      1989  "
      ]
     },
     "execution_count": 17,
     "metadata": {},
     "output_type": "execute_result"
    }
   ],
   "source": [
    "# create dataframe for players with a last year greater than or equal to 2017.\n",
    "# creates a list of players that are eligible for the hockey hall of fame.\n",
    "retired_df = adjusted_df[['Name', 'GP', 'G', 'A', 'TP', 'PPG', 'PIM', 'Years', 'POS', 'firstYear', 'lastYear']]\n",
    "retired_df = retired_df[adjusted_df['lastYear'] <= 2017] \n",
    "retired_df.head()"
   ]
  },
  {
   "cell_type": "code",
   "execution_count": 19,
   "metadata": {},
   "outputs": [
    {
     "data": {
      "text/html": [
       "<div>\n",
       "<style scoped>\n",
       "    .dataframe tbody tr th:only-of-type {\n",
       "        vertical-align: middle;\n",
       "    }\n",
       "\n",
       "    .dataframe tbody tr th {\n",
       "        vertical-align: top;\n",
       "    }\n",
       "\n",
       "    .dataframe thead th {\n",
       "        text-align: right;\n",
       "    }\n",
       "</style>\n",
       "<table border=\"1\" class=\"dataframe\">\n",
       "  <thead>\n",
       "    <tr style=\"text-align: right;\">\n",
       "      <th></th>\n",
       "      <th>Name</th>\n",
       "      <th>GP</th>\n",
       "      <th>G</th>\n",
       "      <th>A</th>\n",
       "      <th>TP</th>\n",
       "      <th>PPG</th>\n",
       "      <th>PIM</th>\n",
       "      <th>Years</th>\n",
       "      <th>POS</th>\n",
       "      <th>firstYear</th>\n",
       "      <th>lastYear</th>\n",
       "    </tr>\n",
       "  </thead>\n",
       "  <tbody>\n",
       "    <tr>\n",
       "      <th>1</th>\n",
       "      <td>Jaromir Jagr</td>\n",
       "      <td>1733</td>\n",
       "      <td>766</td>\n",
       "      <td>1155</td>\n",
       "      <td>1921</td>\n",
       "      <td>1.108</td>\n",
       "      <td>1167</td>\n",
       "      <td>24.0</td>\n",
       "      <td>RW</td>\n",
       "      <td>1990</td>\n",
       "      <td>2018</td>\n",
       "    </tr>\n",
       "    <tr>\n",
       "      <th>14</th>\n",
       "      <td>Joe Thornton</td>\n",
       "      <td>1637</td>\n",
       "      <td>420</td>\n",
       "      <td>1089</td>\n",
       "      <td>1509</td>\n",
       "      <td>0.922</td>\n",
       "      <td>1248</td>\n",
       "      <td>23.0</td>\n",
       "      <td>C</td>\n",
       "      <td>1997</td>\n",
       "      <td>2021</td>\n",
       "    </tr>\n",
       "    <tr>\n",
       "      <th>38</th>\n",
       "      <td>Alexander Ovechkin</td>\n",
       "      <td>1153</td>\n",
       "      <td>706</td>\n",
       "      <td>574</td>\n",
       "      <td>1280</td>\n",
       "      <td>1.11</td>\n",
       "      <td>719</td>\n",
       "      <td>16.0</td>\n",
       "      <td>LW</td>\n",
       "      <td>2005</td>\n",
       "      <td>2021</td>\n",
       "    </tr>\n",
       "    <tr>\n",
       "      <th>41</th>\n",
       "      <td>Sidney Crosby</td>\n",
       "      <td>985</td>\n",
       "      <td>463</td>\n",
       "      <td>801</td>\n",
       "      <td>1264</td>\n",
       "      <td>1.283</td>\n",
       "      <td>673</td>\n",
       "      <td>16.0</td>\n",
       "      <td>C</td>\n",
       "      <td>2005</td>\n",
       "      <td>2021</td>\n",
       "    </tr>\n",
       "    <tr>\n",
       "      <th>53</th>\n",
       "      <td>Patrick Marleau</td>\n",
       "      <td>1724</td>\n",
       "      <td>562</td>\n",
       "      <td>626</td>\n",
       "      <td>1188</td>\n",
       "      <td>0.689</td>\n",
       "      <td>517</td>\n",
       "      <td>23.0</td>\n",
       "      <td>LW</td>\n",
       "      <td>1997</td>\n",
       "      <td>2021</td>\n",
       "    </tr>\n",
       "  </tbody>\n",
       "</table>\n",
       "</div>"
      ],
      "text/plain": [
       "                  Name    GP    G     A    TP    PPG   PIM  Years POS  \\\n",
       "1         Jaromir Jagr  1733  766  1155  1921  1.108  1167   24.0  RW   \n",
       "14        Joe Thornton  1637  420  1089  1509  0.922  1248   23.0   C   \n",
       "38  Alexander Ovechkin  1153  706   574  1280   1.11   719   16.0  LW   \n",
       "41       Sidney Crosby   985  463   801  1264  1.283   673   16.0   C   \n",
       "53     Patrick Marleau  1724  562   626  1188  0.689   517   23.0  LW   \n",
       "\n",
       "    firstYear  lastYear  \n",
       "1        1990      2018  \n",
       "14       1997      2021  \n",
       "38       2005      2021  \n",
       "41       2005      2021  \n",
       "53       1997      2021  "
      ]
     },
     "execution_count": 19,
     "metadata": {},
     "output_type": "execute_result"
    }
   ],
   "source": [
    "# create dataframe for players with a last year greater than or equal to 2017.\n",
    "# creates a list of players that are eligible for the hockey hall of fame.\n",
    "potential_df = adjusted_df[['Name', 'GP', 'G', 'A', 'TP', 'PPG', 'PIM', 'Years', 'POS', 'firstYear', 'lastYear']]\n",
    "potential_df = potential_df[adjusted_df['lastYear'] > 2017] \n",
    "potential_df.head()"
   ]
  },
  {
   "cell_type": "code",
   "execution_count": 23,
   "metadata": {},
   "outputs": [],
   "source": [
    "# Remove duplicate names\n",
    "retiredDrop_df = retired_df.drop_duplicates(subset=['Name'])\n",
    "potentialDrop_df = potential_df.drop_duplicates(subset=['Name'])"
   ]
  },
  {
   "cell_type": "code",
   "execution_count": 21,
   "metadata": {},
   "outputs": [
    {
     "data": {
      "text/plain": [
       "<bound method DataFrame.count of                Name    GP    G     A    TP    PPG   PIM  Years POS  firstYear  \\\n",
       "0     Wayne Gretzky  1487  894  1963  2857  1.921   577   20.0   C       1979   \n",
       "2      Mark Messier  1756  694  1193  1887  1.075  1910   25.0   C       1979   \n",
       "3       Gordie Howe  1767  801  1049  1850  1.047  1685   26.0  RW       1946   \n",
       "4       Ron Francis  1731  549  1249  1798  1.039   979   23.0   C       1981   \n",
       "5     Marcel Dionne  1348  731  1040  1771  1.314   600   18.0   C       1971   \n",
       "...             ...   ...  ...   ...   ...    ...   ...    ...  ..        ...   \n",
       "7888  Billy Cameron    39    0     0     0  0.000     2    2.0  RW       1923   \n",
       "7889   Frank Peters    43    0     0     0  0.000    59    1.0   D       1930   \n",
       "7890    Gord Strate    61    0     0     0  0.000    34    3.0   D       1956   \n",
       "7914   Merv Kuryluk     -    -     -     -      -     -    1.0  LW       1961   \n",
       "7915  George McAvoy     -    -     -     -      -     -    1.0   D       1954   \n",
       "\n",
       "      lastYear  \n",
       "0         1999  \n",
       "2         2004  \n",
       "3         1980  \n",
       "4         2004  \n",
       "5         1989  \n",
       "...        ...  \n",
       "7888      1926  \n",
       "7889      1931  \n",
       "7890      1959  \n",
       "7914      1962  \n",
       "7915      1955  \n",
       "\n",
       "[6035 rows x 11 columns]>"
      ]
     },
     "execution_count": 21,
     "metadata": {},
     "output_type": "execute_result"
    }
   ],
   "source": [
    "retired_df.count"
   ]
  },
  {
   "cell_type": "code",
   "execution_count": 22,
   "metadata": {},
   "outputs": [
    {
     "data": {
      "text/plain": [
       "<bound method DataFrame.count of                Name    GP    G     A    TP    PPG   PIM  Years POS  firstYear  \\\n",
       "0     Wayne Gretzky  1487  894  1963  2857  1.921   577   20.0   C       1979   \n",
       "2      Mark Messier  1756  694  1193  1887  1.075  1910   25.0   C       1979   \n",
       "3       Gordie Howe  1767  801  1049  1850  1.047  1685   26.0  RW       1946   \n",
       "4       Ron Francis  1731  549  1249  1798  1.039   979   23.0   C       1981   \n",
       "5     Marcel Dionne  1348  731  1040  1771  1.314   600   18.0   C       1971   \n",
       "...             ...   ...  ...   ...   ...    ...   ...    ...  ..        ...   \n",
       "7888  Billy Cameron    39    0     0     0  0.000     2    2.0  RW       1923   \n",
       "7889   Frank Peters    43    0     0     0  0.000    59    1.0   D       1930   \n",
       "7890    Gord Strate    61    0     0     0  0.000    34    3.0   D       1956   \n",
       "7914   Merv Kuryluk     -    -     -     -      -     -    1.0  LW       1961   \n",
       "7915  George McAvoy     -    -     -     -      -     -    1.0   D       1954   \n",
       "\n",
       "      lastYear  \n",
       "0         1999  \n",
       "2         2004  \n",
       "3         1980  \n",
       "4         2004  \n",
       "5         1989  \n",
       "...        ...  \n",
       "7888      1926  \n",
       "7889      1931  \n",
       "7890      1959  \n",
       "7914      1962  \n",
       "7915      1955  \n",
       "\n",
       "[5999 rows x 11 columns]>"
      ]
     },
     "execution_count": 22,
     "metadata": {},
     "output_type": "execute_result"
    }
   ],
   "source": [
    "retiredDrop_df.count"
   ]
  },
  {
   "cell_type": "code",
   "execution_count": 24,
   "metadata": {},
   "outputs": [
    {
     "data": {
      "text/plain": [
       "<bound method DataFrame.count of                     Name    GP    G     A    TP    PPG   PIM  Years   POS  \\\n",
       "1           Jaromir Jagr  1733  766  1155  1921  1.108  1167   24.0    RW   \n",
       "14          Joe Thornton  1637  420  1089  1509  0.922  1248   23.0     C   \n",
       "38    Alexander Ovechkin  1153  706   574  1280   1.11   719   16.0    LW   \n",
       "41         Sidney Crosby   985  463   801  1264  1.283   673   16.0     C   \n",
       "53       Patrick Marleau  1724  562   626  1188  0.689   517   23.0    LW   \n",
       "...                  ...   ...  ...   ...   ...    ...   ...    ...   ...   \n",
       "7925   Victor Soderstrom     -    -     -     -      -     -    1.0     D   \n",
       "7926         Tim Stutzle     -    -     -     -      -     -    1.0  C/LW   \n",
       "7927    Jonathan Aspirot     -    -     -     -      -     -    1.0  D/LW   \n",
       "7928       Drew O'Connor     -    -     -     -      -     -    1.0    LW   \n",
       "7929       Ty Dellandrea     -    -     -     -      -     -    1.0     C   \n",
       "\n",
       "      firstYear  lastYear  \n",
       "1          1990      2018  \n",
       "14         1997      2021  \n",
       "38         2005      2021  \n",
       "41         2005      2021  \n",
       "53         1997      2021  \n",
       "...         ...       ...  \n",
       "7925       2020      2021  \n",
       "7926       2020      2021  \n",
       "7927       2020      2021  \n",
       "7928       2020      2021  \n",
       "7929       2020      2021  \n",
       "\n",
       "[1240 rows x 11 columns]>"
      ]
     },
     "execution_count": 24,
     "metadata": {},
     "output_type": "execute_result"
    }
   ],
   "source": [
    "potential_df.count"
   ]
  },
  {
   "cell_type": "code",
   "execution_count": 26,
   "metadata": {},
   "outputs": [
    {
     "data": {
      "text/plain": [
       "<bound method DataFrame.count of                     Name    GP    G     A    TP    PPG   PIM  Years   POS  \\\n",
       "1           Jaromir Jagr  1733  766  1155  1921  1.108  1167   24.0    RW   \n",
       "14          Joe Thornton  1637  420  1089  1509  0.922  1248   23.0     C   \n",
       "38    Alexander Ovechkin  1153  706   574  1280   1.11   719   16.0    LW   \n",
       "41         Sidney Crosby   985  463   801  1264  1.283   673   16.0     C   \n",
       "53       Patrick Marleau  1724  562   626  1188  0.689   517   23.0    LW   \n",
       "...                  ...   ...  ...   ...   ...    ...   ...    ...   ...   \n",
       "7925   Victor Soderstrom     -    -     -     -      -     -    1.0     D   \n",
       "7926         Tim Stutzle     -    -     -     -      -     -    1.0  C/LW   \n",
       "7927    Jonathan Aspirot     -    -     -     -      -     -    1.0  D/LW   \n",
       "7928       Drew O'Connor     -    -     -     -      -     -    1.0    LW   \n",
       "7929       Ty Dellandrea     -    -     -     -      -     -    1.0     C   \n",
       "\n",
       "      firstYear  lastYear  \n",
       "1          1990      2018  \n",
       "14         1997      2021  \n",
       "38         2005      2021  \n",
       "41         2005      2021  \n",
       "53         1997      2021  \n",
       "...         ...       ...  \n",
       "7925       2020      2021  \n",
       "7926       2020      2021  \n",
       "7927       2020      2021  \n",
       "7928       2020      2021  \n",
       "7929       2020      2021  \n",
       "\n",
       "[1239 rows x 11 columns]>"
      ]
     },
     "execution_count": 26,
     "metadata": {},
     "output_type": "execute_result"
    }
   ],
   "source": [
    "potentialDrop_df.count"
   ]
  },
  {
   "cell_type": "code",
   "execution_count": 9,
   "metadata": {},
   "outputs": [],
   "source": [
    "# Saved to csv files\n",
    "combined_df.to_csv(\"Output2/career_stats.csv\", index=False, header=True, encoding='utf-8-sig')\n"
   ]
  },
  {
   "cell_type": "code",
   "execution_count": 17,
   "metadata": {},
   "outputs": [],
   "source": [
    "adjusted_df.to_csv(\"Output2/career_stats_adj.csv\", index=False, header=True, encoding='utf-8-sig')\n"
   ]
  },
  {
   "cell_type": "code",
   "execution_count": 29,
   "metadata": {},
   "outputs": [],
   "source": [
    "retired_df.to_csv(\"Output2/retired_player_stats.csv\", index=False, header=True, encoding='utf-8-sig')\n"
   ]
  },
  {
   "cell_type": "code",
   "execution_count": 30,
   "metadata": {},
   "outputs": [],
   "source": [
    "potential_df.to_csv(\"Output2/potential_player_stats.csv\", index=False, header=True, encoding='utf-8-sig')"
   ]
  },
  {
   "cell_type": "code",
   "execution_count": null,
   "metadata": {},
   "outputs": [],
   "source": []
  }
 ],
 "metadata": {
  "kernelspec": {
   "display_name": "Python 3.6.10 64-bit ('bcs': conda)",
   "language": "python",
   "name": "python361064bitbcsconda9956bb7450484f49881ea0c9e482447b"
  },
  "language_info": {
   "codemirror_mode": {
    "name": "ipython",
    "version": 3
   },
   "file_extension": ".py",
   "mimetype": "text/x-python",
   "name": "python",
   "nbconvert_exporter": "python",
   "pygments_lexer": "ipython3",
   "version": "3.6.10-final"
  }
 },
 "nbformat": 4,
 "nbformat_minor": 2
}