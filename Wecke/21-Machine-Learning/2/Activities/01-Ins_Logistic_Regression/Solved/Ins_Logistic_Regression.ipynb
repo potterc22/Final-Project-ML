{
 "cells": [
  {
   "cell_type": "markdown",
   "metadata": {
    "slideshow": {
     "slide_type": "slide"
    }
   },
   "source": [
    "# Logistic Regression\n",
    "\n",
    "Logistic Regression is a statistical method for predicting binary outcomes from data.\n",
    "\n",
    "Examples of this are \"yes\" vs \"no\" or \"young\" vs \"old\". \n",
    "\n",
    "These are categories that translate to probability of being a 0 or a 1.\n",
    "\n",
    "Source: [Logistic Regression](https://towardsdatascience.com/real-world-implementation-of-logistic-regression-5136cefb8125)"
   ]
  },
  {
   "cell_type": "markdown",
   "metadata": {
    "slideshow": {
     "slide_type": "subslide"
    }
   },
   "source": [
    "We can calculate logistic regression by adding an activation function as the final step to our linear model. \n",
    "\n",
    "This converts the linear regression output to a probability."
   ]
  },
  {
   "cell_type": "code",
   "execution_count": 1,
   "metadata": {
    "collapsed": true,
    "slideshow": {
     "slide_type": "subslide"
    }
   },
   "outputs": [],
   "source": [
    "%matplotlib inline\n",
    "import matplotlib.pyplot as plt\n",
    "import pandas as pd"
   ]
  },
  {
   "cell_type": "markdown",
   "metadata": {
    "slideshow": {
     "slide_type": "subslide"
    }
   },
   "source": [
    "Generate some data"
   ]
  },
  {
   "cell_type": "code",
   "execution_count": 2,
   "metadata": {
    "slideshow": {
     "slide_type": "fragment"
    }
   },
   "outputs": [
    {
     "output_type": "stream",
     "name": "stdout",
     "text": "Labels: [0 1 0 1 1 0 1 1 0 0]\nData: [[-2.98837186  8.82862715]\n [ 5.72293008  3.02697174]\n [-3.05358035  9.12520872]\n [ 5.461939    3.86996267]\n [ 4.86733877  3.28031244]\n [-2.14780202 10.55232269]\n [ 4.91656964  2.80035293]\n [ 3.08921541  2.04173266]\n [-2.90130578  7.55077118]\n [-3.34841515  8.70507375]]\n"
    }
   ],
   "source": [
    "from sklearn.datasets import make_blobs\n",
    "\n",
    "X, y = make_blobs(centers=2, random_state=42)\n",
    "\n",
    "print(f\"Labels: {y[:10]}\")\n",
    "print(f\"Data: {X[:10]}\")"
   ]
  },
  {
   "cell_type": "code",
   "execution_count": 3,
   "metadata": {
    "slideshow": {
     "slide_type": "subslide"
    }
   },
   "outputs": [
    {
     "output_type": "execute_result",
     "data": {
      "text/plain": "<matplotlib.collections.PathCollection at 0x1a25ff64d0>"
     },
     "metadata": {},
     "execution_count": 3
    },
    {
     "output_type": "display_data",
     "data": {
      "text/plain": "<Figure size 432x288 with 1 Axes>",
      "image/svg+xml": "<?xml version=\"1.0\" encoding=\"utf-8\" standalone=\"no\"?>\n<!DOCTYPE svg PUBLIC \"-//W3C//DTD SVG 1.1//EN\"\n  \"http://www.w3.org/Graphics/SVG/1.1/DTD/svg11.dtd\">\n<!-- Created with matplotlib (https://matplotlib.org/) -->\n<svg height=\"248.518125pt\" version=\"1.1\" viewBox=\"0 0 368.925 248.518125\" width=\"368.925pt\" xmlns=\"http://www.w3.org/2000/svg\" xmlns:xlink=\"http://www.w3.org/1999/xlink\">\n <defs>\n  <style type=\"text/css\">\n*{stroke-linecap:butt;stroke-linejoin:round;}\n  </style>\n </defs>\n <g id=\"figure_1\">\n  <g id=\"patch_1\">\n   <path d=\"M -0 248.518125 \nL 368.925 248.518125 \nL 368.925 0 \nL -0 0 \nz\n\" style=\"fill:none;\"/>\n  </g>\n  <g id=\"axes_1\">\n   <g id=\"patch_2\">\n    <path d=\"M 26.925 224.64 \nL 361.725 224.64 \nL 361.725 7.2 \nL 26.925 7.2 \nz\n\" style=\"fill:#ffffff;\"/>\n   </g>\n   <g id=\"PathCollection_1\">\n    <defs>\n     <path d=\"M 0 3 \nC 0.795609 3 1.55874 2.683901 2.12132 2.12132 \nC 2.683901 1.55874 3 0.795609 3 0 \nC 3 -0.795609 2.683901 -1.55874 2.12132 -2.12132 \nC 1.55874 -2.683901 0.795609 -3 0 -3 \nC -0.795609 -3 -1.55874 -2.683901 -2.12132 -2.12132 \nC -2.683901 -1.55874 -3 -0.795609 -3 0 \nC -3 0.795609 -2.683901 1.55874 -2.12132 2.12132 \nC -1.55874 2.683901 -0.795609 3 0 3 \nz\n\" id=\"C0_0_0621b6a7b1\"/>\n    </defs>\n    <g clip-path=\"url(#p1ccd39d5a4)\">\n     <use style=\"fill:#440154;stroke:#440154;\" x=\"98.190745\" xlink:href=\"#C0_0_0621b6a7b1\" y=\"55.947018\"/>\n    </g>\n    <g clip-path=\"url(#p1ccd39d5a4)\">\n     <use style=\"fill:#fde725;stroke:#fde725;\" x=\"325.33199\" xlink:href=\"#C0_0_0621b6a7b1\" y=\"165.840379\"/>\n    </g>\n    <g clip-path=\"url(#p1ccd39d5a4)\">\n     <use style=\"fill:#440154;stroke:#440154;\" x=\"96.490478\" xlink:href=\"#C0_0_0621b6a7b1\" y=\"50.329252\"/>\n    </g>\n    <g clip-path=\"url(#p1ccd39d5a4)\">\n     <use style=\"fill:#fde725;stroke:#fde725;\" x=\"318.526826\" xlink:href=\"#C0_0_0621b6a7b1\" y=\"149.872676\"/>\n    </g>\n    <g clip-path=\"url(#p1ccd39d5a4)\">\n     <use style=\"fill:#fde725;stroke:#fde725;\" x=\"303.023031\" xlink:href=\"#C0_0_0621b6a7b1\" y=\"161.041669\"/>\n    </g>\n    <g clip-path=\"url(#p1ccd39d5a4)\">\n     <use style=\"fill:#440154;stroke:#440154;\" x=\"120.108029\" xlink:href=\"#C0_0_0621b6a7b1\" y=\"23.297252\"/>\n    </g>\n    <g clip-path=\"url(#p1ccd39d5a4)\">\n     <use style=\"fill:#fde725;stroke:#fde725;\" x=\"304.306692\" xlink:href=\"#C0_0_0621b6a7b1\" y=\"170.13293\"/>\n    </g>\n    <g clip-path=\"url(#p1ccd39d5a4)\">\n     <use style=\"fill:#fde725;stroke:#fde725;\" x=\"256.65968\" xlink:href=\"#C0_0_0621b6a7b1\" y=\"184.502506\"/>\n    </g>\n    <g clip-path=\"url(#p1ccd39d5a4)\">\n     <use style=\"fill:#440154;stroke:#440154;\" x=\"100.460934\" xlink:href=\"#C0_0_0621b6a7b1\" y=\"80.151815\"/>\n    </g>\n    <g clip-path=\"url(#p1ccd39d5a4)\">\n     <use style=\"fill:#440154;stroke:#440154;\" x=\"88.802863\" xlink:href=\"#C0_0_0621b6a7b1\" y=\"58.287333\"/>\n    </g>\n    <g clip-path=\"url(#p1ccd39d5a4)\">\n     <use style=\"fill:#440154;stroke:#440154;\" x=\"112.445638\" xlink:href=\"#C0_0_0621b6a7b1\" y=\"79.417505\"/>\n    </g>\n    <g clip-path=\"url(#p1ccd39d5a4)\">\n     <use style=\"fill:#fde725;stroke:#fde725;\" x=\"264.839525\" xlink:href=\"#C0_0_0621b6a7b1\" y=\"210.812933\"/>\n    </g>\n    <g clip-path=\"url(#p1ccd39d5a4)\">\n     <use style=\"fill:#440154;stroke:#440154;\" x=\"98.443662\" xlink:href=\"#C0_0_0621b6a7b1\" y=\"42.153294\"/>\n    </g>\n    <g clip-path=\"url(#p1ccd39d5a4)\">\n     <use style=\"fill:#440154;stroke:#440154;\" x=\"76.053342\" xlink:href=\"#C0_0_0621b6a7b1\" y=\"48.701426\"/>\n    </g>\n    <g clip-path=\"url(#p1ccd39d5a4)\">\n     <use style=\"fill:#fde725;stroke:#fde725;\" x=\"279.360989\" xlink:href=\"#C0_0_0621b6a7b1\" y=\"181.401922\"/>\n    </g>\n    <g clip-path=\"url(#p1ccd39d5a4)\">\n     <use style=\"fill:#fde725;stroke:#fde725;\" x=\"276.669375\" xlink:href=\"#C0_0_0621b6a7b1\" y=\"191.901608\"/>\n    </g>\n    <g clip-path=\"url(#p1ccd39d5a4)\">\n     <use style=\"fill:#fde725;stroke:#fde725;\" x=\"298.662631\" xlink:href=\"#C0_0_0621b6a7b1\" y=\"139.143153\"/>\n    </g>\n    <g clip-path=\"url(#p1ccd39d5a4)\">\n     <use style=\"fill:#fde725;stroke:#fde725;\" x=\"269.169379\" xlink:href=\"#C0_0_0621b6a7b1\" y=\"176.662347\"/>\n    </g>\n    <g clip-path=\"url(#p1ccd39d5a4)\">\n     <use style=\"fill:#fde725;stroke:#fde725;\" x=\"298.609922\" xlink:href=\"#C0_0_0621b6a7b1\" y=\"207.451036\"/>\n    </g>\n    <g clip-path=\"url(#p1ccd39d5a4)\">\n     <use style=\"fill:#440154;stroke:#440154;\" x=\"113.077485\" xlink:href=\"#C0_0_0621b6a7b1\" y=\"90.078301\"/>\n    </g>\n    <g clip-path=\"url(#p1ccd39d5a4)\">\n     <use style=\"fill:#fde725;stroke:#fde725;\" x=\"302.674517\" xlink:href=\"#C0_0_0621b6a7b1\" y=\"209.397648\"/>\n    </g>\n    <g clip-path=\"url(#p1ccd39d5a4)\">\n     <use style=\"fill:#fde725;stroke:#fde725;\" x=\"292.076488\" xlink:href=\"#C0_0_0621b6a7b1\" y=\"180.08938\"/>\n    </g>\n    <g clip-path=\"url(#p1ccd39d5a4)\">\n     <use style=\"fill:#fde725;stroke:#fde725;\" x=\"317.717786\" xlink:href=\"#C0_0_0621b6a7b1\" y=\"203.026574\"/>\n    </g>\n    <g clip-path=\"url(#p1ccd39d5a4)\">\n     <use style=\"fill:#fde725;stroke:#fde725;\" x=\"322.211543\" xlink:href=\"#C0_0_0621b6a7b1\" y=\"177.982424\"/>\n    </g>\n    <g clip-path=\"url(#p1ccd39d5a4)\">\n     <use style=\"fill:#fde725;stroke:#fde725;\" x=\"303.868435\" xlink:href=\"#C0_0_0621b6a7b1\" y=\"170.992133\"/>\n    </g>\n    <g clip-path=\"url(#p1ccd39d5a4)\">\n     <use style=\"fill:#440154;stroke:#440154;\" x=\"151.861781\" xlink:href=\"#C0_0_0621b6a7b1\" y=\"37.89378\"/>\n    </g>\n    <g clip-path=\"url(#p1ccd39d5a4)\">\n     <use style=\"fill:#fde725;stroke:#fde725;\" x=\"295.081795\" xlink:href=\"#C0_0_0621b6a7b1\" y=\"179.3392\"/>\n    </g>\n    <g clip-path=\"url(#p1ccd39d5a4)\">\n     <use style=\"fill:#440154;stroke:#440154;\" x=\"131.870941\" xlink:href=\"#C0_0_0621b6a7b1\" y=\"26.740792\"/>\n    </g>\n    <g clip-path=\"url(#p1ccd39d5a4)\">\n     <use style=\"fill:#fde725;stroke:#fde725;\" x=\"310.701439\" xlink:href=\"#C0_0_0621b6a7b1\" y=\"180.175805\"/>\n    </g>\n    <g clip-path=\"url(#p1ccd39d5a4)\">\n     <use style=\"fill:#fde725;stroke:#fde725;\" x=\"290.191423\" xlink:href=\"#C0_0_0621b6a7b1\" y=\"134.276511\"/>\n    </g>\n    <g clip-path=\"url(#p1ccd39d5a4)\">\n     <use style=\"fill:#440154;stroke:#440154;\" x=\"104.579497\" xlink:href=\"#C0_0_0621b6a7b1\" y=\"56.865275\"/>\n    </g>\n    <g clip-path=\"url(#p1ccd39d5a4)\">\n     <use style=\"fill:#440154;stroke:#440154;\" x=\"72.133435\" xlink:href=\"#C0_0_0621b6a7b1\" y=\"66.065408\"/>\n    </g>\n    <g clip-path=\"url(#p1ccd39d5a4)\">\n     <use style=\"fill:#440154;stroke:#440154;\" x=\"80.673515\" xlink:href=\"#C0_0_0621b6a7b1\" y=\"45.313949\"/>\n    </g>\n    <g clip-path=\"url(#p1ccd39d5a4)\">\n     <use style=\"fill:#440154;stroke:#440154;\" x=\"148.900676\" xlink:href=\"#C0_0_0621b6a7b1\" y=\"56.70691\"/>\n    </g>\n    <g clip-path=\"url(#p1ccd39d5a4)\">\n     <use style=\"fill:#440154;stroke:#440154;\" x=\"119.644498\" xlink:href=\"#C0_0_0621b6a7b1\" y=\"85.825339\"/>\n    </g>\n    <g clip-path=\"url(#p1ccd39d5a4)\">\n     <use style=\"fill:#fde725;stroke:#fde725;\" x=\"312.394067\" xlink:href=\"#C0_0_0621b6a7b1\" y=\"144.3102\"/>\n    </g>\n    <g clip-path=\"url(#p1ccd39d5a4)\">\n     <use style=\"fill:#fde725;stroke:#fde725;\" x=\"301.607743\" xlink:href=\"#C0_0_0621b6a7b1\" y=\"178.502631\"/>\n    </g>\n    <g clip-path=\"url(#p1ccd39d5a4)\">\n     <use style=\"fill:#440154;stroke:#440154;\" x=\"119.322354\" xlink:href=\"#C0_0_0621b6a7b1\" y=\"33.95181\"/>\n    </g>\n    <g clip-path=\"url(#p1ccd39d5a4)\">\n     <use style=\"fill:#440154;stroke:#440154;\" x=\"89.603968\" xlink:href=\"#C0_0_0621b6a7b1\" y=\"61.934461\"/>\n    </g>\n    <g clip-path=\"url(#p1ccd39d5a4)\">\n     <use style=\"fill:#440154;stroke:#440154;\" x=\"116.130861\" xlink:href=\"#C0_0_0621b6a7b1\" y=\"89.549849\"/>\n    </g>\n    <g clip-path=\"url(#p1ccd39d5a4)\">\n     <use style=\"fill:#440154;stroke:#440154;\" x=\"129.939897\" xlink:href=\"#C0_0_0621b6a7b1\" y=\"49.184306\"/>\n    </g>\n    <g clip-path=\"url(#p1ccd39d5a4)\">\n     <use style=\"fill:#fde725;stroke:#fde725;\" x=\"318.304074\" xlink:href=\"#C0_0_0621b6a7b1\" y=\"209.1159\"/>\n    </g>\n    <g clip-path=\"url(#p1ccd39d5a4)\">\n     <use style=\"fill:#fde725;stroke:#fde725;\" x=\"271.678011\" xlink:href=\"#C0_0_0621b6a7b1\" y=\"170.892467\"/>\n    </g>\n    <g clip-path=\"url(#p1ccd39d5a4)\">\n     <use style=\"fill:#fde725;stroke:#fde725;\" x=\"309.431517\" xlink:href=\"#C0_0_0621b6a7b1\" y=\"187.180712\"/>\n    </g>\n    <g clip-path=\"url(#p1ccd39d5a4)\">\n     <use style=\"fill:#fde725;stroke:#fde725;\" x=\"290.693842\" xlink:href=\"#C0_0_0621b6a7b1\" y=\"200.07827\"/>\n    </g>\n    <g clip-path=\"url(#p1ccd39d5a4)\">\n     <use style=\"fill:#440154;stroke:#440154;\" x=\"149.219963\" xlink:href=\"#C0_0_0621b6a7b1\" y=\"62.247249\"/>\n    </g>\n    <g clip-path=\"url(#p1ccd39d5a4)\">\n     <use style=\"fill:#440154;stroke:#440154;\" x=\"109.750746\" xlink:href=\"#C0_0_0621b6a7b1\" y=\"22.793268\"/>\n    </g>\n    <g clip-path=\"url(#p1ccd39d5a4)\">\n     <use style=\"fill:#440154;stroke:#440154;\" x=\"118.40602\" xlink:href=\"#C0_0_0621b6a7b1\" y=\"47.48548\"/>\n    </g>\n    <g clip-path=\"url(#p1ccd39d5a4)\">\n     <use style=\"fill:#440154;stroke:#440154;\" x=\"81.837958\" xlink:href=\"#C0_0_0621b6a7b1\" y=\"75.088534\"/>\n    </g>\n    <g clip-path=\"url(#p1ccd39d5a4)\">\n     <use style=\"fill:#fde725;stroke:#fde725;\" x=\"266.029744\" xlink:href=\"#C0_0_0621b6a7b1\" y=\"173.364949\"/>\n    </g>\n    <g clip-path=\"url(#p1ccd39d5a4)\">\n     <use style=\"fill:#fde725;stroke:#fde725;\" x=\"297.431184\" xlink:href=\"#C0_0_0621b6a7b1\" y=\"158.268765\"/>\n    </g>\n    <g clip-path=\"url(#p1ccd39d5a4)\">\n     <use style=\"fill:#440154;stroke:#440154;\" x=\"65.708832\" xlink:href=\"#C0_0_0621b6a7b1\" y=\"63.081013\"/>\n    </g>\n    <g clip-path=\"url(#p1ccd39d5a4)\">\n     <use style=\"fill:#440154;stroke:#440154;\" x=\"98.601586\" xlink:href=\"#C0_0_0621b6a7b1\" y=\"61.252042\"/>\n    </g>\n    <g clip-path=\"url(#p1ccd39d5a4)\">\n     <use style=\"fill:#fde725;stroke:#fde725;\" x=\"306.42123\" xlink:href=\"#C0_0_0621b6a7b1\" y=\"175.178981\"/>\n    </g>\n    <g clip-path=\"url(#p1ccd39d5a4)\">\n     <use style=\"fill:#440154;stroke:#440154;\" x=\"116.993887\" xlink:href=\"#C0_0_0621b6a7b1\" y=\"88.671145\"/>\n    </g>\n    <g clip-path=\"url(#p1ccd39d5a4)\">\n     <use style=\"fill:#fde725;stroke:#fde725;\" x=\"313.406017\" xlink:href=\"#C0_0_0621b6a7b1\" y=\"202.03725\"/>\n    </g>\n    <g clip-path=\"url(#p1ccd39d5a4)\">\n     <use style=\"fill:#440154;stroke:#440154;\" x=\"113.216117\" xlink:href=\"#C0_0_0621b6a7b1\" y=\"34.08251\"/>\n    </g>\n    <g clip-path=\"url(#p1ccd39d5a4)\">\n     <use style=\"fill:#fde725;stroke:#fde725;\" x=\"303.807619\" xlink:href=\"#C0_0_0621b6a7b1\" y=\"187.211341\"/>\n    </g>\n    <g clip-path=\"url(#p1ccd39d5a4)\">\n     <use style=\"fill:#fde725;stroke:#fde725;\" x=\"273.898688\" xlink:href=\"#C0_0_0621b6a7b1\" y=\"201.254061\"/>\n    </g>\n    <g clip-path=\"url(#p1ccd39d5a4)\">\n     <use style=\"fill:#440154;stroke:#440154;\" x=\"120.114298\" xlink:href=\"#C0_0_0621b6a7b1\" y=\"64.649998\"/>\n    </g>\n    <g clip-path=\"url(#p1ccd39d5a4)\">\n     <use style=\"fill:#440154;stroke:#440154;\" x=\"112.954579\" xlink:href=\"#C0_0_0621b6a7b1\" y=\"58.094032\"/>\n    </g>\n    <g clip-path=\"url(#p1ccd39d5a4)\">\n     <use style=\"fill:#fde725;stroke:#fde725;\" x=\"291.26553\" xlink:href=\"#C0_0_0621b6a7b1\" y=\"172.276806\"/>\n    </g>\n    <g clip-path=\"url(#p1ccd39d5a4)\">\n     <use style=\"fill:#440154;stroke:#440154;\" x=\"96.871751\" xlink:href=\"#C0_0_0621b6a7b1\" y=\"42.708147\"/>\n    </g>\n    <g clip-path=\"url(#p1ccd39d5a4)\">\n     <use style=\"fill:#fde725;stroke:#fde725;\" x=\"247.061521\" xlink:href=\"#C0_0_0621b6a7b1\" y=\"186.303426\"/>\n    </g>\n    <g clip-path=\"url(#p1ccd39d5a4)\">\n     <use style=\"fill:#fde725;stroke:#fde725;\" x=\"327.301757\" xlink:href=\"#C0_0_0621b6a7b1\" y=\"201.346346\"/>\n    </g>\n    <g clip-path=\"url(#p1ccd39d5a4)\">\n     <use style=\"fill:#fde725;stroke:#fde725;\" x=\"274.04619\" xlink:href=\"#C0_0_0621b6a7b1\" y=\"182.889388\"/>\n    </g>\n    <g clip-path=\"url(#p1ccd39d5a4)\">\n     <use style=\"fill:#fde725;stroke:#fde725;\" x=\"346.273177\" xlink:href=\"#C0_0_0621b6a7b1\" y=\"182.494402\"/>\n    </g>\n    <g clip-path=\"url(#p1ccd39d5a4)\">\n     <use style=\"fill:#440154;stroke:#440154;\" x=\"73.780061\" xlink:href=\"#C0_0_0621b6a7b1\" y=\"60.398065\"/>\n    </g>\n    <g clip-path=\"url(#p1ccd39d5a4)\">\n     <use style=\"fill:#fde725;stroke:#fde725;\" x=\"255.178142\" xlink:href=\"#C0_0_0621b6a7b1\" y=\"182.303923\"/>\n    </g>\n    <g clip-path=\"url(#p1ccd39d5a4)\">\n     <use style=\"fill:#fde725;stroke:#fde725;\" x=\"303.623599\" xlink:href=\"#C0_0_0621b6a7b1\" y=\"179.238881\"/>\n    </g>\n    <g clip-path=\"url(#p1ccd39d5a4)\">\n     <use style=\"fill:#440154;stroke:#440154;\" x=\"98.674045\" xlink:href=\"#C0_0_0621b6a7b1\" y=\"32.406599\"/>\n    </g>\n    <g clip-path=\"url(#p1ccd39d5a4)\">\n     <use style=\"fill:#fde725;stroke:#fde725;\" x=\"271.264611\" xlink:href=\"#C0_0_0621b6a7b1\" y=\"196.527863\"/>\n    </g>\n    <g clip-path=\"url(#p1ccd39d5a4)\">\n     <use style=\"fill:#fde725;stroke:#fde725;\" x=\"345.740964\" xlink:href=\"#C0_0_0621b6a7b1\" y=\"176.825994\"/>\n    </g>\n    <g clip-path=\"url(#p1ccd39d5a4)\">\n     <use style=\"fill:#fde725;stroke:#fde725;\" x=\"326.890493\" xlink:href=\"#C0_0_0621b6a7b1\" y=\"171.558299\"/>\n    </g>\n    <g clip-path=\"url(#p1ccd39d5a4)\">\n     <use style=\"fill:#fde725;stroke:#fde725;\" x=\"285.449597\" xlink:href=\"#C0_0_0621b6a7b1\" y=\"169.579537\"/>\n    </g>\n    <g clip-path=\"url(#p1ccd39d5a4)\">\n     <use style=\"fill:#fde725;stroke:#fde725;\" x=\"292.886754\" xlink:href=\"#C0_0_0621b6a7b1\" y=\"178.147787\"/>\n    </g>\n    <g clip-path=\"url(#p1ccd39d5a4)\">\n     <use style=\"fill:#fde725;stroke:#fde725;\" x=\"299.69051\" xlink:href=\"#C0_0_0621b6a7b1\" y=\"195.337904\"/>\n    </g>\n    <g clip-path=\"url(#p1ccd39d5a4)\">\n     <use style=\"fill:#440154;stroke:#440154;\" x=\"108.807271\" xlink:href=\"#C0_0_0621b6a7b1\" y=\"33.421673\"/>\n    </g>\n    <g clip-path=\"url(#p1ccd39d5a4)\">\n     <use style=\"fill:#fde725;stroke:#fde725;\" x=\"273.11881\" xlink:href=\"#C0_0_0621b6a7b1\" y=\"156.442776\"/>\n    </g>\n    <g clip-path=\"url(#p1ccd39d5a4)\">\n     <use style=\"fill:#440154;stroke:#440154;\" x=\"110.332955\" xlink:href=\"#C0_0_0621b6a7b1\" y=\"72.465187\"/>\n    </g>\n    <g clip-path=\"url(#p1ccd39d5a4)\">\n     <use style=\"fill:#fde725;stroke:#fde725;\" x=\"304.733833\" xlink:href=\"#C0_0_0621b6a7b1\" y=\"199.332255\"/>\n    </g>\n    <g clip-path=\"url(#p1ccd39d5a4)\">\n     <use style=\"fill:#440154;stroke:#440154;\" x=\"94.995797\" xlink:href=\"#C0_0_0621b6a7b1\" y=\"17.344974\"/>\n    </g>\n    <g clip-path=\"url(#p1ccd39d5a4)\">\n     <use style=\"fill:#440154;stroke:#440154;\" x=\"132.132182\" xlink:href=\"#C0_0_0621b6a7b1\" y=\"75.555202\"/>\n    </g>\n    <g clip-path=\"url(#p1ccd39d5a4)\">\n     <use style=\"fill:#440154;stroke:#440154;\" x=\"87.008779\" xlink:href=\"#C0_0_0621b6a7b1\" y=\"79.181785\"/>\n    </g>\n    <g clip-path=\"url(#p1ccd39d5a4)\">\n     <use style=\"fill:#fde725;stroke:#fde725;\" x=\"269.393326\" xlink:href=\"#C0_0_0621b6a7b1\" y=\"176.83055\"/>\n    </g>\n    <g clip-path=\"url(#p1ccd39d5a4)\">\n     <use style=\"fill:#440154;stroke:#440154;\" x=\"107.669436\" xlink:href=\"#C0_0_0621b6a7b1\" y=\"58.133741\"/>\n    </g>\n    <g clip-path=\"url(#p1ccd39d5a4)\">\n     <use style=\"fill:#440154;stroke:#440154;\" x=\"92.379331\" xlink:href=\"#C0_0_0621b6a7b1\" y=\"58.636803\"/>\n    </g>\n    <g clip-path=\"url(#p1ccd39d5a4)\">\n     <use style=\"fill:#440154;stroke:#440154;\" x=\"42.376823\" xlink:href=\"#C0_0_0621b6a7b1\" y=\"36.862066\"/>\n    </g>\n    <g clip-path=\"url(#p1ccd39d5a4)\">\n     <use style=\"fill:#fde725;stroke:#fde725;\" x=\"296.187083\" xlink:href=\"#C0_0_0621b6a7b1\" y=\"207.937985\"/>\n    </g>\n    <g clip-path=\"url(#p1ccd39d5a4)\">\n     <use style=\"fill:#440154;stroke:#440154;\" x=\"84.276007\" xlink:href=\"#C0_0_0621b6a7b1\" y=\"46.477931\"/>\n    </g>\n    <g clip-path=\"url(#p1ccd39d5a4)\">\n     <use style=\"fill:#fde725;stroke:#fde725;\" x=\"333.669072\" xlink:href=\"#C0_0_0621b6a7b1\" y=\"212.354684\"/>\n    </g>\n    <g clip-path=\"url(#p1ccd39d5a4)\">\n     <use style=\"fill:#440154;stroke:#440154;\" x=\"95.023643\" xlink:href=\"#C0_0_0621b6a7b1\" y=\"57.9555\"/>\n    </g>\n    <g clip-path=\"url(#p1ccd39d5a4)\">\n     <use style=\"fill:#440154;stroke:#440154;\" x=\"119.135154\" xlink:href=\"#C0_0_0621b6a7b1\" y=\"59.72444\"/>\n    </g>\n    <g clip-path=\"url(#p1ccd39d5a4)\">\n     <use style=\"fill:#440154;stroke:#440154;\" x=\"93.034607\" xlink:href=\"#C0_0_0621b6a7b1\" y=\"40.844113\"/>\n    </g>\n    <g clip-path=\"url(#p1ccd39d5a4)\">\n     <use style=\"fill:#440154;stroke:#440154;\" x=\"101.748839\" xlink:href=\"#C0_0_0621b6a7b1\" y=\"67.626832\"/>\n    </g>\n    <g clip-path=\"url(#p1ccd39d5a4)\">\n     <use style=\"fill:#440154;stroke:#440154;\" x=\"137.567494\" xlink:href=\"#C0_0_0621b6a7b1\" y=\"34.790266\"/>\n    </g>\n    <g clip-path=\"url(#p1ccd39d5a4)\">\n     <use style=\"fill:#440154;stroke:#440154;\" x=\"134.553371\" xlink:href=\"#C0_0_0621b6a7b1\" y=\"46.203204\"/>\n    </g>\n    <g clip-path=\"url(#p1ccd39d5a4)\">\n     <use style=\"fill:#fde725;stroke:#fde725;\" x=\"275.012601\" xlink:href=\"#C0_0_0621b6a7b1\" y=\"214.495026\"/>\n    </g>\n    <g clip-path=\"url(#p1ccd39d5a4)\">\n     <use style=\"fill:#440154;stroke:#440154;\" x=\"104.957092\" xlink:href=\"#C0_0_0621b6a7b1\" y=\"45.665989\"/>\n    </g>\n    <g clip-path=\"url(#p1ccd39d5a4)\">\n     <use style=\"fill:#440154;stroke:#440154;\" x=\"110.818216\" xlink:href=\"#C0_0_0621b6a7b1\" y=\"56.873802\"/>\n    </g>\n   </g>\n   <g id=\"matplotlib.axis_1\">\n    <g id=\"xtick_1\">\n     <g id=\"line2d_1\">\n      <defs>\n       <path d=\"M 0 0 \nL 0 3.5 \n\" id=\"m31ab441ae3\" style=\"stroke:#000000;stroke-width:0.8;\"/>\n      </defs>\n      <g>\n       <use style=\"stroke:#000000;stroke-width:0.8;\" x=\"71.813233\" xlink:href=\"#m31ab441ae3\" y=\"224.64\"/>\n      </g>\n     </g>\n     <g id=\"text_1\">\n      <!-- −4 -->\n      <defs>\n       <path d=\"M 10.59375 35.5 \nL 73.1875 35.5 \nL 73.1875 27.203125 \nL 10.59375 27.203125 \nz\n\" id=\"DejaVuSans-8722\"/>\n       <path d=\"M 37.796875 64.3125 \nL 12.890625 25.390625 \nL 37.796875 25.390625 \nz\nM 35.203125 72.90625 \nL 47.609375 72.90625 \nL 47.609375 25.390625 \nL 58.015625 25.390625 \nL 58.015625 17.1875 \nL 47.609375 17.1875 \nL 47.609375 0 \nL 37.796875 0 \nL 37.796875 17.1875 \nL 4.890625 17.1875 \nL 4.890625 26.703125 \nz\n\" id=\"DejaVuSans-52\"/>\n      </defs>\n      <g transform=\"translate(64.442139 239.238437)scale(0.1 -0.1)\">\n       <use xlink:href=\"#DejaVuSans-8722\"/>\n       <use x=\"83.789062\" xlink:href=\"#DejaVuSans-52\"/>\n      </g>\n     </g>\n    </g>\n    <g id=\"xtick_2\">\n     <g id=\"line2d_2\">\n      <g>\n       <use style=\"stroke:#000000;stroke-width:0.8;\" x=\"123.961866\" xlink:href=\"#m31ab441ae3\" y=\"224.64\"/>\n      </g>\n     </g>\n     <g id=\"text_2\">\n      <!-- −2 -->\n      <defs>\n       <path d=\"M 19.1875 8.296875 \nL 53.609375 8.296875 \nL 53.609375 0 \nL 7.328125 0 \nL 7.328125 8.296875 \nQ 12.9375 14.109375 22.625 23.890625 \nQ 32.328125 33.6875 34.8125 36.53125 \nQ 39.546875 41.84375 41.421875 45.53125 \nQ 43.3125 49.21875 43.3125 52.78125 \nQ 43.3125 58.59375 39.234375 62.25 \nQ 35.15625 65.921875 28.609375 65.921875 \nQ 23.96875 65.921875 18.8125 64.3125 \nQ 13.671875 62.703125 7.8125 59.421875 \nL 7.8125 69.390625 \nQ 13.765625 71.78125 18.9375 73 \nQ 24.125 74.21875 28.421875 74.21875 \nQ 39.75 74.21875 46.484375 68.546875 \nQ 53.21875 62.890625 53.21875 53.421875 \nQ 53.21875 48.921875 51.53125 44.890625 \nQ 49.859375 40.875 45.40625 35.40625 \nQ 44.1875 33.984375 37.640625 27.21875 \nQ 31.109375 20.453125 19.1875 8.296875 \nz\n\" id=\"DejaVuSans-50\"/>\n      </defs>\n      <g transform=\"translate(116.590772 239.238437)scale(0.1 -0.1)\">\n       <use xlink:href=\"#DejaVuSans-8722\"/>\n       <use x=\"83.789062\" xlink:href=\"#DejaVuSans-50\"/>\n      </g>\n     </g>\n    </g>\n    <g id=\"xtick_3\">\n     <g id=\"line2d_3\">\n      <g>\n       <use style=\"stroke:#000000;stroke-width:0.8;\" x=\"176.110499\" xlink:href=\"#m31ab441ae3\" y=\"224.64\"/>\n      </g>\n     </g>\n     <g id=\"text_3\">\n      <!-- 0 -->\n      <defs>\n       <path d=\"M 31.78125 66.40625 \nQ 24.171875 66.40625 20.328125 58.90625 \nQ 16.5 51.421875 16.5 36.375 \nQ 16.5 21.390625 20.328125 13.890625 \nQ 24.171875 6.390625 31.78125 6.390625 \nQ 39.453125 6.390625 43.28125 13.890625 \nQ 47.125 21.390625 47.125 36.375 \nQ 47.125 51.421875 43.28125 58.90625 \nQ 39.453125 66.40625 31.78125 66.40625 \nz\nM 31.78125 74.21875 \nQ 44.046875 74.21875 50.515625 64.515625 \nQ 56.984375 54.828125 56.984375 36.375 \nQ 56.984375 17.96875 50.515625 8.265625 \nQ 44.046875 -1.421875 31.78125 -1.421875 \nQ 19.53125 -1.421875 13.0625 8.265625 \nQ 6.59375 17.96875 6.59375 36.375 \nQ 6.59375 54.828125 13.0625 64.515625 \nQ 19.53125 74.21875 31.78125 74.21875 \nz\n\" id=\"DejaVuSans-48\"/>\n      </defs>\n      <g transform=\"translate(172.929249 239.238437)scale(0.1 -0.1)\">\n       <use xlink:href=\"#DejaVuSans-48\"/>\n      </g>\n     </g>\n    </g>\n    <g id=\"xtick_4\">\n     <g id=\"line2d_4\">\n      <g>\n       <use style=\"stroke:#000000;stroke-width:0.8;\" x=\"228.259132\" xlink:href=\"#m31ab441ae3\" y=\"224.64\"/>\n      </g>\n     </g>\n     <g id=\"text_4\">\n      <!-- 2 -->\n      <g transform=\"translate(225.077882 239.238437)scale(0.1 -0.1)\">\n       <use xlink:href=\"#DejaVuSans-50\"/>\n      </g>\n     </g>\n    </g>\n    <g id=\"xtick_5\">\n     <g id=\"line2d_5\">\n      <g>\n       <use style=\"stroke:#000000;stroke-width:0.8;\" x=\"280.407766\" xlink:href=\"#m31ab441ae3\" y=\"224.64\"/>\n      </g>\n     </g>\n     <g id=\"text_5\">\n      <!-- 4 -->\n      <g transform=\"translate(277.226516 239.238437)scale(0.1 -0.1)\">\n       <use xlink:href=\"#DejaVuSans-52\"/>\n      </g>\n     </g>\n    </g>\n    <g id=\"xtick_6\">\n     <g id=\"line2d_6\">\n      <g>\n       <use style=\"stroke:#000000;stroke-width:0.8;\" x=\"332.556399\" xlink:href=\"#m31ab441ae3\" y=\"224.64\"/>\n      </g>\n     </g>\n     <g id=\"text_6\">\n      <!-- 6 -->\n      <defs>\n       <path d=\"M 33.015625 40.375 \nQ 26.375 40.375 22.484375 35.828125 \nQ 18.609375 31.296875 18.609375 23.390625 \nQ 18.609375 15.53125 22.484375 10.953125 \nQ 26.375 6.390625 33.015625 6.390625 \nQ 39.65625 6.390625 43.53125 10.953125 \nQ 47.40625 15.53125 47.40625 23.390625 \nQ 47.40625 31.296875 43.53125 35.828125 \nQ 39.65625 40.375 33.015625 40.375 \nz\nM 52.59375 71.296875 \nL 52.59375 62.3125 \nQ 48.875 64.0625 45.09375 64.984375 \nQ 41.3125 65.921875 37.59375 65.921875 \nQ 27.828125 65.921875 22.671875 59.328125 \nQ 17.53125 52.734375 16.796875 39.40625 \nQ 19.671875 43.65625 24.015625 45.921875 \nQ 28.375 48.1875 33.59375 48.1875 \nQ 44.578125 48.1875 50.953125 41.515625 \nQ 57.328125 34.859375 57.328125 23.390625 \nQ 57.328125 12.15625 50.6875 5.359375 \nQ 44.046875 -1.421875 33.015625 -1.421875 \nQ 20.359375 -1.421875 13.671875 8.265625 \nQ 6.984375 17.96875 6.984375 36.375 \nQ 6.984375 53.65625 15.1875 63.9375 \nQ 23.390625 74.21875 37.203125 74.21875 \nQ 40.921875 74.21875 44.703125 73.484375 \nQ 48.484375 72.75 52.59375 71.296875 \nz\n\" id=\"DejaVuSans-54\"/>\n      </defs>\n      <g transform=\"translate(329.375149 239.238437)scale(0.1 -0.1)\">\n       <use xlink:href=\"#DejaVuSans-54\"/>\n      </g>\n     </g>\n    </g>\n   </g>\n   <g id=\"matplotlib.axis_2\">\n    <g id=\"ytick_1\">\n     <g id=\"line2d_7\">\n      <defs>\n       <path d=\"M 0 0 \nL -3.5 0 \n\" id=\"m8c79682b95\" style=\"stroke:#000000;stroke-width:0.8;\"/>\n      </defs>\n      <g>\n       <use style=\"stroke:#000000;stroke-width:0.8;\" x=\"26.925\" xlink:href=\"#m8c79682b95\" y=\"223.176444\"/>\n      </g>\n     </g>\n     <g id=\"text_7\">\n      <!-- 0 -->\n      <g transform=\"translate(13.5625 226.975663)scale(0.1 -0.1)\">\n       <use xlink:href=\"#DejaVuSans-48\"/>\n      </g>\n     </g>\n    </g>\n    <g id=\"ytick_2\">\n     <g id=\"line2d_8\">\n      <g>\n       <use style=\"stroke:#000000;stroke-width:0.8;\" x=\"26.925\" xlink:href=\"#m8c79682b95\" y=\"185.292995\"/>\n      </g>\n     </g>\n     <g id=\"text_8\">\n      <!-- 2 -->\n      <g transform=\"translate(13.5625 189.092213)scale(0.1 -0.1)\">\n       <use xlink:href=\"#DejaVuSans-50\"/>\n      </g>\n     </g>\n    </g>\n    <g id=\"ytick_3\">\n     <g id=\"line2d_9\">\n      <g>\n       <use style=\"stroke:#000000;stroke-width:0.8;\" x=\"26.925\" xlink:href=\"#m8c79682b95\" y=\"147.409545\"/>\n      </g>\n     </g>\n     <g id=\"text_9\">\n      <!-- 4 -->\n      <g transform=\"translate(13.5625 151.208764)scale(0.1 -0.1)\">\n       <use xlink:href=\"#DejaVuSans-52\"/>\n      </g>\n     </g>\n    </g>\n    <g id=\"ytick_4\">\n     <g id=\"line2d_10\">\n      <g>\n       <use style=\"stroke:#000000;stroke-width:0.8;\" x=\"26.925\" xlink:href=\"#m8c79682b95\" y=\"109.526096\"/>\n      </g>\n     </g>\n     <g id=\"text_10\">\n      <!-- 6 -->\n      <g transform=\"translate(13.5625 113.325314)scale(0.1 -0.1)\">\n       <use xlink:href=\"#DejaVuSans-54\"/>\n      </g>\n     </g>\n    </g>\n    <g id=\"ytick_5\">\n     <g id=\"line2d_11\">\n      <g>\n       <use style=\"stroke:#000000;stroke-width:0.8;\" x=\"26.925\" xlink:href=\"#m8c79682b95\" y=\"71.642646\"/>\n      </g>\n     </g>\n     <g id=\"text_11\">\n      <!-- 8 -->\n      <defs>\n       <path d=\"M 31.78125 34.625 \nQ 24.75 34.625 20.71875 30.859375 \nQ 16.703125 27.09375 16.703125 20.515625 \nQ 16.703125 13.921875 20.71875 10.15625 \nQ 24.75 6.390625 31.78125 6.390625 \nQ 38.8125 6.390625 42.859375 10.171875 \nQ 46.921875 13.96875 46.921875 20.515625 \nQ 46.921875 27.09375 42.890625 30.859375 \nQ 38.875 34.625 31.78125 34.625 \nz\nM 21.921875 38.8125 \nQ 15.578125 40.375 12.03125 44.71875 \nQ 8.5 49.078125 8.5 55.328125 \nQ 8.5 64.0625 14.71875 69.140625 \nQ 20.953125 74.21875 31.78125 74.21875 \nQ 42.671875 74.21875 48.875 69.140625 \nQ 55.078125 64.0625 55.078125 55.328125 \nQ 55.078125 49.078125 51.53125 44.71875 \nQ 48 40.375 41.703125 38.8125 \nQ 48.828125 37.15625 52.796875 32.3125 \nQ 56.78125 27.484375 56.78125 20.515625 \nQ 56.78125 9.90625 50.3125 4.234375 \nQ 43.84375 -1.421875 31.78125 -1.421875 \nQ 19.734375 -1.421875 13.25 4.234375 \nQ 6.78125 9.90625 6.78125 20.515625 \nQ 6.78125 27.484375 10.78125 32.3125 \nQ 14.796875 37.15625 21.921875 38.8125 \nz\nM 18.3125 54.390625 \nQ 18.3125 48.734375 21.84375 45.5625 \nQ 25.390625 42.390625 31.78125 42.390625 \nQ 38.140625 42.390625 41.71875 45.5625 \nQ 45.3125 48.734375 45.3125 54.390625 \nQ 45.3125 60.0625 41.71875 63.234375 \nQ 38.140625 66.40625 31.78125 66.40625 \nQ 25.390625 66.40625 21.84375 63.234375 \nQ 18.3125 60.0625 18.3125 54.390625 \nz\n\" id=\"DejaVuSans-56\"/>\n      </defs>\n      <g transform=\"translate(13.5625 75.441865)scale(0.1 -0.1)\">\n       <use xlink:href=\"#DejaVuSans-56\"/>\n      </g>\n     </g>\n    </g>\n    <g id=\"ytick_6\">\n     <g id=\"line2d_12\">\n      <g>\n       <use style=\"stroke:#000000;stroke-width:0.8;\" x=\"26.925\" xlink:href=\"#m8c79682b95\" y=\"33.759196\"/>\n      </g>\n     </g>\n     <g id=\"text_12\">\n      <!-- 10 -->\n      <defs>\n       <path d=\"M 12.40625 8.296875 \nL 28.515625 8.296875 \nL 28.515625 63.921875 \nL 10.984375 60.40625 \nL 10.984375 69.390625 \nL 28.421875 72.90625 \nL 38.28125 72.90625 \nL 38.28125 8.296875 \nL 54.390625 8.296875 \nL 54.390625 0 \nL 12.40625 0 \nz\n\" id=\"DejaVuSans-49\"/>\n      </defs>\n      <g transform=\"translate(7.2 37.558415)scale(0.1 -0.1)\">\n       <use xlink:href=\"#DejaVuSans-49\"/>\n       <use x=\"63.623047\" xlink:href=\"#DejaVuSans-48\"/>\n      </g>\n     </g>\n    </g>\n   </g>\n   <g id=\"patch_3\">\n    <path d=\"M 26.925 224.64 \nL 26.925 7.2 \n\" style=\"fill:none;stroke:#000000;stroke-linecap:square;stroke-linejoin:miter;stroke-width:0.8;\"/>\n   </g>\n   <g id=\"patch_4\">\n    <path d=\"M 361.725 224.64 \nL 361.725 7.2 \n\" style=\"fill:none;stroke:#000000;stroke-linecap:square;stroke-linejoin:miter;stroke-width:0.8;\"/>\n   </g>\n   <g id=\"patch_5\">\n    <path d=\"M 26.925 224.64 \nL 361.725 224.64 \n\" style=\"fill:none;stroke:#000000;stroke-linecap:square;stroke-linejoin:miter;stroke-width:0.8;\"/>\n   </g>\n   <g id=\"patch_6\">\n    <path d=\"M 26.925 7.2 \nL 361.725 7.2 \n\" style=\"fill:none;stroke:#000000;stroke-linecap:square;stroke-linejoin:miter;stroke-width:0.8;\"/>\n   </g>\n  </g>\n </g>\n <defs>\n  <clipPath id=\"p1ccd39d5a4\">\n   <rect height=\"217.44\" width=\"334.8\" x=\"26.925\" y=\"7.2\"/>\n  </clipPath>\n </defs>\n</svg>\n",
      "image/png": "[encoded data removed]"
     },
     "metadata": {
      "needs_background": "light"
     }
    }
   ],
   "source": [
    "# Visualizing both classes\n",
    "plt.scatter(X[:, 0], X[:, 1], c=y)"
   ]
  },
  {
   "cell_type": "markdown",
   "metadata": {
    "slideshow": {
     "slide_type": "subslide"
    }
   },
   "source": [
    "Split our data into training and testing"
   ]
  },
  {
   "cell_type": "code",
   "execution_count": 4,
   "metadata": {
    "collapsed": true,
    "slideshow": {
     "slide_type": "fragment"
    }
   },
   "outputs": [],
   "source": [
    "from sklearn.model_selection import train_test_split\n",
    "\n",
    "X_train, X_test, y_train, y_test = train_test_split(X, y, random_state=1)"
   ]
  },
  {
   "cell_type": "markdown",
   "metadata": {
    "slideshow": {
     "slide_type": "subslide"
    }
   },
   "source": [
    "Create a Logistic Regression Model"
   ]
  },
  {
   "cell_type": "code",
   "execution_count": 5,
   "metadata": {
    "slideshow": {
     "slide_type": "fragment"
    }
   },
   "outputs": [
    {
     "data": {
      "text/plain": [
       "LogisticRegression(C=1.0, class_weight=None, dual=False, fit_intercept=True,\n",
       "          intercept_scaling=1, max_iter=100, multi_class='ovr', n_jobs=1,\n",
       "          penalty='l2', random_state=None, solver='liblinear', tol=0.0001,\n",
       "          verbose=0, warm_start=False)"
      ]
     },
     "execution_count": 5,
     "metadata": {},
     "output_type": "execute_result"
    }
   ],
   "source": [
    "from sklearn.linear_model import LogisticRegression\n",
    "classifier = LogisticRegression()\n",
    "classifier"
   ]
  },
  {
   "cell_type": "markdown",
   "metadata": {
    "slideshow": {
     "slide_type": "subslide"
    }
   },
   "source": [
    "Fit (train) or model using the training data"
   ]
  },
  {
   "cell_type": "code",
   "execution_count": 6,
   "metadata": {
    "slideshow": {
     "slide_type": "fragment"
    }
   },
   "outputs": [
    {
     "data": {
      "text/plain": [
       "LogisticRegression(C=1.0, class_weight=None, dual=False, fit_intercept=True,\n",
       "          intercept_scaling=1, max_iter=100, multi_class='ovr', n_jobs=1,\n",
       "          penalty='l2', random_state=None, solver='liblinear', tol=0.0001,\n",
       "          verbose=0, warm_start=False)"
      ]
     },
     "execution_count": 6,
     "metadata": {},
     "output_type": "execute_result"
    }
   ],
   "source": [
    "classifier.fit(X_train, y_train)"
   ]
  },
  {
   "cell_type": "markdown",
   "metadata": {
    "slideshow": {
     "slide_type": "subslide"
    }
   },
   "source": [
    "Validate the model using the test data"
   ]
  },
  {
   "cell_type": "code",
   "execution_count": 7,
   "metadata": {
    "slideshow": {
     "slide_type": "fragment"
    }
   },
   "outputs": [
    {
     "name": "stdout",
     "output_type": "stream",
     "text": [
      "Training Data Score: 1.0\n",
      "Testing Data Score: 1.0\n"
     ]
    }
   ],
   "source": [
    "print(f\"Training Data Score: {classifier.score(X_train, y_train)}\")\n",
    "print(f\"Testing Data Score: {classifier.score(X_test, y_test)}\")"
   ]
  },
  {
   "cell_type": "markdown",
   "metadata": {
    "slideshow": {
     "slide_type": "subslide"
    }
   },
   "source": [
    "Make predictions"
   ]
  },
  {
   "cell_type": "code",
   "execution_count": 8,
   "metadata": {},
   "outputs": [
    {
     "data": {
      "text/plain": [
       "<matplotlib.collections.PathCollection at 0x111ec3e10>"
      ]
     },
     "execution_count": 8,
     "metadata": {},
     "output_type": "execute_result"
    },
    {
     "data": {
      "image/png": "[encoded data removed]",
      "text/plain": [
       "<matplotlib.figure.Figure at 0x111e41b38>"
      ]
     },
     "metadata": {},
     "output_type": "display_data"
    }
   ],
   "source": [
    "# Generate a new data point (the red circle)\n",
    "import numpy as np\n",
    "new_data = np.array([[-2, 6]])\n",
    "plt.scatter(X[:, 0], X[:, 1], c=y)\n",
    "plt.scatter(new_data[0, 0], new_data[0, 1], c=\"r\", marker=\"o\", s=100)"
   ]
  },
  {
   "cell_type": "code",
   "execution_count": 9,
   "metadata": {
    "slideshow": {
     "slide_type": "fragment"
    }
   },
   "outputs": [
    {
     "name": "stdout",
     "output_type": "stream",
     "text": [
      "Classes are either 0 (purple) or 1 (yellow)\n",
      "The new point was classified as: [0]\n"
     ]
    }
   ],
   "source": [
    "# Predict the class (purple or yellow) of the new data point\n",
    "predictions = classifier.predict(new_data)\n",
    "print(\"Classes are either 0 (purple) or 1 (yellow)\")\n",
    "print(f\"The new point was classified as: {predictions}\")"
   ]
  },
  {
   "cell_type": "code",
   "execution_count": 10,
   "metadata": {
    "slideshow": {
     "slide_type": "subslide"
    }
   },
   "outputs": [
    {
     "data": {
      "text/html": [
       "<div>\n",
       "<style>\n",
       "    .dataframe thead tr:only-child th {\n",
       "        text-align: right;\n",
       "    }\n",
       "\n",
       "    .dataframe thead th {\n",
       "        text-align: left;\n",
       "    }\n",
       "\n",
       "    .dataframe tbody tr th {\n",
       "        vertical-align: top;\n",
       "    }\n",
       "</style>\n",
       "<table border=\"1\" class=\"dataframe\">\n",
       "  <thead>\n",
       "    <tr style=\"text-align: right;\">\n",
       "      <th></th>\n",
       "      <th>Actual</th>\n",
       "      <th>Prediction</th>\n",
       "    </tr>\n",
       "  </thead>\n",
       "  <tbody>\n",
       "    <tr>\n",
       "      <th>0</th>\n",
       "      <td>1</td>\n",
       "      <td>1</td>\n",
       "    </tr>\n",
       "    <tr>\n",
       "      <th>1</th>\n",
       "      <td>0</td>\n",
       "      <td>0</td>\n",
       "    </tr>\n",
       "    <tr>\n",
       "      <th>2</th>\n",
       "      <td>1</td>\n",
       "      <td>1</td>\n",
       "    </tr>\n",
       "    <tr>\n",
       "      <th>3</th>\n",
       "      <td>1</td>\n",
       "      <td>1</td>\n",
       "    </tr>\n",
       "    <tr>\n",
       "      <th>4</th>\n",
       "      <td>1</td>\n",
       "      <td>1</td>\n",
       "    </tr>\n",
       "    <tr>\n",
       "      <th>5</th>\n",
       "      <td>0</td>\n",
       "      <td>0</td>\n",
       "    </tr>\n",
       "    <tr>\n",
       "      <th>6</th>\n",
       "      <td>1</td>\n",
       "      <td>1</td>\n",
       "    </tr>\n",
       "    <tr>\n",
       "      <th>7</th>\n",
       "      <td>1</td>\n",
       "      <td>1</td>\n",
       "    </tr>\n",
       "    <tr>\n",
       "      <th>8</th>\n",
       "      <td>1</td>\n",
       "      <td>1</td>\n",
       "    </tr>\n",
       "    <tr>\n",
       "      <th>9</th>\n",
       "      <td>0</td>\n",
       "      <td>0</td>\n",
       "    </tr>\n",
       "    <tr>\n",
       "      <th>10</th>\n",
       "      <td>0</td>\n",
       "      <td>0</td>\n",
       "    </tr>\n",
       "    <tr>\n",
       "      <th>11</th>\n",
       "      <td>1</td>\n",
       "      <td>1</td>\n",
       "    </tr>\n",
       "    <tr>\n",
       "      <th>12</th>\n",
       "      <td>1</td>\n",
       "      <td>1</td>\n",
       "    </tr>\n",
       "    <tr>\n",
       "      <th>13</th>\n",
       "      <td>0</td>\n",
       "      <td>0</td>\n",
       "    </tr>\n",
       "    <tr>\n",
       "      <th>14</th>\n",
       "      <td>1</td>\n",
       "      <td>1</td>\n",
       "    </tr>\n",
       "    <tr>\n",
       "      <th>15</th>\n",
       "      <td>0</td>\n",
       "      <td>0</td>\n",
       "    </tr>\n",
       "    <tr>\n",
       "      <th>16</th>\n",
       "      <td>0</td>\n",
       "      <td>0</td>\n",
       "    </tr>\n",
       "    <tr>\n",
       "      <th>17</th>\n",
       "      <td>0</td>\n",
       "      <td>0</td>\n",
       "    </tr>\n",
       "    <tr>\n",
       "      <th>18</th>\n",
       "      <td>0</td>\n",
       "      <td>0</td>\n",
       "    </tr>\n",
       "    <tr>\n",
       "      <th>19</th>\n",
       "      <td>0</td>\n",
       "      <td>0</td>\n",
       "    </tr>\n",
       "    <tr>\n",
       "      <th>20</th>\n",
       "      <td>1</td>\n",
       "      <td>1</td>\n",
       "    </tr>\n",
       "    <tr>\n",
       "      <th>21</th>\n",
       "      <td>1</td>\n",
       "      <td>1</td>\n",
       "    </tr>\n",
       "    <tr>\n",
       "      <th>22</th>\n",
       "      <td>0</td>\n",
       "      <td>0</td>\n",
       "    </tr>\n",
       "    <tr>\n",
       "      <th>23</th>\n",
       "      <td>0</td>\n",
       "      <td>0</td>\n",
       "    </tr>\n",
       "    <tr>\n",
       "      <th>24</th>\n",
       "      <td>1</td>\n",
       "      <td>1</td>\n",
       "    </tr>\n",
       "  </tbody>\n",
       "</table>\n",
       "</div>"
      ],
      "text/plain": [
       "    Actual  Prediction\n",
       "0        1           1\n",
       "1        0           0\n",
       "2        1           1\n",
       "3        1           1\n",
       "4        1           1\n",
       "5        0           0\n",
       "6        1           1\n",
       "7        1           1\n",
       "8        1           1\n",
       "9        0           0\n",
       "10       0           0\n",
       "11       1           1\n",
       "12       1           1\n",
       "13       0           0\n",
       "14       1           1\n",
       "15       0           0\n",
       "16       0           0\n",
       "17       0           0\n",
       "18       0           0\n",
       "19       0           0\n",
       "20       1           1\n",
       "21       1           1\n",
       "22       0           0\n",
       "23       0           0\n",
       "24       1           1"
      ]
     },
     "execution_count": 10,
     "metadata": {},
     "output_type": "execute_result"
    }
   ],
   "source": [
    "predictions = classifier.predict(X_test)\n",
    "pd.DataFrame({\"Prediction\": predictions, \"Actual\": y_test})"
   ]
  }
 ],
 "metadata": {
  "celltoolbar": "Slideshow",
  "kernelspec": {
   "display_name": "Python 3",
   "language": "python",
   "name": "python3"
  },
  "language_info": {
   "codemirror_mode": {
    "name": "ipython",
    "version": 3
   },
   "file_extension": ".py",
   "mimetype": "text/x-python",
   "name": "python",
   "nbconvert_exporter": "python",
   "pygments_lexer": "ipython3",
   "version": "3.7.4"
  },
  "varInspector": {
   "cols": {
    "lenName": 16,
    "lenType": 16,
    "lenVar": 40
   },
   "kernels_config": {
    "python": {
     "delete_cmd_postfix": "",
     "delete_cmd_prefix": "del ",
     "library": "var_list.py",
     "varRefreshCmd": "print(var_dic_list())"
    },
    "r": {
     "delete_cmd_postfix": ") ",
     "delete_cmd_prefix": "rm(",
     "library": "var_list.r",
     "varRefreshCmd": "cat(var_dic_list()) "
    }
   },
   "types_to_exclude": [
    "module",
    "function",
    "builtin_function_or_method",
    "instance",
    "_Feature"
   ],
   "window_display": false
  }
 },
 "nbformat": 4,
 "nbformat_minor": 2
}